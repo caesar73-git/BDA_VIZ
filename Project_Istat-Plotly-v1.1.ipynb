{
 "cells": [
  {
   "cell_type": "markdown",
   "metadata": {},
   "source": [
    "# Analisi e visualizzazione dei dati del Lavoro in italia (1996-2018) (ISTAT)\n",
    "Il progetto consiste nell'analisi dei dati presenti sul sito <a href=\"https://www.kaggle.com\">Kaddle</a> e relativi alla condizione lavorativa in italia:\n",
    "<a href=\"https://www.kaggle.com/mpwolke/cusersmarildownloadspopolazionecsv\">Population by labour status - Italy</a>. <br>\n",
    "La fonte dei dati è ISTAT e si tratta delle rilevazioni fatte dal 1996 al secondo trimestre 2019.<br>\n",
    "Nello specifico l'attività condotta consiste in:\n",
    "1. Caricamento e prima esplorazione del Dataset\n",
    "2. Preparazione dei valori e data cleaning\n",
    "3. Rimozione delle features ridondanti\n",
    "4. Creazione di nuove feature e nuovi aggregati\n",
    "5. Reshaping del Dataframe \n",
    "6. Visualizzazione interattiva con Plotly, Plotly Express e Plotly Dash"
   ]
  },
  {
   "cell_type": "code",
   "execution_count": 1,
   "metadata": {
    "_cell_guid": "b1076dfc-b9ad-4769-8c92-a6c4dae69d19",
    "_uuid": "8f2839f25d086af736a60e9eeb907d3b93b6e0e5"
   },
   "outputs": [],
   "source": [
    "# This Python 3 environment comes with many helpful analytics libraries installed\n",
    "# It is defined by the kaggle/python Docker image: https://github.com/kaggle/docker-python\n",
    "# For example, here's several helpful packages to load\n",
    "\n",
    "%matplotlib inline\n",
    "import matplotlib as mpl\n",
    "import matplotlib.pyplot as plt\n",
    "import numpy as np # linear algebra\n",
    "import pandas as pd # data processing, CSV file I/O (e.g. pd.read_csv)\n",
    "pd.plotting.register_matplotlib_converters()\n",
    "import plotly.graph_objects as go\n",
    "import dash\n",
    "import dash_core_components as dcc\n",
    "import dash_html_components as html\n",
    "from dash.dependencies import Input, Output\n",
    "import plotly.express as px\n",
    "import plotly.io as pio\n",
    "from plotly.subplots import make_subplots\n",
    "\n",
    "#imposto il template di default di Plotly Express\n",
    "pio.templates.default = \"seaborn\"\n",
    "\n",
    "# Verifico la presenza del notebook nella cartella\n",
    "\n",
    "#import os\n",
    "#for dirname, _, filenames in os.walk('.'):\n",
    "#    for filename in filenames:\n",
    "#        print(os.path.join(dirname, filename))\n"
   ]
  },
  {
   "cell_type": "markdown",
   "metadata": {},
   "source": [
    "## Analisi esplorativa del DataFrame\n",
    "Carico il file \"popolazione.csv\" usando l'encoding corretto e il separatore \";\" e visualizzo le prime 5 righe del DataFrame.\n",
    "Dalla primissima analisi emerge che il dataset è ordinato ma presenta una formattazione anomala nella feature \"value\" che dovrebbe essere espressa in migliaia (cfr. \"tipo dato\"), ma presenta delle stringhe contenenti il punto (\".\") con significato ambiguo: sia come separatore dei decimali che delle migliaia."
   ]
  },
  {
   "cell_type": "code",
   "execution_count": 2,
   "metadata": {},
   "outputs": [
    {
     "data": {
      "text/html": [
       "<div>\n",
       "<style scoped>\n",
       "    .dataframe tbody tr th:only-of-type {\n",
       "        vertical-align: middle;\n",
       "    }\n",
       "\n",
       "    .dataframe tbody tr th {\n",
       "        vertical-align: top;\n",
       "    }\n",
       "\n",
       "    .dataframe thead th {\n",
       "        text-align: right;\n",
       "    }\n",
       "</style>\n",
       "<table border=\"1\" class=\"dataframe\">\n",
       "  <thead>\n",
       "    <tr style=\"text-align: right;\">\n",
       "      <th></th>\n",
       "      <th>itter107</th>\n",
       "      <th>territorio</th>\n",
       "      <th>tipo_dato_fol</th>\n",
       "      <th>tipo dato</th>\n",
       "      <th>sexistat1</th>\n",
       "      <th>sesso</th>\n",
       "      <th>eta1</th>\n",
       "      <th>classe di età</th>\n",
       "      <th>condizione_prof</th>\n",
       "      <th>condizione professionale</th>\n",
       "      <th>condizione_prof_eu</th>\n",
       "      <th>condizione professionale europea</th>\n",
       "      <th>time</th>\n",
       "      <th>seleziona periodo</th>\n",
       "      <th>value</th>\n",
       "    </tr>\n",
       "  </thead>\n",
       "  <tbody>\n",
       "    <tr>\n",
       "      <th>0</th>\n",
       "      <td>ITC1</td>\n",
       "      <td>Piemonte</td>\n",
       "      <td>POP</td>\n",
       "      <td>popolazione 0 anni e più (in migliaia)</td>\n",
       "      <td>2</td>\n",
       "      <td>femmine</td>\n",
       "      <td>Y15-74</td>\n",
       "      <td>15-74 anni</td>\n",
       "      <td>99</td>\n",
       "      <td>totale</td>\n",
       "      <td>TOT</td>\n",
       "      <td>totale</td>\n",
       "      <td>1996</td>\n",
       "      <td>1996</td>\n",
       "      <td>1.716.452</td>\n",
       "    </tr>\n",
       "    <tr>\n",
       "      <th>1</th>\n",
       "      <td>ITC1</td>\n",
       "      <td>Piemonte</td>\n",
       "      <td>POP</td>\n",
       "      <td>popolazione 0 anni e più (in migliaia)</td>\n",
       "      <td>2</td>\n",
       "      <td>femmine</td>\n",
       "      <td>Y15-74</td>\n",
       "      <td>15-74 anni</td>\n",
       "      <td>99</td>\n",
       "      <td>totale</td>\n",
       "      <td>TOT</td>\n",
       "      <td>totale</td>\n",
       "      <td>1996-Q2</td>\n",
       "      <td>T2-1996</td>\n",
       "      <td>1.717.624</td>\n",
       "    </tr>\n",
       "    <tr>\n",
       "      <th>2</th>\n",
       "      <td>ITC1</td>\n",
       "      <td>Piemonte</td>\n",
       "      <td>POP</td>\n",
       "      <td>popolazione 0 anni e più (in migliaia)</td>\n",
       "      <td>2</td>\n",
       "      <td>femmine</td>\n",
       "      <td>Y15-74</td>\n",
       "      <td>15-74 anni</td>\n",
       "      <td>99</td>\n",
       "      <td>totale</td>\n",
       "      <td>TOT</td>\n",
       "      <td>totale</td>\n",
       "      <td>1996-Q1</td>\n",
       "      <td>T1-1996</td>\n",
       "      <td>1.719.434</td>\n",
       "    </tr>\n",
       "    <tr>\n",
       "      <th>3</th>\n",
       "      <td>ITC1</td>\n",
       "      <td>Piemonte</td>\n",
       "      <td>POP</td>\n",
       "      <td>popolazione 0 anni e più (in migliaia)</td>\n",
       "      <td>2</td>\n",
       "      <td>femmine</td>\n",
       "      <td>Y15-74</td>\n",
       "      <td>15-74 anni</td>\n",
       "      <td>99</td>\n",
       "      <td>totale</td>\n",
       "      <td>TOT</td>\n",
       "      <td>totale</td>\n",
       "      <td>1996-Q4</td>\n",
       "      <td>T4-1996</td>\n",
       "      <td>1713.29</td>\n",
       "    </tr>\n",
       "    <tr>\n",
       "      <th>4</th>\n",
       "      <td>ITC1</td>\n",
       "      <td>Piemonte</td>\n",
       "      <td>POP</td>\n",
       "      <td>popolazione 0 anni e più (in migliaia)</td>\n",
       "      <td>2</td>\n",
       "      <td>femmine</td>\n",
       "      <td>Y15-74</td>\n",
       "      <td>15-74 anni</td>\n",
       "      <td>99</td>\n",
       "      <td>totale</td>\n",
       "      <td>TOT</td>\n",
       "      <td>totale</td>\n",
       "      <td>1996-Q3</td>\n",
       "      <td>T3-1996</td>\n",
       "      <td>1.715.458</td>\n",
       "    </tr>\n",
       "  </tbody>\n",
       "</table>\n",
       "</div>"
      ],
      "text/plain": [
       "  itter107 territorio tipo_dato_fol                               tipo dato  \\\n",
       "0     ITC1   Piemonte           POP  popolazione 0 anni e più (in migliaia)   \n",
       "1     ITC1   Piemonte           POP  popolazione 0 anni e più (in migliaia)   \n",
       "2     ITC1   Piemonte           POP  popolazione 0 anni e più (in migliaia)   \n",
       "3     ITC1   Piemonte           POP  popolazione 0 anni e più (in migliaia)   \n",
       "4     ITC1   Piemonte           POP  popolazione 0 anni e più (in migliaia)   \n",
       "\n",
       "   sexistat1    sesso    eta1 classe di età condizione_prof  \\\n",
       "0          2  femmine  Y15-74    15-74 anni              99   \n",
       "1          2  femmine  Y15-74    15-74 anni              99   \n",
       "2          2  femmine  Y15-74    15-74 anni              99   \n",
       "3          2  femmine  Y15-74    15-74 anni              99   \n",
       "4          2  femmine  Y15-74    15-74 anni              99   \n",
       "\n",
       "  condizione professionale condizione_prof_eu  \\\n",
       "0                   totale                TOT   \n",
       "1                   totale                TOT   \n",
       "2                   totale                TOT   \n",
       "3                   totale                TOT   \n",
       "4                   totale                TOT   \n",
       "\n",
       "  condizione professionale europea     time seleziona periodo      value  \n",
       "0                           totale     1996              1996  1.716.452  \n",
       "1                           totale  1996-Q2           T2-1996  1.717.624  \n",
       "2                           totale  1996-Q1           T1-1996  1.719.434  \n",
       "3                           totale  1996-Q4           T4-1996    1713.29  \n",
       "4                           totale  1996-Q3           T3-1996  1.715.458  "
      ]
     },
     "execution_count": 2,
     "metadata": {},
     "output_type": "execute_result"
    }
   ],
   "source": [
    "df = pd.read_csv('popolazione_orig.csv', encoding='cp1252', sep=';', decimal='.')\n",
    "df.head(5)"
   ]
  },
  {
   "cell_type": "markdown",
   "metadata": {},
   "source": [
    "A ulteriore verifica faccio un controlllo delle features numeriche e dei valori nulli:"
   ]
  },
  {
   "cell_type": "code",
   "execution_count": 3,
   "metadata": {},
   "outputs": [
    {
     "data": {
      "text/html": [
       "<div>\n",
       "<style scoped>\n",
       "    .dataframe tbody tr th:only-of-type {\n",
       "        vertical-align: middle;\n",
       "    }\n",
       "\n",
       "    .dataframe tbody tr th {\n",
       "        vertical-align: top;\n",
       "    }\n",
       "\n",
       "    .dataframe thead th {\n",
       "        text-align: right;\n",
       "    }\n",
       "</style>\n",
       "<table border=\"1\" class=\"dataframe\">\n",
       "  <thead>\n",
       "    <tr style=\"text-align: right;\">\n",
       "      <th></th>\n",
       "      <th>sexistat1</th>\n",
       "    </tr>\n",
       "  </thead>\n",
       "  <tbody>\n",
       "    <tr>\n",
       "      <th>count</th>\n",
       "      <td>267234.000000</td>\n",
       "    </tr>\n",
       "    <tr>\n",
       "      <th>mean</th>\n",
       "      <td>4.000000</td>\n",
       "    </tr>\n",
       "    <tr>\n",
       "      <th>std</th>\n",
       "      <td>3.559033</td>\n",
       "    </tr>\n",
       "    <tr>\n",
       "      <th>min</th>\n",
       "      <td>1.000000</td>\n",
       "    </tr>\n",
       "    <tr>\n",
       "      <th>25%</th>\n",
       "      <td>1.000000</td>\n",
       "    </tr>\n",
       "    <tr>\n",
       "      <th>50%</th>\n",
       "      <td>2.000000</td>\n",
       "    </tr>\n",
       "    <tr>\n",
       "      <th>75%</th>\n",
       "      <td>9.000000</td>\n",
       "    </tr>\n",
       "    <tr>\n",
       "      <th>max</th>\n",
       "      <td>9.000000</td>\n",
       "    </tr>\n",
       "  </tbody>\n",
       "</table>\n",
       "</div>"
      ],
      "text/plain": [
       "           sexistat1\n",
       "count  267234.000000\n",
       "mean        4.000000\n",
       "std         3.559033\n",
       "min         1.000000\n",
       "25%         1.000000\n",
       "50%         2.000000\n",
       "75%         9.000000\n",
       "max         9.000000"
      ]
     },
     "execution_count": 3,
     "metadata": {},
     "output_type": "execute_result"
    }
   ],
   "source": [
    "df.describe()"
   ]
  },
  {
   "cell_type": "code",
   "execution_count": 4,
   "metadata": {},
   "outputs": [
    {
     "data": {
      "text/plain": [
       "itter107                            0\n",
       "territorio                          0\n",
       "tipo_dato_fol                       0\n",
       "tipo dato                           0\n",
       "sexistat1                           0\n",
       "sesso                               0\n",
       "eta1                                0\n",
       "classe di età                       0\n",
       "condizione_prof                     0\n",
       "condizione professionale            0\n",
       "condizione_prof_eu                  0\n",
       "condizione professionale europea    0\n",
       "time                                0\n",
       "seleziona periodo                   0\n",
       "value                               0\n",
       "dtype: int64"
      ]
     },
     "execution_count": 4,
     "metadata": {},
     "output_type": "execute_result"
    }
   ],
   "source": [
    "df.isnull().sum()"
   ]
  },
  {
   "cell_type": "markdown",
   "metadata": {},
   "source": [
    "Al momento l'unica feature numerica è relativa al codice Istat che rappresenta il sesso, non ci sono valori nulli.<br>\n",
    "Verifico l'omgeneità rispetto alla feature \"Territorio\":"
   ]
  },
  {
   "cell_type": "code",
   "execution_count": 5,
   "metadata": {},
   "outputs": [
    {
     "data": {
      "text/plain": [
       "Provincia Autonoma Trento             12147\n",
       "Calabria                              12147\n",
       "Sicilia                               12147\n",
       "Friuli-Venezia Giulia                 12147\n",
       "Puglia                                12147\n",
       "Marche                                12147\n",
       "Campania                              12147\n",
       "Umbria                                12147\n",
       "Molise                                12147\n",
       "Provincia Autonoma Bolzano / Bozen    12147\n",
       "Lombardia                             12147\n",
       "Liguria                               12147\n",
       "Emilia-Romagna                        12147\n",
       "Piemonte                              12147\n",
       "Basilicata                            12147\n",
       "Lazio                                 12147\n",
       "Veneto                                12147\n",
       "Toscana                               12147\n",
       "Sardegna                              12147\n",
       "Valle d'Aosta / Vallée d'Aoste        12147\n",
       "Trentino Alto Adige / Südtirol        12147\n",
       "Abruzzo                               12147\n",
       "Name: territorio, dtype: int64"
      ]
     },
     "execution_count": 5,
     "metadata": {},
     "output_type": "execute_result"
    }
   ],
   "source": [
    "df['territorio'].value_counts()"
   ]
  },
  {
   "cell_type": "markdown",
   "metadata": {},
   "source": [
    "Di seguito 20 righe della feature \"value\", che evidenziano il problema di formattazione:"
   ]
  },
  {
   "cell_type": "code",
   "execution_count": 6,
   "metadata": {},
   "outputs": [
    {
     "data": {
      "text/plain": [
       "20    1.681.456\n",
       "21    1.682.779\n",
       "22       1684.7\n",
       "23    1.677.971\n",
       "24    1.680.374\n",
       "25      1671.87\n",
       "26    1.675.566\n",
       "27    1.673.528\n",
       "28    1.667.747\n",
       "29    1.670.638\n",
       "30    1.662.925\n",
       "31      1663.52\n",
       "32    1.664.856\n",
       "33    1.661.069\n",
       "34    1.662.256\n",
       "35    1.661.071\n",
       "36      1659.89\n",
       "37    1.659.148\n",
       "38    1.664.027\n",
       "39    1.661.217\n",
       "Name: value, dtype: object"
      ]
     },
     "execution_count": 6,
     "metadata": {},
     "output_type": "execute_result"
    }
   ],
   "source": [
    "df.value[20:40]"
   ]
  },
  {
   "cell_type": "markdown",
   "metadata": {},
   "source": [
    "<b>[-->]</b>La feature \"Value\" contiene valori disomogenei e non numeri decimali come ci si aspetterebbe (si tratta di valori espressi in migliaia), vi sono infatti valori espressi col primo punto come separatore delle migliaia e un secondo punto come separatore dei decimali."
   ]
  },
  {
   "cell_type": "markdown",
   "metadata": {},
   "source": [
    "### Esplorazione della condizione professionale\n",
    "Inizio l'esplorazione delle diverse feature relative alla condizione professionale, per fare questo filtro i dati per regione, anno, classe di età e sesso al fine di ottenere una rilevazione significativa di tutte le rilevazioni relative alla condizione professionale. Il dataset infatti presenta 2 diverse classificazioni con relative codifiche che fanno riferimento alla \"condizione professionale\" e alla \"condizione professionale europea\"."
   ]
  },
  {
   "cell_type": "code",
   "execution_count": 7,
   "metadata": {},
   "outputs": [
    {
     "data": {
      "text/plain": [
       "Index(['disoccupati', 'forze lavoro', 'inattivi',\n",
       "       'non cercano e non disponibili a lavorare', 'occupati', 'totale',\n",
       "       'zona grigia dell'inattività'],\n",
       "      dtype='object')"
      ]
     },
     "execution_count": 7,
     "metadata": {},
     "output_type": "execute_result"
    }
   ],
   "source": [
    "df['condizione professionale'].astype('category').cat.categories"
   ]
  },
  {
   "cell_type": "code",
   "execution_count": 8,
   "metadata": {},
   "outputs": [
    {
     "data": {
      "text/html": [
       "<div>\n",
       "<style scoped>\n",
       "    .dataframe tbody tr th:only-of-type {\n",
       "        vertical-align: middle;\n",
       "    }\n",
       "\n",
       "    .dataframe tbody tr th {\n",
       "        vertical-align: top;\n",
       "    }\n",
       "\n",
       "    .dataframe thead th {\n",
       "        text-align: right;\n",
       "    }\n",
       "</style>\n",
       "<table border=\"1\" class=\"dataframe\">\n",
       "  <thead>\n",
       "    <tr style=\"text-align: right;\">\n",
       "      <th></th>\n",
       "      <th>itter107</th>\n",
       "      <th>territorio</th>\n",
       "      <th>tipo_dato_fol</th>\n",
       "      <th>tipo dato</th>\n",
       "      <th>sexistat1</th>\n",
       "      <th>sesso</th>\n",
       "      <th>eta1</th>\n",
       "      <th>classe di età</th>\n",
       "      <th>condizione_prof</th>\n",
       "      <th>condizione professionale</th>\n",
       "      <th>condizione_prof_eu</th>\n",
       "      <th>condizione professionale europea</th>\n",
       "      <th>time</th>\n",
       "      <th>seleziona periodo</th>\n",
       "      <th>value</th>\n",
       "    </tr>\n",
       "  </thead>\n",
       "  <tbody>\n",
       "    <tr>\n",
       "      <th>89592</th>\n",
       "      <td>ITG2</td>\n",
       "      <td>Sardegna</td>\n",
       "      <td>POP</td>\n",
       "      <td>popolazione 0 anni e più (in migliaia)</td>\n",
       "      <td>9</td>\n",
       "      <td>totale</td>\n",
       "      <td>Y15-64</td>\n",
       "      <td>15-64 anni</td>\n",
       "      <td>99</td>\n",
       "      <td>totale</td>\n",
       "      <td>UNEM</td>\n",
       "      <td>disoccupati</td>\n",
       "      <td>2012</td>\n",
       "      <td>2012</td>\n",
       "      <td>106.792</td>\n",
       "    </tr>\n",
       "    <tr>\n",
       "      <th>107706</th>\n",
       "      <td>ITG2</td>\n",
       "      <td>Sardegna</td>\n",
       "      <td>POP</td>\n",
       "      <td>popolazione 0 anni e più (in migliaia)</td>\n",
       "      <td>9</td>\n",
       "      <td>totale</td>\n",
       "      <td>Y15-64</td>\n",
       "      <td>15-64 anni</td>\n",
       "      <td>2</td>\n",
       "      <td>disoccupati</td>\n",
       "      <td>TOT</td>\n",
       "      <td>totale</td>\n",
       "      <td>2012</td>\n",
       "      <td>2012</td>\n",
       "      <td>106.792</td>\n",
       "    </tr>\n",
       "    <tr>\n",
       "      <th>125343</th>\n",
       "      <td>ITG2</td>\n",
       "      <td>Sardegna</td>\n",
       "      <td>POP</td>\n",
       "      <td>popolazione 0 anni e più (in migliaia)</td>\n",
       "      <td>9</td>\n",
       "      <td>totale</td>\n",
       "      <td>Y15-64</td>\n",
       "      <td>15-64 anni</td>\n",
       "      <td>99</td>\n",
       "      <td>totale</td>\n",
       "      <td>TOTIN</td>\n",
       "      <td>totale inattivi</td>\n",
       "      <td>2012</td>\n",
       "      <td>2012</td>\n",
       "      <td>432.788</td>\n",
       "    </tr>\n",
       "    <tr>\n",
       "      <th>160543</th>\n",
       "      <td>ITG2</td>\n",
       "      <td>Sardegna</td>\n",
       "      <td>POP</td>\n",
       "      <td>popolazione 0 anni e più (in migliaia)</td>\n",
       "      <td>9</td>\n",
       "      <td>totale</td>\n",
       "      <td>Y15-64</td>\n",
       "      <td>15-64 anni</td>\n",
       "      <td>1_2</td>\n",
       "      <td>forze lavoro</td>\n",
       "      <td>TOT</td>\n",
       "      <td>totale</td>\n",
       "      <td>2012</td>\n",
       "      <td>2012</td>\n",
       "      <td>684.656</td>\n",
       "    </tr>\n",
       "    <tr>\n",
       "      <th>209975</th>\n",
       "      <td>ITG2</td>\n",
       "      <td>Sardegna</td>\n",
       "      <td>POP</td>\n",
       "      <td>popolazione 0 anni e più (in migliaia)</td>\n",
       "      <td>9</td>\n",
       "      <td>totale</td>\n",
       "      <td>Y15-64</td>\n",
       "      <td>15-64 anni</td>\n",
       "      <td>99</td>\n",
       "      <td>totale</td>\n",
       "      <td>TOT</td>\n",
       "      <td>totale</td>\n",
       "      <td>2012</td>\n",
       "      <td>2012</td>\n",
       "      <td>1.117.444</td>\n",
       "    </tr>\n",
       "    <tr>\n",
       "      <th>230765</th>\n",
       "      <td>ITG2</td>\n",
       "      <td>Sardegna</td>\n",
       "      <td>POP</td>\n",
       "      <td>popolazione 0 anni e più (in migliaia)</td>\n",
       "      <td>9</td>\n",
       "      <td>totale</td>\n",
       "      <td>Y15-64</td>\n",
       "      <td>15-64 anni</td>\n",
       "      <td>99</td>\n",
       "      <td>totale</td>\n",
       "      <td>LF</td>\n",
       "      <td>forze lavoro</td>\n",
       "      <td>2012</td>\n",
       "      <td>2012</td>\n",
       "      <td>684.656</td>\n",
       "    </tr>\n",
       "    <tr>\n",
       "      <th>232871</th>\n",
       "      <td>ITG2</td>\n",
       "      <td>Sardegna</td>\n",
       "      <td>POP</td>\n",
       "      <td>popolazione 0 anni e più (in migliaia)</td>\n",
       "      <td>9</td>\n",
       "      <td>totale</td>\n",
       "      <td>Y15-64</td>\n",
       "      <td>15-64 anni</td>\n",
       "      <td>3_4</td>\n",
       "      <td>inattivi</td>\n",
       "      <td>TOT</td>\n",
       "      <td>totale</td>\n",
       "      <td>2012</td>\n",
       "      <td>2012</td>\n",
       "      <td>432.788</td>\n",
       "    </tr>\n",
       "    <tr>\n",
       "      <th>234112</th>\n",
       "      <td>ITG2</td>\n",
       "      <td>Sardegna</td>\n",
       "      <td>POP</td>\n",
       "      <td>popolazione 0 anni e più (in migliaia)</td>\n",
       "      <td>9</td>\n",
       "      <td>totale</td>\n",
       "      <td>Y15-64</td>\n",
       "      <td>15-64 anni</td>\n",
       "      <td>3A_3B_3C</td>\n",
       "      <td>zona grigia dell'inattività</td>\n",
       "      <td>TOT</td>\n",
       "      <td>totale</td>\n",
       "      <td>2012</td>\n",
       "      <td>2012</td>\n",
       "      <td>121.814</td>\n",
       "    </tr>\n",
       "    <tr>\n",
       "      <th>243014</th>\n",
       "      <td>ITG2</td>\n",
       "      <td>Sardegna</td>\n",
       "      <td>POP</td>\n",
       "      <td>popolazione 0 anni e più (in migliaia)</td>\n",
       "      <td>9</td>\n",
       "      <td>totale</td>\n",
       "      <td>Y15-64</td>\n",
       "      <td>15-64 anni</td>\n",
       "      <td>3D</td>\n",
       "      <td>non cercano e non disponibili a lavorare</td>\n",
       "      <td>TOT</td>\n",
       "      <td>totale</td>\n",
       "      <td>2012</td>\n",
       "      <td>2012</td>\n",
       "      <td>310.974</td>\n",
       "    </tr>\n",
       "    <tr>\n",
       "      <th>245499</th>\n",
       "      <td>ITG2</td>\n",
       "      <td>Sardegna</td>\n",
       "      <td>POP</td>\n",
       "      <td>popolazione 0 anni e più (in migliaia)</td>\n",
       "      <td>9</td>\n",
       "      <td>totale</td>\n",
       "      <td>Y15-64</td>\n",
       "      <td>15-64 anni</td>\n",
       "      <td>99</td>\n",
       "      <td>totale</td>\n",
       "      <td>EMP</td>\n",
       "      <td>occupati</td>\n",
       "      <td>2012</td>\n",
       "      <td>2012</td>\n",
       "      <td>577.864</td>\n",
       "    </tr>\n",
       "    <tr>\n",
       "      <th>267080</th>\n",
       "      <td>ITG2</td>\n",
       "      <td>Sardegna</td>\n",
       "      <td>POP</td>\n",
       "      <td>popolazione 0 anni e più (in migliaia)</td>\n",
       "      <td>9</td>\n",
       "      <td>totale</td>\n",
       "      <td>Y15-64</td>\n",
       "      <td>15-64 anni</td>\n",
       "      <td>1</td>\n",
       "      <td>occupati</td>\n",
       "      <td>TOT</td>\n",
       "      <td>totale</td>\n",
       "      <td>2012</td>\n",
       "      <td>2012</td>\n",
       "      <td>577.864</td>\n",
       "    </tr>\n",
       "  </tbody>\n",
       "</table>\n",
       "</div>"
      ],
      "text/plain": [
       "       itter107 territorio tipo_dato_fol  \\\n",
       "89592      ITG2   Sardegna           POP   \n",
       "107706     ITG2   Sardegna           POP   \n",
       "125343     ITG2   Sardegna           POP   \n",
       "160543     ITG2   Sardegna           POP   \n",
       "209975     ITG2   Sardegna           POP   \n",
       "230765     ITG2   Sardegna           POP   \n",
       "232871     ITG2   Sardegna           POP   \n",
       "234112     ITG2   Sardegna           POP   \n",
       "243014     ITG2   Sardegna           POP   \n",
       "245499     ITG2   Sardegna           POP   \n",
       "267080     ITG2   Sardegna           POP   \n",
       "\n",
       "                                     tipo dato  sexistat1   sesso    eta1  \\\n",
       "89592   popolazione 0 anni e più (in migliaia)          9  totale  Y15-64   \n",
       "107706  popolazione 0 anni e più (in migliaia)          9  totale  Y15-64   \n",
       "125343  popolazione 0 anni e più (in migliaia)          9  totale  Y15-64   \n",
       "160543  popolazione 0 anni e più (in migliaia)          9  totale  Y15-64   \n",
       "209975  popolazione 0 anni e più (in migliaia)          9  totale  Y15-64   \n",
       "230765  popolazione 0 anni e più (in migliaia)          9  totale  Y15-64   \n",
       "232871  popolazione 0 anni e più (in migliaia)          9  totale  Y15-64   \n",
       "234112  popolazione 0 anni e più (in migliaia)          9  totale  Y15-64   \n",
       "243014  popolazione 0 anni e più (in migliaia)          9  totale  Y15-64   \n",
       "245499  popolazione 0 anni e più (in migliaia)          9  totale  Y15-64   \n",
       "267080  popolazione 0 anni e più (in migliaia)          9  totale  Y15-64   \n",
       "\n",
       "       classe di età condizione_prof  \\\n",
       "89592     15-64 anni              99   \n",
       "107706    15-64 anni               2   \n",
       "125343    15-64 anni              99   \n",
       "160543    15-64 anni             1_2   \n",
       "209975    15-64 anni              99   \n",
       "230765    15-64 anni              99   \n",
       "232871    15-64 anni             3_4   \n",
       "234112    15-64 anni        3A_3B_3C   \n",
       "243014    15-64 anni              3D   \n",
       "245499    15-64 anni              99   \n",
       "267080    15-64 anni               1   \n",
       "\n",
       "                        condizione professionale condizione_prof_eu  \\\n",
       "89592                                     totale               UNEM   \n",
       "107706                               disoccupati                TOT   \n",
       "125343                                    totale              TOTIN   \n",
       "160543                              forze lavoro                TOT   \n",
       "209975                                    totale                TOT   \n",
       "230765                                    totale                 LF   \n",
       "232871                                  inattivi                TOT   \n",
       "234112               zona grigia dell'inattività                TOT   \n",
       "243014  non cercano e non disponibili a lavorare                TOT   \n",
       "245499                                    totale                EMP   \n",
       "267080                                  occupati                TOT   \n",
       "\n",
       "       condizione professionale europea  time seleziona periodo      value  \n",
       "89592                       disoccupati  2012              2012    106.792  \n",
       "107706                           totale  2012              2012    106.792  \n",
       "125343                  totale inattivi  2012              2012    432.788  \n",
       "160543                           totale  2012              2012    684.656  \n",
       "209975                           totale  2012              2012  1.117.444  \n",
       "230765                     forze lavoro  2012              2012    684.656  \n",
       "232871                           totale  2012              2012    432.788  \n",
       "234112                           totale  2012              2012    121.814  \n",
       "243014                           totale  2012              2012    310.974  \n",
       "245499                         occupati  2012              2012    577.864  \n",
       "267080                           totale  2012              2012    577.864  "
      ]
     },
     "execution_count": 8,
     "metadata": {},
     "output_type": "execute_result"
    }
   ],
   "source": [
    "df_once = df[(df.territorio == 'Sardegna') & (df['time'] == '2012') \n",
    "             & (df['classe di età'] == '15-64 anni') \n",
    "             & (df['sesso'] == 'totale')]\n",
    "df_once"
   ]
  },
  {
   "cell_type": "code",
   "execution_count": 9,
   "metadata": {},
   "outputs": [
    {
     "data": {
      "text/html": [
       "<div>\n",
       "<style scoped>\n",
       "    .dataframe tbody tr th:only-of-type {\n",
       "        vertical-align: middle;\n",
       "    }\n",
       "\n",
       "    .dataframe tbody tr th {\n",
       "        vertical-align: top;\n",
       "    }\n",
       "\n",
       "    .dataframe thead th {\n",
       "        text-align: right;\n",
       "    }\n",
       "</style>\n",
       "<table border=\"1\" class=\"dataframe\">\n",
       "  <thead>\n",
       "    <tr style=\"text-align: right;\">\n",
       "      <th></th>\n",
       "      <th>itter107</th>\n",
       "      <th>territorio</th>\n",
       "      <th>tipo_dato_fol</th>\n",
       "      <th>tipo dato</th>\n",
       "      <th>sexistat1</th>\n",
       "      <th>sesso</th>\n",
       "      <th>eta1</th>\n",
       "      <th>classe di età</th>\n",
       "      <th>condizione_prof</th>\n",
       "      <th>condizione professionale</th>\n",
       "      <th>condizione_prof_eu</th>\n",
       "      <th>condizione professionale europea</th>\n",
       "      <th>time</th>\n",
       "      <th>seleziona periodo</th>\n",
       "      <th>value</th>\n",
       "    </tr>\n",
       "  </thead>\n",
       "  <tbody>\n",
       "    <tr>\n",
       "      <th>107706</th>\n",
       "      <td>ITG2</td>\n",
       "      <td>Sardegna</td>\n",
       "      <td>POP</td>\n",
       "      <td>popolazione 0 anni e più (in migliaia)</td>\n",
       "      <td>9</td>\n",
       "      <td>totale</td>\n",
       "      <td>Y15-64</td>\n",
       "      <td>15-64 anni</td>\n",
       "      <td>2</td>\n",
       "      <td>disoccupati</td>\n",
       "      <td>TOT</td>\n",
       "      <td>totale</td>\n",
       "      <td>2012</td>\n",
       "      <td>2012</td>\n",
       "      <td>106.792</td>\n",
       "    </tr>\n",
       "    <tr>\n",
       "      <th>160543</th>\n",
       "      <td>ITG2</td>\n",
       "      <td>Sardegna</td>\n",
       "      <td>POP</td>\n",
       "      <td>popolazione 0 anni e più (in migliaia)</td>\n",
       "      <td>9</td>\n",
       "      <td>totale</td>\n",
       "      <td>Y15-64</td>\n",
       "      <td>15-64 anni</td>\n",
       "      <td>1_2</td>\n",
       "      <td>forze lavoro</td>\n",
       "      <td>TOT</td>\n",
       "      <td>totale</td>\n",
       "      <td>2012</td>\n",
       "      <td>2012</td>\n",
       "      <td>684.656</td>\n",
       "    </tr>\n",
       "    <tr>\n",
       "      <th>209975</th>\n",
       "      <td>ITG2</td>\n",
       "      <td>Sardegna</td>\n",
       "      <td>POP</td>\n",
       "      <td>popolazione 0 anni e più (in migliaia)</td>\n",
       "      <td>9</td>\n",
       "      <td>totale</td>\n",
       "      <td>Y15-64</td>\n",
       "      <td>15-64 anni</td>\n",
       "      <td>99</td>\n",
       "      <td>totale</td>\n",
       "      <td>TOT</td>\n",
       "      <td>totale</td>\n",
       "      <td>2012</td>\n",
       "      <td>2012</td>\n",
       "      <td>1.117.444</td>\n",
       "    </tr>\n",
       "    <tr>\n",
       "      <th>232871</th>\n",
       "      <td>ITG2</td>\n",
       "      <td>Sardegna</td>\n",
       "      <td>POP</td>\n",
       "      <td>popolazione 0 anni e più (in migliaia)</td>\n",
       "      <td>9</td>\n",
       "      <td>totale</td>\n",
       "      <td>Y15-64</td>\n",
       "      <td>15-64 anni</td>\n",
       "      <td>3_4</td>\n",
       "      <td>inattivi</td>\n",
       "      <td>TOT</td>\n",
       "      <td>totale</td>\n",
       "      <td>2012</td>\n",
       "      <td>2012</td>\n",
       "      <td>432.788</td>\n",
       "    </tr>\n",
       "    <tr>\n",
       "      <th>234112</th>\n",
       "      <td>ITG2</td>\n",
       "      <td>Sardegna</td>\n",
       "      <td>POP</td>\n",
       "      <td>popolazione 0 anni e più (in migliaia)</td>\n",
       "      <td>9</td>\n",
       "      <td>totale</td>\n",
       "      <td>Y15-64</td>\n",
       "      <td>15-64 anni</td>\n",
       "      <td>3A_3B_3C</td>\n",
       "      <td>zona grigia dell'inattività</td>\n",
       "      <td>TOT</td>\n",
       "      <td>totale</td>\n",
       "      <td>2012</td>\n",
       "      <td>2012</td>\n",
       "      <td>121.814</td>\n",
       "    </tr>\n",
       "    <tr>\n",
       "      <th>243014</th>\n",
       "      <td>ITG2</td>\n",
       "      <td>Sardegna</td>\n",
       "      <td>POP</td>\n",
       "      <td>popolazione 0 anni e più (in migliaia)</td>\n",
       "      <td>9</td>\n",
       "      <td>totale</td>\n",
       "      <td>Y15-64</td>\n",
       "      <td>15-64 anni</td>\n",
       "      <td>3D</td>\n",
       "      <td>non cercano e non disponibili a lavorare</td>\n",
       "      <td>TOT</td>\n",
       "      <td>totale</td>\n",
       "      <td>2012</td>\n",
       "      <td>2012</td>\n",
       "      <td>310.974</td>\n",
       "    </tr>\n",
       "    <tr>\n",
       "      <th>267080</th>\n",
       "      <td>ITG2</td>\n",
       "      <td>Sardegna</td>\n",
       "      <td>POP</td>\n",
       "      <td>popolazione 0 anni e più (in migliaia)</td>\n",
       "      <td>9</td>\n",
       "      <td>totale</td>\n",
       "      <td>Y15-64</td>\n",
       "      <td>15-64 anni</td>\n",
       "      <td>1</td>\n",
       "      <td>occupati</td>\n",
       "      <td>TOT</td>\n",
       "      <td>totale</td>\n",
       "      <td>2012</td>\n",
       "      <td>2012</td>\n",
       "      <td>577.864</td>\n",
       "    </tr>\n",
       "  </tbody>\n",
       "</table>\n",
       "</div>"
      ],
      "text/plain": [
       "       itter107 territorio tipo_dato_fol  \\\n",
       "107706     ITG2   Sardegna           POP   \n",
       "160543     ITG2   Sardegna           POP   \n",
       "209975     ITG2   Sardegna           POP   \n",
       "232871     ITG2   Sardegna           POP   \n",
       "234112     ITG2   Sardegna           POP   \n",
       "243014     ITG2   Sardegna           POP   \n",
       "267080     ITG2   Sardegna           POP   \n",
       "\n",
       "                                     tipo dato  sexistat1   sesso    eta1  \\\n",
       "107706  popolazione 0 anni e più (in migliaia)          9  totale  Y15-64   \n",
       "160543  popolazione 0 anni e più (in migliaia)          9  totale  Y15-64   \n",
       "209975  popolazione 0 anni e più (in migliaia)          9  totale  Y15-64   \n",
       "232871  popolazione 0 anni e più (in migliaia)          9  totale  Y15-64   \n",
       "234112  popolazione 0 anni e più (in migliaia)          9  totale  Y15-64   \n",
       "243014  popolazione 0 anni e più (in migliaia)          9  totale  Y15-64   \n",
       "267080  popolazione 0 anni e più (in migliaia)          9  totale  Y15-64   \n",
       "\n",
       "       classe di età condizione_prof  \\\n",
       "107706    15-64 anni               2   \n",
       "160543    15-64 anni             1_2   \n",
       "209975    15-64 anni              99   \n",
       "232871    15-64 anni             3_4   \n",
       "234112    15-64 anni        3A_3B_3C   \n",
       "243014    15-64 anni              3D   \n",
       "267080    15-64 anni               1   \n",
       "\n",
       "                        condizione professionale condizione_prof_eu  \\\n",
       "107706                               disoccupati                TOT   \n",
       "160543                              forze lavoro                TOT   \n",
       "209975                                    totale                TOT   \n",
       "232871                                  inattivi                TOT   \n",
       "234112               zona grigia dell'inattività                TOT   \n",
       "243014  non cercano e non disponibili a lavorare                TOT   \n",
       "267080                                  occupati                TOT   \n",
       "\n",
       "       condizione professionale europea  time seleziona periodo      value  \n",
       "107706                           totale  2012              2012    106.792  \n",
       "160543                           totale  2012              2012    684.656  \n",
       "209975                           totale  2012              2012  1.117.444  \n",
       "232871                           totale  2012              2012    432.788  \n",
       "234112                           totale  2012              2012    121.814  \n",
       "243014                           totale  2012              2012    310.974  \n",
       "267080                           totale  2012              2012    577.864  "
      ]
     },
     "execution_count": 9,
     "metadata": {},
     "output_type": "execute_result"
    }
   ],
   "source": [
    "df_once = df[(df.territorio == 'Sardegna') & (df['time'] == '2012') \n",
    "           & (df['classe di età'] == '15-64 anni') \n",
    "           & (df['sesso'] == 'totale') & (df['condizione_prof_eu'] == 'TOT')]\n",
    "df_once"
   ]
  },
  {
   "cell_type": "markdown",
   "metadata": {},
   "source": [
    "Dall'esplorazione appena riportata risulta:\n",
    "1. è necessario eliminare tutte le osservazioni con condizione_prof_eu != 'TOT' in quanto rindondanti\n",
    "2. Condizione professionale = 'totale' --> Totale della popolazione nella fascia di età selezionata\n",
    "3. Condizione professionale = 'forze lavoro' --> Popolazione - Inattivi\n",
    "4. Condizione professionale = 'occupati' --> Forza lavoro - disoccupati\n",
    "5. Condizione professionale = 'inattivi' --> Zona Grigia + Non cercano e non sono disponibili a lavorare"
   ]
  },
  {
   "cell_type": "markdown",
   "metadata": {},
   "source": [
    "## Preparazione dei valori\n",
    "### Preparazione dei valori (value)\n",
    "Come evidenziato nella prima fase esplorativa, occorre mettere in qualità i valori numerici della feature \"value\" che al momento non sono utilizzabili. La strategia consiste nell'individuare il primo punto andando a tracciarne la posizione se la lunghezza della feature \"value\" è maggiore di 6, saranno infatti tracciate le posizioni del primo punto nei casi in cui il valore sia espresso nella forma:<br>\n",
    "\"x.xxx.xxx\",\"x.xxx.xx\", \"x.xxx.x\", \"xxx.xxx\", \"xx.xxx.x\" ...<br>\n",
    "Nel caso la lunghezza della stringa sia 6 o meno i vaolri avranno la forma \"xx.xxx\", \"x.xxx\",\"xxx.xx\", ...: in tutti questi casi la posizione del primo punto viene impostata a \"0\". "
   ]
  },
  {
   "cell_type": "code",
   "execution_count": 10,
   "metadata": {},
   "outputs": [
    {
     "data": {
      "text/plain": [
       "0     1716.452\n",
       "1     1717.624\n",
       "2     1719.434\n",
       "3      1713.29\n",
       "4     1715.458\n",
       "5     1708.008\n",
       "6     1711.124\n",
       "7     1709.324\n",
       "8     1704.614\n",
       "9      1706.97\n",
       "10    1699.068\n",
       "11    1700.272\n",
       "12     1702.26\n",
       "13    1695.736\n",
       "14    1698.004\n",
       "15    1690.328\n",
       "16    1693.467\n",
       "17     1691.57\n",
       "18    1686.992\n",
       "19    1689.282\n",
       "Name: new_value, dtype: object"
      ]
     },
     "execution_count": 10,
     "metadata": {},
     "output_type": "execute_result"
    }
   ],
   "source": [
    "#cerca l'indice del primo punto \n",
    "df['dot_index'] = np.where(df.value.str.len() > 6, df['value'].str.find('.'),0)\n",
    "#Se la posizione del punto primo punto è 1 (per stringhe iniziali con lunghezza \n",
    "#iniziale > 6), procedo a rimuovere il primo punto. \n",
    "df['new_value'] = np.where(np.logical_and(df.dot_index < 2, df.dot_index > 0), \n",
    "                           df['value'].str.slice(stop=1) + df['value'].str.slice(start=2) ,df['value'])\n",
    "df.new_value.head(20)"
   ]
  },
  {
   "cell_type": "markdown",
   "metadata": {},
   "source": [
    "Ora sovrascrivo la feature \"value\" con i valori ripuliti e verifico che i valori siano ora utilizzabili."
   ]
  },
  {
   "cell_type": "code",
   "execution_count": 11,
   "metadata": {},
   "outputs": [
    {
     "data": {
      "text/plain": [
       "count    267234.000000\n",
       "mean        549.850701\n",
       "std         766.433887\n",
       "min           0.135000\n",
       "25%          79.979000\n",
       "50%         247.030000\n",
       "75%         695.224000\n",
       "max        8621.646000\n",
       "Name: value, dtype: float64"
      ]
     },
     "execution_count": 11,
     "metadata": {},
     "output_type": "execute_result"
    }
   ],
   "source": [
    "df['value'] = df['new_value'].astype('float64')\n",
    "df.value.describe()"
   ]
  },
  {
   "cell_type": "markdown",
   "metadata": {},
   "source": [
    "Verifico il valore massimo della feature value che corrisponde al totale della forza lavoro della regione Lombradia nel secondo trimestre del 2019 ed è pari a 8621,646 (valore espresso in migliaia)."
   ]
  },
  {
   "cell_type": "code",
   "execution_count": 12,
   "metadata": {},
   "outputs": [
    {
     "data": {
      "text/html": [
       "<div>\n",
       "<style scoped>\n",
       "    .dataframe tbody tr th:only-of-type {\n",
       "        vertical-align: middle;\n",
       "    }\n",
       "\n",
       "    .dataframe tbody tr th {\n",
       "        vertical-align: top;\n",
       "    }\n",
       "\n",
       "    .dataframe thead th {\n",
       "        text-align: right;\n",
       "    }\n",
       "</style>\n",
       "<table border=\"1\" class=\"dataframe\">\n",
       "  <thead>\n",
       "    <tr style=\"text-align: right;\">\n",
       "      <th></th>\n",
       "      <th>itter107</th>\n",
       "      <th>territorio</th>\n",
       "      <th>tipo_dato_fol</th>\n",
       "      <th>tipo dato</th>\n",
       "      <th>sexistat1</th>\n",
       "      <th>sesso</th>\n",
       "      <th>eta1</th>\n",
       "      <th>classe di età</th>\n",
       "      <th>condizione_prof</th>\n",
       "      <th>condizione professionale</th>\n",
       "      <th>condizione_prof_eu</th>\n",
       "      <th>condizione professionale europea</th>\n",
       "      <th>time</th>\n",
       "      <th>seleziona periodo</th>\n",
       "      <th>value</th>\n",
       "      <th>dot_index</th>\n",
       "      <th>new_value</th>\n",
       "    </tr>\n",
       "  </thead>\n",
       "  <tbody>\n",
       "    <tr>\n",
       "      <th>228110</th>\n",
       "      <td>ITC4</td>\n",
       "      <td>Lombardia</td>\n",
       "      <td>POP</td>\n",
       "      <td>popolazione 0 anni e più (in migliaia)</td>\n",
       "      <td>9</td>\n",
       "      <td>totale</td>\n",
       "      <td>Y_GE15</td>\n",
       "      <td>15 anni e più</td>\n",
       "      <td>99</td>\n",
       "      <td>totale</td>\n",
       "      <td>TOT</td>\n",
       "      <td>totale</td>\n",
       "      <td>2019-Q2</td>\n",
       "      <td>T2-2019</td>\n",
       "      <td>8621.646</td>\n",
       "      <td>1</td>\n",
       "      <td>8621.646</td>\n",
       "    </tr>\n",
       "  </tbody>\n",
       "</table>\n",
       "</div>"
      ],
      "text/plain": [
       "       itter107 territorio tipo_dato_fol  \\\n",
       "228110     ITC4  Lombardia           POP   \n",
       "\n",
       "                                     tipo dato  sexistat1   sesso    eta1  \\\n",
       "228110  popolazione 0 anni e più (in migliaia)          9  totale  Y_GE15   \n",
       "\n",
       "        classe di età condizione_prof condizione professionale  \\\n",
       "228110  15 anni e più              99                   totale   \n",
       "\n",
       "       condizione_prof_eu condizione professionale europea     time  \\\n",
       "228110                TOT                           totale  2019-Q2   \n",
       "\n",
       "       seleziona periodo     value  dot_index new_value  \n",
       "228110           T2-2019  8621.646          1  8621.646  "
      ]
     },
     "execution_count": 12,
     "metadata": {},
     "output_type": "execute_result"
    }
   ],
   "source": [
    "df[(df.value == df.value.values.max())]"
   ]
  },
  {
   "cell_type": "markdown",
   "metadata": {},
   "source": [
    "Infine trasformo i valori in interi."
   ]
  },
  {
   "cell_type": "code",
   "execution_count": 13,
   "metadata": {},
   "outputs": [],
   "source": [
    "#Trasformo la feature 'Value' in intero\n",
    "df['value'] = df['value'] * 1000\n",
    "df['value'] = df['value'].astype('int')"
   ]
  },
  {
   "cell_type": "markdown",
   "metadata": {},
   "source": [
    "### Preparazione della condizione professionale\n",
    "Come dimostrato nella fase esplorativa, sopprimo le righe in cui \"condizione_prof_eu\" è uguale a \"TOT\" in quanto ridondanti"
   ]
  },
  {
   "cell_type": "code",
   "execution_count": 14,
   "metadata": {},
   "outputs": [],
   "source": [
    "# Elimino le osservazioni superflue\n",
    "df = df[(df['condizione_prof_eu'] == 'TOT')]\n",
    "#df['condizione professionale'].value_counts()"
   ]
  },
  {
   "cell_type": "markdown",
   "metadata": {},
   "source": [
    "### Rimozione delle colonne non di interesse\n",
    "Rimuovo le features non necessarie in quanto ridondanti (espressione della stessa informazione in standard differente) o contenti sempre lo stesso valore, quindi non rilevanti."
   ]
  },
  {
   "cell_type": "code",
   "execution_count": 15,
   "metadata": {},
   "outputs": [],
   "source": [
    "df.drop(['tipo_dato_fol', 'tipo dato', 'seleziona periodo', 'dot_index', 'new_value'], axis='columns', inplace=True)\n",
    "#Elimino anche la feature sexistati1 \n",
    "df.drop(['sexistat1'], axis='columns', inplace=True)\n",
    "df.drop(['itter107'], axis='columns', inplace=True)"
   ]
  },
  {
   "cell_type": "markdown",
   "metadata": {},
   "source": [
    "### Raggruppamento per zone d'Italia\n",
    "Al fine di poter condurre analisi statistiche per macro zone, raggrupo le regioni nelle 5 zone indivisuate dalla <b>NUTS</b>\n",
    "(nomenclatura delle unità territoriali statistiche:\n",
    "1. <b>Nord-ovest:</b>\tValle d'Aosta, Liguria, Lombardia, Piemonte\n",
    "2. <b>Nord-est:</b>\tTrentino-Alto Adige, Veneto, Friuli-Venezia Giulia, Emilia-Romagna\n",
    "3. <b>Centro:</b> Toscana, Umbria, Marche, Lazio\n",
    "4. <b>Sud:</b>\tAbruzzo, Molise, Campania, Puglia, Basilicata, Calabria\n",
    "5. <b>Isole:</b> Sicilia, Sardegna"
   ]
  },
  {
   "cell_type": "code",
   "execution_count": 16,
   "metadata": {},
   "outputs": [],
   "source": [
    "def zona_italia(regione):\n",
    "    if (regione == \"Sardegna\") or (regione == \"Sicilia\"):\n",
    "        return 'Isole'\n",
    "    elif ((regione =='Toscana') or (regione == 'Umbria') or (regione == 'Marche') or (regione == 'Lazio')):\n",
    "        return 'Centro'\n",
    "    elif ((regione =='Abruzzo') or (regione == 'Molise') or (regione == 'Campania') or (regione == 'Puglia') or (regione == 'Basilicata') or (regione == 'Calabria')):\n",
    "        return 'Sud'\n",
    "    elif ((regione =='Liguria') or (regione == 'Lombardia') or (regione == 'Piemonte') or (regione == \"Valle d'Aosta / Vallée d'Aosta\")):\n",
    "        return 'Nord-ovest'\n",
    "    else:\n",
    "        return 'Nord-est'\n",
    "df['zona'] = np.vectorize(zona_italia)(df['territorio'])"
   ]
  },
  {
   "cell_type": "markdown",
   "metadata": {},
   "source": [
    "<b>[NOTA]</b> Rimuovo le rilevazioni trimestrali"
   ]
  },
  {
   "cell_type": "code",
   "execution_count": 17,
   "metadata": {},
   "outputs": [],
   "source": [
    "#dataframe privo dei dati trimestrali\n",
    "df_anni = df[~df['time'].str.contains('Q')]"
   ]
  },
  {
   "cell_type": "markdown",
   "metadata": {},
   "source": [
    "### Nuove classi di età\n",
    "Il dataset non è in grado di fornire informazioni dettagliate sulle fascie di età rilevanti per l'osservazione dei fenomeni legati all'occupazione, infatti il principale cluster di popolazione attiva (15 - 64 anni) non è ulteriormente suddiviso. Tuttavia è possibile indagare sulle fasce d'età ai margini della fascia tipica di attività. <br>Ricavo pertanto nuove classi di età per esplorare ai margini dell'età lavorativa principale (15-64 anni). In particolare:<br>\n",
    "1. <b>\"65-74 anni\"</b>\n",
    "2. <b>\"over 74\"</b>"
   ]
  },
  {
   "cell_type": "code",
   "execution_count": 18,
   "metadata": {},
   "outputs": [],
   "source": [
    "df_p = df_anni.pivot(index=['territorio','zona','time', 'sesso', 'condizione professionale'], columns=['classe di età'], values='value')\n",
    "df_p = df_p.fillna(0.0)\n",
    "df_p['65-74 anni'] = df_p['15-74 anni'] - df_p['15-64 anni']\n",
    "df_p['over 74'] = df_p['15 anni e più'] - df_p['15-74 anni']\n",
    "df_stacked = df_p.stack('classe di età').reset_index()"
   ]
  },
  {
   "cell_type": "markdown",
   "metadata": {},
   "source": [
    "### Features categoriche\n",
    "Preparo le feature che gestirò come Categoriche:"
   ]
  },
  {
   "cell_type": "code",
   "execution_count": 19,
   "metadata": {},
   "outputs": [
    {
     "data": {
      "text/plain": [
       "Index(['0-14 anni', '15 anni e più', '15-64 anni', '15-74 anni', '65-74 anni',\n",
       "       'over 74'],\n",
       "      dtype='object')"
      ]
     },
     "execution_count": 19,
     "metadata": {},
     "output_type": "execute_result"
    }
   ],
   "source": [
    "#Test con l'uso dei dati categorici --> ma Seaborn mostra tutte le categorie, anche quando filtrate..\n",
    "#df['territorio'] = df['territorio'].astype('category')\n",
    "#df['sesso'] = df['sesso'].astype('category')\n",
    "df_stacked['classe di età'] = df_stacked['classe di età'].astype('category')\n",
    "#df['condizione professionale'] = df['condizione professionale'].astype('category')\n",
    "#df['time'] = df['time'].astype('category')\n",
    "df_stacked['classe di età'].cat.categories\n",
    "#df.time.cat.categories\n",
    "#df['condizione professionale'].cat.categories"
   ]
  },
  {
   "cell_type": "markdown",
   "metadata": {},
   "source": [
    "### Reshaping del Data Frame\n",
    "Al fine di poter lavorare agevolmente, rdinando le features di interesse, risulta necessario raggruppare (pivoting). <br>\n",
    "Gli indici per il raggruppamento sono: <br> \n",
    "<b>Territorio, zona, anno,sesso e classe di età </b>\n",
    "Pertanto in colonna saranno disponibili tutte le features relative alla <b>condizione professionale</b>.\n"
   ]
  },
  {
   "cell_type": "code",
   "execution_count": 20,
   "metadata": {},
   "outputs": [
    {
     "data": {
      "text/html": [
       "<div>\n",
       "<style scoped>\n",
       "    .dataframe tbody tr th:only-of-type {\n",
       "        vertical-align: middle;\n",
       "    }\n",
       "\n",
       "    .dataframe tbody tr th {\n",
       "        vertical-align: top;\n",
       "    }\n",
       "\n",
       "    .dataframe thead th {\n",
       "        text-align: right;\n",
       "    }\n",
       "</style>\n",
       "<table border=\"1\" class=\"dataframe\">\n",
       "  <thead>\n",
       "    <tr style=\"text-align: right;\">\n",
       "      <th></th>\n",
       "      <th></th>\n",
       "      <th></th>\n",
       "      <th></th>\n",
       "      <th>condizione professionale</th>\n",
       "      <th>disoccupati</th>\n",
       "      <th>forze lavoro</th>\n",
       "      <th>inattivi</th>\n",
       "      <th>non cercano e non disponibili a lavorare</th>\n",
       "      <th>occupati</th>\n",
       "      <th>totale</th>\n",
       "      <th>zona grigia dell'inattività</th>\n",
       "    </tr>\n",
       "    <tr>\n",
       "      <th>territorio</th>\n",
       "      <th>zona</th>\n",
       "      <th>time</th>\n",
       "      <th>sesso</th>\n",
       "      <th>classe di età</th>\n",
       "      <th></th>\n",
       "      <th></th>\n",
       "      <th></th>\n",
       "      <th></th>\n",
       "      <th></th>\n",
       "      <th></th>\n",
       "      <th></th>\n",
       "    </tr>\n",
       "  </thead>\n",
       "  <tbody>\n",
       "    <tr>\n",
       "      <th rowspan=\"10\" valign=\"top\">Abruzzo</th>\n",
       "      <th rowspan=\"10\" valign=\"top\">Sud</th>\n",
       "      <th rowspan=\"10\" valign=\"top\">1996</th>\n",
       "      <th rowspan=\"6\" valign=\"top\">femmine</th>\n",
       "      <th>0-14 anni</th>\n",
       "      <td>0.0</td>\n",
       "      <td>0.0</td>\n",
       "      <td>91031.0</td>\n",
       "      <td>0.0</td>\n",
       "      <td>0.0</td>\n",
       "      <td>91031.0</td>\n",
       "      <td>0.0</td>\n",
       "    </tr>\n",
       "    <tr>\n",
       "      <th>15 anni e più</th>\n",
       "      <td>28068.0</td>\n",
       "      <td>224018.0</td>\n",
       "      <td>325979.0</td>\n",
       "      <td>0.0</td>\n",
       "      <td>195950.0</td>\n",
       "      <td>549996.0</td>\n",
       "      <td>0.0</td>\n",
       "    </tr>\n",
       "    <tr>\n",
       "      <th>15-64 anni</th>\n",
       "      <td>28068.0</td>\n",
       "      <td>221626.0</td>\n",
       "      <td>196145.0</td>\n",
       "      <td>0.0</td>\n",
       "      <td>193559.0</td>\n",
       "      <td>417771.0</td>\n",
       "      <td>0.0</td>\n",
       "    </tr>\n",
       "    <tr>\n",
       "      <th>15-74 anni</th>\n",
       "      <td>28068.0</td>\n",
       "      <td>223951.0</td>\n",
       "      <td>269588.0</td>\n",
       "      <td>0.0</td>\n",
       "      <td>195884.0</td>\n",
       "      <td>493539.0</td>\n",
       "      <td>0.0</td>\n",
       "    </tr>\n",
       "    <tr>\n",
       "      <th>65-74 anni</th>\n",
       "      <td>0.0</td>\n",
       "      <td>2325.0</td>\n",
       "      <td>73443.0</td>\n",
       "      <td>0.0</td>\n",
       "      <td>2325.0</td>\n",
       "      <td>75768.0</td>\n",
       "      <td>0.0</td>\n",
       "    </tr>\n",
       "    <tr>\n",
       "      <th>over 74</th>\n",
       "      <td>0.0</td>\n",
       "      <td>67.0</td>\n",
       "      <td>56391.0</td>\n",
       "      <td>0.0</td>\n",
       "      <td>66.0</td>\n",
       "      <td>56457.0</td>\n",
       "      <td>0.0</td>\n",
       "    </tr>\n",
       "    <tr>\n",
       "      <th rowspan=\"4\" valign=\"top\">maschi</th>\n",
       "      <th>0-14 anni</th>\n",
       "      <td>0.0</td>\n",
       "      <td>0.0</td>\n",
       "      <td>95581.0</td>\n",
       "      <td>0.0</td>\n",
       "      <td>0.0</td>\n",
       "      <td>95581.0</td>\n",
       "      <td>0.0</td>\n",
       "    </tr>\n",
       "    <tr>\n",
       "      <th>15 anni e più</th>\n",
       "      <td>33037.0</td>\n",
       "      <td>310355.0</td>\n",
       "      <td>201905.0</td>\n",
       "      <td>0.0</td>\n",
       "      <td>277318.0</td>\n",
       "      <td>512259.0</td>\n",
       "      <td>0.0</td>\n",
       "    </tr>\n",
       "    <tr>\n",
       "      <th>15-64 anni</th>\n",
       "      <td>32999.0</td>\n",
       "      <td>304747.0</td>\n",
       "      <td>108199.0</td>\n",
       "      <td>0.0</td>\n",
       "      <td>271748.0</td>\n",
       "      <td>412946.0</td>\n",
       "      <td>0.0</td>\n",
       "    </tr>\n",
       "    <tr>\n",
       "      <th>15-74 anni</th>\n",
       "      <td>33037.0</td>\n",
       "      <td>310180.0</td>\n",
       "      <td>165533.0</td>\n",
       "      <td>0.0</td>\n",
       "      <td>277143.0</td>\n",
       "      <td>475713.0</td>\n",
       "      <td>0.0</td>\n",
       "    </tr>\n",
       "  </tbody>\n",
       "</table>\n",
       "</div>"
      ],
      "text/plain": [
       "condizione professionale                    disoccupati  forze lavoro  \\\n",
       "territorio zona time sesso   classe di età                              \n",
       "Abruzzo    Sud  1996 femmine 0-14 anni              0.0           0.0   \n",
       "                             15 anni e più      28068.0      224018.0   \n",
       "                             15-64 anni         28068.0      221626.0   \n",
       "                             15-74 anni         28068.0      223951.0   \n",
       "                             65-74 anni             0.0        2325.0   \n",
       "                             over 74                0.0          67.0   \n",
       "                     maschi  0-14 anni              0.0           0.0   \n",
       "                             15 anni e più      33037.0      310355.0   \n",
       "                             15-64 anni         32999.0      304747.0   \n",
       "                             15-74 anni         33037.0      310180.0   \n",
       "\n",
       "condizione professionale                    inattivi  \\\n",
       "territorio zona time sesso   classe di età             \n",
       "Abruzzo    Sud  1996 femmine 0-14 anni       91031.0   \n",
       "                             15 anni e più  325979.0   \n",
       "                             15-64 anni     196145.0   \n",
       "                             15-74 anni     269588.0   \n",
       "                             65-74 anni      73443.0   \n",
       "                             over 74         56391.0   \n",
       "                     maschi  0-14 anni       95581.0   \n",
       "                             15 anni e più  201905.0   \n",
       "                             15-64 anni     108199.0   \n",
       "                             15-74 anni     165533.0   \n",
       "\n",
       "condizione professionale                    non cercano e non disponibili a lavorare  \\\n",
       "territorio zona time sesso   classe di età                                             \n",
       "Abruzzo    Sud  1996 femmine 0-14 anni                                           0.0   \n",
       "                             15 anni e più                                       0.0   \n",
       "                             15-64 anni                                          0.0   \n",
       "                             15-74 anni                                          0.0   \n",
       "                             65-74 anni                                          0.0   \n",
       "                             over 74                                             0.0   \n",
       "                     maschi  0-14 anni                                           0.0   \n",
       "                             15 anni e più                                       0.0   \n",
       "                             15-64 anni                                          0.0   \n",
       "                             15-74 anni                                          0.0   \n",
       "\n",
       "condizione professionale                    occupati    totale  \\\n",
       "territorio zona time sesso   classe di età                       \n",
       "Abruzzo    Sud  1996 femmine 0-14 anni           0.0   91031.0   \n",
       "                             15 anni e più  195950.0  549996.0   \n",
       "                             15-64 anni     193559.0  417771.0   \n",
       "                             15-74 anni     195884.0  493539.0   \n",
       "                             65-74 anni       2325.0   75768.0   \n",
       "                             over 74            66.0   56457.0   \n",
       "                     maschi  0-14 anni           0.0   95581.0   \n",
       "                             15 anni e più  277318.0  512259.0   \n",
       "                             15-64 anni     271748.0  412946.0   \n",
       "                             15-74 anni     277143.0  475713.0   \n",
       "\n",
       "condizione professionale                    zona grigia dell'inattività  \n",
       "territorio zona time sesso   classe di età                               \n",
       "Abruzzo    Sud  1996 femmine 0-14 anni                              0.0  \n",
       "                             15 anni e più                          0.0  \n",
       "                             15-64 anni                             0.0  \n",
       "                             15-74 anni                             0.0  \n",
       "                             65-74 anni                             0.0  \n",
       "                             over 74                                0.0  \n",
       "                     maschi  0-14 anni                              0.0  \n",
       "                             15 anni e più                          0.0  \n",
       "                             15-64 anni                             0.0  \n",
       "                             15-74 anni                             0.0  "
      ]
     },
     "execution_count": 20,
     "metadata": {},
     "output_type": "execute_result"
    }
   ],
   "source": [
    "df_pivot = df_stacked.pivot(index=['territorio','zona','time', 'sesso', 'classe di età'], columns=['condizione professionale'], values=0)\n",
    "df_pivot = df_pivot.fillna(0.0)\n",
    "df_pivot.head(10)"
   ]
  },
  {
   "cell_type": "markdown",
   "metadata": {
    "scrolled": false
   },
   "source": [
    "### Calcolo ulteriori features relative ai tassi\n",
    "Per comodità di analisi, calcolo nuove features: <br><b>Tasso di occupazione:</b> rapporto tra occupati e popolazione (per fascia di età e sesso); <br><b>Tasso di disoccupazione:</b> rapporto tra disoccupati e forza lavoro (per fascia di età e sesso); <br><b>Tasso di attività:</b> rapporto tra forza lavoro e popolazione (per fascia di età e sesso); <br><b>Tasso di inattività:</b> rapporto tra inattivi e popolazione (per fascia di età e sesso);<br><b>Gap Occupazionale:</b> Differenza tra tasso di occupazione e tasso di attività <br> Preparo inoltre le relative etichette che saranno comode nella visualizzazione."
   ]
  },
  {
   "cell_type": "code",
   "execution_count": 21,
   "metadata": {
    "scrolled": false
   },
   "outputs": [
    {
     "data": {
      "text/html": [
       "<div>\n",
       "<style scoped>\n",
       "    .dataframe tbody tr th:only-of-type {\n",
       "        vertical-align: middle;\n",
       "    }\n",
       "\n",
       "    .dataframe tbody tr th {\n",
       "        vertical-align: top;\n",
       "    }\n",
       "\n",
       "    .dataframe thead th {\n",
       "        text-align: right;\n",
       "    }\n",
       "</style>\n",
       "<table border=\"1\" class=\"dataframe\">\n",
       "  <thead>\n",
       "    <tr style=\"text-align: right;\">\n",
       "      <th></th>\n",
       "      <th></th>\n",
       "      <th></th>\n",
       "      <th></th>\n",
       "      <th>condizione professionale</th>\n",
       "      <th>disoccupati</th>\n",
       "      <th>forze lavoro</th>\n",
       "      <th>inattivi</th>\n",
       "      <th>non cercano e non disponibili a lavorare</th>\n",
       "      <th>occupati</th>\n",
       "      <th>totale</th>\n",
       "      <th>zona grigia dell'inattività</th>\n",
       "      <th>tasso_occupazione</th>\n",
       "      <th>tasso_disoccupazione</th>\n",
       "      <th>tasso_attività</th>\n",
       "      <th>tasso_inattività</th>\n",
       "      <th>gap_occupazionale</th>\n",
       "    </tr>\n",
       "    <tr>\n",
       "      <th>territorio</th>\n",
       "      <th>zona</th>\n",
       "      <th>time</th>\n",
       "      <th>sesso</th>\n",
       "      <th>classe di età</th>\n",
       "      <th></th>\n",
       "      <th></th>\n",
       "      <th></th>\n",
       "      <th></th>\n",
       "      <th></th>\n",
       "      <th></th>\n",
       "      <th></th>\n",
       "      <th></th>\n",
       "      <th></th>\n",
       "      <th></th>\n",
       "      <th></th>\n",
       "      <th></th>\n",
       "    </tr>\n",
       "  </thead>\n",
       "  <tbody>\n",
       "    <tr>\n",
       "      <th rowspan=\"5\" valign=\"top\">Abruzzo</th>\n",
       "      <th rowspan=\"5\" valign=\"top\">Sud</th>\n",
       "      <th rowspan=\"5\" valign=\"top\">1996</th>\n",
       "      <th rowspan=\"5\" valign=\"top\">femmine</th>\n",
       "      <th>0-14 anni</th>\n",
       "      <td>0.0</td>\n",
       "      <td>0.0</td>\n",
       "      <td>91031.0</td>\n",
       "      <td>0.0</td>\n",
       "      <td>0.0</td>\n",
       "      <td>91031.0</td>\n",
       "      <td>0.0</td>\n",
       "      <td>0.000000</td>\n",
       "      <td>0.000000</td>\n",
       "      <td>0.000000</td>\n",
       "      <td>100.000000</td>\n",
       "      <td>0.000000</td>\n",
       "    </tr>\n",
       "    <tr>\n",
       "      <th>15 anni e più</th>\n",
       "      <td>28068.0</td>\n",
       "      <td>224018.0</td>\n",
       "      <td>325979.0</td>\n",
       "      <td>0.0</td>\n",
       "      <td>195950.0</td>\n",
       "      <td>549996.0</td>\n",
       "      <td>0.0</td>\n",
       "      <td>35.627532</td>\n",
       "      <td>12.529350</td>\n",
       "      <td>40.730842</td>\n",
       "      <td>59.269340</td>\n",
       "      <td>5.103310</td>\n",
       "    </tr>\n",
       "    <tr>\n",
       "      <th>15-64 anni</th>\n",
       "      <td>28068.0</td>\n",
       "      <td>221626.0</td>\n",
       "      <td>196145.0</td>\n",
       "      <td>0.0</td>\n",
       "      <td>193559.0</td>\n",
       "      <td>417771.0</td>\n",
       "      <td>0.0</td>\n",
       "      <td>46.331363</td>\n",
       "      <td>12.664579</td>\n",
       "      <td>53.049637</td>\n",
       "      <td>46.950363</td>\n",
       "      <td>6.718274</td>\n",
       "    </tr>\n",
       "    <tr>\n",
       "      <th>15-74 anni</th>\n",
       "      <td>28068.0</td>\n",
       "      <td>223951.0</td>\n",
       "      <td>269588.0</td>\n",
       "      <td>0.0</td>\n",
       "      <td>195884.0</td>\n",
       "      <td>493539.0</td>\n",
       "      <td>0.0</td>\n",
       "      <td>39.689670</td>\n",
       "      <td>12.533099</td>\n",
       "      <td>45.376556</td>\n",
       "      <td>54.623444</td>\n",
       "      <td>5.686886</td>\n",
       "    </tr>\n",
       "    <tr>\n",
       "      <th>65-74 anni</th>\n",
       "      <td>0.0</td>\n",
       "      <td>2325.0</td>\n",
       "      <td>73443.0</td>\n",
       "      <td>0.0</td>\n",
       "      <td>2325.0</td>\n",
       "      <td>75768.0</td>\n",
       "      <td>0.0</td>\n",
       "      <td>3.068578</td>\n",
       "      <td>0.000000</td>\n",
       "      <td>3.068578</td>\n",
       "      <td>96.931422</td>\n",
       "      <td>0.000000</td>\n",
       "    </tr>\n",
       "  </tbody>\n",
       "</table>\n",
       "</div>"
      ],
      "text/plain": [
       "condizione professionale                    disoccupati  forze lavoro  \\\n",
       "territorio zona time sesso   classe di età                              \n",
       "Abruzzo    Sud  1996 femmine 0-14 anni              0.0           0.0   \n",
       "                             15 anni e più      28068.0      224018.0   \n",
       "                             15-64 anni         28068.0      221626.0   \n",
       "                             15-74 anni         28068.0      223951.0   \n",
       "                             65-74 anni             0.0        2325.0   \n",
       "\n",
       "condizione professionale                    inattivi  \\\n",
       "territorio zona time sesso   classe di età             \n",
       "Abruzzo    Sud  1996 femmine 0-14 anni       91031.0   \n",
       "                             15 anni e più  325979.0   \n",
       "                             15-64 anni     196145.0   \n",
       "                             15-74 anni     269588.0   \n",
       "                             65-74 anni      73443.0   \n",
       "\n",
       "condizione professionale                    non cercano e non disponibili a lavorare  \\\n",
       "territorio zona time sesso   classe di età                                             \n",
       "Abruzzo    Sud  1996 femmine 0-14 anni                                           0.0   \n",
       "                             15 anni e più                                       0.0   \n",
       "                             15-64 anni                                          0.0   \n",
       "                             15-74 anni                                          0.0   \n",
       "                             65-74 anni                                          0.0   \n",
       "\n",
       "condizione professionale                    occupati    totale  \\\n",
       "territorio zona time sesso   classe di età                       \n",
       "Abruzzo    Sud  1996 femmine 0-14 anni           0.0   91031.0   \n",
       "                             15 anni e più  195950.0  549996.0   \n",
       "                             15-64 anni     193559.0  417771.0   \n",
       "                             15-74 anni     195884.0  493539.0   \n",
       "                             65-74 anni       2325.0   75768.0   \n",
       "\n",
       "condizione professionale                    zona grigia dell'inattività  \\\n",
       "territorio zona time sesso   classe di età                                \n",
       "Abruzzo    Sud  1996 femmine 0-14 anni                              0.0   \n",
       "                             15 anni e più                          0.0   \n",
       "                             15-64 anni                             0.0   \n",
       "                             15-74 anni                             0.0   \n",
       "                             65-74 anni                             0.0   \n",
       "\n",
       "condizione professionale                    tasso_occupazione  \\\n",
       "territorio zona time sesso   classe di età                      \n",
       "Abruzzo    Sud  1996 femmine 0-14 anni               0.000000   \n",
       "                             15 anni e più          35.627532   \n",
       "                             15-64 anni             46.331363   \n",
       "                             15-74 anni             39.689670   \n",
       "                             65-74 anni              3.068578   \n",
       "\n",
       "condizione professionale                    tasso_disoccupazione  \\\n",
       "territorio zona time sesso   classe di età                         \n",
       "Abruzzo    Sud  1996 femmine 0-14 anni                  0.000000   \n",
       "                             15 anni e più             12.529350   \n",
       "                             15-64 anni                12.664579   \n",
       "                             15-74 anni                12.533099   \n",
       "                             65-74 anni                 0.000000   \n",
       "\n",
       "condizione professionale                    tasso_attività  tasso_inattività  \\\n",
       "territorio zona time sesso   classe di età                                     \n",
       "Abruzzo    Sud  1996 femmine 0-14 anni            0.000000        100.000000   \n",
       "                             15 anni e più       40.730842         59.269340   \n",
       "                             15-64 anni          53.049637         46.950363   \n",
       "                             15-74 anni          45.376556         54.623444   \n",
       "                             65-74 anni           3.068578         96.931422   \n",
       "\n",
       "condizione professionale                    gap_occupazionale  \n",
       "territorio zona time sesso   classe di età                     \n",
       "Abruzzo    Sud  1996 femmine 0-14 anni               0.000000  \n",
       "                             15 anni e più           5.103310  \n",
       "                             15-64 anni              6.718274  \n",
       "                             15-74 anni              5.686886  \n",
       "                             65-74 anni              0.000000  "
      ]
     },
     "execution_count": 21,
     "metadata": {},
     "output_type": "execute_result"
    }
   ],
   "source": [
    "df_pivot['tasso_occupazione'] = (df_pivot['occupati'] / df_pivot['totale']) * 100\n",
    "df_pivot['tasso_disoccupazione'] = (df_pivot['disoccupati'] / df_pivot['forze lavoro']) * 100\n",
    "df_pivot['tasso_attività'] = (df_pivot['forze lavoro'] / df_pivot['totale']) * 100\n",
    "df_pivot['tasso_inattività'] = (df_pivot['inattivi'] / df_pivot['totale']) * 100\n",
    "df_pivot['gap_occupazionale']=  df_pivot['tasso_attività'] - df_pivot['tasso_occupazione']\n",
    "#Definisco le atichette per la visualizzazione\n",
    "labels_tassi = {\"tasso_occupazione\" : \"Tasso di occupazione\", \"tasso_disoccupazione\" : \"Tasso di disoccupazione\",\n",
    "         \"tasso_attività\": \"Tasso di attvità\", \"tasso_inattività\" : \"Tasso di inattività\", \n",
    "          \"gap_occupazionale\" : \"Gap occupazionale\"}\n",
    "df_pivot = df_pivot.fillna(0.0)\n",
    "df_pivot.head()"
   ]
  },
  {
   "cell_type": "markdown",
   "metadata": {},
   "source": [
    "## Data Visualization\n",
    "### Andamento tasso di occupazione\n",
    "Trattandosi di una serie temporale di rilevazioni, la prima visualizzazione significativa che intendo condurre è relativa all'andamento dei diversi tassi nel tempo, mettendo in evidenza le realzioni tra di essi e il confronto tra regioni e zone d'italia.<br>\n",
    "Altro elemento da tenere in considerazione è la classe di età che per le analisi principali può essere fissata a \"16-64\", in quanto risulta essere la fascia di attività \"standard\" per l'età lavorativa.<br>\n",
    "La prima visualizzazione mostra l'andamento del tasso di occupazione dal 1996 al 2018, ogni linea rappresenta una regione, il raggruppamento per colore indica la zona d'Italia.<br>\n",
    "(Modalità interattiva - Plotly Express)"
   ]
  },
  {
   "cell_type": "code",
   "execution_count": 23,
   "metadata": {},
   "outputs": [
    {
     "data": {
      "application/vnd.plotly.v1+json": {
       "config": {
        "plotlyServerURL": "https://plot.ly"
       },
       "data": [
        {
         "hovertemplate": "<b>%{hovertext}</b><br><br>Zona d'Italia=Nord-est<br>line_group=Emilia-Romagna<br>Anno di riferimento=%{x}<br>Tasso di occupazione(%)=%{y}<extra></extra>",
         "hovertext": [
          "Emilia-Romagna",
          "Emilia-Romagna",
          "Emilia-Romagna",
          "Emilia-Romagna",
          "Emilia-Romagna",
          "Emilia-Romagna",
          "Emilia-Romagna",
          "Emilia-Romagna",
          "Emilia-Romagna",
          "Emilia-Romagna",
          "Emilia-Romagna",
          "Emilia-Romagna",
          "Emilia-Romagna",
          "Emilia-Romagna",
          "Emilia-Romagna",
          "Emilia-Romagna",
          "Emilia-Romagna",
          "Emilia-Romagna",
          "Emilia-Romagna",
          "Emilia-Romagna",
          "Emilia-Romagna",
          "Emilia-Romagna",
          "Emilia-Romagna"
         ],
         "legendgroup": "Nord-est",
         "line": {
          "color": "rgb(76,114,176)",
          "dash": "solid"
         },
         "mode": "lines",
         "name": "Nord-est",
         "orientation": "v",
         "showlegend": true,
         "type": "scatter",
         "x": [
          "1996",
          "1997",
          "1998",
          "1999",
          "2000",
          "2001",
          "2002",
          "2003",
          "2004",
          "2005",
          "2006",
          "2007",
          "2008",
          "2009",
          "2010",
          "2011",
          "2012",
          "2013",
          "2014",
          "2015",
          "2016",
          "2017",
          "2018"
         ],
         "xaxis": "x",
         "y": [
          64.05293272847472,
          64.73839453974529,
          65.3820306915931,
          66.78046299759785,
          68.03608229491164,
          68.83310940139437,
          69.87164129716685,
          69.55666878444242,
          68.34824036525536,
          68.43104926614419,
          69.37335379735005,
          70.18662934377897,
          70.15933468169918,
          68.38413627948894,
          67.31552784467686,
          67.8036955739423,
          67.5020290972183,
          66.24904048946746,
          66.26446355409482,
          66.69938311244363,
          68.39061675726508,
          68.58451727550595,
          69.60103249699739
         ],
         "yaxis": "y"
        },
        {
         "hovertemplate": "<b>%{hovertext}</b><br><br>Zona d'Italia=Nord-est<br>line_group=Friuli-Venezia Giulia<br>Anno di riferimento=%{x}<br>Tasso di occupazione(%)=%{y}<extra></extra>",
         "hovertext": [
          "Friuli-Venezia Giulia",
          "Friuli-Venezia Giulia",
          "Friuli-Venezia Giulia",
          "Friuli-Venezia Giulia",
          "Friuli-Venezia Giulia",
          "Friuli-Venezia Giulia",
          "Friuli-Venezia Giulia",
          "Friuli-Venezia Giulia",
          "Friuli-Venezia Giulia",
          "Friuli-Venezia Giulia",
          "Friuli-Venezia Giulia",
          "Friuli-Venezia Giulia",
          "Friuli-Venezia Giulia",
          "Friuli-Venezia Giulia",
          "Friuli-Venezia Giulia",
          "Friuli-Venezia Giulia",
          "Friuli-Venezia Giulia",
          "Friuli-Venezia Giulia",
          "Friuli-Venezia Giulia",
          "Friuli-Venezia Giulia",
          "Friuli-Venezia Giulia",
          "Friuli-Venezia Giulia",
          "Friuli-Venezia Giulia"
         ],
         "legendgroup": "Nord-est",
         "line": {
          "color": "rgb(76,114,176)",
          "dash": "solid"
         },
         "mode": "lines",
         "name": "Nord-est",
         "orientation": "v",
         "showlegend": false,
         "type": "scatter",
         "x": [
          "1996",
          "1997",
          "1998",
          "1999",
          "2000",
          "2001",
          "2002",
          "2003",
          "2004",
          "2005",
          "2006",
          "2007",
          "2008",
          "2009",
          "2010",
          "2011",
          "2012",
          "2013",
          "2014",
          "2015",
          "2016",
          "2017",
          "2018"
         ],
         "xaxis": "x",
         "y": [
          58.73941404642229,
          58.78322402269016,
          59.775721062821496,
          60.40213076820199,
          61.93878686418605,
          63.58067324544451,
          63.81949630894136,
          63.12050881754796,
          62.59793013047189,
          63.15853141430258,
          64.77717461531867,
          65.38688264090013,
          65.18461349743421,
          63.477053164763795,
          63.59153756455106,
          64.2095065824599,
          63.64205394435538,
          62.9633096462011,
          63.112487455646175,
          63.657264776479025,
          64.6627177552664,
          65.7219838206581,
          66.27223911841905
         ],
         "yaxis": "y"
        },
        {
         "hovertemplate": "<b>%{hovertext}</b><br><br>Zona d'Italia=Nord-est<br>line_group=Provincia Autonoma Bolzano / Bozen<br>Anno di riferimento=%{x}<br>Tasso di occupazione(%)=%{y}<extra></extra>",
         "hovertext": [
          "Provincia Autonoma Bolzano / Bozen",
          "Provincia Autonoma Bolzano / Bozen",
          "Provincia Autonoma Bolzano / Bozen",
          "Provincia Autonoma Bolzano / Bozen",
          "Provincia Autonoma Bolzano / Bozen",
          "Provincia Autonoma Bolzano / Bozen",
          "Provincia Autonoma Bolzano / Bozen",
          "Provincia Autonoma Bolzano / Bozen",
          "Provincia Autonoma Bolzano / Bozen",
          "Provincia Autonoma Bolzano / Bozen",
          "Provincia Autonoma Bolzano / Bozen",
          "Provincia Autonoma Bolzano / Bozen",
          "Provincia Autonoma Bolzano / Bozen",
          "Provincia Autonoma Bolzano / Bozen",
          "Provincia Autonoma Bolzano / Bozen",
          "Provincia Autonoma Bolzano / Bozen",
          "Provincia Autonoma Bolzano / Bozen",
          "Provincia Autonoma Bolzano / Bozen",
          "Provincia Autonoma Bolzano / Bozen",
          "Provincia Autonoma Bolzano / Bozen",
          "Provincia Autonoma Bolzano / Bozen",
          "Provincia Autonoma Bolzano / Bozen",
          "Provincia Autonoma Bolzano / Bozen"
         ],
         "legendgroup": "Nord-est",
         "line": {
          "color": "rgb(76,114,176)",
          "dash": "solid"
         },
         "mode": "lines",
         "name": "Nord-est",
         "orientation": "v",
         "showlegend": false,
         "type": "scatter",
         "x": [
          "1996",
          "1997",
          "1998",
          "1999",
          "2000",
          "2001",
          "2002",
          "2003",
          "2004",
          "2005",
          "2006",
          "2007",
          "2008",
          "2009",
          "2010",
          "2011",
          "2012",
          "2013",
          "2014",
          "2015",
          "2016",
          "2017",
          "2018"
         ],
         "xaxis": "x",
         "y": [
          63.41215850001149,
          63.22680419126754,
          63.92495402715582,
          63.73724140628055,
          65.45039612232492,
          65.46559203231685,
          66.94911141523261,
          68.27218626387597,
          69.1740564074655,
          69.02312561631199,
          69.4959952498863,
          69.68520860067959,
          70.42289896290028,
          70.37434511254477,
          71.01803617063102,
          70.99543468117484,
          71.8053722831445,
          71.44071065255648,
          70.844054890378,
          71.37805704797202,
          72.68077454389558,
          72.89322056492824,
          73.5222390308778
         ],
         "yaxis": "y"
        },
        {
         "hovertemplate": "<b>%{hovertext}</b><br><br>Zona d'Italia=Nord-est<br>line_group=Provincia Autonoma Trento<br>Anno di riferimento=%{x}<br>Tasso di occupazione(%)=%{y}<extra></extra>",
         "hovertext": [
          "Provincia Autonoma Trento",
          "Provincia Autonoma Trento",
          "Provincia Autonoma Trento",
          "Provincia Autonoma Trento",
          "Provincia Autonoma Trento",
          "Provincia Autonoma Trento",
          "Provincia Autonoma Trento",
          "Provincia Autonoma Trento",
          "Provincia Autonoma Trento",
          "Provincia Autonoma Trento",
          "Provincia Autonoma Trento",
          "Provincia Autonoma Trento",
          "Provincia Autonoma Trento",
          "Provincia Autonoma Trento",
          "Provincia Autonoma Trento",
          "Provincia Autonoma Trento",
          "Provincia Autonoma Trento",
          "Provincia Autonoma Trento",
          "Provincia Autonoma Trento",
          "Provincia Autonoma Trento",
          "Provincia Autonoma Trento",
          "Provincia Autonoma Trento",
          "Provincia Autonoma Trento"
         ],
         "legendgroup": "Nord-est",
         "line": {
          "color": "rgb(76,114,176)",
          "dash": "solid"
         },
         "mode": "lines",
         "name": "Nord-est",
         "orientation": "v",
         "showlegend": false,
         "type": "scatter",
         "x": [
          "1996",
          "1997",
          "1998",
          "1999",
          "2000",
          "2001",
          "2002",
          "2003",
          "2004",
          "2005",
          "2006",
          "2007",
          "2008",
          "2009",
          "2010",
          "2011",
          "2012",
          "2013",
          "2014",
          "2015",
          "2016",
          "2017",
          "2018"
         ],
         "xaxis": "x",
         "y": [
          62.58002209288054,
          62.83964569629179,
          63.82803354660766,
          64.89169761552733,
          66.37180803876618,
          66.27252091821714,
          65.72540061650297,
          66.12651760389208,
          65.64033650913572,
          65.057015095659,
          65.36431478554823,
          66.28254478222654,
          66.68156793327434,
          66.51620174194373,
          65.89864336221785,
          65.9235023988028,
          65.3791100872584,
          65.51379162498213,
          65.89123155117086,
          66.08388454162653,
          66.04361279945921,
          67.55032812536491,
          68.2056730550318
         ],
         "yaxis": "y"
        },
        {
         "hovertemplate": "<b>%{hovertext}</b><br><br>Zona d'Italia=Nord-est<br>line_group=Trentino Alto Adige / Südtirol<br>Anno di riferimento=%{x}<br>Tasso di occupazione(%)=%{y}<extra></extra>",
         "hovertext": [
          "Trentino Alto Adige / Südtirol",
          "Trentino Alto Adige / Südtirol",
          "Trentino Alto Adige / Südtirol",
          "Trentino Alto Adige / Südtirol",
          "Trentino Alto Adige / Südtirol",
          "Trentino Alto Adige / Südtirol",
          "Trentino Alto Adige / Südtirol",
          "Trentino Alto Adige / Südtirol",
          "Trentino Alto Adige / Südtirol",
          "Trentino Alto Adige / Südtirol",
          "Trentino Alto Adige / Südtirol",
          "Trentino Alto Adige / Südtirol",
          "Trentino Alto Adige / Südtirol",
          "Trentino Alto Adige / Südtirol",
          "Trentino Alto Adige / Südtirol",
          "Trentino Alto Adige / Südtirol",
          "Trentino Alto Adige / Südtirol",
          "Trentino Alto Adige / Südtirol",
          "Trentino Alto Adige / Südtirol",
          "Trentino Alto Adige / Südtirol",
          "Trentino Alto Adige / Südtirol",
          "Trentino Alto Adige / Südtirol",
          "Trentino Alto Adige / Südtirol"
         ],
         "legendgroup": "Nord-est",
         "line": {
          "color": "rgb(76,114,176)",
          "dash": "solid"
         },
         "mode": "lines",
         "name": "Nord-est",
         "orientation": "v",
         "showlegend": false,
         "type": "scatter",
         "x": [
          "1996",
          "1997",
          "1998",
          "1999",
          "2000",
          "2001",
          "2002",
          "2003",
          "2004",
          "2005",
          "2006",
          "2007",
          "2008",
          "2009",
          "2010",
          "2011",
          "2012",
          "2013",
          "2014",
          "2015",
          "2016",
          "2017",
          "2018"
         ],
         "xaxis": "x",
         "y": [
          62.99242220669641,
          63.031535254885206,
          63.87615439759339,
          64.32043767600749,
          65.91631343161225,
          65.87369597913887,
          66.32957210128491,
          67.18450700425477,
          67.37773734403848,
          67.00389117209849,
          67.39433046085374,
          67.95447152466126,
          68.51815079687543,
          68.40739264040847,
          68.40767035190403,
          68.41059246121591,
          68.53492709494044,
          68.4289857821872,
          68.33148845103682,
          68.69664544275439,
          69.32655366233293,
          70.20218580038434,
          70.85034317960785
         ],
         "yaxis": "y"
        },
        {
         "hovertemplate": "<b>%{hovertext}</b><br><br>Zona d'Italia=Nord-est<br>line_group=Valle d'Aosta / Vallée d'Aoste<br>Anno di riferimento=%{x}<br>Tasso di occupazione(%)=%{y}<extra></extra>",
         "hovertext": [
          "Valle d'Aosta / Vallée d'Aoste",
          "Valle d'Aosta / Vallée d'Aoste",
          "Valle d'Aosta / Vallée d'Aoste",
          "Valle d'Aosta / Vallée d'Aoste",
          "Valle d'Aosta / Vallée d'Aoste",
          "Valle d'Aosta / Vallée d'Aoste",
          "Valle d'Aosta / Vallée d'Aoste",
          "Valle d'Aosta / Vallée d'Aoste",
          "Valle d'Aosta / Vallée d'Aoste",
          "Valle d'Aosta / Vallée d'Aoste",
          "Valle d'Aosta / Vallée d'Aoste",
          "Valle d'Aosta / Vallée d'Aoste",
          "Valle d'Aosta / Vallée d'Aoste",
          "Valle d'Aosta / Vallée d'Aoste",
          "Valle d'Aosta / Vallée d'Aoste",
          "Valle d'Aosta / Vallée d'Aoste",
          "Valle d'Aosta / Vallée d'Aoste",
          "Valle d'Aosta / Vallée d'Aoste",
          "Valle d'Aosta / Vallée d'Aoste",
          "Valle d'Aosta / Vallée d'Aoste",
          "Valle d'Aosta / Vallée d'Aoste",
          "Valle d'Aosta / Vallée d'Aoste",
          "Valle d'Aosta / Vallée d'Aoste"
         ],
         "legendgroup": "Nord-est",
         "line": {
          "color": "rgb(76,114,176)",
          "dash": "solid"
         },
         "mode": "lines",
         "name": "Nord-est",
         "orientation": "v",
         "showlegend": false,
         "type": "scatter",
         "x": [
          "1996",
          "1997",
          "1998",
          "1999",
          "2000",
          "2001",
          "2002",
          "2003",
          "2004",
          "2005",
          "2006",
          "2007",
          "2008",
          "2009",
          "2010",
          "2011",
          "2012",
          "2013",
          "2014",
          "2015",
          "2016",
          "2017",
          "2018"
         ],
         "xaxis": "x",
         "y": [
          65.91238544507506,
          66.44390291931276,
          66.20165728849872,
          66.3229351468559,
          68.79972327914217,
          70.00606563262073,
          70.69213594641528,
          67.52248690323218,
          67.15598358843329,
          66.41814759588355,
          67.01526698970027,
          68.18712596701212,
          67.84383684664022,
          66.82473651656095,
          67.3412124819318,
          66.88036787426097,
          66.32290662338139,
          65.61629781620988,
          66.16930647017062,
          66.18561278863233,
          66.43084894380232,
          67.07248195795418,
          67.87480240278217
         ],
         "yaxis": "y"
        },
        {
         "hovertemplate": "<b>%{hovertext}</b><br><br>Zona d'Italia=Nord-est<br>line_group=Veneto<br>Anno di riferimento=%{x}<br>Tasso di occupazione(%)=%{y}<extra></extra>",
         "hovertext": [
          "Veneto",
          "Veneto",
          "Veneto",
          "Veneto",
          "Veneto",
          "Veneto",
          "Veneto",
          "Veneto",
          "Veneto",
          "Veneto",
          "Veneto",
          "Veneto",
          "Veneto",
          "Veneto",
          "Veneto",
          "Veneto",
          "Veneto",
          "Veneto",
          "Veneto",
          "Veneto",
          "Veneto",
          "Veneto",
          "Veneto"
         ],
         "legendgroup": "Nord-est",
         "line": {
          "color": "rgb(76,114,176)",
          "dash": "solid"
         },
         "mode": "lines",
         "name": "Nord-est",
         "orientation": "v",
         "showlegend": false,
         "type": "scatter",
         "x": [
          "1996",
          "1997",
          "1998",
          "1999",
          "2000",
          "2001",
          "2002",
          "2003",
          "2004",
          "2005",
          "2006",
          "2007",
          "2008",
          "2009",
          "2010",
          "2011",
          "2012",
          "2013",
          "2014",
          "2015",
          "2016",
          "2017",
          "2018"
         ],
         "xaxis": "x",
         "y": [
          59.2461853903078,
          60.02693516321427,
          60.46507163083227,
          61.35193942666085,
          62.82751221295372,
          63.6776529618447,
          63.88294862180928,
          64.6844731321231,
          64.39525349651471,
          64.6284223251216,
          65.28159791691373,
          65.69468131242027,
          66.44839449179666,
          64.57746516437358,
          64.36675025550328,
          64.88681035991478,
          64.90730883479131,
          63.05321947249457,
          63.71517914175653,
          63.61311292777951,
          64.73510713294971,
          66.03763821915564,
          66.64898476881105
         ],
         "yaxis": "y"
        },
        {
         "hovertemplate": "<b>%{hovertext}</b><br><br>Zona d'Italia=Nord-ovest<br>line_group=Liguria<br>Anno di riferimento=%{x}<br>Tasso di occupazione(%)=%{y}<extra></extra>",
         "hovertext": [
          "Liguria",
          "Liguria",
          "Liguria",
          "Liguria",
          "Liguria",
          "Liguria",
          "Liguria",
          "Liguria",
          "Liguria",
          "Liguria",
          "Liguria",
          "Liguria",
          "Liguria",
          "Liguria",
          "Liguria",
          "Liguria",
          "Liguria",
          "Liguria",
          "Liguria",
          "Liguria",
          "Liguria",
          "Liguria",
          "Liguria"
         ],
         "legendgroup": "Nord-ovest",
         "line": {
          "color": "rgb(221,132,82)",
          "dash": "solid"
         },
         "mode": "lines",
         "name": "Nord-ovest",
         "orientation": "v",
         "showlegend": true,
         "type": "scatter",
         "x": [
          "1996",
          "1997",
          "1998",
          "1999",
          "2000",
          "2001",
          "2002",
          "2003",
          "2004",
          "2005",
          "2006",
          "2007",
          "2008",
          "2009",
          "2010",
          "2011",
          "2012",
          "2013",
          "2014",
          "2015",
          "2016",
          "2017",
          "2018"
         ],
         "xaxis": "x",
         "y": [
          55.46204231305922,
          55.65705636932565,
          56.89579732970784,
          58.16410825234058,
          59.35803157427729,
          61.464456978159866,
          61.70813268724539,
          60.466024288451145,
          60.616710284311424,
          60.968326150352006,
          62.097453296815594,
          63.46997942355157,
          63.643494419975156,
          63.22582497060358,
          62.73829853792623,
          62.97525072625928,
          61.98540498284941,
          60.618409057278534,
          60.723078876223504,
          62.384052416602785,
          62.71914723664459,
          62.3682240343174,
          62.96090599053389
         ],
         "yaxis": "y"
        },
        {
         "hovertemplate": "<b>%{hovertext}</b><br><br>Zona d'Italia=Nord-ovest<br>line_group=Lombardia<br>Anno di riferimento=%{x}<br>Tasso di occupazione(%)=%{y}<extra></extra>",
         "hovertext": [
          "Lombardia",
          "Lombardia",
          "Lombardia",
          "Lombardia",
          "Lombardia",
          "Lombardia",
          "Lombardia",
          "Lombardia",
          "Lombardia",
          "Lombardia",
          "Lombardia",
          "Lombardia",
          "Lombardia",
          "Lombardia",
          "Lombardia",
          "Lombardia",
          "Lombardia",
          "Lombardia",
          "Lombardia",
          "Lombardia",
          "Lombardia",
          "Lombardia",
          "Lombardia"
         ],
         "legendgroup": "Nord-ovest",
         "line": {
          "color": "rgb(221,132,82)",
          "dash": "solid"
         },
         "mode": "lines",
         "name": "Nord-ovest",
         "orientation": "v",
         "showlegend": false,
         "type": "scatter",
         "x": [
          "1996",
          "1997",
          "1998",
          "1999",
          "2000",
          "2001",
          "2002",
          "2003",
          "2004",
          "2005",
          "2006",
          "2007",
          "2008",
          "2009",
          "2010",
          "2011",
          "2012",
          "2013",
          "2014",
          "2015",
          "2016",
          "2017",
          "2018"
         ],
         "xaxis": "x",
         "y": [
          59.58647320932388,
          59.72518054049074,
          60.728278907873545,
          61.762284004146615,
          62.57426930227968,
          63.83152197637146,
          64.66219595075256,
          65.26248430210897,
          65.49990586215024,
          65.50726566370632,
          66.51508934353181,
          66.66997135015593,
          66.91399927887677,
          65.69655380623215,
          64.96402184647202,
          64.57302635908782,
          64.52967392380089,
          64.7646559729269,
          64.8554639557197,
          65.13575531249556,
          66.22501106238308,
          67.25779919319393,
          67.69474850312717
         ],
         "yaxis": "y"
        },
        {
         "hovertemplate": "<b>%{hovertext}</b><br><br>Zona d'Italia=Nord-ovest<br>line_group=Piemonte<br>Anno di riferimento=%{x}<br>Tasso di occupazione(%)=%{y}<extra></extra>",
         "hovertext": [
          "Piemonte",
          "Piemonte",
          "Piemonte",
          "Piemonte",
          "Piemonte",
          "Piemonte",
          "Piemonte",
          "Piemonte",
          "Piemonte",
          "Piemonte",
          "Piemonte",
          "Piemonte",
          "Piemonte",
          "Piemonte",
          "Piemonte",
          "Piemonte",
          "Piemonte",
          "Piemonte",
          "Piemonte",
          "Piemonte",
          "Piemonte",
          "Piemonte",
          "Piemonte"
         ],
         "legendgroup": "Nord-ovest",
         "line": {
          "color": "rgb(221,132,82)",
          "dash": "solid"
         },
         "mode": "lines",
         "name": "Nord-ovest",
         "orientation": "v",
         "showlegend": false,
         "type": "scatter",
         "x": [
          "1996",
          "1997",
          "1998",
          "1999",
          "2000",
          "2001",
          "2002",
          "2003",
          "2004",
          "2005",
          "2006",
          "2007",
          "2008",
          "2009",
          "2010",
          "2011",
          "2012",
          "2013",
          "2014",
          "2015",
          "2016",
          "2017",
          "2018"
         ],
         "xaxis": "x",
         "y": [
          57.6956786771448,
          57.32067418004546,
          57.492797894523065,
          59.17983953397411,
          61.041060322231274,
          62.007941408912174,
          62.380630768476394,
          62.90418856656637,
          63.46061329133876,
          63.975641427483986,
          64.71129298625972,
          64.86576455418415,
          65.18853548952652,
          63.90306412626191,
          63.471975183105336,
          64.17793029814479,
          63.63767960540425,
          62.203157482126215,
          62.389576647623535,
          63.66582772426599,
          64.4394130842883,
          65.1908369450799,
          65.89484988698626
         ],
         "yaxis": "y"
        },
        {
         "hovertemplate": "<b>%{hovertext}</b><br><br>Zona d'Italia=Centro<br>line_group=Lazio<br>Anno di riferimento=%{x}<br>Tasso di occupazione(%)=%{y}<extra></extra>",
         "hovertext": [
          "Lazio",
          "Lazio",
          "Lazio",
          "Lazio",
          "Lazio",
          "Lazio",
          "Lazio",
          "Lazio",
          "Lazio",
          "Lazio",
          "Lazio",
          "Lazio",
          "Lazio",
          "Lazio",
          "Lazio",
          "Lazio",
          "Lazio",
          "Lazio",
          "Lazio",
          "Lazio",
          "Lazio",
          "Lazio",
          "Lazio"
         ],
         "legendgroup": "Centro",
         "line": {
          "color": "rgb(85,168,104)",
          "dash": "solid"
         },
         "mode": "lines",
         "name": "Centro",
         "orientation": "v",
         "showlegend": true,
         "type": "scatter",
         "x": [
          "1996",
          "1997",
          "1998",
          "1999",
          "2000",
          "2001",
          "2002",
          "2003",
          "2004",
          "2005",
          "2006",
          "2007",
          "2008",
          "2009",
          "2010",
          "2011",
          "2012",
          "2013",
          "2014",
          "2015",
          "2016",
          "2017",
          "2018"
         ],
         "xaxis": "x",
         "y": [
          50.38577888925959,
          50.71951573658732,
          51.091051571753084,
          51.771669201743144,
          52.732348483653624,
          53.7049649018791,
          55.606295180949175,
          57.16706760210566,
          58.730302882252694,
          58.51703086301282,
          59.38128306934828,
          59.51409132328204,
          60.228552033309924,
          59.515639195615385,
          59.12502104146535,
          58.83515661748314,
          58.830195930886276,
          57.74939243181397,
          58.76462235868685,
          58.97680542651713,
          59.90611470481705,
          60.883121437048025,
          60.90738181233459
         ],
         "yaxis": "y"
        },
        {
         "hovertemplate": "<b>%{hovertext}</b><br><br>Zona d'Italia=Centro<br>line_group=Marche<br>Anno di riferimento=%{x}<br>Tasso di occupazione(%)=%{y}<extra></extra>",
         "hovertext": [
          "Marche",
          "Marche",
          "Marche",
          "Marche",
          "Marche",
          "Marche",
          "Marche",
          "Marche",
          "Marche",
          "Marche",
          "Marche",
          "Marche",
          "Marche",
          "Marche",
          "Marche",
          "Marche",
          "Marche",
          "Marche",
          "Marche",
          "Marche",
          "Marche",
          "Marche",
          "Marche"
         ],
         "legendgroup": "Centro",
         "line": {
          "color": "rgb(85,168,104)",
          "dash": "solid"
         },
         "mode": "lines",
         "name": "Centro",
         "orientation": "v",
         "showlegend": false,
         "type": "scatter",
         "x": [
          "1996",
          "1997",
          "1998",
          "1999",
          "2000",
          "2001",
          "2002",
          "2003",
          "2004",
          "2005",
          "2006",
          "2007",
          "2008",
          "2009",
          "2010",
          "2011",
          "2012",
          "2013",
          "2014",
          "2015",
          "2016",
          "2017",
          "2018"
         ],
         "xaxis": "x",
         "y": [
          59.114353743348545,
          58.21222750533697,
          59.04845811286046,
          60.86516185520799,
          61.948538077862324,
          62.54764853623068,
          63.625988782046264,
          64.09835024786352,
          63.94769279686826,
          63.45601901347062,
          64.35658696854098,
          64.80982923441458,
          64.7091910669474,
          63.62459151513209,
          63.73006519748922,
          62.441302678348286,
          62.58250398190137,
          61.051650749037975,
          62.39773590143456,
          62.14469395611446,
          62.22628321941065,
          62.18386453313144,
          64.66219213162498
         ],
         "yaxis": "y"
        },
        {
         "hovertemplate": "<b>%{hovertext}</b><br><br>Zona d'Italia=Centro<br>line_group=Toscana<br>Anno di riferimento=%{x}<br>Tasso di occupazione(%)=%{y}<extra></extra>",
         "hovertext": [
          "Toscana",
          "Toscana",
          "Toscana",
          "Toscana",
          "Toscana",
          "Toscana",
          "Toscana",
          "Toscana",
          "Toscana",
          "Toscana",
          "Toscana",
          "Toscana",
          "Toscana",
          "Toscana",
          "Toscana",
          "Toscana",
          "Toscana",
          "Toscana",
          "Toscana",
          "Toscana",
          "Toscana",
          "Toscana",
          "Toscana"
         ],
         "legendgroup": "Centro",
         "line": {
          "color": "rgb(85,168,104)",
          "dash": "solid"
         },
         "mode": "lines",
         "name": "Centro",
         "orientation": "v",
         "showlegend": false,
         "type": "scatter",
         "x": [
          "1996",
          "1997",
          "1998",
          "1999",
          "2000",
          "2001",
          "2002",
          "2003",
          "2004",
          "2005",
          "2006",
          "2007",
          "2008",
          "2009",
          "2010",
          "2011",
          "2012",
          "2013",
          "2014",
          "2015",
          "2016",
          "2017",
          "2018"
         ],
         "xaxis": "x",
         "y": [
          58.89606902492728,
          59.00964413336675,
          59.975845431442984,
          61.1261999521598,
          62.6115781254137,
          63.857461924689105,
          64.19349345721757,
          63.78625278246191,
          63.28515222486507,
          63.712366973971726,
          64.68017152279567,
          64.65971154648203,
          65.25311002161854,
          64.71320035279567,
          63.70980385510108,
          63.56544193689607,
          63.74224235099203,
          63.71579888833217,
          63.80196463587021,
          64.81351130968237,
          65.3234943434551,
          66.0273838053607,
          66.52810649162268
         ],
         "yaxis": "y"
        },
        {
         "hovertemplate": "<b>%{hovertext}</b><br><br>Zona d'Italia=Centro<br>line_group=Umbria<br>Anno di riferimento=%{x}<br>Tasso di occupazione(%)=%{y}<extra></extra>",
         "hovertext": [
          "Umbria",
          "Umbria",
          "Umbria",
          "Umbria",
          "Umbria",
          "Umbria",
          "Umbria",
          "Umbria",
          "Umbria",
          "Umbria",
          "Umbria",
          "Umbria",
          "Umbria",
          "Umbria",
          "Umbria",
          "Umbria",
          "Umbria",
          "Umbria",
          "Umbria",
          "Umbria",
          "Umbria",
          "Umbria",
          "Umbria"
         ],
         "legendgroup": "Centro",
         "line": {
          "color": "rgb(85,168,104)",
          "dash": "solid"
         },
         "mode": "lines",
         "name": "Centro",
         "orientation": "v",
         "showlegend": false,
         "type": "scatter",
         "x": [
          "1996",
          "1997",
          "1998",
          "1999",
          "2000",
          "2001",
          "2002",
          "2003",
          "2004",
          "2005",
          "2006",
          "2007",
          "2008",
          "2009",
          "2010",
          "2011",
          "2012",
          "2013",
          "2014",
          "2015",
          "2016",
          "2017",
          "2018"
         ],
         "xaxis": "x",
         "y": [
          57.30364734840009,
          57.67166510056959,
          58.28927114564182,
          60.802325211199815,
          62.61792099106125,
          63.22960808311014,
          62.27653641753679,
          60.965653810586886,
          61.38257186787081,
          61.62180965510133,
          62.789249480604646,
          64.55944906184138,
          65.29967027859017,
          62.85624652671961,
          62.583353694314205,
          62.24988575604604,
          61.49885288238885,
          60.89721443606666,
          61.02204444635089,
          63.10313378628517,
          62.728602779809805,
          62.94327047434375,
          63.044003514423785
         ],
         "yaxis": "y"
        },
        {
         "hovertemplate": "<b>%{hovertext}</b><br><br>Zona d'Italia=Sud<br>line_group=Abruzzo<br>Anno di riferimento=%{x}<br>Tasso di occupazione(%)=%{y}<extra></extra>",
         "hovertext": [
          "Abruzzo",
          "Abruzzo",
          "Abruzzo",
          "Abruzzo",
          "Abruzzo",
          "Abruzzo",
          "Abruzzo",
          "Abruzzo",
          "Abruzzo",
          "Abruzzo",
          "Abruzzo",
          "Abruzzo",
          "Abruzzo",
          "Abruzzo",
          "Abruzzo",
          "Abruzzo",
          "Abruzzo",
          "Abruzzo",
          "Abruzzo",
          "Abruzzo",
          "Abruzzo",
          "Abruzzo",
          "Abruzzo"
         ],
         "legendgroup": "Sud",
         "line": {
          "color": "rgb(196,78,82)",
          "dash": "solid"
         },
         "mode": "lines",
         "name": "Sud",
         "orientation": "v",
         "showlegend": true,
         "type": "scatter",
         "x": [
          "1996",
          "1997",
          "1998",
          "1999",
          "2000",
          "2001",
          "2002",
          "2003",
          "2004",
          "2005",
          "2006",
          "2007",
          "2008",
          "2009",
          "2010",
          "2011",
          "2012",
          "2013",
          "2014",
          "2015",
          "2016",
          "2017",
          "2018"
         ],
         "xaxis": "x",
         "y": [
          56.01269746496099,
          55.730080391741055,
          55.44264132524239,
          54.9928586347738,
          56.31064439925625,
          58.53662672257386,
          59.20962561532189,
          57.99203139148808,
          56.40573762150423,
          57.058133658787746,
          57.6489829684508,
          57.933096418615534,
          58.807943618702566,
          55.72250842898529,
          55.3755758907206,
          56.628213378336845,
          56.661084596598435,
          54.95403343065255,
          53.945744989834445,
          54.50147605657496,
          55.73094634570936,
          56.806653772493696,
          58.013003484953074
         ],
         "yaxis": "y"
        },
        {
         "hovertemplate": "<b>%{hovertext}</b><br><br>Zona d'Italia=Sud<br>line_group=Basilicata<br>Anno di riferimento=%{x}<br>Tasso di occupazione(%)=%{y}<extra></extra>",
         "hovertext": [
          "Basilicata",
          "Basilicata",
          "Basilicata",
          "Basilicata",
          "Basilicata",
          "Basilicata",
          "Basilicata",
          "Basilicata",
          "Basilicata",
          "Basilicata",
          "Basilicata",
          "Basilicata",
          "Basilicata",
          "Basilicata",
          "Basilicata",
          "Basilicata",
          "Basilicata",
          "Basilicata",
          "Basilicata",
          "Basilicata",
          "Basilicata",
          "Basilicata",
          "Basilicata"
         ],
         "legendgroup": "Sud",
         "line": {
          "color": "rgb(196,78,82)",
          "dash": "solid"
         },
         "mode": "lines",
         "name": "Sud",
         "orientation": "v",
         "showlegend": false,
         "type": "scatter",
         "x": [
          "1996",
          "1997",
          "1998",
          "1999",
          "2000",
          "2001",
          "2002",
          "2003",
          "2004",
          "2005",
          "2006",
          "2007",
          "2008",
          "2009",
          "2010",
          "2011",
          "2012",
          "2013",
          "2014",
          "2015",
          "2016",
          "2017",
          "2018"
         ],
         "xaxis": "x",
         "y": [
          45.061381093185744,
          46.18861537695697,
          46.556486223695295,
          47.27602296839331,
          49.18316725285784,
          48.63262924228208,
          49.609033399645085,
          49.627729109041084,
          49.129930245183935,
          49.16422673544949,
          50.23396242075885,
          49.53019889807449,
          49.61185768288124,
          48.384240239741146,
          47.06478943563445,
          47.611829906035794,
          46.82904279741027,
          46.17887030658617,
          47.188266632974305,
          49.19340735048623,
          50.326368493636686,
          49.49463690818968,
          49.38840578135778
         ],
         "yaxis": "y"
        },
        {
         "hovertemplate": "<b>%{hovertext}</b><br><br>Zona d'Italia=Sud<br>line_group=Calabria<br>Anno di riferimento=%{x}<br>Tasso di occupazione(%)=%{y}<extra></extra>",
         "hovertext": [
          "Calabria",
          "Calabria",
          "Calabria",
          "Calabria",
          "Calabria",
          "Calabria",
          "Calabria",
          "Calabria",
          "Calabria",
          "Calabria",
          "Calabria",
          "Calabria",
          "Calabria",
          "Calabria",
          "Calabria",
          "Calabria",
          "Calabria",
          "Calabria",
          "Calabria",
          "Calabria",
          "Calabria",
          "Calabria",
          "Calabria"
         ],
         "legendgroup": "Sud",
         "line": {
          "color": "rgb(196,78,82)",
          "dash": "solid"
         },
         "mode": "lines",
         "name": "Sud",
         "orientation": "v",
         "showlegend": false,
         "type": "scatter",
         "x": [
          "1996",
          "1997",
          "1998",
          "1999",
          "2000",
          "2001",
          "2002",
          "2003",
          "2004",
          "2005",
          "2006",
          "2007",
          "2008",
          "2009",
          "2010",
          "2011",
          "2012",
          "2013",
          "2014",
          "2015",
          "2016",
          "2017",
          "2018"
         ],
         "xaxis": "x",
         "y": [
          42.067390858181604,
          41.94982415074809,
          42.40159372077557,
          42.02071319725932,
          43.05819717522527,
          44.29469597429535,
          45.27910375207954,
          45.207944835516486,
          46.153607890716955,
          44.51882006866843,
          45.44828891188041,
          44.85430049404954,
          44.02132005481344,
          43.00418509849681,
          42.10342319638673,
          42.436235239709255,
          41.470505021387325,
          38.949236641221376,
          39.31185373528202,
          38.91355047662694,
          39.62746032827079,
          40.83779221730572,
          42.152181834173064
         ],
         "yaxis": "y"
        },
        {
         "hovertemplate": "<b>%{hovertext}</b><br><br>Zona d'Italia=Sud<br>line_group=Campania<br>Anno di riferimento=%{x}<br>Tasso di occupazione(%)=%{y}<extra></extra>",
         "hovertext": [
          "Campania",
          "Campania",
          "Campania",
          "Campania",
          "Campania",
          "Campania",
          "Campania",
          "Campania",
          "Campania",
          "Campania",
          "Campania",
          "Campania",
          "Campania",
          "Campania",
          "Campania",
          "Campania",
          "Campania",
          "Campania",
          "Campania",
          "Campania",
          "Campania",
          "Campania",
          "Campania"
         ],
         "legendgroup": "Sud",
         "line": {
          "color": "rgb(196,78,82)",
          "dash": "solid"
         },
         "mode": "lines",
         "name": "Sud",
         "orientation": "v",
         "showlegend": false,
         "type": "scatter",
         "x": [
          "1996",
          "1997",
          "1998",
          "1999",
          "2000",
          "2001",
          "2002",
          "2003",
          "2004",
          "2005",
          "2006",
          "2007",
          "2008",
          "2009",
          "2010",
          "2011",
          "2012",
          "2013",
          "2014",
          "2015",
          "2016",
          "2017",
          "2018"
         ],
         "xaxis": "x",
         "y": [
          42.28737369201352,
          42.45687496113133,
          43.547884079910624,
          43.30305867112907,
          43.34845269861897,
          44.09262708050536,
          45.47075448567809,
          45.7700197235566,
          45.23416323016598,
          44.04637067555537,
          44.115417451148396,
          43.666479158172876,
          42.398161151105015,
          40.76750471264707,
          39.78443202447002,
          39.35335326152051,
          39.8906844869348,
          39.70944365384263,
          39.170285752652894,
          39.576877212001406,
          41.16202091394995,
          42.04875369713995,
          41.641068427612375
         ],
         "yaxis": "y"
        },
        {
         "hovertemplate": "<b>%{hovertext}</b><br><br>Zona d'Italia=Sud<br>line_group=Molise<br>Anno di riferimento=%{x}<br>Tasso di occupazione(%)=%{y}<extra></extra>",
         "hovertext": [
          "Molise",
          "Molise",
          "Molise",
          "Molise",
          "Molise",
          "Molise",
          "Molise",
          "Molise",
          "Molise",
          "Molise",
          "Molise",
          "Molise",
          "Molise",
          "Molise",
          "Molise",
          "Molise",
          "Molise",
          "Molise",
          "Molise",
          "Molise",
          "Molise",
          "Molise",
          "Molise"
         ],
         "legendgroup": "Sud",
         "line": {
          "color": "rgb(196,78,82)",
          "dash": "solid"
         },
         "mode": "lines",
         "name": "Sud",
         "orientation": "v",
         "showlegend": false,
         "type": "scatter",
         "x": [
          "1996",
          "1997",
          "1998",
          "1999",
          "2000",
          "2001",
          "2002",
          "2003",
          "2004",
          "2005",
          "2006",
          "2007",
          "2008",
          "2009",
          "2010",
          "2011",
          "2012",
          "2013",
          "2014",
          "2015",
          "2016",
          "2017",
          "2018"
         ],
         "xaxis": "x",
         "y": [
          49.534269493946915,
          49.92960009071666,
          50.17916207276737,
          50.440831049048725,
          51.775626281193766,
          53.01519445223565,
          53.278000242689,
          51.790946310417766,
          52.110123748703884,
          51.2096009799299,
          52.35075154773462,
          53.59359535058337,
          54.11724756845909,
          52.179034157832746,
          51.01333955133249,
          50.26954112267408,
          50.61991845105843,
          47.57247386248662,
          48.484387572861266,
          49.38267331873043,
          51.86143560135812,
          51.708712823406145,
          53.45486261648398
         ],
         "yaxis": "y"
        },
        {
         "hovertemplate": "<b>%{hovertext}</b><br><br>Zona d'Italia=Sud<br>line_group=Puglia<br>Anno di riferimento=%{x}<br>Tasso di occupazione(%)=%{y}<extra></extra>",
         "hovertext": [
          "Puglia",
          "Puglia",
          "Puglia",
          "Puglia",
          "Puglia",
          "Puglia",
          "Puglia",
          "Puglia",
          "Puglia",
          "Puglia",
          "Puglia",
          "Puglia",
          "Puglia",
          "Puglia",
          "Puglia",
          "Puglia",
          "Puglia",
          "Puglia",
          "Puglia",
          "Puglia",
          "Puglia",
          "Puglia",
          "Puglia"
         ],
         "legendgroup": "Sud",
         "line": {
          "color": "rgb(196,78,82)",
          "dash": "solid"
         },
         "mode": "lines",
         "name": "Sud",
         "orientation": "v",
         "showlegend": false,
         "type": "scatter",
         "x": [
          "1996",
          "1997",
          "1998",
          "1999",
          "2000",
          "2001",
          "2002",
          "2003",
          "2004",
          "2005",
          "2006",
          "2007",
          "2008",
          "2009",
          "2010",
          "2011",
          "2012",
          "2013",
          "2014",
          "2015",
          "2016",
          "2017",
          "2018"
         ],
         "xaxis": "x",
         "y": [
          42.806000234657446,
          42.1578050480392,
          42.63774363195315,
          43.439563573553116,
          44.53775762144479,
          45.4245139999121,
          46.22601525562443,
          45.416338372768095,
          45.10304684350859,
          44.3929082670831,
          45.67876216347743,
          46.59317008585971,
          46.57913289853759,
          44.90942326764622,
          44.31301967835235,
          44.717406032615436,
          44.88059662995457,
          42.333333704141666,
          42.13890570045007,
          43.29481774349951,
          44.276280379794756,
          44.51721893002306,
          45.54416486477521
         ],
         "yaxis": "y"
        },
        {
         "hovertemplate": "<b>%{hovertext}</b><br><br>Zona d'Italia=Isole<br>line_group=Sardegna<br>Anno di riferimento=%{x}<br>Tasso di occupazione(%)=%{y}<extra></extra>",
         "hovertext": [
          "Sardegna",
          "Sardegna",
          "Sardegna",
          "Sardegna",
          "Sardegna",
          "Sardegna",
          "Sardegna",
          "Sardegna",
          "Sardegna",
          "Sardegna",
          "Sardegna",
          "Sardegna",
          "Sardegna",
          "Sardegna",
          "Sardegna",
          "Sardegna",
          "Sardegna",
          "Sardegna",
          "Sardegna",
          "Sardegna",
          "Sardegna",
          "Sardegna",
          "Sardegna"
         ],
         "legendgroup": "Isole",
         "line": {
          "color": "rgb(129,114,179)",
          "dash": "solid"
         },
         "mode": "lines",
         "name": "Isole",
         "orientation": "v",
         "showlegend": true,
         "type": "scatter",
         "x": [
          "1996",
          "1997",
          "1998",
          "1999",
          "2000",
          "2001",
          "2002",
          "2003",
          "2004",
          "2005",
          "2006",
          "2007",
          "2008",
          "2009",
          "2010",
          "2011",
          "2012",
          "2013",
          "2014",
          "2015",
          "2016",
          "2017",
          "2018"
         ],
         "xaxis": "x",
         "y": [
          47.192378619470496,
          48.06097017397503,
          48.69643725258698,
          49.58357232194224,
          49.67398932325944,
          51.617997475353185,
          52.37152882998019,
          51.22987004201913,
          51.487865685356425,
          51.397359892220386,
          52.10160937943584,
          52.77565036934555,
          52.32506742682303,
          50.783691026565435,
          50.96596397270589,
          51.718085760030775,
          51.71301649120672,
          48.317612971947646,
          48.554510308929224,
          50.14760948953195,
          50.29886075926194,
          50.45695583191265,
          52.73463038212919
         ],
         "yaxis": "y"
        },
        {
         "hovertemplate": "<b>%{hovertext}</b><br><br>Zona d'Italia=Isole<br>line_group=Sicilia<br>Anno di riferimento=%{x}<br>Tasso di occupazione(%)=%{y}<extra></extra>",
         "hovertext": [
          "Sicilia",
          "Sicilia",
          "Sicilia",
          "Sicilia",
          "Sicilia",
          "Sicilia",
          "Sicilia",
          "Sicilia",
          "Sicilia",
          "Sicilia",
          "Sicilia",
          "Sicilia",
          "Sicilia",
          "Sicilia",
          "Sicilia",
          "Sicilia",
          "Sicilia",
          "Sicilia",
          "Sicilia",
          "Sicilia",
          "Sicilia",
          "Sicilia",
          "Sicilia"
         ],
         "legendgroup": "Isole",
         "line": {
          "color": "rgb(129,114,179)",
          "dash": "solid"
         },
         "mode": "lines",
         "name": "Isole",
         "orientation": "v",
         "showlegend": false,
         "type": "scatter",
         "x": [
          "1996",
          "1997",
          "1998",
          "1999",
          "2000",
          "2001",
          "2002",
          "2003",
          "2004",
          "2005",
          "2006",
          "2007",
          "2008",
          "2009",
          "2010",
          "2011",
          "2012",
          "2013",
          "2014",
          "2015",
          "2016",
          "2017",
          "2018"
         ],
         "xaxis": "x",
         "y": [
          39.76826536338623,
          40.152976811282684,
          41.136882480636125,
          41.263147023399995,
          41.87037986748929,
          43.28398315802603,
          43.88376957708116,
          43.255651068683434,
          43.328926234697704,
          44.08383824542375,
          45.01780753951615,
          44.55431575311309,
          44.14677838914622,
          43.57446616541353,
          42.683882388862735,
          42.37444811083778,
          41.29860799603608,
          39.329117767658936,
          39.01483640455087,
          39.97773049270459,
          40.102633779453726,
          40.62769354340627,
          40.67349545182057
         ],
         "yaxis": "y"
        }
       ],
       "layout": {
        "legend": {
         "title": {
          "text": "Zona d'Italia"
         },
         "tracegroupgap": 0
        },
        "template": {
         "data": {
          "bar": [
           {
            "error_x": {
             "color": "rgb(36,36,36)"
            },
            "error_y": {
             "color": "rgb(36,36,36)"
            },
            "marker": {
             "line": {
              "color": "rgb(234,234,242)",
              "width": 0.5
             }
            },
            "type": "bar"
           }
          ],
          "barpolar": [
           {
            "marker": {
             "line": {
              "color": "rgb(234,234,242)",
              "width": 0.5
             }
            },
            "type": "barpolar"
           }
          ],
          "carpet": [
           {
            "aaxis": {
             "endlinecolor": "rgb(36,36,36)",
             "gridcolor": "white",
             "linecolor": "white",
             "minorgridcolor": "white",
             "startlinecolor": "rgb(36,36,36)"
            },
            "baxis": {
             "endlinecolor": "rgb(36,36,36)",
             "gridcolor": "white",
             "linecolor": "white",
             "minorgridcolor": "white",
             "startlinecolor": "rgb(36,36,36)"
            },
            "type": "carpet"
           }
          ],
          "choropleth": [
           {
            "colorbar": {
             "outlinewidth": 0,
             "tickcolor": "rgb(36,36,36)",
             "ticklen": 8,
             "ticks": "outside",
             "tickwidth": 2
            },
            "type": "choropleth"
           }
          ],
          "contour": [
           {
            "colorbar": {
             "outlinewidth": 0,
             "tickcolor": "rgb(36,36,36)",
             "ticklen": 8,
             "ticks": "outside",
             "tickwidth": 2
            },
            "colorscale": [
             [
              0,
              "rgb(2,4,25)"
             ],
             [
              0.06274509803921569,
              "rgb(24,15,41)"
             ],
             [
              0.12549019607843137,
              "rgb(47,23,57)"
             ],
             [
              0.18823529411764706,
              "rgb(71,28,72)"
             ],
             [
              0.25098039215686274,
              "rgb(97,30,82)"
             ],
             [
              0.3137254901960784,
              "rgb(123,30,89)"
             ],
             [
              0.3764705882352941,
              "rgb(150,27,91)"
             ],
             [
              0.4392156862745098,
              "rgb(177,22,88)"
             ],
             [
              0.5019607843137255,
              "rgb(203,26,79)"
             ],
             [
              0.5647058823529412,
              "rgb(223,47,67)"
             ],
             [
              0.6274509803921569,
              "rgb(236,76,61)"
             ],
             [
              0.6901960784313725,
              "rgb(242,107,73)"
             ],
             [
              0.7529411764705882,
              "rgb(244,135,95)"
             ],
             [
              0.8156862745098039,
              "rgb(245,162,122)"
             ],
             [
              0.8784313725490196,
              "rgb(246,188,153)"
             ],
             [
              0.9411764705882353,
              "rgb(247,212,187)"
             ],
             [
              1,
              "rgb(250,234,220)"
             ]
            ],
            "type": "contour"
           }
          ],
          "contourcarpet": [
           {
            "colorbar": {
             "outlinewidth": 0,
             "tickcolor": "rgb(36,36,36)",
             "ticklen": 8,
             "ticks": "outside",
             "tickwidth": 2
            },
            "type": "contourcarpet"
           }
          ],
          "heatmap": [
           {
            "colorbar": {
             "outlinewidth": 0,
             "tickcolor": "rgb(36,36,36)",
             "ticklen": 8,
             "ticks": "outside",
             "tickwidth": 2
            },
            "colorscale": [
             [
              0,
              "rgb(2,4,25)"
             ],
             [
              0.06274509803921569,
              "rgb(24,15,41)"
             ],
             [
              0.12549019607843137,
              "rgb(47,23,57)"
             ],
             [
              0.18823529411764706,
              "rgb(71,28,72)"
             ],
             [
              0.25098039215686274,
              "rgb(97,30,82)"
             ],
             [
              0.3137254901960784,
              "rgb(123,30,89)"
             ],
             [
              0.3764705882352941,
              "rgb(150,27,91)"
             ],
             [
              0.4392156862745098,
              "rgb(177,22,88)"
             ],
             [
              0.5019607843137255,
              "rgb(203,26,79)"
             ],
             [
              0.5647058823529412,
              "rgb(223,47,67)"
             ],
             [
              0.6274509803921569,
              "rgb(236,76,61)"
             ],
             [
              0.6901960784313725,
              "rgb(242,107,73)"
             ],
             [
              0.7529411764705882,
              "rgb(244,135,95)"
             ],
             [
              0.8156862745098039,
              "rgb(245,162,122)"
             ],
             [
              0.8784313725490196,
              "rgb(246,188,153)"
             ],
             [
              0.9411764705882353,
              "rgb(247,212,187)"
             ],
             [
              1,
              "rgb(250,234,220)"
             ]
            ],
            "type": "heatmap"
           }
          ],
          "heatmapgl": [
           {
            "colorbar": {
             "outlinewidth": 0,
             "tickcolor": "rgb(36,36,36)",
             "ticklen": 8,
             "ticks": "outside",
             "tickwidth": 2
            },
            "colorscale": [
             [
              0,
              "rgb(2,4,25)"
             ],
             [
              0.06274509803921569,
              "rgb(24,15,41)"
             ],
             [
              0.12549019607843137,
              "rgb(47,23,57)"
             ],
             [
              0.18823529411764706,
              "rgb(71,28,72)"
             ],
             [
              0.25098039215686274,
              "rgb(97,30,82)"
             ],
             [
              0.3137254901960784,
              "rgb(123,30,89)"
             ],
             [
              0.3764705882352941,
              "rgb(150,27,91)"
             ],
             [
              0.4392156862745098,
              "rgb(177,22,88)"
             ],
             [
              0.5019607843137255,
              "rgb(203,26,79)"
             ],
             [
              0.5647058823529412,
              "rgb(223,47,67)"
             ],
             [
              0.6274509803921569,
              "rgb(236,76,61)"
             ],
             [
              0.6901960784313725,
              "rgb(242,107,73)"
             ],
             [
              0.7529411764705882,
              "rgb(244,135,95)"
             ],
             [
              0.8156862745098039,
              "rgb(245,162,122)"
             ],
             [
              0.8784313725490196,
              "rgb(246,188,153)"
             ],
             [
              0.9411764705882353,
              "rgb(247,212,187)"
             ],
             [
              1,
              "rgb(250,234,220)"
             ]
            ],
            "type": "heatmapgl"
           }
          ],
          "histogram": [
           {
            "marker": {
             "colorbar": {
              "outlinewidth": 0,
              "tickcolor": "rgb(36,36,36)",
              "ticklen": 8,
              "ticks": "outside",
              "tickwidth": 2
             }
            },
            "type": "histogram"
           }
          ],
          "histogram2d": [
           {
            "colorbar": {
             "outlinewidth": 0,
             "tickcolor": "rgb(36,36,36)",
             "ticklen": 8,
             "ticks": "outside",
             "tickwidth": 2
            },
            "colorscale": [
             [
              0,
              "rgb(2,4,25)"
             ],
             [
              0.06274509803921569,
              "rgb(24,15,41)"
             ],
             [
              0.12549019607843137,
              "rgb(47,23,57)"
             ],
             [
              0.18823529411764706,
              "rgb(71,28,72)"
             ],
             [
              0.25098039215686274,
              "rgb(97,30,82)"
             ],
             [
              0.3137254901960784,
              "rgb(123,30,89)"
             ],
             [
              0.3764705882352941,
              "rgb(150,27,91)"
             ],
             [
              0.4392156862745098,
              "rgb(177,22,88)"
             ],
             [
              0.5019607843137255,
              "rgb(203,26,79)"
             ],
             [
              0.5647058823529412,
              "rgb(223,47,67)"
             ],
             [
              0.6274509803921569,
              "rgb(236,76,61)"
             ],
             [
              0.6901960784313725,
              "rgb(242,107,73)"
             ],
             [
              0.7529411764705882,
              "rgb(244,135,95)"
             ],
             [
              0.8156862745098039,
              "rgb(245,162,122)"
             ],
             [
              0.8784313725490196,
              "rgb(246,188,153)"
             ],
             [
              0.9411764705882353,
              "rgb(247,212,187)"
             ],
             [
              1,
              "rgb(250,234,220)"
             ]
            ],
            "type": "histogram2d"
           }
          ],
          "histogram2dcontour": [
           {
            "colorbar": {
             "outlinewidth": 0,
             "tickcolor": "rgb(36,36,36)",
             "ticklen": 8,
             "ticks": "outside",
             "tickwidth": 2
            },
            "colorscale": [
             [
              0,
              "rgb(2,4,25)"
             ],
             [
              0.06274509803921569,
              "rgb(24,15,41)"
             ],
             [
              0.12549019607843137,
              "rgb(47,23,57)"
             ],
             [
              0.18823529411764706,
              "rgb(71,28,72)"
             ],
             [
              0.25098039215686274,
              "rgb(97,30,82)"
             ],
             [
              0.3137254901960784,
              "rgb(123,30,89)"
             ],
             [
              0.3764705882352941,
              "rgb(150,27,91)"
             ],
             [
              0.4392156862745098,
              "rgb(177,22,88)"
             ],
             [
              0.5019607843137255,
              "rgb(203,26,79)"
             ],
             [
              0.5647058823529412,
              "rgb(223,47,67)"
             ],
             [
              0.6274509803921569,
              "rgb(236,76,61)"
             ],
             [
              0.6901960784313725,
              "rgb(242,107,73)"
             ],
             [
              0.7529411764705882,
              "rgb(244,135,95)"
             ],
             [
              0.8156862745098039,
              "rgb(245,162,122)"
             ],
             [
              0.8784313725490196,
              "rgb(246,188,153)"
             ],
             [
              0.9411764705882353,
              "rgb(247,212,187)"
             ],
             [
              1,
              "rgb(250,234,220)"
             ]
            ],
            "type": "histogram2dcontour"
           }
          ],
          "mesh3d": [
           {
            "colorbar": {
             "outlinewidth": 0,
             "tickcolor": "rgb(36,36,36)",
             "ticklen": 8,
             "ticks": "outside",
             "tickwidth": 2
            },
            "type": "mesh3d"
           }
          ],
          "parcoords": [
           {
            "line": {
             "colorbar": {
              "outlinewidth": 0,
              "tickcolor": "rgb(36,36,36)",
              "ticklen": 8,
              "ticks": "outside",
              "tickwidth": 2
             }
            },
            "type": "parcoords"
           }
          ],
          "pie": [
           {
            "automargin": true,
            "type": "pie"
           }
          ],
          "scatter": [
           {
            "marker": {
             "colorbar": {
              "outlinewidth": 0,
              "tickcolor": "rgb(36,36,36)",
              "ticklen": 8,
              "ticks": "outside",
              "tickwidth": 2
             }
            },
            "type": "scatter"
           }
          ],
          "scatter3d": [
           {
            "line": {
             "colorbar": {
              "outlinewidth": 0,
              "tickcolor": "rgb(36,36,36)",
              "ticklen": 8,
              "ticks": "outside",
              "tickwidth": 2
             }
            },
            "marker": {
             "colorbar": {
              "outlinewidth": 0,
              "tickcolor": "rgb(36,36,36)",
              "ticklen": 8,
              "ticks": "outside",
              "tickwidth": 2
             }
            },
            "type": "scatter3d"
           }
          ],
          "scattercarpet": [
           {
            "marker": {
             "colorbar": {
              "outlinewidth": 0,
              "tickcolor": "rgb(36,36,36)",
              "ticklen": 8,
              "ticks": "outside",
              "tickwidth": 2
             }
            },
            "type": "scattercarpet"
           }
          ],
          "scattergeo": [
           {
            "marker": {
             "colorbar": {
              "outlinewidth": 0,
              "tickcolor": "rgb(36,36,36)",
              "ticklen": 8,
              "ticks": "outside",
              "tickwidth": 2
             }
            },
            "type": "scattergeo"
           }
          ],
          "scattergl": [
           {
            "marker": {
             "colorbar": {
              "outlinewidth": 0,
              "tickcolor": "rgb(36,36,36)",
              "ticklen": 8,
              "ticks": "outside",
              "tickwidth": 2
             }
            },
            "type": "scattergl"
           }
          ],
          "scattermapbox": [
           {
            "marker": {
             "colorbar": {
              "outlinewidth": 0,
              "tickcolor": "rgb(36,36,36)",
              "ticklen": 8,
              "ticks": "outside",
              "tickwidth": 2
             }
            },
            "type": "scattermapbox"
           }
          ],
          "scatterpolar": [
           {
            "marker": {
             "colorbar": {
              "outlinewidth": 0,
              "tickcolor": "rgb(36,36,36)",
              "ticklen": 8,
              "ticks": "outside",
              "tickwidth": 2
             }
            },
            "type": "scatterpolar"
           }
          ],
          "scatterpolargl": [
           {
            "marker": {
             "colorbar": {
              "outlinewidth": 0,
              "tickcolor": "rgb(36,36,36)",
              "ticklen": 8,
              "ticks": "outside",
              "tickwidth": 2
             }
            },
            "type": "scatterpolargl"
           }
          ],
          "scatterternary": [
           {
            "marker": {
             "colorbar": {
              "outlinewidth": 0,
              "tickcolor": "rgb(36,36,36)",
              "ticklen": 8,
              "ticks": "outside",
              "tickwidth": 2
             }
            },
            "type": "scatterternary"
           }
          ],
          "surface": [
           {
            "colorbar": {
             "outlinewidth": 0,
             "tickcolor": "rgb(36,36,36)",
             "ticklen": 8,
             "ticks": "outside",
             "tickwidth": 2
            },
            "colorscale": [
             [
              0,
              "rgb(2,4,25)"
             ],
             [
              0.06274509803921569,
              "rgb(24,15,41)"
             ],
             [
              0.12549019607843137,
              "rgb(47,23,57)"
             ],
             [
              0.18823529411764706,
              "rgb(71,28,72)"
             ],
             [
              0.25098039215686274,
              "rgb(97,30,82)"
             ],
             [
              0.3137254901960784,
              "rgb(123,30,89)"
             ],
             [
              0.3764705882352941,
              "rgb(150,27,91)"
             ],
             [
              0.4392156862745098,
              "rgb(177,22,88)"
             ],
             [
              0.5019607843137255,
              "rgb(203,26,79)"
             ],
             [
              0.5647058823529412,
              "rgb(223,47,67)"
             ],
             [
              0.6274509803921569,
              "rgb(236,76,61)"
             ],
             [
              0.6901960784313725,
              "rgb(242,107,73)"
             ],
             [
              0.7529411764705882,
              "rgb(244,135,95)"
             ],
             [
              0.8156862745098039,
              "rgb(245,162,122)"
             ],
             [
              0.8784313725490196,
              "rgb(246,188,153)"
             ],
             [
              0.9411764705882353,
              "rgb(247,212,187)"
             ],
             [
              1,
              "rgb(250,234,220)"
             ]
            ],
            "type": "surface"
           }
          ],
          "table": [
           {
            "cells": {
             "fill": {
              "color": "rgb(231,231,240)"
             },
             "line": {
              "color": "white"
             }
            },
            "header": {
             "fill": {
              "color": "rgb(183,183,191)"
             },
             "line": {
              "color": "white"
             }
            },
            "type": "table"
           }
          ]
         },
         "layout": {
          "annotationdefaults": {
           "arrowcolor": "rgb(67,103,167)"
          },
          "autotypenumbers": "strict",
          "coloraxis": {
           "colorbar": {
            "outlinewidth": 0,
            "tickcolor": "rgb(36,36,36)",
            "ticklen": 8,
            "ticks": "outside",
            "tickwidth": 2
           }
          },
          "colorscale": {
           "sequential": [
            [
             0,
             "rgb(2,4,25)"
            ],
            [
             0.06274509803921569,
             "rgb(24,15,41)"
            ],
            [
             0.12549019607843137,
             "rgb(47,23,57)"
            ],
            [
             0.18823529411764706,
             "rgb(71,28,72)"
            ],
            [
             0.25098039215686274,
             "rgb(97,30,82)"
            ],
            [
             0.3137254901960784,
             "rgb(123,30,89)"
            ],
            [
             0.3764705882352941,
             "rgb(150,27,91)"
            ],
            [
             0.4392156862745098,
             "rgb(177,22,88)"
            ],
            [
             0.5019607843137255,
             "rgb(203,26,79)"
            ],
            [
             0.5647058823529412,
             "rgb(223,47,67)"
            ],
            [
             0.6274509803921569,
             "rgb(236,76,61)"
            ],
            [
             0.6901960784313725,
             "rgb(242,107,73)"
            ],
            [
             0.7529411764705882,
             "rgb(244,135,95)"
            ],
            [
             0.8156862745098039,
             "rgb(245,162,122)"
            ],
            [
             0.8784313725490196,
             "rgb(246,188,153)"
            ],
            [
             0.9411764705882353,
             "rgb(247,212,187)"
            ],
            [
             1,
             "rgb(250,234,220)"
            ]
           ],
           "sequentialminus": [
            [
             0,
             "rgb(2,4,25)"
            ],
            [
             0.06274509803921569,
             "rgb(24,15,41)"
            ],
            [
             0.12549019607843137,
             "rgb(47,23,57)"
            ],
            [
             0.18823529411764706,
             "rgb(71,28,72)"
            ],
            [
             0.25098039215686274,
             "rgb(97,30,82)"
            ],
            [
             0.3137254901960784,
             "rgb(123,30,89)"
            ],
            [
             0.3764705882352941,
             "rgb(150,27,91)"
            ],
            [
             0.4392156862745098,
             "rgb(177,22,88)"
            ],
            [
             0.5019607843137255,
             "rgb(203,26,79)"
            ],
            [
             0.5647058823529412,
             "rgb(223,47,67)"
            ],
            [
             0.6274509803921569,
             "rgb(236,76,61)"
            ],
            [
             0.6901960784313725,
             "rgb(242,107,73)"
            ],
            [
             0.7529411764705882,
             "rgb(244,135,95)"
            ],
            [
             0.8156862745098039,
             "rgb(245,162,122)"
            ],
            [
             0.8784313725490196,
             "rgb(246,188,153)"
            ],
            [
             0.9411764705882353,
             "rgb(247,212,187)"
            ],
            [
             1,
             "rgb(250,234,220)"
            ]
           ]
          },
          "colorway": [
           "rgb(76,114,176)",
           "rgb(221,132,82)",
           "rgb(85,168,104)",
           "rgb(196,78,82)",
           "rgb(129,114,179)",
           "rgb(147,120,96)",
           "rgb(218,139,195)",
           "rgb(140,140,140)",
           "rgb(204,185,116)",
           "rgb(100,181,205)"
          ],
          "font": {
           "color": "rgb(36,36,36)"
          },
          "geo": {
           "bgcolor": "white",
           "lakecolor": "white",
           "landcolor": "rgb(234,234,242)",
           "showlakes": true,
           "showland": true,
           "subunitcolor": "white"
          },
          "hoverlabel": {
           "align": "left"
          },
          "hovermode": "closest",
          "paper_bgcolor": "white",
          "plot_bgcolor": "rgb(234,234,242)",
          "polar": {
           "angularaxis": {
            "gridcolor": "white",
            "linecolor": "white",
            "showgrid": true,
            "ticks": ""
           },
           "bgcolor": "rgb(234,234,242)",
           "radialaxis": {
            "gridcolor": "white",
            "linecolor": "white",
            "showgrid": true,
            "ticks": ""
           }
          },
          "scene": {
           "xaxis": {
            "backgroundcolor": "rgb(234,234,242)",
            "gridcolor": "white",
            "gridwidth": 2,
            "linecolor": "white",
            "showbackground": true,
            "showgrid": true,
            "ticks": "",
            "zerolinecolor": "white"
           },
           "yaxis": {
            "backgroundcolor": "rgb(234,234,242)",
            "gridcolor": "white",
            "gridwidth": 2,
            "linecolor": "white",
            "showbackground": true,
            "showgrid": true,
            "ticks": "",
            "zerolinecolor": "white"
           },
           "zaxis": {
            "backgroundcolor": "rgb(234,234,242)",
            "gridcolor": "white",
            "gridwidth": 2,
            "linecolor": "white",
            "showbackground": true,
            "showgrid": true,
            "ticks": "",
            "zerolinecolor": "white"
           }
          },
          "shapedefaults": {
           "fillcolor": "rgb(67,103,167)",
           "line": {
            "width": 0
           },
           "opacity": 0.5
          },
          "ternary": {
           "aaxis": {
            "gridcolor": "white",
            "linecolor": "white",
            "showgrid": true,
            "ticks": ""
           },
           "baxis": {
            "gridcolor": "white",
            "linecolor": "white",
            "showgrid": true,
            "ticks": ""
           },
           "bgcolor": "rgb(234,234,242)",
           "caxis": {
            "gridcolor": "white",
            "linecolor": "white",
            "showgrid": true,
            "ticks": ""
           }
          },
          "xaxis": {
           "automargin": true,
           "gridcolor": "white",
           "linecolor": "white",
           "showgrid": true,
           "ticks": "",
           "title": {
            "standoff": 15
           },
           "zerolinecolor": "white"
          },
          "yaxis": {
           "automargin": true,
           "gridcolor": "white",
           "linecolor": "white",
           "showgrid": true,
           "ticks": "",
           "title": {
            "standoff": 15
           },
           "zerolinecolor": "white"
          }
         }
        },
        "title": {
         "text": "Andamento Tasso di occupazione in italia 15 - 64 anni (per zone)"
        },
        "xaxis": {
         "anchor": "y",
         "domain": [
          0,
          1
         ],
         "title": {
          "text": "Anno di riferimento"
         }
        },
        "yaxis": {
         "anchor": "x",
         "domain": [
          0,
          1
         ],
         "title": {
          "text": "Tasso di occupazione(%)"
         }
        }
       }
      },
      "text/html": [
       "<div>                            <div id=\"7f5e189c-20be-43fb-9704-5855011be166\" class=\"plotly-graph-div\" style=\"height:525px; width:100%;\"></div>            <script type=\"text/javascript\">                require([\"plotly\"], function(Plotly) {                    window.PLOTLYENV=window.PLOTLYENV || {};                                    if (document.getElementById(\"7f5e189c-20be-43fb-9704-5855011be166\")) {                    Plotly.newPlot(                        \"7f5e189c-20be-43fb-9704-5855011be166\",                        [{\"hovertemplate\": \"<b>%{hovertext}</b><br><br>Zona d'Italia=Nord-est<br>line_group=Emilia-Romagna<br>Anno di riferimento=%{x}<br>Tasso di occupazione(%)=%{y}<extra></extra>\", \"hovertext\": [\"Emilia-Romagna\", \"Emilia-Romagna\", \"Emilia-Romagna\", \"Emilia-Romagna\", \"Emilia-Romagna\", \"Emilia-Romagna\", \"Emilia-Romagna\", \"Emilia-Romagna\", \"Emilia-Romagna\", \"Emilia-Romagna\", \"Emilia-Romagna\", \"Emilia-Romagna\", \"Emilia-Romagna\", \"Emilia-Romagna\", \"Emilia-Romagna\", \"Emilia-Romagna\", \"Emilia-Romagna\", \"Emilia-Romagna\", \"Emilia-Romagna\", \"Emilia-Romagna\", \"Emilia-Romagna\", \"Emilia-Romagna\", \"Emilia-Romagna\"], \"legendgroup\": \"Nord-est\", \"line\": {\"color\": \"rgb(76,114,176)\", \"dash\": \"solid\"}, \"mode\": \"lines\", \"name\": \"Nord-est\", \"orientation\": \"v\", \"showlegend\": true, \"type\": \"scatter\", \"x\": [\"1996\", \"1997\", \"1998\", \"1999\", \"2000\", \"2001\", \"2002\", \"2003\", \"2004\", \"2005\", \"2006\", \"2007\", \"2008\", \"2009\", \"2010\", \"2011\", \"2012\", \"2013\", \"2014\", \"2015\", \"2016\", \"2017\", \"2018\"], \"xaxis\": \"x\", \"y\": [64.05293272847472, 64.73839453974529, 65.3820306915931, 66.78046299759785, 68.03608229491164, 68.83310940139437, 69.87164129716685, 69.55666878444242, 68.34824036525536, 68.43104926614419, 69.37335379735005, 70.18662934377897, 70.15933468169918, 68.38413627948894, 67.31552784467686, 67.8036955739423, 67.5020290972183, 66.24904048946746, 66.26446355409482, 66.69938311244363, 68.39061675726508, 68.58451727550595, 69.60103249699739], \"yaxis\": \"y\"}, {\"hovertemplate\": \"<b>%{hovertext}</b><br><br>Zona d'Italia=Nord-est<br>line_group=Friuli-Venezia Giulia<br>Anno di riferimento=%{x}<br>Tasso di occupazione(%)=%{y}<extra></extra>\", \"hovertext\": [\"Friuli-Venezia Giulia\", \"Friuli-Venezia Giulia\", \"Friuli-Venezia Giulia\", \"Friuli-Venezia Giulia\", \"Friuli-Venezia Giulia\", \"Friuli-Venezia Giulia\", \"Friuli-Venezia Giulia\", \"Friuli-Venezia Giulia\", \"Friuli-Venezia Giulia\", \"Friuli-Venezia Giulia\", \"Friuli-Venezia Giulia\", \"Friuli-Venezia Giulia\", \"Friuli-Venezia Giulia\", \"Friuli-Venezia Giulia\", \"Friuli-Venezia Giulia\", \"Friuli-Venezia Giulia\", \"Friuli-Venezia Giulia\", \"Friuli-Venezia Giulia\", \"Friuli-Venezia Giulia\", \"Friuli-Venezia Giulia\", \"Friuli-Venezia Giulia\", \"Friuli-Venezia Giulia\", \"Friuli-Venezia Giulia\"], \"legendgroup\": \"Nord-est\", \"line\": {\"color\": \"rgb(76,114,176)\", \"dash\": \"solid\"}, \"mode\": \"lines\", \"name\": \"Nord-est\", \"orientation\": \"v\", \"showlegend\": false, \"type\": \"scatter\", \"x\": [\"1996\", \"1997\", \"1998\", \"1999\", \"2000\", \"2001\", \"2002\", \"2003\", \"2004\", \"2005\", \"2006\", \"2007\", \"2008\", \"2009\", \"2010\", \"2011\", \"2012\", \"2013\", \"2014\", \"2015\", \"2016\", \"2017\", \"2018\"], \"xaxis\": \"x\", \"y\": [58.73941404642229, 58.78322402269016, 59.775721062821496, 60.40213076820199, 61.93878686418605, 63.58067324544451, 63.81949630894136, 63.12050881754796, 62.59793013047189, 63.15853141430258, 64.77717461531867, 65.38688264090013, 65.18461349743421, 63.477053164763795, 63.59153756455106, 64.2095065824599, 63.64205394435538, 62.9633096462011, 63.112487455646175, 63.657264776479025, 64.6627177552664, 65.7219838206581, 66.27223911841905], \"yaxis\": \"y\"}, {\"hovertemplate\": \"<b>%{hovertext}</b><br><br>Zona d'Italia=Nord-est<br>line_group=Provincia Autonoma Bolzano / Bozen<br>Anno di riferimento=%{x}<br>Tasso di occupazione(%)=%{y}<extra></extra>\", \"hovertext\": [\"Provincia Autonoma Bolzano / Bozen\", \"Provincia Autonoma Bolzano / Bozen\", \"Provincia Autonoma Bolzano / Bozen\", \"Provincia Autonoma Bolzano / Bozen\", \"Provincia Autonoma Bolzano / Bozen\", \"Provincia Autonoma Bolzano / Bozen\", \"Provincia Autonoma Bolzano / Bozen\", \"Provincia Autonoma Bolzano / Bozen\", \"Provincia Autonoma Bolzano / Bozen\", \"Provincia Autonoma Bolzano / Bozen\", \"Provincia Autonoma Bolzano / Bozen\", \"Provincia Autonoma Bolzano / Bozen\", \"Provincia Autonoma Bolzano / Bozen\", \"Provincia Autonoma Bolzano / Bozen\", \"Provincia Autonoma Bolzano / Bozen\", \"Provincia Autonoma Bolzano / Bozen\", \"Provincia Autonoma Bolzano / Bozen\", \"Provincia Autonoma Bolzano / Bozen\", \"Provincia Autonoma Bolzano / Bozen\", \"Provincia Autonoma Bolzano / Bozen\", \"Provincia Autonoma Bolzano / Bozen\", \"Provincia Autonoma Bolzano / Bozen\", \"Provincia Autonoma Bolzano / Bozen\"], \"legendgroup\": \"Nord-est\", \"line\": {\"color\": \"rgb(76,114,176)\", \"dash\": \"solid\"}, \"mode\": \"lines\", \"name\": \"Nord-est\", \"orientation\": \"v\", \"showlegend\": false, \"type\": \"scatter\", \"x\": [\"1996\", \"1997\", \"1998\", \"1999\", \"2000\", \"2001\", \"2002\", \"2003\", \"2004\", \"2005\", \"2006\", \"2007\", \"2008\", \"2009\", \"2010\", \"2011\", \"2012\", \"2013\", \"2014\", \"2015\", \"2016\", \"2017\", \"2018\"], \"xaxis\": \"x\", \"y\": [63.41215850001149, 63.22680419126754, 63.92495402715582, 63.73724140628055, 65.45039612232492, 65.46559203231685, 66.94911141523261, 68.27218626387597, 69.1740564074655, 69.02312561631199, 69.4959952498863, 69.68520860067959, 70.42289896290028, 70.37434511254477, 71.01803617063102, 70.99543468117484, 71.8053722831445, 71.44071065255648, 70.844054890378, 71.37805704797202, 72.68077454389558, 72.89322056492824, 73.5222390308778], \"yaxis\": \"y\"}, {\"hovertemplate\": \"<b>%{hovertext}</b><br><br>Zona d'Italia=Nord-est<br>line_group=Provincia Autonoma Trento<br>Anno di riferimento=%{x}<br>Tasso di occupazione(%)=%{y}<extra></extra>\", \"hovertext\": [\"Provincia Autonoma Trento\", \"Provincia Autonoma Trento\", \"Provincia Autonoma Trento\", \"Provincia Autonoma Trento\", \"Provincia Autonoma Trento\", \"Provincia Autonoma Trento\", \"Provincia Autonoma Trento\", \"Provincia Autonoma Trento\", \"Provincia Autonoma Trento\", \"Provincia Autonoma Trento\", \"Provincia Autonoma Trento\", \"Provincia Autonoma Trento\", \"Provincia Autonoma Trento\", \"Provincia Autonoma Trento\", \"Provincia Autonoma Trento\", \"Provincia Autonoma Trento\", \"Provincia Autonoma Trento\", \"Provincia Autonoma Trento\", \"Provincia Autonoma Trento\", \"Provincia Autonoma Trento\", \"Provincia Autonoma Trento\", \"Provincia Autonoma Trento\", \"Provincia Autonoma Trento\"], \"legendgroup\": \"Nord-est\", \"line\": {\"color\": \"rgb(76,114,176)\", \"dash\": \"solid\"}, \"mode\": \"lines\", \"name\": \"Nord-est\", \"orientation\": \"v\", \"showlegend\": false, \"type\": \"scatter\", \"x\": [\"1996\", \"1997\", \"1998\", \"1999\", \"2000\", \"2001\", \"2002\", \"2003\", \"2004\", \"2005\", \"2006\", \"2007\", \"2008\", \"2009\", \"2010\", \"2011\", \"2012\", \"2013\", \"2014\", \"2015\", \"2016\", \"2017\", \"2018\"], \"xaxis\": \"x\", \"y\": [62.58002209288054, 62.83964569629179, 63.82803354660766, 64.89169761552733, 66.37180803876618, 66.27252091821714, 65.72540061650297, 66.12651760389208, 65.64033650913572, 65.057015095659, 65.36431478554823, 66.28254478222654, 66.68156793327434, 66.51620174194373, 65.89864336221785, 65.9235023988028, 65.3791100872584, 65.51379162498213, 65.89123155117086, 66.08388454162653, 66.04361279945921, 67.55032812536491, 68.2056730550318], \"yaxis\": \"y\"}, {\"hovertemplate\": \"<b>%{hovertext}</b><br><br>Zona d'Italia=Nord-est<br>line_group=Trentino Alto Adige / S\\u00fcdtirol<br>Anno di riferimento=%{x}<br>Tasso di occupazione(%)=%{y}<extra></extra>\", \"hovertext\": [\"Trentino Alto Adige / S\\u00fcdtirol\", \"Trentino Alto Adige / S\\u00fcdtirol\", \"Trentino Alto Adige / S\\u00fcdtirol\", \"Trentino Alto Adige / S\\u00fcdtirol\", \"Trentino Alto Adige / S\\u00fcdtirol\", \"Trentino Alto Adige / S\\u00fcdtirol\", \"Trentino Alto Adige / S\\u00fcdtirol\", \"Trentino Alto Adige / S\\u00fcdtirol\", \"Trentino Alto Adige / S\\u00fcdtirol\", \"Trentino Alto Adige / S\\u00fcdtirol\", \"Trentino Alto Adige / S\\u00fcdtirol\", \"Trentino Alto Adige / S\\u00fcdtirol\", \"Trentino Alto Adige / S\\u00fcdtirol\", \"Trentino Alto Adige / S\\u00fcdtirol\", \"Trentino Alto Adige / S\\u00fcdtirol\", \"Trentino Alto Adige / S\\u00fcdtirol\", \"Trentino Alto Adige / S\\u00fcdtirol\", \"Trentino Alto Adige / S\\u00fcdtirol\", \"Trentino Alto Adige / S\\u00fcdtirol\", \"Trentino Alto Adige / S\\u00fcdtirol\", \"Trentino Alto Adige / S\\u00fcdtirol\", \"Trentino Alto Adige / S\\u00fcdtirol\", \"Trentino Alto Adige / S\\u00fcdtirol\"], \"legendgroup\": \"Nord-est\", \"line\": {\"color\": \"rgb(76,114,176)\", \"dash\": \"solid\"}, \"mode\": \"lines\", \"name\": \"Nord-est\", \"orientation\": \"v\", \"showlegend\": false, \"type\": \"scatter\", \"x\": [\"1996\", \"1997\", \"1998\", \"1999\", \"2000\", \"2001\", \"2002\", \"2003\", \"2004\", \"2005\", \"2006\", \"2007\", \"2008\", \"2009\", \"2010\", \"2011\", \"2012\", \"2013\", \"2014\", \"2015\", \"2016\", \"2017\", \"2018\"], \"xaxis\": \"x\", \"y\": [62.99242220669641, 63.031535254885206, 63.87615439759339, 64.32043767600749, 65.91631343161225, 65.87369597913887, 66.32957210128491, 67.18450700425477, 67.37773734403848, 67.00389117209849, 67.39433046085374, 67.95447152466126, 68.51815079687543, 68.40739264040847, 68.40767035190403, 68.41059246121591, 68.53492709494044, 68.4289857821872, 68.33148845103682, 68.69664544275439, 69.32655366233293, 70.20218580038434, 70.85034317960785], \"yaxis\": \"y\"}, {\"hovertemplate\": \"<b>%{hovertext}</b><br><br>Zona d'Italia=Nord-est<br>line_group=Valle d'Aosta / Vall\\u00e9e d'Aoste<br>Anno di riferimento=%{x}<br>Tasso di occupazione(%)=%{y}<extra></extra>\", \"hovertext\": [\"Valle d'Aosta / Vall\\u00e9e d'Aoste\", \"Valle d'Aosta / Vall\\u00e9e d'Aoste\", \"Valle d'Aosta / Vall\\u00e9e d'Aoste\", \"Valle d'Aosta / Vall\\u00e9e d'Aoste\", \"Valle d'Aosta / Vall\\u00e9e d'Aoste\", \"Valle d'Aosta / Vall\\u00e9e d'Aoste\", \"Valle d'Aosta / Vall\\u00e9e d'Aoste\", \"Valle d'Aosta / Vall\\u00e9e d'Aoste\", \"Valle d'Aosta / Vall\\u00e9e d'Aoste\", \"Valle d'Aosta / Vall\\u00e9e d'Aoste\", \"Valle d'Aosta / Vall\\u00e9e d'Aoste\", \"Valle d'Aosta / Vall\\u00e9e d'Aoste\", \"Valle d'Aosta / Vall\\u00e9e d'Aoste\", \"Valle d'Aosta / Vall\\u00e9e d'Aoste\", \"Valle d'Aosta / Vall\\u00e9e d'Aoste\", \"Valle d'Aosta / Vall\\u00e9e d'Aoste\", \"Valle d'Aosta / Vall\\u00e9e d'Aoste\", \"Valle d'Aosta / Vall\\u00e9e d'Aoste\", \"Valle d'Aosta / Vall\\u00e9e d'Aoste\", \"Valle d'Aosta / Vall\\u00e9e d'Aoste\", \"Valle d'Aosta / Vall\\u00e9e d'Aoste\", \"Valle d'Aosta / Vall\\u00e9e d'Aoste\", \"Valle d'Aosta / Vall\\u00e9e d'Aoste\"], \"legendgroup\": \"Nord-est\", \"line\": {\"color\": \"rgb(76,114,176)\", \"dash\": \"solid\"}, \"mode\": \"lines\", \"name\": \"Nord-est\", \"orientation\": \"v\", \"showlegend\": false, \"type\": \"scatter\", \"x\": [\"1996\", \"1997\", \"1998\", \"1999\", \"2000\", \"2001\", \"2002\", \"2003\", \"2004\", \"2005\", \"2006\", \"2007\", \"2008\", \"2009\", \"2010\", \"2011\", \"2012\", \"2013\", \"2014\", \"2015\", \"2016\", \"2017\", \"2018\"], \"xaxis\": \"x\", \"y\": [65.91238544507506, 66.44390291931276, 66.20165728849872, 66.3229351468559, 68.79972327914217, 70.00606563262073, 70.69213594641528, 67.52248690323218, 67.15598358843329, 66.41814759588355, 67.01526698970027, 68.18712596701212, 67.84383684664022, 66.82473651656095, 67.3412124819318, 66.88036787426097, 66.32290662338139, 65.61629781620988, 66.16930647017062, 66.18561278863233, 66.43084894380232, 67.07248195795418, 67.87480240278217], \"yaxis\": \"y\"}, {\"hovertemplate\": \"<b>%{hovertext}</b><br><br>Zona d'Italia=Nord-est<br>line_group=Veneto<br>Anno di riferimento=%{x}<br>Tasso di occupazione(%)=%{y}<extra></extra>\", \"hovertext\": [\"Veneto\", \"Veneto\", \"Veneto\", \"Veneto\", \"Veneto\", \"Veneto\", \"Veneto\", \"Veneto\", \"Veneto\", \"Veneto\", \"Veneto\", \"Veneto\", \"Veneto\", \"Veneto\", \"Veneto\", \"Veneto\", \"Veneto\", \"Veneto\", \"Veneto\", \"Veneto\", \"Veneto\", \"Veneto\", \"Veneto\"], \"legendgroup\": \"Nord-est\", \"line\": {\"color\": \"rgb(76,114,176)\", \"dash\": \"solid\"}, \"mode\": \"lines\", \"name\": \"Nord-est\", \"orientation\": \"v\", \"showlegend\": false, \"type\": \"scatter\", \"x\": [\"1996\", \"1997\", \"1998\", \"1999\", \"2000\", \"2001\", \"2002\", \"2003\", \"2004\", \"2005\", \"2006\", \"2007\", \"2008\", \"2009\", \"2010\", \"2011\", \"2012\", \"2013\", \"2014\", \"2015\", \"2016\", \"2017\", \"2018\"], \"xaxis\": \"x\", \"y\": [59.2461853903078, 60.02693516321427, 60.46507163083227, 61.35193942666085, 62.82751221295372, 63.6776529618447, 63.88294862180928, 64.6844731321231, 64.39525349651471, 64.6284223251216, 65.28159791691373, 65.69468131242027, 66.44839449179666, 64.57746516437358, 64.36675025550328, 64.88681035991478, 64.90730883479131, 63.05321947249457, 63.71517914175653, 63.61311292777951, 64.73510713294971, 66.03763821915564, 66.64898476881105], \"yaxis\": \"y\"}, {\"hovertemplate\": \"<b>%{hovertext}</b><br><br>Zona d'Italia=Nord-ovest<br>line_group=Liguria<br>Anno di riferimento=%{x}<br>Tasso di occupazione(%)=%{y}<extra></extra>\", \"hovertext\": [\"Liguria\", \"Liguria\", \"Liguria\", \"Liguria\", \"Liguria\", \"Liguria\", \"Liguria\", \"Liguria\", \"Liguria\", \"Liguria\", \"Liguria\", \"Liguria\", \"Liguria\", \"Liguria\", \"Liguria\", \"Liguria\", \"Liguria\", \"Liguria\", \"Liguria\", \"Liguria\", \"Liguria\", \"Liguria\", \"Liguria\"], \"legendgroup\": \"Nord-ovest\", \"line\": {\"color\": \"rgb(221,132,82)\", \"dash\": \"solid\"}, \"mode\": \"lines\", \"name\": \"Nord-ovest\", \"orientation\": \"v\", \"showlegend\": true, \"type\": \"scatter\", \"x\": [\"1996\", \"1997\", \"1998\", \"1999\", \"2000\", \"2001\", \"2002\", \"2003\", \"2004\", \"2005\", \"2006\", \"2007\", \"2008\", \"2009\", \"2010\", \"2011\", \"2012\", \"2013\", \"2014\", \"2015\", \"2016\", \"2017\", \"2018\"], \"xaxis\": \"x\", \"y\": [55.46204231305922, 55.65705636932565, 56.89579732970784, 58.16410825234058, 59.35803157427729, 61.464456978159866, 61.70813268724539, 60.466024288451145, 60.616710284311424, 60.968326150352006, 62.097453296815594, 63.46997942355157, 63.643494419975156, 63.22582497060358, 62.73829853792623, 62.97525072625928, 61.98540498284941, 60.618409057278534, 60.723078876223504, 62.384052416602785, 62.71914723664459, 62.3682240343174, 62.96090599053389], \"yaxis\": \"y\"}, {\"hovertemplate\": \"<b>%{hovertext}</b><br><br>Zona d'Italia=Nord-ovest<br>line_group=Lombardia<br>Anno di riferimento=%{x}<br>Tasso di occupazione(%)=%{y}<extra></extra>\", \"hovertext\": [\"Lombardia\", \"Lombardia\", \"Lombardia\", \"Lombardia\", \"Lombardia\", \"Lombardia\", \"Lombardia\", \"Lombardia\", \"Lombardia\", \"Lombardia\", \"Lombardia\", \"Lombardia\", \"Lombardia\", \"Lombardia\", \"Lombardia\", \"Lombardia\", \"Lombardia\", \"Lombardia\", \"Lombardia\", \"Lombardia\", \"Lombardia\", \"Lombardia\", \"Lombardia\"], \"legendgroup\": \"Nord-ovest\", \"line\": {\"color\": \"rgb(221,132,82)\", \"dash\": \"solid\"}, \"mode\": \"lines\", \"name\": \"Nord-ovest\", \"orientation\": \"v\", \"showlegend\": false, \"type\": \"scatter\", \"x\": [\"1996\", \"1997\", \"1998\", \"1999\", \"2000\", \"2001\", \"2002\", \"2003\", \"2004\", \"2005\", \"2006\", \"2007\", \"2008\", \"2009\", \"2010\", \"2011\", \"2012\", \"2013\", \"2014\", \"2015\", \"2016\", \"2017\", \"2018\"], \"xaxis\": \"x\", \"y\": [59.58647320932388, 59.72518054049074, 60.728278907873545, 61.762284004146615, 62.57426930227968, 63.83152197637146, 64.66219595075256, 65.26248430210897, 65.49990586215024, 65.50726566370632, 66.51508934353181, 66.66997135015593, 66.91399927887677, 65.69655380623215, 64.96402184647202, 64.57302635908782, 64.52967392380089, 64.7646559729269, 64.8554639557197, 65.13575531249556, 66.22501106238308, 67.25779919319393, 67.69474850312717], \"yaxis\": \"y\"}, {\"hovertemplate\": \"<b>%{hovertext}</b><br><br>Zona d'Italia=Nord-ovest<br>line_group=Piemonte<br>Anno di riferimento=%{x}<br>Tasso di occupazione(%)=%{y}<extra></extra>\", \"hovertext\": [\"Piemonte\", \"Piemonte\", \"Piemonte\", \"Piemonte\", \"Piemonte\", \"Piemonte\", \"Piemonte\", \"Piemonte\", \"Piemonte\", \"Piemonte\", \"Piemonte\", \"Piemonte\", \"Piemonte\", \"Piemonte\", \"Piemonte\", \"Piemonte\", \"Piemonte\", \"Piemonte\", \"Piemonte\", \"Piemonte\", \"Piemonte\", \"Piemonte\", \"Piemonte\"], \"legendgroup\": \"Nord-ovest\", \"line\": {\"color\": \"rgb(221,132,82)\", \"dash\": \"solid\"}, \"mode\": \"lines\", \"name\": \"Nord-ovest\", \"orientation\": \"v\", \"showlegend\": false, \"type\": \"scatter\", \"x\": [\"1996\", \"1997\", \"1998\", \"1999\", \"2000\", \"2001\", \"2002\", \"2003\", \"2004\", \"2005\", \"2006\", \"2007\", \"2008\", \"2009\", \"2010\", \"2011\", \"2012\", \"2013\", \"2014\", \"2015\", \"2016\", \"2017\", \"2018\"], \"xaxis\": \"x\", \"y\": [57.6956786771448, 57.32067418004546, 57.492797894523065, 59.17983953397411, 61.041060322231274, 62.007941408912174, 62.380630768476394, 62.90418856656637, 63.46061329133876, 63.975641427483986, 64.71129298625972, 64.86576455418415, 65.18853548952652, 63.90306412626191, 63.471975183105336, 64.17793029814479, 63.63767960540425, 62.203157482126215, 62.389576647623535, 63.66582772426599, 64.4394130842883, 65.1908369450799, 65.89484988698626], \"yaxis\": \"y\"}, {\"hovertemplate\": \"<b>%{hovertext}</b><br><br>Zona d'Italia=Centro<br>line_group=Lazio<br>Anno di riferimento=%{x}<br>Tasso di occupazione(%)=%{y}<extra></extra>\", \"hovertext\": [\"Lazio\", \"Lazio\", \"Lazio\", \"Lazio\", \"Lazio\", \"Lazio\", \"Lazio\", \"Lazio\", \"Lazio\", \"Lazio\", \"Lazio\", \"Lazio\", \"Lazio\", \"Lazio\", \"Lazio\", \"Lazio\", \"Lazio\", \"Lazio\", \"Lazio\", \"Lazio\", \"Lazio\", \"Lazio\", \"Lazio\"], \"legendgroup\": \"Centro\", \"line\": {\"color\": \"rgb(85,168,104)\", \"dash\": \"solid\"}, \"mode\": \"lines\", \"name\": \"Centro\", \"orientation\": \"v\", \"showlegend\": true, \"type\": \"scatter\", \"x\": [\"1996\", \"1997\", \"1998\", \"1999\", \"2000\", \"2001\", \"2002\", \"2003\", \"2004\", \"2005\", \"2006\", \"2007\", \"2008\", \"2009\", \"2010\", \"2011\", \"2012\", \"2013\", \"2014\", \"2015\", \"2016\", \"2017\", \"2018\"], \"xaxis\": \"x\", \"y\": [50.38577888925959, 50.71951573658732, 51.091051571753084, 51.771669201743144, 52.732348483653624, 53.7049649018791, 55.606295180949175, 57.16706760210566, 58.730302882252694, 58.51703086301282, 59.38128306934828, 59.51409132328204, 60.228552033309924, 59.515639195615385, 59.12502104146535, 58.83515661748314, 58.830195930886276, 57.74939243181397, 58.76462235868685, 58.97680542651713, 59.90611470481705, 60.883121437048025, 60.90738181233459], \"yaxis\": \"y\"}, {\"hovertemplate\": \"<b>%{hovertext}</b><br><br>Zona d'Italia=Centro<br>line_group=Marche<br>Anno di riferimento=%{x}<br>Tasso di occupazione(%)=%{y}<extra></extra>\", \"hovertext\": [\"Marche\", \"Marche\", \"Marche\", \"Marche\", \"Marche\", \"Marche\", \"Marche\", \"Marche\", \"Marche\", \"Marche\", \"Marche\", \"Marche\", \"Marche\", \"Marche\", \"Marche\", \"Marche\", \"Marche\", \"Marche\", \"Marche\", \"Marche\", \"Marche\", \"Marche\", \"Marche\"], \"legendgroup\": \"Centro\", \"line\": {\"color\": \"rgb(85,168,104)\", \"dash\": \"solid\"}, \"mode\": \"lines\", \"name\": \"Centro\", \"orientation\": \"v\", \"showlegend\": false, \"type\": \"scatter\", \"x\": [\"1996\", \"1997\", \"1998\", \"1999\", \"2000\", \"2001\", \"2002\", \"2003\", \"2004\", \"2005\", \"2006\", \"2007\", \"2008\", \"2009\", \"2010\", \"2011\", \"2012\", \"2013\", \"2014\", \"2015\", \"2016\", \"2017\", \"2018\"], \"xaxis\": \"x\", \"y\": [59.114353743348545, 58.21222750533697, 59.04845811286046, 60.86516185520799, 61.948538077862324, 62.54764853623068, 63.625988782046264, 64.09835024786352, 63.94769279686826, 63.45601901347062, 64.35658696854098, 64.80982923441458, 64.7091910669474, 63.62459151513209, 63.73006519748922, 62.441302678348286, 62.58250398190137, 61.051650749037975, 62.39773590143456, 62.14469395611446, 62.22628321941065, 62.18386453313144, 64.66219213162498], \"yaxis\": \"y\"}, {\"hovertemplate\": \"<b>%{hovertext}</b><br><br>Zona d'Italia=Centro<br>line_group=Toscana<br>Anno di riferimento=%{x}<br>Tasso di occupazione(%)=%{y}<extra></extra>\", \"hovertext\": [\"Toscana\", \"Toscana\", \"Toscana\", \"Toscana\", \"Toscana\", \"Toscana\", \"Toscana\", \"Toscana\", \"Toscana\", \"Toscana\", \"Toscana\", \"Toscana\", \"Toscana\", \"Toscana\", \"Toscana\", \"Toscana\", \"Toscana\", \"Toscana\", \"Toscana\", \"Toscana\", \"Toscana\", \"Toscana\", \"Toscana\"], \"legendgroup\": \"Centro\", \"line\": {\"color\": \"rgb(85,168,104)\", \"dash\": \"solid\"}, \"mode\": \"lines\", \"name\": \"Centro\", \"orientation\": \"v\", \"showlegend\": false, \"type\": \"scatter\", \"x\": [\"1996\", \"1997\", \"1998\", \"1999\", \"2000\", \"2001\", \"2002\", \"2003\", \"2004\", \"2005\", \"2006\", \"2007\", \"2008\", \"2009\", \"2010\", \"2011\", \"2012\", \"2013\", \"2014\", \"2015\", \"2016\", \"2017\", \"2018\"], \"xaxis\": \"x\", \"y\": [58.89606902492728, 59.00964413336675, 59.975845431442984, 61.1261999521598, 62.6115781254137, 63.857461924689105, 64.19349345721757, 63.78625278246191, 63.28515222486507, 63.712366973971726, 64.68017152279567, 64.65971154648203, 65.25311002161854, 64.71320035279567, 63.70980385510108, 63.56544193689607, 63.74224235099203, 63.71579888833217, 63.80196463587021, 64.81351130968237, 65.3234943434551, 66.0273838053607, 66.52810649162268], \"yaxis\": \"y\"}, {\"hovertemplate\": \"<b>%{hovertext}</b><br><br>Zona d'Italia=Centro<br>line_group=Umbria<br>Anno di riferimento=%{x}<br>Tasso di occupazione(%)=%{y}<extra></extra>\", \"hovertext\": [\"Umbria\", \"Umbria\", \"Umbria\", \"Umbria\", \"Umbria\", \"Umbria\", \"Umbria\", \"Umbria\", \"Umbria\", \"Umbria\", \"Umbria\", \"Umbria\", \"Umbria\", \"Umbria\", \"Umbria\", \"Umbria\", \"Umbria\", \"Umbria\", \"Umbria\", \"Umbria\", \"Umbria\", \"Umbria\", \"Umbria\"], \"legendgroup\": \"Centro\", \"line\": {\"color\": \"rgb(85,168,104)\", \"dash\": \"solid\"}, \"mode\": \"lines\", \"name\": \"Centro\", \"orientation\": \"v\", \"showlegend\": false, \"type\": \"scatter\", \"x\": [\"1996\", \"1997\", \"1998\", \"1999\", \"2000\", \"2001\", \"2002\", \"2003\", \"2004\", \"2005\", \"2006\", \"2007\", \"2008\", \"2009\", \"2010\", \"2011\", \"2012\", \"2013\", \"2014\", \"2015\", \"2016\", \"2017\", \"2018\"], \"xaxis\": \"x\", \"y\": [57.30364734840009, 57.67166510056959, 58.28927114564182, 60.802325211199815, 62.61792099106125, 63.22960808311014, 62.27653641753679, 60.965653810586886, 61.38257186787081, 61.62180965510133, 62.789249480604646, 64.55944906184138, 65.29967027859017, 62.85624652671961, 62.583353694314205, 62.24988575604604, 61.49885288238885, 60.89721443606666, 61.02204444635089, 63.10313378628517, 62.728602779809805, 62.94327047434375, 63.044003514423785], \"yaxis\": \"y\"}, {\"hovertemplate\": \"<b>%{hovertext}</b><br><br>Zona d'Italia=Sud<br>line_group=Abruzzo<br>Anno di riferimento=%{x}<br>Tasso di occupazione(%)=%{y}<extra></extra>\", \"hovertext\": [\"Abruzzo\", \"Abruzzo\", \"Abruzzo\", \"Abruzzo\", \"Abruzzo\", \"Abruzzo\", \"Abruzzo\", \"Abruzzo\", \"Abruzzo\", \"Abruzzo\", \"Abruzzo\", \"Abruzzo\", \"Abruzzo\", \"Abruzzo\", \"Abruzzo\", \"Abruzzo\", \"Abruzzo\", \"Abruzzo\", \"Abruzzo\", \"Abruzzo\", \"Abruzzo\", \"Abruzzo\", \"Abruzzo\"], \"legendgroup\": \"Sud\", \"line\": {\"color\": \"rgb(196,78,82)\", \"dash\": \"solid\"}, \"mode\": \"lines\", \"name\": \"Sud\", \"orientation\": \"v\", \"showlegend\": true, \"type\": \"scatter\", \"x\": [\"1996\", \"1997\", \"1998\", \"1999\", \"2000\", \"2001\", \"2002\", \"2003\", \"2004\", \"2005\", \"2006\", \"2007\", \"2008\", \"2009\", \"2010\", \"2011\", \"2012\", \"2013\", \"2014\", \"2015\", \"2016\", \"2017\", \"2018\"], \"xaxis\": \"x\", \"y\": [56.01269746496099, 55.730080391741055, 55.44264132524239, 54.9928586347738, 56.31064439925625, 58.53662672257386, 59.20962561532189, 57.99203139148808, 56.40573762150423, 57.058133658787746, 57.6489829684508, 57.933096418615534, 58.807943618702566, 55.72250842898529, 55.3755758907206, 56.628213378336845, 56.661084596598435, 54.95403343065255, 53.945744989834445, 54.50147605657496, 55.73094634570936, 56.806653772493696, 58.013003484953074], \"yaxis\": \"y\"}, {\"hovertemplate\": \"<b>%{hovertext}</b><br><br>Zona d'Italia=Sud<br>line_group=Basilicata<br>Anno di riferimento=%{x}<br>Tasso di occupazione(%)=%{y}<extra></extra>\", \"hovertext\": [\"Basilicata\", \"Basilicata\", \"Basilicata\", \"Basilicata\", \"Basilicata\", \"Basilicata\", \"Basilicata\", \"Basilicata\", \"Basilicata\", \"Basilicata\", \"Basilicata\", \"Basilicata\", \"Basilicata\", \"Basilicata\", \"Basilicata\", \"Basilicata\", \"Basilicata\", \"Basilicata\", \"Basilicata\", \"Basilicata\", \"Basilicata\", \"Basilicata\", \"Basilicata\"], \"legendgroup\": \"Sud\", \"line\": {\"color\": \"rgb(196,78,82)\", \"dash\": \"solid\"}, \"mode\": \"lines\", \"name\": \"Sud\", \"orientation\": \"v\", \"showlegend\": false, \"type\": \"scatter\", \"x\": [\"1996\", \"1997\", \"1998\", \"1999\", \"2000\", \"2001\", \"2002\", \"2003\", \"2004\", \"2005\", \"2006\", \"2007\", \"2008\", \"2009\", \"2010\", \"2011\", \"2012\", \"2013\", \"2014\", \"2015\", \"2016\", \"2017\", \"2018\"], \"xaxis\": \"x\", \"y\": [45.061381093185744, 46.18861537695697, 46.556486223695295, 47.27602296839331, 49.18316725285784, 48.63262924228208, 49.609033399645085, 49.627729109041084, 49.129930245183935, 49.16422673544949, 50.23396242075885, 49.53019889807449, 49.61185768288124, 48.384240239741146, 47.06478943563445, 47.611829906035794, 46.82904279741027, 46.17887030658617, 47.188266632974305, 49.19340735048623, 50.326368493636686, 49.49463690818968, 49.38840578135778], \"yaxis\": \"y\"}, {\"hovertemplate\": \"<b>%{hovertext}</b><br><br>Zona d'Italia=Sud<br>line_group=Calabria<br>Anno di riferimento=%{x}<br>Tasso di occupazione(%)=%{y}<extra></extra>\", \"hovertext\": [\"Calabria\", \"Calabria\", \"Calabria\", \"Calabria\", \"Calabria\", \"Calabria\", \"Calabria\", \"Calabria\", \"Calabria\", \"Calabria\", \"Calabria\", \"Calabria\", \"Calabria\", \"Calabria\", \"Calabria\", \"Calabria\", \"Calabria\", \"Calabria\", \"Calabria\", \"Calabria\", \"Calabria\", \"Calabria\", \"Calabria\"], \"legendgroup\": \"Sud\", \"line\": {\"color\": \"rgb(196,78,82)\", \"dash\": \"solid\"}, \"mode\": \"lines\", \"name\": \"Sud\", \"orientation\": \"v\", \"showlegend\": false, \"type\": \"scatter\", \"x\": [\"1996\", \"1997\", \"1998\", \"1999\", \"2000\", \"2001\", \"2002\", \"2003\", \"2004\", \"2005\", \"2006\", \"2007\", \"2008\", \"2009\", \"2010\", \"2011\", \"2012\", \"2013\", \"2014\", \"2015\", \"2016\", \"2017\", \"2018\"], \"xaxis\": \"x\", \"y\": [42.067390858181604, 41.94982415074809, 42.40159372077557, 42.02071319725932, 43.05819717522527, 44.29469597429535, 45.27910375207954, 45.207944835516486, 46.153607890716955, 44.51882006866843, 45.44828891188041, 44.85430049404954, 44.02132005481344, 43.00418509849681, 42.10342319638673, 42.436235239709255, 41.470505021387325, 38.949236641221376, 39.31185373528202, 38.91355047662694, 39.62746032827079, 40.83779221730572, 42.152181834173064], \"yaxis\": \"y\"}, {\"hovertemplate\": \"<b>%{hovertext}</b><br><br>Zona d'Italia=Sud<br>line_group=Campania<br>Anno di riferimento=%{x}<br>Tasso di occupazione(%)=%{y}<extra></extra>\", \"hovertext\": [\"Campania\", \"Campania\", \"Campania\", \"Campania\", \"Campania\", \"Campania\", \"Campania\", \"Campania\", \"Campania\", \"Campania\", \"Campania\", \"Campania\", \"Campania\", \"Campania\", \"Campania\", \"Campania\", \"Campania\", \"Campania\", \"Campania\", \"Campania\", \"Campania\", \"Campania\", \"Campania\"], \"legendgroup\": \"Sud\", \"line\": {\"color\": \"rgb(196,78,82)\", \"dash\": \"solid\"}, \"mode\": \"lines\", \"name\": \"Sud\", \"orientation\": \"v\", \"showlegend\": false, \"type\": \"scatter\", \"x\": [\"1996\", \"1997\", \"1998\", \"1999\", \"2000\", \"2001\", \"2002\", \"2003\", \"2004\", \"2005\", \"2006\", \"2007\", \"2008\", \"2009\", \"2010\", \"2011\", \"2012\", \"2013\", \"2014\", \"2015\", \"2016\", \"2017\", \"2018\"], \"xaxis\": \"x\", \"y\": [42.28737369201352, 42.45687496113133, 43.547884079910624, 43.30305867112907, 43.34845269861897, 44.09262708050536, 45.47075448567809, 45.7700197235566, 45.23416323016598, 44.04637067555537, 44.115417451148396, 43.666479158172876, 42.398161151105015, 40.76750471264707, 39.78443202447002, 39.35335326152051, 39.8906844869348, 39.70944365384263, 39.170285752652894, 39.576877212001406, 41.16202091394995, 42.04875369713995, 41.641068427612375], \"yaxis\": \"y\"}, {\"hovertemplate\": \"<b>%{hovertext}</b><br><br>Zona d'Italia=Sud<br>line_group=Molise<br>Anno di riferimento=%{x}<br>Tasso di occupazione(%)=%{y}<extra></extra>\", \"hovertext\": [\"Molise\", \"Molise\", \"Molise\", \"Molise\", \"Molise\", \"Molise\", \"Molise\", \"Molise\", \"Molise\", \"Molise\", \"Molise\", \"Molise\", \"Molise\", \"Molise\", \"Molise\", \"Molise\", \"Molise\", \"Molise\", \"Molise\", \"Molise\", \"Molise\", \"Molise\", \"Molise\"], \"legendgroup\": \"Sud\", \"line\": {\"color\": \"rgb(196,78,82)\", \"dash\": \"solid\"}, \"mode\": \"lines\", \"name\": \"Sud\", \"orientation\": \"v\", \"showlegend\": false, \"type\": \"scatter\", \"x\": [\"1996\", \"1997\", \"1998\", \"1999\", \"2000\", \"2001\", \"2002\", \"2003\", \"2004\", \"2005\", \"2006\", \"2007\", \"2008\", \"2009\", \"2010\", \"2011\", \"2012\", \"2013\", \"2014\", \"2015\", \"2016\", \"2017\", \"2018\"], \"xaxis\": \"x\", \"y\": [49.534269493946915, 49.92960009071666, 50.17916207276737, 50.440831049048725, 51.775626281193766, 53.01519445223565, 53.278000242689, 51.790946310417766, 52.110123748703884, 51.2096009799299, 52.35075154773462, 53.59359535058337, 54.11724756845909, 52.179034157832746, 51.01333955133249, 50.26954112267408, 50.61991845105843, 47.57247386248662, 48.484387572861266, 49.38267331873043, 51.86143560135812, 51.708712823406145, 53.45486261648398], \"yaxis\": \"y\"}, {\"hovertemplate\": \"<b>%{hovertext}</b><br><br>Zona d'Italia=Sud<br>line_group=Puglia<br>Anno di riferimento=%{x}<br>Tasso di occupazione(%)=%{y}<extra></extra>\", \"hovertext\": [\"Puglia\", \"Puglia\", \"Puglia\", \"Puglia\", \"Puglia\", \"Puglia\", \"Puglia\", \"Puglia\", \"Puglia\", \"Puglia\", \"Puglia\", \"Puglia\", \"Puglia\", \"Puglia\", \"Puglia\", \"Puglia\", \"Puglia\", \"Puglia\", \"Puglia\", \"Puglia\", \"Puglia\", \"Puglia\", \"Puglia\"], \"legendgroup\": \"Sud\", \"line\": {\"color\": \"rgb(196,78,82)\", \"dash\": \"solid\"}, \"mode\": \"lines\", \"name\": \"Sud\", \"orientation\": \"v\", \"showlegend\": false, \"type\": \"scatter\", \"x\": [\"1996\", \"1997\", \"1998\", \"1999\", \"2000\", \"2001\", \"2002\", \"2003\", \"2004\", \"2005\", \"2006\", \"2007\", \"2008\", \"2009\", \"2010\", \"2011\", \"2012\", \"2013\", \"2014\", \"2015\", \"2016\", \"2017\", \"2018\"], \"xaxis\": \"x\", \"y\": [42.806000234657446, 42.1578050480392, 42.63774363195315, 43.439563573553116, 44.53775762144479, 45.4245139999121, 46.22601525562443, 45.416338372768095, 45.10304684350859, 44.3929082670831, 45.67876216347743, 46.59317008585971, 46.57913289853759, 44.90942326764622, 44.31301967835235, 44.717406032615436, 44.88059662995457, 42.333333704141666, 42.13890570045007, 43.29481774349951, 44.276280379794756, 44.51721893002306, 45.54416486477521], \"yaxis\": \"y\"}, {\"hovertemplate\": \"<b>%{hovertext}</b><br><br>Zona d'Italia=Isole<br>line_group=Sardegna<br>Anno di riferimento=%{x}<br>Tasso di occupazione(%)=%{y}<extra></extra>\", \"hovertext\": [\"Sardegna\", \"Sardegna\", \"Sardegna\", \"Sardegna\", \"Sardegna\", \"Sardegna\", \"Sardegna\", \"Sardegna\", \"Sardegna\", \"Sardegna\", \"Sardegna\", \"Sardegna\", \"Sardegna\", \"Sardegna\", \"Sardegna\", \"Sardegna\", \"Sardegna\", \"Sardegna\", \"Sardegna\", \"Sardegna\", \"Sardegna\", \"Sardegna\", \"Sardegna\"], \"legendgroup\": \"Isole\", \"line\": {\"color\": \"rgb(129,114,179)\", \"dash\": \"solid\"}, \"mode\": \"lines\", \"name\": \"Isole\", \"orientation\": \"v\", \"showlegend\": true, \"type\": \"scatter\", \"x\": [\"1996\", \"1997\", \"1998\", \"1999\", \"2000\", \"2001\", \"2002\", \"2003\", \"2004\", \"2005\", \"2006\", \"2007\", \"2008\", \"2009\", \"2010\", \"2011\", \"2012\", \"2013\", \"2014\", \"2015\", \"2016\", \"2017\", \"2018\"], \"xaxis\": \"x\", \"y\": [47.192378619470496, 48.06097017397503, 48.69643725258698, 49.58357232194224, 49.67398932325944, 51.617997475353185, 52.37152882998019, 51.22987004201913, 51.487865685356425, 51.397359892220386, 52.10160937943584, 52.77565036934555, 52.32506742682303, 50.783691026565435, 50.96596397270589, 51.718085760030775, 51.71301649120672, 48.317612971947646, 48.554510308929224, 50.14760948953195, 50.29886075926194, 50.45695583191265, 52.73463038212919], \"yaxis\": \"y\"}, {\"hovertemplate\": \"<b>%{hovertext}</b><br><br>Zona d'Italia=Isole<br>line_group=Sicilia<br>Anno di riferimento=%{x}<br>Tasso di occupazione(%)=%{y}<extra></extra>\", \"hovertext\": [\"Sicilia\", \"Sicilia\", \"Sicilia\", \"Sicilia\", \"Sicilia\", \"Sicilia\", \"Sicilia\", \"Sicilia\", \"Sicilia\", \"Sicilia\", \"Sicilia\", \"Sicilia\", \"Sicilia\", \"Sicilia\", \"Sicilia\", \"Sicilia\", \"Sicilia\", \"Sicilia\", \"Sicilia\", \"Sicilia\", \"Sicilia\", \"Sicilia\", \"Sicilia\"], \"legendgroup\": \"Isole\", \"line\": {\"color\": \"rgb(129,114,179)\", \"dash\": \"solid\"}, \"mode\": \"lines\", \"name\": \"Isole\", \"orientation\": \"v\", \"showlegend\": false, \"type\": \"scatter\", \"x\": [\"1996\", \"1997\", \"1998\", \"1999\", \"2000\", \"2001\", \"2002\", \"2003\", \"2004\", \"2005\", \"2006\", \"2007\", \"2008\", \"2009\", \"2010\", \"2011\", \"2012\", \"2013\", \"2014\", \"2015\", \"2016\", \"2017\", \"2018\"], \"xaxis\": \"x\", \"y\": [39.76826536338623, 40.152976811282684, 41.136882480636125, 41.263147023399995, 41.87037986748929, 43.28398315802603, 43.88376957708116, 43.255651068683434, 43.328926234697704, 44.08383824542375, 45.01780753951615, 44.55431575311309, 44.14677838914622, 43.57446616541353, 42.683882388862735, 42.37444811083778, 41.29860799603608, 39.329117767658936, 39.01483640455087, 39.97773049270459, 40.102633779453726, 40.62769354340627, 40.67349545182057], \"yaxis\": \"y\"}],                        {\"legend\": {\"title\": {\"text\": \"Zona d'Italia\"}, \"tracegroupgap\": 0}, \"template\": {\"data\": {\"bar\": [{\"error_x\": {\"color\": \"rgb(36,36,36)\"}, \"error_y\": {\"color\": \"rgb(36,36,36)\"}, \"marker\": {\"line\": {\"color\": \"rgb(234,234,242)\", \"width\": 0.5}}, \"type\": \"bar\"}], \"barpolar\": [{\"marker\": {\"line\": {\"color\": \"rgb(234,234,242)\", \"width\": 0.5}}, \"type\": \"barpolar\"}], \"carpet\": [{\"aaxis\": {\"endlinecolor\": \"rgb(36,36,36)\", \"gridcolor\": \"white\", \"linecolor\": \"white\", \"minorgridcolor\": \"white\", \"startlinecolor\": \"rgb(36,36,36)\"}, \"baxis\": {\"endlinecolor\": \"rgb(36,36,36)\", \"gridcolor\": \"white\", \"linecolor\": \"white\", \"minorgridcolor\": \"white\", \"startlinecolor\": \"rgb(36,36,36)\"}, \"type\": \"carpet\"}], \"choropleth\": [{\"colorbar\": {\"outlinewidth\": 0, \"tickcolor\": \"rgb(36,36,36)\", \"ticklen\": 8, \"ticks\": \"outside\", \"tickwidth\": 2}, \"type\": \"choropleth\"}], \"contour\": [{\"colorbar\": {\"outlinewidth\": 0, \"tickcolor\": \"rgb(36,36,36)\", \"ticklen\": 8, \"ticks\": \"outside\", \"tickwidth\": 2}, \"colorscale\": [[0.0, \"rgb(2,4,25)\"], [0.06274509803921569, \"rgb(24,15,41)\"], [0.12549019607843137, \"rgb(47,23,57)\"], [0.18823529411764706, \"rgb(71,28,72)\"], [0.25098039215686274, \"rgb(97,30,82)\"], [0.3137254901960784, \"rgb(123,30,89)\"], [0.3764705882352941, \"rgb(150,27,91)\"], [0.4392156862745098, \"rgb(177,22,88)\"], [0.5019607843137255, \"rgb(203,26,79)\"], [0.5647058823529412, \"rgb(223,47,67)\"], [0.6274509803921569, \"rgb(236,76,61)\"], [0.6901960784313725, \"rgb(242,107,73)\"], [0.7529411764705882, \"rgb(244,135,95)\"], [0.8156862745098039, \"rgb(245,162,122)\"], [0.8784313725490196, \"rgb(246,188,153)\"], [0.9411764705882353, \"rgb(247,212,187)\"], [1.0, \"rgb(250,234,220)\"]], \"type\": \"contour\"}], \"contourcarpet\": [{\"colorbar\": {\"outlinewidth\": 0, \"tickcolor\": \"rgb(36,36,36)\", \"ticklen\": 8, \"ticks\": \"outside\", \"tickwidth\": 2}, \"type\": \"contourcarpet\"}], \"heatmap\": [{\"colorbar\": {\"outlinewidth\": 0, \"tickcolor\": \"rgb(36,36,36)\", \"ticklen\": 8, \"ticks\": \"outside\", \"tickwidth\": 2}, \"colorscale\": [[0.0, \"rgb(2,4,25)\"], [0.06274509803921569, \"rgb(24,15,41)\"], [0.12549019607843137, \"rgb(47,23,57)\"], [0.18823529411764706, \"rgb(71,28,72)\"], [0.25098039215686274, \"rgb(97,30,82)\"], [0.3137254901960784, \"rgb(123,30,89)\"], [0.3764705882352941, \"rgb(150,27,91)\"], [0.4392156862745098, \"rgb(177,22,88)\"], [0.5019607843137255, \"rgb(203,26,79)\"], [0.5647058823529412, \"rgb(223,47,67)\"], [0.6274509803921569, \"rgb(236,76,61)\"], [0.6901960784313725, \"rgb(242,107,73)\"], [0.7529411764705882, \"rgb(244,135,95)\"], [0.8156862745098039, \"rgb(245,162,122)\"], [0.8784313725490196, \"rgb(246,188,153)\"], [0.9411764705882353, \"rgb(247,212,187)\"], [1.0, \"rgb(250,234,220)\"]], \"type\": \"heatmap\"}], \"heatmapgl\": [{\"colorbar\": {\"outlinewidth\": 0, \"tickcolor\": \"rgb(36,36,36)\", \"ticklen\": 8, \"ticks\": \"outside\", \"tickwidth\": 2}, \"colorscale\": [[0.0, \"rgb(2,4,25)\"], [0.06274509803921569, \"rgb(24,15,41)\"], [0.12549019607843137, \"rgb(47,23,57)\"], [0.18823529411764706, \"rgb(71,28,72)\"], [0.25098039215686274, \"rgb(97,30,82)\"], [0.3137254901960784, \"rgb(123,30,89)\"], [0.3764705882352941, \"rgb(150,27,91)\"], [0.4392156862745098, \"rgb(177,22,88)\"], [0.5019607843137255, \"rgb(203,26,79)\"], [0.5647058823529412, \"rgb(223,47,67)\"], [0.6274509803921569, \"rgb(236,76,61)\"], [0.6901960784313725, \"rgb(242,107,73)\"], [0.7529411764705882, \"rgb(244,135,95)\"], [0.8156862745098039, \"rgb(245,162,122)\"], [0.8784313725490196, \"rgb(246,188,153)\"], [0.9411764705882353, \"rgb(247,212,187)\"], [1.0, \"rgb(250,234,220)\"]], \"type\": \"heatmapgl\"}], \"histogram\": [{\"marker\": {\"colorbar\": {\"outlinewidth\": 0, \"tickcolor\": \"rgb(36,36,36)\", \"ticklen\": 8, \"ticks\": \"outside\", \"tickwidth\": 2}}, \"type\": \"histogram\"}], \"histogram2d\": [{\"colorbar\": {\"outlinewidth\": 0, \"tickcolor\": \"rgb(36,36,36)\", \"ticklen\": 8, \"ticks\": \"outside\", \"tickwidth\": 2}, \"colorscale\": [[0.0, \"rgb(2,4,25)\"], [0.06274509803921569, \"rgb(24,15,41)\"], [0.12549019607843137, \"rgb(47,23,57)\"], [0.18823529411764706, \"rgb(71,28,72)\"], [0.25098039215686274, \"rgb(97,30,82)\"], [0.3137254901960784, \"rgb(123,30,89)\"], [0.3764705882352941, \"rgb(150,27,91)\"], [0.4392156862745098, \"rgb(177,22,88)\"], [0.5019607843137255, \"rgb(203,26,79)\"], [0.5647058823529412, \"rgb(223,47,67)\"], [0.6274509803921569, \"rgb(236,76,61)\"], [0.6901960784313725, \"rgb(242,107,73)\"], [0.7529411764705882, \"rgb(244,135,95)\"], [0.8156862745098039, \"rgb(245,162,122)\"], [0.8784313725490196, \"rgb(246,188,153)\"], [0.9411764705882353, \"rgb(247,212,187)\"], [1.0, \"rgb(250,234,220)\"]], \"type\": \"histogram2d\"}], \"histogram2dcontour\": [{\"colorbar\": {\"outlinewidth\": 0, \"tickcolor\": \"rgb(36,36,36)\", \"ticklen\": 8, \"ticks\": \"outside\", \"tickwidth\": 2}, \"colorscale\": [[0.0, \"rgb(2,4,25)\"], [0.06274509803921569, \"rgb(24,15,41)\"], [0.12549019607843137, \"rgb(47,23,57)\"], [0.18823529411764706, \"rgb(71,28,72)\"], [0.25098039215686274, \"rgb(97,30,82)\"], [0.3137254901960784, \"rgb(123,30,89)\"], [0.3764705882352941, \"rgb(150,27,91)\"], [0.4392156862745098, \"rgb(177,22,88)\"], [0.5019607843137255, \"rgb(203,26,79)\"], [0.5647058823529412, \"rgb(223,47,67)\"], [0.6274509803921569, \"rgb(236,76,61)\"], [0.6901960784313725, \"rgb(242,107,73)\"], [0.7529411764705882, \"rgb(244,135,95)\"], [0.8156862745098039, \"rgb(245,162,122)\"], [0.8784313725490196, \"rgb(246,188,153)\"], [0.9411764705882353, \"rgb(247,212,187)\"], [1.0, \"rgb(250,234,220)\"]], \"type\": \"histogram2dcontour\"}], \"mesh3d\": [{\"colorbar\": {\"outlinewidth\": 0, \"tickcolor\": \"rgb(36,36,36)\", \"ticklen\": 8, \"ticks\": \"outside\", \"tickwidth\": 2}, \"type\": \"mesh3d\"}], \"parcoords\": [{\"line\": {\"colorbar\": {\"outlinewidth\": 0, \"tickcolor\": \"rgb(36,36,36)\", \"ticklen\": 8, \"ticks\": \"outside\", \"tickwidth\": 2}}, \"type\": \"parcoords\"}], \"pie\": [{\"automargin\": true, \"type\": \"pie\"}], \"scatter\": [{\"marker\": {\"colorbar\": {\"outlinewidth\": 0, \"tickcolor\": \"rgb(36,36,36)\", \"ticklen\": 8, \"ticks\": \"outside\", \"tickwidth\": 2}}, \"type\": \"scatter\"}], \"scatter3d\": [{\"line\": {\"colorbar\": {\"outlinewidth\": 0, \"tickcolor\": \"rgb(36,36,36)\", \"ticklen\": 8, \"ticks\": \"outside\", \"tickwidth\": 2}}, \"marker\": {\"colorbar\": {\"outlinewidth\": 0, \"tickcolor\": \"rgb(36,36,36)\", \"ticklen\": 8, \"ticks\": \"outside\", \"tickwidth\": 2}}, \"type\": \"scatter3d\"}], \"scattercarpet\": [{\"marker\": {\"colorbar\": {\"outlinewidth\": 0, \"tickcolor\": \"rgb(36,36,36)\", \"ticklen\": 8, \"ticks\": \"outside\", \"tickwidth\": 2}}, \"type\": \"scattercarpet\"}], \"scattergeo\": [{\"marker\": {\"colorbar\": {\"outlinewidth\": 0, \"tickcolor\": \"rgb(36,36,36)\", \"ticklen\": 8, \"ticks\": \"outside\", \"tickwidth\": 2}}, \"type\": \"scattergeo\"}], \"scattergl\": [{\"marker\": {\"colorbar\": {\"outlinewidth\": 0, \"tickcolor\": \"rgb(36,36,36)\", \"ticklen\": 8, \"ticks\": \"outside\", \"tickwidth\": 2}}, \"type\": \"scattergl\"}], \"scattermapbox\": [{\"marker\": {\"colorbar\": {\"outlinewidth\": 0, \"tickcolor\": \"rgb(36,36,36)\", \"ticklen\": 8, \"ticks\": \"outside\", \"tickwidth\": 2}}, \"type\": \"scattermapbox\"}], \"scatterpolar\": [{\"marker\": {\"colorbar\": {\"outlinewidth\": 0, \"tickcolor\": \"rgb(36,36,36)\", \"ticklen\": 8, \"ticks\": \"outside\", \"tickwidth\": 2}}, \"type\": \"scatterpolar\"}], \"scatterpolargl\": [{\"marker\": {\"colorbar\": {\"outlinewidth\": 0, \"tickcolor\": \"rgb(36,36,36)\", \"ticklen\": 8, \"ticks\": \"outside\", \"tickwidth\": 2}}, \"type\": \"scatterpolargl\"}], \"scatterternary\": [{\"marker\": {\"colorbar\": {\"outlinewidth\": 0, \"tickcolor\": \"rgb(36,36,36)\", \"ticklen\": 8, \"ticks\": \"outside\", \"tickwidth\": 2}}, \"type\": \"scatterternary\"}], \"surface\": [{\"colorbar\": {\"outlinewidth\": 0, \"tickcolor\": \"rgb(36,36,36)\", \"ticklen\": 8, \"ticks\": \"outside\", \"tickwidth\": 2}, \"colorscale\": [[0.0, \"rgb(2,4,25)\"], [0.06274509803921569, \"rgb(24,15,41)\"], [0.12549019607843137, \"rgb(47,23,57)\"], [0.18823529411764706, \"rgb(71,28,72)\"], [0.25098039215686274, \"rgb(97,30,82)\"], [0.3137254901960784, \"rgb(123,30,89)\"], [0.3764705882352941, \"rgb(150,27,91)\"], [0.4392156862745098, \"rgb(177,22,88)\"], [0.5019607843137255, \"rgb(203,26,79)\"], [0.5647058823529412, \"rgb(223,47,67)\"], [0.6274509803921569, \"rgb(236,76,61)\"], [0.6901960784313725, \"rgb(242,107,73)\"], [0.7529411764705882, \"rgb(244,135,95)\"], [0.8156862745098039, \"rgb(245,162,122)\"], [0.8784313725490196, \"rgb(246,188,153)\"], [0.9411764705882353, \"rgb(247,212,187)\"], [1.0, \"rgb(250,234,220)\"]], \"type\": \"surface\"}], \"table\": [{\"cells\": {\"fill\": {\"color\": \"rgb(231,231,240)\"}, \"line\": {\"color\": \"white\"}}, \"header\": {\"fill\": {\"color\": \"rgb(183,183,191)\"}, \"line\": {\"color\": \"white\"}}, \"type\": \"table\"}]}, \"layout\": {\"annotationdefaults\": {\"arrowcolor\": \"rgb(67,103,167)\"}, \"autotypenumbers\": \"strict\", \"coloraxis\": {\"colorbar\": {\"outlinewidth\": 0, \"tickcolor\": \"rgb(36,36,36)\", \"ticklen\": 8, \"ticks\": \"outside\", \"tickwidth\": 2}}, \"colorscale\": {\"sequential\": [[0.0, \"rgb(2,4,25)\"], [0.06274509803921569, \"rgb(24,15,41)\"], [0.12549019607843137, \"rgb(47,23,57)\"], [0.18823529411764706, \"rgb(71,28,72)\"], [0.25098039215686274, \"rgb(97,30,82)\"], [0.3137254901960784, \"rgb(123,30,89)\"], [0.3764705882352941, \"rgb(150,27,91)\"], [0.4392156862745098, \"rgb(177,22,88)\"], [0.5019607843137255, \"rgb(203,26,79)\"], [0.5647058823529412, \"rgb(223,47,67)\"], [0.6274509803921569, \"rgb(236,76,61)\"], [0.6901960784313725, \"rgb(242,107,73)\"], [0.7529411764705882, \"rgb(244,135,95)\"], [0.8156862745098039, \"rgb(245,162,122)\"], [0.8784313725490196, \"rgb(246,188,153)\"], [0.9411764705882353, \"rgb(247,212,187)\"], [1.0, \"rgb(250,234,220)\"]], \"sequentialminus\": [[0.0, \"rgb(2,4,25)\"], [0.06274509803921569, \"rgb(24,15,41)\"], [0.12549019607843137, \"rgb(47,23,57)\"], [0.18823529411764706, \"rgb(71,28,72)\"], [0.25098039215686274, \"rgb(97,30,82)\"], [0.3137254901960784, \"rgb(123,30,89)\"], [0.3764705882352941, \"rgb(150,27,91)\"], [0.4392156862745098, \"rgb(177,22,88)\"], [0.5019607843137255, \"rgb(203,26,79)\"], [0.5647058823529412, \"rgb(223,47,67)\"], [0.6274509803921569, \"rgb(236,76,61)\"], [0.6901960784313725, \"rgb(242,107,73)\"], [0.7529411764705882, \"rgb(244,135,95)\"], [0.8156862745098039, \"rgb(245,162,122)\"], [0.8784313725490196, \"rgb(246,188,153)\"], [0.9411764705882353, \"rgb(247,212,187)\"], [1.0, \"rgb(250,234,220)\"]]}, \"colorway\": [\"rgb(76,114,176)\", \"rgb(221,132,82)\", \"rgb(85,168,104)\", \"rgb(196,78,82)\", \"rgb(129,114,179)\", \"rgb(147,120,96)\", \"rgb(218,139,195)\", \"rgb(140,140,140)\", \"rgb(204,185,116)\", \"rgb(100,181,205)\"], \"font\": {\"color\": \"rgb(36,36,36)\"}, \"geo\": {\"bgcolor\": \"white\", \"lakecolor\": \"white\", \"landcolor\": \"rgb(234,234,242)\", \"showlakes\": true, \"showland\": true, \"subunitcolor\": \"white\"}, \"hoverlabel\": {\"align\": \"left\"}, \"hovermode\": \"closest\", \"paper_bgcolor\": \"white\", \"plot_bgcolor\": \"rgb(234,234,242)\", \"polar\": {\"angularaxis\": {\"gridcolor\": \"white\", \"linecolor\": \"white\", \"showgrid\": true, \"ticks\": \"\"}, \"bgcolor\": \"rgb(234,234,242)\", \"radialaxis\": {\"gridcolor\": \"white\", \"linecolor\": \"white\", \"showgrid\": true, \"ticks\": \"\"}}, \"scene\": {\"xaxis\": {\"backgroundcolor\": \"rgb(234,234,242)\", \"gridcolor\": \"white\", \"gridwidth\": 2, \"linecolor\": \"white\", \"showbackground\": true, \"showgrid\": true, \"ticks\": \"\", \"zerolinecolor\": \"white\"}, \"yaxis\": {\"backgroundcolor\": \"rgb(234,234,242)\", \"gridcolor\": \"white\", \"gridwidth\": 2, \"linecolor\": \"white\", \"showbackground\": true, \"showgrid\": true, \"ticks\": \"\", \"zerolinecolor\": \"white\"}, \"zaxis\": {\"backgroundcolor\": \"rgb(234,234,242)\", \"gridcolor\": \"white\", \"gridwidth\": 2, \"linecolor\": \"white\", \"showbackground\": true, \"showgrid\": true, \"ticks\": \"\", \"zerolinecolor\": \"white\"}}, \"shapedefaults\": {\"fillcolor\": \"rgb(67,103,167)\", \"line\": {\"width\": 0}, \"opacity\": 0.5}, \"ternary\": {\"aaxis\": {\"gridcolor\": \"white\", \"linecolor\": \"white\", \"showgrid\": true, \"ticks\": \"\"}, \"baxis\": {\"gridcolor\": \"white\", \"linecolor\": \"white\", \"showgrid\": true, \"ticks\": \"\"}, \"bgcolor\": \"rgb(234,234,242)\", \"caxis\": {\"gridcolor\": \"white\", \"linecolor\": \"white\", \"showgrid\": true, \"ticks\": \"\"}}, \"xaxis\": {\"automargin\": true, \"gridcolor\": \"white\", \"linecolor\": \"white\", \"showgrid\": true, \"ticks\": \"\", \"title\": {\"standoff\": 15}, \"zerolinecolor\": \"white\"}, \"yaxis\": {\"automargin\": true, \"gridcolor\": \"white\", \"linecolor\": \"white\", \"showgrid\": true, \"ticks\": \"\", \"title\": {\"standoff\": 15}, \"zerolinecolor\": \"white\"}}}, \"title\": {\"text\": \"Andamento Tasso di occupazione in italia 15 - 64 anni (per zone)\"}, \"xaxis\": {\"anchor\": \"y\", \"domain\": [0.0, 1.0], \"title\": {\"text\": \"Anno di riferimento\"}}, \"yaxis\": {\"anchor\": \"x\", \"domain\": [0.0, 1.0], \"title\": {\"text\": \"Tasso di occupazione(%)\"}}},                        {\"responsive\": true}                    ).then(function(){\n",
       "                            \n",
       "var gd = document.getElementById('7f5e189c-20be-43fb-9704-5855011be166');\n",
       "var x = new MutationObserver(function (mutations, observer) {{\n",
       "        var display = window.getComputedStyle(gd).display;\n",
       "        if (!display || display === 'none') {{\n",
       "            console.log([gd, 'removed!']);\n",
       "            Plotly.purge(gd);\n",
       "            observer.disconnect();\n",
       "        }}\n",
       "}});\n",
       "\n",
       "// Listen for the removal of the full notebook cells\n",
       "var notebookContainer = gd.closest('#notebook-container');\n",
       "if (notebookContainer) {{\n",
       "    x.observe(notebookContainer, {childList: true});\n",
       "}}\n",
       "\n",
       "// Listen for the clearing of the current output cell\n",
       "var outputEl = gd.closest('.output');\n",
       "if (outputEl) {{\n",
       "    x.observe(outputEl, {childList: true});\n",
       "}}\n",
       "\n",
       "                        })                };                });            </script>        </div>"
      ]
     },
     "metadata": {},
     "output_type": "display_data"
    }
   ],
   "source": [
    "df1 = df_pivot[(((df_pivot.index.get_level_values(4) == '15-64 anni')) & ((df_pivot.index.get_level_values(3)) == 'totale'))]\n",
    "fig = px.line(df1, x=df1.index.get_level_values(2), y='tasso_occupazione',\n",
    "               title='Andamento Tasso di occupazione in italia 15 - 64 anni (per zone)', line_group= df1.index.get_level_values(0), \n",
    "              hover_name= df1.index.get_level_values(0), color=df1.index.get_level_values(1),\n",
    "              category_orders={\"color\": df1.sort_values(by='tasso_occupazione', ascending = False).index.get_level_values(1).to_list()},\n",
    "                          labels={ # replaces default labels by column name\n",
    "                              \"color\": \"Zona d'Italia\",  \"x\": \"Anno di riferimento\", \"tasso_occupazione\": labels_tassi.get(\"tasso_occupazione\") + \"(%)\"\n",
    "            })\n",
    "fig.show()"
   ]
  },
  {
   "cell_type": "markdown",
   "metadata": {},
   "source": [
    "### Esplorazione completa dei tassi\n",
    "Analogo al grafico precedente ma consente di navigare tra i diversi tassi e scegliere la classe di età d'interesse.\n",
    "Oltre alla conferma che la classe di età \"standard\" è quella tra i 14 e 64 anni, si possono apprezzare alcune particolarità regionali sul tasso di attività/inattività anche nelle fasce 65-74. <br>\n",
    "Uno degli elementi più significatifi riguarda l'andamento della disoccuapazione che tra il 2006 e il 2011 ha raggiunto valori minimi, pertanto è interessante analizzare i fenomeni correlati durante il periodo, e nei periodi precedenti e successivo. <br>\n",
    "\n",
    "(Modalità interattiva Dash - Plotly Express)"
   ]
  },
  {
   "cell_type": "code",
   "execution_count": 25,
   "metadata": {},
   "outputs": [
    {
     "name": "stdout",
     "output_type": "stream",
     "text": [
      "Dash is running on http://127.0.0.1:8050/\n",
      "\n",
      "Dash is running on http://127.0.0.1:8050/\n",
      "\n",
      " * Serving Flask app \"__main__\" (lazy loading)\n",
      " * Environment: production\n",
      "   WARNING: This is a development server. Do not use it in a production deployment.\n",
      "   Use a production WSGI server instead.\n",
      " * Debug mode: on\n"
     ]
    }
   ],
   "source": [
    "df2 = df_pivot[((df_pivot.index.get_level_values(3)) == 'totale')]\n",
    "\n",
    "classi_età = df2.index.get_level_values(4).unique()\n",
    "\n",
    "app = dash.Dash(__name__)\n",
    "\n",
    "\n",
    "app.layout = html.Div([\n",
    "    html.P(\"Esplorazione dei tassi regionali (per zone)\",\n",
    "           style={\"font-family\":\"arial\", 'font-size': '2rem','font-style': 'italic', 'text-align': 'center'}\n",
    "          ),\n",
    "    dcc.Dropdown(\n",
    "        id=\"ticker\",\n",
    "        options=[{\"label\": x, \"value\": x} \n",
    "                 for x in df2.columns[7:]],\n",
    "        value=df2.columns[7],\n",
    "        clearable=False,\n",
    "        style={\"font-family\":\"arial\", 'font-size': '1rem','font-style': 'italic','border':'2px darkgrey solid'},\n",
    "    ),\n",
    "        \n",
    "    html.P(\" \"),\n",
    "    dcc.RadioItems(\n",
    "        id=\"checklist\",\n",
    "        options=[{\"label\": x, \"value\": x} \n",
    "                 for x in classi_età],\n",
    "        value=\"15-64 anni\",\n",
    "        labelStyle={'display': 'inline-block'},\n",
    "        style={\"font-family\":\"arial\", 'font-size': '1rem','font-style': 'italic','border':'2px darkgrey solid'}\n",
    "    ),\n",
    "     \n",
    "    dcc.Graph(id=\"time-series-chart\"),\n",
    "])\n",
    "\n",
    "\n",
    "@app.callback(\n",
    "    Output(\"time-series-chart\", \"figure\"), \n",
    "    [Input(\"ticker\", \"value\")],\n",
    "    [Input(\"checklist\", \"value\")])\n",
    "def display_time_series(ticker, età):\n",
    "    df3 = df2[((df2.index.get_level_values(4)) == età)]\n",
    "    fig = px.line(df3, x=df3.index.get_level_values(2), y=ticker,\n",
    "                  line_group= df3.index.get_level_values(0), \n",
    "                  hover_name= df3.index.get_level_values(0), \n",
    "                  color=df3.index.get_level_values(1),\n",
    "                  category_orders={\"color\": df3.sort_values(by=ticker, ascending = False).index.get_level_values(1).to_list()},\n",
    "                  labels={ # replaces default labels by column name\n",
    "                    \"color\": \"Zona d'Italia\",  \"x\": \"Anno di riferimento\", ticker : labels_tassi.get(ticker) + \" (%)\"\n",
    "                  })\n",
    "    return fig\n",
    "\n",
    "app.run_server(debug=True, use_reloader=False)"
   ]
  },
  {
   "cell_type": "markdown",
   "metadata": {},
   "source": [
    "### Confronto tassi su base regionale\n",
    "In questa visualizzazione tutti i tassi per regione vengono rappresentati conntemporaneamente. <br>\n",
    "E' interessante confrontare il diverso andamento tra le regioni del nord e quelle del meridione, in particolare si noti l'andamento del tasso di inattività nel periodo di minor disoccupazione (2006-2011): in alcune regioni del sud (es. Campania e Calabria) si evidenzia un aumento del tasso di inattività nello stesso periodo, mentre nelle regioni del Nord questo non accade. <br>\n",
    "Si nota che in alcune regioni del Sud l'abbassamento del tasso di disoccupazione non coincide con l'aumento del tasso di occupazione, che invece decresce a causa dell'aumento degli inattivi.<br>\n",
    "(Modalità interattiva Dash - Plotly Express)"
   ]
  },
  {
   "cell_type": "code",
   "execution_count": 27,
   "metadata": {},
   "outputs": [
    {
     "name": "stdout",
     "output_type": "stream",
     "text": [
      "Dash is running on http://127.0.0.1:8050/\n",
      "\n",
      "Dash is running on http://127.0.0.1:8050/\n",
      "\n",
      "Dash is running on http://127.0.0.1:8050/\n",
      "\n",
      "Dash is running on http://127.0.0.1:8050/\n",
      "\n",
      " * Serving Flask app \"__main__\" (lazy loading)\n",
      " * Environment: production\n",
      "   WARNING: This is a development server. Do not use it in a production deployment.\n",
      "   Use a production WSGI server instead.\n",
      " * Debug mode: on\n"
     ]
    }
   ],
   "source": [
    "regioni = df1.index.get_level_values(0).unique()\n",
    "\n",
    "app = dash.Dash(__name__)\n",
    "\n",
    "app.layout = html.Div([\n",
    "    dcc.Dropdown(\n",
    "        id=\"ticker\",\n",
    "        options=[{\"label\": x, \"value\": x} \n",
    "                 for x in regioni],\n",
    "        value=regioni[0],\n",
    "        clearable=False,\n",
    "        style={\"font-family\":\"arial\", 'font-size': '1rem','font-style': 'italic','border':'2px darkgrey solid'},\n",
    "    ),\n",
    "    \n",
    "    dcc.Graph(id=\"time-series-chart\"),\n",
    "])\n",
    "\n",
    "@app.callback(\n",
    "    Output(\"time-series-chart\", \"figure\"), \n",
    "    [Input(\"ticker\", \"value\")])\n",
    "def display_time_series(ticker):\n",
    "    df3 = df1[((df1.index.get_level_values(0)) == ticker)]\n",
    "    fig = px.line(df3, x=df3.index.get_level_values(2), y=df3.columns[7:],\n",
    "                  #line_group= df1.index.get_level_values(0), \n",
    "                  #hover_name= df3.columns[7:].to_list(), \n",
    "                  #color=df3.columns[7:],\n",
    "                  category_orders={\"variable\": df3[(df3.columns[7:])].max().sort_values(ascending = False).index.to_list()},\n",
    "                  labels={ # replaces default labels by column name\n",
    "                    \"variable\": \"Tasso\",  \"x\": \"Anno di riferimento\", \"value\" : \"Tassi\"\n",
    "                  #},\n",
    "                  #color_discrete_map={ # replaces default color mapping by value\n",
    "                #\"Sud\": \"crimson\", \"Nord\": \"darkblue\", \"Isole\":'Darkcyan', \"Centro\":'DarkGoldenrod'\n",
    "                  })\n",
    "    #fig.update_xaxes(rangeslider_visible=True)\n",
    "    fig.update_layout(title='Andamento dei Tassi per regione')\n",
    "    return fig\n",
    "\n",
    "app.run_server(debug=True, use_reloader=False)"
   ]
  },
  {
   "cell_type": "markdown",
   "metadata": {},
   "source": [
    "Ancora, i tassi regionali sono confrontati con la media dei tassi della zona geografica di riferimento, in questa visualizzazione si evidenzia come alcune regioni presentino indicatori \"sopra\" la media della zona geograficica (Abruzzo, Sardegna,...), o siano in linea (Basilicata, Piemonte,...) o sotto di essa (Calabria, Campania, Sicilia, ...). <br>\n",
    "(Modalità interattiva Dash - Plotly)"
   ]
  },
  {
   "cell_type": "code",
   "execution_count": 29,
   "metadata": {},
   "outputs": [
    {
     "name": "stdout",
     "output_type": "stream",
     "text": [
      "Dash is running on http://127.0.0.1:8050/\n",
      "\n",
      "Dash is running on http://127.0.0.1:8050/\n",
      "\n",
      "Dash is running on http://127.0.0.1:8050/\n",
      "\n",
      "Dash is running on http://127.0.0.1:8050/\n",
      "\n",
      "Dash is running on http://127.0.0.1:8050/\n",
      "\n",
      "Dash is running on http://127.0.0.1:8050/\n",
      "\n",
      " * Serving Flask app \"__main__\" (lazy loading)\n",
      " * Environment: production\n",
      "   WARNING: This is a development server. Do not use it in a production deployment.\n",
      "   Use a production WSGI server instead.\n",
      " * Debug mode: on\n"
     ]
    }
   ],
   "source": [
    "app = dash.Dash(__name__)\n",
    "\n",
    "app.layout = html.Div([\n",
    "    dcc.Dropdown(\n",
    "        id=\"ticker\",\n",
    "        options=[{\"label\": x, \"value\": x} \n",
    "                 for x in regioni],\n",
    "        value=regioni[0],\n",
    "        clearable=False,\n",
    "        style={\"font-family\":\"arial\", 'font-size': '1rem','font-style': 'italic','border':'2px darkgrey solid'},\n",
    "    ),\n",
    "    \n",
    "    dcc.Graph(id=\"time-series-chart\"),\n",
    "])\n",
    "\n",
    "@app.callback(\n",
    "    Output(\"time-series-chart\", \"figure\"), \n",
    "    [Input(\"ticker\", \"value\")])\n",
    "def display_time_series(ticker):\n",
    "    df3 = df1[((df1.index.get_level_values(0)) == ticker)]\n",
    "    df4 = df1[((df1.index.get_level_values(1))==df3.index.get_level_values(1)[1])]\n",
    "    df4 = df4.groupby(by=df4.index.get_level_values(2)).mean()\n",
    "    fig = go.Figure()\n",
    "    fig = make_subplots(rows=4, cols=1, vertical_spacing=0.1, row_heights=[500,500,500,500],\n",
    "                        #shared_xaxes=True,\n",
    "                        subplot_titles=(\"Tasso di occupazione\", \"Tasso di disoccupazione\", \"Tasso di attività\", \"Gap occupazionale\")\n",
    "                       )\n",
    "    \n",
    "    # Create and style traces, dash options include 'dash', 'dot', and 'dashdot'\n",
    "        \n",
    "    fig.add_trace(go.Scatter(x=df3.index.get_level_values(2), y=df3['tasso_occupazione'], name='Tasso di occupazione ' + ticker,\n",
    "                         text=ticker, line=dict(color='Darkseagreen', width=4)), row=1, col=1)\n",
    "    fig.add_trace(go.Scatter(x=df4.index.get_level_values(0), y=df4['tasso_occupazione'], name='Tasso di occupazione zona ' + df3.index.get_level_values(1)[1],\n",
    "                         text=df3.index.get_level_values(1)[1],line=dict(color='Darkseagreen', width=3,dash='dashdot')), row=1, col=1)\n",
    "    #fig.update_xaxes(title_text=\"Anno di riferimento\", row=1, col=1)\n",
    "    fig.update_yaxes(title_text=\"Tasso di occupazione (%)\",row=1, col=1)\n",
    "    \n",
    "    fig.add_trace(go.Scatter(x=df3.index.get_level_values(2), y=df3['tasso_disoccupazione'], name = 'Tasso di disoccupazione ' + ticker,\n",
    "                         text=ticker, line=dict(color='crimson', width=4)),row=2, col=1)\n",
    "    fig.add_trace(go.Scatter(x=df4.index.get_level_values(0), y=df4['tasso_disoccupazione'], name = 'Tasso di disoccupazione zona ' + df3.index.get_level_values(1)[1],\n",
    "                         text=df3.index.get_level_values(1)[1], line=dict(color='crimson', width=3,dash='dashdot')),row=2, col=1)\n",
    "    #fig.update_xaxes(title_text=\"Anno di riferimento\", row=2, col=1)\n",
    "    fig.update_yaxes(title_text=\"Tasso di disoccupazione (%)\",row=2, col=1)   \n",
    "    \n",
    "    fig.add_trace(go.Scatter(x=df3.index.get_level_values(2), y=df3['tasso_attività'], name = 'Tasso di attività ' + ticker,\n",
    "                         text=ticker, line=dict(color='goldenrod', width=4)),row=3, col=1)\n",
    "    fig.add_trace(go.Scatter(x=df4.index.get_level_values(0), y=df4['tasso_attività'], name = 'Tasso di attvità zona ' + df3.index.get_level_values(1)[1],\n",
    "                         text=df3.index.get_level_values(1)[1], line=dict(color='goldenrod', width=3,dash='dashdot')),row=3, col=1)\n",
    "    #fig.update_xaxes(title_text=\"Anno di riferimento\", row=3, col=1)\n",
    "    fig.update_yaxes(title_text=\"Tasso di attività (%)\",row=3, col=1)  \n",
    "    \n",
    "    fig.add_trace(go.Scatter(x=df3.index.get_level_values(2), y=df3['gap_occupazionale'], name = 'Gap occupazionale ' + ticker,\n",
    "                         text=ticker, line=dict(color='darkturquoise', width=4)),row=4, col=1)\n",
    "    fig.add_trace(go.Scatter(x=df4.index.get_level_values(0), y=df4['gap_occupazionale'], name = 'Gap occupazionale zona ' + df3.index.get_level_values(1)[1],\n",
    "                         text=df3.index.get_level_values(1)[1], line=dict(color='darkturquoise', width=3,dash='dashdot')),row=4, col=1)\n",
    "    #fig.update_xaxes(title_text=\"Anno di riferimento\", row=3, col=1)\n",
    "    fig.update_yaxes(title_text=\"Gap occupazionale (%)\",row=4, col=1)\n",
    "\n",
    "\n",
    "    fig.update_layout(height=900, width=1600, title=\"Confronto tassi con media nazionale per zona di riferimento\", hovermode=\"x unified\")\n",
    "    return fig\n",
    "\n",
    "app.run_server(debug=True, use_reloader=False)"
   ]
  },
  {
   "cell_type": "markdown",
   "metadata": {},
   "source": [
    "### Analisi dei tassi per anno\n",
    "Attraverso la selezione dell'anno (e potenzialmente di un arbitrio periodo temporale), è possibile osservare il rapporto tra tasso di attività e tasso di disoccupazione, questo rapporto mostra nel Boubble Chart le regioni già individuate in precedenza essere raggruppate in basso a sinistra. <br>\n",
    "Le bolle sono ancora una volta raggruppate per colore = zona d'italia, inoltre la dimensione fornisce indicazioni circa il valore del \"Gap Occupazionale\".<br>\n",
    "In basso sono riportati i valori dei tassi per l'anno selezionati, suddivisi per zona d'italia e sesso dei cittadini.<br>\n",
    "(Modalità interattiva Dash - Plotly)\n"
   ]
  },
  {
   "cell_type": "code",
   "execution_count": 51,
   "metadata": {},
   "outputs": [
    {
     "name": "stdout",
     "output_type": "stream",
     "text": [
      "Dash is running on http://127.0.0.1:8050/\n",
      "\n",
      "Dash is running on http://127.0.0.1:8050/\n",
      "\n",
      "Dash is running on http://127.0.0.1:8050/\n",
      "\n",
      "Dash is running on http://127.0.0.1:8050/\n",
      "\n",
      "Dash is running on http://127.0.0.1:8050/\n",
      "\n",
      "Dash is running on http://127.0.0.1:8050/\n",
      "\n",
      "Dash is running on http://127.0.0.1:8050/\n",
      "\n",
      "Dash is running on http://127.0.0.1:8050/\n",
      "\n",
      "Dash is running on http://127.0.0.1:8050/\n",
      "\n",
      "Dash is running on http://127.0.0.1:8050/\n",
      "\n",
      "Dash is running on http://127.0.0.1:8050/\n",
      "\n",
      "Dash is running on http://127.0.0.1:8050/\n",
      "\n",
      "Dash is running on http://127.0.0.1:8050/\n",
      "\n",
      "Dash is running on http://127.0.0.1:8050/\n",
      "\n",
      "Dash is running on http://127.0.0.1:8050/\n",
      "\n",
      "Dash is running on http://127.0.0.1:8050/\n",
      "\n",
      "Dash is running on http://127.0.0.1:8050/\n",
      "\n",
      "Dash is running on http://127.0.0.1:8050/\n",
      "\n",
      "Dash is running on http://127.0.0.1:8050/\n",
      "\n",
      "Dash is running on http://127.0.0.1:8050/\n",
      "\n",
      "Dash is running on http://127.0.0.1:8050/\n",
      "\n",
      "Dash is running on http://127.0.0.1:8050/\n",
      "\n",
      "Dash is running on http://127.0.0.1:8050/\n",
      "\n",
      "Dash is running on http://127.0.0.1:8050/\n",
      "\n",
      "Dash is running on http://127.0.0.1:8050/\n",
      "\n",
      " * Serving Flask app \"__main__\" (lazy loading)\n",
      " * Environment: production\n",
      "   WARNING: This is a development server. Do not use it in a production deployment.\n",
      "   Use a production WSGI server instead.\n",
      " * Debug mode: on\n"
     ]
    }
   ],
   "source": [
    "#per le pie charts\n",
    "df7 = df_pivot[(((df_pivot.index.get_level_values(4) == '15-64 anni')) & ((df_pivot.index.get_level_values(3)) != 'totale'))]\n",
    "\n",
    "anni = df1.index.get_level_values(2).unique()\n",
    "zone = df1.index.get_level_values(1).unique()\n",
    "regioni = df1.index.get_level_values(0).unique()\n",
    "\n",
    "sizeref = 2.*df1['gap_occupazionale'].max()/(60.**2)\n",
    "\n",
    "app = dash.Dash(__name__)\n",
    "\n",
    "app.layout = html.Div([\n",
    "    dcc.Dropdown(\n",
    "        id=\"ticker\",\n",
    "        options=[{\"label\": x, \"value\": x} \n",
    "                 for x in anni],\n",
    "        value=anni[0],\n",
    "        clearable=False,\n",
    "        style={\"font-family\":\"arial\", 'font-size': '1rem','font-style': 'italic','border':'2px darkgrey solid'},\n",
    "    ),\n",
    "    \n",
    "    dcc.Graph(id=\"time-series-chart\"),\n",
    "])\n",
    "\n",
    "@app.callback(\n",
    "    Output(\"time-series-chart\", \"figure\"), \n",
    "    [Input(\"ticker\", \"value\")])\n",
    "def display_time_series(ticker):\n",
    "    fig = go.Figure()\n",
    "    fig = make_subplots(rows=2, cols=5, vertical_spacing=0.2, row_heights=[500,500],\n",
    "                    specs=[[{\"type\": \"xy\",\"colspan\": 5}, None, None, None, None],\n",
    "                          [{\"type\": \"bar\"},{\"type\": \"bar\"},{\"type\": \"bar\"},{\"type\": \"bar\"},{\"type\": \"bar\"}]],\n",
    "                    #shared_xaxes=True,\n",
    "                    subplot_titles=(\"\", \"Nord-ovest\", \"Nord-est\", \"Centro\", \"Sud\", \"Isole\"),\n",
    "                    shared_yaxes=True\n",
    "                    )\n",
    "\n",
    "    for zona in zone:\n",
    "        df6 = df1[(((df1.index.get_level_values(1)) == zona) & ((df1.index.get_level_values(2)) == ticker))]\n",
    "        fig.add_trace(go.Scatter(\n",
    "            x=df6['tasso_occupazione'], y=df6['tasso_attività'],\n",
    "            name=zona, text=df6.index.get_level_values(0),\n",
    "            marker_size=df6['gap_occupazionale'],\n",
    "            ), row=1, col=1)\n",
    "    fig.update_traces(mode='markers', marker=dict(sizemode='area',\n",
    "                                              sizeref=sizeref, line_width=2))   \n",
    "    df8 = df7[((df7.index.get_level_values(2)) == ticker)].groupby(level=[\"zona\",\"sesso\"]).mean()\n",
    "\n",
    "    for index, zona in enumerate(zone):\n",
    "        if index == 0 :\n",
    "            fig.add_trace(\n",
    "               go.Bar(\n",
    "                    x=df8.columns[7:],\n",
    "                    y=df8.xs(zona).T['maschi'][7:],\n",
    "                    name='Maschi',\n",
    "                    hovertext = \"Maschi\",\n",
    "                    legendgroup =\"maschi\",\n",
    "                    marker_color='darkgrey'),\n",
    "                2, index+1)\n",
    "            fig.add_trace(\n",
    "                go.Bar(\n",
    "                    x=df8.columns[7:],\n",
    "                    y=df8.xs(zona).T['femmine'][7:],\n",
    "                    name='Femmine',\n",
    "                    legendgroup = \"femmine\",\n",
    "                    hovertext = \"Femmine\",\n",
    "                    marker_color='indianred'),\n",
    "                2, index+1)\n",
    "        else:\n",
    "            fig.add_trace(\n",
    "               go.Bar(\n",
    "                    x=df8.columns[7:],\n",
    "                    y=df8.xs(zona).T['maschi'][7:],\n",
    "                    name='Maschi',\n",
    "                    showlegend=False,\n",
    "                    legendgroup = \"maschi\",\n",
    "                    hovertext = \"Maschi\",\n",
    "                    marker_color='darkgrey'),\n",
    "                2, index+1)\n",
    "            fig.add_trace(\n",
    "                go.Bar(\n",
    "                    x=df8.columns[7:],\n",
    "                    y=df8.xs(zona).T['femmine'][7:],\n",
    "                    name='Femmine',\n",
    "                    legendgroup = \"femmine\",\n",
    "                    showlegend=False,\n",
    "                    hovertext='Femmine',\n",
    "                    marker_color='indianred'),\n",
    "                2, index+1)\n",
    "    fig.update_layout(\n",
    "    height=900, width=1600,\n",
    "    title='Tasso di attività vs tasso di occupazione, ' + ticker,\n",
    "    legend= {'itemsizing': 'constant'},\n",
    "    xaxis=dict(\n",
    "        title='Tasso di occupazione (%)',\n",
    "        gridcolor='white',\n",
    "        type='log',\n",
    "        gridwidth=2,\n",
    "    ),\n",
    "    yaxis=dict(\n",
    "        title='Tasso di attività (%)',\n",
    "        gridcolor='white',\n",
    "        gridwidth=2,\n",
    "    ),\n",
    "    paper_bgcolor='rgb(243, 243, 243)',\n",
    "    plot_bgcolor='rgb(243, 243, 243)',\n",
    "    )\n",
    "    return fig\n",
    "\n",
    "app.run_server(debug=True, use_reloader=False)\n"
   ]
  },
  {
   "cell_type": "code",
   "execution_count": null,
   "metadata": {},
   "outputs": [],
   "source": []
  }
 ],
 "metadata": {
  "celltoolbar": "Raw Cell Format",
  "kernelspec": {
   "display_name": "Python 3",
   "language": "python",
   "name": "python3"
  },
  "language_info": {
   "codemirror_mode": {
    "name": "ipython",
    "version": 3
   },
   "file_extension": ".py",
   "mimetype": "text/x-python",
   "name": "python",
   "nbconvert_exporter": "python",
   "pygments_lexer": "ipython3",
   "version": "3.8.5"
  }
 },
 "nbformat": 4,
 "nbformat_minor": 4
}
