{
 "cells": [
  {
   "cell_type": "markdown",
   "metadata": {},
   "source": [
    "# Analisi e visualizzazione dei dati del Lavoro in italia (1996-2018) (ISTAT)\n",
    "Il progetto consiste nell'analisi dei dati presenti sul sito <a href=\"https://www.kaggle.com\">Kaddle</a> e relativi alla condizione lavorativa in italia:\n",
    "<a href=\"https://www.kaggle.com/mpwolke/cusersmarildownloadspopolazionecsv\">Population by labour status - Italy</a>. <br>\n",
    "La fonte dei dati è ISTAT e si tratta delle rilevazioni fatte dal 1996 al secondo trimestre 2019.<br>\n",
    "Nell specifico l'attività condotta consiste in:\n",
    "1. Caricamento e prima esplorazione del Dataset\n",
    "2. Preparazione dei valori e data cleaning\n",
    "3. Rimozione delle features ridondanti\n",
    "4. Creazione di nuove feature e nuovi aggregati\n",
    "5. Reshaping del Dataframe \n",
    "6. Visualizzazione interattiva con Plotly, Plotly Express e Plotly Dash"
   ]
  },
  {
   "cell_type": "code",
   "execution_count": 2,
   "metadata": {
    "_cell_guid": "b1076dfc-b9ad-4769-8c92-a6c4dae69d19",
    "_uuid": "8f2839f25d086af736a60e9eeb907d3b93b6e0e5"
   },
   "outputs": [],
   "source": [
    "# This Python 3 environment comes with many helpful analytics libraries installed\n",
    "# It is defined by the kaggle/python Docker image: https://github.com/kaggle/docker-python\n",
    "# For example, here's several helpful packages to load\n",
    "\n",
    "%matplotlib inline\n",
    "import matplotlib as mpl\n",
    "import matplotlib.pyplot as plt\n",
    "import numpy as np # linear algebra\n",
    "import pandas as pd # data processing, CSV file I/O (e.g. pd.read_csv)\n",
    "pd.plotting.register_matplotlib_converters()\n",
    "import plotly.graph_objects as go\n",
    "import dash\n",
    "import dash_core_components as dcc\n",
    "import dash_html_components as html\n",
    "from dash.dependencies import Input, Output\n",
    "import plotly.express as px\n",
    "import plotly.io as pio\n",
    "#import geopandas as gpd\n",
    "\n",
    "#imposto il template di default di Plotly Express\n",
    "pio.templates.default = \"plotly_white\"\n",
    "\n",
    "# Verifico la presenza del notebook nella cartella\n",
    "\n",
    "#import os\n",
    "#for dirname, _, filenames in os.walk('.'):\n",
    "#    for filename in filenames:\n",
    "#        print(os.path.join(dirname, filename))\n"
   ]
  },
  {
   "cell_type": "markdown",
   "metadata": {},
   "source": [
    "## Analisi esplorativa del DataFrame\n",
    "Carico il file \"popolazione.csv\" usando l'encoding corretto e il separatore \";\"\n",
    "Visualizzo le prime 5 righe del DataFrame "
   ]
  },
  {
   "cell_type": "code",
   "execution_count": 3,
   "metadata": {},
   "outputs": [
    {
     "data": {
      "text/html": [
       "<div>\n",
       "<style scoped>\n",
       "    .dataframe tbody tr th:only-of-type {\n",
       "        vertical-align: middle;\n",
       "    }\n",
       "\n",
       "    .dataframe tbody tr th {\n",
       "        vertical-align: top;\n",
       "    }\n",
       "\n",
       "    .dataframe thead th {\n",
       "        text-align: right;\n",
       "    }\n",
       "</style>\n",
       "<table border=\"1\" class=\"dataframe\">\n",
       "  <thead>\n",
       "    <tr style=\"text-align: right;\">\n",
       "      <th></th>\n",
       "      <th>itter107</th>\n",
       "      <th>territorio</th>\n",
       "      <th>tipo_dato_fol</th>\n",
       "      <th>tipo dato</th>\n",
       "      <th>sexistat1</th>\n",
       "      <th>sesso</th>\n",
       "      <th>eta1</th>\n",
       "      <th>classe di età</th>\n",
       "      <th>condizione_prof</th>\n",
       "      <th>condizione professionale</th>\n",
       "      <th>condizione_prof_eu</th>\n",
       "      <th>condizione professionale europea</th>\n",
       "      <th>time</th>\n",
       "      <th>seleziona periodo</th>\n",
       "      <th>value</th>\n",
       "    </tr>\n",
       "  </thead>\n",
       "  <tbody>\n",
       "    <tr>\n",
       "      <th>0</th>\n",
       "      <td>ITC1</td>\n",
       "      <td>Piemonte</td>\n",
       "      <td>POP</td>\n",
       "      <td>popolazione 0 anni e più (in migliaia)</td>\n",
       "      <td>2</td>\n",
       "      <td>femmine</td>\n",
       "      <td>Y15-74</td>\n",
       "      <td>15-74 anni</td>\n",
       "      <td>99</td>\n",
       "      <td>totale</td>\n",
       "      <td>TOT</td>\n",
       "      <td>totale</td>\n",
       "      <td>1996</td>\n",
       "      <td>1996</td>\n",
       "      <td>1.716.452</td>\n",
       "    </tr>\n",
       "    <tr>\n",
       "      <th>1</th>\n",
       "      <td>ITC1</td>\n",
       "      <td>Piemonte</td>\n",
       "      <td>POP</td>\n",
       "      <td>popolazione 0 anni e più (in migliaia)</td>\n",
       "      <td>2</td>\n",
       "      <td>femmine</td>\n",
       "      <td>Y15-74</td>\n",
       "      <td>15-74 anni</td>\n",
       "      <td>99</td>\n",
       "      <td>totale</td>\n",
       "      <td>TOT</td>\n",
       "      <td>totale</td>\n",
       "      <td>1996-Q2</td>\n",
       "      <td>T2-1996</td>\n",
       "      <td>1.717.624</td>\n",
       "    </tr>\n",
       "    <tr>\n",
       "      <th>2</th>\n",
       "      <td>ITC1</td>\n",
       "      <td>Piemonte</td>\n",
       "      <td>POP</td>\n",
       "      <td>popolazione 0 anni e più (in migliaia)</td>\n",
       "      <td>2</td>\n",
       "      <td>femmine</td>\n",
       "      <td>Y15-74</td>\n",
       "      <td>15-74 anni</td>\n",
       "      <td>99</td>\n",
       "      <td>totale</td>\n",
       "      <td>TOT</td>\n",
       "      <td>totale</td>\n",
       "      <td>1996-Q1</td>\n",
       "      <td>T1-1996</td>\n",
       "      <td>1.719.434</td>\n",
       "    </tr>\n",
       "    <tr>\n",
       "      <th>3</th>\n",
       "      <td>ITC1</td>\n",
       "      <td>Piemonte</td>\n",
       "      <td>POP</td>\n",
       "      <td>popolazione 0 anni e più (in migliaia)</td>\n",
       "      <td>2</td>\n",
       "      <td>femmine</td>\n",
       "      <td>Y15-74</td>\n",
       "      <td>15-74 anni</td>\n",
       "      <td>99</td>\n",
       "      <td>totale</td>\n",
       "      <td>TOT</td>\n",
       "      <td>totale</td>\n",
       "      <td>1996-Q4</td>\n",
       "      <td>T4-1996</td>\n",
       "      <td>1713.29</td>\n",
       "    </tr>\n",
       "    <tr>\n",
       "      <th>4</th>\n",
       "      <td>ITC1</td>\n",
       "      <td>Piemonte</td>\n",
       "      <td>POP</td>\n",
       "      <td>popolazione 0 anni e più (in migliaia)</td>\n",
       "      <td>2</td>\n",
       "      <td>femmine</td>\n",
       "      <td>Y15-74</td>\n",
       "      <td>15-74 anni</td>\n",
       "      <td>99</td>\n",
       "      <td>totale</td>\n",
       "      <td>TOT</td>\n",
       "      <td>totale</td>\n",
       "      <td>1996-Q3</td>\n",
       "      <td>T3-1996</td>\n",
       "      <td>1.715.458</td>\n",
       "    </tr>\n",
       "  </tbody>\n",
       "</table>\n",
       "</div>"
      ],
      "text/plain": [
       "  itter107 territorio tipo_dato_fol                               tipo dato  \\\n",
       "0     ITC1   Piemonte           POP  popolazione 0 anni e più (in migliaia)   \n",
       "1     ITC1   Piemonte           POP  popolazione 0 anni e più (in migliaia)   \n",
       "2     ITC1   Piemonte           POP  popolazione 0 anni e più (in migliaia)   \n",
       "3     ITC1   Piemonte           POP  popolazione 0 anni e più (in migliaia)   \n",
       "4     ITC1   Piemonte           POP  popolazione 0 anni e più (in migliaia)   \n",
       "\n",
       "   sexistat1    sesso    eta1 classe di età condizione_prof  \\\n",
       "0          2  femmine  Y15-74    15-74 anni              99   \n",
       "1          2  femmine  Y15-74    15-74 anni              99   \n",
       "2          2  femmine  Y15-74    15-74 anni              99   \n",
       "3          2  femmine  Y15-74    15-74 anni              99   \n",
       "4          2  femmine  Y15-74    15-74 anni              99   \n",
       "\n",
       "  condizione professionale condizione_prof_eu  \\\n",
       "0                   totale                TOT   \n",
       "1                   totale                TOT   \n",
       "2                   totale                TOT   \n",
       "3                   totale                TOT   \n",
       "4                   totale                TOT   \n",
       "\n",
       "  condizione professionale europea     time seleziona periodo      value  \n",
       "0                           totale     1996              1996  1.716.452  \n",
       "1                           totale  1996-Q2           T2-1996  1.717.624  \n",
       "2                           totale  1996-Q1           T1-1996  1.719.434  \n",
       "3                           totale  1996-Q4           T4-1996    1713.29  \n",
       "4                           totale  1996-Q3           T3-1996  1.715.458  "
      ]
     },
     "execution_count": 3,
     "metadata": {},
     "output_type": "execute_result"
    }
   ],
   "source": [
    "df = pd.read_csv('popolazione_orig.csv', encoding='cp1252', sep=';', decimal='.')\n",
    "df.head(5)"
   ]
  },
  {
   "cell_type": "markdown",
   "metadata": {},
   "source": [
    "Verifico le features numeriche e i valori nulli:"
   ]
  },
  {
   "cell_type": "code",
   "execution_count": 4,
   "metadata": {},
   "outputs": [
    {
     "data": {
      "text/html": [
       "<div>\n",
       "<style scoped>\n",
       "    .dataframe tbody tr th:only-of-type {\n",
       "        vertical-align: middle;\n",
       "    }\n",
       "\n",
       "    .dataframe tbody tr th {\n",
       "        vertical-align: top;\n",
       "    }\n",
       "\n",
       "    .dataframe thead th {\n",
       "        text-align: right;\n",
       "    }\n",
       "</style>\n",
       "<table border=\"1\" class=\"dataframe\">\n",
       "  <thead>\n",
       "    <tr style=\"text-align: right;\">\n",
       "      <th></th>\n",
       "      <th>sexistat1</th>\n",
       "    </tr>\n",
       "  </thead>\n",
       "  <tbody>\n",
       "    <tr>\n",
       "      <th>count</th>\n",
       "      <td>267234.000000</td>\n",
       "    </tr>\n",
       "    <tr>\n",
       "      <th>mean</th>\n",
       "      <td>4.000000</td>\n",
       "    </tr>\n",
       "    <tr>\n",
       "      <th>std</th>\n",
       "      <td>3.559033</td>\n",
       "    </tr>\n",
       "    <tr>\n",
       "      <th>min</th>\n",
       "      <td>1.000000</td>\n",
       "    </tr>\n",
       "    <tr>\n",
       "      <th>25%</th>\n",
       "      <td>1.000000</td>\n",
       "    </tr>\n",
       "    <tr>\n",
       "      <th>50%</th>\n",
       "      <td>2.000000</td>\n",
       "    </tr>\n",
       "    <tr>\n",
       "      <th>75%</th>\n",
       "      <td>9.000000</td>\n",
       "    </tr>\n",
       "    <tr>\n",
       "      <th>max</th>\n",
       "      <td>9.000000</td>\n",
       "    </tr>\n",
       "  </tbody>\n",
       "</table>\n",
       "</div>"
      ],
      "text/plain": [
       "           sexistat1\n",
       "count  267234.000000\n",
       "mean        4.000000\n",
       "std         3.559033\n",
       "min         1.000000\n",
       "25%         1.000000\n",
       "50%         2.000000\n",
       "75%         9.000000\n",
       "max         9.000000"
      ]
     },
     "execution_count": 4,
     "metadata": {},
     "output_type": "execute_result"
    }
   ],
   "source": [
    "df.describe()"
   ]
  },
  {
   "cell_type": "code",
   "execution_count": 5,
   "metadata": {},
   "outputs": [
    {
     "data": {
      "text/plain": [
       "itter107                            0\n",
       "territorio                          0\n",
       "tipo_dato_fol                       0\n",
       "tipo dato                           0\n",
       "sexistat1                           0\n",
       "sesso                               0\n",
       "eta1                                0\n",
       "classe di età                       0\n",
       "condizione_prof                     0\n",
       "condizione professionale            0\n",
       "condizione_prof_eu                  0\n",
       "condizione professionale europea    0\n",
       "time                                0\n",
       "seleziona periodo                   0\n",
       "value                               0\n",
       "dtype: int64"
      ]
     },
     "execution_count": 5,
     "metadata": {},
     "output_type": "execute_result"
    }
   ],
   "source": [
    "df.isnull().sum()"
   ]
  },
  {
   "cell_type": "markdown",
   "metadata": {},
   "source": [
    "Al momento l'unica feature numerica è relativa al codice Istat che rappresenta il sesso, non ci sono valori nulli.<br>\n",
    "Verifico l'omgeneità rispetto alla feature \"Territorio\":"
   ]
  },
  {
   "cell_type": "code",
   "execution_count": 6,
   "metadata": {},
   "outputs": [
    {
     "data": {
      "text/plain": [
       "Sicilia                               12147\n",
       "Friuli-Venezia Giulia                 12147\n",
       "Emilia-Romagna                        12147\n",
       "Lombardia                             12147\n",
       "Toscana                               12147\n",
       "Provincia Autonoma Bolzano / Bozen    12147\n",
       "Veneto                                12147\n",
       "Puglia                                12147\n",
       "Calabria                              12147\n",
       "Umbria                                12147\n",
       "Lazio                                 12147\n",
       "Molise                                12147\n",
       "Basilicata                            12147\n",
       "Marche                                12147\n",
       "Liguria                               12147\n",
       "Sardegna                              12147\n",
       "Campania                              12147\n",
       "Trentino Alto Adige / Südtirol        12147\n",
       "Abruzzo                               12147\n",
       "Valle d'Aosta / Vallée d'Aoste        12147\n",
       "Provincia Autonoma Trento             12147\n",
       "Piemonte                              12147\n",
       "Name: territorio, dtype: int64"
      ]
     },
     "execution_count": 6,
     "metadata": {},
     "output_type": "execute_result"
    }
   ],
   "source": [
    "df['territorio'].value_counts()"
   ]
  },
  {
   "cell_type": "markdown",
   "metadata": {},
   "source": [
    "Esploro la feature \"value\":"
   ]
  },
  {
   "cell_type": "code",
   "execution_count": 7,
   "metadata": {},
   "outputs": [
    {
     "data": {
      "text/plain": [
       "0         1.716.452\n",
       "1         1.717.624\n",
       "2         1.719.434\n",
       "3           1713.29\n",
       "4         1.715.458\n",
       "            ...    \n",
       "267229       51.679\n",
       "267230       44.875\n",
       "267231       28.639\n",
       "267232       47.622\n",
       "267233       51.084\n",
       "Name: value, Length: 267234, dtype: object"
      ]
     },
     "execution_count": 7,
     "metadata": {},
     "output_type": "execute_result"
    }
   ],
   "source": [
    "df.value"
   ]
  },
  {
   "cell_type": "markdown",
   "metadata": {},
   "source": [
    "La prima esplorazione evidenzia che la feature \"Value\" contiene valori disomogenei e non numeri decimali come ci si aspetterebbe (si tratta di valori espressi in migliaia), vi sono infatti valori espressi col primo punto come separatore delle migliaia e un secondo punto come separatore dei decimali."
   ]
  },
  {
   "cell_type": "markdown",
   "metadata": {},
   "source": [
    "### Esplorazione della condizione professionale\n",
    "Inizio l'esplorazione delle diverse feature relative alla condizione professionale "
   ]
  },
  {
   "cell_type": "code",
   "execution_count": 8,
   "metadata": {},
   "outputs": [
    {
     "data": {
      "text/plain": [
       "Index(['disoccupati', 'forze lavoro', 'inattivi',\n",
       "       'non cercano e non disponibili a lavorare', 'occupati', 'totale',\n",
       "       'zona grigia dell'inattività'],\n",
       "      dtype='object')"
      ]
     },
     "execution_count": 8,
     "metadata": {},
     "output_type": "execute_result"
    }
   ],
   "source": [
    "df['condizione professionale'].astype('category').cat.categories"
   ]
  },
  {
   "cell_type": "code",
   "execution_count": 9,
   "metadata": {},
   "outputs": [
    {
     "data": {
      "text/html": [
       "<div>\n",
       "<style scoped>\n",
       "    .dataframe tbody tr th:only-of-type {\n",
       "        vertical-align: middle;\n",
       "    }\n",
       "\n",
       "    .dataframe tbody tr th {\n",
       "        vertical-align: top;\n",
       "    }\n",
       "\n",
       "    .dataframe thead th {\n",
       "        text-align: right;\n",
       "    }\n",
       "</style>\n",
       "<table border=\"1\" class=\"dataframe\">\n",
       "  <thead>\n",
       "    <tr style=\"text-align: right;\">\n",
       "      <th></th>\n",
       "      <th>itter107</th>\n",
       "      <th>territorio</th>\n",
       "      <th>tipo_dato_fol</th>\n",
       "      <th>tipo dato</th>\n",
       "      <th>sexistat1</th>\n",
       "      <th>sesso</th>\n",
       "      <th>eta1</th>\n",
       "      <th>classe di età</th>\n",
       "      <th>condizione_prof</th>\n",
       "      <th>condizione professionale</th>\n",
       "      <th>condizione_prof_eu</th>\n",
       "      <th>condizione professionale europea</th>\n",
       "      <th>time</th>\n",
       "      <th>seleziona periodo</th>\n",
       "      <th>value</th>\n",
       "    </tr>\n",
       "  </thead>\n",
       "  <tbody>\n",
       "    <tr>\n",
       "      <th>89592</th>\n",
       "      <td>ITG2</td>\n",
       "      <td>Sardegna</td>\n",
       "      <td>POP</td>\n",
       "      <td>popolazione 0 anni e più (in migliaia)</td>\n",
       "      <td>9</td>\n",
       "      <td>totale</td>\n",
       "      <td>Y15-64</td>\n",
       "      <td>15-64 anni</td>\n",
       "      <td>99</td>\n",
       "      <td>totale</td>\n",
       "      <td>UNEM</td>\n",
       "      <td>disoccupati</td>\n",
       "      <td>2012</td>\n",
       "      <td>2012</td>\n",
       "      <td>106.792</td>\n",
       "    </tr>\n",
       "    <tr>\n",
       "      <th>107706</th>\n",
       "      <td>ITG2</td>\n",
       "      <td>Sardegna</td>\n",
       "      <td>POP</td>\n",
       "      <td>popolazione 0 anni e più (in migliaia)</td>\n",
       "      <td>9</td>\n",
       "      <td>totale</td>\n",
       "      <td>Y15-64</td>\n",
       "      <td>15-64 anni</td>\n",
       "      <td>2</td>\n",
       "      <td>disoccupati</td>\n",
       "      <td>TOT</td>\n",
       "      <td>totale</td>\n",
       "      <td>2012</td>\n",
       "      <td>2012</td>\n",
       "      <td>106.792</td>\n",
       "    </tr>\n",
       "    <tr>\n",
       "      <th>125343</th>\n",
       "      <td>ITG2</td>\n",
       "      <td>Sardegna</td>\n",
       "      <td>POP</td>\n",
       "      <td>popolazione 0 anni e più (in migliaia)</td>\n",
       "      <td>9</td>\n",
       "      <td>totale</td>\n",
       "      <td>Y15-64</td>\n",
       "      <td>15-64 anni</td>\n",
       "      <td>99</td>\n",
       "      <td>totale</td>\n",
       "      <td>TOTIN</td>\n",
       "      <td>totale inattivi</td>\n",
       "      <td>2012</td>\n",
       "      <td>2012</td>\n",
       "      <td>432.788</td>\n",
       "    </tr>\n",
       "    <tr>\n",
       "      <th>160543</th>\n",
       "      <td>ITG2</td>\n",
       "      <td>Sardegna</td>\n",
       "      <td>POP</td>\n",
       "      <td>popolazione 0 anni e più (in migliaia)</td>\n",
       "      <td>9</td>\n",
       "      <td>totale</td>\n",
       "      <td>Y15-64</td>\n",
       "      <td>15-64 anni</td>\n",
       "      <td>1_2</td>\n",
       "      <td>forze lavoro</td>\n",
       "      <td>TOT</td>\n",
       "      <td>totale</td>\n",
       "      <td>2012</td>\n",
       "      <td>2012</td>\n",
       "      <td>684.656</td>\n",
       "    </tr>\n",
       "    <tr>\n",
       "      <th>209975</th>\n",
       "      <td>ITG2</td>\n",
       "      <td>Sardegna</td>\n",
       "      <td>POP</td>\n",
       "      <td>popolazione 0 anni e più (in migliaia)</td>\n",
       "      <td>9</td>\n",
       "      <td>totale</td>\n",
       "      <td>Y15-64</td>\n",
       "      <td>15-64 anni</td>\n",
       "      <td>99</td>\n",
       "      <td>totale</td>\n",
       "      <td>TOT</td>\n",
       "      <td>totale</td>\n",
       "      <td>2012</td>\n",
       "      <td>2012</td>\n",
       "      <td>1.117.444</td>\n",
       "    </tr>\n",
       "    <tr>\n",
       "      <th>230765</th>\n",
       "      <td>ITG2</td>\n",
       "      <td>Sardegna</td>\n",
       "      <td>POP</td>\n",
       "      <td>popolazione 0 anni e più (in migliaia)</td>\n",
       "      <td>9</td>\n",
       "      <td>totale</td>\n",
       "      <td>Y15-64</td>\n",
       "      <td>15-64 anni</td>\n",
       "      <td>99</td>\n",
       "      <td>totale</td>\n",
       "      <td>LF</td>\n",
       "      <td>forze lavoro</td>\n",
       "      <td>2012</td>\n",
       "      <td>2012</td>\n",
       "      <td>684.656</td>\n",
       "    </tr>\n",
       "    <tr>\n",
       "      <th>232871</th>\n",
       "      <td>ITG2</td>\n",
       "      <td>Sardegna</td>\n",
       "      <td>POP</td>\n",
       "      <td>popolazione 0 anni e più (in migliaia)</td>\n",
       "      <td>9</td>\n",
       "      <td>totale</td>\n",
       "      <td>Y15-64</td>\n",
       "      <td>15-64 anni</td>\n",
       "      <td>3_4</td>\n",
       "      <td>inattivi</td>\n",
       "      <td>TOT</td>\n",
       "      <td>totale</td>\n",
       "      <td>2012</td>\n",
       "      <td>2012</td>\n",
       "      <td>432.788</td>\n",
       "    </tr>\n",
       "    <tr>\n",
       "      <th>234112</th>\n",
       "      <td>ITG2</td>\n",
       "      <td>Sardegna</td>\n",
       "      <td>POP</td>\n",
       "      <td>popolazione 0 anni e più (in migliaia)</td>\n",
       "      <td>9</td>\n",
       "      <td>totale</td>\n",
       "      <td>Y15-64</td>\n",
       "      <td>15-64 anni</td>\n",
       "      <td>3A_3B_3C</td>\n",
       "      <td>zona grigia dell'inattività</td>\n",
       "      <td>TOT</td>\n",
       "      <td>totale</td>\n",
       "      <td>2012</td>\n",
       "      <td>2012</td>\n",
       "      <td>121.814</td>\n",
       "    </tr>\n",
       "    <tr>\n",
       "      <th>243014</th>\n",
       "      <td>ITG2</td>\n",
       "      <td>Sardegna</td>\n",
       "      <td>POP</td>\n",
       "      <td>popolazione 0 anni e più (in migliaia)</td>\n",
       "      <td>9</td>\n",
       "      <td>totale</td>\n",
       "      <td>Y15-64</td>\n",
       "      <td>15-64 anni</td>\n",
       "      <td>3D</td>\n",
       "      <td>non cercano e non disponibili a lavorare</td>\n",
       "      <td>TOT</td>\n",
       "      <td>totale</td>\n",
       "      <td>2012</td>\n",
       "      <td>2012</td>\n",
       "      <td>310.974</td>\n",
       "    </tr>\n",
       "    <tr>\n",
       "      <th>245499</th>\n",
       "      <td>ITG2</td>\n",
       "      <td>Sardegna</td>\n",
       "      <td>POP</td>\n",
       "      <td>popolazione 0 anni e più (in migliaia)</td>\n",
       "      <td>9</td>\n",
       "      <td>totale</td>\n",
       "      <td>Y15-64</td>\n",
       "      <td>15-64 anni</td>\n",
       "      <td>99</td>\n",
       "      <td>totale</td>\n",
       "      <td>EMP</td>\n",
       "      <td>occupati</td>\n",
       "      <td>2012</td>\n",
       "      <td>2012</td>\n",
       "      <td>577.864</td>\n",
       "    </tr>\n",
       "    <tr>\n",
       "      <th>267080</th>\n",
       "      <td>ITG2</td>\n",
       "      <td>Sardegna</td>\n",
       "      <td>POP</td>\n",
       "      <td>popolazione 0 anni e più (in migliaia)</td>\n",
       "      <td>9</td>\n",
       "      <td>totale</td>\n",
       "      <td>Y15-64</td>\n",
       "      <td>15-64 anni</td>\n",
       "      <td>1</td>\n",
       "      <td>occupati</td>\n",
       "      <td>TOT</td>\n",
       "      <td>totale</td>\n",
       "      <td>2012</td>\n",
       "      <td>2012</td>\n",
       "      <td>577.864</td>\n",
       "    </tr>\n",
       "  </tbody>\n",
       "</table>\n",
       "</div>"
      ],
      "text/plain": [
       "       itter107 territorio tipo_dato_fol  \\\n",
       "89592      ITG2   Sardegna           POP   \n",
       "107706     ITG2   Sardegna           POP   \n",
       "125343     ITG2   Sardegna           POP   \n",
       "160543     ITG2   Sardegna           POP   \n",
       "209975     ITG2   Sardegna           POP   \n",
       "230765     ITG2   Sardegna           POP   \n",
       "232871     ITG2   Sardegna           POP   \n",
       "234112     ITG2   Sardegna           POP   \n",
       "243014     ITG2   Sardegna           POP   \n",
       "245499     ITG2   Sardegna           POP   \n",
       "267080     ITG2   Sardegna           POP   \n",
       "\n",
       "                                     tipo dato  sexistat1   sesso    eta1  \\\n",
       "89592   popolazione 0 anni e più (in migliaia)          9  totale  Y15-64   \n",
       "107706  popolazione 0 anni e più (in migliaia)          9  totale  Y15-64   \n",
       "125343  popolazione 0 anni e più (in migliaia)          9  totale  Y15-64   \n",
       "160543  popolazione 0 anni e più (in migliaia)          9  totale  Y15-64   \n",
       "209975  popolazione 0 anni e più (in migliaia)          9  totale  Y15-64   \n",
       "230765  popolazione 0 anni e più (in migliaia)          9  totale  Y15-64   \n",
       "232871  popolazione 0 anni e più (in migliaia)          9  totale  Y15-64   \n",
       "234112  popolazione 0 anni e più (in migliaia)          9  totale  Y15-64   \n",
       "243014  popolazione 0 anni e più (in migliaia)          9  totale  Y15-64   \n",
       "245499  popolazione 0 anni e più (in migliaia)          9  totale  Y15-64   \n",
       "267080  popolazione 0 anni e più (in migliaia)          9  totale  Y15-64   \n",
       "\n",
       "       classe di età condizione_prof  \\\n",
       "89592     15-64 anni              99   \n",
       "107706    15-64 anni               2   \n",
       "125343    15-64 anni              99   \n",
       "160543    15-64 anni             1_2   \n",
       "209975    15-64 anni              99   \n",
       "230765    15-64 anni              99   \n",
       "232871    15-64 anni             3_4   \n",
       "234112    15-64 anni        3A_3B_3C   \n",
       "243014    15-64 anni              3D   \n",
       "245499    15-64 anni              99   \n",
       "267080    15-64 anni               1   \n",
       "\n",
       "                        condizione professionale condizione_prof_eu  \\\n",
       "89592                                     totale               UNEM   \n",
       "107706                               disoccupati                TOT   \n",
       "125343                                    totale              TOTIN   \n",
       "160543                              forze lavoro                TOT   \n",
       "209975                                    totale                TOT   \n",
       "230765                                    totale                 LF   \n",
       "232871                                  inattivi                TOT   \n",
       "234112               zona grigia dell'inattività                TOT   \n",
       "243014  non cercano e non disponibili a lavorare                TOT   \n",
       "245499                                    totale                EMP   \n",
       "267080                                  occupati                TOT   \n",
       "\n",
       "       condizione professionale europea  time seleziona periodo      value  \n",
       "89592                       disoccupati  2012              2012    106.792  \n",
       "107706                           totale  2012              2012    106.792  \n",
       "125343                  totale inattivi  2012              2012    432.788  \n",
       "160543                           totale  2012              2012    684.656  \n",
       "209975                           totale  2012              2012  1.117.444  \n",
       "230765                     forze lavoro  2012              2012    684.656  \n",
       "232871                           totale  2012              2012    432.788  \n",
       "234112                           totale  2012              2012    121.814  \n",
       "243014                           totale  2012              2012    310.974  \n",
       "245499                         occupati  2012              2012    577.864  \n",
       "267080                           totale  2012              2012    577.864  "
      ]
     },
     "execution_count": 9,
     "metadata": {},
     "output_type": "execute_result"
    }
   ],
   "source": [
    "df_once = df[(df.territorio == 'Sardegna') & (df['time'] == '2012') \n",
    "             & (df['classe di età'] == '15-64 anni') \n",
    "             & (df['sesso'] == 'totale')]\n",
    "df_once.head(40)"
   ]
  },
  {
   "cell_type": "code",
   "execution_count": 10,
   "metadata": {},
   "outputs": [
    {
     "data": {
      "text/html": [
       "<div>\n",
       "<style scoped>\n",
       "    .dataframe tbody tr th:only-of-type {\n",
       "        vertical-align: middle;\n",
       "    }\n",
       "\n",
       "    .dataframe tbody tr th {\n",
       "        vertical-align: top;\n",
       "    }\n",
       "\n",
       "    .dataframe thead th {\n",
       "        text-align: right;\n",
       "    }\n",
       "</style>\n",
       "<table border=\"1\" class=\"dataframe\">\n",
       "  <thead>\n",
       "    <tr style=\"text-align: right;\">\n",
       "      <th></th>\n",
       "      <th>itter107</th>\n",
       "      <th>territorio</th>\n",
       "      <th>tipo_dato_fol</th>\n",
       "      <th>tipo dato</th>\n",
       "      <th>sexistat1</th>\n",
       "      <th>sesso</th>\n",
       "      <th>eta1</th>\n",
       "      <th>classe di età</th>\n",
       "      <th>condizione_prof</th>\n",
       "      <th>condizione professionale</th>\n",
       "      <th>condizione_prof_eu</th>\n",
       "      <th>condizione professionale europea</th>\n",
       "      <th>time</th>\n",
       "      <th>seleziona periodo</th>\n",
       "      <th>value</th>\n",
       "    </tr>\n",
       "  </thead>\n",
       "  <tbody>\n",
       "    <tr>\n",
       "      <th>107706</th>\n",
       "      <td>ITG2</td>\n",
       "      <td>Sardegna</td>\n",
       "      <td>POP</td>\n",
       "      <td>popolazione 0 anni e più (in migliaia)</td>\n",
       "      <td>9</td>\n",
       "      <td>totale</td>\n",
       "      <td>Y15-64</td>\n",
       "      <td>15-64 anni</td>\n",
       "      <td>2</td>\n",
       "      <td>disoccupati</td>\n",
       "      <td>TOT</td>\n",
       "      <td>totale</td>\n",
       "      <td>2012</td>\n",
       "      <td>2012</td>\n",
       "      <td>106.792</td>\n",
       "    </tr>\n",
       "    <tr>\n",
       "      <th>160543</th>\n",
       "      <td>ITG2</td>\n",
       "      <td>Sardegna</td>\n",
       "      <td>POP</td>\n",
       "      <td>popolazione 0 anni e più (in migliaia)</td>\n",
       "      <td>9</td>\n",
       "      <td>totale</td>\n",
       "      <td>Y15-64</td>\n",
       "      <td>15-64 anni</td>\n",
       "      <td>1_2</td>\n",
       "      <td>forze lavoro</td>\n",
       "      <td>TOT</td>\n",
       "      <td>totale</td>\n",
       "      <td>2012</td>\n",
       "      <td>2012</td>\n",
       "      <td>684.656</td>\n",
       "    </tr>\n",
       "    <tr>\n",
       "      <th>209975</th>\n",
       "      <td>ITG2</td>\n",
       "      <td>Sardegna</td>\n",
       "      <td>POP</td>\n",
       "      <td>popolazione 0 anni e più (in migliaia)</td>\n",
       "      <td>9</td>\n",
       "      <td>totale</td>\n",
       "      <td>Y15-64</td>\n",
       "      <td>15-64 anni</td>\n",
       "      <td>99</td>\n",
       "      <td>totale</td>\n",
       "      <td>TOT</td>\n",
       "      <td>totale</td>\n",
       "      <td>2012</td>\n",
       "      <td>2012</td>\n",
       "      <td>1.117.444</td>\n",
       "    </tr>\n",
       "    <tr>\n",
       "      <th>232871</th>\n",
       "      <td>ITG2</td>\n",
       "      <td>Sardegna</td>\n",
       "      <td>POP</td>\n",
       "      <td>popolazione 0 anni e più (in migliaia)</td>\n",
       "      <td>9</td>\n",
       "      <td>totale</td>\n",
       "      <td>Y15-64</td>\n",
       "      <td>15-64 anni</td>\n",
       "      <td>3_4</td>\n",
       "      <td>inattivi</td>\n",
       "      <td>TOT</td>\n",
       "      <td>totale</td>\n",
       "      <td>2012</td>\n",
       "      <td>2012</td>\n",
       "      <td>432.788</td>\n",
       "    </tr>\n",
       "    <tr>\n",
       "      <th>234112</th>\n",
       "      <td>ITG2</td>\n",
       "      <td>Sardegna</td>\n",
       "      <td>POP</td>\n",
       "      <td>popolazione 0 anni e più (in migliaia)</td>\n",
       "      <td>9</td>\n",
       "      <td>totale</td>\n",
       "      <td>Y15-64</td>\n",
       "      <td>15-64 anni</td>\n",
       "      <td>3A_3B_3C</td>\n",
       "      <td>zona grigia dell'inattività</td>\n",
       "      <td>TOT</td>\n",
       "      <td>totale</td>\n",
       "      <td>2012</td>\n",
       "      <td>2012</td>\n",
       "      <td>121.814</td>\n",
       "    </tr>\n",
       "    <tr>\n",
       "      <th>243014</th>\n",
       "      <td>ITG2</td>\n",
       "      <td>Sardegna</td>\n",
       "      <td>POP</td>\n",
       "      <td>popolazione 0 anni e più (in migliaia)</td>\n",
       "      <td>9</td>\n",
       "      <td>totale</td>\n",
       "      <td>Y15-64</td>\n",
       "      <td>15-64 anni</td>\n",
       "      <td>3D</td>\n",
       "      <td>non cercano e non disponibili a lavorare</td>\n",
       "      <td>TOT</td>\n",
       "      <td>totale</td>\n",
       "      <td>2012</td>\n",
       "      <td>2012</td>\n",
       "      <td>310.974</td>\n",
       "    </tr>\n",
       "    <tr>\n",
       "      <th>267080</th>\n",
       "      <td>ITG2</td>\n",
       "      <td>Sardegna</td>\n",
       "      <td>POP</td>\n",
       "      <td>popolazione 0 anni e più (in migliaia)</td>\n",
       "      <td>9</td>\n",
       "      <td>totale</td>\n",
       "      <td>Y15-64</td>\n",
       "      <td>15-64 anni</td>\n",
       "      <td>1</td>\n",
       "      <td>occupati</td>\n",
       "      <td>TOT</td>\n",
       "      <td>totale</td>\n",
       "      <td>2012</td>\n",
       "      <td>2012</td>\n",
       "      <td>577.864</td>\n",
       "    </tr>\n",
       "  </tbody>\n",
       "</table>\n",
       "</div>"
      ],
      "text/plain": [
       "       itter107 territorio tipo_dato_fol  \\\n",
       "107706     ITG2   Sardegna           POP   \n",
       "160543     ITG2   Sardegna           POP   \n",
       "209975     ITG2   Sardegna           POP   \n",
       "232871     ITG2   Sardegna           POP   \n",
       "234112     ITG2   Sardegna           POP   \n",
       "243014     ITG2   Sardegna           POP   \n",
       "267080     ITG2   Sardegna           POP   \n",
       "\n",
       "                                     tipo dato  sexistat1   sesso    eta1  \\\n",
       "107706  popolazione 0 anni e più (in migliaia)          9  totale  Y15-64   \n",
       "160543  popolazione 0 anni e più (in migliaia)          9  totale  Y15-64   \n",
       "209975  popolazione 0 anni e più (in migliaia)          9  totale  Y15-64   \n",
       "232871  popolazione 0 anni e più (in migliaia)          9  totale  Y15-64   \n",
       "234112  popolazione 0 anni e più (in migliaia)          9  totale  Y15-64   \n",
       "243014  popolazione 0 anni e più (in migliaia)          9  totale  Y15-64   \n",
       "267080  popolazione 0 anni e più (in migliaia)          9  totale  Y15-64   \n",
       "\n",
       "       classe di età condizione_prof  \\\n",
       "107706    15-64 anni               2   \n",
       "160543    15-64 anni             1_2   \n",
       "209975    15-64 anni              99   \n",
       "232871    15-64 anni             3_4   \n",
       "234112    15-64 anni        3A_3B_3C   \n",
       "243014    15-64 anni              3D   \n",
       "267080    15-64 anni               1   \n",
       "\n",
       "                        condizione professionale condizione_prof_eu  \\\n",
       "107706                               disoccupati                TOT   \n",
       "160543                              forze lavoro                TOT   \n",
       "209975                                    totale                TOT   \n",
       "232871                                  inattivi                TOT   \n",
       "234112               zona grigia dell'inattività                TOT   \n",
       "243014  non cercano e non disponibili a lavorare                TOT   \n",
       "267080                                  occupati                TOT   \n",
       "\n",
       "       condizione professionale europea  time seleziona periodo      value  \n",
       "107706                           totale  2012              2012    106.792  \n",
       "160543                           totale  2012              2012    684.656  \n",
       "209975                           totale  2012              2012  1.117.444  \n",
       "232871                           totale  2012              2012    432.788  \n",
       "234112                           totale  2012              2012    121.814  \n",
       "243014                           totale  2012              2012    310.974  \n",
       "267080                           totale  2012              2012    577.864  "
      ]
     },
     "execution_count": 10,
     "metadata": {},
     "output_type": "execute_result"
    }
   ],
   "source": [
    "df_once = df[(df.territorio == 'Sardegna') & (df['time'] == '2012') \n",
    "           & (df['classe di età'] == '15-64 anni') \n",
    "           & (df['sesso'] == 'totale') & (df['condizione_prof_eu'] == 'TOT')]\n",
    "df_once.head(40)"
   ]
  },
  {
   "cell_type": "markdown",
   "metadata": {},
   "source": [
    "Dall'esplorazione appena riportata risulta:\n",
    "1. è necessario eliminare tutte le osservazioni con condizione_prof_eu != 'TOT' in quanto rindondanti\n",
    "2. Condizione professionale = 'totale' --> Totale della popolazione nella fascia di età selezionata\n",
    "3. Condizione professionale = 'forze lavoro' --> Popolazione - Inattivi\n",
    "4. Condizione professionale = 'occupati' --> Forza lavoro - disoccupati\n",
    "5. Condizione professionale = ' inattivi' --> Zona Grigia + Non cercano e non sono disponibili a lavorare"
   ]
  },
  {
   "cell_type": "markdown",
   "metadata": {},
   "source": [
    "## Preparazione dei valori\n",
    "### Preparazione dei valori (value)\n",
    "La strategia consiste nell'individuare il primo punto andando a tracciarne la posizione se la lunghezza della feature \"value\" è maggiore di 6, saranno infatti tracciate le posizioni del primo punto nei casi in cui il valore sia espresso nella forma:\n",
    "\"x.xxx.xxx\",\"x.xxx.xx\", \"x.xxx.x\", \"xxx.xxx\", \"xx.xxx.x\" ...\n",
    "Nel caso la lunghezza della stringa sia 6 o meno i vaolri avranno la forma \"xx.xxx\", \"x.xxx\",\"xxx.xx\", ...: in tutti questi casi la posizione del primo punto viene impostata a \"0\". "
   ]
  },
  {
   "cell_type": "code",
   "execution_count": 11,
   "metadata": {},
   "outputs": [
    {
     "data": {
      "text/plain": [
       "0     1716.452\n",
       "1     1717.624\n",
       "2     1719.434\n",
       "3      1713.29\n",
       "4     1715.458\n",
       "5     1708.008\n",
       "6     1711.124\n",
       "7     1709.324\n",
       "8     1704.614\n",
       "9      1706.97\n",
       "10    1699.068\n",
       "11    1700.272\n",
       "12     1702.26\n",
       "13    1695.736\n",
       "14    1698.004\n",
       "15    1690.328\n",
       "16    1693.467\n",
       "17     1691.57\n",
       "18    1686.992\n",
       "19    1689.282\n",
       "Name: new_value, dtype: object"
      ]
     },
     "execution_count": 11,
     "metadata": {},
     "output_type": "execute_result"
    }
   ],
   "source": [
    "#cerca l'indice del primo punto \n",
    "df['dot_index'] = np.where(df.value.str.len() > 6, df['value'].str.find('.'),0)\n",
    "#Se la posizione del punto primo punto è 1 (per stringhe iniziali con lunghezza \n",
    "#iniziale > 6), procedo a rimuovere il primo punto. \n",
    "df['new_value'] = np.where(np.logical_and(df.dot_index < 2, df.dot_index > 0), \n",
    "                           df['value'].str.slice(stop=1) + df['value'].str.slice(start=2) ,df['value'])\n",
    "df.new_value.head(20)"
   ]
  },
  {
   "cell_type": "markdown",
   "metadata": {},
   "source": [
    "Ora sovrascrivo la feature \"value\" con i valori ripuliti"
   ]
  },
  {
   "cell_type": "code",
   "execution_count": 12,
   "metadata": {},
   "outputs": [
    {
     "data": {
      "text/plain": [
       "count    267234.000000\n",
       "mean        549.850701\n",
       "std         766.433887\n",
       "min           0.135000\n",
       "25%          79.979000\n",
       "50%         247.030000\n",
       "75%         695.224000\n",
       "max        8621.646000\n",
       "Name: value, dtype: float64"
      ]
     },
     "execution_count": 12,
     "metadata": {},
     "output_type": "execute_result"
    }
   ],
   "source": [
    "df['value'] = df['new_value'].astype('float64')\n",
    "df.value.describe()"
   ]
  },
  {
   "cell_type": "markdown",
   "metadata": {},
   "source": [
    "Verifico il valore massimo della feature value che corrisponde al totale della forza lavoro della regione Lombradia nel secondo trimestre del 2019 ed è pari a 8621,646 (valore espresso in migliaia)."
   ]
  },
  {
   "cell_type": "code",
   "execution_count": 13,
   "metadata": {},
   "outputs": [
    {
     "data": {
      "text/html": [
       "<div>\n",
       "<style scoped>\n",
       "    .dataframe tbody tr th:only-of-type {\n",
       "        vertical-align: middle;\n",
       "    }\n",
       "\n",
       "    .dataframe tbody tr th {\n",
       "        vertical-align: top;\n",
       "    }\n",
       "\n",
       "    .dataframe thead th {\n",
       "        text-align: right;\n",
       "    }\n",
       "</style>\n",
       "<table border=\"1\" class=\"dataframe\">\n",
       "  <thead>\n",
       "    <tr style=\"text-align: right;\">\n",
       "      <th></th>\n",
       "      <th>itter107</th>\n",
       "      <th>territorio</th>\n",
       "      <th>tipo_dato_fol</th>\n",
       "      <th>tipo dato</th>\n",
       "      <th>sexistat1</th>\n",
       "      <th>sesso</th>\n",
       "      <th>eta1</th>\n",
       "      <th>classe di età</th>\n",
       "      <th>condizione_prof</th>\n",
       "      <th>condizione professionale</th>\n",
       "      <th>condizione_prof_eu</th>\n",
       "      <th>condizione professionale europea</th>\n",
       "      <th>time</th>\n",
       "      <th>seleziona periodo</th>\n",
       "      <th>value</th>\n",
       "      <th>dot_index</th>\n",
       "      <th>new_value</th>\n",
       "    </tr>\n",
       "  </thead>\n",
       "  <tbody>\n",
       "    <tr>\n",
       "      <th>228110</th>\n",
       "      <td>ITC4</td>\n",
       "      <td>Lombardia</td>\n",
       "      <td>POP</td>\n",
       "      <td>popolazione 0 anni e più (in migliaia)</td>\n",
       "      <td>9</td>\n",
       "      <td>totale</td>\n",
       "      <td>Y_GE15</td>\n",
       "      <td>15 anni e più</td>\n",
       "      <td>99</td>\n",
       "      <td>totale</td>\n",
       "      <td>TOT</td>\n",
       "      <td>totale</td>\n",
       "      <td>2019-Q2</td>\n",
       "      <td>T2-2019</td>\n",
       "      <td>8621.646</td>\n",
       "      <td>1</td>\n",
       "      <td>8621.646</td>\n",
       "    </tr>\n",
       "  </tbody>\n",
       "</table>\n",
       "</div>"
      ],
      "text/plain": [
       "       itter107 territorio tipo_dato_fol  \\\n",
       "228110     ITC4  Lombardia           POP   \n",
       "\n",
       "                                     tipo dato  sexistat1   sesso    eta1  \\\n",
       "228110  popolazione 0 anni e più (in migliaia)          9  totale  Y_GE15   \n",
       "\n",
       "        classe di età condizione_prof condizione professionale  \\\n",
       "228110  15 anni e più              99                   totale   \n",
       "\n",
       "       condizione_prof_eu condizione professionale europea     time  \\\n",
       "228110                TOT                           totale  2019-Q2   \n",
       "\n",
       "       seleziona periodo     value  dot_index new_value  \n",
       "228110           T2-2019  8621.646          1  8621.646  "
      ]
     },
     "execution_count": 13,
     "metadata": {},
     "output_type": "execute_result"
    }
   ],
   "source": [
    "df_v = df[(df.value == df.value.values.max())]\n",
    "df_v.head(20)"
   ]
  },
  {
   "cell_type": "code",
   "execution_count": 14,
   "metadata": {},
   "outputs": [],
   "source": [
    "#Trasformo la feature 'Value' in intero\n",
    "df['value'] = df['value'] * 1000\n",
    "df['value'] = df['value'].astype('int')"
   ]
  },
  {
   "cell_type": "markdown",
   "metadata": {},
   "source": [
    "### Features categoriche\n",
    "Preparo le feature che gestirò come Categoriche:"
   ]
  },
  {
   "cell_type": "code",
   "execution_count": 15,
   "metadata": {},
   "outputs": [
    {
     "data": {
      "text/plain": [
       "Index(['0-14 anni', '15 anni e più', '15-64 anni', '15-74 anni'], dtype='object')"
      ]
     },
     "execution_count": 15,
     "metadata": {},
     "output_type": "execute_result"
    }
   ],
   "source": [
    "#Test con l'uso dei dati categorici --> ma Seaborn mostra tutte le categorie, anche quando filtrate..\n",
    "#df['territorio'] = df['territorio'].astype('category')\n",
    "#df['sesso'] = df['sesso'].astype('category')\n",
    "df['classe di età'] = df['classe di età'].astype('category')\n",
    "#df['condizione professionale'] = df['condizione professionale'].astype('category')\n",
    "#df['time'] = df['time'].astype('category')\n",
    "df['classe di età'].cat.categories\n",
    "#df.time.cat.categories\n",
    "#df['condizione professionale'].cat.categories"
   ]
  },
  {
   "cell_type": "markdown",
   "metadata": {},
   "source": [
    "### Preparazione della condizione professionale"
   ]
  },
  {
   "cell_type": "code",
   "execution_count": 16,
   "metadata": {},
   "outputs": [
    {
     "data": {
      "text/plain": [
       "totale                                      30888\n",
       "inattivi                                    30888\n",
       "disoccupati                                 23166\n",
       "forze lavoro                                23166\n",
       "occupati                                    23166\n",
       "non cercano e non disponibili a lavorare    20328\n",
       "zona grigia dell'inattività                 15246\n",
       "Name: condizione professionale, dtype: int64"
      ]
     },
     "execution_count": 16,
     "metadata": {},
     "output_type": "execute_result"
    }
   ],
   "source": [
    "# Elimino le osservazioni superflue\n",
    "df = df[(df['condizione_prof_eu'] == 'TOT')]\n",
    "df['condizione professionale'].value_counts()"
   ]
  },
  {
   "cell_type": "markdown",
   "metadata": {},
   "source": [
    "### Rimozione delle colonne non di interesse\n",
    "Rimuovo le features non necessarie in quanto ridondanti (espressione della stessa informazione in standard differente) o contenti sempre lo stesso valore, quindi non rilevanti."
   ]
  },
  {
   "cell_type": "code",
   "execution_count": 17,
   "metadata": {},
   "outputs": [],
   "source": [
    "df.drop(['tipo_dato_fol', 'tipo dato', 'seleziona periodo', 'dot_index', 'new_value'], axis='columns', inplace=True)\n",
    "#Elimino anche la feature sexistati1 \n",
    "df.drop(['sexistat1'], axis='columns', inplace=True)\n",
    "df.drop(['itter107'], axis='columns', inplace=True)"
   ]
  },
  {
   "cell_type": "markdown",
   "metadata": {},
   "source": [
    "### Raggruppamento per zone d'Italia"
   ]
  },
  {
   "cell_type": "code",
   "execution_count": 18,
   "metadata": {},
   "outputs": [
    {
     "name": "stdout",
     "output_type": "stream",
     "text": [
      "<class 'pandas.core.frame.DataFrame'>\n",
      "Int64Index: 166848 entries, 0 to 267116\n",
      "Data columns (total 11 columns):\n",
      " #   Column                            Non-Null Count   Dtype   \n",
      "---  ------                            --------------   -----   \n",
      " 0   territorio                        166848 non-null  object  \n",
      " 1   sesso                             166848 non-null  object  \n",
      " 2   eta1                              166848 non-null  object  \n",
      " 3   classe di età                     166848 non-null  category\n",
      " 4   condizione_prof                   166848 non-null  object  \n",
      " 5   condizione professionale          166848 non-null  object  \n",
      " 6   condizione_prof_eu                166848 non-null  object  \n",
      " 7   condizione professionale europea  166848 non-null  object  \n",
      " 8   time                              166848 non-null  object  \n",
      " 9   value                             166848 non-null  int32   \n",
      " 10  zona                              166848 non-null  object  \n",
      "dtypes: category(1), int32(1), object(9)\n",
      "memory usage: 13.5+ MB\n"
     ]
    }
   ],
   "source": [
    "def zona_italia(regione):\n",
    "    if (regione == \"Sardegna\") or (regione == \"Sicilia\"):\n",
    "        return 'Isole'\n",
    "    elif ((regione =='Toscana') or (regione == 'Umbria') or (regione == 'Marche') or (regione == 'Lazio')):\n",
    "        return 'Centro'\n",
    "    elif ((regione =='Abruzzo') or (regione == 'Molise') or (regione == 'Campania') or (regione == 'Puglia') or (regione == 'Basilicata') or (regione == 'Calabria')):\n",
    "        return 'Sud'\n",
    "    else:\n",
    "        return 'Nord'\n",
    "df['zona'] = np.vectorize(zona_italia)(df['territorio'])\n",
    "df.info()"
   ]
  },
  {
   "cell_type": "markdown",
   "metadata": {},
   "source": [
    "<b>[NOTA]</b> Rimuovo le rilevazioni trimestrali"
   ]
  },
  {
   "cell_type": "code",
   "execution_count": 19,
   "metadata": {},
   "outputs": [],
   "source": [
    "#dataframe privo dei dati trimestrali\n",
    "df_anni = df[~df['time'].str.contains('Q')]"
   ]
  },
  {
   "cell_type": "markdown",
   "metadata": {},
   "source": [
    "### Reshaping del Data Frame\n"
   ]
  },
  {
   "cell_type": "code",
   "execution_count": 20,
   "metadata": {},
   "outputs": [
    {
     "data": {
      "text/html": [
       "<div>\n",
       "<style scoped>\n",
       "    .dataframe tbody tr th:only-of-type {\n",
       "        vertical-align: middle;\n",
       "    }\n",
       "\n",
       "    .dataframe tbody tr th {\n",
       "        vertical-align: top;\n",
       "    }\n",
       "\n",
       "    .dataframe thead th {\n",
       "        text-align: right;\n",
       "    }\n",
       "</style>\n",
       "<table border=\"1\" class=\"dataframe\">\n",
       "  <thead>\n",
       "    <tr style=\"text-align: right;\">\n",
       "      <th></th>\n",
       "      <th></th>\n",
       "      <th></th>\n",
       "      <th></th>\n",
       "      <th>condizione professionale</th>\n",
       "      <th>disoccupati</th>\n",
       "      <th>forze lavoro</th>\n",
       "      <th>inattivi</th>\n",
       "      <th>non cercano e non disponibili a lavorare</th>\n",
       "      <th>occupati</th>\n",
       "      <th>totale</th>\n",
       "      <th>zona grigia dell'inattività</th>\n",
       "    </tr>\n",
       "    <tr>\n",
       "      <th>territorio</th>\n",
       "      <th>zona</th>\n",
       "      <th>time</th>\n",
       "      <th>sesso</th>\n",
       "      <th>classe di età</th>\n",
       "      <th></th>\n",
       "      <th></th>\n",
       "      <th></th>\n",
       "      <th></th>\n",
       "      <th></th>\n",
       "      <th></th>\n",
       "      <th></th>\n",
       "    </tr>\n",
       "  </thead>\n",
       "  <tbody>\n",
       "    <tr>\n",
       "      <th rowspan=\"5\" valign=\"top\">Abruzzo</th>\n",
       "      <th rowspan=\"5\" valign=\"top\">Sud</th>\n",
       "      <th rowspan=\"5\" valign=\"top\">1996</th>\n",
       "      <th rowspan=\"4\" valign=\"top\">femmine</th>\n",
       "      <th>0-14 anni</th>\n",
       "      <td>0.0</td>\n",
       "      <td>0.0</td>\n",
       "      <td>91031.0</td>\n",
       "      <td>0.0</td>\n",
       "      <td>0.0</td>\n",
       "      <td>91031.0</td>\n",
       "      <td>0.0</td>\n",
       "    </tr>\n",
       "    <tr>\n",
       "      <th>15 anni e più</th>\n",
       "      <td>28068.0</td>\n",
       "      <td>224018.0</td>\n",
       "      <td>325979.0</td>\n",
       "      <td>0.0</td>\n",
       "      <td>195950.0</td>\n",
       "      <td>549996.0</td>\n",
       "      <td>0.0</td>\n",
       "    </tr>\n",
       "    <tr>\n",
       "      <th>15-64 anni</th>\n",
       "      <td>28068.0</td>\n",
       "      <td>221626.0</td>\n",
       "      <td>196145.0</td>\n",
       "      <td>0.0</td>\n",
       "      <td>193559.0</td>\n",
       "      <td>417771.0</td>\n",
       "      <td>0.0</td>\n",
       "    </tr>\n",
       "    <tr>\n",
       "      <th>15-74 anni</th>\n",
       "      <td>28068.0</td>\n",
       "      <td>223951.0</td>\n",
       "      <td>269588.0</td>\n",
       "      <td>0.0</td>\n",
       "      <td>195884.0</td>\n",
       "      <td>493539.0</td>\n",
       "      <td>0.0</td>\n",
       "    </tr>\n",
       "    <tr>\n",
       "      <th>maschi</th>\n",
       "      <th>0-14 anni</th>\n",
       "      <td>0.0</td>\n",
       "      <td>0.0</td>\n",
       "      <td>95581.0</td>\n",
       "      <td>0.0</td>\n",
       "      <td>0.0</td>\n",
       "      <td>95581.0</td>\n",
       "      <td>0.0</td>\n",
       "    </tr>\n",
       "  </tbody>\n",
       "</table>\n",
       "</div>"
      ],
      "text/plain": [
       "condizione professionale                    disoccupati  forze lavoro  \\\n",
       "territorio zona time sesso   classe di età                              \n",
       "Abruzzo    Sud  1996 femmine 0-14 anni              0.0           0.0   \n",
       "                             15 anni e più      28068.0      224018.0   \n",
       "                             15-64 anni         28068.0      221626.0   \n",
       "                             15-74 anni         28068.0      223951.0   \n",
       "                     maschi  0-14 anni              0.0           0.0   \n",
       "\n",
       "condizione professionale                    inattivi  \\\n",
       "territorio zona time sesso   classe di età             \n",
       "Abruzzo    Sud  1996 femmine 0-14 anni       91031.0   \n",
       "                             15 anni e più  325979.0   \n",
       "                             15-64 anni     196145.0   \n",
       "                             15-74 anni     269588.0   \n",
       "                     maschi  0-14 anni       95581.0   \n",
       "\n",
       "condizione professionale                    non cercano e non disponibili a lavorare  \\\n",
       "territorio zona time sesso   classe di età                                             \n",
       "Abruzzo    Sud  1996 femmine 0-14 anni                                           0.0   \n",
       "                             15 anni e più                                       0.0   \n",
       "                             15-64 anni                                          0.0   \n",
       "                             15-74 anni                                          0.0   \n",
       "                     maschi  0-14 anni                                           0.0   \n",
       "\n",
       "condizione professionale                    occupati    totale  \\\n",
       "territorio zona time sesso   classe di età                       \n",
       "Abruzzo    Sud  1996 femmine 0-14 anni           0.0   91031.0   \n",
       "                             15 anni e più  195950.0  549996.0   \n",
       "                             15-64 anni     193559.0  417771.0   \n",
       "                             15-74 anni     195884.0  493539.0   \n",
       "                     maschi  0-14 anni           0.0   95581.0   \n",
       "\n",
       "condizione professionale                    zona grigia dell'inattività  \n",
       "territorio zona time sesso   classe di età                               \n",
       "Abruzzo    Sud  1996 femmine 0-14 anni                              0.0  \n",
       "                             15 anni e più                          0.0  \n",
       "                             15-64 anni                             0.0  \n",
       "                             15-74 anni                             0.0  \n",
       "                     maschi  0-14 anni                              0.0  "
      ]
     },
     "execution_count": 20,
     "metadata": {},
     "output_type": "execute_result"
    }
   ],
   "source": [
    "df_pivot = df_anni.pivot(index=['territorio','zona','time', 'sesso', 'classe di età'], columns=['condizione professionale'], values='value')\n",
    "df_pivot = df_pivot.fillna(0.0)\n",
    "df_pivot.head()"
   ]
  },
  {
   "cell_type": "markdown",
   "metadata": {
    "scrolled": false
   },
   "source": [
    "### Calcolo ulteriori features relative ai tassi\n",
    "Calcolo nuove Features a partire dai dati attuali: <br><b>Tasso di occupazione:</b> rapporto tra occupati e popolazione (per fascia di età e sesso); <br><b>Tasso di disoccupazione:</b> rapporto tra disoccupati e forza lavoro (per fascia di età e sesso); <br><b>Tasso di attività:</b> rapporto tra forza lavoro e popolazione (per fascia di età e sesso); <br><b>Tasso di inattività:</b> rapporto tra inattivi e popolazione (per fascia di età e sesso);<br><b>Gap Occupazionale:</b> Differenza tra tasso di occupazione e tasso di attività"
   ]
  },
  {
   "cell_type": "code",
   "execution_count": 21,
   "metadata": {
    "scrolled": false
   },
   "outputs": [
    {
     "data": {
      "text/html": [
       "<div>\n",
       "<style scoped>\n",
       "    .dataframe tbody tr th:only-of-type {\n",
       "        vertical-align: middle;\n",
       "    }\n",
       "\n",
       "    .dataframe tbody tr th {\n",
       "        vertical-align: top;\n",
       "    }\n",
       "\n",
       "    .dataframe thead th {\n",
       "        text-align: right;\n",
       "    }\n",
       "</style>\n",
       "<table border=\"1\" class=\"dataframe\">\n",
       "  <thead>\n",
       "    <tr style=\"text-align: right;\">\n",
       "      <th></th>\n",
       "      <th></th>\n",
       "      <th></th>\n",
       "      <th></th>\n",
       "      <th>condizione professionale</th>\n",
       "      <th>disoccupati</th>\n",
       "      <th>forze lavoro</th>\n",
       "      <th>inattivi</th>\n",
       "      <th>non cercano e non disponibili a lavorare</th>\n",
       "      <th>occupati</th>\n",
       "      <th>totale</th>\n",
       "      <th>zona grigia dell'inattività</th>\n",
       "      <th>tasso_occupazione</th>\n",
       "      <th>tasso_disoccupazione</th>\n",
       "      <th>tasso_attività</th>\n",
       "      <th>tasso_inattività</th>\n",
       "      <th>gap_occupazionale</th>\n",
       "    </tr>\n",
       "    <tr>\n",
       "      <th>territorio</th>\n",
       "      <th>zona</th>\n",
       "      <th>time</th>\n",
       "      <th>sesso</th>\n",
       "      <th>classe di età</th>\n",
       "      <th></th>\n",
       "      <th></th>\n",
       "      <th></th>\n",
       "      <th></th>\n",
       "      <th></th>\n",
       "      <th></th>\n",
       "      <th></th>\n",
       "      <th></th>\n",
       "      <th></th>\n",
       "      <th></th>\n",
       "      <th></th>\n",
       "      <th></th>\n",
       "    </tr>\n",
       "  </thead>\n",
       "  <tbody>\n",
       "    <tr>\n",
       "      <th rowspan=\"5\" valign=\"top\">Abruzzo</th>\n",
       "      <th rowspan=\"5\" valign=\"top\">Sud</th>\n",
       "      <th rowspan=\"5\" valign=\"top\">1996</th>\n",
       "      <th rowspan=\"4\" valign=\"top\">femmine</th>\n",
       "      <th>0-14 anni</th>\n",
       "      <td>0.0</td>\n",
       "      <td>0.0</td>\n",
       "      <td>91031.0</td>\n",
       "      <td>0.0</td>\n",
       "      <td>0.0</td>\n",
       "      <td>91031.0</td>\n",
       "      <td>0.0</td>\n",
       "      <td>0.000000</td>\n",
       "      <td>0.000000</td>\n",
       "      <td>0.000000</td>\n",
       "      <td>100.000000</td>\n",
       "      <td>0.000000</td>\n",
       "    </tr>\n",
       "    <tr>\n",
       "      <th>15 anni e più</th>\n",
       "      <td>28068.0</td>\n",
       "      <td>224018.0</td>\n",
       "      <td>325979.0</td>\n",
       "      <td>0.0</td>\n",
       "      <td>195950.0</td>\n",
       "      <td>549996.0</td>\n",
       "      <td>0.0</td>\n",
       "      <td>35.627532</td>\n",
       "      <td>12.529350</td>\n",
       "      <td>40.730842</td>\n",
       "      <td>59.269340</td>\n",
       "      <td>5.103310</td>\n",
       "    </tr>\n",
       "    <tr>\n",
       "      <th>15-64 anni</th>\n",
       "      <td>28068.0</td>\n",
       "      <td>221626.0</td>\n",
       "      <td>196145.0</td>\n",
       "      <td>0.0</td>\n",
       "      <td>193559.0</td>\n",
       "      <td>417771.0</td>\n",
       "      <td>0.0</td>\n",
       "      <td>46.331363</td>\n",
       "      <td>12.664579</td>\n",
       "      <td>53.049637</td>\n",
       "      <td>46.950363</td>\n",
       "      <td>6.718274</td>\n",
       "    </tr>\n",
       "    <tr>\n",
       "      <th>15-74 anni</th>\n",
       "      <td>28068.0</td>\n",
       "      <td>223951.0</td>\n",
       "      <td>269588.0</td>\n",
       "      <td>0.0</td>\n",
       "      <td>195884.0</td>\n",
       "      <td>493539.0</td>\n",
       "      <td>0.0</td>\n",
       "      <td>39.689670</td>\n",
       "      <td>12.533099</td>\n",
       "      <td>45.376556</td>\n",
       "      <td>54.623444</td>\n",
       "      <td>5.686886</td>\n",
       "    </tr>\n",
       "    <tr>\n",
       "      <th>maschi</th>\n",
       "      <th>0-14 anni</th>\n",
       "      <td>0.0</td>\n",
       "      <td>0.0</td>\n",
       "      <td>95581.0</td>\n",
       "      <td>0.0</td>\n",
       "      <td>0.0</td>\n",
       "      <td>95581.0</td>\n",
       "      <td>0.0</td>\n",
       "      <td>0.000000</td>\n",
       "      <td>0.000000</td>\n",
       "      <td>0.000000</td>\n",
       "      <td>100.000000</td>\n",
       "      <td>0.000000</td>\n",
       "    </tr>\n",
       "  </tbody>\n",
       "</table>\n",
       "</div>"
      ],
      "text/plain": [
       "condizione professionale                    disoccupati  forze lavoro  \\\n",
       "territorio zona time sesso   classe di età                              \n",
       "Abruzzo    Sud  1996 femmine 0-14 anni              0.0           0.0   \n",
       "                             15 anni e più      28068.0      224018.0   \n",
       "                             15-64 anni         28068.0      221626.0   \n",
       "                             15-74 anni         28068.0      223951.0   \n",
       "                     maschi  0-14 anni              0.0           0.0   \n",
       "\n",
       "condizione professionale                    inattivi  \\\n",
       "territorio zona time sesso   classe di età             \n",
       "Abruzzo    Sud  1996 femmine 0-14 anni       91031.0   \n",
       "                             15 anni e più  325979.0   \n",
       "                             15-64 anni     196145.0   \n",
       "                             15-74 anni     269588.0   \n",
       "                     maschi  0-14 anni       95581.0   \n",
       "\n",
       "condizione professionale                    non cercano e non disponibili a lavorare  \\\n",
       "territorio zona time sesso   classe di età                                             \n",
       "Abruzzo    Sud  1996 femmine 0-14 anni                                           0.0   \n",
       "                             15 anni e più                                       0.0   \n",
       "                             15-64 anni                                          0.0   \n",
       "                             15-74 anni                                          0.0   \n",
       "                     maschi  0-14 anni                                           0.0   \n",
       "\n",
       "condizione professionale                    occupati    totale  \\\n",
       "territorio zona time sesso   classe di età                       \n",
       "Abruzzo    Sud  1996 femmine 0-14 anni           0.0   91031.0   \n",
       "                             15 anni e più  195950.0  549996.0   \n",
       "                             15-64 anni     193559.0  417771.0   \n",
       "                             15-74 anni     195884.0  493539.0   \n",
       "                     maschi  0-14 anni           0.0   95581.0   \n",
       "\n",
       "condizione professionale                    zona grigia dell'inattività  \\\n",
       "territorio zona time sesso   classe di età                                \n",
       "Abruzzo    Sud  1996 femmine 0-14 anni                              0.0   \n",
       "                             15 anni e più                          0.0   \n",
       "                             15-64 anni                             0.0   \n",
       "                             15-74 anni                             0.0   \n",
       "                     maschi  0-14 anni                              0.0   \n",
       "\n",
       "condizione professionale                    tasso_occupazione  \\\n",
       "territorio zona time sesso   classe di età                      \n",
       "Abruzzo    Sud  1996 femmine 0-14 anni               0.000000   \n",
       "                             15 anni e più          35.627532   \n",
       "                             15-64 anni             46.331363   \n",
       "                             15-74 anni             39.689670   \n",
       "                     maschi  0-14 anni               0.000000   \n",
       "\n",
       "condizione professionale                    tasso_disoccupazione  \\\n",
       "territorio zona time sesso   classe di età                         \n",
       "Abruzzo    Sud  1996 femmine 0-14 anni                  0.000000   \n",
       "                             15 anni e più             12.529350   \n",
       "                             15-64 anni                12.664579   \n",
       "                             15-74 anni                12.533099   \n",
       "                     maschi  0-14 anni                  0.000000   \n",
       "\n",
       "condizione professionale                    tasso_attività  tasso_inattività  \\\n",
       "territorio zona time sesso   classe di età                                     \n",
       "Abruzzo    Sud  1996 femmine 0-14 anni            0.000000        100.000000   \n",
       "                             15 anni e più       40.730842         59.269340   \n",
       "                             15-64 anni          53.049637         46.950363   \n",
       "                             15-74 anni          45.376556         54.623444   \n",
       "                     maschi  0-14 anni            0.000000        100.000000   \n",
       "\n",
       "condizione professionale                    gap_occupazionale  \n",
       "territorio zona time sesso   classe di età                     \n",
       "Abruzzo    Sud  1996 femmine 0-14 anni               0.000000  \n",
       "                             15 anni e più           5.103310  \n",
       "                             15-64 anni              6.718274  \n",
       "                             15-74 anni              5.686886  \n",
       "                     maschi  0-14 anni               0.000000  "
      ]
     },
     "execution_count": 21,
     "metadata": {},
     "output_type": "execute_result"
    }
   ],
   "source": [
    "df_pivot['tasso_occupazione'] = (df_pivot['occupati'] / df_pivot['totale']) * 100\n",
    "df_pivot['tasso_disoccupazione'] = (df_pivot['disoccupati'] / df_pivot['forze lavoro']) * 100\n",
    "df_pivot['tasso_attività'] = (df_pivot['forze lavoro'] / df_pivot['totale']) * 100\n",
    "df_pivot['tasso_inattività'] = (df_pivot['inattivi'] / df_pivot['totale']) * 100\n",
    "df_pivot['gap_occupazionale']=  df_pivot['tasso_attività'] - df_pivot['tasso_occupazione']\n",
    "df_pivot = df_pivot.fillna(0.0)\n",
    "df_pivot.head()"
   ]
  },
  {
   "cell_type": "markdown",
   "metadata": {},
   "source": [
    "## Data Visualization\n",
    "### Andamento tasso di occupazione"
   ]
  },
  {
   "cell_type": "code",
   "execution_count": 32,
   "metadata": {},
   "outputs": [
    {
     "data": {
      "application/vnd.plotly.v1+json": {
       "config": {
        "plotlyServerURL": "https://plot.ly"
       },
       "data": [
        {
         "hovertemplate": "<b>%{hovertext}</b><br><br>Zona d'Italia=Nord<br>line_group=Emilia-Romagna<br>Anno di riferimento=%{x}<br>Tasso di Occupazione=%{y}<extra></extra>",
         "hovertext": [
          "Emilia-Romagna",
          "Emilia-Romagna",
          "Emilia-Romagna",
          "Emilia-Romagna",
          "Emilia-Romagna",
          "Emilia-Romagna",
          "Emilia-Romagna",
          "Emilia-Romagna",
          "Emilia-Romagna",
          "Emilia-Romagna",
          "Emilia-Romagna",
          "Emilia-Romagna",
          "Emilia-Romagna",
          "Emilia-Romagna",
          "Emilia-Romagna",
          "Emilia-Romagna",
          "Emilia-Romagna",
          "Emilia-Romagna",
          "Emilia-Romagna",
          "Emilia-Romagna",
          "Emilia-Romagna",
          "Emilia-Romagna",
          "Emilia-Romagna"
         ],
         "legendgroup": "Nord",
         "line": {
          "color": "darkblue",
          "dash": "solid"
         },
         "mode": "lines",
         "name": "Nord",
         "orientation": "v",
         "showlegend": true,
         "type": "scatter",
         "x": [
          "1996",
          "1997",
          "1998",
          "1999",
          "2000",
          "2001",
          "2002",
          "2003",
          "2004",
          "2005",
          "2006",
          "2007",
          "2008",
          "2009",
          "2010",
          "2011",
          "2012",
          "2013",
          "2014",
          "2015",
          "2016",
          "2017",
          "2018"
         ],
         "xaxis": "x",
         "y": [
          64.05293272847472,
          64.73839453974529,
          65.3820306915931,
          66.78046299759785,
          68.03608229491164,
          68.83310940139437,
          69.87164129716685,
          69.55666878444242,
          68.34824036525536,
          68.43104926614419,
          69.37335379735005,
          70.18662934377897,
          70.15933468169918,
          68.38413627948894,
          67.31552784467686,
          67.8036955739423,
          67.5020290972183,
          66.24904048946746,
          66.26446355409482,
          66.69938311244363,
          68.39061675726508,
          68.58451727550595,
          69.60103249699739
         ],
         "yaxis": "y"
        },
        {
         "hovertemplate": "<b>%{hovertext}</b><br><br>Zona d'Italia=Nord<br>line_group=Friuli-Venezia Giulia<br>Anno di riferimento=%{x}<br>Tasso di Occupazione=%{y}<extra></extra>",
         "hovertext": [
          "Friuli-Venezia Giulia",
          "Friuli-Venezia Giulia",
          "Friuli-Venezia Giulia",
          "Friuli-Venezia Giulia",
          "Friuli-Venezia Giulia",
          "Friuli-Venezia Giulia",
          "Friuli-Venezia Giulia",
          "Friuli-Venezia Giulia",
          "Friuli-Venezia Giulia",
          "Friuli-Venezia Giulia",
          "Friuli-Venezia Giulia",
          "Friuli-Venezia Giulia",
          "Friuli-Venezia Giulia",
          "Friuli-Venezia Giulia",
          "Friuli-Venezia Giulia",
          "Friuli-Venezia Giulia",
          "Friuli-Venezia Giulia",
          "Friuli-Venezia Giulia",
          "Friuli-Venezia Giulia",
          "Friuli-Venezia Giulia",
          "Friuli-Venezia Giulia",
          "Friuli-Venezia Giulia",
          "Friuli-Venezia Giulia"
         ],
         "legendgroup": "Nord",
         "line": {
          "color": "darkblue",
          "dash": "solid"
         },
         "mode": "lines",
         "name": "Nord",
         "orientation": "v",
         "showlegend": false,
         "type": "scatter",
         "x": [
          "1996",
          "1997",
          "1998",
          "1999",
          "2000",
          "2001",
          "2002",
          "2003",
          "2004",
          "2005",
          "2006",
          "2007",
          "2008",
          "2009",
          "2010",
          "2011",
          "2012",
          "2013",
          "2014",
          "2015",
          "2016",
          "2017",
          "2018"
         ],
         "xaxis": "x",
         "y": [
          58.73941404642229,
          58.78322402269016,
          59.775721062821496,
          60.40213076820199,
          61.93878686418605,
          63.58067324544451,
          63.81949630894136,
          63.12050881754796,
          62.59793013047189,
          63.15853141430258,
          64.77717461531867,
          65.38688264090013,
          65.18461349743421,
          63.477053164763795,
          63.59153756455106,
          64.2095065824599,
          63.64205394435538,
          62.9633096462011,
          63.112487455646175,
          63.657264776479025,
          64.6627177552664,
          65.7219838206581,
          66.27223911841905
         ],
         "yaxis": "y"
        },
        {
         "hovertemplate": "<b>%{hovertext}</b><br><br>Zona d'Italia=Nord<br>line_group=Liguria<br>Anno di riferimento=%{x}<br>Tasso di Occupazione=%{y}<extra></extra>",
         "hovertext": [
          "Liguria",
          "Liguria",
          "Liguria",
          "Liguria",
          "Liguria",
          "Liguria",
          "Liguria",
          "Liguria",
          "Liguria",
          "Liguria",
          "Liguria",
          "Liguria",
          "Liguria",
          "Liguria",
          "Liguria",
          "Liguria",
          "Liguria",
          "Liguria",
          "Liguria",
          "Liguria",
          "Liguria",
          "Liguria",
          "Liguria"
         ],
         "legendgroup": "Nord",
         "line": {
          "color": "darkblue",
          "dash": "solid"
         },
         "mode": "lines",
         "name": "Nord",
         "orientation": "v",
         "showlegend": false,
         "type": "scatter",
         "x": [
          "1996",
          "1997",
          "1998",
          "1999",
          "2000",
          "2001",
          "2002",
          "2003",
          "2004",
          "2005",
          "2006",
          "2007",
          "2008",
          "2009",
          "2010",
          "2011",
          "2012",
          "2013",
          "2014",
          "2015",
          "2016",
          "2017",
          "2018"
         ],
         "xaxis": "x",
         "y": [
          55.46204231305922,
          55.65705636932565,
          56.89579732970784,
          58.16410825234058,
          59.35803157427729,
          61.464456978159866,
          61.70813268724539,
          60.466024288451145,
          60.616710284311424,
          60.968326150352006,
          62.097453296815594,
          63.46997942355157,
          63.643494419975156,
          63.22582497060358,
          62.73829853792623,
          62.97525072625928,
          61.98540498284941,
          60.618409057278534,
          60.723078876223504,
          62.384052416602785,
          62.71914723664459,
          62.3682240343174,
          62.96090599053389
         ],
         "yaxis": "y"
        },
        {
         "hovertemplate": "<b>%{hovertext}</b><br><br>Zona d'Italia=Nord<br>line_group=Lombardia<br>Anno di riferimento=%{x}<br>Tasso di Occupazione=%{y}<extra></extra>",
         "hovertext": [
          "Lombardia",
          "Lombardia",
          "Lombardia",
          "Lombardia",
          "Lombardia",
          "Lombardia",
          "Lombardia",
          "Lombardia",
          "Lombardia",
          "Lombardia",
          "Lombardia",
          "Lombardia",
          "Lombardia",
          "Lombardia",
          "Lombardia",
          "Lombardia",
          "Lombardia",
          "Lombardia",
          "Lombardia",
          "Lombardia",
          "Lombardia",
          "Lombardia",
          "Lombardia"
         ],
         "legendgroup": "Nord",
         "line": {
          "color": "darkblue",
          "dash": "solid"
         },
         "mode": "lines",
         "name": "Nord",
         "orientation": "v",
         "showlegend": false,
         "type": "scatter",
         "x": [
          "1996",
          "1997",
          "1998",
          "1999",
          "2000",
          "2001",
          "2002",
          "2003",
          "2004",
          "2005",
          "2006",
          "2007",
          "2008",
          "2009",
          "2010",
          "2011",
          "2012",
          "2013",
          "2014",
          "2015",
          "2016",
          "2017",
          "2018"
         ],
         "xaxis": "x",
         "y": [
          59.58647320932388,
          59.72518054049074,
          60.728278907873545,
          61.762284004146615,
          62.57426930227968,
          63.83152197637146,
          64.66219595075256,
          65.26248430210897,
          65.49990586215024,
          65.50726566370632,
          66.51508934353181,
          66.66997135015593,
          66.91399927887677,
          65.69655380623215,
          64.96402184647202,
          64.57302635908782,
          64.52967392380089,
          64.7646559729269,
          64.8554639557197,
          65.13575531249556,
          66.22501106238308,
          67.25779919319393,
          67.69474850312717
         ],
         "yaxis": "y"
        },
        {
         "hovertemplate": "<b>%{hovertext}</b><br><br>Zona d'Italia=Nord<br>line_group=Piemonte<br>Anno di riferimento=%{x}<br>Tasso di Occupazione=%{y}<extra></extra>",
         "hovertext": [
          "Piemonte",
          "Piemonte",
          "Piemonte",
          "Piemonte",
          "Piemonte",
          "Piemonte",
          "Piemonte",
          "Piemonte",
          "Piemonte",
          "Piemonte",
          "Piemonte",
          "Piemonte",
          "Piemonte",
          "Piemonte",
          "Piemonte",
          "Piemonte",
          "Piemonte",
          "Piemonte",
          "Piemonte",
          "Piemonte",
          "Piemonte",
          "Piemonte",
          "Piemonte"
         ],
         "legendgroup": "Nord",
         "line": {
          "color": "darkblue",
          "dash": "solid"
         },
         "mode": "lines",
         "name": "Nord",
         "orientation": "v",
         "showlegend": false,
         "type": "scatter",
         "x": [
          "1996",
          "1997",
          "1998",
          "1999",
          "2000",
          "2001",
          "2002",
          "2003",
          "2004",
          "2005",
          "2006",
          "2007",
          "2008",
          "2009",
          "2010",
          "2011",
          "2012",
          "2013",
          "2014",
          "2015",
          "2016",
          "2017",
          "2018"
         ],
         "xaxis": "x",
         "y": [
          57.6956786771448,
          57.32067418004546,
          57.492797894523065,
          59.17983953397411,
          61.041060322231274,
          62.007941408912174,
          62.380630768476394,
          62.90418856656637,
          63.46061329133876,
          63.975641427483986,
          64.71129298625972,
          64.86576455418415,
          65.18853548952652,
          63.90306412626191,
          63.471975183105336,
          64.17793029814479,
          63.63767960540425,
          62.203157482126215,
          62.389576647623535,
          63.66582772426599,
          64.4394130842883,
          65.1908369450799,
          65.89484988698626
         ],
         "yaxis": "y"
        },
        {
         "hovertemplate": "<b>%{hovertext}</b><br><br>Zona d'Italia=Nord<br>line_group=Provincia Autonoma Bolzano / Bozen<br>Anno di riferimento=%{x}<br>Tasso di Occupazione=%{y}<extra></extra>",
         "hovertext": [
          "Provincia Autonoma Bolzano / Bozen",
          "Provincia Autonoma Bolzano / Bozen",
          "Provincia Autonoma Bolzano / Bozen",
          "Provincia Autonoma Bolzano / Bozen",
          "Provincia Autonoma Bolzano / Bozen",
          "Provincia Autonoma Bolzano / Bozen",
          "Provincia Autonoma Bolzano / Bozen",
          "Provincia Autonoma Bolzano / Bozen",
          "Provincia Autonoma Bolzano / Bozen",
          "Provincia Autonoma Bolzano / Bozen",
          "Provincia Autonoma Bolzano / Bozen",
          "Provincia Autonoma Bolzano / Bozen",
          "Provincia Autonoma Bolzano / Bozen",
          "Provincia Autonoma Bolzano / Bozen",
          "Provincia Autonoma Bolzano / Bozen",
          "Provincia Autonoma Bolzano / Bozen",
          "Provincia Autonoma Bolzano / Bozen",
          "Provincia Autonoma Bolzano / Bozen",
          "Provincia Autonoma Bolzano / Bozen",
          "Provincia Autonoma Bolzano / Bozen",
          "Provincia Autonoma Bolzano / Bozen",
          "Provincia Autonoma Bolzano / Bozen",
          "Provincia Autonoma Bolzano / Bozen"
         ],
         "legendgroup": "Nord",
         "line": {
          "color": "darkblue",
          "dash": "solid"
         },
         "mode": "lines",
         "name": "Nord",
         "orientation": "v",
         "showlegend": false,
         "type": "scatter",
         "x": [
          "1996",
          "1997",
          "1998",
          "1999",
          "2000",
          "2001",
          "2002",
          "2003",
          "2004",
          "2005",
          "2006",
          "2007",
          "2008",
          "2009",
          "2010",
          "2011",
          "2012",
          "2013",
          "2014",
          "2015",
          "2016",
          "2017",
          "2018"
         ],
         "xaxis": "x",
         "y": [
          63.41215850001149,
          63.22680419126754,
          63.92495402715582,
          63.73724140628055,
          65.45039612232492,
          65.46559203231685,
          66.94911141523261,
          68.27218626387597,
          69.1740564074655,
          69.02312561631199,
          69.4959952498863,
          69.68520860067959,
          70.42289896290028,
          70.37434511254477,
          71.01803617063102,
          70.99543468117484,
          71.8053722831445,
          71.44071065255648,
          70.844054890378,
          71.37805704797202,
          72.68077454389558,
          72.89322056492824,
          73.5222390308778
         ],
         "yaxis": "y"
        },
        {
         "hovertemplate": "<b>%{hovertext}</b><br><br>Zona d'Italia=Nord<br>line_group=Provincia Autonoma Trento<br>Anno di riferimento=%{x}<br>Tasso di Occupazione=%{y}<extra></extra>",
         "hovertext": [
          "Provincia Autonoma Trento",
          "Provincia Autonoma Trento",
          "Provincia Autonoma Trento",
          "Provincia Autonoma Trento",
          "Provincia Autonoma Trento",
          "Provincia Autonoma Trento",
          "Provincia Autonoma Trento",
          "Provincia Autonoma Trento",
          "Provincia Autonoma Trento",
          "Provincia Autonoma Trento",
          "Provincia Autonoma Trento",
          "Provincia Autonoma Trento",
          "Provincia Autonoma Trento",
          "Provincia Autonoma Trento",
          "Provincia Autonoma Trento",
          "Provincia Autonoma Trento",
          "Provincia Autonoma Trento",
          "Provincia Autonoma Trento",
          "Provincia Autonoma Trento",
          "Provincia Autonoma Trento",
          "Provincia Autonoma Trento",
          "Provincia Autonoma Trento",
          "Provincia Autonoma Trento"
         ],
         "legendgroup": "Nord",
         "line": {
          "color": "darkblue",
          "dash": "solid"
         },
         "mode": "lines",
         "name": "Nord",
         "orientation": "v",
         "showlegend": false,
         "type": "scatter",
         "x": [
          "1996",
          "1997",
          "1998",
          "1999",
          "2000",
          "2001",
          "2002",
          "2003",
          "2004",
          "2005",
          "2006",
          "2007",
          "2008",
          "2009",
          "2010",
          "2011",
          "2012",
          "2013",
          "2014",
          "2015",
          "2016",
          "2017",
          "2018"
         ],
         "xaxis": "x",
         "y": [
          62.58002209288054,
          62.83964569629179,
          63.82803354660766,
          64.89169761552733,
          66.37180803876618,
          66.27252091821714,
          65.72540061650297,
          66.12651760389208,
          65.64033650913572,
          65.057015095659,
          65.36431478554823,
          66.28254478222654,
          66.68156793327434,
          66.51620174194373,
          65.89864336221785,
          65.9235023988028,
          65.3791100872584,
          65.51379162498213,
          65.89123155117086,
          66.08388454162653,
          66.04361279945921,
          67.55032812536491,
          68.2056730550318
         ],
         "yaxis": "y"
        },
        {
         "hovertemplate": "<b>%{hovertext}</b><br><br>Zona d'Italia=Nord<br>line_group=Trentino Alto Adige / Südtirol<br>Anno di riferimento=%{x}<br>Tasso di Occupazione=%{y}<extra></extra>",
         "hovertext": [
          "Trentino Alto Adige / Südtirol",
          "Trentino Alto Adige / Südtirol",
          "Trentino Alto Adige / Südtirol",
          "Trentino Alto Adige / Südtirol",
          "Trentino Alto Adige / Südtirol",
          "Trentino Alto Adige / Südtirol",
          "Trentino Alto Adige / Südtirol",
          "Trentino Alto Adige / Südtirol",
          "Trentino Alto Adige / Südtirol",
          "Trentino Alto Adige / Südtirol",
          "Trentino Alto Adige / Südtirol",
          "Trentino Alto Adige / Südtirol",
          "Trentino Alto Adige / Südtirol",
          "Trentino Alto Adige / Südtirol",
          "Trentino Alto Adige / Südtirol",
          "Trentino Alto Adige / Südtirol",
          "Trentino Alto Adige / Südtirol",
          "Trentino Alto Adige / Südtirol",
          "Trentino Alto Adige / Südtirol",
          "Trentino Alto Adige / Südtirol",
          "Trentino Alto Adige / Südtirol",
          "Trentino Alto Adige / Südtirol",
          "Trentino Alto Adige / Südtirol"
         ],
         "legendgroup": "Nord",
         "line": {
          "color": "darkblue",
          "dash": "solid"
         },
         "mode": "lines",
         "name": "Nord",
         "orientation": "v",
         "showlegend": false,
         "type": "scatter",
         "x": [
          "1996",
          "1997",
          "1998",
          "1999",
          "2000",
          "2001",
          "2002",
          "2003",
          "2004",
          "2005",
          "2006",
          "2007",
          "2008",
          "2009",
          "2010",
          "2011",
          "2012",
          "2013",
          "2014",
          "2015",
          "2016",
          "2017",
          "2018"
         ],
         "xaxis": "x",
         "y": [
          62.99242220669641,
          63.031535254885206,
          63.87615439759339,
          64.32043767600749,
          65.91631343161225,
          65.87369597913887,
          66.32957210128491,
          67.18450700425477,
          67.37773734403848,
          67.00389117209849,
          67.39433046085374,
          67.95447152466126,
          68.51815079687543,
          68.40739264040847,
          68.40767035190403,
          68.41059246121591,
          68.53492709494044,
          68.4289857821872,
          68.33148845103682,
          68.69664544275439,
          69.32655366233293,
          70.20218580038434,
          70.85034317960785
         ],
         "yaxis": "y"
        },
        {
         "hovertemplate": "<b>%{hovertext}</b><br><br>Zona d'Italia=Nord<br>line_group=Valle d'Aosta / Vallée d'Aoste<br>Anno di riferimento=%{x}<br>Tasso di Occupazione=%{y}<extra></extra>",
         "hovertext": [
          "Valle d'Aosta / Vallée d'Aoste",
          "Valle d'Aosta / Vallée d'Aoste",
          "Valle d'Aosta / Vallée d'Aoste",
          "Valle d'Aosta / Vallée d'Aoste",
          "Valle d'Aosta / Vallée d'Aoste",
          "Valle d'Aosta / Vallée d'Aoste",
          "Valle d'Aosta / Vallée d'Aoste",
          "Valle d'Aosta / Vallée d'Aoste",
          "Valle d'Aosta / Vallée d'Aoste",
          "Valle d'Aosta / Vallée d'Aoste",
          "Valle d'Aosta / Vallée d'Aoste",
          "Valle d'Aosta / Vallée d'Aoste",
          "Valle d'Aosta / Vallée d'Aoste",
          "Valle d'Aosta / Vallée d'Aoste",
          "Valle d'Aosta / Vallée d'Aoste",
          "Valle d'Aosta / Vallée d'Aoste",
          "Valle d'Aosta / Vallée d'Aoste",
          "Valle d'Aosta / Vallée d'Aoste",
          "Valle d'Aosta / Vallée d'Aoste",
          "Valle d'Aosta / Vallée d'Aoste",
          "Valle d'Aosta / Vallée d'Aoste",
          "Valle d'Aosta / Vallée d'Aoste",
          "Valle d'Aosta / Vallée d'Aoste"
         ],
         "legendgroup": "Nord",
         "line": {
          "color": "darkblue",
          "dash": "solid"
         },
         "mode": "lines",
         "name": "Nord",
         "orientation": "v",
         "showlegend": false,
         "type": "scatter",
         "x": [
          "1996",
          "1997",
          "1998",
          "1999",
          "2000",
          "2001",
          "2002",
          "2003",
          "2004",
          "2005",
          "2006",
          "2007",
          "2008",
          "2009",
          "2010",
          "2011",
          "2012",
          "2013",
          "2014",
          "2015",
          "2016",
          "2017",
          "2018"
         ],
         "xaxis": "x",
         "y": [
          65.91238544507506,
          66.44390291931276,
          66.20165728849872,
          66.3229351468559,
          68.79972327914217,
          70.00606563262073,
          70.69213594641528,
          67.52248690323218,
          67.15598358843329,
          66.41814759588355,
          67.01526698970027,
          68.18712596701212,
          67.84383684664022,
          66.82473651656095,
          67.3412124819318,
          66.88036787426097,
          66.32290662338139,
          65.61629781620988,
          66.16930647017062,
          66.18561278863233,
          66.43084894380232,
          67.07248195795418,
          67.87480240278217
         ],
         "yaxis": "y"
        },
        {
         "hovertemplate": "<b>%{hovertext}</b><br><br>Zona d'Italia=Nord<br>line_group=Veneto<br>Anno di riferimento=%{x}<br>Tasso di Occupazione=%{y}<extra></extra>",
         "hovertext": [
          "Veneto",
          "Veneto",
          "Veneto",
          "Veneto",
          "Veneto",
          "Veneto",
          "Veneto",
          "Veneto",
          "Veneto",
          "Veneto",
          "Veneto",
          "Veneto",
          "Veneto",
          "Veneto",
          "Veneto",
          "Veneto",
          "Veneto",
          "Veneto",
          "Veneto",
          "Veneto",
          "Veneto",
          "Veneto",
          "Veneto"
         ],
         "legendgroup": "Nord",
         "line": {
          "color": "darkblue",
          "dash": "solid"
         },
         "mode": "lines",
         "name": "Nord",
         "orientation": "v",
         "showlegend": false,
         "type": "scatter",
         "x": [
          "1996",
          "1997",
          "1998",
          "1999",
          "2000",
          "2001",
          "2002",
          "2003",
          "2004",
          "2005",
          "2006",
          "2007",
          "2008",
          "2009",
          "2010",
          "2011",
          "2012",
          "2013",
          "2014",
          "2015",
          "2016",
          "2017",
          "2018"
         ],
         "xaxis": "x",
         "y": [
          59.2461853903078,
          60.02693516321427,
          60.46507163083227,
          61.35193942666085,
          62.82751221295372,
          63.6776529618447,
          63.88294862180928,
          64.6844731321231,
          64.39525349651471,
          64.6284223251216,
          65.28159791691373,
          65.69468131242027,
          66.44839449179666,
          64.57746516437358,
          64.36675025550328,
          64.88681035991478,
          64.90730883479131,
          63.05321947249457,
          63.71517914175653,
          63.61311292777951,
          64.73510713294971,
          66.03763821915564,
          66.64898476881105
         ],
         "yaxis": "y"
        },
        {
         "hovertemplate": "<b>%{hovertext}</b><br><br>Zona d'Italia=Centro<br>line_group=Lazio<br>Anno di riferimento=%{x}<br>Tasso di Occupazione=%{y}<extra></extra>",
         "hovertext": [
          "Lazio",
          "Lazio",
          "Lazio",
          "Lazio",
          "Lazio",
          "Lazio",
          "Lazio",
          "Lazio",
          "Lazio",
          "Lazio",
          "Lazio",
          "Lazio",
          "Lazio",
          "Lazio",
          "Lazio",
          "Lazio",
          "Lazio",
          "Lazio",
          "Lazio",
          "Lazio",
          "Lazio",
          "Lazio",
          "Lazio"
         ],
         "legendgroup": "Centro",
         "line": {
          "color": "DarkGoldenrod",
          "dash": "solid"
         },
         "mode": "lines",
         "name": "Centro",
         "orientation": "v",
         "showlegend": true,
         "type": "scatter",
         "x": [
          "1996",
          "1997",
          "1998",
          "1999",
          "2000",
          "2001",
          "2002",
          "2003",
          "2004",
          "2005",
          "2006",
          "2007",
          "2008",
          "2009",
          "2010",
          "2011",
          "2012",
          "2013",
          "2014",
          "2015",
          "2016",
          "2017",
          "2018"
         ],
         "xaxis": "x",
         "y": [
          50.38577888925959,
          50.71951573658732,
          51.091051571753084,
          51.771669201743144,
          52.732348483653624,
          53.7049649018791,
          55.606295180949175,
          57.16706760210566,
          58.730302882252694,
          58.51703086301282,
          59.38128306934828,
          59.51409132328204,
          60.228552033309924,
          59.515639195615385,
          59.12502104146535,
          58.83515661748314,
          58.830195930886276,
          57.74939243181397,
          58.76462235868685,
          58.97680542651713,
          59.90611470481705,
          60.883121437048025,
          60.90738181233459
         ],
         "yaxis": "y"
        },
        {
         "hovertemplate": "<b>%{hovertext}</b><br><br>Zona d'Italia=Centro<br>line_group=Marche<br>Anno di riferimento=%{x}<br>Tasso di Occupazione=%{y}<extra></extra>",
         "hovertext": [
          "Marche",
          "Marche",
          "Marche",
          "Marche",
          "Marche",
          "Marche",
          "Marche",
          "Marche",
          "Marche",
          "Marche",
          "Marche",
          "Marche",
          "Marche",
          "Marche",
          "Marche",
          "Marche",
          "Marche",
          "Marche",
          "Marche",
          "Marche",
          "Marche",
          "Marche",
          "Marche"
         ],
         "legendgroup": "Centro",
         "line": {
          "color": "DarkGoldenrod",
          "dash": "solid"
         },
         "mode": "lines",
         "name": "Centro",
         "orientation": "v",
         "showlegend": false,
         "type": "scatter",
         "x": [
          "1996",
          "1997",
          "1998",
          "1999",
          "2000",
          "2001",
          "2002",
          "2003",
          "2004",
          "2005",
          "2006",
          "2007",
          "2008",
          "2009",
          "2010",
          "2011",
          "2012",
          "2013",
          "2014",
          "2015",
          "2016",
          "2017",
          "2018"
         ],
         "xaxis": "x",
         "y": [
          59.114353743348545,
          58.21222750533697,
          59.04845811286046,
          60.86516185520799,
          61.948538077862324,
          62.54764853623068,
          63.625988782046264,
          64.09835024786352,
          63.94769279686826,
          63.45601901347062,
          64.35658696854098,
          64.80982923441458,
          64.7091910669474,
          63.62459151513209,
          63.73006519748922,
          62.441302678348286,
          62.58250398190137,
          61.051650749037975,
          62.39773590143456,
          62.14469395611446,
          62.22628321941065,
          62.18386453313144,
          64.66219213162498
         ],
         "yaxis": "y"
        },
        {
         "hovertemplate": "<b>%{hovertext}</b><br><br>Zona d'Italia=Centro<br>line_group=Toscana<br>Anno di riferimento=%{x}<br>Tasso di Occupazione=%{y}<extra></extra>",
         "hovertext": [
          "Toscana",
          "Toscana",
          "Toscana",
          "Toscana",
          "Toscana",
          "Toscana",
          "Toscana",
          "Toscana",
          "Toscana",
          "Toscana",
          "Toscana",
          "Toscana",
          "Toscana",
          "Toscana",
          "Toscana",
          "Toscana",
          "Toscana",
          "Toscana",
          "Toscana",
          "Toscana",
          "Toscana",
          "Toscana",
          "Toscana"
         ],
         "legendgroup": "Centro",
         "line": {
          "color": "DarkGoldenrod",
          "dash": "solid"
         },
         "mode": "lines",
         "name": "Centro",
         "orientation": "v",
         "showlegend": false,
         "type": "scatter",
         "x": [
          "1996",
          "1997",
          "1998",
          "1999",
          "2000",
          "2001",
          "2002",
          "2003",
          "2004",
          "2005",
          "2006",
          "2007",
          "2008",
          "2009",
          "2010",
          "2011",
          "2012",
          "2013",
          "2014",
          "2015",
          "2016",
          "2017",
          "2018"
         ],
         "xaxis": "x",
         "y": [
          58.89606902492728,
          59.00964413336675,
          59.975845431442984,
          61.1261999521598,
          62.6115781254137,
          63.857461924689105,
          64.19349345721757,
          63.78625278246191,
          63.28515222486507,
          63.712366973971726,
          64.68017152279567,
          64.65971154648203,
          65.25311002161854,
          64.71320035279567,
          63.70980385510108,
          63.56544193689607,
          63.74224235099203,
          63.71579888833217,
          63.80196463587021,
          64.81351130968237,
          65.3234943434551,
          66.0273838053607,
          66.52810649162268
         ],
         "yaxis": "y"
        },
        {
         "hovertemplate": "<b>%{hovertext}</b><br><br>Zona d'Italia=Centro<br>line_group=Umbria<br>Anno di riferimento=%{x}<br>Tasso di Occupazione=%{y}<extra></extra>",
         "hovertext": [
          "Umbria",
          "Umbria",
          "Umbria",
          "Umbria",
          "Umbria",
          "Umbria",
          "Umbria",
          "Umbria",
          "Umbria",
          "Umbria",
          "Umbria",
          "Umbria",
          "Umbria",
          "Umbria",
          "Umbria",
          "Umbria",
          "Umbria",
          "Umbria",
          "Umbria",
          "Umbria",
          "Umbria",
          "Umbria",
          "Umbria"
         ],
         "legendgroup": "Centro",
         "line": {
          "color": "DarkGoldenrod",
          "dash": "solid"
         },
         "mode": "lines",
         "name": "Centro",
         "orientation": "v",
         "showlegend": false,
         "type": "scatter",
         "x": [
          "1996",
          "1997",
          "1998",
          "1999",
          "2000",
          "2001",
          "2002",
          "2003",
          "2004",
          "2005",
          "2006",
          "2007",
          "2008",
          "2009",
          "2010",
          "2011",
          "2012",
          "2013",
          "2014",
          "2015",
          "2016",
          "2017",
          "2018"
         ],
         "xaxis": "x",
         "y": [
          57.30364734840009,
          57.67166510056959,
          58.28927114564182,
          60.802325211199815,
          62.61792099106125,
          63.22960808311014,
          62.27653641753679,
          60.965653810586886,
          61.38257186787081,
          61.62180965510133,
          62.789249480604646,
          64.55944906184138,
          65.29967027859017,
          62.85624652671961,
          62.583353694314205,
          62.24988575604604,
          61.49885288238885,
          60.89721443606666,
          61.02204444635089,
          63.10313378628517,
          62.728602779809805,
          62.94327047434375,
          63.044003514423785
         ],
         "yaxis": "y"
        },
        {
         "hovertemplate": "<b>%{hovertext}</b><br><br>Zona d'Italia=Sud<br>line_group=Abruzzo<br>Anno di riferimento=%{x}<br>Tasso di Occupazione=%{y}<extra></extra>",
         "hovertext": [
          "Abruzzo",
          "Abruzzo",
          "Abruzzo",
          "Abruzzo",
          "Abruzzo",
          "Abruzzo",
          "Abruzzo",
          "Abruzzo",
          "Abruzzo",
          "Abruzzo",
          "Abruzzo",
          "Abruzzo",
          "Abruzzo",
          "Abruzzo",
          "Abruzzo",
          "Abruzzo",
          "Abruzzo",
          "Abruzzo",
          "Abruzzo",
          "Abruzzo",
          "Abruzzo",
          "Abruzzo",
          "Abruzzo"
         ],
         "legendgroup": "Sud",
         "line": {
          "color": "crimson",
          "dash": "solid"
         },
         "mode": "lines",
         "name": "Sud",
         "orientation": "v",
         "showlegend": true,
         "type": "scatter",
         "x": [
          "1996",
          "1997",
          "1998",
          "1999",
          "2000",
          "2001",
          "2002",
          "2003",
          "2004",
          "2005",
          "2006",
          "2007",
          "2008",
          "2009",
          "2010",
          "2011",
          "2012",
          "2013",
          "2014",
          "2015",
          "2016",
          "2017",
          "2018"
         ],
         "xaxis": "x",
         "y": [
          56.01269746496099,
          55.730080391741055,
          55.44264132524239,
          54.9928586347738,
          56.31064439925625,
          58.53662672257386,
          59.20962561532189,
          57.99203139148808,
          56.40573762150423,
          57.058133658787746,
          57.6489829684508,
          57.933096418615534,
          58.807943618702566,
          55.72250842898529,
          55.3755758907206,
          56.628213378336845,
          56.661084596598435,
          54.95403343065255,
          53.945744989834445,
          54.50147605657496,
          55.73094634570936,
          56.806653772493696,
          58.013003484953074
         ],
         "yaxis": "y"
        },
        {
         "hovertemplate": "<b>%{hovertext}</b><br><br>Zona d'Italia=Sud<br>line_group=Basilicata<br>Anno di riferimento=%{x}<br>Tasso di Occupazione=%{y}<extra></extra>",
         "hovertext": [
          "Basilicata",
          "Basilicata",
          "Basilicata",
          "Basilicata",
          "Basilicata",
          "Basilicata",
          "Basilicata",
          "Basilicata",
          "Basilicata",
          "Basilicata",
          "Basilicata",
          "Basilicata",
          "Basilicata",
          "Basilicata",
          "Basilicata",
          "Basilicata",
          "Basilicata",
          "Basilicata",
          "Basilicata",
          "Basilicata",
          "Basilicata",
          "Basilicata",
          "Basilicata"
         ],
         "legendgroup": "Sud",
         "line": {
          "color": "crimson",
          "dash": "solid"
         },
         "mode": "lines",
         "name": "Sud",
         "orientation": "v",
         "showlegend": false,
         "type": "scatter",
         "x": [
          "1996",
          "1997",
          "1998",
          "1999",
          "2000",
          "2001",
          "2002",
          "2003",
          "2004",
          "2005",
          "2006",
          "2007",
          "2008",
          "2009",
          "2010",
          "2011",
          "2012",
          "2013",
          "2014",
          "2015",
          "2016",
          "2017",
          "2018"
         ],
         "xaxis": "x",
         "y": [
          45.061381093185744,
          46.18861537695697,
          46.556486223695295,
          47.27602296839331,
          49.18316725285784,
          48.63262924228208,
          49.609033399645085,
          49.627729109041084,
          49.129930245183935,
          49.16422673544949,
          50.23396242075885,
          49.53019889807449,
          49.61185768288124,
          48.384240239741146,
          47.06478943563445,
          47.611829906035794,
          46.82904279741027,
          46.17887030658617,
          47.188266632974305,
          49.19340735048623,
          50.326368493636686,
          49.49463690818968,
          49.38840578135778
         ],
         "yaxis": "y"
        },
        {
         "hovertemplate": "<b>%{hovertext}</b><br><br>Zona d'Italia=Sud<br>line_group=Calabria<br>Anno di riferimento=%{x}<br>Tasso di Occupazione=%{y}<extra></extra>",
         "hovertext": [
          "Calabria",
          "Calabria",
          "Calabria",
          "Calabria",
          "Calabria",
          "Calabria",
          "Calabria",
          "Calabria",
          "Calabria",
          "Calabria",
          "Calabria",
          "Calabria",
          "Calabria",
          "Calabria",
          "Calabria",
          "Calabria",
          "Calabria",
          "Calabria",
          "Calabria",
          "Calabria",
          "Calabria",
          "Calabria",
          "Calabria"
         ],
         "legendgroup": "Sud",
         "line": {
          "color": "crimson",
          "dash": "solid"
         },
         "mode": "lines",
         "name": "Sud",
         "orientation": "v",
         "showlegend": false,
         "type": "scatter",
         "x": [
          "1996",
          "1997",
          "1998",
          "1999",
          "2000",
          "2001",
          "2002",
          "2003",
          "2004",
          "2005",
          "2006",
          "2007",
          "2008",
          "2009",
          "2010",
          "2011",
          "2012",
          "2013",
          "2014",
          "2015",
          "2016",
          "2017",
          "2018"
         ],
         "xaxis": "x",
         "y": [
          42.067390858181604,
          41.94982415074809,
          42.40159372077557,
          42.02071319725932,
          43.05819717522527,
          44.29469597429535,
          45.27910375207954,
          45.207944835516486,
          46.153607890716955,
          44.51882006866843,
          45.44828891188041,
          44.85430049404954,
          44.02132005481344,
          43.00418509849681,
          42.10342319638673,
          42.436235239709255,
          41.470505021387325,
          38.949236641221376,
          39.31185373528202,
          38.91355047662694,
          39.62746032827079,
          40.83779221730572,
          42.152181834173064
         ],
         "yaxis": "y"
        },
        {
         "hovertemplate": "<b>%{hovertext}</b><br><br>Zona d'Italia=Sud<br>line_group=Campania<br>Anno di riferimento=%{x}<br>Tasso di Occupazione=%{y}<extra></extra>",
         "hovertext": [
          "Campania",
          "Campania",
          "Campania",
          "Campania",
          "Campania",
          "Campania",
          "Campania",
          "Campania",
          "Campania",
          "Campania",
          "Campania",
          "Campania",
          "Campania",
          "Campania",
          "Campania",
          "Campania",
          "Campania",
          "Campania",
          "Campania",
          "Campania",
          "Campania",
          "Campania",
          "Campania"
         ],
         "legendgroup": "Sud",
         "line": {
          "color": "crimson",
          "dash": "solid"
         },
         "mode": "lines",
         "name": "Sud",
         "orientation": "v",
         "showlegend": false,
         "type": "scatter",
         "x": [
          "1996",
          "1997",
          "1998",
          "1999",
          "2000",
          "2001",
          "2002",
          "2003",
          "2004",
          "2005",
          "2006",
          "2007",
          "2008",
          "2009",
          "2010",
          "2011",
          "2012",
          "2013",
          "2014",
          "2015",
          "2016",
          "2017",
          "2018"
         ],
         "xaxis": "x",
         "y": [
          42.28737369201352,
          42.45687496113133,
          43.547884079910624,
          43.30305867112907,
          43.34845269861897,
          44.09262708050536,
          45.47075448567809,
          45.7700197235566,
          45.23416323016598,
          44.04637067555537,
          44.115417451148396,
          43.666479158172876,
          42.398161151105015,
          40.76750471264707,
          39.78443202447002,
          39.35335326152051,
          39.8906844869348,
          39.70944365384263,
          39.170285752652894,
          39.576877212001406,
          41.16202091394995,
          42.04875369713995,
          41.641068427612375
         ],
         "yaxis": "y"
        },
        {
         "hovertemplate": "<b>%{hovertext}</b><br><br>Zona d'Italia=Sud<br>line_group=Molise<br>Anno di riferimento=%{x}<br>Tasso di Occupazione=%{y}<extra></extra>",
         "hovertext": [
          "Molise",
          "Molise",
          "Molise",
          "Molise",
          "Molise",
          "Molise",
          "Molise",
          "Molise",
          "Molise",
          "Molise",
          "Molise",
          "Molise",
          "Molise",
          "Molise",
          "Molise",
          "Molise",
          "Molise",
          "Molise",
          "Molise",
          "Molise",
          "Molise",
          "Molise",
          "Molise"
         ],
         "legendgroup": "Sud",
         "line": {
          "color": "crimson",
          "dash": "solid"
         },
         "mode": "lines",
         "name": "Sud",
         "orientation": "v",
         "showlegend": false,
         "type": "scatter",
         "x": [
          "1996",
          "1997",
          "1998",
          "1999",
          "2000",
          "2001",
          "2002",
          "2003",
          "2004",
          "2005",
          "2006",
          "2007",
          "2008",
          "2009",
          "2010",
          "2011",
          "2012",
          "2013",
          "2014",
          "2015",
          "2016",
          "2017",
          "2018"
         ],
         "xaxis": "x",
         "y": [
          49.534269493946915,
          49.92960009071666,
          50.17916207276737,
          50.440831049048725,
          51.775626281193766,
          53.01519445223565,
          53.278000242689,
          51.790946310417766,
          52.110123748703884,
          51.2096009799299,
          52.35075154773462,
          53.59359535058337,
          54.11724756845909,
          52.179034157832746,
          51.01333955133249,
          50.26954112267408,
          50.61991845105843,
          47.57247386248662,
          48.484387572861266,
          49.38267331873043,
          51.86143560135812,
          51.708712823406145,
          53.45486261648398
         ],
         "yaxis": "y"
        },
        {
         "hovertemplate": "<b>%{hovertext}</b><br><br>Zona d'Italia=Sud<br>line_group=Puglia<br>Anno di riferimento=%{x}<br>Tasso di Occupazione=%{y}<extra></extra>",
         "hovertext": [
          "Puglia",
          "Puglia",
          "Puglia",
          "Puglia",
          "Puglia",
          "Puglia",
          "Puglia",
          "Puglia",
          "Puglia",
          "Puglia",
          "Puglia",
          "Puglia",
          "Puglia",
          "Puglia",
          "Puglia",
          "Puglia",
          "Puglia",
          "Puglia",
          "Puglia",
          "Puglia",
          "Puglia",
          "Puglia",
          "Puglia"
         ],
         "legendgroup": "Sud",
         "line": {
          "color": "crimson",
          "dash": "solid"
         },
         "mode": "lines",
         "name": "Sud",
         "orientation": "v",
         "showlegend": false,
         "type": "scatter",
         "x": [
          "1996",
          "1997",
          "1998",
          "1999",
          "2000",
          "2001",
          "2002",
          "2003",
          "2004",
          "2005",
          "2006",
          "2007",
          "2008",
          "2009",
          "2010",
          "2011",
          "2012",
          "2013",
          "2014",
          "2015",
          "2016",
          "2017",
          "2018"
         ],
         "xaxis": "x",
         "y": [
          42.806000234657446,
          42.1578050480392,
          42.63774363195315,
          43.439563573553116,
          44.53775762144479,
          45.4245139999121,
          46.22601525562443,
          45.416338372768095,
          45.10304684350859,
          44.3929082670831,
          45.67876216347743,
          46.59317008585971,
          46.57913289853759,
          44.90942326764622,
          44.31301967835235,
          44.717406032615436,
          44.88059662995457,
          42.333333704141666,
          42.13890570045007,
          43.29481774349951,
          44.276280379794756,
          44.51721893002306,
          45.54416486477521
         ],
         "yaxis": "y"
        },
        {
         "hovertemplate": "<b>%{hovertext}</b><br><br>Zona d'Italia=Isole<br>line_group=Sardegna<br>Anno di riferimento=%{x}<br>Tasso di Occupazione=%{y}<extra></extra>",
         "hovertext": [
          "Sardegna",
          "Sardegna",
          "Sardegna",
          "Sardegna",
          "Sardegna",
          "Sardegna",
          "Sardegna",
          "Sardegna",
          "Sardegna",
          "Sardegna",
          "Sardegna",
          "Sardegna",
          "Sardegna",
          "Sardegna",
          "Sardegna",
          "Sardegna",
          "Sardegna",
          "Sardegna",
          "Sardegna",
          "Sardegna",
          "Sardegna",
          "Sardegna",
          "Sardegna"
         ],
         "legendgroup": "Isole",
         "line": {
          "color": "Darkcyan",
          "dash": "solid"
         },
         "mode": "lines",
         "name": "Isole",
         "orientation": "v",
         "showlegend": true,
         "type": "scatter",
         "x": [
          "1996",
          "1997",
          "1998",
          "1999",
          "2000",
          "2001",
          "2002",
          "2003",
          "2004",
          "2005",
          "2006",
          "2007",
          "2008",
          "2009",
          "2010",
          "2011",
          "2012",
          "2013",
          "2014",
          "2015",
          "2016",
          "2017",
          "2018"
         ],
         "xaxis": "x",
         "y": [
          47.192378619470496,
          48.06097017397503,
          48.69643725258698,
          49.58357232194224,
          49.67398932325944,
          51.617997475353185,
          52.37152882998019,
          51.22987004201913,
          51.487865685356425,
          51.397359892220386,
          52.10160937943584,
          52.77565036934555,
          52.32506742682303,
          50.783691026565435,
          50.96596397270589,
          51.718085760030775,
          51.71301649120672,
          48.317612971947646,
          48.554510308929224,
          50.14760948953195,
          50.29886075926194,
          50.45695583191265,
          52.73463038212919
         ],
         "yaxis": "y"
        },
        {
         "hovertemplate": "<b>%{hovertext}</b><br><br>Zona d'Italia=Isole<br>line_group=Sicilia<br>Anno di riferimento=%{x}<br>Tasso di Occupazione=%{y}<extra></extra>",
         "hovertext": [
          "Sicilia",
          "Sicilia",
          "Sicilia",
          "Sicilia",
          "Sicilia",
          "Sicilia",
          "Sicilia",
          "Sicilia",
          "Sicilia",
          "Sicilia",
          "Sicilia",
          "Sicilia",
          "Sicilia",
          "Sicilia",
          "Sicilia",
          "Sicilia",
          "Sicilia",
          "Sicilia",
          "Sicilia",
          "Sicilia",
          "Sicilia",
          "Sicilia",
          "Sicilia"
         ],
         "legendgroup": "Isole",
         "line": {
          "color": "Darkcyan",
          "dash": "solid"
         },
         "mode": "lines",
         "name": "Isole",
         "orientation": "v",
         "showlegend": false,
         "type": "scatter",
         "x": [
          "1996",
          "1997",
          "1998",
          "1999",
          "2000",
          "2001",
          "2002",
          "2003",
          "2004",
          "2005",
          "2006",
          "2007",
          "2008",
          "2009",
          "2010",
          "2011",
          "2012",
          "2013",
          "2014",
          "2015",
          "2016",
          "2017",
          "2018"
         ],
         "xaxis": "x",
         "y": [
          39.76826536338623,
          40.152976811282684,
          41.136882480636125,
          41.263147023399995,
          41.87037986748929,
          43.28398315802603,
          43.88376957708116,
          43.255651068683434,
          43.328926234697704,
          44.08383824542375,
          45.01780753951615,
          44.55431575311309,
          44.14677838914622,
          43.57446616541353,
          42.683882388862735,
          42.37444811083778,
          41.29860799603608,
          39.329117767658936,
          39.01483640455087,
          39.97773049270459,
          40.102633779453726,
          40.62769354340627,
          40.67349545182057
         ],
         "yaxis": "y"
        }
       ],
       "layout": {
        "legend": {
         "title": {
          "text": "Zona d'Italia"
         },
         "tracegroupgap": 0
        },
        "template": {
         "data": {
          "bar": [
           {
            "error_x": {
             "color": "#2a3f5f"
            },
            "error_y": {
             "color": "#2a3f5f"
            },
            "marker": {
             "line": {
              "color": "white",
              "width": 0.5
             }
            },
            "type": "bar"
           }
          ],
          "barpolar": [
           {
            "marker": {
             "line": {
              "color": "white",
              "width": 0.5
             }
            },
            "type": "barpolar"
           }
          ],
          "carpet": [
           {
            "aaxis": {
             "endlinecolor": "#2a3f5f",
             "gridcolor": "#C8D4E3",
             "linecolor": "#C8D4E3",
             "minorgridcolor": "#C8D4E3",
             "startlinecolor": "#2a3f5f"
            },
            "baxis": {
             "endlinecolor": "#2a3f5f",
             "gridcolor": "#C8D4E3",
             "linecolor": "#C8D4E3",
             "minorgridcolor": "#C8D4E3",
             "startlinecolor": "#2a3f5f"
            },
            "type": "carpet"
           }
          ],
          "choropleth": [
           {
            "colorbar": {
             "outlinewidth": 0,
             "ticks": ""
            },
            "type": "choropleth"
           }
          ],
          "contour": [
           {
            "colorbar": {
             "outlinewidth": 0,
             "ticks": ""
            },
            "colorscale": [
             [
              0,
              "#0d0887"
             ],
             [
              0.1111111111111111,
              "#46039f"
             ],
             [
              0.2222222222222222,
              "#7201a8"
             ],
             [
              0.3333333333333333,
              "#9c179e"
             ],
             [
              0.4444444444444444,
              "#bd3786"
             ],
             [
              0.5555555555555556,
              "#d8576b"
             ],
             [
              0.6666666666666666,
              "#ed7953"
             ],
             [
              0.7777777777777778,
              "#fb9f3a"
             ],
             [
              0.8888888888888888,
              "#fdca26"
             ],
             [
              1,
              "#f0f921"
             ]
            ],
            "type": "contour"
           }
          ],
          "contourcarpet": [
           {
            "colorbar": {
             "outlinewidth": 0,
             "ticks": ""
            },
            "type": "contourcarpet"
           }
          ],
          "heatmap": [
           {
            "colorbar": {
             "outlinewidth": 0,
             "ticks": ""
            },
            "colorscale": [
             [
              0,
              "#0d0887"
             ],
             [
              0.1111111111111111,
              "#46039f"
             ],
             [
              0.2222222222222222,
              "#7201a8"
             ],
             [
              0.3333333333333333,
              "#9c179e"
             ],
             [
              0.4444444444444444,
              "#bd3786"
             ],
             [
              0.5555555555555556,
              "#d8576b"
             ],
             [
              0.6666666666666666,
              "#ed7953"
             ],
             [
              0.7777777777777778,
              "#fb9f3a"
             ],
             [
              0.8888888888888888,
              "#fdca26"
             ],
             [
              1,
              "#f0f921"
             ]
            ],
            "type": "heatmap"
           }
          ],
          "heatmapgl": [
           {
            "colorbar": {
             "outlinewidth": 0,
             "ticks": ""
            },
            "colorscale": [
             [
              0,
              "#0d0887"
             ],
             [
              0.1111111111111111,
              "#46039f"
             ],
             [
              0.2222222222222222,
              "#7201a8"
             ],
             [
              0.3333333333333333,
              "#9c179e"
             ],
             [
              0.4444444444444444,
              "#bd3786"
             ],
             [
              0.5555555555555556,
              "#d8576b"
             ],
             [
              0.6666666666666666,
              "#ed7953"
             ],
             [
              0.7777777777777778,
              "#fb9f3a"
             ],
             [
              0.8888888888888888,
              "#fdca26"
             ],
             [
              1,
              "#f0f921"
             ]
            ],
            "type": "heatmapgl"
           }
          ],
          "histogram": [
           {
            "marker": {
             "colorbar": {
              "outlinewidth": 0,
              "ticks": ""
             }
            },
            "type": "histogram"
           }
          ],
          "histogram2d": [
           {
            "colorbar": {
             "outlinewidth": 0,
             "ticks": ""
            },
            "colorscale": [
             [
              0,
              "#0d0887"
             ],
             [
              0.1111111111111111,
              "#46039f"
             ],
             [
              0.2222222222222222,
              "#7201a8"
             ],
             [
              0.3333333333333333,
              "#9c179e"
             ],
             [
              0.4444444444444444,
              "#bd3786"
             ],
             [
              0.5555555555555556,
              "#d8576b"
             ],
             [
              0.6666666666666666,
              "#ed7953"
             ],
             [
              0.7777777777777778,
              "#fb9f3a"
             ],
             [
              0.8888888888888888,
              "#fdca26"
             ],
             [
              1,
              "#f0f921"
             ]
            ],
            "type": "histogram2d"
           }
          ],
          "histogram2dcontour": [
           {
            "colorbar": {
             "outlinewidth": 0,
             "ticks": ""
            },
            "colorscale": [
             [
              0,
              "#0d0887"
             ],
             [
              0.1111111111111111,
              "#46039f"
             ],
             [
              0.2222222222222222,
              "#7201a8"
             ],
             [
              0.3333333333333333,
              "#9c179e"
             ],
             [
              0.4444444444444444,
              "#bd3786"
             ],
             [
              0.5555555555555556,
              "#d8576b"
             ],
             [
              0.6666666666666666,
              "#ed7953"
             ],
             [
              0.7777777777777778,
              "#fb9f3a"
             ],
             [
              0.8888888888888888,
              "#fdca26"
             ],
             [
              1,
              "#f0f921"
             ]
            ],
            "type": "histogram2dcontour"
           }
          ],
          "mesh3d": [
           {
            "colorbar": {
             "outlinewidth": 0,
             "ticks": ""
            },
            "type": "mesh3d"
           }
          ],
          "parcoords": [
           {
            "line": {
             "colorbar": {
              "outlinewidth": 0,
              "ticks": ""
             }
            },
            "type": "parcoords"
           }
          ],
          "pie": [
           {
            "automargin": true,
            "type": "pie"
           }
          ],
          "scatter": [
           {
            "marker": {
             "colorbar": {
              "outlinewidth": 0,
              "ticks": ""
             }
            },
            "type": "scatter"
           }
          ],
          "scatter3d": [
           {
            "line": {
             "colorbar": {
              "outlinewidth": 0,
              "ticks": ""
             }
            },
            "marker": {
             "colorbar": {
              "outlinewidth": 0,
              "ticks": ""
             }
            },
            "type": "scatter3d"
           }
          ],
          "scattercarpet": [
           {
            "marker": {
             "colorbar": {
              "outlinewidth": 0,
              "ticks": ""
             }
            },
            "type": "scattercarpet"
           }
          ],
          "scattergeo": [
           {
            "marker": {
             "colorbar": {
              "outlinewidth": 0,
              "ticks": ""
             }
            },
            "type": "scattergeo"
           }
          ],
          "scattergl": [
           {
            "marker": {
             "colorbar": {
              "outlinewidth": 0,
              "ticks": ""
             }
            },
            "type": "scattergl"
           }
          ],
          "scattermapbox": [
           {
            "marker": {
             "colorbar": {
              "outlinewidth": 0,
              "ticks": ""
             }
            },
            "type": "scattermapbox"
           }
          ],
          "scatterpolar": [
           {
            "marker": {
             "colorbar": {
              "outlinewidth": 0,
              "ticks": ""
             }
            },
            "type": "scatterpolar"
           }
          ],
          "scatterpolargl": [
           {
            "marker": {
             "colorbar": {
              "outlinewidth": 0,
              "ticks": ""
             }
            },
            "type": "scatterpolargl"
           }
          ],
          "scatterternary": [
           {
            "marker": {
             "colorbar": {
              "outlinewidth": 0,
              "ticks": ""
             }
            },
            "type": "scatterternary"
           }
          ],
          "surface": [
           {
            "colorbar": {
             "outlinewidth": 0,
             "ticks": ""
            },
            "colorscale": [
             [
              0,
              "#0d0887"
             ],
             [
              0.1111111111111111,
              "#46039f"
             ],
             [
              0.2222222222222222,
              "#7201a8"
             ],
             [
              0.3333333333333333,
              "#9c179e"
             ],
             [
              0.4444444444444444,
              "#bd3786"
             ],
             [
              0.5555555555555556,
              "#d8576b"
             ],
             [
              0.6666666666666666,
              "#ed7953"
             ],
             [
              0.7777777777777778,
              "#fb9f3a"
             ],
             [
              0.8888888888888888,
              "#fdca26"
             ],
             [
              1,
              "#f0f921"
             ]
            ],
            "type": "surface"
           }
          ],
          "table": [
           {
            "cells": {
             "fill": {
              "color": "#EBF0F8"
             },
             "line": {
              "color": "white"
             }
            },
            "header": {
             "fill": {
              "color": "#C8D4E3"
             },
             "line": {
              "color": "white"
             }
            },
            "type": "table"
           }
          ]
         },
         "layout": {
          "annotationdefaults": {
           "arrowcolor": "#2a3f5f",
           "arrowhead": 0,
           "arrowwidth": 1
          },
          "autotypenumbers": "strict",
          "coloraxis": {
           "colorbar": {
            "outlinewidth": 0,
            "ticks": ""
           }
          },
          "colorscale": {
           "diverging": [
            [
             0,
             "#8e0152"
            ],
            [
             0.1,
             "#c51b7d"
            ],
            [
             0.2,
             "#de77ae"
            ],
            [
             0.3,
             "#f1b6da"
            ],
            [
             0.4,
             "#fde0ef"
            ],
            [
             0.5,
             "#f7f7f7"
            ],
            [
             0.6,
             "#e6f5d0"
            ],
            [
             0.7,
             "#b8e186"
            ],
            [
             0.8,
             "#7fbc41"
            ],
            [
             0.9,
             "#4d9221"
            ],
            [
             1,
             "#276419"
            ]
           ],
           "sequential": [
            [
             0,
             "#0d0887"
            ],
            [
             0.1111111111111111,
             "#46039f"
            ],
            [
             0.2222222222222222,
             "#7201a8"
            ],
            [
             0.3333333333333333,
             "#9c179e"
            ],
            [
             0.4444444444444444,
             "#bd3786"
            ],
            [
             0.5555555555555556,
             "#d8576b"
            ],
            [
             0.6666666666666666,
             "#ed7953"
            ],
            [
             0.7777777777777778,
             "#fb9f3a"
            ],
            [
             0.8888888888888888,
             "#fdca26"
            ],
            [
             1,
             "#f0f921"
            ]
           ],
           "sequentialminus": [
            [
             0,
             "#0d0887"
            ],
            [
             0.1111111111111111,
             "#46039f"
            ],
            [
             0.2222222222222222,
             "#7201a8"
            ],
            [
             0.3333333333333333,
             "#9c179e"
            ],
            [
             0.4444444444444444,
             "#bd3786"
            ],
            [
             0.5555555555555556,
             "#d8576b"
            ],
            [
             0.6666666666666666,
             "#ed7953"
            ],
            [
             0.7777777777777778,
             "#fb9f3a"
            ],
            [
             0.8888888888888888,
             "#fdca26"
            ],
            [
             1,
             "#f0f921"
            ]
           ]
          },
          "colorway": [
           "#636efa",
           "#EF553B",
           "#00cc96",
           "#ab63fa",
           "#FFA15A",
           "#19d3f3",
           "#FF6692",
           "#B6E880",
           "#FF97FF",
           "#FECB52"
          ],
          "font": {
           "color": "#2a3f5f"
          },
          "geo": {
           "bgcolor": "white",
           "lakecolor": "white",
           "landcolor": "white",
           "showlakes": true,
           "showland": true,
           "subunitcolor": "#C8D4E3"
          },
          "hoverlabel": {
           "align": "left"
          },
          "hovermode": "closest",
          "mapbox": {
           "style": "light"
          },
          "paper_bgcolor": "white",
          "plot_bgcolor": "white",
          "polar": {
           "angularaxis": {
            "gridcolor": "#EBF0F8",
            "linecolor": "#EBF0F8",
            "ticks": ""
           },
           "bgcolor": "white",
           "radialaxis": {
            "gridcolor": "#EBF0F8",
            "linecolor": "#EBF0F8",
            "ticks": ""
           }
          },
          "scene": {
           "xaxis": {
            "backgroundcolor": "white",
            "gridcolor": "#DFE8F3",
            "gridwidth": 2,
            "linecolor": "#EBF0F8",
            "showbackground": true,
            "ticks": "",
            "zerolinecolor": "#EBF0F8"
           },
           "yaxis": {
            "backgroundcolor": "white",
            "gridcolor": "#DFE8F3",
            "gridwidth": 2,
            "linecolor": "#EBF0F8",
            "showbackground": true,
            "ticks": "",
            "zerolinecolor": "#EBF0F8"
           },
           "zaxis": {
            "backgroundcolor": "white",
            "gridcolor": "#DFE8F3",
            "gridwidth": 2,
            "linecolor": "#EBF0F8",
            "showbackground": true,
            "ticks": "",
            "zerolinecolor": "#EBF0F8"
           }
          },
          "shapedefaults": {
           "line": {
            "color": "#2a3f5f"
           }
          },
          "ternary": {
           "aaxis": {
            "gridcolor": "#DFE8F3",
            "linecolor": "#A2B1C6",
            "ticks": ""
           },
           "baxis": {
            "gridcolor": "#DFE8F3",
            "linecolor": "#A2B1C6",
            "ticks": ""
           },
           "bgcolor": "white",
           "caxis": {
            "gridcolor": "#DFE8F3",
            "linecolor": "#A2B1C6",
            "ticks": ""
           }
          },
          "title": {
           "x": 0.05
          },
          "xaxis": {
           "automargin": true,
           "gridcolor": "#EBF0F8",
           "linecolor": "#EBF0F8",
           "ticks": "",
           "title": {
            "standoff": 15
           },
           "zerolinecolor": "#EBF0F8",
           "zerolinewidth": 2
          },
          "yaxis": {
           "automargin": true,
           "gridcolor": "#EBF0F8",
           "linecolor": "#EBF0F8",
           "ticks": "",
           "title": {
            "standoff": 15
           },
           "zerolinecolor": "#EBF0F8",
           "zerolinewidth": 2
          }
         }
        },
        "title": {
         "text": "Andamento Tasso di occupazione in italia (per zone)"
        },
        "xaxis": {
         "anchor": "y",
         "domain": [
          0,
          1
         ],
         "title": {
          "text": "Anno di riferimento"
         }
        },
        "yaxis": {
         "anchor": "x",
         "domain": [
          0,
          1
         ],
         "title": {
          "text": "Tasso di Occupazione"
         }
        }
       }
      },
      "text/html": [
       "<div>                            <div id=\"7b366576-c1db-46bb-bcd7-9247fc69611f\" class=\"plotly-graph-div\" style=\"height:525px; width:100%;\"></div>            <script type=\"text/javascript\">                require([\"plotly\"], function(Plotly) {                    window.PLOTLYENV=window.PLOTLYENV || {};                                    if (document.getElementById(\"7b366576-c1db-46bb-bcd7-9247fc69611f\")) {                    Plotly.newPlot(                        \"7b366576-c1db-46bb-bcd7-9247fc69611f\",                        [{\"hovertemplate\": \"<b>%{hovertext}</b><br><br>Zona d'Italia=Nord<br>line_group=Emilia-Romagna<br>Anno di riferimento=%{x}<br>Tasso di Occupazione=%{y}<extra></extra>\", \"hovertext\": [\"Emilia-Romagna\", \"Emilia-Romagna\", \"Emilia-Romagna\", \"Emilia-Romagna\", \"Emilia-Romagna\", \"Emilia-Romagna\", \"Emilia-Romagna\", \"Emilia-Romagna\", \"Emilia-Romagna\", \"Emilia-Romagna\", \"Emilia-Romagna\", \"Emilia-Romagna\", \"Emilia-Romagna\", \"Emilia-Romagna\", \"Emilia-Romagna\", \"Emilia-Romagna\", \"Emilia-Romagna\", \"Emilia-Romagna\", \"Emilia-Romagna\", \"Emilia-Romagna\", \"Emilia-Romagna\", \"Emilia-Romagna\", \"Emilia-Romagna\"], \"legendgroup\": \"Nord\", \"line\": {\"color\": \"darkblue\", \"dash\": \"solid\"}, \"mode\": \"lines\", \"name\": \"Nord\", \"orientation\": \"v\", \"showlegend\": true, \"type\": \"scatter\", \"x\": [\"1996\", \"1997\", \"1998\", \"1999\", \"2000\", \"2001\", \"2002\", \"2003\", \"2004\", \"2005\", \"2006\", \"2007\", \"2008\", \"2009\", \"2010\", \"2011\", \"2012\", \"2013\", \"2014\", \"2015\", \"2016\", \"2017\", \"2018\"], \"xaxis\": \"x\", \"y\": [64.05293272847472, 64.73839453974529, 65.3820306915931, 66.78046299759785, 68.03608229491164, 68.83310940139437, 69.87164129716685, 69.55666878444242, 68.34824036525536, 68.43104926614419, 69.37335379735005, 70.18662934377897, 70.15933468169918, 68.38413627948894, 67.31552784467686, 67.8036955739423, 67.5020290972183, 66.24904048946746, 66.26446355409482, 66.69938311244363, 68.39061675726508, 68.58451727550595, 69.60103249699739], \"yaxis\": \"y\"}, {\"hovertemplate\": \"<b>%{hovertext}</b><br><br>Zona d'Italia=Nord<br>line_group=Friuli-Venezia Giulia<br>Anno di riferimento=%{x}<br>Tasso di Occupazione=%{y}<extra></extra>\", \"hovertext\": [\"Friuli-Venezia Giulia\", \"Friuli-Venezia Giulia\", \"Friuli-Venezia Giulia\", \"Friuli-Venezia Giulia\", \"Friuli-Venezia Giulia\", \"Friuli-Venezia Giulia\", \"Friuli-Venezia Giulia\", \"Friuli-Venezia Giulia\", \"Friuli-Venezia Giulia\", \"Friuli-Venezia Giulia\", \"Friuli-Venezia Giulia\", \"Friuli-Venezia Giulia\", \"Friuli-Venezia Giulia\", \"Friuli-Venezia Giulia\", \"Friuli-Venezia Giulia\", \"Friuli-Venezia Giulia\", \"Friuli-Venezia Giulia\", \"Friuli-Venezia Giulia\", \"Friuli-Venezia Giulia\", \"Friuli-Venezia Giulia\", \"Friuli-Venezia Giulia\", \"Friuli-Venezia Giulia\", \"Friuli-Venezia Giulia\"], \"legendgroup\": \"Nord\", \"line\": {\"color\": \"darkblue\", \"dash\": \"solid\"}, \"mode\": \"lines\", \"name\": \"Nord\", \"orientation\": \"v\", \"showlegend\": false, \"type\": \"scatter\", \"x\": [\"1996\", \"1997\", \"1998\", \"1999\", \"2000\", \"2001\", \"2002\", \"2003\", \"2004\", \"2005\", \"2006\", \"2007\", \"2008\", \"2009\", \"2010\", \"2011\", \"2012\", \"2013\", \"2014\", \"2015\", \"2016\", \"2017\", \"2018\"], \"xaxis\": \"x\", \"y\": [58.73941404642229, 58.78322402269016, 59.775721062821496, 60.40213076820199, 61.93878686418605, 63.58067324544451, 63.81949630894136, 63.12050881754796, 62.59793013047189, 63.15853141430258, 64.77717461531867, 65.38688264090013, 65.18461349743421, 63.477053164763795, 63.59153756455106, 64.2095065824599, 63.64205394435538, 62.9633096462011, 63.112487455646175, 63.657264776479025, 64.6627177552664, 65.7219838206581, 66.27223911841905], \"yaxis\": \"y\"}, {\"hovertemplate\": \"<b>%{hovertext}</b><br><br>Zona d'Italia=Nord<br>line_group=Liguria<br>Anno di riferimento=%{x}<br>Tasso di Occupazione=%{y}<extra></extra>\", \"hovertext\": [\"Liguria\", \"Liguria\", \"Liguria\", \"Liguria\", \"Liguria\", \"Liguria\", \"Liguria\", \"Liguria\", \"Liguria\", \"Liguria\", \"Liguria\", \"Liguria\", \"Liguria\", \"Liguria\", \"Liguria\", \"Liguria\", \"Liguria\", \"Liguria\", \"Liguria\", \"Liguria\", \"Liguria\", \"Liguria\", \"Liguria\"], \"legendgroup\": \"Nord\", \"line\": {\"color\": \"darkblue\", \"dash\": \"solid\"}, \"mode\": \"lines\", \"name\": \"Nord\", \"orientation\": \"v\", \"showlegend\": false, \"type\": \"scatter\", \"x\": [\"1996\", \"1997\", \"1998\", \"1999\", \"2000\", \"2001\", \"2002\", \"2003\", \"2004\", \"2005\", \"2006\", \"2007\", \"2008\", \"2009\", \"2010\", \"2011\", \"2012\", \"2013\", \"2014\", \"2015\", \"2016\", \"2017\", \"2018\"], \"xaxis\": \"x\", \"y\": [55.46204231305922, 55.65705636932565, 56.89579732970784, 58.16410825234058, 59.35803157427729, 61.464456978159866, 61.70813268724539, 60.466024288451145, 60.616710284311424, 60.968326150352006, 62.097453296815594, 63.46997942355157, 63.643494419975156, 63.22582497060358, 62.73829853792623, 62.97525072625928, 61.98540498284941, 60.618409057278534, 60.723078876223504, 62.384052416602785, 62.71914723664459, 62.3682240343174, 62.96090599053389], \"yaxis\": \"y\"}, {\"hovertemplate\": \"<b>%{hovertext}</b><br><br>Zona d'Italia=Nord<br>line_group=Lombardia<br>Anno di riferimento=%{x}<br>Tasso di Occupazione=%{y}<extra></extra>\", \"hovertext\": [\"Lombardia\", \"Lombardia\", \"Lombardia\", \"Lombardia\", \"Lombardia\", \"Lombardia\", \"Lombardia\", \"Lombardia\", \"Lombardia\", \"Lombardia\", \"Lombardia\", \"Lombardia\", \"Lombardia\", \"Lombardia\", \"Lombardia\", \"Lombardia\", \"Lombardia\", \"Lombardia\", \"Lombardia\", \"Lombardia\", \"Lombardia\", \"Lombardia\", \"Lombardia\"], \"legendgroup\": \"Nord\", \"line\": {\"color\": \"darkblue\", \"dash\": \"solid\"}, \"mode\": \"lines\", \"name\": \"Nord\", \"orientation\": \"v\", \"showlegend\": false, \"type\": \"scatter\", \"x\": [\"1996\", \"1997\", \"1998\", \"1999\", \"2000\", \"2001\", \"2002\", \"2003\", \"2004\", \"2005\", \"2006\", \"2007\", \"2008\", \"2009\", \"2010\", \"2011\", \"2012\", \"2013\", \"2014\", \"2015\", \"2016\", \"2017\", \"2018\"], \"xaxis\": \"x\", \"y\": [59.58647320932388, 59.72518054049074, 60.728278907873545, 61.762284004146615, 62.57426930227968, 63.83152197637146, 64.66219595075256, 65.26248430210897, 65.49990586215024, 65.50726566370632, 66.51508934353181, 66.66997135015593, 66.91399927887677, 65.69655380623215, 64.96402184647202, 64.57302635908782, 64.52967392380089, 64.7646559729269, 64.8554639557197, 65.13575531249556, 66.22501106238308, 67.25779919319393, 67.69474850312717], \"yaxis\": \"y\"}, {\"hovertemplate\": \"<b>%{hovertext}</b><br><br>Zona d'Italia=Nord<br>line_group=Piemonte<br>Anno di riferimento=%{x}<br>Tasso di Occupazione=%{y}<extra></extra>\", \"hovertext\": [\"Piemonte\", \"Piemonte\", \"Piemonte\", \"Piemonte\", \"Piemonte\", \"Piemonte\", \"Piemonte\", \"Piemonte\", \"Piemonte\", \"Piemonte\", \"Piemonte\", \"Piemonte\", \"Piemonte\", \"Piemonte\", \"Piemonte\", \"Piemonte\", \"Piemonte\", \"Piemonte\", \"Piemonte\", \"Piemonte\", \"Piemonte\", \"Piemonte\", \"Piemonte\"], \"legendgroup\": \"Nord\", \"line\": {\"color\": \"darkblue\", \"dash\": \"solid\"}, \"mode\": \"lines\", \"name\": \"Nord\", \"orientation\": \"v\", \"showlegend\": false, \"type\": \"scatter\", \"x\": [\"1996\", \"1997\", \"1998\", \"1999\", \"2000\", \"2001\", \"2002\", \"2003\", \"2004\", \"2005\", \"2006\", \"2007\", \"2008\", \"2009\", \"2010\", \"2011\", \"2012\", \"2013\", \"2014\", \"2015\", \"2016\", \"2017\", \"2018\"], \"xaxis\": \"x\", \"y\": [57.6956786771448, 57.32067418004546, 57.492797894523065, 59.17983953397411, 61.041060322231274, 62.007941408912174, 62.380630768476394, 62.90418856656637, 63.46061329133876, 63.975641427483986, 64.71129298625972, 64.86576455418415, 65.18853548952652, 63.90306412626191, 63.471975183105336, 64.17793029814479, 63.63767960540425, 62.203157482126215, 62.389576647623535, 63.66582772426599, 64.4394130842883, 65.1908369450799, 65.89484988698626], \"yaxis\": \"y\"}, {\"hovertemplate\": \"<b>%{hovertext}</b><br><br>Zona d'Italia=Nord<br>line_group=Provincia Autonoma Bolzano / Bozen<br>Anno di riferimento=%{x}<br>Tasso di Occupazione=%{y}<extra></extra>\", \"hovertext\": [\"Provincia Autonoma Bolzano / Bozen\", \"Provincia Autonoma Bolzano / Bozen\", \"Provincia Autonoma Bolzano / Bozen\", \"Provincia Autonoma Bolzano / Bozen\", \"Provincia Autonoma Bolzano / Bozen\", \"Provincia Autonoma Bolzano / Bozen\", \"Provincia Autonoma Bolzano / Bozen\", \"Provincia Autonoma Bolzano / Bozen\", \"Provincia Autonoma Bolzano / Bozen\", \"Provincia Autonoma Bolzano / Bozen\", \"Provincia Autonoma Bolzano / Bozen\", \"Provincia Autonoma Bolzano / Bozen\", \"Provincia Autonoma Bolzano / Bozen\", \"Provincia Autonoma Bolzano / Bozen\", \"Provincia Autonoma Bolzano / Bozen\", \"Provincia Autonoma Bolzano / Bozen\", \"Provincia Autonoma Bolzano / Bozen\", \"Provincia Autonoma Bolzano / Bozen\", \"Provincia Autonoma Bolzano / Bozen\", \"Provincia Autonoma Bolzano / Bozen\", \"Provincia Autonoma Bolzano / Bozen\", \"Provincia Autonoma Bolzano / Bozen\", \"Provincia Autonoma Bolzano / Bozen\"], \"legendgroup\": \"Nord\", \"line\": {\"color\": \"darkblue\", \"dash\": \"solid\"}, \"mode\": \"lines\", \"name\": \"Nord\", \"orientation\": \"v\", \"showlegend\": false, \"type\": \"scatter\", \"x\": [\"1996\", \"1997\", \"1998\", \"1999\", \"2000\", \"2001\", \"2002\", \"2003\", \"2004\", \"2005\", \"2006\", \"2007\", \"2008\", \"2009\", \"2010\", \"2011\", \"2012\", \"2013\", \"2014\", \"2015\", \"2016\", \"2017\", \"2018\"], \"xaxis\": \"x\", \"y\": [63.41215850001149, 63.22680419126754, 63.92495402715582, 63.73724140628055, 65.45039612232492, 65.46559203231685, 66.94911141523261, 68.27218626387597, 69.1740564074655, 69.02312561631199, 69.4959952498863, 69.68520860067959, 70.42289896290028, 70.37434511254477, 71.01803617063102, 70.99543468117484, 71.8053722831445, 71.44071065255648, 70.844054890378, 71.37805704797202, 72.68077454389558, 72.89322056492824, 73.5222390308778], \"yaxis\": \"y\"}, {\"hovertemplate\": \"<b>%{hovertext}</b><br><br>Zona d'Italia=Nord<br>line_group=Provincia Autonoma Trento<br>Anno di riferimento=%{x}<br>Tasso di Occupazione=%{y}<extra></extra>\", \"hovertext\": [\"Provincia Autonoma Trento\", \"Provincia Autonoma Trento\", \"Provincia Autonoma Trento\", \"Provincia Autonoma Trento\", \"Provincia Autonoma Trento\", \"Provincia Autonoma Trento\", \"Provincia Autonoma Trento\", \"Provincia Autonoma Trento\", \"Provincia Autonoma Trento\", \"Provincia Autonoma Trento\", \"Provincia Autonoma Trento\", \"Provincia Autonoma Trento\", \"Provincia Autonoma Trento\", \"Provincia Autonoma Trento\", \"Provincia Autonoma Trento\", \"Provincia Autonoma Trento\", \"Provincia Autonoma Trento\", \"Provincia Autonoma Trento\", \"Provincia Autonoma Trento\", \"Provincia Autonoma Trento\", \"Provincia Autonoma Trento\", \"Provincia Autonoma Trento\", \"Provincia Autonoma Trento\"], \"legendgroup\": \"Nord\", \"line\": {\"color\": \"darkblue\", \"dash\": \"solid\"}, \"mode\": \"lines\", \"name\": \"Nord\", \"orientation\": \"v\", \"showlegend\": false, \"type\": \"scatter\", \"x\": [\"1996\", \"1997\", \"1998\", \"1999\", \"2000\", \"2001\", \"2002\", \"2003\", \"2004\", \"2005\", \"2006\", \"2007\", \"2008\", \"2009\", \"2010\", \"2011\", \"2012\", \"2013\", \"2014\", \"2015\", \"2016\", \"2017\", \"2018\"], \"xaxis\": \"x\", \"y\": [62.58002209288054, 62.83964569629179, 63.82803354660766, 64.89169761552733, 66.37180803876618, 66.27252091821714, 65.72540061650297, 66.12651760389208, 65.64033650913572, 65.057015095659, 65.36431478554823, 66.28254478222654, 66.68156793327434, 66.51620174194373, 65.89864336221785, 65.9235023988028, 65.3791100872584, 65.51379162498213, 65.89123155117086, 66.08388454162653, 66.04361279945921, 67.55032812536491, 68.2056730550318], \"yaxis\": \"y\"}, {\"hovertemplate\": \"<b>%{hovertext}</b><br><br>Zona d'Italia=Nord<br>line_group=Trentino Alto Adige / S\\u00fcdtirol<br>Anno di riferimento=%{x}<br>Tasso di Occupazione=%{y}<extra></extra>\", \"hovertext\": [\"Trentino Alto Adige / S\\u00fcdtirol\", \"Trentino Alto Adige / S\\u00fcdtirol\", \"Trentino Alto Adige / S\\u00fcdtirol\", \"Trentino Alto Adige / S\\u00fcdtirol\", \"Trentino Alto Adige / S\\u00fcdtirol\", \"Trentino Alto Adige / S\\u00fcdtirol\", \"Trentino Alto Adige / S\\u00fcdtirol\", \"Trentino Alto Adige / S\\u00fcdtirol\", \"Trentino Alto Adige / S\\u00fcdtirol\", \"Trentino Alto Adige / S\\u00fcdtirol\", \"Trentino Alto Adige / S\\u00fcdtirol\", \"Trentino Alto Adige / S\\u00fcdtirol\", \"Trentino Alto Adige / S\\u00fcdtirol\", \"Trentino Alto Adige / S\\u00fcdtirol\", \"Trentino Alto Adige / S\\u00fcdtirol\", \"Trentino Alto Adige / S\\u00fcdtirol\", \"Trentino Alto Adige / S\\u00fcdtirol\", \"Trentino Alto Adige / S\\u00fcdtirol\", \"Trentino Alto Adige / S\\u00fcdtirol\", \"Trentino Alto Adige / S\\u00fcdtirol\", \"Trentino Alto Adige / S\\u00fcdtirol\", \"Trentino Alto Adige / S\\u00fcdtirol\", \"Trentino Alto Adige / S\\u00fcdtirol\"], \"legendgroup\": \"Nord\", \"line\": {\"color\": \"darkblue\", \"dash\": \"solid\"}, \"mode\": \"lines\", \"name\": \"Nord\", \"orientation\": \"v\", \"showlegend\": false, \"type\": \"scatter\", \"x\": [\"1996\", \"1997\", \"1998\", \"1999\", \"2000\", \"2001\", \"2002\", \"2003\", \"2004\", \"2005\", \"2006\", \"2007\", \"2008\", \"2009\", \"2010\", \"2011\", \"2012\", \"2013\", \"2014\", \"2015\", \"2016\", \"2017\", \"2018\"], \"xaxis\": \"x\", \"y\": [62.99242220669641, 63.031535254885206, 63.87615439759339, 64.32043767600749, 65.91631343161225, 65.87369597913887, 66.32957210128491, 67.18450700425477, 67.37773734403848, 67.00389117209849, 67.39433046085374, 67.95447152466126, 68.51815079687543, 68.40739264040847, 68.40767035190403, 68.41059246121591, 68.53492709494044, 68.4289857821872, 68.33148845103682, 68.69664544275439, 69.32655366233293, 70.20218580038434, 70.85034317960785], \"yaxis\": \"y\"}, {\"hovertemplate\": \"<b>%{hovertext}</b><br><br>Zona d'Italia=Nord<br>line_group=Valle d'Aosta / Vall\\u00e9e d'Aoste<br>Anno di riferimento=%{x}<br>Tasso di Occupazione=%{y}<extra></extra>\", \"hovertext\": [\"Valle d'Aosta / Vall\\u00e9e d'Aoste\", \"Valle d'Aosta / Vall\\u00e9e d'Aoste\", \"Valle d'Aosta / Vall\\u00e9e d'Aoste\", \"Valle d'Aosta / Vall\\u00e9e d'Aoste\", \"Valle d'Aosta / Vall\\u00e9e d'Aoste\", \"Valle d'Aosta / Vall\\u00e9e d'Aoste\", \"Valle d'Aosta / Vall\\u00e9e d'Aoste\", \"Valle d'Aosta / Vall\\u00e9e d'Aoste\", \"Valle d'Aosta / Vall\\u00e9e d'Aoste\", \"Valle d'Aosta / Vall\\u00e9e d'Aoste\", \"Valle d'Aosta / Vall\\u00e9e d'Aoste\", \"Valle d'Aosta / Vall\\u00e9e d'Aoste\", \"Valle d'Aosta / Vall\\u00e9e d'Aoste\", \"Valle d'Aosta / Vall\\u00e9e d'Aoste\", \"Valle d'Aosta / Vall\\u00e9e d'Aoste\", \"Valle d'Aosta / Vall\\u00e9e d'Aoste\", \"Valle d'Aosta / Vall\\u00e9e d'Aoste\", \"Valle d'Aosta / Vall\\u00e9e d'Aoste\", \"Valle d'Aosta / Vall\\u00e9e d'Aoste\", \"Valle d'Aosta / Vall\\u00e9e d'Aoste\", \"Valle d'Aosta / Vall\\u00e9e d'Aoste\", \"Valle d'Aosta / Vall\\u00e9e d'Aoste\", \"Valle d'Aosta / Vall\\u00e9e d'Aoste\"], \"legendgroup\": \"Nord\", \"line\": {\"color\": \"darkblue\", \"dash\": \"solid\"}, \"mode\": \"lines\", \"name\": \"Nord\", \"orientation\": \"v\", \"showlegend\": false, \"type\": \"scatter\", \"x\": [\"1996\", \"1997\", \"1998\", \"1999\", \"2000\", \"2001\", \"2002\", \"2003\", \"2004\", \"2005\", \"2006\", \"2007\", \"2008\", \"2009\", \"2010\", \"2011\", \"2012\", \"2013\", \"2014\", \"2015\", \"2016\", \"2017\", \"2018\"], \"xaxis\": \"x\", \"y\": [65.91238544507506, 66.44390291931276, 66.20165728849872, 66.3229351468559, 68.79972327914217, 70.00606563262073, 70.69213594641528, 67.52248690323218, 67.15598358843329, 66.41814759588355, 67.01526698970027, 68.18712596701212, 67.84383684664022, 66.82473651656095, 67.3412124819318, 66.88036787426097, 66.32290662338139, 65.61629781620988, 66.16930647017062, 66.18561278863233, 66.43084894380232, 67.07248195795418, 67.87480240278217], \"yaxis\": \"y\"}, {\"hovertemplate\": \"<b>%{hovertext}</b><br><br>Zona d'Italia=Nord<br>line_group=Veneto<br>Anno di riferimento=%{x}<br>Tasso di Occupazione=%{y}<extra></extra>\", \"hovertext\": [\"Veneto\", \"Veneto\", \"Veneto\", \"Veneto\", \"Veneto\", \"Veneto\", \"Veneto\", \"Veneto\", \"Veneto\", \"Veneto\", \"Veneto\", \"Veneto\", \"Veneto\", \"Veneto\", \"Veneto\", \"Veneto\", \"Veneto\", \"Veneto\", \"Veneto\", \"Veneto\", \"Veneto\", \"Veneto\", \"Veneto\"], \"legendgroup\": \"Nord\", \"line\": {\"color\": \"darkblue\", \"dash\": \"solid\"}, \"mode\": \"lines\", \"name\": \"Nord\", \"orientation\": \"v\", \"showlegend\": false, \"type\": \"scatter\", \"x\": [\"1996\", \"1997\", \"1998\", \"1999\", \"2000\", \"2001\", \"2002\", \"2003\", \"2004\", \"2005\", \"2006\", \"2007\", \"2008\", \"2009\", \"2010\", \"2011\", \"2012\", \"2013\", \"2014\", \"2015\", \"2016\", \"2017\", \"2018\"], \"xaxis\": \"x\", \"y\": [59.2461853903078, 60.02693516321427, 60.46507163083227, 61.35193942666085, 62.82751221295372, 63.6776529618447, 63.88294862180928, 64.6844731321231, 64.39525349651471, 64.6284223251216, 65.28159791691373, 65.69468131242027, 66.44839449179666, 64.57746516437358, 64.36675025550328, 64.88681035991478, 64.90730883479131, 63.05321947249457, 63.71517914175653, 63.61311292777951, 64.73510713294971, 66.03763821915564, 66.64898476881105], \"yaxis\": \"y\"}, {\"hovertemplate\": \"<b>%{hovertext}</b><br><br>Zona d'Italia=Centro<br>line_group=Lazio<br>Anno di riferimento=%{x}<br>Tasso di Occupazione=%{y}<extra></extra>\", \"hovertext\": [\"Lazio\", \"Lazio\", \"Lazio\", \"Lazio\", \"Lazio\", \"Lazio\", \"Lazio\", \"Lazio\", \"Lazio\", \"Lazio\", \"Lazio\", \"Lazio\", \"Lazio\", \"Lazio\", \"Lazio\", \"Lazio\", \"Lazio\", \"Lazio\", \"Lazio\", \"Lazio\", \"Lazio\", \"Lazio\", \"Lazio\"], \"legendgroup\": \"Centro\", \"line\": {\"color\": \"DarkGoldenrod\", \"dash\": \"solid\"}, \"mode\": \"lines\", \"name\": \"Centro\", \"orientation\": \"v\", \"showlegend\": true, \"type\": \"scatter\", \"x\": [\"1996\", \"1997\", \"1998\", \"1999\", \"2000\", \"2001\", \"2002\", \"2003\", \"2004\", \"2005\", \"2006\", \"2007\", \"2008\", \"2009\", \"2010\", \"2011\", \"2012\", \"2013\", \"2014\", \"2015\", \"2016\", \"2017\", \"2018\"], \"xaxis\": \"x\", \"y\": [50.38577888925959, 50.71951573658732, 51.091051571753084, 51.771669201743144, 52.732348483653624, 53.7049649018791, 55.606295180949175, 57.16706760210566, 58.730302882252694, 58.51703086301282, 59.38128306934828, 59.51409132328204, 60.228552033309924, 59.515639195615385, 59.12502104146535, 58.83515661748314, 58.830195930886276, 57.74939243181397, 58.76462235868685, 58.97680542651713, 59.90611470481705, 60.883121437048025, 60.90738181233459], \"yaxis\": \"y\"}, {\"hovertemplate\": \"<b>%{hovertext}</b><br><br>Zona d'Italia=Centro<br>line_group=Marche<br>Anno di riferimento=%{x}<br>Tasso di Occupazione=%{y}<extra></extra>\", \"hovertext\": [\"Marche\", \"Marche\", \"Marche\", \"Marche\", \"Marche\", \"Marche\", \"Marche\", \"Marche\", \"Marche\", \"Marche\", \"Marche\", \"Marche\", \"Marche\", \"Marche\", \"Marche\", \"Marche\", \"Marche\", \"Marche\", \"Marche\", \"Marche\", \"Marche\", \"Marche\", \"Marche\"], \"legendgroup\": \"Centro\", \"line\": {\"color\": \"DarkGoldenrod\", \"dash\": \"solid\"}, \"mode\": \"lines\", \"name\": \"Centro\", \"orientation\": \"v\", \"showlegend\": false, \"type\": \"scatter\", \"x\": [\"1996\", \"1997\", \"1998\", \"1999\", \"2000\", \"2001\", \"2002\", \"2003\", \"2004\", \"2005\", \"2006\", \"2007\", \"2008\", \"2009\", \"2010\", \"2011\", \"2012\", \"2013\", \"2014\", \"2015\", \"2016\", \"2017\", \"2018\"], \"xaxis\": \"x\", \"y\": [59.114353743348545, 58.21222750533697, 59.04845811286046, 60.86516185520799, 61.948538077862324, 62.54764853623068, 63.625988782046264, 64.09835024786352, 63.94769279686826, 63.45601901347062, 64.35658696854098, 64.80982923441458, 64.7091910669474, 63.62459151513209, 63.73006519748922, 62.441302678348286, 62.58250398190137, 61.051650749037975, 62.39773590143456, 62.14469395611446, 62.22628321941065, 62.18386453313144, 64.66219213162498], \"yaxis\": \"y\"}, {\"hovertemplate\": \"<b>%{hovertext}</b><br><br>Zona d'Italia=Centro<br>line_group=Toscana<br>Anno di riferimento=%{x}<br>Tasso di Occupazione=%{y}<extra></extra>\", \"hovertext\": [\"Toscana\", \"Toscana\", \"Toscana\", \"Toscana\", \"Toscana\", \"Toscana\", \"Toscana\", \"Toscana\", \"Toscana\", \"Toscana\", \"Toscana\", \"Toscana\", \"Toscana\", \"Toscana\", \"Toscana\", \"Toscana\", \"Toscana\", \"Toscana\", \"Toscana\", \"Toscana\", \"Toscana\", \"Toscana\", \"Toscana\"], \"legendgroup\": \"Centro\", \"line\": {\"color\": \"DarkGoldenrod\", \"dash\": \"solid\"}, \"mode\": \"lines\", \"name\": \"Centro\", \"orientation\": \"v\", \"showlegend\": false, \"type\": \"scatter\", \"x\": [\"1996\", \"1997\", \"1998\", \"1999\", \"2000\", \"2001\", \"2002\", \"2003\", \"2004\", \"2005\", \"2006\", \"2007\", \"2008\", \"2009\", \"2010\", \"2011\", \"2012\", \"2013\", \"2014\", \"2015\", \"2016\", \"2017\", \"2018\"], \"xaxis\": \"x\", \"y\": [58.89606902492728, 59.00964413336675, 59.975845431442984, 61.1261999521598, 62.6115781254137, 63.857461924689105, 64.19349345721757, 63.78625278246191, 63.28515222486507, 63.712366973971726, 64.68017152279567, 64.65971154648203, 65.25311002161854, 64.71320035279567, 63.70980385510108, 63.56544193689607, 63.74224235099203, 63.71579888833217, 63.80196463587021, 64.81351130968237, 65.3234943434551, 66.0273838053607, 66.52810649162268], \"yaxis\": \"y\"}, {\"hovertemplate\": \"<b>%{hovertext}</b><br><br>Zona d'Italia=Centro<br>line_group=Umbria<br>Anno di riferimento=%{x}<br>Tasso di Occupazione=%{y}<extra></extra>\", \"hovertext\": [\"Umbria\", \"Umbria\", \"Umbria\", \"Umbria\", \"Umbria\", \"Umbria\", \"Umbria\", \"Umbria\", \"Umbria\", \"Umbria\", \"Umbria\", \"Umbria\", \"Umbria\", \"Umbria\", \"Umbria\", \"Umbria\", \"Umbria\", \"Umbria\", \"Umbria\", \"Umbria\", \"Umbria\", \"Umbria\", \"Umbria\"], \"legendgroup\": \"Centro\", \"line\": {\"color\": \"DarkGoldenrod\", \"dash\": \"solid\"}, \"mode\": \"lines\", \"name\": \"Centro\", \"orientation\": \"v\", \"showlegend\": false, \"type\": \"scatter\", \"x\": [\"1996\", \"1997\", \"1998\", \"1999\", \"2000\", \"2001\", \"2002\", \"2003\", \"2004\", \"2005\", \"2006\", \"2007\", \"2008\", \"2009\", \"2010\", \"2011\", \"2012\", \"2013\", \"2014\", \"2015\", \"2016\", \"2017\", \"2018\"], \"xaxis\": \"x\", \"y\": [57.30364734840009, 57.67166510056959, 58.28927114564182, 60.802325211199815, 62.61792099106125, 63.22960808311014, 62.27653641753679, 60.965653810586886, 61.38257186787081, 61.62180965510133, 62.789249480604646, 64.55944906184138, 65.29967027859017, 62.85624652671961, 62.583353694314205, 62.24988575604604, 61.49885288238885, 60.89721443606666, 61.02204444635089, 63.10313378628517, 62.728602779809805, 62.94327047434375, 63.044003514423785], \"yaxis\": \"y\"}, {\"hovertemplate\": \"<b>%{hovertext}</b><br><br>Zona d'Italia=Sud<br>line_group=Abruzzo<br>Anno di riferimento=%{x}<br>Tasso di Occupazione=%{y}<extra></extra>\", \"hovertext\": [\"Abruzzo\", \"Abruzzo\", \"Abruzzo\", \"Abruzzo\", \"Abruzzo\", \"Abruzzo\", \"Abruzzo\", \"Abruzzo\", \"Abruzzo\", \"Abruzzo\", \"Abruzzo\", \"Abruzzo\", \"Abruzzo\", \"Abruzzo\", \"Abruzzo\", \"Abruzzo\", \"Abruzzo\", \"Abruzzo\", \"Abruzzo\", \"Abruzzo\", \"Abruzzo\", \"Abruzzo\", \"Abruzzo\"], \"legendgroup\": \"Sud\", \"line\": {\"color\": \"crimson\", \"dash\": \"solid\"}, \"mode\": \"lines\", \"name\": \"Sud\", \"orientation\": \"v\", \"showlegend\": true, \"type\": \"scatter\", \"x\": [\"1996\", \"1997\", \"1998\", \"1999\", \"2000\", \"2001\", \"2002\", \"2003\", \"2004\", \"2005\", \"2006\", \"2007\", \"2008\", \"2009\", \"2010\", \"2011\", \"2012\", \"2013\", \"2014\", \"2015\", \"2016\", \"2017\", \"2018\"], \"xaxis\": \"x\", \"y\": [56.01269746496099, 55.730080391741055, 55.44264132524239, 54.9928586347738, 56.31064439925625, 58.53662672257386, 59.20962561532189, 57.99203139148808, 56.40573762150423, 57.058133658787746, 57.6489829684508, 57.933096418615534, 58.807943618702566, 55.72250842898529, 55.3755758907206, 56.628213378336845, 56.661084596598435, 54.95403343065255, 53.945744989834445, 54.50147605657496, 55.73094634570936, 56.806653772493696, 58.013003484953074], \"yaxis\": \"y\"}, {\"hovertemplate\": \"<b>%{hovertext}</b><br><br>Zona d'Italia=Sud<br>line_group=Basilicata<br>Anno di riferimento=%{x}<br>Tasso di Occupazione=%{y}<extra></extra>\", \"hovertext\": [\"Basilicata\", \"Basilicata\", \"Basilicata\", \"Basilicata\", \"Basilicata\", \"Basilicata\", \"Basilicata\", \"Basilicata\", \"Basilicata\", \"Basilicata\", \"Basilicata\", \"Basilicata\", \"Basilicata\", \"Basilicata\", \"Basilicata\", \"Basilicata\", \"Basilicata\", \"Basilicata\", \"Basilicata\", \"Basilicata\", \"Basilicata\", \"Basilicata\", \"Basilicata\"], \"legendgroup\": \"Sud\", \"line\": {\"color\": \"crimson\", \"dash\": \"solid\"}, \"mode\": \"lines\", \"name\": \"Sud\", \"orientation\": \"v\", \"showlegend\": false, \"type\": \"scatter\", \"x\": [\"1996\", \"1997\", \"1998\", \"1999\", \"2000\", \"2001\", \"2002\", \"2003\", \"2004\", \"2005\", \"2006\", \"2007\", \"2008\", \"2009\", \"2010\", \"2011\", \"2012\", \"2013\", \"2014\", \"2015\", \"2016\", \"2017\", \"2018\"], \"xaxis\": \"x\", \"y\": [45.061381093185744, 46.18861537695697, 46.556486223695295, 47.27602296839331, 49.18316725285784, 48.63262924228208, 49.609033399645085, 49.627729109041084, 49.129930245183935, 49.16422673544949, 50.23396242075885, 49.53019889807449, 49.61185768288124, 48.384240239741146, 47.06478943563445, 47.611829906035794, 46.82904279741027, 46.17887030658617, 47.188266632974305, 49.19340735048623, 50.326368493636686, 49.49463690818968, 49.38840578135778], \"yaxis\": \"y\"}, {\"hovertemplate\": \"<b>%{hovertext}</b><br><br>Zona d'Italia=Sud<br>line_group=Calabria<br>Anno di riferimento=%{x}<br>Tasso di Occupazione=%{y}<extra></extra>\", \"hovertext\": [\"Calabria\", \"Calabria\", \"Calabria\", \"Calabria\", \"Calabria\", \"Calabria\", \"Calabria\", \"Calabria\", \"Calabria\", \"Calabria\", \"Calabria\", \"Calabria\", \"Calabria\", \"Calabria\", \"Calabria\", \"Calabria\", \"Calabria\", \"Calabria\", \"Calabria\", \"Calabria\", \"Calabria\", \"Calabria\", \"Calabria\"], \"legendgroup\": \"Sud\", \"line\": {\"color\": \"crimson\", \"dash\": \"solid\"}, \"mode\": \"lines\", \"name\": \"Sud\", \"orientation\": \"v\", \"showlegend\": false, \"type\": \"scatter\", \"x\": [\"1996\", \"1997\", \"1998\", \"1999\", \"2000\", \"2001\", \"2002\", \"2003\", \"2004\", \"2005\", \"2006\", \"2007\", \"2008\", \"2009\", \"2010\", \"2011\", \"2012\", \"2013\", \"2014\", \"2015\", \"2016\", \"2017\", \"2018\"], \"xaxis\": \"x\", \"y\": [42.067390858181604, 41.94982415074809, 42.40159372077557, 42.02071319725932, 43.05819717522527, 44.29469597429535, 45.27910375207954, 45.207944835516486, 46.153607890716955, 44.51882006866843, 45.44828891188041, 44.85430049404954, 44.02132005481344, 43.00418509849681, 42.10342319638673, 42.436235239709255, 41.470505021387325, 38.949236641221376, 39.31185373528202, 38.91355047662694, 39.62746032827079, 40.83779221730572, 42.152181834173064], \"yaxis\": \"y\"}, {\"hovertemplate\": \"<b>%{hovertext}</b><br><br>Zona d'Italia=Sud<br>line_group=Campania<br>Anno di riferimento=%{x}<br>Tasso di Occupazione=%{y}<extra></extra>\", \"hovertext\": [\"Campania\", \"Campania\", \"Campania\", \"Campania\", \"Campania\", \"Campania\", \"Campania\", \"Campania\", \"Campania\", \"Campania\", \"Campania\", \"Campania\", \"Campania\", \"Campania\", \"Campania\", \"Campania\", \"Campania\", \"Campania\", \"Campania\", \"Campania\", \"Campania\", \"Campania\", \"Campania\"], \"legendgroup\": \"Sud\", \"line\": {\"color\": \"crimson\", \"dash\": \"solid\"}, \"mode\": \"lines\", \"name\": \"Sud\", \"orientation\": \"v\", \"showlegend\": false, \"type\": \"scatter\", \"x\": [\"1996\", \"1997\", \"1998\", \"1999\", \"2000\", \"2001\", \"2002\", \"2003\", \"2004\", \"2005\", \"2006\", \"2007\", \"2008\", \"2009\", \"2010\", \"2011\", \"2012\", \"2013\", \"2014\", \"2015\", \"2016\", \"2017\", \"2018\"], \"xaxis\": \"x\", \"y\": [42.28737369201352, 42.45687496113133, 43.547884079910624, 43.30305867112907, 43.34845269861897, 44.09262708050536, 45.47075448567809, 45.7700197235566, 45.23416323016598, 44.04637067555537, 44.115417451148396, 43.666479158172876, 42.398161151105015, 40.76750471264707, 39.78443202447002, 39.35335326152051, 39.8906844869348, 39.70944365384263, 39.170285752652894, 39.576877212001406, 41.16202091394995, 42.04875369713995, 41.641068427612375], \"yaxis\": \"y\"}, {\"hovertemplate\": \"<b>%{hovertext}</b><br><br>Zona d'Italia=Sud<br>line_group=Molise<br>Anno di riferimento=%{x}<br>Tasso di Occupazione=%{y}<extra></extra>\", \"hovertext\": [\"Molise\", \"Molise\", \"Molise\", \"Molise\", \"Molise\", \"Molise\", \"Molise\", \"Molise\", \"Molise\", \"Molise\", \"Molise\", \"Molise\", \"Molise\", \"Molise\", \"Molise\", \"Molise\", \"Molise\", \"Molise\", \"Molise\", \"Molise\", \"Molise\", \"Molise\", \"Molise\"], \"legendgroup\": \"Sud\", \"line\": {\"color\": \"crimson\", \"dash\": \"solid\"}, \"mode\": \"lines\", \"name\": \"Sud\", \"orientation\": \"v\", \"showlegend\": false, \"type\": \"scatter\", \"x\": [\"1996\", \"1997\", \"1998\", \"1999\", \"2000\", \"2001\", \"2002\", \"2003\", \"2004\", \"2005\", \"2006\", \"2007\", \"2008\", \"2009\", \"2010\", \"2011\", \"2012\", \"2013\", \"2014\", \"2015\", \"2016\", \"2017\", \"2018\"], \"xaxis\": \"x\", \"y\": [49.534269493946915, 49.92960009071666, 50.17916207276737, 50.440831049048725, 51.775626281193766, 53.01519445223565, 53.278000242689, 51.790946310417766, 52.110123748703884, 51.2096009799299, 52.35075154773462, 53.59359535058337, 54.11724756845909, 52.179034157832746, 51.01333955133249, 50.26954112267408, 50.61991845105843, 47.57247386248662, 48.484387572861266, 49.38267331873043, 51.86143560135812, 51.708712823406145, 53.45486261648398], \"yaxis\": \"y\"}, {\"hovertemplate\": \"<b>%{hovertext}</b><br><br>Zona d'Italia=Sud<br>line_group=Puglia<br>Anno di riferimento=%{x}<br>Tasso di Occupazione=%{y}<extra></extra>\", \"hovertext\": [\"Puglia\", \"Puglia\", \"Puglia\", \"Puglia\", \"Puglia\", \"Puglia\", \"Puglia\", \"Puglia\", \"Puglia\", \"Puglia\", \"Puglia\", \"Puglia\", \"Puglia\", \"Puglia\", \"Puglia\", \"Puglia\", \"Puglia\", \"Puglia\", \"Puglia\", \"Puglia\", \"Puglia\", \"Puglia\", \"Puglia\"], \"legendgroup\": \"Sud\", \"line\": {\"color\": \"crimson\", \"dash\": \"solid\"}, \"mode\": \"lines\", \"name\": \"Sud\", \"orientation\": \"v\", \"showlegend\": false, \"type\": \"scatter\", \"x\": [\"1996\", \"1997\", \"1998\", \"1999\", \"2000\", \"2001\", \"2002\", \"2003\", \"2004\", \"2005\", \"2006\", \"2007\", \"2008\", \"2009\", \"2010\", \"2011\", \"2012\", \"2013\", \"2014\", \"2015\", \"2016\", \"2017\", \"2018\"], \"xaxis\": \"x\", \"y\": [42.806000234657446, 42.1578050480392, 42.63774363195315, 43.439563573553116, 44.53775762144479, 45.4245139999121, 46.22601525562443, 45.416338372768095, 45.10304684350859, 44.3929082670831, 45.67876216347743, 46.59317008585971, 46.57913289853759, 44.90942326764622, 44.31301967835235, 44.717406032615436, 44.88059662995457, 42.333333704141666, 42.13890570045007, 43.29481774349951, 44.276280379794756, 44.51721893002306, 45.54416486477521], \"yaxis\": \"y\"}, {\"hovertemplate\": \"<b>%{hovertext}</b><br><br>Zona d'Italia=Isole<br>line_group=Sardegna<br>Anno di riferimento=%{x}<br>Tasso di Occupazione=%{y}<extra></extra>\", \"hovertext\": [\"Sardegna\", \"Sardegna\", \"Sardegna\", \"Sardegna\", \"Sardegna\", \"Sardegna\", \"Sardegna\", \"Sardegna\", \"Sardegna\", \"Sardegna\", \"Sardegna\", \"Sardegna\", \"Sardegna\", \"Sardegna\", \"Sardegna\", \"Sardegna\", \"Sardegna\", \"Sardegna\", \"Sardegna\", \"Sardegna\", \"Sardegna\", \"Sardegna\", \"Sardegna\"], \"legendgroup\": \"Isole\", \"line\": {\"color\": \"Darkcyan\", \"dash\": \"solid\"}, \"mode\": \"lines\", \"name\": \"Isole\", \"orientation\": \"v\", \"showlegend\": true, \"type\": \"scatter\", \"x\": [\"1996\", \"1997\", \"1998\", \"1999\", \"2000\", \"2001\", \"2002\", \"2003\", \"2004\", \"2005\", \"2006\", \"2007\", \"2008\", \"2009\", \"2010\", \"2011\", \"2012\", \"2013\", \"2014\", \"2015\", \"2016\", \"2017\", \"2018\"], \"xaxis\": \"x\", \"y\": [47.192378619470496, 48.06097017397503, 48.69643725258698, 49.58357232194224, 49.67398932325944, 51.617997475353185, 52.37152882998019, 51.22987004201913, 51.487865685356425, 51.397359892220386, 52.10160937943584, 52.77565036934555, 52.32506742682303, 50.783691026565435, 50.96596397270589, 51.718085760030775, 51.71301649120672, 48.317612971947646, 48.554510308929224, 50.14760948953195, 50.29886075926194, 50.45695583191265, 52.73463038212919], \"yaxis\": \"y\"}, {\"hovertemplate\": \"<b>%{hovertext}</b><br><br>Zona d'Italia=Isole<br>line_group=Sicilia<br>Anno di riferimento=%{x}<br>Tasso di Occupazione=%{y}<extra></extra>\", \"hovertext\": [\"Sicilia\", \"Sicilia\", \"Sicilia\", \"Sicilia\", \"Sicilia\", \"Sicilia\", \"Sicilia\", \"Sicilia\", \"Sicilia\", \"Sicilia\", \"Sicilia\", \"Sicilia\", \"Sicilia\", \"Sicilia\", \"Sicilia\", \"Sicilia\", \"Sicilia\", \"Sicilia\", \"Sicilia\", \"Sicilia\", \"Sicilia\", \"Sicilia\", \"Sicilia\"], \"legendgroup\": \"Isole\", \"line\": {\"color\": \"Darkcyan\", \"dash\": \"solid\"}, \"mode\": \"lines\", \"name\": \"Isole\", \"orientation\": \"v\", \"showlegend\": false, \"type\": \"scatter\", \"x\": [\"1996\", \"1997\", \"1998\", \"1999\", \"2000\", \"2001\", \"2002\", \"2003\", \"2004\", \"2005\", \"2006\", \"2007\", \"2008\", \"2009\", \"2010\", \"2011\", \"2012\", \"2013\", \"2014\", \"2015\", \"2016\", \"2017\", \"2018\"], \"xaxis\": \"x\", \"y\": [39.76826536338623, 40.152976811282684, 41.136882480636125, 41.263147023399995, 41.87037986748929, 43.28398315802603, 43.88376957708116, 43.255651068683434, 43.328926234697704, 44.08383824542375, 45.01780753951615, 44.55431575311309, 44.14677838914622, 43.57446616541353, 42.683882388862735, 42.37444811083778, 41.29860799603608, 39.329117767658936, 39.01483640455087, 39.97773049270459, 40.102633779453726, 40.62769354340627, 40.67349545182057], \"yaxis\": \"y\"}],                        {\"legend\": {\"title\": {\"text\": \"Zona d'Italia\"}, \"tracegroupgap\": 0}, \"template\": {\"data\": {\"bar\": [{\"error_x\": {\"color\": \"#2a3f5f\"}, \"error_y\": {\"color\": \"#2a3f5f\"}, \"marker\": {\"line\": {\"color\": \"white\", \"width\": 0.5}}, \"type\": \"bar\"}], \"barpolar\": [{\"marker\": {\"line\": {\"color\": \"white\", \"width\": 0.5}}, \"type\": \"barpolar\"}], \"carpet\": [{\"aaxis\": {\"endlinecolor\": \"#2a3f5f\", \"gridcolor\": \"#C8D4E3\", \"linecolor\": \"#C8D4E3\", \"minorgridcolor\": \"#C8D4E3\", \"startlinecolor\": \"#2a3f5f\"}, \"baxis\": {\"endlinecolor\": \"#2a3f5f\", \"gridcolor\": \"#C8D4E3\", \"linecolor\": \"#C8D4E3\", \"minorgridcolor\": \"#C8D4E3\", \"startlinecolor\": \"#2a3f5f\"}, \"type\": \"carpet\"}], \"choropleth\": [{\"colorbar\": {\"outlinewidth\": 0, \"ticks\": \"\"}, \"type\": \"choropleth\"}], \"contour\": [{\"colorbar\": {\"outlinewidth\": 0, \"ticks\": \"\"}, \"colorscale\": [[0.0, \"#0d0887\"], [0.1111111111111111, \"#46039f\"], [0.2222222222222222, \"#7201a8\"], [0.3333333333333333, \"#9c179e\"], [0.4444444444444444, \"#bd3786\"], [0.5555555555555556, \"#d8576b\"], [0.6666666666666666, \"#ed7953\"], [0.7777777777777778, \"#fb9f3a\"], [0.8888888888888888, \"#fdca26\"], [1.0, \"#f0f921\"]], \"type\": \"contour\"}], \"contourcarpet\": [{\"colorbar\": {\"outlinewidth\": 0, \"ticks\": \"\"}, \"type\": \"contourcarpet\"}], \"heatmap\": [{\"colorbar\": {\"outlinewidth\": 0, \"ticks\": \"\"}, \"colorscale\": [[0.0, \"#0d0887\"], [0.1111111111111111, \"#46039f\"], [0.2222222222222222, \"#7201a8\"], [0.3333333333333333, \"#9c179e\"], [0.4444444444444444, \"#bd3786\"], [0.5555555555555556, \"#d8576b\"], [0.6666666666666666, \"#ed7953\"], [0.7777777777777778, \"#fb9f3a\"], [0.8888888888888888, \"#fdca26\"], [1.0, \"#f0f921\"]], \"type\": \"heatmap\"}], \"heatmapgl\": [{\"colorbar\": {\"outlinewidth\": 0, \"ticks\": \"\"}, \"colorscale\": [[0.0, \"#0d0887\"], [0.1111111111111111, \"#46039f\"], [0.2222222222222222, \"#7201a8\"], [0.3333333333333333, \"#9c179e\"], [0.4444444444444444, \"#bd3786\"], [0.5555555555555556, \"#d8576b\"], [0.6666666666666666, \"#ed7953\"], [0.7777777777777778, \"#fb9f3a\"], [0.8888888888888888, \"#fdca26\"], [1.0, \"#f0f921\"]], \"type\": \"heatmapgl\"}], \"histogram\": [{\"marker\": {\"colorbar\": {\"outlinewidth\": 0, \"ticks\": \"\"}}, \"type\": \"histogram\"}], \"histogram2d\": [{\"colorbar\": {\"outlinewidth\": 0, \"ticks\": \"\"}, \"colorscale\": [[0.0, \"#0d0887\"], [0.1111111111111111, \"#46039f\"], [0.2222222222222222, \"#7201a8\"], [0.3333333333333333, \"#9c179e\"], [0.4444444444444444, \"#bd3786\"], [0.5555555555555556, \"#d8576b\"], [0.6666666666666666, \"#ed7953\"], [0.7777777777777778, \"#fb9f3a\"], [0.8888888888888888, \"#fdca26\"], [1.0, \"#f0f921\"]], \"type\": \"histogram2d\"}], \"histogram2dcontour\": [{\"colorbar\": {\"outlinewidth\": 0, \"ticks\": \"\"}, \"colorscale\": [[0.0, \"#0d0887\"], [0.1111111111111111, \"#46039f\"], [0.2222222222222222, \"#7201a8\"], [0.3333333333333333, \"#9c179e\"], [0.4444444444444444, \"#bd3786\"], [0.5555555555555556, \"#d8576b\"], [0.6666666666666666, \"#ed7953\"], [0.7777777777777778, \"#fb9f3a\"], [0.8888888888888888, \"#fdca26\"], [1.0, \"#f0f921\"]], \"type\": \"histogram2dcontour\"}], \"mesh3d\": [{\"colorbar\": {\"outlinewidth\": 0, \"ticks\": \"\"}, \"type\": \"mesh3d\"}], \"parcoords\": [{\"line\": {\"colorbar\": {\"outlinewidth\": 0, \"ticks\": \"\"}}, \"type\": \"parcoords\"}], \"pie\": [{\"automargin\": true, \"type\": \"pie\"}], \"scatter\": [{\"marker\": {\"colorbar\": {\"outlinewidth\": 0, \"ticks\": \"\"}}, \"type\": \"scatter\"}], \"scatter3d\": [{\"line\": {\"colorbar\": {\"outlinewidth\": 0, \"ticks\": \"\"}}, \"marker\": {\"colorbar\": {\"outlinewidth\": 0, \"ticks\": \"\"}}, \"type\": \"scatter3d\"}], \"scattercarpet\": [{\"marker\": {\"colorbar\": {\"outlinewidth\": 0, \"ticks\": \"\"}}, \"type\": \"scattercarpet\"}], \"scattergeo\": [{\"marker\": {\"colorbar\": {\"outlinewidth\": 0, \"ticks\": \"\"}}, \"type\": \"scattergeo\"}], \"scattergl\": [{\"marker\": {\"colorbar\": {\"outlinewidth\": 0, \"ticks\": \"\"}}, \"type\": \"scattergl\"}], \"scattermapbox\": [{\"marker\": {\"colorbar\": {\"outlinewidth\": 0, \"ticks\": \"\"}}, \"type\": \"scattermapbox\"}], \"scatterpolar\": [{\"marker\": {\"colorbar\": {\"outlinewidth\": 0, \"ticks\": \"\"}}, \"type\": \"scatterpolar\"}], \"scatterpolargl\": [{\"marker\": {\"colorbar\": {\"outlinewidth\": 0, \"ticks\": \"\"}}, \"type\": \"scatterpolargl\"}], \"scatterternary\": [{\"marker\": {\"colorbar\": {\"outlinewidth\": 0, \"ticks\": \"\"}}, \"type\": \"scatterternary\"}], \"surface\": [{\"colorbar\": {\"outlinewidth\": 0, \"ticks\": \"\"}, \"colorscale\": [[0.0, \"#0d0887\"], [0.1111111111111111, \"#46039f\"], [0.2222222222222222, \"#7201a8\"], [0.3333333333333333, \"#9c179e\"], [0.4444444444444444, \"#bd3786\"], [0.5555555555555556, \"#d8576b\"], [0.6666666666666666, \"#ed7953\"], [0.7777777777777778, \"#fb9f3a\"], [0.8888888888888888, \"#fdca26\"], [1.0, \"#f0f921\"]], \"type\": \"surface\"}], \"table\": [{\"cells\": {\"fill\": {\"color\": \"#EBF0F8\"}, \"line\": {\"color\": \"white\"}}, \"header\": {\"fill\": {\"color\": \"#C8D4E3\"}, \"line\": {\"color\": \"white\"}}, \"type\": \"table\"}]}, \"layout\": {\"annotationdefaults\": {\"arrowcolor\": \"#2a3f5f\", \"arrowhead\": 0, \"arrowwidth\": 1}, \"autotypenumbers\": \"strict\", \"coloraxis\": {\"colorbar\": {\"outlinewidth\": 0, \"ticks\": \"\"}}, \"colorscale\": {\"diverging\": [[0, \"#8e0152\"], [0.1, \"#c51b7d\"], [0.2, \"#de77ae\"], [0.3, \"#f1b6da\"], [0.4, \"#fde0ef\"], [0.5, \"#f7f7f7\"], [0.6, \"#e6f5d0\"], [0.7, \"#b8e186\"], [0.8, \"#7fbc41\"], [0.9, \"#4d9221\"], [1, \"#276419\"]], \"sequential\": [[0.0, \"#0d0887\"], [0.1111111111111111, \"#46039f\"], [0.2222222222222222, \"#7201a8\"], [0.3333333333333333, \"#9c179e\"], [0.4444444444444444, \"#bd3786\"], [0.5555555555555556, \"#d8576b\"], [0.6666666666666666, \"#ed7953\"], [0.7777777777777778, \"#fb9f3a\"], [0.8888888888888888, \"#fdca26\"], [1.0, \"#f0f921\"]], \"sequentialminus\": [[0.0, \"#0d0887\"], [0.1111111111111111, \"#46039f\"], [0.2222222222222222, \"#7201a8\"], [0.3333333333333333, \"#9c179e\"], [0.4444444444444444, \"#bd3786\"], [0.5555555555555556, \"#d8576b\"], [0.6666666666666666, \"#ed7953\"], [0.7777777777777778, \"#fb9f3a\"], [0.8888888888888888, \"#fdca26\"], [1.0, \"#f0f921\"]]}, \"colorway\": [\"#636efa\", \"#EF553B\", \"#00cc96\", \"#ab63fa\", \"#FFA15A\", \"#19d3f3\", \"#FF6692\", \"#B6E880\", \"#FF97FF\", \"#FECB52\"], \"font\": {\"color\": \"#2a3f5f\"}, \"geo\": {\"bgcolor\": \"white\", \"lakecolor\": \"white\", \"landcolor\": \"white\", \"showlakes\": true, \"showland\": true, \"subunitcolor\": \"#C8D4E3\"}, \"hoverlabel\": {\"align\": \"left\"}, \"hovermode\": \"closest\", \"mapbox\": {\"style\": \"light\"}, \"paper_bgcolor\": \"white\", \"plot_bgcolor\": \"white\", \"polar\": {\"angularaxis\": {\"gridcolor\": \"#EBF0F8\", \"linecolor\": \"#EBF0F8\", \"ticks\": \"\"}, \"bgcolor\": \"white\", \"radialaxis\": {\"gridcolor\": \"#EBF0F8\", \"linecolor\": \"#EBF0F8\", \"ticks\": \"\"}}, \"scene\": {\"xaxis\": {\"backgroundcolor\": \"white\", \"gridcolor\": \"#DFE8F3\", \"gridwidth\": 2, \"linecolor\": \"#EBF0F8\", \"showbackground\": true, \"ticks\": \"\", \"zerolinecolor\": \"#EBF0F8\"}, \"yaxis\": {\"backgroundcolor\": \"white\", \"gridcolor\": \"#DFE8F3\", \"gridwidth\": 2, \"linecolor\": \"#EBF0F8\", \"showbackground\": true, \"ticks\": \"\", \"zerolinecolor\": \"#EBF0F8\"}, \"zaxis\": {\"backgroundcolor\": \"white\", \"gridcolor\": \"#DFE8F3\", \"gridwidth\": 2, \"linecolor\": \"#EBF0F8\", \"showbackground\": true, \"ticks\": \"\", \"zerolinecolor\": \"#EBF0F8\"}}, \"shapedefaults\": {\"line\": {\"color\": \"#2a3f5f\"}}, \"ternary\": {\"aaxis\": {\"gridcolor\": \"#DFE8F3\", \"linecolor\": \"#A2B1C6\", \"ticks\": \"\"}, \"baxis\": {\"gridcolor\": \"#DFE8F3\", \"linecolor\": \"#A2B1C6\", \"ticks\": \"\"}, \"bgcolor\": \"white\", \"caxis\": {\"gridcolor\": \"#DFE8F3\", \"linecolor\": \"#A2B1C6\", \"ticks\": \"\"}}, \"title\": {\"x\": 0.05}, \"xaxis\": {\"automargin\": true, \"gridcolor\": \"#EBF0F8\", \"linecolor\": \"#EBF0F8\", \"ticks\": \"\", \"title\": {\"standoff\": 15}, \"zerolinecolor\": \"#EBF0F8\", \"zerolinewidth\": 2}, \"yaxis\": {\"automargin\": true, \"gridcolor\": \"#EBF0F8\", \"linecolor\": \"#EBF0F8\", \"ticks\": \"\", \"title\": {\"standoff\": 15}, \"zerolinecolor\": \"#EBF0F8\", \"zerolinewidth\": 2}}}, \"title\": {\"text\": \"Andamento Tasso di occupazione in italia (per zone)\"}, \"xaxis\": {\"anchor\": \"y\", \"domain\": [0.0, 1.0], \"title\": {\"text\": \"Anno di riferimento\"}}, \"yaxis\": {\"anchor\": \"x\", \"domain\": [0.0, 1.0], \"title\": {\"text\": \"Tasso di Occupazione\"}}},                        {\"responsive\": true}                    ).then(function(){\n",
       "                            \n",
       "var gd = document.getElementById('7b366576-c1db-46bb-bcd7-9247fc69611f');\n",
       "var x = new MutationObserver(function (mutations, observer) {{\n",
       "        var display = window.getComputedStyle(gd).display;\n",
       "        if (!display || display === 'none') {{\n",
       "            console.log([gd, 'removed!']);\n",
       "            Plotly.purge(gd);\n",
       "            observer.disconnect();\n",
       "        }}\n",
       "}});\n",
       "\n",
       "// Listen for the removal of the full notebook cells\n",
       "var notebookContainer = gd.closest('#notebook-container');\n",
       "if (notebookContainer) {{\n",
       "    x.observe(notebookContainer, {childList: true});\n",
       "}}\n",
       "\n",
       "// Listen for the clearing of the current output cell\n",
       "var outputEl = gd.closest('.output');\n",
       "if (outputEl) {{\n",
       "    x.observe(outputEl, {childList: true});\n",
       "}}\n",
       "\n",
       "                        })                };                });            </script>        </div>"
      ]
     },
     "metadata": {},
     "output_type": "display_data"
    }
   ],
   "source": [
    "df1 = df_pivot[(((df_pivot.index.get_level_values(4) == '15-64 anni')) & ((df_pivot.index.get_level_values(3)) == 'totale'))]\n",
    "fig = px.line(df1, x=df1.index.get_level_values(2), y='tasso_occupazione',\n",
    "               title='Andamento Tasso di occupazione in italia (per zone)', line_group= df1.index.get_level_values(0), \n",
    "              hover_name= df1.index.get_level_values(0), color=df1.index.get_level_values(1),\n",
    "              category_orders={\"color\": df1.sort_values(by='tasso_occupazione', ascending = False).index.get_level_values(1).to_list()},\n",
    "                          labels={ # replaces default labels by column name\n",
    "                              \"color\": \"Zona d'Italia\",  \"x\": \"Anno di riferimento\", \"tasso_occupazione\": \"Tasso di Occupazione\"\n",
    "            },\n",
    "             color_discrete_map={ # replaces default color mapping by value\n",
    "                \"Sud\": \"crimson\", \"Nord\": \"darkblue\", \"Isole\":'Darkcyan', \"Centro\":'DarkGoldenrod'\n",
    "            })\n",
    "fig.show()"
   ]
  },
  {
   "cell_type": "markdown",
   "metadata": {},
   "source": [
    "### Andamento tassi per zone (interattivo)\n",
    "\n",
    "Questa visualizzazione viene aperta in Dash.<br>\n",
    "Analogo al grafico statico precedente ma consente di navigare tra i diversi tassi, le etichette e le leggende si aggiornano in maniera omogenea rispetto alla visualizzazione."
   ]
  },
  {
   "cell_type": "code",
   "execution_count": 24,
   "metadata": {},
   "outputs": [
    {
     "name": "stdout",
     "output_type": "stream",
     "text": [
      "Dash is running on http://127.0.0.1:8050/\n",
      "\n",
      "Dash is running on http://127.0.0.1:8050/\n",
      "\n",
      " * Serving Flask app \"__main__\" (lazy loading)\n",
      " * Environment: production\n",
      "   WARNING: This is a development server. Do not use it in a production deployment.\n",
      "   Use a production WSGI server instead.\n",
      " * Debug mode: on\n"
     ]
    }
   ],
   "source": [
    "app = dash.Dash(__name__)\n",
    "\n",
    "app.layout = html.Div([\n",
    "    dcc.Dropdown(\n",
    "        id=\"ticker\",\n",
    "        options=[{\"label\": x, \"value\": x} \n",
    "                 for x in df1.columns[7:]],\n",
    "        value=df1.columns[7],\n",
    "        clearable=False,\n",
    "        style={\"font-family\":\"arial\", 'font-size': '1rem','font-style': 'italic','border':'2px blue solid'},\n",
    "    ),\n",
    "    \n",
    "    dcc.Graph(id=\"time-series-chart\"),\n",
    "])\n",
    "\n",
    "@app.callback(\n",
    "    Output(\"time-series-chart\", \"figure\"), \n",
    "    [Input(\"ticker\", \"value\")])\n",
    "def display_time_series(ticker):\n",
    "    fig = px.line(df1, x=df1.index.get_level_values(2), y=ticker,\n",
    "                  line_group= df1.index.get_level_values(0), \n",
    "                  hover_name= df1.index.get_level_values(0), \n",
    "                  color=df1.index.get_level_values(1),\n",
    "                  category_orders={\"color\": df1.sort_values(by=ticker, ascending = False).index.get_level_values(1).to_list()},\n",
    "                  labels={ # replaces default labels by column name\n",
    "                    \"color\": \"Zona d'Italia\",  \"x\": \"Anno di riferimento\", ticker : ticker\n",
    "                  },\n",
    "                  color_discrete_map={ # replaces default color mapping by value\n",
    "                \"Sud\": \"crimson\", \"Nord\": \"darkblue\", \"Isole\":'Darkcyan', \"Centro\":'DarkGoldenrod'})\n",
    "    #fig.update_xaxes(rangeslider_visible=True)\n",
    "    return fig\n",
    "\n",
    "app.run_server(debug=True, use_reloader=False)"
   ]
  },
  {
   "cell_type": "code",
   "execution_count": null,
   "metadata": {},
   "outputs": [],
   "source": []
  },
  {
   "cell_type": "markdown",
   "metadata": {},
   "source": [
    "### Confronto tassi regionali (interattivo)"
   ]
  },
  {
   "cell_type": "code",
   "execution_count": 35,
   "metadata": {},
   "outputs": [
    {
     "name": "stdout",
     "output_type": "stream",
     "text": [
      "Dash is running on http://127.0.0.1:8050/\n",
      "\n",
      "Dash is running on http://127.0.0.1:8050/\n",
      "\n",
      "Dash is running on http://127.0.0.1:8050/\n",
      "\n",
      "Dash is running on http://127.0.0.1:8050/\n",
      "\n",
      "Dash is running on http://127.0.0.1:8050/\n",
      "\n",
      "Dash is running on http://127.0.0.1:8050/\n",
      "\n",
      "Dash is running on http://127.0.0.1:8050/\n",
      "\n",
      " * Serving Flask app \"__main__\" (lazy loading)\n",
      " * Environment: production\n",
      "   WARNING: This is a development server. Do not use it in a production deployment.\n",
      "   Use a production WSGI server instead.\n",
      " * Debug mode: on\n"
     ]
    }
   ],
   "source": [
    "regioni = df1.index.get_level_values(0).unique()\n",
    "app = dash.Dash(__name__)\n",
    "\n",
    "app.layout = html.Div([\n",
    "    dcc.Dropdown(\n",
    "        id=\"ticker\",\n",
    "        options=[{\"label\": x, \"value\": x} \n",
    "                 for x in regioni],\n",
    "        value=regioni[0],\n",
    "        clearable=False,\n",
    "        style={\"font-family\":\"arial\", 'font-size': '1rem','font-style': 'italic','border':'2px blue solid'},\n",
    "    ),\n",
    "    \n",
    "    dcc.Graph(id=\"time-series-chart\"),\n",
    "])\n",
    "\n",
    "@app.callback(\n",
    "    Output(\"time-series-chart\", \"figure\"), \n",
    "    [Input(\"ticker\", \"value\")])\n",
    "def display_time_series(ticker):\n",
    "    df3 = df1[((df1.index.get_level_values(0)) == ticker)]\n",
    "    fig = go.Figure()\n",
    "    # Create and style traces, dash options include 'dash', 'dot', and 'dashdot'\n",
    "    fig.add_trace(go.Scatter(x=df3.index.get_level_values(2), y=df3['tasso_attività'], name = 'Attività',\n",
    "                         line=dict(color='Darkcyan', width=4,\n",
    "                                   dash='dashdot')))\n",
    "    fig.add_trace(go.Scatter(x=df3.index.get_level_values(2), y=df3['tasso_occupazione'], name='Occupazione',\n",
    "                         line=dict(color='Darkseagreen', width=4)))\n",
    "    fig.add_trace(go.Scatter(x=df3.index.get_level_values(2), y=df3['tasso_inattività'], name = 'Inattività',\n",
    "                         line = dict(color='orangered', width=4, dash='dot')))\n",
    "    fig.add_trace(go.Scatter(x=df3.index.get_level_values(2), y=df3['tasso_disoccupazione'], name = 'Disoccupazione',\n",
    "                         line=dict(color='crimson', width=4)))\n",
    "    fig.add_trace(go.Scatter(x=df3.index.get_level_values(2), y=df3['gap_occupazionale'], name = 'GAP Occupazionale',\n",
    "                         line=dict(color='darkgrey', width=4, dash='dashdot')))\n",
    "\n",
    "    # Edit the layout\n",
    "    fig.update_layout(title='Andamento dei Tassi per Regione',\n",
    "                   xaxis_title='Anno di riferimento',\n",
    "                   yaxis_title='Tasso')\n",
    "    return fig\n",
    "\n",
    "app.run_server(debug=True, use_reloader=False)"
   ]
  },
  {
   "cell_type": "code",
   "execution_count": 34,
   "metadata": {},
   "outputs": [
    {
     "name": "stdout",
     "output_type": "stream",
     "text": [
      "Dash is running on http://127.0.0.1:8050/\n",
      "\n",
      "Dash is running on http://127.0.0.1:8050/\n",
      "\n",
      "Dash is running on http://127.0.0.1:8050/\n",
      "\n",
      "Dash is running on http://127.0.0.1:8050/\n",
      "\n",
      "Dash is running on http://127.0.0.1:8050/\n",
      "\n",
      "Dash is running on http://127.0.0.1:8050/\n",
      "\n",
      " * Serving Flask app \"__main__\" (lazy loading)\n",
      " * Environment: production\n",
      "   WARNING: This is a development server. Do not use it in a production deployment.\n",
      "   Use a production WSGI server instead.\n",
      " * Debug mode: on\n"
     ]
    }
   ],
   "source": [
    "\n",
    "app = dash.Dash(__name__)\n",
    "\n",
    "app.layout = html.Div([\n",
    "    dcc.Dropdown(\n",
    "        id=\"ticker\",\n",
    "        options=[{\"label\": x, \"value\": x} \n",
    "                 for x in df1.columns[7:]],\n",
    "        value=df1.columns[7],\n",
    "        clearable=False,\n",
    "        style={\"font-family\":\"arial\", 'font-size': '1rem','font-style': 'italic','border':'2px blue solid'},\n",
    "    ),\n",
    "    \n",
    "    dcc.Graph(id=\"time-series-chart\"),\n",
    "])\n",
    "\n",
    "@app.callback(\n",
    "    Output(\"time-series-chart\", \"figure\"), \n",
    "    [Input(\"ticker\", \"value\")])\n",
    "def display_time_series(ticker):\n",
    "    fig = px.bar(df1, x=df1.index.get_level_values(2), y=ticker,\n",
    "                  line_group= df1.index.get_level_values(0), \n",
    "                  hover_name= df1.index.get_level_values(0), \n",
    "                  color=df1.index.get_level_values(1))\n",
    "    fig.update_layout(title_text=\"Analisi dei diversi tassi in italia (per zone)\",\n",
    "                  title_font_size=30)\n",
    "    fig.update_xaxes(title_text='Anno di riferimento', title_font_size=20)\n",
    "    fig.update_yaxes(title_text='Gap occupazionale', title_font_size=20)\n",
    "    return fig\n",
    "\n",
    "app.run_server(debug=True, use_reloader=False)"
   ]
  },
  {
   "cell_type": "code",
   "execution_count": 38,
   "metadata": {},
   "outputs": [
    {
     "name": "stdout",
     "output_type": "stream",
     "text": [
      "Dash is running on http://127.0.0.1:8050/\n",
      "\n",
      "Dash is running on http://127.0.0.1:8050/\n",
      "\n",
      "Dash is running on http://127.0.0.1:8050/\n",
      "\n",
      "Dash is running on http://127.0.0.1:8050/\n",
      "\n",
      "Dash is running on http://127.0.0.1:8050/\n",
      "\n",
      "Dash is running on http://127.0.0.1:8050/\n",
      "\n",
      "Dash is running on http://127.0.0.1:8050/\n",
      "\n",
      "Dash is running on http://127.0.0.1:8050/\n",
      "\n",
      "Dash is running on http://127.0.0.1:8050/\n",
      "\n",
      " * Serving Flask app \"__main__\" (lazy loading)\n",
      " * Environment: production\n",
      "   WARNING: This is a development server. Do not use it in a production deployment.\n",
      "   Use a production WSGI server instead.\n",
      " * Debug mode: on\n"
     ]
    }
   ],
   "source": [
    "regioni = df1.index.get_level_values(0).unique()\n",
    "app = dash.Dash(__name__)\n",
    "\n",
    "app.layout = html.Div([\n",
    "    dcc.Dropdown(\n",
    "        id=\"ticker\",\n",
    "        options=[{\"label\": x, \"value\": x} \n",
    "                 for x in regioni],\n",
    "        value=regioni[0],\n",
    "        clearable=False,\n",
    "        style={\"font-family\":\"arial\", 'font-size': '1rem','font-style': 'italic','border':'2px blue solid'},\n",
    "    ),\n",
    "    \n",
    "    dcc.Graph(id=\"time-series-chart\"),\n",
    "])\n",
    "\n",
    "@app.callback(\n",
    "    Output(\"time-series-chart\", \"figure\"), \n",
    "    [Input(\"ticker\", \"value\")])\n",
    "def display_time_series(ticker):\n",
    "    df3 = df1[((df1.index.get_level_values(0)) == ticker)]\n",
    "    fig = go.Figure()\n",
    "    # Create and style traces, dash options include 'dash', 'dot', and 'dashdot'\n",
    "    fig.add_trace(go.Bar(x=df3.index.get_level_values(2), y=df3['tasso_attività'], name = 'Attività',\n",
    "                         marker_color='Darkcyan'))\n",
    "    fig.add_trace(go.Bar(x=df3.index.get_level_values(2), y=df3['tasso_occupazione'], name='Occupazione',\n",
    "                         marker_color='Darkseagreen'))\n",
    "    fig.add_trace(go.Bar(x=df3.index.get_level_values(2), y=df3['tasso_inattività'], name = 'Inattività',\n",
    "                         marker_color='orangered'))\n",
    "    fig.add_trace(go.Bar(x=df3.index.get_level_values(2), y=df3['tasso_disoccupazione'], name = 'Disoccupazione',\n",
    "                         marker_color='crimson'))\n",
    "    fig.add_trace(go.Bar(x=df3.index.get_level_values(2), y=df3['gap_occupazionale'], name = 'GAP Occupazionale',\n",
    "                         marker_color='darkgrey'))\n",
    "\n",
    "    # Edit the layout\n",
    "    fig.update_layout(title='Andamento dei Tassi per Regione',\n",
    "                   xaxis_title='Anno di riferimento',\n",
    "                   yaxis_title='Tasso')\n",
    "    return fig\n",
    "\n",
    "app.run_server(debug=True, use_reloader=False)"
   ]
  },
  {
   "cell_type": "code",
   "execution_count": 73,
   "metadata": {},
   "outputs": [
    {
     "data": {
      "application/vnd.plotly.v1+json": {
       "config": {
        "plotlyServerURL": "https://plot.ly"
       },
       "data": [
        {
         "line": {
          "color": "Darkcyan",
          "dash": "dashdot",
          "width": 4
         },
         "name": "Attività",
         "type": "scatter",
         "x": [
          "1996",
          "1997",
          "1998",
          "1999",
          "2000",
          "2001",
          "2002",
          "2003",
          "2004",
          "2005",
          "2006",
          "2007",
          "2008",
          "2009",
          "2010",
          "2011",
          "2012",
          "2013",
          "2014",
          "2015",
          "2016",
          "2017",
          "2018"
         ],
         "y": [
          55.3391472700115,
          56.38067422044237,
          57.490537537328976,
          58.878582762009124,
          58.91209320675797,
          59.921494338803406,
          60.55696825166778,
          59.66646490220866,
          59.73266382159316,
          59.03239460292347,
          58.462246501138225,
          58.57868136754912,
          59.68427395626278,
          58.623870721465835,
          59.402194207497985,
          59.93754196371486,
          61.26982649689828,
          58.687483047696375,
          59.859609641474485,
          60.87771537401218,
          61.014002976708085,
          61.070373783959994,
          62.560516456838975
         ]
        },
        {
         "line": {
          "color": "Darkseagreen",
          "width": 4
         },
         "name": "Occupazione",
         "type": "scatter",
         "x": [
          "1996",
          "1997",
          "1998",
          "1999",
          "2000",
          "2001",
          "2002",
          "2003",
          "2004",
          "2005",
          "2006",
          "2007",
          "2008",
          "2009",
          "2010",
          "2011",
          "2012",
          "2013",
          "2014",
          "2015",
          "2016",
          "2017",
          "2018"
         ],
         "y": [
          47.192378619470496,
          48.06097017397503,
          48.69643725258698,
          49.58357232194224,
          49.67398932325944,
          51.617997475353185,
          52.37152882998019,
          51.22987004201913,
          51.487865685356425,
          51.397359892220386,
          52.10160937943584,
          52.77565036934555,
          52.32506742682303,
          50.783691026565435,
          50.96596397270589,
          51.718085760030775,
          51.71301649120672,
          48.317612971947646,
          48.554510308929224,
          50.14760948953195,
          50.29886075926194,
          50.45695583191265,
          52.73463038212919
         ]
        },
        {
         "line": {
          "color": "orangered",
          "dash": "dot",
          "width": 4
         },
         "name": "Inattività",
         "type": "scatter",
         "x": [
          "1996",
          "1997",
          "1998",
          "1999",
          "2000",
          "2001",
          "2002",
          "2003",
          "2004",
          "2005",
          "2006",
          "2007",
          "2008",
          "2009",
          "2010",
          "2011",
          "2012",
          "2013",
          "2014",
          "2015",
          "2016",
          "2017",
          "2018"
         ],
         "y": [
          44.66067924868718,
          43.619239060871315,
          42.509462462671024,
          41.121417237990876,
          41.08790679324203,
          40.0785056611966,
          39.44303174833222,
          40.33353509779134,
          40.26742402546862,
          40.96760539707654,
          41.53775349886178,
          41.421318632450884,
          40.31581426987139,
          41.376129278534165,
          40.597805792502015,
          40.06245803628514,
          38.730173503101724,
          41.31251695230363,
          40.140390358525515,
          39.122375490555086,
          38.985997023291915,
          38.92962621604,
          37.439483543161025
         ]
        },
        {
         "line": {
          "color": "crimson",
          "width": 4
         },
         "name": "Disoccupazione",
         "type": "scatter",
         "x": [
          "1996",
          "1997",
          "1998",
          "1999",
          "2000",
          "2001",
          "2002",
          "2003",
          "2004",
          "2005",
          "2006",
          "2007",
          "2008",
          "2009",
          "2010",
          "2011",
          "2012",
          "2013",
          "2014",
          "2015",
          "2016",
          "2017",
          "2018"
         ],
         "y": [
          14.721529066559663,
          14.756458449972007,
          15.296755732395109,
          15.786742825719646,
          15.68116727931644,
          13.857292704519756,
          13.516924076631199,
          14.139592271834484,
          13.802830158155896,
          12.933784508973826,
          10.879905413108851,
          9.906236585053584,
          12.330227112811386,
          13.373698458347652,
          14.201733874459844,
          13.713368840951128,
          15.597906101750366,
          17.669645275673098,
          18.886022478690503,
          17.62567109911744,
          17.56177548543507,
          17.378996220971114,
          15.706209972689
         ]
        }
       ],
       "layout": {
        "template": {
         "data": {
          "bar": [
           {
            "error_x": {
             "color": "#2a3f5f"
            },
            "error_y": {
             "color": "#2a3f5f"
            },
            "marker": {
             "line": {
              "color": "white",
              "width": 0.5
             }
            },
            "type": "bar"
           }
          ],
          "barpolar": [
           {
            "marker": {
             "line": {
              "color": "white",
              "width": 0.5
             }
            },
            "type": "barpolar"
           }
          ],
          "carpet": [
           {
            "aaxis": {
             "endlinecolor": "#2a3f5f",
             "gridcolor": "#C8D4E3",
             "linecolor": "#C8D4E3",
             "minorgridcolor": "#C8D4E3",
             "startlinecolor": "#2a3f5f"
            },
            "baxis": {
             "endlinecolor": "#2a3f5f",
             "gridcolor": "#C8D4E3",
             "linecolor": "#C8D4E3",
             "minorgridcolor": "#C8D4E3",
             "startlinecolor": "#2a3f5f"
            },
            "type": "carpet"
           }
          ],
          "choropleth": [
           {
            "colorbar": {
             "outlinewidth": 0,
             "ticks": ""
            },
            "type": "choropleth"
           }
          ],
          "contour": [
           {
            "colorbar": {
             "outlinewidth": 0,
             "ticks": ""
            },
            "colorscale": [
             [
              0,
              "#0d0887"
             ],
             [
              0.1111111111111111,
              "#46039f"
             ],
             [
              0.2222222222222222,
              "#7201a8"
             ],
             [
              0.3333333333333333,
              "#9c179e"
             ],
             [
              0.4444444444444444,
              "#bd3786"
             ],
             [
              0.5555555555555556,
              "#d8576b"
             ],
             [
              0.6666666666666666,
              "#ed7953"
             ],
             [
              0.7777777777777778,
              "#fb9f3a"
             ],
             [
              0.8888888888888888,
              "#fdca26"
             ],
             [
              1,
              "#f0f921"
             ]
            ],
            "type": "contour"
           }
          ],
          "contourcarpet": [
           {
            "colorbar": {
             "outlinewidth": 0,
             "ticks": ""
            },
            "type": "contourcarpet"
           }
          ],
          "heatmap": [
           {
            "colorbar": {
             "outlinewidth": 0,
             "ticks": ""
            },
            "colorscale": [
             [
              0,
              "#0d0887"
             ],
             [
              0.1111111111111111,
              "#46039f"
             ],
             [
              0.2222222222222222,
              "#7201a8"
             ],
             [
              0.3333333333333333,
              "#9c179e"
             ],
             [
              0.4444444444444444,
              "#bd3786"
             ],
             [
              0.5555555555555556,
              "#d8576b"
             ],
             [
              0.6666666666666666,
              "#ed7953"
             ],
             [
              0.7777777777777778,
              "#fb9f3a"
             ],
             [
              0.8888888888888888,
              "#fdca26"
             ],
             [
              1,
              "#f0f921"
             ]
            ],
            "type": "heatmap"
           }
          ],
          "heatmapgl": [
           {
            "colorbar": {
             "outlinewidth": 0,
             "ticks": ""
            },
            "colorscale": [
             [
              0,
              "#0d0887"
             ],
             [
              0.1111111111111111,
              "#46039f"
             ],
             [
              0.2222222222222222,
              "#7201a8"
             ],
             [
              0.3333333333333333,
              "#9c179e"
             ],
             [
              0.4444444444444444,
              "#bd3786"
             ],
             [
              0.5555555555555556,
              "#d8576b"
             ],
             [
              0.6666666666666666,
              "#ed7953"
             ],
             [
              0.7777777777777778,
              "#fb9f3a"
             ],
             [
              0.8888888888888888,
              "#fdca26"
             ],
             [
              1,
              "#f0f921"
             ]
            ],
            "type": "heatmapgl"
           }
          ],
          "histogram": [
           {
            "marker": {
             "colorbar": {
              "outlinewidth": 0,
              "ticks": ""
             }
            },
            "type": "histogram"
           }
          ],
          "histogram2d": [
           {
            "colorbar": {
             "outlinewidth": 0,
             "ticks": ""
            },
            "colorscale": [
             [
              0,
              "#0d0887"
             ],
             [
              0.1111111111111111,
              "#46039f"
             ],
             [
              0.2222222222222222,
              "#7201a8"
             ],
             [
              0.3333333333333333,
              "#9c179e"
             ],
             [
              0.4444444444444444,
              "#bd3786"
             ],
             [
              0.5555555555555556,
              "#d8576b"
             ],
             [
              0.6666666666666666,
              "#ed7953"
             ],
             [
              0.7777777777777778,
              "#fb9f3a"
             ],
             [
              0.8888888888888888,
              "#fdca26"
             ],
             [
              1,
              "#f0f921"
             ]
            ],
            "type": "histogram2d"
           }
          ],
          "histogram2dcontour": [
           {
            "colorbar": {
             "outlinewidth": 0,
             "ticks": ""
            },
            "colorscale": [
             [
              0,
              "#0d0887"
             ],
             [
              0.1111111111111111,
              "#46039f"
             ],
             [
              0.2222222222222222,
              "#7201a8"
             ],
             [
              0.3333333333333333,
              "#9c179e"
             ],
             [
              0.4444444444444444,
              "#bd3786"
             ],
             [
              0.5555555555555556,
              "#d8576b"
             ],
             [
              0.6666666666666666,
              "#ed7953"
             ],
             [
              0.7777777777777778,
              "#fb9f3a"
             ],
             [
              0.8888888888888888,
              "#fdca26"
             ],
             [
              1,
              "#f0f921"
             ]
            ],
            "type": "histogram2dcontour"
           }
          ],
          "mesh3d": [
           {
            "colorbar": {
             "outlinewidth": 0,
             "ticks": ""
            },
            "type": "mesh3d"
           }
          ],
          "parcoords": [
           {
            "line": {
             "colorbar": {
              "outlinewidth": 0,
              "ticks": ""
             }
            },
            "type": "parcoords"
           }
          ],
          "pie": [
           {
            "automargin": true,
            "type": "pie"
           }
          ],
          "scatter": [
           {
            "marker": {
             "colorbar": {
              "outlinewidth": 0,
              "ticks": ""
             }
            },
            "type": "scatter"
           }
          ],
          "scatter3d": [
           {
            "line": {
             "colorbar": {
              "outlinewidth": 0,
              "ticks": ""
             }
            },
            "marker": {
             "colorbar": {
              "outlinewidth": 0,
              "ticks": ""
             }
            },
            "type": "scatter3d"
           }
          ],
          "scattercarpet": [
           {
            "marker": {
             "colorbar": {
              "outlinewidth": 0,
              "ticks": ""
             }
            },
            "type": "scattercarpet"
           }
          ],
          "scattergeo": [
           {
            "marker": {
             "colorbar": {
              "outlinewidth": 0,
              "ticks": ""
             }
            },
            "type": "scattergeo"
           }
          ],
          "scattergl": [
           {
            "marker": {
             "colorbar": {
              "outlinewidth": 0,
              "ticks": ""
             }
            },
            "type": "scattergl"
           }
          ],
          "scattermapbox": [
           {
            "marker": {
             "colorbar": {
              "outlinewidth": 0,
              "ticks": ""
             }
            },
            "type": "scattermapbox"
           }
          ],
          "scatterpolar": [
           {
            "marker": {
             "colorbar": {
              "outlinewidth": 0,
              "ticks": ""
             }
            },
            "type": "scatterpolar"
           }
          ],
          "scatterpolargl": [
           {
            "marker": {
             "colorbar": {
              "outlinewidth": 0,
              "ticks": ""
             }
            },
            "type": "scatterpolargl"
           }
          ],
          "scatterternary": [
           {
            "marker": {
             "colorbar": {
              "outlinewidth": 0,
              "ticks": ""
             }
            },
            "type": "scatterternary"
           }
          ],
          "surface": [
           {
            "colorbar": {
             "outlinewidth": 0,
             "ticks": ""
            },
            "colorscale": [
             [
              0,
              "#0d0887"
             ],
             [
              0.1111111111111111,
              "#46039f"
             ],
             [
              0.2222222222222222,
              "#7201a8"
             ],
             [
              0.3333333333333333,
              "#9c179e"
             ],
             [
              0.4444444444444444,
              "#bd3786"
             ],
             [
              0.5555555555555556,
              "#d8576b"
             ],
             [
              0.6666666666666666,
              "#ed7953"
             ],
             [
              0.7777777777777778,
              "#fb9f3a"
             ],
             [
              0.8888888888888888,
              "#fdca26"
             ],
             [
              1,
              "#f0f921"
             ]
            ],
            "type": "surface"
           }
          ],
          "table": [
           {
            "cells": {
             "fill": {
              "color": "#EBF0F8"
             },
             "line": {
              "color": "white"
             }
            },
            "header": {
             "fill": {
              "color": "#C8D4E3"
             },
             "line": {
              "color": "white"
             }
            },
            "type": "table"
           }
          ]
         },
         "layout": {
          "annotationdefaults": {
           "arrowcolor": "#2a3f5f",
           "arrowhead": 0,
           "arrowwidth": 1
          },
          "autotypenumbers": "strict",
          "coloraxis": {
           "colorbar": {
            "outlinewidth": 0,
            "ticks": ""
           }
          },
          "colorscale": {
           "diverging": [
            [
             0,
             "#8e0152"
            ],
            [
             0.1,
             "#c51b7d"
            ],
            [
             0.2,
             "#de77ae"
            ],
            [
             0.3,
             "#f1b6da"
            ],
            [
             0.4,
             "#fde0ef"
            ],
            [
             0.5,
             "#f7f7f7"
            ],
            [
             0.6,
             "#e6f5d0"
            ],
            [
             0.7,
             "#b8e186"
            ],
            [
             0.8,
             "#7fbc41"
            ],
            [
             0.9,
             "#4d9221"
            ],
            [
             1,
             "#276419"
            ]
           ],
           "sequential": [
            [
             0,
             "#0d0887"
            ],
            [
             0.1111111111111111,
             "#46039f"
            ],
            [
             0.2222222222222222,
             "#7201a8"
            ],
            [
             0.3333333333333333,
             "#9c179e"
            ],
            [
             0.4444444444444444,
             "#bd3786"
            ],
            [
             0.5555555555555556,
             "#d8576b"
            ],
            [
             0.6666666666666666,
             "#ed7953"
            ],
            [
             0.7777777777777778,
             "#fb9f3a"
            ],
            [
             0.8888888888888888,
             "#fdca26"
            ],
            [
             1,
             "#f0f921"
            ]
           ],
           "sequentialminus": [
            [
             0,
             "#0d0887"
            ],
            [
             0.1111111111111111,
             "#46039f"
            ],
            [
             0.2222222222222222,
             "#7201a8"
            ],
            [
             0.3333333333333333,
             "#9c179e"
            ],
            [
             0.4444444444444444,
             "#bd3786"
            ],
            [
             0.5555555555555556,
             "#d8576b"
            ],
            [
             0.6666666666666666,
             "#ed7953"
            ],
            [
             0.7777777777777778,
             "#fb9f3a"
            ],
            [
             0.8888888888888888,
             "#fdca26"
            ],
            [
             1,
             "#f0f921"
            ]
           ]
          },
          "colorway": [
           "#636efa",
           "#EF553B",
           "#00cc96",
           "#ab63fa",
           "#FFA15A",
           "#19d3f3",
           "#FF6692",
           "#B6E880",
           "#FF97FF",
           "#FECB52"
          ],
          "font": {
           "color": "#2a3f5f"
          },
          "geo": {
           "bgcolor": "white",
           "lakecolor": "white",
           "landcolor": "white",
           "showlakes": true,
           "showland": true,
           "subunitcolor": "#C8D4E3"
          },
          "hoverlabel": {
           "align": "left"
          },
          "hovermode": "closest",
          "mapbox": {
           "style": "light"
          },
          "paper_bgcolor": "white",
          "plot_bgcolor": "white",
          "polar": {
           "angularaxis": {
            "gridcolor": "#EBF0F8",
            "linecolor": "#EBF0F8",
            "ticks": ""
           },
           "bgcolor": "white",
           "radialaxis": {
            "gridcolor": "#EBF0F8",
            "linecolor": "#EBF0F8",
            "ticks": ""
           }
          },
          "scene": {
           "xaxis": {
            "backgroundcolor": "white",
            "gridcolor": "#DFE8F3",
            "gridwidth": 2,
            "linecolor": "#EBF0F8",
            "showbackground": true,
            "ticks": "",
            "zerolinecolor": "#EBF0F8"
           },
           "yaxis": {
            "backgroundcolor": "white",
            "gridcolor": "#DFE8F3",
            "gridwidth": 2,
            "linecolor": "#EBF0F8",
            "showbackground": true,
            "ticks": "",
            "zerolinecolor": "#EBF0F8"
           },
           "zaxis": {
            "backgroundcolor": "white",
            "gridcolor": "#DFE8F3",
            "gridwidth": 2,
            "linecolor": "#EBF0F8",
            "showbackground": true,
            "ticks": "",
            "zerolinecolor": "#EBF0F8"
           }
          },
          "shapedefaults": {
           "line": {
            "color": "#2a3f5f"
           }
          },
          "ternary": {
           "aaxis": {
            "gridcolor": "#DFE8F3",
            "linecolor": "#A2B1C6",
            "ticks": ""
           },
           "baxis": {
            "gridcolor": "#DFE8F3",
            "linecolor": "#A2B1C6",
            "ticks": ""
           },
           "bgcolor": "white",
           "caxis": {
            "gridcolor": "#DFE8F3",
            "linecolor": "#A2B1C6",
            "ticks": ""
           }
          },
          "title": {
           "x": 0.05
          },
          "xaxis": {
           "automargin": true,
           "gridcolor": "#EBF0F8",
           "linecolor": "#EBF0F8",
           "ticks": "",
           "title": {
            "standoff": 15
           },
           "zerolinecolor": "#EBF0F8",
           "zerolinewidth": 2
          },
          "yaxis": {
           "automargin": true,
           "gridcolor": "#EBF0F8",
           "linecolor": "#EBF0F8",
           "ticks": "",
           "title": {
            "standoff": 15
           },
           "zerolinecolor": "#EBF0F8",
           "zerolinewidth": 2
          }
         }
        },
        "title": {
         "text": "Andamento dei Tassi per Regione Sardegna"
        },
        "xaxis": {
         "title": {
          "text": "Anno di riferimento"
         }
        },
        "yaxis": {
         "title": {
          "text": "Tasso"
         }
        }
       }
      },
      "text/html": [
       "<div>                            <div id=\"a28086a9-0552-4124-b7e3-f6f953ca3def\" class=\"plotly-graph-div\" style=\"height:525px; width:100%;\"></div>            <script type=\"text/javascript\">                require([\"plotly\"], function(Plotly) {                    window.PLOTLYENV=window.PLOTLYENV || {};                                    if (document.getElementById(\"a28086a9-0552-4124-b7e3-f6f953ca3def\")) {                    Plotly.newPlot(                        \"a28086a9-0552-4124-b7e3-f6f953ca3def\",                        [{\"line\": {\"color\": \"Darkcyan\", \"dash\": \"dashdot\", \"width\": 4}, \"name\": \"Attivit\\u00e0\", \"type\": \"scatter\", \"x\": [\"1996\", \"1997\", \"1998\", \"1999\", \"2000\", \"2001\", \"2002\", \"2003\", \"2004\", \"2005\", \"2006\", \"2007\", \"2008\", \"2009\", \"2010\", \"2011\", \"2012\", \"2013\", \"2014\", \"2015\", \"2016\", \"2017\", \"2018\"], \"y\": [55.3391472700115, 56.38067422044237, 57.490537537328976, 58.878582762009124, 58.91209320675797, 59.921494338803406, 60.55696825166778, 59.66646490220866, 59.73266382159316, 59.03239460292347, 58.462246501138225, 58.57868136754912, 59.68427395626278, 58.623870721465835, 59.402194207497985, 59.93754196371486, 61.26982649689828, 58.687483047696375, 59.859609641474485, 60.87771537401218, 61.014002976708085, 61.070373783959994, 62.560516456838975]}, {\"line\": {\"color\": \"Darkseagreen\", \"width\": 4}, \"name\": \"Occupazione\", \"type\": \"scatter\", \"x\": [\"1996\", \"1997\", \"1998\", \"1999\", \"2000\", \"2001\", \"2002\", \"2003\", \"2004\", \"2005\", \"2006\", \"2007\", \"2008\", \"2009\", \"2010\", \"2011\", \"2012\", \"2013\", \"2014\", \"2015\", \"2016\", \"2017\", \"2018\"], \"y\": [47.192378619470496, 48.06097017397503, 48.69643725258698, 49.58357232194224, 49.67398932325944, 51.617997475353185, 52.37152882998019, 51.22987004201913, 51.487865685356425, 51.397359892220386, 52.10160937943584, 52.77565036934555, 52.32506742682303, 50.783691026565435, 50.96596397270589, 51.718085760030775, 51.71301649120672, 48.317612971947646, 48.554510308929224, 50.14760948953195, 50.29886075926194, 50.45695583191265, 52.73463038212919]}, {\"line\": {\"color\": \"orangered\", \"dash\": \"dot\", \"width\": 4}, \"name\": \"Inattivit\\u00e0\", \"type\": \"scatter\", \"x\": [\"1996\", \"1997\", \"1998\", \"1999\", \"2000\", \"2001\", \"2002\", \"2003\", \"2004\", \"2005\", \"2006\", \"2007\", \"2008\", \"2009\", \"2010\", \"2011\", \"2012\", \"2013\", \"2014\", \"2015\", \"2016\", \"2017\", \"2018\"], \"y\": [44.66067924868718, 43.619239060871315, 42.509462462671024, 41.121417237990876, 41.08790679324203, 40.0785056611966, 39.44303174833222, 40.33353509779134, 40.26742402546862, 40.96760539707654, 41.53775349886178, 41.421318632450884, 40.31581426987139, 41.376129278534165, 40.597805792502015, 40.06245803628514, 38.730173503101724, 41.31251695230363, 40.140390358525515, 39.122375490555086, 38.985997023291915, 38.92962621604, 37.439483543161025]}, {\"line\": {\"color\": \"crimson\", \"width\": 4}, \"name\": \"Disoccupazione\", \"type\": \"scatter\", \"x\": [\"1996\", \"1997\", \"1998\", \"1999\", \"2000\", \"2001\", \"2002\", \"2003\", \"2004\", \"2005\", \"2006\", \"2007\", \"2008\", \"2009\", \"2010\", \"2011\", \"2012\", \"2013\", \"2014\", \"2015\", \"2016\", \"2017\", \"2018\"], \"y\": [14.721529066559663, 14.756458449972007, 15.296755732395109, 15.786742825719646, 15.68116727931644, 13.857292704519756, 13.516924076631199, 14.139592271834484, 13.802830158155896, 12.933784508973826, 10.879905413108851, 9.906236585053584, 12.330227112811386, 13.373698458347652, 14.201733874459844, 13.713368840951128, 15.597906101750366, 17.669645275673098, 18.886022478690503, 17.62567109911744, 17.56177548543507, 17.378996220971114, 15.706209972689]}],                        {\"template\": {\"data\": {\"bar\": [{\"error_x\": {\"color\": \"#2a3f5f\"}, \"error_y\": {\"color\": \"#2a3f5f\"}, \"marker\": {\"line\": {\"color\": \"white\", \"width\": 0.5}}, \"type\": \"bar\"}], \"barpolar\": [{\"marker\": {\"line\": {\"color\": \"white\", \"width\": 0.5}}, \"type\": \"barpolar\"}], \"carpet\": [{\"aaxis\": {\"endlinecolor\": \"#2a3f5f\", \"gridcolor\": \"#C8D4E3\", \"linecolor\": \"#C8D4E3\", \"minorgridcolor\": \"#C8D4E3\", \"startlinecolor\": \"#2a3f5f\"}, \"baxis\": {\"endlinecolor\": \"#2a3f5f\", \"gridcolor\": \"#C8D4E3\", \"linecolor\": \"#C8D4E3\", \"minorgridcolor\": \"#C8D4E3\", \"startlinecolor\": \"#2a3f5f\"}, \"type\": \"carpet\"}], \"choropleth\": [{\"colorbar\": {\"outlinewidth\": 0, \"ticks\": \"\"}, \"type\": \"choropleth\"}], \"contour\": [{\"colorbar\": {\"outlinewidth\": 0, \"ticks\": \"\"}, \"colorscale\": [[0.0, \"#0d0887\"], [0.1111111111111111, \"#46039f\"], [0.2222222222222222, \"#7201a8\"], [0.3333333333333333, \"#9c179e\"], [0.4444444444444444, \"#bd3786\"], [0.5555555555555556, \"#d8576b\"], [0.6666666666666666, \"#ed7953\"], [0.7777777777777778, \"#fb9f3a\"], [0.8888888888888888, \"#fdca26\"], [1.0, \"#f0f921\"]], \"type\": \"contour\"}], \"contourcarpet\": [{\"colorbar\": {\"outlinewidth\": 0, \"ticks\": \"\"}, \"type\": \"contourcarpet\"}], \"heatmap\": [{\"colorbar\": {\"outlinewidth\": 0, \"ticks\": \"\"}, \"colorscale\": [[0.0, \"#0d0887\"], [0.1111111111111111, \"#46039f\"], [0.2222222222222222, \"#7201a8\"], [0.3333333333333333, \"#9c179e\"], [0.4444444444444444, \"#bd3786\"], [0.5555555555555556, \"#d8576b\"], [0.6666666666666666, \"#ed7953\"], [0.7777777777777778, \"#fb9f3a\"], [0.8888888888888888, \"#fdca26\"], [1.0, \"#f0f921\"]], \"type\": \"heatmap\"}], \"heatmapgl\": [{\"colorbar\": {\"outlinewidth\": 0, \"ticks\": \"\"}, \"colorscale\": [[0.0, \"#0d0887\"], [0.1111111111111111, \"#46039f\"], [0.2222222222222222, \"#7201a8\"], [0.3333333333333333, \"#9c179e\"], [0.4444444444444444, \"#bd3786\"], [0.5555555555555556, \"#d8576b\"], [0.6666666666666666, \"#ed7953\"], [0.7777777777777778, \"#fb9f3a\"], [0.8888888888888888, \"#fdca26\"], [1.0, \"#f0f921\"]], \"type\": \"heatmapgl\"}], \"histogram\": [{\"marker\": {\"colorbar\": {\"outlinewidth\": 0, \"ticks\": \"\"}}, \"type\": \"histogram\"}], \"histogram2d\": [{\"colorbar\": {\"outlinewidth\": 0, \"ticks\": \"\"}, \"colorscale\": [[0.0, \"#0d0887\"], [0.1111111111111111, \"#46039f\"], [0.2222222222222222, \"#7201a8\"], [0.3333333333333333, \"#9c179e\"], [0.4444444444444444, \"#bd3786\"], [0.5555555555555556, \"#d8576b\"], [0.6666666666666666, \"#ed7953\"], [0.7777777777777778, \"#fb9f3a\"], [0.8888888888888888, \"#fdca26\"], [1.0, \"#f0f921\"]], \"type\": \"histogram2d\"}], \"histogram2dcontour\": [{\"colorbar\": {\"outlinewidth\": 0, \"ticks\": \"\"}, \"colorscale\": [[0.0, \"#0d0887\"], [0.1111111111111111, \"#46039f\"], [0.2222222222222222, \"#7201a8\"], [0.3333333333333333, \"#9c179e\"], [0.4444444444444444, \"#bd3786\"], [0.5555555555555556, \"#d8576b\"], [0.6666666666666666, \"#ed7953\"], [0.7777777777777778, \"#fb9f3a\"], [0.8888888888888888, \"#fdca26\"], [1.0, \"#f0f921\"]], \"type\": \"histogram2dcontour\"}], \"mesh3d\": [{\"colorbar\": {\"outlinewidth\": 0, \"ticks\": \"\"}, \"type\": \"mesh3d\"}], \"parcoords\": [{\"line\": {\"colorbar\": {\"outlinewidth\": 0, \"ticks\": \"\"}}, \"type\": \"parcoords\"}], \"pie\": [{\"automargin\": true, \"type\": \"pie\"}], \"scatter\": [{\"marker\": {\"colorbar\": {\"outlinewidth\": 0, \"ticks\": \"\"}}, \"type\": \"scatter\"}], \"scatter3d\": [{\"line\": {\"colorbar\": {\"outlinewidth\": 0, \"ticks\": \"\"}}, \"marker\": {\"colorbar\": {\"outlinewidth\": 0, \"ticks\": \"\"}}, \"type\": \"scatter3d\"}], \"scattercarpet\": [{\"marker\": {\"colorbar\": {\"outlinewidth\": 0, \"ticks\": \"\"}}, \"type\": \"scattercarpet\"}], \"scattergeo\": [{\"marker\": {\"colorbar\": {\"outlinewidth\": 0, \"ticks\": \"\"}}, \"type\": \"scattergeo\"}], \"scattergl\": [{\"marker\": {\"colorbar\": {\"outlinewidth\": 0, \"ticks\": \"\"}}, \"type\": \"scattergl\"}], \"scattermapbox\": [{\"marker\": {\"colorbar\": {\"outlinewidth\": 0, \"ticks\": \"\"}}, \"type\": \"scattermapbox\"}], \"scatterpolar\": [{\"marker\": {\"colorbar\": {\"outlinewidth\": 0, \"ticks\": \"\"}}, \"type\": \"scatterpolar\"}], \"scatterpolargl\": [{\"marker\": {\"colorbar\": {\"outlinewidth\": 0, \"ticks\": \"\"}}, \"type\": \"scatterpolargl\"}], \"scatterternary\": [{\"marker\": {\"colorbar\": {\"outlinewidth\": 0, \"ticks\": \"\"}}, \"type\": \"scatterternary\"}], \"surface\": [{\"colorbar\": {\"outlinewidth\": 0, \"ticks\": \"\"}, \"colorscale\": [[0.0, \"#0d0887\"], [0.1111111111111111, \"#46039f\"], [0.2222222222222222, \"#7201a8\"], [0.3333333333333333, \"#9c179e\"], [0.4444444444444444, \"#bd3786\"], [0.5555555555555556, \"#d8576b\"], [0.6666666666666666, \"#ed7953\"], [0.7777777777777778, \"#fb9f3a\"], [0.8888888888888888, \"#fdca26\"], [1.0, \"#f0f921\"]], \"type\": \"surface\"}], \"table\": [{\"cells\": {\"fill\": {\"color\": \"#EBF0F8\"}, \"line\": {\"color\": \"white\"}}, \"header\": {\"fill\": {\"color\": \"#C8D4E3\"}, \"line\": {\"color\": \"white\"}}, \"type\": \"table\"}]}, \"layout\": {\"annotationdefaults\": {\"arrowcolor\": \"#2a3f5f\", \"arrowhead\": 0, \"arrowwidth\": 1}, \"autotypenumbers\": \"strict\", \"coloraxis\": {\"colorbar\": {\"outlinewidth\": 0, \"ticks\": \"\"}}, \"colorscale\": {\"diverging\": [[0, \"#8e0152\"], [0.1, \"#c51b7d\"], [0.2, \"#de77ae\"], [0.3, \"#f1b6da\"], [0.4, \"#fde0ef\"], [0.5, \"#f7f7f7\"], [0.6, \"#e6f5d0\"], [0.7, \"#b8e186\"], [0.8, \"#7fbc41\"], [0.9, \"#4d9221\"], [1, \"#276419\"]], \"sequential\": [[0.0, \"#0d0887\"], [0.1111111111111111, \"#46039f\"], [0.2222222222222222, \"#7201a8\"], [0.3333333333333333, \"#9c179e\"], [0.4444444444444444, \"#bd3786\"], [0.5555555555555556, \"#d8576b\"], [0.6666666666666666, \"#ed7953\"], [0.7777777777777778, \"#fb9f3a\"], [0.8888888888888888, \"#fdca26\"], [1.0, \"#f0f921\"]], \"sequentialminus\": [[0.0, \"#0d0887\"], [0.1111111111111111, \"#46039f\"], [0.2222222222222222, \"#7201a8\"], [0.3333333333333333, \"#9c179e\"], [0.4444444444444444, \"#bd3786\"], [0.5555555555555556, \"#d8576b\"], [0.6666666666666666, \"#ed7953\"], [0.7777777777777778, \"#fb9f3a\"], [0.8888888888888888, \"#fdca26\"], [1.0, \"#f0f921\"]]}, \"colorway\": [\"#636efa\", \"#EF553B\", \"#00cc96\", \"#ab63fa\", \"#FFA15A\", \"#19d3f3\", \"#FF6692\", \"#B6E880\", \"#FF97FF\", \"#FECB52\"], \"font\": {\"color\": \"#2a3f5f\"}, \"geo\": {\"bgcolor\": \"white\", \"lakecolor\": \"white\", \"landcolor\": \"white\", \"showlakes\": true, \"showland\": true, \"subunitcolor\": \"#C8D4E3\"}, \"hoverlabel\": {\"align\": \"left\"}, \"hovermode\": \"closest\", \"mapbox\": {\"style\": \"light\"}, \"paper_bgcolor\": \"white\", \"plot_bgcolor\": \"white\", \"polar\": {\"angularaxis\": {\"gridcolor\": \"#EBF0F8\", \"linecolor\": \"#EBF0F8\", \"ticks\": \"\"}, \"bgcolor\": \"white\", \"radialaxis\": {\"gridcolor\": \"#EBF0F8\", \"linecolor\": \"#EBF0F8\", \"ticks\": \"\"}}, \"scene\": {\"xaxis\": {\"backgroundcolor\": \"white\", \"gridcolor\": \"#DFE8F3\", \"gridwidth\": 2, \"linecolor\": \"#EBF0F8\", \"showbackground\": true, \"ticks\": \"\", \"zerolinecolor\": \"#EBF0F8\"}, \"yaxis\": {\"backgroundcolor\": \"white\", \"gridcolor\": \"#DFE8F3\", \"gridwidth\": 2, \"linecolor\": \"#EBF0F8\", \"showbackground\": true, \"ticks\": \"\", \"zerolinecolor\": \"#EBF0F8\"}, \"zaxis\": {\"backgroundcolor\": \"white\", \"gridcolor\": \"#DFE8F3\", \"gridwidth\": 2, \"linecolor\": \"#EBF0F8\", \"showbackground\": true, \"ticks\": \"\", \"zerolinecolor\": \"#EBF0F8\"}}, \"shapedefaults\": {\"line\": {\"color\": \"#2a3f5f\"}}, \"ternary\": {\"aaxis\": {\"gridcolor\": \"#DFE8F3\", \"linecolor\": \"#A2B1C6\", \"ticks\": \"\"}, \"baxis\": {\"gridcolor\": \"#DFE8F3\", \"linecolor\": \"#A2B1C6\", \"ticks\": \"\"}, \"bgcolor\": \"white\", \"caxis\": {\"gridcolor\": \"#DFE8F3\", \"linecolor\": \"#A2B1C6\", \"ticks\": \"\"}}, \"title\": {\"x\": 0.05}, \"xaxis\": {\"automargin\": true, \"gridcolor\": \"#EBF0F8\", \"linecolor\": \"#EBF0F8\", \"ticks\": \"\", \"title\": {\"standoff\": 15}, \"zerolinecolor\": \"#EBF0F8\", \"zerolinewidth\": 2}, \"yaxis\": {\"automargin\": true, \"gridcolor\": \"#EBF0F8\", \"linecolor\": \"#EBF0F8\", \"ticks\": \"\", \"title\": {\"standoff\": 15}, \"zerolinecolor\": \"#EBF0F8\", \"zerolinewidth\": 2}}}, \"title\": {\"text\": \"Andamento dei Tassi per Regione Sardegna\"}, \"xaxis\": {\"title\": {\"text\": \"Anno di riferimento\"}}, \"yaxis\": {\"title\": {\"text\": \"Tasso\"}}},                        {\"responsive\": true}                    ).then(function(){\n",
       "                            \n",
       "var gd = document.getElementById('a28086a9-0552-4124-b7e3-f6f953ca3def');\n",
       "var x = new MutationObserver(function (mutations, observer) {{\n",
       "        var display = window.getComputedStyle(gd).display;\n",
       "        if (!display || display === 'none') {{\n",
       "            console.log([gd, 'removed!']);\n",
       "            Plotly.purge(gd);\n",
       "            observer.disconnect();\n",
       "        }}\n",
       "}});\n",
       "\n",
       "// Listen for the removal of the full notebook cells\n",
       "var notebookContainer = gd.closest('#notebook-container');\n",
       "if (notebookContainer) {{\n",
       "    x.observe(notebookContainer, {childList: true});\n",
       "}}\n",
       "\n",
       "// Listen for the clearing of the current output cell\n",
       "var outputEl = gd.closest('.output');\n",
       "if (outputEl) {{\n",
       "    x.observe(outputEl, {childList: true});\n",
       "}}\n",
       "\n",
       "                        })                };                });            </script>        </div>"
      ]
     },
     "metadata": {},
     "output_type": "display_data"
    }
   ],
   "source": [
    "df2 = df1[((df1.index.get_level_values(0)) == 'Sardegna')]\n",
    "\n",
    "fig = go.Figure()\n",
    "# Create and style traces, dash options include 'dash', 'dot', and 'dashdot'\n",
    "fig.add_trace(go.Scatter(x=df2.index.get_level_values(2), y=df2['tasso_attività'], name = 'Attività',\n",
    "                         line=dict(color='Darkcyan', width=4,\n",
    "                                   dash='dashdot')))\n",
    "fig.add_trace(go.Scatter(x=df2.index.get_level_values(2), y=df2['tasso_occupazione'], name='Occupazione',\n",
    "                         line=dict(color='Darkseagreen', width=4)))\n",
    "fig.add_trace(go.Scatter(x=df2.index.get_level_values(2), y=df2['tasso_inattività'], name = 'Inattività',\n",
    "                         line = dict(color='orangered', width=4, dash='dot')))\n",
    "fig.add_trace(go.Scatter(x=df2.index.get_level_values(2), y=df2['tasso_disoccupazione'], name = 'Disoccupazione',\n",
    "                         line=dict(color='crimson', width=4)))\n",
    "\n",
    "# Edit the layout\n",
    "fig.update_layout(title='Andamento dei Tassi per Regione Sardegna',\n",
    "                   xaxis_title='Anno di riferimento',\n",
    "                   yaxis_title='Tasso')\n",
    "\n",
    "\n",
    "fig.show()\n"
   ]
  },
  {
   "cell_type": "code",
   "execution_count": 33,
   "metadata": {},
   "outputs": [],
   "source": [
    "#df5 = df_pivot[(df_pivot.index.get_level_values(4) == '15-64 anni')]\n"
   ]
  },
  {
   "cell_type": "code",
   "execution_count": 53,
   "metadata": {},
   "outputs": [
    {
     "data": {
      "text/plain": [
       "Index(['Abruzzo', 'Basilicata', 'Calabria', 'Campania', 'Emilia-Romagna',\n",
       "       'Friuli-Venezia Giulia', 'Lazio', 'Liguria', 'Lombardia', 'Marche',\n",
       "       'Molise', 'Piemonte', 'Provincia Autonoma Bolzano / Bozen',\n",
       "       'Provincia Autonoma Trento', 'Puglia', 'Sardegna', 'Sicilia', 'Toscana',\n",
       "       'Trentino Alto Adige / Südtirol', 'Umbria',\n",
       "       'Valle d'Aosta / Vallée d'Aoste', 'Veneto'],\n",
       "      dtype='object', name='territorio')"
      ]
     },
     "execution_count": 53,
     "metadata": {},
     "output_type": "execute_result"
    }
   ],
   "source": [
    "df5 = df_pivot[(df_pivot.index.get_level_values(4) == '15-64 anni')]\n",
    "fig = go.Figure()\n",
    "fig.add_trace(go.Histogram(\n",
    "    x=df5.index.get_level_values(2),\n",
    "    histnorm='percent',\n",
    "    name='control', # name used in legend and hover labels\n",
    "    xbins=dict( # bins used for histogram\n",
    "        start=-4.0,\n",
    "        end=3.0,\n",
    "        size=0.5\n",
    "    ),\n",
    "    marker_color='#EB89B5',\n",
    "    opacity=0.75\n",
    "))\n",
    "fig.add_trace(go.Histogram(\n",
    "    x=x1,\n",
    "    histnorm='percent',\n",
    "    name='experimental',\n",
    "    xbins=dict(\n",
    "        start=-3.0,\n",
    "        end=4,\n",
    "        size=0.5\n",
    "    ),\n",
    "    marker_color='#330C73',\n",
    "    opacity=0.75\n",
    "))\n",
    "\n",
    "fig.update_layout(\n",
    "    title_text='Sampled Results', # title of plot\n",
    "    xaxis_title_text='Value', # xaxis label\n",
    "    yaxis_title_text='Count', # yaxis label\n",
    "    bargap=0.2, # gap between bars of adjacent location coordinates\n",
    "    bargroupgap=0.1 # gap between bars of the same location coordinates\n",
    ")\n",
    "\n",
    "fig.show()"
   ]
  },
  {
   "cell_type": "code",
   "execution_count": 87,
   "metadata": {},
   "outputs": [
    {
     "name": "stdout",
     "output_type": "stream",
     "text": [
      "Dash is running on http://127.0.0.1:8050/\n",
      "\n",
      "Dash is running on http://127.0.0.1:8050/\n",
      "\n",
      "Dash is running on http://127.0.0.1:8050/\n",
      "\n",
      "Dash is running on http://127.0.0.1:8050/\n",
      "\n",
      "Dash is running on http://127.0.0.1:8050/\n",
      "\n",
      "Dash is running on http://127.0.0.1:8050/\n",
      "\n",
      "Dash is running on http://127.0.0.1:8050/\n",
      "\n",
      "Dash is running on http://127.0.0.1:8050/\n",
      "\n",
      "Dash is running on http://127.0.0.1:8050/\n",
      "\n",
      "Dash is running on http://127.0.0.1:8050/\n",
      "\n",
      "Dash is running on http://127.0.0.1:8050/\n",
      "\n",
      "Dash is running on http://127.0.0.1:8050/\n",
      "\n",
      "Dash is running on http://127.0.0.1:8050/\n",
      "\n",
      "Dash is running on http://127.0.0.1:8050/\n",
      "\n",
      "Dash is running on http://127.0.0.1:8050/\n",
      "\n",
      "Dash is running on http://127.0.0.1:8050/\n",
      "\n",
      "Dash is running on http://127.0.0.1:8050/\n",
      "\n",
      "Dash is running on http://127.0.0.1:8050/\n",
      "\n",
      "Dash is running on http://127.0.0.1:8050/\n",
      "\n",
      "Dash is running on http://127.0.0.1:8050/\n",
      "\n",
      "Dash is running on http://127.0.0.1:8050/\n",
      "\n",
      "Dash is running on http://127.0.0.1:8050/\n",
      "\n",
      "Dash is running on http://127.0.0.1:8050/\n",
      "\n",
      " * Serving Flask app \"__main__\" (lazy loading)\n",
      " * Environment: production\n",
      "   WARNING: This is a development server. Do not use it in a production deployment.\n",
      "   Use a production WSGI server instead.\n",
      " * Debug mode: on\n"
     ]
    }
   ],
   "source": [
    "app = dash.Dash(__name__)\n",
    "\n",
    "app.layout = html.Div([\n",
    "    dcc.Dropdown(\n",
    "        id=\"ticker\",\n",
    "        options=[{\"label\": x, \"value\": x} \n",
    "                 for x in df6.columns[7:]],\n",
    "        value=df6.columns[7],\n",
    "        clearable=False,\n",
    "    ),\n",
    "    dcc.Graph(id=\"time-series-chart\"),\n",
    "])\n",
    "\n",
    "@app.callback(\n",
    "    Output(\"time-series-chart\", \"figure\"), \n",
    "    [Input(\"ticker\", \"value\")])\n",
    "def display_time_series(ticker):\n",
    "    fig = px.line(df6, x=df6.index.get_level_values(2), y=ticker,\n",
    "                 title='Andamento Tasso di occupazione in italia (per zone)', color=df6.index.get_level_values(1))\n",
    "    return fig\n",
    "\n",
    "app.run_server(debug=True, use_reloader=False)"
   ]
  },
  {
   "cell_type": "code",
   "execution_count": 42,
   "metadata": {},
   "outputs": [
    {
     "data": {
      "application/vnd.plotly.v1+json": {
       "config": {
        "plotlyServerURL": "https://plot.ly"
       },
       "data": [
        {
         "alignmentgroup": "True",
         "customdata": [
          [
           50.38577888925959
          ],
          [
           50.71951573658732
          ],
          [
           51.091051571753084
          ],
          [
           51.771669201743144
          ],
          [
           52.732348483653624
          ],
          [
           53.7049649018791
          ],
          [
           55.606295180949175
          ],
          [
           57.16706760210566
          ],
          [
           58.730302882252694
          ],
          [
           58.51703086301282
          ],
          [
           59.38128306934828
          ],
          [
           59.51409132328204
          ],
          [
           60.228552033309924
          ],
          [
           59.515639195615385
          ],
          [
           59.12502104146535
          ],
          [
           58.83515661748314
          ],
          [
           58.830195930886276
          ],
          [
           57.74939243181397
          ],
          [
           58.76462235868685
          ],
          [
           58.97680542651713
          ],
          [
           59.90611470481705
          ],
          [
           60.883121437048025
          ],
          [
           60.90738181233459
          ],
          [
           59.114353743348545
          ],
          [
           58.21222750533697
          ],
          [
           59.04845811286046
          ],
          [
           60.86516185520799
          ],
          [
           61.948538077862324
          ],
          [
           62.54764853623068
          ],
          [
           63.625988782046264
          ],
          [
           64.09835024786352
          ],
          [
           63.94769279686826
          ],
          [
           63.45601901347062
          ],
          [
           64.35658696854098
          ],
          [
           64.80982923441458
          ],
          [
           64.7091910669474
          ],
          [
           63.62459151513209
          ],
          [
           63.73006519748922
          ],
          [
           62.441302678348286
          ],
          [
           62.58250398190137
          ],
          [
           61.051650749037975
          ],
          [
           62.39773590143456
          ],
          [
           62.14469395611446
          ],
          [
           62.22628321941065
          ],
          [
           62.18386453313144
          ],
          [
           64.66219213162498
          ],
          [
           58.89606902492728
          ],
          [
           59.00964413336675
          ],
          [
           59.975845431442984
          ],
          [
           61.1261999521598
          ],
          [
           62.6115781254137
          ],
          [
           63.857461924689105
          ],
          [
           64.19349345721757
          ],
          [
           63.78625278246191
          ],
          [
           63.28515222486507
          ],
          [
           63.712366973971726
          ],
          [
           64.68017152279567
          ],
          [
           64.65971154648203
          ],
          [
           65.25311002161854
          ],
          [
           64.71320035279567
          ],
          [
           63.70980385510108
          ],
          [
           63.56544193689607
          ],
          [
           63.74224235099203
          ],
          [
           63.71579888833217
          ],
          [
           63.80196463587021
          ],
          [
           64.81351130968237
          ],
          [
           65.3234943434551
          ],
          [
           66.0273838053607
          ],
          [
           66.52810649162268
          ],
          [
           57.30364734840009
          ],
          [
           57.67166510056959
          ],
          [
           58.28927114564182
          ],
          [
           60.802325211199815
          ],
          [
           62.61792099106125
          ],
          [
           63.22960808311014
          ],
          [
           62.27653641753679
          ],
          [
           60.965653810586886
          ],
          [
           61.38257186787081
          ],
          [
           61.62180965510133
          ],
          [
           62.789249480604646
          ],
          [
           64.55944906184138
          ],
          [
           65.29967027859017
          ],
          [
           62.85624652671961
          ],
          [
           62.583353694314205
          ],
          [
           62.24988575604604
          ],
          [
           61.49885288238885
          ],
          [
           60.89721443606666
          ],
          [
           61.02204444635089
          ],
          [
           63.10313378628517
          ],
          [
           62.728602779809805
          ],
          [
           62.94327047434375
          ],
          [
           63.044003514423785
          ],
          [
           47.192378619470496
          ],
          [
           48.06097017397503
          ],
          [
           48.69643725258698
          ],
          [
           49.58357232194224
          ],
          [
           49.67398932325944
          ],
          [
           51.617997475353185
          ],
          [
           52.37152882998019
          ],
          [
           51.22987004201913
          ],
          [
           51.487865685356425
          ],
          [
           51.397359892220386
          ],
          [
           52.10160937943584
          ],
          [
           52.77565036934555
          ],
          [
           52.32506742682303
          ],
          [
           50.783691026565435
          ],
          [
           50.96596397270589
          ],
          [
           51.718085760030775
          ],
          [
           51.71301649120672
          ],
          [
           48.317612971947646
          ],
          [
           48.554510308929224
          ],
          [
           50.14760948953195
          ],
          [
           50.29886075926194
          ],
          [
           50.45695583191265
          ],
          [
           52.73463038212919
          ],
          [
           39.76826536338623
          ],
          [
           40.152976811282684
          ],
          [
           41.136882480636125
          ],
          [
           41.263147023399995
          ],
          [
           41.87037986748929
          ],
          [
           43.28398315802603
          ],
          [
           43.88376957708116
          ],
          [
           43.255651068683434
          ],
          [
           43.328926234697704
          ],
          [
           44.08383824542375
          ],
          [
           45.01780753951615
          ],
          [
           44.55431575311309
          ],
          [
           44.14677838914622
          ],
          [
           43.57446616541353
          ],
          [
           42.683882388862735
          ],
          [
           42.37444811083778
          ],
          [
           41.29860799603608
          ],
          [
           39.329117767658936
          ],
          [
           39.01483640455087
          ],
          [
           39.97773049270459
          ],
          [
           40.102633779453726
          ],
          [
           40.62769354340627
          ],
          [
           40.67349545182057
          ],
          [
           64.05293272847472
          ],
          [
           64.73839453974529
          ],
          [
           65.3820306915931
          ],
          [
           66.78046299759785
          ],
          [
           68.03608229491164
          ],
          [
           68.83310940139437
          ],
          [
           69.87164129716685
          ],
          [
           69.55666878444242
          ],
          [
           68.34824036525536
          ],
          [
           68.43104926614419
          ],
          [
           69.37335379735005
          ],
          [
           70.18662934377897
          ],
          [
           70.15933468169918
          ],
          [
           68.38413627948894
          ],
          [
           67.31552784467686
          ],
          [
           67.8036955739423
          ],
          [
           67.5020290972183
          ],
          [
           66.24904048946746
          ],
          [
           66.26446355409482
          ],
          [
           66.69938311244363
          ],
          [
           68.39061675726508
          ],
          [
           68.58451727550595
          ],
          [
           69.60103249699739
          ],
          [
           58.73941404642229
          ],
          [
           58.78322402269016
          ],
          [
           59.775721062821496
          ],
          [
           60.40213076820199
          ],
          [
           61.93878686418605
          ],
          [
           63.58067324544451
          ],
          [
           63.81949630894136
          ],
          [
           63.12050881754796
          ],
          [
           62.59793013047189
          ],
          [
           63.15853141430258
          ],
          [
           64.77717461531867
          ],
          [
           65.38688264090013
          ],
          [
           65.18461349743421
          ],
          [
           63.477053164763795
          ],
          [
           63.59153756455106
          ],
          [
           64.2095065824599
          ],
          [
           63.64205394435538
          ],
          [
           62.9633096462011
          ],
          [
           63.112487455646175
          ],
          [
           63.657264776479025
          ],
          [
           64.6627177552664
          ],
          [
           65.7219838206581
          ],
          [
           66.27223911841905
          ],
          [
           55.46204231305922
          ],
          [
           55.65705636932565
          ],
          [
           56.89579732970784
          ],
          [
           58.16410825234058
          ],
          [
           59.35803157427729
          ],
          [
           61.464456978159866
          ],
          [
           61.70813268724539
          ],
          [
           60.466024288451145
          ],
          [
           60.616710284311424
          ],
          [
           60.968326150352006
          ],
          [
           62.097453296815594
          ],
          [
           63.46997942355157
          ],
          [
           63.643494419975156
          ],
          [
           63.22582497060358
          ],
          [
           62.73829853792623
          ],
          [
           62.97525072625928
          ],
          [
           61.98540498284941
          ],
          [
           60.618409057278534
          ],
          [
           60.723078876223504
          ],
          [
           62.384052416602785
          ],
          [
           62.71914723664459
          ],
          [
           62.3682240343174
          ],
          [
           62.96090599053389
          ],
          [
           59.58647320932388
          ],
          [
           59.72518054049074
          ],
          [
           60.728278907873545
          ],
          [
           61.762284004146615
          ],
          [
           62.57426930227968
          ],
          [
           63.83152197637146
          ],
          [
           64.66219595075256
          ],
          [
           65.26248430210897
          ],
          [
           65.49990586215024
          ],
          [
           65.50726566370632
          ],
          [
           66.51508934353181
          ],
          [
           66.66997135015593
          ],
          [
           66.91399927887677
          ],
          [
           65.69655380623215
          ],
          [
           64.96402184647202
          ],
          [
           64.57302635908782
          ],
          [
           64.52967392380089
          ],
          [
           64.7646559729269
          ],
          [
           64.8554639557197
          ],
          [
           65.13575531249556
          ],
          [
           66.22501106238308
          ],
          [
           67.25779919319393
          ],
          [
           67.69474850312717
          ],
          [
           57.6956786771448
          ],
          [
           57.32067418004546
          ],
          [
           57.492797894523065
          ],
          [
           59.17983953397411
          ],
          [
           61.041060322231274
          ],
          [
           62.007941408912174
          ],
          [
           62.380630768476394
          ],
          [
           62.90418856656637
          ],
          [
           63.46061329133876
          ],
          [
           63.975641427483986
          ],
          [
           64.71129298625972
          ],
          [
           64.86576455418415
          ],
          [
           65.18853548952652
          ],
          [
           63.90306412626191
          ],
          [
           63.471975183105336
          ],
          [
           64.17793029814479
          ],
          [
           63.63767960540425
          ],
          [
           62.203157482126215
          ],
          [
           62.389576647623535
          ],
          [
           63.66582772426599
          ],
          [
           64.4394130842883
          ],
          [
           65.1908369450799
          ],
          [
           65.89484988698626
          ],
          [
           63.41215850001149
          ],
          [
           63.22680419126754
          ],
          [
           63.92495402715582
          ],
          [
           63.73724140628055
          ],
          [
           65.45039612232492
          ],
          [
           65.46559203231685
          ],
          [
           66.94911141523261
          ],
          [
           68.27218626387597
          ],
          [
           69.1740564074655
          ],
          [
           69.02312561631199
          ],
          [
           69.4959952498863
          ],
          [
           69.68520860067959
          ],
          [
           70.42289896290028
          ],
          [
           70.37434511254477
          ],
          [
           71.01803617063102
          ],
          [
           70.99543468117484
          ],
          [
           71.8053722831445
          ],
          [
           71.44071065255648
          ],
          [
           70.844054890378
          ],
          [
           71.37805704797202
          ],
          [
           72.68077454389558
          ],
          [
           72.89322056492824
          ],
          [
           73.5222390308778
          ],
          [
           62.58002209288054
          ],
          [
           62.83964569629179
          ],
          [
           63.82803354660766
          ],
          [
           64.89169761552733
          ],
          [
           66.37180803876618
          ],
          [
           66.27252091821714
          ],
          [
           65.72540061650297
          ],
          [
           66.12651760389208
          ],
          [
           65.64033650913572
          ],
          [
           65.057015095659
          ],
          [
           65.36431478554823
          ],
          [
           66.28254478222654
          ],
          [
           66.68156793327434
          ],
          [
           66.51620174194373
          ],
          [
           65.89864336221785
          ],
          [
           65.9235023988028
          ],
          [
           65.3791100872584
          ],
          [
           65.51379162498213
          ],
          [
           65.89123155117086
          ],
          [
           66.08388454162653
          ],
          [
           66.04361279945921
          ],
          [
           67.55032812536491
          ],
          [
           68.2056730550318
          ],
          [
           62.99242220669641
          ],
          [
           63.031535254885206
          ],
          [
           63.87615439759339
          ],
          [
           64.32043767600749
          ],
          [
           65.91631343161225
          ],
          [
           65.87369597913887
          ],
          [
           66.32957210128491
          ],
          [
           67.18450700425477
          ],
          [
           67.37773734403848
          ],
          [
           67.00389117209849
          ],
          [
           67.39433046085374
          ],
          [
           67.95447152466126
          ],
          [
           68.51815079687543
          ],
          [
           68.40739264040847
          ],
          [
           68.40767035190403
          ],
          [
           68.41059246121591
          ],
          [
           68.53492709494044
          ],
          [
           68.4289857821872
          ],
          [
           68.33148845103682
          ],
          [
           68.69664544275439
          ],
          [
           69.32655366233293
          ],
          [
           70.20218580038434
          ],
          [
           70.85034317960785
          ],
          [
           65.91238544507506
          ],
          [
           66.44390291931276
          ],
          [
           66.20165728849872
          ],
          [
           66.3229351468559
          ],
          [
           68.79972327914217
          ],
          [
           70.00606563262073
          ],
          [
           70.69213594641528
          ],
          [
           67.52248690323218
          ],
          [
           67.15598358843329
          ],
          [
           66.41814759588355
          ],
          [
           67.01526698970027
          ],
          [
           68.18712596701212
          ],
          [
           67.84383684664022
          ],
          [
           66.82473651656095
          ],
          [
           67.3412124819318
          ],
          [
           66.88036787426097
          ],
          [
           66.32290662338139
          ],
          [
           65.61629781620988
          ],
          [
           66.16930647017062
          ],
          [
           66.18561278863233
          ],
          [
           66.43084894380232
          ],
          [
           67.07248195795418
          ],
          [
           67.87480240278217
          ],
          [
           59.2461853903078
          ],
          [
           60.02693516321427
          ],
          [
           60.46507163083227
          ],
          [
           61.35193942666085
          ],
          [
           62.82751221295372
          ],
          [
           63.6776529618447
          ],
          [
           63.88294862180928
          ],
          [
           64.6844731321231
          ],
          [
           64.39525349651471
          ],
          [
           64.6284223251216
          ],
          [
           65.28159791691373
          ],
          [
           65.69468131242027
          ],
          [
           66.44839449179666
          ],
          [
           64.57746516437358
          ],
          [
           64.36675025550328
          ],
          [
           64.88681035991478
          ],
          [
           64.90730883479131
          ],
          [
           63.05321947249457
          ],
          [
           63.71517914175653
          ],
          [
           63.61311292777951
          ],
          [
           64.73510713294971
          ],
          [
           66.03763821915564
          ],
          [
           66.64898476881105
          ],
          [
           56.01269746496099
          ],
          [
           55.730080391741055
          ],
          [
           55.44264132524239
          ],
          [
           54.9928586347738
          ],
          [
           56.31064439925625
          ],
          [
           58.53662672257386
          ],
          [
           59.20962561532189
          ],
          [
           57.99203139148808
          ],
          [
           56.40573762150423
          ],
          [
           57.058133658787746
          ],
          [
           57.6489829684508
          ],
          [
           57.933096418615534
          ],
          [
           58.807943618702566
          ],
          [
           55.72250842898529
          ],
          [
           55.3755758907206
          ],
          [
           56.628213378336845
          ],
          [
           56.661084596598435
          ],
          [
           54.95403343065255
          ],
          [
           53.945744989834445
          ],
          [
           54.50147605657496
          ],
          [
           55.73094634570936
          ],
          [
           56.806653772493696
          ],
          [
           58.013003484953074
          ],
          [
           45.061381093185744
          ],
          [
           46.18861537695697
          ],
          [
           46.556486223695295
          ],
          [
           47.27602296839331
          ],
          [
           49.18316725285784
          ],
          [
           48.63262924228208
          ],
          [
           49.609033399645085
          ],
          [
           49.627729109041084
          ],
          [
           49.129930245183935
          ],
          [
           49.16422673544949
          ],
          [
           50.23396242075885
          ],
          [
           49.53019889807449
          ],
          [
           49.61185768288124
          ],
          [
           48.384240239741146
          ],
          [
           47.06478943563445
          ],
          [
           47.611829906035794
          ],
          [
           46.82904279741027
          ],
          [
           46.17887030658617
          ],
          [
           47.188266632974305
          ],
          [
           49.19340735048623
          ],
          [
           50.326368493636686
          ],
          [
           49.49463690818968
          ],
          [
           49.38840578135778
          ],
          [
           42.067390858181604
          ],
          [
           41.94982415074809
          ],
          [
           42.40159372077557
          ],
          [
           42.02071319725932
          ],
          [
           43.05819717522527
          ],
          [
           44.29469597429535
          ],
          [
           45.27910375207954
          ],
          [
           45.207944835516486
          ],
          [
           46.153607890716955
          ],
          [
           44.51882006866843
          ],
          [
           45.44828891188041
          ],
          [
           44.85430049404954
          ],
          [
           44.02132005481344
          ],
          [
           43.00418509849681
          ],
          [
           42.10342319638673
          ],
          [
           42.436235239709255
          ],
          [
           41.470505021387325
          ],
          [
           38.949236641221376
          ],
          [
           39.31185373528202
          ],
          [
           38.91355047662694
          ],
          [
           39.62746032827079
          ],
          [
           40.83779221730572
          ],
          [
           42.152181834173064
          ],
          [
           42.28737369201352
          ],
          [
           42.45687496113133
          ],
          [
           43.547884079910624
          ],
          [
           43.30305867112907
          ],
          [
           43.34845269861897
          ],
          [
           44.09262708050536
          ],
          [
           45.47075448567809
          ],
          [
           45.7700197235566
          ],
          [
           45.23416323016598
          ],
          [
           44.04637067555537
          ],
          [
           44.115417451148396
          ],
          [
           43.666479158172876
          ],
          [
           42.398161151105015
          ],
          [
           40.76750471264707
          ],
          [
           39.78443202447002
          ],
          [
           39.35335326152051
          ],
          [
           39.8906844869348
          ],
          [
           39.70944365384263
          ],
          [
           39.170285752652894
          ],
          [
           39.576877212001406
          ],
          [
           41.16202091394995
          ],
          [
           42.04875369713995
          ],
          [
           41.641068427612375
          ],
          [
           49.534269493946915
          ],
          [
           49.92960009071666
          ],
          [
           50.17916207276737
          ],
          [
           50.440831049048725
          ],
          [
           51.775626281193766
          ],
          [
           53.01519445223565
          ],
          [
           53.278000242689
          ],
          [
           51.790946310417766
          ],
          [
           52.110123748703884
          ],
          [
           51.2096009799299
          ],
          [
           52.35075154773462
          ],
          [
           53.59359535058337
          ],
          [
           54.11724756845909
          ],
          [
           52.179034157832746
          ],
          [
           51.01333955133249
          ],
          [
           50.26954112267408
          ],
          [
           50.61991845105843
          ],
          [
           47.57247386248662
          ],
          [
           48.484387572861266
          ],
          [
           49.38267331873043
          ],
          [
           51.86143560135812
          ],
          [
           51.708712823406145
          ],
          [
           53.45486261648398
          ],
          [
           42.806000234657446
          ],
          [
           42.1578050480392
          ],
          [
           42.63774363195315
          ],
          [
           43.439563573553116
          ],
          [
           44.53775762144479
          ],
          [
           45.4245139999121
          ],
          [
           46.22601525562443
          ],
          [
           45.416338372768095
          ],
          [
           45.10304684350859
          ],
          [
           44.3929082670831
          ],
          [
           45.67876216347743
          ],
          [
           46.59317008585971
          ],
          [
           46.57913289853759
          ],
          [
           44.90942326764622
          ],
          [
           44.31301967835235
          ],
          [
           44.717406032615436
          ],
          [
           44.88059662995457
          ],
          [
           42.333333704141666
          ],
          [
           42.13890570045007
          ],
          [
           43.29481774349951
          ],
          [
           44.276280379794756
          ],
          [
           44.51721893002306
          ],
          [
           45.54416486477521
          ]
         ],
         "hovertemplate": "x=%{x}<br>totale=%{y}<br>tasso_occupazione=%{marker.color}<extra></extra>",
         "legendgroup": "",
         "marker": {
          "color": [
           50.38577888925959,
           50.71951573658732,
           51.091051571753084,
           51.771669201743144,
           52.732348483653624,
           53.7049649018791,
           55.606295180949175,
           57.16706760210566,
           58.730302882252694,
           58.51703086301282,
           59.38128306934828,
           59.51409132328204,
           60.228552033309924,
           59.515639195615385,
           59.12502104146535,
           58.83515661748314,
           58.830195930886276,
           57.74939243181397,
           58.76462235868685,
           58.97680542651713,
           59.90611470481705,
           60.883121437048025,
           60.90738181233459,
           59.114353743348545,
           58.21222750533697,
           59.04845811286046,
           60.86516185520799,
           61.948538077862324,
           62.54764853623068,
           63.625988782046264,
           64.09835024786352,
           63.94769279686826,
           63.45601901347062,
           64.35658696854098,
           64.80982923441458,
           64.7091910669474,
           63.62459151513209,
           63.73006519748922,
           62.441302678348286,
           62.58250398190137,
           61.051650749037975,
           62.39773590143456,
           62.14469395611446,
           62.22628321941065,
           62.18386453313144,
           64.66219213162498,
           58.89606902492728,
           59.00964413336675,
           59.975845431442984,
           61.1261999521598,
           62.6115781254137,
           63.857461924689105,
           64.19349345721757,
           63.78625278246191,
           63.28515222486507,
           63.712366973971726,
           64.68017152279567,
           64.65971154648203,
           65.25311002161854,
           64.71320035279567,
           63.70980385510108,
           63.56544193689607,
           63.74224235099203,
           63.71579888833217,
           63.80196463587021,
           64.81351130968237,
           65.3234943434551,
           66.0273838053607,
           66.52810649162268,
           57.30364734840009,
           57.67166510056959,
           58.28927114564182,
           60.802325211199815,
           62.61792099106125,
           63.22960808311014,
           62.27653641753679,
           60.965653810586886,
           61.38257186787081,
           61.62180965510133,
           62.789249480604646,
           64.55944906184138,
           65.29967027859017,
           62.85624652671961,
           62.583353694314205,
           62.24988575604604,
           61.49885288238885,
           60.89721443606666,
           61.02204444635089,
           63.10313378628517,
           62.728602779809805,
           62.94327047434375,
           63.044003514423785,
           47.192378619470496,
           48.06097017397503,
           48.69643725258698,
           49.58357232194224,
           49.67398932325944,
           51.617997475353185,
           52.37152882998019,
           51.22987004201913,
           51.487865685356425,
           51.397359892220386,
           52.10160937943584,
           52.77565036934555,
           52.32506742682303,
           50.783691026565435,
           50.96596397270589,
           51.718085760030775,
           51.71301649120672,
           48.317612971947646,
           48.554510308929224,
           50.14760948953195,
           50.29886075926194,
           50.45695583191265,
           52.73463038212919,
           39.76826536338623,
           40.152976811282684,
           41.136882480636125,
           41.263147023399995,
           41.87037986748929,
           43.28398315802603,
           43.88376957708116,
           43.255651068683434,
           43.328926234697704,
           44.08383824542375,
           45.01780753951615,
           44.55431575311309,
           44.14677838914622,
           43.57446616541353,
           42.683882388862735,
           42.37444811083778,
           41.29860799603608,
           39.329117767658936,
           39.01483640455087,
           39.97773049270459,
           40.102633779453726,
           40.62769354340627,
           40.67349545182057,
           64.05293272847472,
           64.73839453974529,
           65.3820306915931,
           66.78046299759785,
           68.03608229491164,
           68.83310940139437,
           69.87164129716685,
           69.55666878444242,
           68.34824036525536,
           68.43104926614419,
           69.37335379735005,
           70.18662934377897,
           70.15933468169918,
           68.38413627948894,
           67.31552784467686,
           67.8036955739423,
           67.5020290972183,
           66.24904048946746,
           66.26446355409482,
           66.69938311244363,
           68.39061675726508,
           68.58451727550595,
           69.60103249699739,
           58.73941404642229,
           58.78322402269016,
           59.775721062821496,
           60.40213076820199,
           61.93878686418605,
           63.58067324544451,
           63.81949630894136,
           63.12050881754796,
           62.59793013047189,
           63.15853141430258,
           64.77717461531867,
           65.38688264090013,
           65.18461349743421,
           63.477053164763795,
           63.59153756455106,
           64.2095065824599,
           63.64205394435538,
           62.9633096462011,
           63.112487455646175,
           63.657264776479025,
           64.6627177552664,
           65.7219838206581,
           66.27223911841905,
           55.46204231305922,
           55.65705636932565,
           56.89579732970784,
           58.16410825234058,
           59.35803157427729,
           61.464456978159866,
           61.70813268724539,
           60.466024288451145,
           60.616710284311424,
           60.968326150352006,
           62.097453296815594,
           63.46997942355157,
           63.643494419975156,
           63.22582497060358,
           62.73829853792623,
           62.97525072625928,
           61.98540498284941,
           60.618409057278534,
           60.723078876223504,
           62.384052416602785,
           62.71914723664459,
           62.3682240343174,
           62.96090599053389,
           59.58647320932388,
           59.72518054049074,
           60.728278907873545,
           61.762284004146615,
           62.57426930227968,
           63.83152197637146,
           64.66219595075256,
           65.26248430210897,
           65.49990586215024,
           65.50726566370632,
           66.51508934353181,
           66.66997135015593,
           66.91399927887677,
           65.69655380623215,
           64.96402184647202,
           64.57302635908782,
           64.52967392380089,
           64.7646559729269,
           64.8554639557197,
           65.13575531249556,
           66.22501106238308,
           67.25779919319393,
           67.69474850312717,
           57.6956786771448,
           57.32067418004546,
           57.492797894523065,
           59.17983953397411,
           61.041060322231274,
           62.007941408912174,
           62.380630768476394,
           62.90418856656637,
           63.46061329133876,
           63.975641427483986,
           64.71129298625972,
           64.86576455418415,
           65.18853548952652,
           63.90306412626191,
           63.471975183105336,
           64.17793029814479,
           63.63767960540425,
           62.203157482126215,
           62.389576647623535,
           63.66582772426599,
           64.4394130842883,
           65.1908369450799,
           65.89484988698626,
           63.41215850001149,
           63.22680419126754,
           63.92495402715582,
           63.73724140628055,
           65.45039612232492,
           65.46559203231685,
           66.94911141523261,
           68.27218626387597,
           69.1740564074655,
           69.02312561631199,
           69.4959952498863,
           69.68520860067959,
           70.42289896290028,
           70.37434511254477,
           71.01803617063102,
           70.99543468117484,
           71.8053722831445,
           71.44071065255648,
           70.844054890378,
           71.37805704797202,
           72.68077454389558,
           72.89322056492824,
           73.5222390308778,
           62.58002209288054,
           62.83964569629179,
           63.82803354660766,
           64.89169761552733,
           66.37180803876618,
           66.27252091821714,
           65.72540061650297,
           66.12651760389208,
           65.64033650913572,
           65.057015095659,
           65.36431478554823,
           66.28254478222654,
           66.68156793327434,
           66.51620174194373,
           65.89864336221785,
           65.9235023988028,
           65.3791100872584,
           65.51379162498213,
           65.89123155117086,
           66.08388454162653,
           66.04361279945921,
           67.55032812536491,
           68.2056730550318,
           62.99242220669641,
           63.031535254885206,
           63.87615439759339,
           64.32043767600749,
           65.91631343161225,
           65.87369597913887,
           66.32957210128491,
           67.18450700425477,
           67.37773734403848,
           67.00389117209849,
           67.39433046085374,
           67.95447152466126,
           68.51815079687543,
           68.40739264040847,
           68.40767035190403,
           68.41059246121591,
           68.53492709494044,
           68.4289857821872,
           68.33148845103682,
           68.69664544275439,
           69.32655366233293,
           70.20218580038434,
           70.85034317960785,
           65.91238544507506,
           66.44390291931276,
           66.20165728849872,
           66.3229351468559,
           68.79972327914217,
           70.00606563262073,
           70.69213594641528,
           67.52248690323218,
           67.15598358843329,
           66.41814759588355,
           67.01526698970027,
           68.18712596701212,
           67.84383684664022,
           66.82473651656095,
           67.3412124819318,
           66.88036787426097,
           66.32290662338139,
           65.61629781620988,
           66.16930647017062,
           66.18561278863233,
           66.43084894380232,
           67.07248195795418,
           67.87480240278217,
           59.2461853903078,
           60.02693516321427,
           60.46507163083227,
           61.35193942666085,
           62.82751221295372,
           63.6776529618447,
           63.88294862180928,
           64.6844731321231,
           64.39525349651471,
           64.6284223251216,
           65.28159791691373,
           65.69468131242027,
           66.44839449179666,
           64.57746516437358,
           64.36675025550328,
           64.88681035991478,
           64.90730883479131,
           63.05321947249457,
           63.71517914175653,
           63.61311292777951,
           64.73510713294971,
           66.03763821915564,
           66.64898476881105,
           56.01269746496099,
           55.730080391741055,
           55.44264132524239,
           54.9928586347738,
           56.31064439925625,
           58.53662672257386,
           59.20962561532189,
           57.99203139148808,
           56.40573762150423,
           57.058133658787746,
           57.6489829684508,
           57.933096418615534,
           58.807943618702566,
           55.72250842898529,
           55.3755758907206,
           56.628213378336845,
           56.661084596598435,
           54.95403343065255,
           53.945744989834445,
           54.50147605657496,
           55.73094634570936,
           56.806653772493696,
           58.013003484953074,
           45.061381093185744,
           46.18861537695697,
           46.556486223695295,
           47.27602296839331,
           49.18316725285784,
           48.63262924228208,
           49.609033399645085,
           49.627729109041084,
           49.129930245183935,
           49.16422673544949,
           50.23396242075885,
           49.53019889807449,
           49.61185768288124,
           48.384240239741146,
           47.06478943563445,
           47.611829906035794,
           46.82904279741027,
           46.17887030658617,
           47.188266632974305,
           49.19340735048623,
           50.326368493636686,
           49.49463690818968,
           49.38840578135778,
           42.067390858181604,
           41.94982415074809,
           42.40159372077557,
           42.02071319725932,
           43.05819717522527,
           44.29469597429535,
           45.27910375207954,
           45.207944835516486,
           46.153607890716955,
           44.51882006866843,
           45.44828891188041,
           44.85430049404954,
           44.02132005481344,
           43.00418509849681,
           42.10342319638673,
           42.436235239709255,
           41.470505021387325,
           38.949236641221376,
           39.31185373528202,
           38.91355047662694,
           39.62746032827079,
           40.83779221730572,
           42.152181834173064,
           42.28737369201352,
           42.45687496113133,
           43.547884079910624,
           43.30305867112907,
           43.34845269861897,
           44.09262708050536,
           45.47075448567809,
           45.7700197235566,
           45.23416323016598,
           44.04637067555537,
           44.115417451148396,
           43.666479158172876,
           42.398161151105015,
           40.76750471264707,
           39.78443202447002,
           39.35335326152051,
           39.8906844869348,
           39.70944365384263,
           39.170285752652894,
           39.576877212001406,
           41.16202091394995,
           42.04875369713995,
           41.641068427612375,
           49.534269493946915,
           49.92960009071666,
           50.17916207276737,
           50.440831049048725,
           51.775626281193766,
           53.01519445223565,
           53.278000242689,
           51.790946310417766,
           52.110123748703884,
           51.2096009799299,
           52.35075154773462,
           53.59359535058337,
           54.11724756845909,
           52.179034157832746,
           51.01333955133249,
           50.26954112267408,
           50.61991845105843,
           47.57247386248662,
           48.484387572861266,
           49.38267331873043,
           51.86143560135812,
           51.708712823406145,
           53.45486261648398,
           42.806000234657446,
           42.1578050480392,
           42.63774363195315,
           43.439563573553116,
           44.53775762144479,
           45.4245139999121,
           46.22601525562443,
           45.416338372768095,
           45.10304684350859,
           44.3929082670831,
           45.67876216347743,
           46.59317008585971,
           46.57913289853759,
           44.90942326764622,
           44.31301967835235,
           44.717406032615436,
           44.88059662995457,
           42.333333704141666,
           42.13890570045007,
           43.29481774349951,
           44.276280379794756,
           44.51721893002306,
           45.54416486477521
          ],
          "coloraxis": "coloraxis"
         },
         "name": "",
         "offsetgroup": "",
         "orientation": "v",
         "showlegend": false,
         "textposition": "auto",
         "type": "bar",
         "x": [
          "Lazio",
          "Lazio",
          "Lazio",
          "Lazio",
          "Lazio",
          "Lazio",
          "Lazio",
          "Lazio",
          "Lazio",
          "Lazio",
          "Lazio",
          "Lazio",
          "Lazio",
          "Lazio",
          "Lazio",
          "Lazio",
          "Lazio",
          "Lazio",
          "Lazio",
          "Lazio",
          "Lazio",
          "Lazio",
          "Lazio",
          "Marche",
          "Marche",
          "Marche",
          "Marche",
          "Marche",
          "Marche",
          "Marche",
          "Marche",
          "Marche",
          "Marche",
          "Marche",
          "Marche",
          "Marche",
          "Marche",
          "Marche",
          "Marche",
          "Marche",
          "Marche",
          "Marche",
          "Marche",
          "Marche",
          "Marche",
          "Marche",
          "Toscana",
          "Toscana",
          "Toscana",
          "Toscana",
          "Toscana",
          "Toscana",
          "Toscana",
          "Toscana",
          "Toscana",
          "Toscana",
          "Toscana",
          "Toscana",
          "Toscana",
          "Toscana",
          "Toscana",
          "Toscana",
          "Toscana",
          "Toscana",
          "Toscana",
          "Toscana",
          "Toscana",
          "Toscana",
          "Toscana",
          "Umbria",
          "Umbria",
          "Umbria",
          "Umbria",
          "Umbria",
          "Umbria",
          "Umbria",
          "Umbria",
          "Umbria",
          "Umbria",
          "Umbria",
          "Umbria",
          "Umbria",
          "Umbria",
          "Umbria",
          "Umbria",
          "Umbria",
          "Umbria",
          "Umbria",
          "Umbria",
          "Umbria",
          "Umbria",
          "Umbria",
          "Sardegna",
          "Sardegna",
          "Sardegna",
          "Sardegna",
          "Sardegna",
          "Sardegna",
          "Sardegna",
          "Sardegna",
          "Sardegna",
          "Sardegna",
          "Sardegna",
          "Sardegna",
          "Sardegna",
          "Sardegna",
          "Sardegna",
          "Sardegna",
          "Sardegna",
          "Sardegna",
          "Sardegna",
          "Sardegna",
          "Sardegna",
          "Sardegna",
          "Sardegna",
          "Sicilia",
          "Sicilia",
          "Sicilia",
          "Sicilia",
          "Sicilia",
          "Sicilia",
          "Sicilia",
          "Sicilia",
          "Sicilia",
          "Sicilia",
          "Sicilia",
          "Sicilia",
          "Sicilia",
          "Sicilia",
          "Sicilia",
          "Sicilia",
          "Sicilia",
          "Sicilia",
          "Sicilia",
          "Sicilia",
          "Sicilia",
          "Sicilia",
          "Sicilia",
          "Emilia-Romagna",
          "Emilia-Romagna",
          "Emilia-Romagna",
          "Emilia-Romagna",
          "Emilia-Romagna",
          "Emilia-Romagna",
          "Emilia-Romagna",
          "Emilia-Romagna",
          "Emilia-Romagna",
          "Emilia-Romagna",
          "Emilia-Romagna",
          "Emilia-Romagna",
          "Emilia-Romagna",
          "Emilia-Romagna",
          "Emilia-Romagna",
          "Emilia-Romagna",
          "Emilia-Romagna",
          "Emilia-Romagna",
          "Emilia-Romagna",
          "Emilia-Romagna",
          "Emilia-Romagna",
          "Emilia-Romagna",
          "Emilia-Romagna",
          "Friuli-Venezia Giulia",
          "Friuli-Venezia Giulia",
          "Friuli-Venezia Giulia",
          "Friuli-Venezia Giulia",
          "Friuli-Venezia Giulia",
          "Friuli-Venezia Giulia",
          "Friuli-Venezia Giulia",
          "Friuli-Venezia Giulia",
          "Friuli-Venezia Giulia",
          "Friuli-Venezia Giulia",
          "Friuli-Venezia Giulia",
          "Friuli-Venezia Giulia",
          "Friuli-Venezia Giulia",
          "Friuli-Venezia Giulia",
          "Friuli-Venezia Giulia",
          "Friuli-Venezia Giulia",
          "Friuli-Venezia Giulia",
          "Friuli-Venezia Giulia",
          "Friuli-Venezia Giulia",
          "Friuli-Venezia Giulia",
          "Friuli-Venezia Giulia",
          "Friuli-Venezia Giulia",
          "Friuli-Venezia Giulia",
          "Liguria",
          "Liguria",
          "Liguria",
          "Liguria",
          "Liguria",
          "Liguria",
          "Liguria",
          "Liguria",
          "Liguria",
          "Liguria",
          "Liguria",
          "Liguria",
          "Liguria",
          "Liguria",
          "Liguria",
          "Liguria",
          "Liguria",
          "Liguria",
          "Liguria",
          "Liguria",
          "Liguria",
          "Liguria",
          "Liguria",
          "Lombardia",
          "Lombardia",
          "Lombardia",
          "Lombardia",
          "Lombardia",
          "Lombardia",
          "Lombardia",
          "Lombardia",
          "Lombardia",
          "Lombardia",
          "Lombardia",
          "Lombardia",
          "Lombardia",
          "Lombardia",
          "Lombardia",
          "Lombardia",
          "Lombardia",
          "Lombardia",
          "Lombardia",
          "Lombardia",
          "Lombardia",
          "Lombardia",
          "Lombardia",
          "Piemonte",
          "Piemonte",
          "Piemonte",
          "Piemonte",
          "Piemonte",
          "Piemonte",
          "Piemonte",
          "Piemonte",
          "Piemonte",
          "Piemonte",
          "Piemonte",
          "Piemonte",
          "Piemonte",
          "Piemonte",
          "Piemonte",
          "Piemonte",
          "Piemonte",
          "Piemonte",
          "Piemonte",
          "Piemonte",
          "Piemonte",
          "Piemonte",
          "Piemonte",
          "Provincia Autonoma Bolzano / Bozen",
          "Provincia Autonoma Bolzano / Bozen",
          "Provincia Autonoma Bolzano / Bozen",
          "Provincia Autonoma Bolzano / Bozen",
          "Provincia Autonoma Bolzano / Bozen",
          "Provincia Autonoma Bolzano / Bozen",
          "Provincia Autonoma Bolzano / Bozen",
          "Provincia Autonoma Bolzano / Bozen",
          "Provincia Autonoma Bolzano / Bozen",
          "Provincia Autonoma Bolzano / Bozen",
          "Provincia Autonoma Bolzano / Bozen",
          "Provincia Autonoma Bolzano / Bozen",
          "Provincia Autonoma Bolzano / Bozen",
          "Provincia Autonoma Bolzano / Bozen",
          "Provincia Autonoma Bolzano / Bozen",
          "Provincia Autonoma Bolzano / Bozen",
          "Provincia Autonoma Bolzano / Bozen",
          "Provincia Autonoma Bolzano / Bozen",
          "Provincia Autonoma Bolzano / Bozen",
          "Provincia Autonoma Bolzano / Bozen",
          "Provincia Autonoma Bolzano / Bozen",
          "Provincia Autonoma Bolzano / Bozen",
          "Provincia Autonoma Bolzano / Bozen",
          "Provincia Autonoma Trento",
          "Provincia Autonoma Trento",
          "Provincia Autonoma Trento",
          "Provincia Autonoma Trento",
          "Provincia Autonoma Trento",
          "Provincia Autonoma Trento",
          "Provincia Autonoma Trento",
          "Provincia Autonoma Trento",
          "Provincia Autonoma Trento",
          "Provincia Autonoma Trento",
          "Provincia Autonoma Trento",
          "Provincia Autonoma Trento",
          "Provincia Autonoma Trento",
          "Provincia Autonoma Trento",
          "Provincia Autonoma Trento",
          "Provincia Autonoma Trento",
          "Provincia Autonoma Trento",
          "Provincia Autonoma Trento",
          "Provincia Autonoma Trento",
          "Provincia Autonoma Trento",
          "Provincia Autonoma Trento",
          "Provincia Autonoma Trento",
          "Provincia Autonoma Trento",
          "Trentino Alto Adige / Südtirol",
          "Trentino Alto Adige / Südtirol",
          "Trentino Alto Adige / Südtirol",
          "Trentino Alto Adige / Südtirol",
          "Trentino Alto Adige / Südtirol",
          "Trentino Alto Adige / Südtirol",
          "Trentino Alto Adige / Südtirol",
          "Trentino Alto Adige / Südtirol",
          "Trentino Alto Adige / Südtirol",
          "Trentino Alto Adige / Südtirol",
          "Trentino Alto Adige / Südtirol",
          "Trentino Alto Adige / Südtirol",
          "Trentino Alto Adige / Südtirol",
          "Trentino Alto Adige / Südtirol",
          "Trentino Alto Adige / Südtirol",
          "Trentino Alto Adige / Südtirol",
          "Trentino Alto Adige / Südtirol",
          "Trentino Alto Adige / Südtirol",
          "Trentino Alto Adige / Südtirol",
          "Trentino Alto Adige / Südtirol",
          "Trentino Alto Adige / Südtirol",
          "Trentino Alto Adige / Südtirol",
          "Trentino Alto Adige / Südtirol",
          "Valle d'Aosta / Vallée d'Aoste",
          "Valle d'Aosta / Vallée d'Aoste",
          "Valle d'Aosta / Vallée d'Aoste",
          "Valle d'Aosta / Vallée d'Aoste",
          "Valle d'Aosta / Vallée d'Aoste",
          "Valle d'Aosta / Vallée d'Aoste",
          "Valle d'Aosta / Vallée d'Aoste",
          "Valle d'Aosta / Vallée d'Aoste",
          "Valle d'Aosta / Vallée d'Aoste",
          "Valle d'Aosta / Vallée d'Aoste",
          "Valle d'Aosta / Vallée d'Aoste",
          "Valle d'Aosta / Vallée d'Aoste",
          "Valle d'Aosta / Vallée d'Aoste",
          "Valle d'Aosta / Vallée d'Aoste",
          "Valle d'Aosta / Vallée d'Aoste",
          "Valle d'Aosta / Vallée d'Aoste",
          "Valle d'Aosta / Vallée d'Aoste",
          "Valle d'Aosta / Vallée d'Aoste",
          "Valle d'Aosta / Vallée d'Aoste",
          "Valle d'Aosta / Vallée d'Aoste",
          "Valle d'Aosta / Vallée d'Aoste",
          "Valle d'Aosta / Vallée d'Aoste",
          "Valle d'Aosta / Vallée d'Aoste",
          "Veneto",
          "Veneto",
          "Veneto",
          "Veneto",
          "Veneto",
          "Veneto",
          "Veneto",
          "Veneto",
          "Veneto",
          "Veneto",
          "Veneto",
          "Veneto",
          "Veneto",
          "Veneto",
          "Veneto",
          "Veneto",
          "Veneto",
          "Veneto",
          "Veneto",
          "Veneto",
          "Veneto",
          "Veneto",
          "Veneto",
          "Abruzzo",
          "Abruzzo",
          "Abruzzo",
          "Abruzzo",
          "Abruzzo",
          "Abruzzo",
          "Abruzzo",
          "Abruzzo",
          "Abruzzo",
          "Abruzzo",
          "Abruzzo",
          "Abruzzo",
          "Abruzzo",
          "Abruzzo",
          "Abruzzo",
          "Abruzzo",
          "Abruzzo",
          "Abruzzo",
          "Abruzzo",
          "Abruzzo",
          "Abruzzo",
          "Abruzzo",
          "Abruzzo",
          "Basilicata",
          "Basilicata",
          "Basilicata",
          "Basilicata",
          "Basilicata",
          "Basilicata",
          "Basilicata",
          "Basilicata",
          "Basilicata",
          "Basilicata",
          "Basilicata",
          "Basilicata",
          "Basilicata",
          "Basilicata",
          "Basilicata",
          "Basilicata",
          "Basilicata",
          "Basilicata",
          "Basilicata",
          "Basilicata",
          "Basilicata",
          "Basilicata",
          "Basilicata",
          "Calabria",
          "Calabria",
          "Calabria",
          "Calabria",
          "Calabria",
          "Calabria",
          "Calabria",
          "Calabria",
          "Calabria",
          "Calabria",
          "Calabria",
          "Calabria",
          "Calabria",
          "Calabria",
          "Calabria",
          "Calabria",
          "Calabria",
          "Calabria",
          "Calabria",
          "Calabria",
          "Calabria",
          "Calabria",
          "Calabria",
          "Campania",
          "Campania",
          "Campania",
          "Campania",
          "Campania",
          "Campania",
          "Campania",
          "Campania",
          "Campania",
          "Campania",
          "Campania",
          "Campania",
          "Campania",
          "Campania",
          "Campania",
          "Campania",
          "Campania",
          "Campania",
          "Campania",
          "Campania",
          "Campania",
          "Campania",
          "Campania",
          "Molise",
          "Molise",
          "Molise",
          "Molise",
          "Molise",
          "Molise",
          "Molise",
          "Molise",
          "Molise",
          "Molise",
          "Molise",
          "Molise",
          "Molise",
          "Molise",
          "Molise",
          "Molise",
          "Molise",
          "Molise",
          "Molise",
          "Molise",
          "Molise",
          "Molise",
          "Molise",
          "Puglia",
          "Puglia",
          "Puglia",
          "Puglia",
          "Puglia",
          "Puglia",
          "Puglia",
          "Puglia",
          "Puglia",
          "Puglia",
          "Puglia",
          "Puglia",
          "Puglia",
          "Puglia",
          "Puglia",
          "Puglia",
          "Puglia",
          "Puglia",
          "Puglia",
          "Puglia",
          "Puglia",
          "Puglia",
          "Puglia"
         ],
         "xaxis": "x",
         "y": [
          3566810,
          3546830,
          3528385,
          3507455,
          3487165,
          3471126,
          3460806,
          3461904,
          3479570,
          3501408,
          3510426,
          3528235,
          3570828,
          3609169,
          3641619,
          3669386,
          3705082,
          3782703,
          3832658,
          3833914,
          3823815,
          3821445,
          3812221,
          955054,
          954193,
          954577,
          954804,
          954531,
          955171,
          956859,
          960811,
          968662,
          972784,
          974887,
          979120,
          990255,
          998507,
          988535,
          988333,
          985710,
          984129,
          979816,
          974125,
          967469,
          961534,
          955928,
          2342574,
          2330536,
          2320886,
          2311863,
          2303879,
          2295976,
          2290310,
          2290238,
          2300971,
          2307913,
          2307565,
          2313787,
          2335032,
          2350369,
          2359990,
          2364195,
          2356384,
          2349083,
          2338754,
          2331321,
          2325713,
          2321299,
          2314999,
          536280,
          535301,
          534661,
          533973,
          533408,
          533557,
          533644,
          535285,
          540471,
          543319,
          544383,
          546123,
          552891,
          557830,
          560713,
          562393,
          561843,
          561538,
          559506,
          555909,
          552268,
          549749,
          546320,
          1152862,
          1153154,
          1151920,
          1148939,
          1145668,
          1142338,
          1138485,
          1138291,
          1138342,
          1136393,
          1134226,
          1133356,
          1133451,
          1131696,
          1127423,
          1122994,
          1117444,
          1113418,
          1107341,
          1100539,
          1092482,
          1082818,
          1072229,
          3305505,
          3303115,
          3300605,
          3292095,
          3281697,
          3271113,
          3266064,
          3266683,
          3274263,
          3276643,
          3279229,
          3288696,
          3309152,
          3325000,
          3337337,
          3346007,
          3346183,
          3346012,
          3341780,
          3329216,
          3309047,
          3286795,
          3261195,
          2632020,
          2625079,
          2620457,
          2617249,
          2615909,
          2615378,
          2617119,
          2625396,
          2644725,
          2661422,
          2669401,
          2683608,
          2713408,
          2745182,
          2775324,
          2789932,
          2791882,
          2796999,
          2798586,
          2793702,
          2790336,
          2787791,
          2790904,
          801770,
          797879,
          794903,
          792578,
          790876,
          789103,
          787308,
          787237,
          787296,
          785327,
          781621,
          780340,
          782608,
          783376,
          780390,
          777293,
          771647,
          769194,
          766281,
          761159,
          754976,
          750834,
          749018,
          1072813,
          1058448,
          1044455,
          1031368,
          1018804,
          1006175,
          994911,
          988618,
          987368,
          984503,
          978520,
          974415,
          974010,
          975459,
          974985,
          974170,
          969646,
          966383,
          960974,
          952370,
          943943,
          938999,
          934491,
          6271081,
          6252614,
          6234919,
          6219043,
          6202428,
          6185234,
          6171122,
          6168026,
          6198357,
          6236870,
          6238840,
          6243664,
          6270773,
          6300023,
          6321753,
          6351282,
          6365690,
          6389221,
          6402486,
          6400523,
          6391028,
          6384186,
          6385646,
          2915149,
          2895191,
          2875548,
          2855807,
          2834610,
          2812851,
          2793957,
          2787684,
          2797822,
          2791625,
          2779929,
          2778737,
          2802841,
          2813200,
          2811633,
          2807931,
          2797800,
          2790958,
          2777379,
          2757440,
          2737497,
          2720752,
          2704096,
          304429,
          305206,
          306159,
          306852,
          307607,
          308446,
          309087,
          310699,
          312370,
          314370,
          316624,
          318719,
          321377,
          323338,
          325568,
          327907,
          329655,
          331864,
          333829,
          334841,
          335888,
          337565,
          339111,
          309602,
          310581,
          311805,
          313151,
          314501,
          315873,
          316949,
          319418,
          322963,
          326054,
          327766,
          329930,
          333305,
          336291,
          338705,
          340795,
          341629,
          342853,
          343721,
          343639,
          343202,
          342552,
          342602,
          614031,
          615787,
          617963,
          620002,
          622107,
          624319,
          626036,
          630117,
          635333,
          640424,
          644391,
          648649,
          654682,
          659629,
          664272,
          668702,
          671284,
          674717,
          677550,
          678480,
          679089,
          680117,
          681713,
          81402,
          81252,
          81217,
          81168,
          80948,
          80783,
          80620,
          80936,
          81406,
          81818,
          82138,
          82212,
          82401,
          82453,
          82327,
          82202,
          81937,
          81876,
          81698,
          81072,
          80288,
          79675,
          79075,
          3071153,
          3071821,
          3073118,
          3074620,
          3074809,
          3075195,
          3076461,
          3088279,
          3115388,
          3131862,
          3136884,
          3145212,
          3171270,
          3187039,
          3187826,
          3188366,
          3179645,
          3177446,
          3171734,
          3159630,
          3143384,
          3130807,
          3123722,
          830717,
          829936,
          829735,
          828273,
          827158,
          825654,
          825381,
          828250,
          835259,
          839032,
          841321,
          845874,
          856738,
          863983,
          867135,
          868673,
          867659,
          865194,
          860750,
          855997,
          850165,
          843792,
          837314,
          403463,
          401770,
          400071,
          397764,
          395491,
          393273,
          391082,
          389367,
          388647,
          387306,
          385532,
          384418,
          385168,
          385082,
          384538,
          383976,
          382897,
          381785,
          379908,
          377390,
          374883,
          371614,
          368218,
          1364280,
          1360256,
          1354817,
          1347257,
          1338089,
          1331121,
          1324812,
          1321865,
          1323682,
          1317636,
          1310628,
          1307966,
          1315006,
          1316337,
          1315817,
          1314676,
          1311291,
          1310000,
          1308094,
          1300493,
          1292104,
          1283206,
          1273424,
          3841305,
          3843069,
          3844545,
          3841276,
          3835258,
          3826354,
          3821663,
          3826389,
          3848149,
          3864080,
          3867734,
          3875380,
          3891565,
          3901735,
          3916630,
          3924090,
          3924969,
          3929496,
          3931932,
          3920375,
          3906866,
          3892874,
          3878522,
          212784,
          211648,
          210424,
          209037,
          207814,
          206786,
          206025,
          206148,
          206386,
          205729,
          204977,
          205101,
          206145,
          206307,
          205854,
          205349,
          204785,
          204591,
          203812,
          202243,
          200571,
          198512,
          196057,
          2744426,
          2740470,
          2736043,
          2727974,
          2718087,
          2707767,
          2701561,
          2700832,
          2704110,
          2704896,
          2704202,
          2706974,
          2714838,
          2719407,
          2724161,
          2724722,
          2713910,
          2696811,
          2680034,
          2668876,
          2655013,
          2638898,
          2622707
         ],
         "yaxis": "y"
        }
       ],
       "layout": {
        "barmode": "relative",
        "coloraxis": {
         "colorbar": {
          "title": {
           "text": "tasso_occupazione"
          }
         },
         "colorscale": [
          [
           0,
           "#0d0887"
          ],
          [
           0.1111111111111111,
           "#46039f"
          ],
          [
           0.2222222222222222,
           "#7201a8"
          ],
          [
           0.3333333333333333,
           "#9c179e"
          ],
          [
           0.4444444444444444,
           "#bd3786"
          ],
          [
           0.5555555555555556,
           "#d8576b"
          ],
          [
           0.6666666666666666,
           "#ed7953"
          ],
          [
           0.7777777777777778,
           "#fb9f3a"
          ],
          [
           0.8888888888888888,
           "#fdca26"
          ],
          [
           1,
           "#f0f921"
          ]
         ]
        },
        "height": 400,
        "legend": {
         "tracegroupgap": 0
        },
        "margin": {
         "t": 60
        },
        "template": {
         "data": {
          "bar": [
           {
            "error_x": {
             "color": "#2a3f5f"
            },
            "error_y": {
             "color": "#2a3f5f"
            },
            "marker": {
             "line": {
              "color": "#E5ECF6",
              "width": 0.5
             }
            },
            "type": "bar"
           }
          ],
          "barpolar": [
           {
            "marker": {
             "line": {
              "color": "#E5ECF6",
              "width": 0.5
             }
            },
            "type": "barpolar"
           }
          ],
          "carpet": [
           {
            "aaxis": {
             "endlinecolor": "#2a3f5f",
             "gridcolor": "white",
             "linecolor": "white",
             "minorgridcolor": "white",
             "startlinecolor": "#2a3f5f"
            },
            "baxis": {
             "endlinecolor": "#2a3f5f",
             "gridcolor": "white",
             "linecolor": "white",
             "minorgridcolor": "white",
             "startlinecolor": "#2a3f5f"
            },
            "type": "carpet"
           }
          ],
          "choropleth": [
           {
            "colorbar": {
             "outlinewidth": 0,
             "ticks": ""
            },
            "type": "choropleth"
           }
          ],
          "contour": [
           {
            "colorbar": {
             "outlinewidth": 0,
             "ticks": ""
            },
            "colorscale": [
             [
              0,
              "#0d0887"
             ],
             [
              0.1111111111111111,
              "#46039f"
             ],
             [
              0.2222222222222222,
              "#7201a8"
             ],
             [
              0.3333333333333333,
              "#9c179e"
             ],
             [
              0.4444444444444444,
              "#bd3786"
             ],
             [
              0.5555555555555556,
              "#d8576b"
             ],
             [
              0.6666666666666666,
              "#ed7953"
             ],
             [
              0.7777777777777778,
              "#fb9f3a"
             ],
             [
              0.8888888888888888,
              "#fdca26"
             ],
             [
              1,
              "#f0f921"
             ]
            ],
            "type": "contour"
           }
          ],
          "contourcarpet": [
           {
            "colorbar": {
             "outlinewidth": 0,
             "ticks": ""
            },
            "type": "contourcarpet"
           }
          ],
          "heatmap": [
           {
            "colorbar": {
             "outlinewidth": 0,
             "ticks": ""
            },
            "colorscale": [
             [
              0,
              "#0d0887"
             ],
             [
              0.1111111111111111,
              "#46039f"
             ],
             [
              0.2222222222222222,
              "#7201a8"
             ],
             [
              0.3333333333333333,
              "#9c179e"
             ],
             [
              0.4444444444444444,
              "#bd3786"
             ],
             [
              0.5555555555555556,
              "#d8576b"
             ],
             [
              0.6666666666666666,
              "#ed7953"
             ],
             [
              0.7777777777777778,
              "#fb9f3a"
             ],
             [
              0.8888888888888888,
              "#fdca26"
             ],
             [
              1,
              "#f0f921"
             ]
            ],
            "type": "heatmap"
           }
          ],
          "heatmapgl": [
           {
            "colorbar": {
             "outlinewidth": 0,
             "ticks": ""
            },
            "colorscale": [
             [
              0,
              "#0d0887"
             ],
             [
              0.1111111111111111,
              "#46039f"
             ],
             [
              0.2222222222222222,
              "#7201a8"
             ],
             [
              0.3333333333333333,
              "#9c179e"
             ],
             [
              0.4444444444444444,
              "#bd3786"
             ],
             [
              0.5555555555555556,
              "#d8576b"
             ],
             [
              0.6666666666666666,
              "#ed7953"
             ],
             [
              0.7777777777777778,
              "#fb9f3a"
             ],
             [
              0.8888888888888888,
              "#fdca26"
             ],
             [
              1,
              "#f0f921"
             ]
            ],
            "type": "heatmapgl"
           }
          ],
          "histogram": [
           {
            "marker": {
             "colorbar": {
              "outlinewidth": 0,
              "ticks": ""
             }
            },
            "type": "histogram"
           }
          ],
          "histogram2d": [
           {
            "colorbar": {
             "outlinewidth": 0,
             "ticks": ""
            },
            "colorscale": [
             [
              0,
              "#0d0887"
             ],
             [
              0.1111111111111111,
              "#46039f"
             ],
             [
              0.2222222222222222,
              "#7201a8"
             ],
             [
              0.3333333333333333,
              "#9c179e"
             ],
             [
              0.4444444444444444,
              "#bd3786"
             ],
             [
              0.5555555555555556,
              "#d8576b"
             ],
             [
              0.6666666666666666,
              "#ed7953"
             ],
             [
              0.7777777777777778,
              "#fb9f3a"
             ],
             [
              0.8888888888888888,
              "#fdca26"
             ],
             [
              1,
              "#f0f921"
             ]
            ],
            "type": "histogram2d"
           }
          ],
          "histogram2dcontour": [
           {
            "colorbar": {
             "outlinewidth": 0,
             "ticks": ""
            },
            "colorscale": [
             [
              0,
              "#0d0887"
             ],
             [
              0.1111111111111111,
              "#46039f"
             ],
             [
              0.2222222222222222,
              "#7201a8"
             ],
             [
              0.3333333333333333,
              "#9c179e"
             ],
             [
              0.4444444444444444,
              "#bd3786"
             ],
             [
              0.5555555555555556,
              "#d8576b"
             ],
             [
              0.6666666666666666,
              "#ed7953"
             ],
             [
              0.7777777777777778,
              "#fb9f3a"
             ],
             [
              0.8888888888888888,
              "#fdca26"
             ],
             [
              1,
              "#f0f921"
             ]
            ],
            "type": "histogram2dcontour"
           }
          ],
          "mesh3d": [
           {
            "colorbar": {
             "outlinewidth": 0,
             "ticks": ""
            },
            "type": "mesh3d"
           }
          ],
          "parcoords": [
           {
            "line": {
             "colorbar": {
              "outlinewidth": 0,
              "ticks": ""
             }
            },
            "type": "parcoords"
           }
          ],
          "pie": [
           {
            "automargin": true,
            "type": "pie"
           }
          ],
          "scatter": [
           {
            "marker": {
             "colorbar": {
              "outlinewidth": 0,
              "ticks": ""
             }
            },
            "type": "scatter"
           }
          ],
          "scatter3d": [
           {
            "line": {
             "colorbar": {
              "outlinewidth": 0,
              "ticks": ""
             }
            },
            "marker": {
             "colorbar": {
              "outlinewidth": 0,
              "ticks": ""
             }
            },
            "type": "scatter3d"
           }
          ],
          "scattercarpet": [
           {
            "marker": {
             "colorbar": {
              "outlinewidth": 0,
              "ticks": ""
             }
            },
            "type": "scattercarpet"
           }
          ],
          "scattergeo": [
           {
            "marker": {
             "colorbar": {
              "outlinewidth": 0,
              "ticks": ""
             }
            },
            "type": "scattergeo"
           }
          ],
          "scattergl": [
           {
            "marker": {
             "colorbar": {
              "outlinewidth": 0,
              "ticks": ""
             }
            },
            "type": "scattergl"
           }
          ],
          "scattermapbox": [
           {
            "marker": {
             "colorbar": {
              "outlinewidth": 0,
              "ticks": ""
             }
            },
            "type": "scattermapbox"
           }
          ],
          "scatterpolar": [
           {
            "marker": {
             "colorbar": {
              "outlinewidth": 0,
              "ticks": ""
             }
            },
            "type": "scatterpolar"
           }
          ],
          "scatterpolargl": [
           {
            "marker": {
             "colorbar": {
              "outlinewidth": 0,
              "ticks": ""
             }
            },
            "type": "scatterpolargl"
           }
          ],
          "scatterternary": [
           {
            "marker": {
             "colorbar": {
              "outlinewidth": 0,
              "ticks": ""
             }
            },
            "type": "scatterternary"
           }
          ],
          "surface": [
           {
            "colorbar": {
             "outlinewidth": 0,
             "ticks": ""
            },
            "colorscale": [
             [
              0,
              "#0d0887"
             ],
             [
              0.1111111111111111,
              "#46039f"
             ],
             [
              0.2222222222222222,
              "#7201a8"
             ],
             [
              0.3333333333333333,
              "#9c179e"
             ],
             [
              0.4444444444444444,
              "#bd3786"
             ],
             [
              0.5555555555555556,
              "#d8576b"
             ],
             [
              0.6666666666666666,
              "#ed7953"
             ],
             [
              0.7777777777777778,
              "#fb9f3a"
             ],
             [
              0.8888888888888888,
              "#fdca26"
             ],
             [
              1,
              "#f0f921"
             ]
            ],
            "type": "surface"
           }
          ],
          "table": [
           {
            "cells": {
             "fill": {
              "color": "#EBF0F8"
             },
             "line": {
              "color": "white"
             }
            },
            "header": {
             "fill": {
              "color": "#C8D4E3"
             },
             "line": {
              "color": "white"
             }
            },
            "type": "table"
           }
          ]
         },
         "layout": {
          "annotationdefaults": {
           "arrowcolor": "#2a3f5f",
           "arrowhead": 0,
           "arrowwidth": 1
          },
          "autotypenumbers": "strict",
          "coloraxis": {
           "colorbar": {
            "outlinewidth": 0,
            "ticks": ""
           }
          },
          "colorscale": {
           "diverging": [
            [
             0,
             "#8e0152"
            ],
            [
             0.1,
             "#c51b7d"
            ],
            [
             0.2,
             "#de77ae"
            ],
            [
             0.3,
             "#f1b6da"
            ],
            [
             0.4,
             "#fde0ef"
            ],
            [
             0.5,
             "#f7f7f7"
            ],
            [
             0.6,
             "#e6f5d0"
            ],
            [
             0.7,
             "#b8e186"
            ],
            [
             0.8,
             "#7fbc41"
            ],
            [
             0.9,
             "#4d9221"
            ],
            [
             1,
             "#276419"
            ]
           ],
           "sequential": [
            [
             0,
             "#0d0887"
            ],
            [
             0.1111111111111111,
             "#46039f"
            ],
            [
             0.2222222222222222,
             "#7201a8"
            ],
            [
             0.3333333333333333,
             "#9c179e"
            ],
            [
             0.4444444444444444,
             "#bd3786"
            ],
            [
             0.5555555555555556,
             "#d8576b"
            ],
            [
             0.6666666666666666,
             "#ed7953"
            ],
            [
             0.7777777777777778,
             "#fb9f3a"
            ],
            [
             0.8888888888888888,
             "#fdca26"
            ],
            [
             1,
             "#f0f921"
            ]
           ],
           "sequentialminus": [
            [
             0,
             "#0d0887"
            ],
            [
             0.1111111111111111,
             "#46039f"
            ],
            [
             0.2222222222222222,
             "#7201a8"
            ],
            [
             0.3333333333333333,
             "#9c179e"
            ],
            [
             0.4444444444444444,
             "#bd3786"
            ],
            [
             0.5555555555555556,
             "#d8576b"
            ],
            [
             0.6666666666666666,
             "#ed7953"
            ],
            [
             0.7777777777777778,
             "#fb9f3a"
            ],
            [
             0.8888888888888888,
             "#fdca26"
            ],
            [
             1,
             "#f0f921"
            ]
           ]
          },
          "colorway": [
           "#636efa",
           "#EF553B",
           "#00cc96",
           "#ab63fa",
           "#FFA15A",
           "#19d3f3",
           "#FF6692",
           "#B6E880",
           "#FF97FF",
           "#FECB52"
          ],
          "font": {
           "color": "#2a3f5f"
          },
          "geo": {
           "bgcolor": "white",
           "lakecolor": "white",
           "landcolor": "#E5ECF6",
           "showlakes": true,
           "showland": true,
           "subunitcolor": "white"
          },
          "hoverlabel": {
           "align": "left"
          },
          "hovermode": "closest",
          "mapbox": {
           "style": "light"
          },
          "paper_bgcolor": "white",
          "plot_bgcolor": "#E5ECF6",
          "polar": {
           "angularaxis": {
            "gridcolor": "white",
            "linecolor": "white",
            "ticks": ""
           },
           "bgcolor": "#E5ECF6",
           "radialaxis": {
            "gridcolor": "white",
            "linecolor": "white",
            "ticks": ""
           }
          },
          "scene": {
           "xaxis": {
            "backgroundcolor": "#E5ECF6",
            "gridcolor": "white",
            "gridwidth": 2,
            "linecolor": "white",
            "showbackground": true,
            "ticks": "",
            "zerolinecolor": "white"
           },
           "yaxis": {
            "backgroundcolor": "#E5ECF6",
            "gridcolor": "white",
            "gridwidth": 2,
            "linecolor": "white",
            "showbackground": true,
            "ticks": "",
            "zerolinecolor": "white"
           },
           "zaxis": {
            "backgroundcolor": "#E5ECF6",
            "gridcolor": "white",
            "gridwidth": 2,
            "linecolor": "white",
            "showbackground": true,
            "ticks": "",
            "zerolinecolor": "white"
           }
          },
          "shapedefaults": {
           "line": {
            "color": "#2a3f5f"
           }
          },
          "ternary": {
           "aaxis": {
            "gridcolor": "white",
            "linecolor": "white",
            "ticks": ""
           },
           "baxis": {
            "gridcolor": "white",
            "linecolor": "white",
            "ticks": ""
           },
           "bgcolor": "#E5ECF6",
           "caxis": {
            "gridcolor": "white",
            "linecolor": "white",
            "ticks": ""
           }
          },
          "title": {
           "x": 0.05
          },
          "xaxis": {
           "automargin": true,
           "gridcolor": "white",
           "linecolor": "white",
           "ticks": "",
           "title": {
            "standoff": 15
           },
           "zerolinecolor": "white",
           "zerolinewidth": 2
          },
          "yaxis": {
           "automargin": true,
           "gridcolor": "white",
           "linecolor": "white",
           "ticks": "",
           "title": {
            "standoff": 15
           },
           "zerolinecolor": "white",
           "zerolinewidth": 2
          }
         }
        },
        "xaxis": {
         "anchor": "y",
         "domain": [
          0,
          1
         ],
         "title": {
          "text": "x"
         }
        },
        "yaxis": {
         "anchor": "x",
         "domain": [
          0,
          1
         ],
         "title": {
          "text": "totale"
         }
        }
       }
      },
      "text/html": [
       "<div>                            <div id=\"2411d177-be4a-4aff-a6ec-c159e7858885\" class=\"plotly-graph-div\" style=\"height:400px; width:100%;\"></div>            <script type=\"text/javascript\">                require([\"plotly\"], function(Plotly) {                    window.PLOTLYENV=window.PLOTLYENV || {};                                    if (document.getElementById(\"2411d177-be4a-4aff-a6ec-c159e7858885\")) {                    Plotly.newPlot(                        \"2411d177-be4a-4aff-a6ec-c159e7858885\",                        [{\"alignmentgroup\": \"True\", \"customdata\": [[50.38577888925959], [50.71951573658732], [51.091051571753084], [51.771669201743144], [52.732348483653624], [53.7049649018791], [55.606295180949175], [57.16706760210566], [58.730302882252694], [58.51703086301282], [59.38128306934828], [59.51409132328204], [60.228552033309924], [59.515639195615385], [59.12502104146535], [58.83515661748314], [58.830195930886276], [57.74939243181397], [58.76462235868685], [58.97680542651713], [59.90611470481705], [60.883121437048025], [60.90738181233459], [59.114353743348545], [58.21222750533697], [59.04845811286046], [60.86516185520799], [61.948538077862324], [62.54764853623068], [63.625988782046264], [64.09835024786352], [63.94769279686826], [63.45601901347062], [64.35658696854098], [64.80982923441458], [64.7091910669474], [63.62459151513209], [63.73006519748922], [62.441302678348286], [62.58250398190137], [61.051650749037975], [62.39773590143456], [62.14469395611446], [62.22628321941065], [62.18386453313144], [64.66219213162498], [58.89606902492728], [59.00964413336675], [59.975845431442984], [61.1261999521598], [62.6115781254137], [63.857461924689105], [64.19349345721757], [63.78625278246191], [63.28515222486507], [63.712366973971726], [64.68017152279567], [64.65971154648203], [65.25311002161854], [64.71320035279567], [63.70980385510108], [63.56544193689607], [63.74224235099203], [63.71579888833217], [63.80196463587021], [64.81351130968237], [65.3234943434551], [66.0273838053607], [66.52810649162268], [57.30364734840009], [57.67166510056959], [58.28927114564182], [60.802325211199815], [62.61792099106125], [63.22960808311014], [62.27653641753679], [60.965653810586886], [61.38257186787081], [61.62180965510133], [62.789249480604646], [64.55944906184138], [65.29967027859017], [62.85624652671961], [62.583353694314205], [62.24988575604604], [61.49885288238885], [60.89721443606666], [61.02204444635089], [63.10313378628517], [62.728602779809805], [62.94327047434375], [63.044003514423785], [47.192378619470496], [48.06097017397503], [48.69643725258698], [49.58357232194224], [49.67398932325944], [51.617997475353185], [52.37152882998019], [51.22987004201913], [51.487865685356425], [51.397359892220386], [52.10160937943584], [52.77565036934555], [52.32506742682303], [50.783691026565435], [50.96596397270589], [51.718085760030775], [51.71301649120672], [48.317612971947646], [48.554510308929224], [50.14760948953195], [50.29886075926194], [50.45695583191265], [52.73463038212919], [39.76826536338623], [40.152976811282684], [41.136882480636125], [41.263147023399995], [41.87037986748929], [43.28398315802603], [43.88376957708116], [43.255651068683434], [43.328926234697704], [44.08383824542375], [45.01780753951615], [44.55431575311309], [44.14677838914622], [43.57446616541353], [42.683882388862735], [42.37444811083778], [41.29860799603608], [39.329117767658936], [39.01483640455087], [39.97773049270459], [40.102633779453726], [40.62769354340627], [40.67349545182057], [64.05293272847472], [64.73839453974529], [65.3820306915931], [66.78046299759785], [68.03608229491164], [68.83310940139437], [69.87164129716685], [69.55666878444242], [68.34824036525536], [68.43104926614419], [69.37335379735005], [70.18662934377897], [70.15933468169918], [68.38413627948894], [67.31552784467686], [67.8036955739423], [67.5020290972183], [66.24904048946746], [66.26446355409482], [66.69938311244363], [68.39061675726508], [68.58451727550595], [69.60103249699739], [58.73941404642229], [58.78322402269016], [59.775721062821496], [60.40213076820199], [61.93878686418605], [63.58067324544451], [63.81949630894136], [63.12050881754796], [62.59793013047189], [63.15853141430258], [64.77717461531867], [65.38688264090013], [65.18461349743421], [63.477053164763795], [63.59153756455106], [64.2095065824599], [63.64205394435538], [62.9633096462011], [63.112487455646175], [63.657264776479025], [64.6627177552664], [65.7219838206581], [66.27223911841905], [55.46204231305922], [55.65705636932565], [56.89579732970784], [58.16410825234058], [59.35803157427729], [61.464456978159866], [61.70813268724539], [60.466024288451145], [60.616710284311424], [60.968326150352006], [62.097453296815594], [63.46997942355157], [63.643494419975156], [63.22582497060358], [62.73829853792623], [62.97525072625928], [61.98540498284941], [60.618409057278534], [60.723078876223504], [62.384052416602785], [62.71914723664459], [62.3682240343174], [62.96090599053389], [59.58647320932388], [59.72518054049074], [60.728278907873545], [61.762284004146615], [62.57426930227968], [63.83152197637146], [64.66219595075256], [65.26248430210897], [65.49990586215024], [65.50726566370632], [66.51508934353181], [66.66997135015593], [66.91399927887677], [65.69655380623215], [64.96402184647202], [64.57302635908782], [64.52967392380089], [64.7646559729269], [64.8554639557197], [65.13575531249556], [66.22501106238308], [67.25779919319393], [67.69474850312717], [57.6956786771448], [57.32067418004546], [57.492797894523065], [59.17983953397411], [61.041060322231274], [62.007941408912174], [62.380630768476394], [62.90418856656637], [63.46061329133876], [63.975641427483986], [64.71129298625972], [64.86576455418415], [65.18853548952652], [63.90306412626191], [63.471975183105336], [64.17793029814479], [63.63767960540425], [62.203157482126215], [62.389576647623535], [63.66582772426599], [64.4394130842883], [65.1908369450799], [65.89484988698626], [63.41215850001149], [63.22680419126754], [63.92495402715582], [63.73724140628055], [65.45039612232492], [65.46559203231685], [66.94911141523261], [68.27218626387597], [69.1740564074655], [69.02312561631199], [69.4959952498863], [69.68520860067959], [70.42289896290028], [70.37434511254477], [71.01803617063102], [70.99543468117484], [71.8053722831445], [71.44071065255648], [70.844054890378], [71.37805704797202], [72.68077454389558], [72.89322056492824], [73.5222390308778], [62.58002209288054], [62.83964569629179], [63.82803354660766], [64.89169761552733], [66.37180803876618], [66.27252091821714], [65.72540061650297], [66.12651760389208], [65.64033650913572], [65.057015095659], [65.36431478554823], [66.28254478222654], [66.68156793327434], [66.51620174194373], [65.89864336221785], [65.9235023988028], [65.3791100872584], [65.51379162498213], [65.89123155117086], [66.08388454162653], [66.04361279945921], [67.55032812536491], [68.2056730550318], [62.99242220669641], [63.031535254885206], [63.87615439759339], [64.32043767600749], [65.91631343161225], [65.87369597913887], [66.32957210128491], [67.18450700425477], [67.37773734403848], [67.00389117209849], [67.39433046085374], [67.95447152466126], [68.51815079687543], [68.40739264040847], [68.40767035190403], [68.41059246121591], [68.53492709494044], [68.4289857821872], [68.33148845103682], [68.69664544275439], [69.32655366233293], [70.20218580038434], [70.85034317960785], [65.91238544507506], [66.44390291931276], [66.20165728849872], [66.3229351468559], [68.79972327914217], [70.00606563262073], [70.69213594641528], [67.52248690323218], [67.15598358843329], [66.41814759588355], [67.01526698970027], [68.18712596701212], [67.84383684664022], [66.82473651656095], [67.3412124819318], [66.88036787426097], [66.32290662338139], [65.61629781620988], [66.16930647017062], [66.18561278863233], [66.43084894380232], [67.07248195795418], [67.87480240278217], [59.2461853903078], [60.02693516321427], [60.46507163083227], [61.35193942666085], [62.82751221295372], [63.6776529618447], [63.88294862180928], [64.6844731321231], [64.39525349651471], [64.6284223251216], [65.28159791691373], [65.69468131242027], [66.44839449179666], [64.57746516437358], [64.36675025550328], [64.88681035991478], [64.90730883479131], [63.05321947249457], [63.71517914175653], [63.61311292777951], [64.73510713294971], [66.03763821915564], [66.64898476881105], [56.01269746496099], [55.730080391741055], [55.44264132524239], [54.9928586347738], [56.31064439925625], [58.53662672257386], [59.20962561532189], [57.99203139148808], [56.40573762150423], [57.058133658787746], [57.6489829684508], [57.933096418615534], [58.807943618702566], [55.72250842898529], [55.3755758907206], [56.628213378336845], [56.661084596598435], [54.95403343065255], [53.945744989834445], [54.50147605657496], [55.73094634570936], [56.806653772493696], [58.013003484953074], [45.061381093185744], [46.18861537695697], [46.556486223695295], [47.27602296839331], [49.18316725285784], [48.63262924228208], [49.609033399645085], [49.627729109041084], [49.129930245183935], [49.16422673544949], [50.23396242075885], [49.53019889807449], [49.61185768288124], [48.384240239741146], [47.06478943563445], [47.611829906035794], [46.82904279741027], [46.17887030658617], [47.188266632974305], [49.19340735048623], [50.326368493636686], [49.49463690818968], [49.38840578135778], [42.067390858181604], [41.94982415074809], [42.40159372077557], [42.02071319725932], [43.05819717522527], [44.29469597429535], [45.27910375207954], [45.207944835516486], [46.153607890716955], [44.51882006866843], [45.44828891188041], [44.85430049404954], [44.02132005481344], [43.00418509849681], [42.10342319638673], [42.436235239709255], [41.470505021387325], [38.949236641221376], [39.31185373528202], [38.91355047662694], [39.62746032827079], [40.83779221730572], [42.152181834173064], [42.28737369201352], [42.45687496113133], [43.547884079910624], [43.30305867112907], [43.34845269861897], [44.09262708050536], [45.47075448567809], [45.7700197235566], [45.23416323016598], [44.04637067555537], [44.115417451148396], [43.666479158172876], [42.398161151105015], [40.76750471264707], [39.78443202447002], [39.35335326152051], [39.8906844869348], [39.70944365384263], [39.170285752652894], [39.576877212001406], [41.16202091394995], [42.04875369713995], [41.641068427612375], [49.534269493946915], [49.92960009071666], [50.17916207276737], [50.440831049048725], [51.775626281193766], [53.01519445223565], [53.278000242689], [51.790946310417766], [52.110123748703884], [51.2096009799299], [52.35075154773462], [53.59359535058337], [54.11724756845909], [52.179034157832746], [51.01333955133249], [50.26954112267408], [50.61991845105843], [47.57247386248662], [48.484387572861266], [49.38267331873043], [51.86143560135812], [51.708712823406145], [53.45486261648398], [42.806000234657446], [42.1578050480392], [42.63774363195315], [43.439563573553116], [44.53775762144479], [45.4245139999121], [46.22601525562443], [45.416338372768095], [45.10304684350859], [44.3929082670831], [45.67876216347743], [46.59317008585971], [46.57913289853759], [44.90942326764622], [44.31301967835235], [44.717406032615436], [44.88059662995457], [42.333333704141666], [42.13890570045007], [43.29481774349951], [44.276280379794756], [44.51721893002306], [45.54416486477521]], \"hovertemplate\": \"x=%{x}<br>totale=%{y}<br>tasso_occupazione=%{marker.color}<extra></extra>\", \"legendgroup\": \"\", \"marker\": {\"color\": [50.38577888925959, 50.71951573658732, 51.091051571753084, 51.771669201743144, 52.732348483653624, 53.7049649018791, 55.606295180949175, 57.16706760210566, 58.730302882252694, 58.51703086301282, 59.38128306934828, 59.51409132328204, 60.228552033309924, 59.515639195615385, 59.12502104146535, 58.83515661748314, 58.830195930886276, 57.74939243181397, 58.76462235868685, 58.97680542651713, 59.90611470481705, 60.883121437048025, 60.90738181233459, 59.114353743348545, 58.21222750533697, 59.04845811286046, 60.86516185520799, 61.948538077862324, 62.54764853623068, 63.625988782046264, 64.09835024786352, 63.94769279686826, 63.45601901347062, 64.35658696854098, 64.80982923441458, 64.7091910669474, 63.62459151513209, 63.73006519748922, 62.441302678348286, 62.58250398190137, 61.051650749037975, 62.39773590143456, 62.14469395611446, 62.22628321941065, 62.18386453313144, 64.66219213162498, 58.89606902492728, 59.00964413336675, 59.975845431442984, 61.1261999521598, 62.6115781254137, 63.857461924689105, 64.19349345721757, 63.78625278246191, 63.28515222486507, 63.712366973971726, 64.68017152279567, 64.65971154648203, 65.25311002161854, 64.71320035279567, 63.70980385510108, 63.56544193689607, 63.74224235099203, 63.71579888833217, 63.80196463587021, 64.81351130968237, 65.3234943434551, 66.0273838053607, 66.52810649162268, 57.30364734840009, 57.67166510056959, 58.28927114564182, 60.802325211199815, 62.61792099106125, 63.22960808311014, 62.27653641753679, 60.965653810586886, 61.38257186787081, 61.62180965510133, 62.789249480604646, 64.55944906184138, 65.29967027859017, 62.85624652671961, 62.583353694314205, 62.24988575604604, 61.49885288238885, 60.89721443606666, 61.02204444635089, 63.10313378628517, 62.728602779809805, 62.94327047434375, 63.044003514423785, 47.192378619470496, 48.06097017397503, 48.69643725258698, 49.58357232194224, 49.67398932325944, 51.617997475353185, 52.37152882998019, 51.22987004201913, 51.487865685356425, 51.397359892220386, 52.10160937943584, 52.77565036934555, 52.32506742682303, 50.783691026565435, 50.96596397270589, 51.718085760030775, 51.71301649120672, 48.317612971947646, 48.554510308929224, 50.14760948953195, 50.29886075926194, 50.45695583191265, 52.73463038212919, 39.76826536338623, 40.152976811282684, 41.136882480636125, 41.263147023399995, 41.87037986748929, 43.28398315802603, 43.88376957708116, 43.255651068683434, 43.328926234697704, 44.08383824542375, 45.01780753951615, 44.55431575311309, 44.14677838914622, 43.57446616541353, 42.683882388862735, 42.37444811083778, 41.29860799603608, 39.329117767658936, 39.01483640455087, 39.97773049270459, 40.102633779453726, 40.62769354340627, 40.67349545182057, 64.05293272847472, 64.73839453974529, 65.3820306915931, 66.78046299759785, 68.03608229491164, 68.83310940139437, 69.87164129716685, 69.55666878444242, 68.34824036525536, 68.43104926614419, 69.37335379735005, 70.18662934377897, 70.15933468169918, 68.38413627948894, 67.31552784467686, 67.8036955739423, 67.5020290972183, 66.24904048946746, 66.26446355409482, 66.69938311244363, 68.39061675726508, 68.58451727550595, 69.60103249699739, 58.73941404642229, 58.78322402269016, 59.775721062821496, 60.40213076820199, 61.93878686418605, 63.58067324544451, 63.81949630894136, 63.12050881754796, 62.59793013047189, 63.15853141430258, 64.77717461531867, 65.38688264090013, 65.18461349743421, 63.477053164763795, 63.59153756455106, 64.2095065824599, 63.64205394435538, 62.9633096462011, 63.112487455646175, 63.657264776479025, 64.6627177552664, 65.7219838206581, 66.27223911841905, 55.46204231305922, 55.65705636932565, 56.89579732970784, 58.16410825234058, 59.35803157427729, 61.464456978159866, 61.70813268724539, 60.466024288451145, 60.616710284311424, 60.968326150352006, 62.097453296815594, 63.46997942355157, 63.643494419975156, 63.22582497060358, 62.73829853792623, 62.97525072625928, 61.98540498284941, 60.618409057278534, 60.723078876223504, 62.384052416602785, 62.71914723664459, 62.3682240343174, 62.96090599053389, 59.58647320932388, 59.72518054049074, 60.728278907873545, 61.762284004146615, 62.57426930227968, 63.83152197637146, 64.66219595075256, 65.26248430210897, 65.49990586215024, 65.50726566370632, 66.51508934353181, 66.66997135015593, 66.91399927887677, 65.69655380623215, 64.96402184647202, 64.57302635908782, 64.52967392380089, 64.7646559729269, 64.8554639557197, 65.13575531249556, 66.22501106238308, 67.25779919319393, 67.69474850312717, 57.6956786771448, 57.32067418004546, 57.492797894523065, 59.17983953397411, 61.041060322231274, 62.007941408912174, 62.380630768476394, 62.90418856656637, 63.46061329133876, 63.975641427483986, 64.71129298625972, 64.86576455418415, 65.18853548952652, 63.90306412626191, 63.471975183105336, 64.17793029814479, 63.63767960540425, 62.203157482126215, 62.389576647623535, 63.66582772426599, 64.4394130842883, 65.1908369450799, 65.89484988698626, 63.41215850001149, 63.22680419126754, 63.92495402715582, 63.73724140628055, 65.45039612232492, 65.46559203231685, 66.94911141523261, 68.27218626387597, 69.1740564074655, 69.02312561631199, 69.4959952498863, 69.68520860067959, 70.42289896290028, 70.37434511254477, 71.01803617063102, 70.99543468117484, 71.8053722831445, 71.44071065255648, 70.844054890378, 71.37805704797202, 72.68077454389558, 72.89322056492824, 73.5222390308778, 62.58002209288054, 62.83964569629179, 63.82803354660766, 64.89169761552733, 66.37180803876618, 66.27252091821714, 65.72540061650297, 66.12651760389208, 65.64033650913572, 65.057015095659, 65.36431478554823, 66.28254478222654, 66.68156793327434, 66.51620174194373, 65.89864336221785, 65.9235023988028, 65.3791100872584, 65.51379162498213, 65.89123155117086, 66.08388454162653, 66.04361279945921, 67.55032812536491, 68.2056730550318, 62.99242220669641, 63.031535254885206, 63.87615439759339, 64.32043767600749, 65.91631343161225, 65.87369597913887, 66.32957210128491, 67.18450700425477, 67.37773734403848, 67.00389117209849, 67.39433046085374, 67.95447152466126, 68.51815079687543, 68.40739264040847, 68.40767035190403, 68.41059246121591, 68.53492709494044, 68.4289857821872, 68.33148845103682, 68.69664544275439, 69.32655366233293, 70.20218580038434, 70.85034317960785, 65.91238544507506, 66.44390291931276, 66.20165728849872, 66.3229351468559, 68.79972327914217, 70.00606563262073, 70.69213594641528, 67.52248690323218, 67.15598358843329, 66.41814759588355, 67.01526698970027, 68.18712596701212, 67.84383684664022, 66.82473651656095, 67.3412124819318, 66.88036787426097, 66.32290662338139, 65.61629781620988, 66.16930647017062, 66.18561278863233, 66.43084894380232, 67.07248195795418, 67.87480240278217, 59.2461853903078, 60.02693516321427, 60.46507163083227, 61.35193942666085, 62.82751221295372, 63.6776529618447, 63.88294862180928, 64.6844731321231, 64.39525349651471, 64.6284223251216, 65.28159791691373, 65.69468131242027, 66.44839449179666, 64.57746516437358, 64.36675025550328, 64.88681035991478, 64.90730883479131, 63.05321947249457, 63.71517914175653, 63.61311292777951, 64.73510713294971, 66.03763821915564, 66.64898476881105, 56.01269746496099, 55.730080391741055, 55.44264132524239, 54.9928586347738, 56.31064439925625, 58.53662672257386, 59.20962561532189, 57.99203139148808, 56.40573762150423, 57.058133658787746, 57.6489829684508, 57.933096418615534, 58.807943618702566, 55.72250842898529, 55.3755758907206, 56.628213378336845, 56.661084596598435, 54.95403343065255, 53.945744989834445, 54.50147605657496, 55.73094634570936, 56.806653772493696, 58.013003484953074, 45.061381093185744, 46.18861537695697, 46.556486223695295, 47.27602296839331, 49.18316725285784, 48.63262924228208, 49.609033399645085, 49.627729109041084, 49.129930245183935, 49.16422673544949, 50.23396242075885, 49.53019889807449, 49.61185768288124, 48.384240239741146, 47.06478943563445, 47.611829906035794, 46.82904279741027, 46.17887030658617, 47.188266632974305, 49.19340735048623, 50.326368493636686, 49.49463690818968, 49.38840578135778, 42.067390858181604, 41.94982415074809, 42.40159372077557, 42.02071319725932, 43.05819717522527, 44.29469597429535, 45.27910375207954, 45.207944835516486, 46.153607890716955, 44.51882006866843, 45.44828891188041, 44.85430049404954, 44.02132005481344, 43.00418509849681, 42.10342319638673, 42.436235239709255, 41.470505021387325, 38.949236641221376, 39.31185373528202, 38.91355047662694, 39.62746032827079, 40.83779221730572, 42.152181834173064, 42.28737369201352, 42.45687496113133, 43.547884079910624, 43.30305867112907, 43.34845269861897, 44.09262708050536, 45.47075448567809, 45.7700197235566, 45.23416323016598, 44.04637067555537, 44.115417451148396, 43.666479158172876, 42.398161151105015, 40.76750471264707, 39.78443202447002, 39.35335326152051, 39.8906844869348, 39.70944365384263, 39.170285752652894, 39.576877212001406, 41.16202091394995, 42.04875369713995, 41.641068427612375, 49.534269493946915, 49.92960009071666, 50.17916207276737, 50.440831049048725, 51.775626281193766, 53.01519445223565, 53.278000242689, 51.790946310417766, 52.110123748703884, 51.2096009799299, 52.35075154773462, 53.59359535058337, 54.11724756845909, 52.179034157832746, 51.01333955133249, 50.26954112267408, 50.61991845105843, 47.57247386248662, 48.484387572861266, 49.38267331873043, 51.86143560135812, 51.708712823406145, 53.45486261648398, 42.806000234657446, 42.1578050480392, 42.63774363195315, 43.439563573553116, 44.53775762144479, 45.4245139999121, 46.22601525562443, 45.416338372768095, 45.10304684350859, 44.3929082670831, 45.67876216347743, 46.59317008585971, 46.57913289853759, 44.90942326764622, 44.31301967835235, 44.717406032615436, 44.88059662995457, 42.333333704141666, 42.13890570045007, 43.29481774349951, 44.276280379794756, 44.51721893002306, 45.54416486477521], \"coloraxis\": \"coloraxis\"}, \"name\": \"\", \"offsetgroup\": \"\", \"orientation\": \"v\", \"showlegend\": false, \"textposition\": \"auto\", \"type\": \"bar\", \"x\": [\"Lazio\", \"Lazio\", \"Lazio\", \"Lazio\", \"Lazio\", \"Lazio\", \"Lazio\", \"Lazio\", \"Lazio\", \"Lazio\", \"Lazio\", \"Lazio\", \"Lazio\", \"Lazio\", \"Lazio\", \"Lazio\", \"Lazio\", \"Lazio\", \"Lazio\", \"Lazio\", \"Lazio\", \"Lazio\", \"Lazio\", \"Marche\", \"Marche\", \"Marche\", \"Marche\", \"Marche\", \"Marche\", \"Marche\", \"Marche\", \"Marche\", \"Marche\", \"Marche\", \"Marche\", \"Marche\", \"Marche\", \"Marche\", \"Marche\", \"Marche\", \"Marche\", \"Marche\", \"Marche\", \"Marche\", \"Marche\", \"Marche\", \"Toscana\", \"Toscana\", \"Toscana\", \"Toscana\", \"Toscana\", \"Toscana\", \"Toscana\", \"Toscana\", \"Toscana\", \"Toscana\", \"Toscana\", \"Toscana\", \"Toscana\", \"Toscana\", \"Toscana\", \"Toscana\", \"Toscana\", \"Toscana\", \"Toscana\", \"Toscana\", \"Toscana\", \"Toscana\", \"Toscana\", \"Umbria\", \"Umbria\", \"Umbria\", \"Umbria\", \"Umbria\", \"Umbria\", \"Umbria\", \"Umbria\", \"Umbria\", \"Umbria\", \"Umbria\", \"Umbria\", \"Umbria\", \"Umbria\", \"Umbria\", \"Umbria\", \"Umbria\", \"Umbria\", \"Umbria\", \"Umbria\", \"Umbria\", \"Umbria\", \"Umbria\", \"Sardegna\", \"Sardegna\", \"Sardegna\", \"Sardegna\", \"Sardegna\", \"Sardegna\", \"Sardegna\", \"Sardegna\", \"Sardegna\", \"Sardegna\", \"Sardegna\", \"Sardegna\", \"Sardegna\", \"Sardegna\", \"Sardegna\", \"Sardegna\", \"Sardegna\", \"Sardegna\", \"Sardegna\", \"Sardegna\", \"Sardegna\", \"Sardegna\", \"Sardegna\", \"Sicilia\", \"Sicilia\", \"Sicilia\", \"Sicilia\", \"Sicilia\", \"Sicilia\", \"Sicilia\", \"Sicilia\", \"Sicilia\", \"Sicilia\", \"Sicilia\", \"Sicilia\", \"Sicilia\", \"Sicilia\", \"Sicilia\", \"Sicilia\", \"Sicilia\", \"Sicilia\", \"Sicilia\", \"Sicilia\", \"Sicilia\", \"Sicilia\", \"Sicilia\", \"Emilia-Romagna\", \"Emilia-Romagna\", \"Emilia-Romagna\", \"Emilia-Romagna\", \"Emilia-Romagna\", \"Emilia-Romagna\", \"Emilia-Romagna\", \"Emilia-Romagna\", \"Emilia-Romagna\", \"Emilia-Romagna\", \"Emilia-Romagna\", \"Emilia-Romagna\", \"Emilia-Romagna\", \"Emilia-Romagna\", \"Emilia-Romagna\", \"Emilia-Romagna\", \"Emilia-Romagna\", \"Emilia-Romagna\", \"Emilia-Romagna\", \"Emilia-Romagna\", \"Emilia-Romagna\", \"Emilia-Romagna\", \"Emilia-Romagna\", \"Friuli-Venezia Giulia\", \"Friuli-Venezia Giulia\", \"Friuli-Venezia Giulia\", \"Friuli-Venezia Giulia\", \"Friuli-Venezia Giulia\", \"Friuli-Venezia Giulia\", \"Friuli-Venezia Giulia\", \"Friuli-Venezia Giulia\", \"Friuli-Venezia Giulia\", \"Friuli-Venezia Giulia\", \"Friuli-Venezia Giulia\", \"Friuli-Venezia Giulia\", \"Friuli-Venezia Giulia\", \"Friuli-Venezia Giulia\", \"Friuli-Venezia Giulia\", \"Friuli-Venezia Giulia\", \"Friuli-Venezia Giulia\", \"Friuli-Venezia Giulia\", \"Friuli-Venezia Giulia\", \"Friuli-Venezia Giulia\", \"Friuli-Venezia Giulia\", \"Friuli-Venezia Giulia\", \"Friuli-Venezia Giulia\", \"Liguria\", \"Liguria\", \"Liguria\", \"Liguria\", \"Liguria\", \"Liguria\", \"Liguria\", \"Liguria\", \"Liguria\", \"Liguria\", \"Liguria\", \"Liguria\", \"Liguria\", \"Liguria\", \"Liguria\", \"Liguria\", \"Liguria\", \"Liguria\", \"Liguria\", \"Liguria\", \"Liguria\", \"Liguria\", \"Liguria\", \"Lombardia\", \"Lombardia\", \"Lombardia\", \"Lombardia\", \"Lombardia\", \"Lombardia\", \"Lombardia\", \"Lombardia\", \"Lombardia\", \"Lombardia\", \"Lombardia\", \"Lombardia\", \"Lombardia\", \"Lombardia\", \"Lombardia\", \"Lombardia\", \"Lombardia\", \"Lombardia\", \"Lombardia\", \"Lombardia\", \"Lombardia\", \"Lombardia\", \"Lombardia\", \"Piemonte\", \"Piemonte\", \"Piemonte\", \"Piemonte\", \"Piemonte\", \"Piemonte\", \"Piemonte\", \"Piemonte\", \"Piemonte\", \"Piemonte\", \"Piemonte\", \"Piemonte\", \"Piemonte\", \"Piemonte\", \"Piemonte\", \"Piemonte\", \"Piemonte\", \"Piemonte\", \"Piemonte\", \"Piemonte\", \"Piemonte\", \"Piemonte\", \"Piemonte\", \"Provincia Autonoma Bolzano / Bozen\", \"Provincia Autonoma Bolzano / Bozen\", \"Provincia Autonoma Bolzano / Bozen\", \"Provincia Autonoma Bolzano / Bozen\", \"Provincia Autonoma Bolzano / Bozen\", \"Provincia Autonoma Bolzano / Bozen\", \"Provincia Autonoma Bolzano / Bozen\", \"Provincia Autonoma Bolzano / Bozen\", \"Provincia Autonoma Bolzano / Bozen\", \"Provincia Autonoma Bolzano / Bozen\", \"Provincia Autonoma Bolzano / Bozen\", \"Provincia Autonoma Bolzano / Bozen\", \"Provincia Autonoma Bolzano / Bozen\", \"Provincia Autonoma Bolzano / Bozen\", \"Provincia Autonoma Bolzano / Bozen\", \"Provincia Autonoma Bolzano / Bozen\", \"Provincia Autonoma Bolzano / Bozen\", \"Provincia Autonoma Bolzano / Bozen\", \"Provincia Autonoma Bolzano / Bozen\", \"Provincia Autonoma Bolzano / Bozen\", \"Provincia Autonoma Bolzano / Bozen\", \"Provincia Autonoma Bolzano / Bozen\", \"Provincia Autonoma Bolzano / Bozen\", \"Provincia Autonoma Trento\", \"Provincia Autonoma Trento\", \"Provincia Autonoma Trento\", \"Provincia Autonoma Trento\", \"Provincia Autonoma Trento\", \"Provincia Autonoma Trento\", \"Provincia Autonoma Trento\", \"Provincia Autonoma Trento\", \"Provincia Autonoma Trento\", \"Provincia Autonoma Trento\", \"Provincia Autonoma Trento\", \"Provincia Autonoma Trento\", \"Provincia Autonoma Trento\", \"Provincia Autonoma Trento\", \"Provincia Autonoma Trento\", \"Provincia Autonoma Trento\", \"Provincia Autonoma Trento\", \"Provincia Autonoma Trento\", \"Provincia Autonoma Trento\", \"Provincia Autonoma Trento\", \"Provincia Autonoma Trento\", \"Provincia Autonoma Trento\", \"Provincia Autonoma Trento\", \"Trentino Alto Adige / S\\u00fcdtirol\", \"Trentino Alto Adige / S\\u00fcdtirol\", \"Trentino Alto Adige / S\\u00fcdtirol\", \"Trentino Alto Adige / S\\u00fcdtirol\", \"Trentino Alto Adige / S\\u00fcdtirol\", \"Trentino Alto Adige / S\\u00fcdtirol\", \"Trentino Alto Adige / S\\u00fcdtirol\", \"Trentino Alto Adige / S\\u00fcdtirol\", \"Trentino Alto Adige / S\\u00fcdtirol\", \"Trentino Alto Adige / S\\u00fcdtirol\", \"Trentino Alto Adige / S\\u00fcdtirol\", \"Trentino Alto Adige / S\\u00fcdtirol\", \"Trentino Alto Adige / S\\u00fcdtirol\", \"Trentino Alto Adige / S\\u00fcdtirol\", \"Trentino Alto Adige / S\\u00fcdtirol\", \"Trentino Alto Adige / S\\u00fcdtirol\", \"Trentino Alto Adige / S\\u00fcdtirol\", \"Trentino Alto Adige / S\\u00fcdtirol\", \"Trentino Alto Adige / S\\u00fcdtirol\", \"Trentino Alto Adige / S\\u00fcdtirol\", \"Trentino Alto Adige / S\\u00fcdtirol\", \"Trentino Alto Adige / S\\u00fcdtirol\", \"Trentino Alto Adige / S\\u00fcdtirol\", \"Valle d'Aosta / Vall\\u00e9e d'Aoste\", \"Valle d'Aosta / Vall\\u00e9e d'Aoste\", \"Valle d'Aosta / Vall\\u00e9e d'Aoste\", \"Valle d'Aosta / Vall\\u00e9e d'Aoste\", \"Valle d'Aosta / Vall\\u00e9e d'Aoste\", \"Valle d'Aosta / Vall\\u00e9e d'Aoste\", \"Valle d'Aosta / Vall\\u00e9e d'Aoste\", \"Valle d'Aosta / Vall\\u00e9e d'Aoste\", \"Valle d'Aosta / Vall\\u00e9e d'Aoste\", \"Valle d'Aosta / Vall\\u00e9e d'Aoste\", \"Valle d'Aosta / Vall\\u00e9e d'Aoste\", \"Valle d'Aosta / Vall\\u00e9e d'Aoste\", \"Valle d'Aosta / Vall\\u00e9e d'Aoste\", \"Valle d'Aosta / Vall\\u00e9e d'Aoste\", \"Valle d'Aosta / Vall\\u00e9e d'Aoste\", \"Valle d'Aosta / Vall\\u00e9e d'Aoste\", \"Valle d'Aosta / Vall\\u00e9e d'Aoste\", \"Valle d'Aosta / Vall\\u00e9e d'Aoste\", \"Valle d'Aosta / Vall\\u00e9e d'Aoste\", \"Valle d'Aosta / Vall\\u00e9e d'Aoste\", \"Valle d'Aosta / Vall\\u00e9e d'Aoste\", \"Valle d'Aosta / Vall\\u00e9e d'Aoste\", \"Valle d'Aosta / Vall\\u00e9e d'Aoste\", \"Veneto\", \"Veneto\", \"Veneto\", \"Veneto\", \"Veneto\", \"Veneto\", \"Veneto\", \"Veneto\", \"Veneto\", \"Veneto\", \"Veneto\", \"Veneto\", \"Veneto\", \"Veneto\", \"Veneto\", \"Veneto\", \"Veneto\", \"Veneto\", \"Veneto\", \"Veneto\", \"Veneto\", \"Veneto\", \"Veneto\", \"Abruzzo\", \"Abruzzo\", \"Abruzzo\", \"Abruzzo\", \"Abruzzo\", \"Abruzzo\", \"Abruzzo\", \"Abruzzo\", \"Abruzzo\", \"Abruzzo\", \"Abruzzo\", \"Abruzzo\", \"Abruzzo\", \"Abruzzo\", \"Abruzzo\", \"Abruzzo\", \"Abruzzo\", \"Abruzzo\", \"Abruzzo\", \"Abruzzo\", \"Abruzzo\", \"Abruzzo\", \"Abruzzo\", \"Basilicata\", \"Basilicata\", \"Basilicata\", \"Basilicata\", \"Basilicata\", \"Basilicata\", \"Basilicata\", \"Basilicata\", \"Basilicata\", \"Basilicata\", \"Basilicata\", \"Basilicata\", \"Basilicata\", \"Basilicata\", \"Basilicata\", \"Basilicata\", \"Basilicata\", \"Basilicata\", \"Basilicata\", \"Basilicata\", \"Basilicata\", \"Basilicata\", \"Basilicata\", \"Calabria\", \"Calabria\", \"Calabria\", \"Calabria\", \"Calabria\", \"Calabria\", \"Calabria\", \"Calabria\", \"Calabria\", \"Calabria\", \"Calabria\", \"Calabria\", \"Calabria\", \"Calabria\", \"Calabria\", \"Calabria\", \"Calabria\", \"Calabria\", \"Calabria\", \"Calabria\", \"Calabria\", \"Calabria\", \"Calabria\", \"Campania\", \"Campania\", \"Campania\", \"Campania\", \"Campania\", \"Campania\", \"Campania\", \"Campania\", \"Campania\", \"Campania\", \"Campania\", \"Campania\", \"Campania\", \"Campania\", \"Campania\", \"Campania\", \"Campania\", \"Campania\", \"Campania\", \"Campania\", \"Campania\", \"Campania\", \"Campania\", \"Molise\", \"Molise\", \"Molise\", \"Molise\", \"Molise\", \"Molise\", \"Molise\", \"Molise\", \"Molise\", \"Molise\", \"Molise\", \"Molise\", \"Molise\", \"Molise\", \"Molise\", \"Molise\", \"Molise\", \"Molise\", \"Molise\", \"Molise\", \"Molise\", \"Molise\", \"Molise\", \"Puglia\", \"Puglia\", \"Puglia\", \"Puglia\", \"Puglia\", \"Puglia\", \"Puglia\", \"Puglia\", \"Puglia\", \"Puglia\", \"Puglia\", \"Puglia\", \"Puglia\", \"Puglia\", \"Puglia\", \"Puglia\", \"Puglia\", \"Puglia\", \"Puglia\", \"Puglia\", \"Puglia\", \"Puglia\", \"Puglia\"], \"xaxis\": \"x\", \"y\": [3566810.0, 3546830.0, 3528385.0, 3507455.0, 3487165.0, 3471126.0, 3460806.0, 3461904.0, 3479570.0, 3501408.0, 3510426.0, 3528235.0, 3570828.0, 3609169.0, 3641619.0, 3669386.0, 3705082.0, 3782703.0, 3832658.0, 3833914.0, 3823815.0, 3821445.0, 3812221.0, 955054.0, 954193.0, 954577.0, 954804.0, 954531.0, 955171.0, 956859.0, 960811.0, 968662.0, 972784.0, 974887.0, 979120.0, 990255.0, 998507.0, 988535.0, 988333.0, 985710.0, 984129.0, 979816.0, 974125.0, 967469.0, 961534.0, 955928.0, 2342574.0, 2330536.0, 2320886.0, 2311863.0, 2303879.0, 2295976.0, 2290310.0, 2290238.0, 2300971.0, 2307913.0, 2307565.0, 2313787.0, 2335032.0, 2350369.0, 2359990.0, 2364195.0, 2356384.0, 2349083.0, 2338754.0, 2331321.0, 2325713.0, 2321299.0, 2314999.0, 536280.0, 535301.0, 534661.0, 533973.0, 533408.0, 533557.0, 533644.0, 535285.0, 540471.0, 543319.0, 544383.0, 546123.0, 552891.0, 557830.0, 560713.0, 562393.0, 561843.0, 561538.0, 559506.0, 555909.0, 552268.0, 549749.0, 546320.0, 1152862.0, 1153154.0, 1151920.0, 1148939.0, 1145668.0, 1142338.0, 1138485.0, 1138291.0, 1138342.0, 1136393.0, 1134226.0, 1133356.0, 1133451.0, 1131696.0, 1127423.0, 1122994.0, 1117444.0, 1113418.0, 1107341.0, 1100539.0, 1092482.0, 1082818.0, 1072229.0, 3305505.0, 3303115.0, 3300605.0, 3292095.0, 3281697.0, 3271113.0, 3266064.0, 3266683.0, 3274263.0, 3276643.0, 3279229.0, 3288696.0, 3309152.0, 3325000.0, 3337337.0, 3346007.0, 3346183.0, 3346012.0, 3341780.0, 3329216.0, 3309047.0, 3286795.0, 3261195.0, 2632020.0, 2625079.0, 2620457.0, 2617249.0, 2615909.0, 2615378.0, 2617119.0, 2625396.0, 2644725.0, 2661422.0, 2669401.0, 2683608.0, 2713408.0, 2745182.0, 2775324.0, 2789932.0, 2791882.0, 2796999.0, 2798586.0, 2793702.0, 2790336.0, 2787791.0, 2790904.0, 801770.0, 797879.0, 794903.0, 792578.0, 790876.0, 789103.0, 787308.0, 787237.0, 787296.0, 785327.0, 781621.0, 780340.0, 782608.0, 783376.0, 780390.0, 777293.0, 771647.0, 769194.0, 766281.0, 761159.0, 754976.0, 750834.0, 749018.0, 1072813.0, 1058448.0, 1044455.0, 1031368.0, 1018804.0, 1006175.0, 994911.0, 988618.0, 987368.0, 984503.0, 978520.0, 974415.0, 974010.0, 975459.0, 974985.0, 974170.0, 969646.0, 966383.0, 960974.0, 952370.0, 943943.0, 938999.0, 934491.0, 6271081.0, 6252614.0, 6234919.0, 6219043.0, 6202428.0, 6185234.0, 6171122.0, 6168026.0, 6198357.0, 6236870.0, 6238840.0, 6243664.0, 6270773.0, 6300023.0, 6321753.0, 6351282.0, 6365690.0, 6389221.0, 6402486.0, 6400523.0, 6391028.0, 6384186.0, 6385646.0, 2915149.0, 2895191.0, 2875548.0, 2855807.0, 2834610.0, 2812851.0, 2793957.0, 2787684.0, 2797822.0, 2791625.0, 2779929.0, 2778737.0, 2802841.0, 2813200.0, 2811633.0, 2807931.0, 2797800.0, 2790958.0, 2777379.0, 2757440.0, 2737497.0, 2720752.0, 2704096.0, 304429.0, 305206.0, 306159.0, 306852.0, 307607.0, 308446.0, 309087.0, 310699.0, 312370.0, 314370.0, 316624.0, 318719.0, 321377.0, 323338.0, 325568.0, 327907.0, 329655.0, 331864.0, 333829.0, 334841.0, 335888.0, 337565.0, 339111.0, 309602.0, 310581.0, 311805.0, 313151.0, 314501.0, 315873.0, 316949.0, 319418.0, 322963.0, 326054.0, 327766.0, 329930.0, 333305.0, 336291.0, 338705.0, 340795.0, 341629.0, 342853.0, 343721.0, 343639.0, 343202.0, 342552.0, 342602.0, 614031.0, 615787.0, 617963.0, 620002.0, 622107.0, 624319.0, 626036.0, 630117.0, 635333.0, 640424.0, 644391.0, 648649.0, 654682.0, 659629.0, 664272.0, 668702.0, 671284.0, 674717.0, 677550.0, 678480.0, 679089.0, 680117.0, 681713.0, 81402.0, 81252.0, 81217.0, 81168.0, 80948.0, 80783.0, 80620.0, 80936.0, 81406.0, 81818.0, 82138.0, 82212.0, 82401.0, 82453.0, 82327.0, 82202.0, 81937.0, 81876.0, 81698.0, 81072.0, 80288.0, 79675.0, 79075.0, 3071153.0, 3071821.0, 3073118.0, 3074620.0, 3074809.0, 3075195.0, 3076461.0, 3088279.0, 3115388.0, 3131862.0, 3136884.0, 3145212.0, 3171270.0, 3187039.0, 3187826.0, 3188366.0, 3179645.0, 3177446.0, 3171734.0, 3159630.0, 3143384.0, 3130807.0, 3123722.0, 830717.0, 829936.0, 829735.0, 828273.0, 827158.0, 825654.0, 825381.0, 828250.0, 835259.0, 839032.0, 841321.0, 845874.0, 856738.0, 863983.0, 867135.0, 868673.0, 867659.0, 865194.0, 860750.0, 855997.0, 850165.0, 843792.0, 837314.0, 403463.0, 401770.0, 400071.0, 397764.0, 395491.0, 393273.0, 391082.0, 389367.0, 388647.0, 387306.0, 385532.0, 384418.0, 385168.0, 385082.0, 384538.0, 383976.0, 382897.0, 381785.0, 379908.0, 377390.0, 374883.0, 371614.0, 368218.0, 1364280.0, 1360256.0, 1354817.0, 1347257.0, 1338089.0, 1331121.0, 1324812.0, 1321865.0, 1323682.0, 1317636.0, 1310628.0, 1307966.0, 1315006.0, 1316337.0, 1315817.0, 1314676.0, 1311291.0, 1310000.0, 1308094.0, 1300493.0, 1292104.0, 1283206.0, 1273424.0, 3841305.0, 3843069.0, 3844545.0, 3841276.0, 3835258.0, 3826354.0, 3821663.0, 3826389.0, 3848149.0, 3864080.0, 3867734.0, 3875380.0, 3891565.0, 3901735.0, 3916630.0, 3924090.0, 3924969.0, 3929496.0, 3931932.0, 3920375.0, 3906866.0, 3892874.0, 3878522.0, 212784.0, 211648.0, 210424.0, 209037.0, 207814.0, 206786.0, 206025.0, 206148.0, 206386.0, 205729.0, 204977.0, 205101.0, 206145.0, 206307.0, 205854.0, 205349.0, 204785.0, 204591.0, 203812.0, 202243.0, 200571.0, 198512.0, 196057.0, 2744426.0, 2740470.0, 2736043.0, 2727974.0, 2718087.0, 2707767.0, 2701561.0, 2700832.0, 2704110.0, 2704896.0, 2704202.0, 2706974.0, 2714838.0, 2719407.0, 2724161.0, 2724722.0, 2713910.0, 2696811.0, 2680034.0, 2668876.0, 2655013.0, 2638898.0, 2622707.0], \"yaxis\": \"y\"}],                        {\"barmode\": \"relative\", \"coloraxis\": {\"colorbar\": {\"title\": {\"text\": \"tasso_occupazione\"}}, \"colorscale\": [[0.0, \"#0d0887\"], [0.1111111111111111, \"#46039f\"], [0.2222222222222222, \"#7201a8\"], [0.3333333333333333, \"#9c179e\"], [0.4444444444444444, \"#bd3786\"], [0.5555555555555556, \"#d8576b\"], [0.6666666666666666, \"#ed7953\"], [0.7777777777777778, \"#fb9f3a\"], [0.8888888888888888, \"#fdca26\"], [1.0, \"#f0f921\"]]}, \"height\": 400, \"legend\": {\"tracegroupgap\": 0}, \"margin\": {\"t\": 60}, \"template\": {\"data\": {\"bar\": [{\"error_x\": {\"color\": \"#2a3f5f\"}, \"error_y\": {\"color\": \"#2a3f5f\"}, \"marker\": {\"line\": {\"color\": \"#E5ECF6\", \"width\": 0.5}}, \"type\": \"bar\"}], \"barpolar\": [{\"marker\": {\"line\": {\"color\": \"#E5ECF6\", \"width\": 0.5}}, \"type\": \"barpolar\"}], \"carpet\": [{\"aaxis\": {\"endlinecolor\": \"#2a3f5f\", \"gridcolor\": \"white\", \"linecolor\": \"white\", \"minorgridcolor\": \"white\", \"startlinecolor\": \"#2a3f5f\"}, \"baxis\": {\"endlinecolor\": \"#2a3f5f\", \"gridcolor\": \"white\", \"linecolor\": \"white\", \"minorgridcolor\": \"white\", \"startlinecolor\": \"#2a3f5f\"}, \"type\": \"carpet\"}], \"choropleth\": [{\"colorbar\": {\"outlinewidth\": 0, \"ticks\": \"\"}, \"type\": \"choropleth\"}], \"contour\": [{\"colorbar\": {\"outlinewidth\": 0, \"ticks\": \"\"}, \"colorscale\": [[0.0, \"#0d0887\"], [0.1111111111111111, \"#46039f\"], [0.2222222222222222, \"#7201a8\"], [0.3333333333333333, \"#9c179e\"], [0.4444444444444444, \"#bd3786\"], [0.5555555555555556, \"#d8576b\"], [0.6666666666666666, \"#ed7953\"], [0.7777777777777778, \"#fb9f3a\"], [0.8888888888888888, \"#fdca26\"], [1.0, \"#f0f921\"]], \"type\": \"contour\"}], \"contourcarpet\": [{\"colorbar\": {\"outlinewidth\": 0, \"ticks\": \"\"}, \"type\": \"contourcarpet\"}], \"heatmap\": [{\"colorbar\": {\"outlinewidth\": 0, \"ticks\": \"\"}, \"colorscale\": [[0.0, \"#0d0887\"], [0.1111111111111111, \"#46039f\"], [0.2222222222222222, \"#7201a8\"], [0.3333333333333333, \"#9c179e\"], [0.4444444444444444, \"#bd3786\"], [0.5555555555555556, \"#d8576b\"], [0.6666666666666666, \"#ed7953\"], [0.7777777777777778, \"#fb9f3a\"], [0.8888888888888888, \"#fdca26\"], [1.0, \"#f0f921\"]], \"type\": \"heatmap\"}], \"heatmapgl\": [{\"colorbar\": {\"outlinewidth\": 0, \"ticks\": \"\"}, \"colorscale\": [[0.0, \"#0d0887\"], [0.1111111111111111, \"#46039f\"], [0.2222222222222222, \"#7201a8\"], [0.3333333333333333, \"#9c179e\"], [0.4444444444444444, \"#bd3786\"], [0.5555555555555556, \"#d8576b\"], [0.6666666666666666, \"#ed7953\"], [0.7777777777777778, \"#fb9f3a\"], [0.8888888888888888, \"#fdca26\"], [1.0, \"#f0f921\"]], \"type\": \"heatmapgl\"}], \"histogram\": [{\"marker\": {\"colorbar\": {\"outlinewidth\": 0, \"ticks\": \"\"}}, \"type\": \"histogram\"}], \"histogram2d\": [{\"colorbar\": {\"outlinewidth\": 0, \"ticks\": \"\"}, \"colorscale\": [[0.0, \"#0d0887\"], [0.1111111111111111, \"#46039f\"], [0.2222222222222222, \"#7201a8\"], [0.3333333333333333, \"#9c179e\"], [0.4444444444444444, \"#bd3786\"], [0.5555555555555556, \"#d8576b\"], [0.6666666666666666, \"#ed7953\"], [0.7777777777777778, \"#fb9f3a\"], [0.8888888888888888, \"#fdca26\"], [1.0, \"#f0f921\"]], \"type\": \"histogram2d\"}], \"histogram2dcontour\": [{\"colorbar\": {\"outlinewidth\": 0, \"ticks\": \"\"}, \"colorscale\": [[0.0, \"#0d0887\"], [0.1111111111111111, \"#46039f\"], [0.2222222222222222, \"#7201a8\"], [0.3333333333333333, \"#9c179e\"], [0.4444444444444444, \"#bd3786\"], [0.5555555555555556, \"#d8576b\"], [0.6666666666666666, \"#ed7953\"], [0.7777777777777778, \"#fb9f3a\"], [0.8888888888888888, \"#fdca26\"], [1.0, \"#f0f921\"]], \"type\": \"histogram2dcontour\"}], \"mesh3d\": [{\"colorbar\": {\"outlinewidth\": 0, \"ticks\": \"\"}, \"type\": \"mesh3d\"}], \"parcoords\": [{\"line\": {\"colorbar\": {\"outlinewidth\": 0, \"ticks\": \"\"}}, \"type\": \"parcoords\"}], \"pie\": [{\"automargin\": true, \"type\": \"pie\"}], \"scatter\": [{\"marker\": {\"colorbar\": {\"outlinewidth\": 0, \"ticks\": \"\"}}, \"type\": \"scatter\"}], \"scatter3d\": [{\"line\": {\"colorbar\": {\"outlinewidth\": 0, \"ticks\": \"\"}}, \"marker\": {\"colorbar\": {\"outlinewidth\": 0, \"ticks\": \"\"}}, \"type\": \"scatter3d\"}], \"scattercarpet\": [{\"marker\": {\"colorbar\": {\"outlinewidth\": 0, \"ticks\": \"\"}}, \"type\": \"scattercarpet\"}], \"scattergeo\": [{\"marker\": {\"colorbar\": {\"outlinewidth\": 0, \"ticks\": \"\"}}, \"type\": \"scattergeo\"}], \"scattergl\": [{\"marker\": {\"colorbar\": {\"outlinewidth\": 0, \"ticks\": \"\"}}, \"type\": \"scattergl\"}], \"scattermapbox\": [{\"marker\": {\"colorbar\": {\"outlinewidth\": 0, \"ticks\": \"\"}}, \"type\": \"scattermapbox\"}], \"scatterpolar\": [{\"marker\": {\"colorbar\": {\"outlinewidth\": 0, \"ticks\": \"\"}}, \"type\": \"scatterpolar\"}], \"scatterpolargl\": [{\"marker\": {\"colorbar\": {\"outlinewidth\": 0, \"ticks\": \"\"}}, \"type\": \"scatterpolargl\"}], \"scatterternary\": [{\"marker\": {\"colorbar\": {\"outlinewidth\": 0, \"ticks\": \"\"}}, \"type\": \"scatterternary\"}], \"surface\": [{\"colorbar\": {\"outlinewidth\": 0, \"ticks\": \"\"}, \"colorscale\": [[0.0, \"#0d0887\"], [0.1111111111111111, \"#46039f\"], [0.2222222222222222, \"#7201a8\"], [0.3333333333333333, \"#9c179e\"], [0.4444444444444444, \"#bd3786\"], [0.5555555555555556, \"#d8576b\"], [0.6666666666666666, \"#ed7953\"], [0.7777777777777778, \"#fb9f3a\"], [0.8888888888888888, \"#fdca26\"], [1.0, \"#f0f921\"]], \"type\": \"surface\"}], \"table\": [{\"cells\": {\"fill\": {\"color\": \"#EBF0F8\"}, \"line\": {\"color\": \"white\"}}, \"header\": {\"fill\": {\"color\": \"#C8D4E3\"}, \"line\": {\"color\": \"white\"}}, \"type\": \"table\"}]}, \"layout\": {\"annotationdefaults\": {\"arrowcolor\": \"#2a3f5f\", \"arrowhead\": 0, \"arrowwidth\": 1}, \"autotypenumbers\": \"strict\", \"coloraxis\": {\"colorbar\": {\"outlinewidth\": 0, \"ticks\": \"\"}}, \"colorscale\": {\"diverging\": [[0, \"#8e0152\"], [0.1, \"#c51b7d\"], [0.2, \"#de77ae\"], [0.3, \"#f1b6da\"], [0.4, \"#fde0ef\"], [0.5, \"#f7f7f7\"], [0.6, \"#e6f5d0\"], [0.7, \"#b8e186\"], [0.8, \"#7fbc41\"], [0.9, \"#4d9221\"], [1, \"#276419\"]], \"sequential\": [[0.0, \"#0d0887\"], [0.1111111111111111, \"#46039f\"], [0.2222222222222222, \"#7201a8\"], [0.3333333333333333, \"#9c179e\"], [0.4444444444444444, \"#bd3786\"], [0.5555555555555556, \"#d8576b\"], [0.6666666666666666, \"#ed7953\"], [0.7777777777777778, \"#fb9f3a\"], [0.8888888888888888, \"#fdca26\"], [1.0, \"#f0f921\"]], \"sequentialminus\": [[0.0, \"#0d0887\"], [0.1111111111111111, \"#46039f\"], [0.2222222222222222, \"#7201a8\"], [0.3333333333333333, \"#9c179e\"], [0.4444444444444444, \"#bd3786\"], [0.5555555555555556, \"#d8576b\"], [0.6666666666666666, \"#ed7953\"], [0.7777777777777778, \"#fb9f3a\"], [0.8888888888888888, \"#fdca26\"], [1.0, \"#f0f921\"]]}, \"colorway\": [\"#636efa\", \"#EF553B\", \"#00cc96\", \"#ab63fa\", \"#FFA15A\", \"#19d3f3\", \"#FF6692\", \"#B6E880\", \"#FF97FF\", \"#FECB52\"], \"font\": {\"color\": \"#2a3f5f\"}, \"geo\": {\"bgcolor\": \"white\", \"lakecolor\": \"white\", \"landcolor\": \"#E5ECF6\", \"showlakes\": true, \"showland\": true, \"subunitcolor\": \"white\"}, \"hoverlabel\": {\"align\": \"left\"}, \"hovermode\": \"closest\", \"mapbox\": {\"style\": \"light\"}, \"paper_bgcolor\": \"white\", \"plot_bgcolor\": \"#E5ECF6\", \"polar\": {\"angularaxis\": {\"gridcolor\": \"white\", \"linecolor\": \"white\", \"ticks\": \"\"}, \"bgcolor\": \"#E5ECF6\", \"radialaxis\": {\"gridcolor\": \"white\", \"linecolor\": \"white\", \"ticks\": \"\"}}, \"scene\": {\"xaxis\": {\"backgroundcolor\": \"#E5ECF6\", \"gridcolor\": \"white\", \"gridwidth\": 2, \"linecolor\": \"white\", \"showbackground\": true, \"ticks\": \"\", \"zerolinecolor\": \"white\"}, \"yaxis\": {\"backgroundcolor\": \"#E5ECF6\", \"gridcolor\": \"white\", \"gridwidth\": 2, \"linecolor\": \"white\", \"showbackground\": true, \"ticks\": \"\", \"zerolinecolor\": \"white\"}, \"zaxis\": {\"backgroundcolor\": \"#E5ECF6\", \"gridcolor\": \"white\", \"gridwidth\": 2, \"linecolor\": \"white\", \"showbackground\": true, \"ticks\": \"\", \"zerolinecolor\": \"white\"}}, \"shapedefaults\": {\"line\": {\"color\": \"#2a3f5f\"}}, \"ternary\": {\"aaxis\": {\"gridcolor\": \"white\", \"linecolor\": \"white\", \"ticks\": \"\"}, \"baxis\": {\"gridcolor\": \"white\", \"linecolor\": \"white\", \"ticks\": \"\"}, \"bgcolor\": \"#E5ECF6\", \"caxis\": {\"gridcolor\": \"white\", \"linecolor\": \"white\", \"ticks\": \"\"}}, \"title\": {\"x\": 0.05}, \"xaxis\": {\"automargin\": true, \"gridcolor\": \"white\", \"linecolor\": \"white\", \"ticks\": \"\", \"title\": {\"standoff\": 15}, \"zerolinecolor\": \"white\", \"zerolinewidth\": 2}, \"yaxis\": {\"automargin\": true, \"gridcolor\": \"white\", \"linecolor\": \"white\", \"ticks\": \"\", \"title\": {\"standoff\": 15}, \"zerolinecolor\": \"white\", \"zerolinewidth\": 2}}}, \"xaxis\": {\"anchor\": \"y\", \"domain\": [0.0, 1.0], \"title\": {\"text\": \"x\"}}, \"yaxis\": {\"anchor\": \"x\", \"domain\": [0.0, 1.0], \"title\": {\"text\": \"totale\"}}},                        {\"responsive\": true}                    ).then(function(){\n",
       "                            \n",
       "var gd = document.getElementById('2411d177-be4a-4aff-a6ec-c159e7858885');\n",
       "var x = new MutationObserver(function (mutations, observer) {{\n",
       "        var display = window.getComputedStyle(gd).display;\n",
       "        if (!display || display === 'none') {{\n",
       "            console.log([gd, 'removed!']);\n",
       "            Plotly.purge(gd);\n",
       "            observer.disconnect();\n",
       "        }}\n",
       "}});\n",
       "\n",
       "// Listen for the removal of the full notebook cells\n",
       "var notebookContainer = gd.closest('#notebook-container');\n",
       "if (notebookContainer) {{\n",
       "    x.observe(notebookContainer, {childList: true});\n",
       "}}\n",
       "\n",
       "// Listen for the clearing of the current output cell\n",
       "var outputEl = gd.closest('.output');\n",
       "if (outputEl) {{\n",
       "    x.observe(outputEl, {childList: true});\n",
       "}}\n",
       "\n",
       "                        })                };                });            </script>        </div>"
      ]
     },
     "metadata": {},
     "output_type": "display_data"
    }
   ],
   "source": [
    "fig = px.bar(df6, x=df6.index.get_level_values(1), y='totale',\n",
    "             hover_data=['tasso_occupazione', 'totale'], color='tasso_occupazione',\n",
    "             labels={'pop':'populazione '}, height=400)\n",
    "fig.show()"
   ]
  },
  {
   "cell_type": "code",
   "execution_count": 86,
   "metadata": {},
   "outputs": [
    {
     "name": "stdout",
     "output_type": "stream",
     "text": [
      "Dash is running on http://127.0.0.1:8050/\n",
      "\n",
      "Dash is running on http://127.0.0.1:8050/\n",
      "\n",
      "Dash is running on http://127.0.0.1:8050/\n",
      "\n",
      "Dash is running on http://127.0.0.1:8050/\n",
      "\n",
      "Dash is running on http://127.0.0.1:8050/\n",
      "\n",
      "Dash is running on http://127.0.0.1:8050/\n",
      "\n",
      "Dash is running on http://127.0.0.1:8050/\n",
      "\n",
      "Dash is running on http://127.0.0.1:8050/\n",
      "\n",
      "Dash is running on http://127.0.0.1:8050/\n",
      "\n",
      "Dash is running on http://127.0.0.1:8050/\n",
      "\n",
      "Dash is running on http://127.0.0.1:8050/\n",
      "\n",
      "Dash is running on http://127.0.0.1:8050/\n",
      "\n",
      "Dash is running on http://127.0.0.1:8050/\n",
      "\n",
      "Dash is running on http://127.0.0.1:8050/\n",
      "\n",
      "Dash is running on http://127.0.0.1:8050/\n",
      "\n",
      "Dash is running on http://127.0.0.1:8050/\n",
      "\n",
      "Dash is running on http://127.0.0.1:8050/\n",
      "\n",
      "Dash is running on http://127.0.0.1:8050/\n",
      "\n",
      "Dash is running on http://127.0.0.1:8050/\n",
      "\n",
      "Dash is running on http://127.0.0.1:8050/\n",
      "\n",
      "Dash is running on http://127.0.0.1:8050/\n",
      "\n",
      "Dash is running on http://127.0.0.1:8050/\n",
      "\n",
      " * Serving Flask app \"__main__\" (lazy loading)\n",
      " * Environment: production\n",
      "   WARNING: This is a development server. Do not use it in a production deployment.\n",
      "   Use a production WSGI server instead.\n",
      " * Debug mode: on\n"
     ]
    }
   ],
   "source": [
    "df7 = df6.groupby(by=[df6.index.get_level_values(0), df6.index.get_level_values(2)]).mean()\n",
    "\n",
    "app = dash.Dash(__name__)\n",
    "\n",
    "app.layout = html.Div([\n",
    "    dcc.Dropdown(\n",
    "        id=\"ticker\",\n",
    "        options=[{\"label\": x, \"value\": x} \n",
    "                 for x in df7.columns[7:]],\n",
    "        value=df6.columns[7],\n",
    "        clearable=False,\n",
    "    ),\n",
    "    dcc.Graph(id=\"time-series-chart\"),\n",
    "])\n",
    "\n",
    "@app.callback(\n",
    "    Output(\"time-series-chart\", \"figure\"), \n",
    "    [Input(\"ticker\", \"value\")])\n",
    "def display_time_series(ticker):\n",
    "    fig = px.line(df7, x=df7.index.get_level_values(1), y=ticker,\n",
    "                 title='Andamento Tasso di occupazione in italia (per zone)', color=df7.index.get_level_values(0))\n",
    "    return fig\n",
    "\n",
    "app.run_server(debug=True, use_reloader=False)\n"
   ]
  },
  {
   "cell_type": "code",
   "execution_count": 75,
   "metadata": {},
   "outputs": [
    {
     "data": {
      "text/html": [
       "<div>\n",
       "<style scoped>\n",
       "    .dataframe tbody tr th:only-of-type {\n",
       "        vertical-align: middle;\n",
       "    }\n",
       "\n",
       "    .dataframe tbody tr th {\n",
       "        vertical-align: top;\n",
       "    }\n",
       "\n",
       "    .dataframe thead th {\n",
       "        text-align: right;\n",
       "    }\n",
       "</style>\n",
       "<table border=\"1\" class=\"dataframe\">\n",
       "  <thead>\n",
       "    <tr style=\"text-align: right;\">\n",
       "      <th></th>\n",
       "      <th></th>\n",
       "      <th></th>\n",
       "      <th></th>\n",
       "      <th>condizione professionale</th>\n",
       "      <th>disoccupati</th>\n",
       "      <th>forze lavoro</th>\n",
       "      <th>inattivi</th>\n",
       "      <th>non cercano e non disponibili a lavorare</th>\n",
       "      <th>occupati</th>\n",
       "      <th>totale</th>\n",
       "      <th>zona grigia dell'inattività</th>\n",
       "      <th>tasso_occupazione</th>\n",
       "      <th>tasso_disoccupazione</th>\n",
       "      <th>tasso_attività</th>\n",
       "      <th>tasso_inattività</th>\n",
       "    </tr>\n",
       "    <tr>\n",
       "      <th>zona</th>\n",
       "      <th>territorio</th>\n",
       "      <th>time</th>\n",
       "      <th>sesso</th>\n",
       "      <th>classe di età</th>\n",
       "      <th></th>\n",
       "      <th></th>\n",
       "      <th></th>\n",
       "      <th></th>\n",
       "      <th></th>\n",
       "      <th></th>\n",
       "      <th></th>\n",
       "      <th></th>\n",
       "      <th></th>\n",
       "      <th></th>\n",
       "      <th></th>\n",
       "    </tr>\n",
       "  </thead>\n",
       "  <tbody>\n",
       "    <tr>\n",
       "      <th rowspan=\"30\" valign=\"top\">Centro</th>\n",
       "      <th rowspan=\"30\" valign=\"top\">Lazio</th>\n",
       "      <th rowspan=\"3\" valign=\"top\">1996</th>\n",
       "      <th>femmine</th>\n",
       "      <th>15-64 anni</th>\n",
       "      <td>151877.0</td>\n",
       "      <td>810119.0</td>\n",
       "      <td>1004722.0</td>\n",
       "      <td>0.0</td>\n",
       "      <td>658242.0</td>\n",
       "      <td>1814841.0</td>\n",
       "      <td>0.0</td>\n",
       "      <td>36.269954</td>\n",
       "      <td>18.747493</td>\n",
       "      <td>44.638566</td>\n",
       "      <td>55.361434</td>\n",
       "    </tr>\n",
       "    <tr>\n",
       "      <th>maschi</th>\n",
       "      <th>15-64 anni</th>\n",
       "      <td>105670.0</td>\n",
       "      <td>1244594.0</td>\n",
       "      <td>507376.0</td>\n",
       "      <td>0.0</td>\n",
       "      <td>1138923.0</td>\n",
       "      <td>1751970.0</td>\n",
       "      <td>0.0</td>\n",
       "      <td>65.008134</td>\n",
       "      <td>8.490319</td>\n",
       "      <td>71.039687</td>\n",
       "      <td>28.960313</td>\n",
       "    </tr>\n",
       "    <tr>\n",
       "      <th>totale</th>\n",
       "      <th>15-64 anni</th>\n",
       "      <td>257547.0</td>\n",
       "      <td>2054713.0</td>\n",
       "      <td>1512098.0</td>\n",
       "      <td>0.0</td>\n",
       "      <td>1797165.0</td>\n",
       "      <td>3566810.0</td>\n",
       "      <td>0.0</td>\n",
       "      <td>50.385779</td>\n",
       "      <td>12.534451</td>\n",
       "      <td>57.606461</td>\n",
       "      <td>42.393567</td>\n",
       "    </tr>\n",
       "    <tr>\n",
       "      <th rowspan=\"3\" valign=\"top\">1997</th>\n",
       "      <th>femmine</th>\n",
       "      <th>15-64 anni</th>\n",
       "      <td>147156.0</td>\n",
       "      <td>811699.0</td>\n",
       "      <td>994438.0</td>\n",
       "      <td>0.0</td>\n",
       "      <td>664543.0</td>\n",
       "      <td>1806137.0</td>\n",
       "      <td>0.0</td>\n",
       "      <td>36.793610</td>\n",
       "      <td>18.129380</td>\n",
       "      <td>44.941164</td>\n",
       "      <td>55.058836</td>\n",
       "    </tr>\n",
       "    <tr>\n",
       "      <th>maschi</th>\n",
       "      <th>15-64 anni</th>\n",
       "      <td>101078.0</td>\n",
       "      <td>1235470.0</td>\n",
       "      <td>505223.0</td>\n",
       "      <td>0.0</td>\n",
       "      <td>1134392.0</td>\n",
       "      <td>1740693.0</td>\n",
       "      <td>0.0</td>\n",
       "      <td>65.168987</td>\n",
       "      <td>8.181340</td>\n",
       "      <td>70.975755</td>\n",
       "      <td>29.024245</td>\n",
       "    </tr>\n",
       "    <tr>\n",
       "      <th>totale</th>\n",
       "      <th>15-64 anni</th>\n",
       "      <td>248234.0</td>\n",
       "      <td>2047169.0</td>\n",
       "      <td>1499662.0</td>\n",
       "      <td>0.0</td>\n",
       "      <td>1798935.0</td>\n",
       "      <td>3546830.0</td>\n",
       "      <td>0.0</td>\n",
       "      <td>50.719516</td>\n",
       "      <td>12.125721</td>\n",
       "      <td>57.718272</td>\n",
       "      <td>42.281756</td>\n",
       "    </tr>\n",
       "    <tr>\n",
       "      <th rowspan=\"3\" valign=\"top\">1998</th>\n",
       "      <th>femmine</th>\n",
       "      <th>15-64 anni</th>\n",
       "      <td>141464.0</td>\n",
       "      <td>812769.0</td>\n",
       "      <td>985688.0</td>\n",
       "      <td>0.0</td>\n",
       "      <td>671305.0</td>\n",
       "      <td>1798457.0</td>\n",
       "      <td>0.0</td>\n",
       "      <td>37.326720</td>\n",
       "      <td>17.405191</td>\n",
       "      <td>45.192573</td>\n",
       "      <td>54.807427</td>\n",
       "    </tr>\n",
       "    <tr>\n",
       "      <th>maschi</th>\n",
       "      <th>15-64 anni</th>\n",
       "      <td>106041.0</td>\n",
       "      <td>1237426.0</td>\n",
       "      <td>492502.0</td>\n",
       "      <td>0.0</td>\n",
       "      <td>1131384.0</td>\n",
       "      <td>1729928.0</td>\n",
       "      <td>0.0</td>\n",
       "      <td>65.400641</td>\n",
       "      <td>8.569482</td>\n",
       "      <td>71.530491</td>\n",
       "      <td>28.469509</td>\n",
       "    </tr>\n",
       "    <tr>\n",
       "      <th>totale</th>\n",
       "      <th>15-64 anni</th>\n",
       "      <td>247505.0</td>\n",
       "      <td>2050194.0</td>\n",
       "      <td>1478190.0</td>\n",
       "      <td>0.0</td>\n",
       "      <td>1802689.0</td>\n",
       "      <td>3528385.0</td>\n",
       "      <td>0.0</td>\n",
       "      <td>51.091052</td>\n",
       "      <td>12.072272</td>\n",
       "      <td>58.105734</td>\n",
       "      <td>41.894238</td>\n",
       "    </tr>\n",
       "    <tr>\n",
       "      <th rowspan=\"3\" valign=\"top\">1999</th>\n",
       "      <th>femmine</th>\n",
       "      <th>15-64 anni</th>\n",
       "      <td>145104.0</td>\n",
       "      <td>833130.0</td>\n",
       "      <td>956469.0</td>\n",
       "      <td>0.0</td>\n",
       "      <td>688027.0</td>\n",
       "      <td>1789599.0</td>\n",
       "      <td>0.0</td>\n",
       "      <td>38.445875</td>\n",
       "      <td>17.416730</td>\n",
       "      <td>46.554005</td>\n",
       "      <td>53.445995</td>\n",
       "    </tr>\n",
       "    <tr>\n",
       "      <th>maschi</th>\n",
       "      <th>15-64 anni</th>\n",
       "      <td>99673.0</td>\n",
       "      <td>1227514.0</td>\n",
       "      <td>490342.0</td>\n",
       "      <td>0.0</td>\n",
       "      <td>1127841.0</td>\n",
       "      <td>1717856.0</td>\n",
       "      <td>0.0</td>\n",
       "      <td>65.653990</td>\n",
       "      <td>8.119907</td>\n",
       "      <td>71.456164</td>\n",
       "      <td>28.543836</td>\n",
       "    </tr>\n",
       "    <tr>\n",
       "      <th>totale</th>\n",
       "      <th>15-64 anni</th>\n",
       "      <td>244776.0</td>\n",
       "      <td>2060643.0</td>\n",
       "      <td>1446811.0</td>\n",
       "      <td>0.0</td>\n",
       "      <td>1815868.0</td>\n",
       "      <td>3507455.0</td>\n",
       "      <td>0.0</td>\n",
       "      <td>51.771669</td>\n",
       "      <td>11.878622</td>\n",
       "      <td>58.750376</td>\n",
       "      <td>41.249596</td>\n",
       "    </tr>\n",
       "    <tr>\n",
       "      <th rowspan=\"3\" valign=\"top\">2000</th>\n",
       "      <th>femmine</th>\n",
       "      <th>15-64 anni</th>\n",
       "      <td>140091.0</td>\n",
       "      <td>853524.0</td>\n",
       "      <td>927296.0</td>\n",
       "      <td>0.0</td>\n",
       "      <td>713434.0</td>\n",
       "      <td>1780820.0</td>\n",
       "      <td>0.0</td>\n",
       "      <td>40.062106</td>\n",
       "      <td>16.413247</td>\n",
       "      <td>47.928707</td>\n",
       "      <td>52.071293</td>\n",
       "    </tr>\n",
       "    <tr>\n",
       "      <th>maschi</th>\n",
       "      <th>15-64 anni</th>\n",
       "      <td>93443.0</td>\n",
       "      <td>1218872.0</td>\n",
       "      <td>487473.0</td>\n",
       "      <td>0.0</td>\n",
       "      <td>1125430.0</td>\n",
       "      <td>1706345.0</td>\n",
       "      <td>0.0</td>\n",
       "      <td>65.955595</td>\n",
       "      <td>7.666351</td>\n",
       "      <td>71.431744</td>\n",
       "      <td>28.568256</td>\n",
       "    </tr>\n",
       "    <tr>\n",
       "      <th>totale</th>\n",
       "      <th>15-64 anni</th>\n",
       "      <td>233533.0</td>\n",
       "      <td>2072397.0</td>\n",
       "      <td>1414768.0</td>\n",
       "      <td>0.0</td>\n",
       "      <td>1838864.0</td>\n",
       "      <td>3487165.0</td>\n",
       "      <td>0.0</td>\n",
       "      <td>52.732348</td>\n",
       "      <td>11.268739</td>\n",
       "      <td>59.429279</td>\n",
       "      <td>40.570721</td>\n",
       "    </tr>\n",
       "    <tr>\n",
       "      <th rowspan=\"3\" valign=\"top\">2001</th>\n",
       "      <th>femmine</th>\n",
       "      <th>15-64 anni</th>\n",
       "      <td>129961.0</td>\n",
       "      <td>872552.0</td>\n",
       "      <td>901792.0</td>\n",
       "      <td>0.0</td>\n",
       "      <td>742590.0</td>\n",
       "      <td>1774344.0</td>\n",
       "      <td>0.0</td>\n",
       "      <td>41.851524</td>\n",
       "      <td>14.894356</td>\n",
       "      <td>49.176034</td>\n",
       "      <td>50.823966</td>\n",
       "    </tr>\n",
       "    <tr>\n",
       "      <th>maschi</th>\n",
       "      <th>15-64 anni</th>\n",
       "      <td>89474.0</td>\n",
       "      <td>1211052.0</td>\n",
       "      <td>485730.0</td>\n",
       "      <td>0.0</td>\n",
       "      <td>1121578.0</td>\n",
       "      <td>1696782.0</td>\n",
       "      <td>0.0</td>\n",
       "      <td>66.100300</td>\n",
       "      <td>7.388122</td>\n",
       "      <td>71.373459</td>\n",
       "      <td>28.626541</td>\n",
       "    </tr>\n",
       "    <tr>\n",
       "      <th>totale</th>\n",
       "      <th>15-64 anni</th>\n",
       "      <td>219436.0</td>\n",
       "      <td>2083603.0</td>\n",
       "      <td>1387522.0</td>\n",
       "      <td>0.0</td>\n",
       "      <td>1864167.0</td>\n",
       "      <td>3471126.0</td>\n",
       "      <td>0.0</td>\n",
       "      <td>53.704965</td>\n",
       "      <td>10.531565</td>\n",
       "      <td>60.026718</td>\n",
       "      <td>39.973254</td>\n",
       "    </tr>\n",
       "    <tr>\n",
       "      <th rowspan=\"3\" valign=\"top\">2002</th>\n",
       "      <th>femmine</th>\n",
       "      <th>15-64 anni</th>\n",
       "      <td>116402.0</td>\n",
       "      <td>880517.0</td>\n",
       "      <td>889948.0</td>\n",
       "      <td>0.0</td>\n",
       "      <td>764115.0</td>\n",
       "      <td>1770465.0</td>\n",
       "      <td>0.0</td>\n",
       "      <td>43.159001</td>\n",
       "      <td>13.219733</td>\n",
       "      <td>49.733658</td>\n",
       "      <td>50.266342</td>\n",
       "    </tr>\n",
       "    <tr>\n",
       "      <th>maschi</th>\n",
       "      <th>15-64 anni</th>\n",
       "      <td>62104.0</td>\n",
       "      <td>1222415.0</td>\n",
       "      <td>467927.0</td>\n",
       "      <td>0.0</td>\n",
       "      <td>1160311.0</td>\n",
       "      <td>1690341.0</td>\n",
       "      <td>0.0</td>\n",
       "      <td>68.643605</td>\n",
       "      <td>5.080435</td>\n",
       "      <td>72.317657</td>\n",
       "      <td>27.682403</td>\n",
       "    </tr>\n",
       "    <tr>\n",
       "      <th>totale</th>\n",
       "      <th>15-64 anni</th>\n",
       "      <td>178506.0</td>\n",
       "      <td>2102932.0</td>\n",
       "      <td>1357875.0</td>\n",
       "      <td>0.0</td>\n",
       "      <td>1924426.0</td>\n",
       "      <td>3460806.0</td>\n",
       "      <td>0.0</td>\n",
       "      <td>55.606295</td>\n",
       "      <td>8.488434</td>\n",
       "      <td>60.764227</td>\n",
       "      <td>39.235802</td>\n",
       "    </tr>\n",
       "    <tr>\n",
       "      <th rowspan=\"3\" valign=\"top\">2003</th>\n",
       "      <th>femmine</th>\n",
       "      <th>15-64 anni</th>\n",
       "      <td>117096.0</td>\n",
       "      <td>913316.0</td>\n",
       "      <td>858694.0</td>\n",
       "      <td>0.0</td>\n",
       "      <td>796221.0</td>\n",
       "      <td>1772010.0</td>\n",
       "      <td>0.0</td>\n",
       "      <td>44.933211</td>\n",
       "      <td>12.820973</td>\n",
       "      <td>51.541244</td>\n",
       "      <td>48.458756</td>\n",
       "    </tr>\n",
       "    <tr>\n",
       "      <th>maschi</th>\n",
       "      <th>15-64 anni</th>\n",
       "      <td>85800.0</td>\n",
       "      <td>1268649.0</td>\n",
       "      <td>421246.0</td>\n",
       "      <td>0.0</td>\n",
       "      <td>1182849.0</td>\n",
       "      <td>1689894.0</td>\n",
       "      <td>0.0</td>\n",
       "      <td>69.995455</td>\n",
       "      <td>6.763100</td>\n",
       "      <td>75.072697</td>\n",
       "      <td>24.927362</td>\n",
       "    </tr>\n",
       "    <tr>\n",
       "      <th>totale</th>\n",
       "      <th>15-64 anni</th>\n",
       "      <td>202896.0</td>\n",
       "      <td>2181965.0</td>\n",
       "      <td>1279939.0</td>\n",
       "      <td>0.0</td>\n",
       "      <td>1979069.0</td>\n",
       "      <td>3461904.0</td>\n",
       "      <td>0.0</td>\n",
       "      <td>57.167068</td>\n",
       "      <td>9.298774</td>\n",
       "      <td>63.027889</td>\n",
       "      <td>36.972111</td>\n",
       "    </tr>\n",
       "    <tr>\n",
       "      <th rowspan=\"3\" valign=\"top\">2004</th>\n",
       "      <th>femmine</th>\n",
       "      <th>15-64 anni</th>\n",
       "      <td>96741.0</td>\n",
       "      <td>942562.0</td>\n",
       "      <td>838570.0</td>\n",
       "      <td>671826.0</td>\n",
       "      <td>845821.0</td>\n",
       "      <td>1781132.0</td>\n",
       "      <td>166743.0</td>\n",
       "      <td>47.487834</td>\n",
       "      <td>10.263622</td>\n",
       "      <td>52.919267</td>\n",
       "      <td>47.080733</td>\n",
       "    </tr>\n",
       "    <tr>\n",
       "      <th>maschi</th>\n",
       "      <th>15-64 anni</th>\n",
       "      <td>80856.0</td>\n",
       "      <td>1278596.0</td>\n",
       "      <td>419841.0</td>\n",
       "      <td>349624.0</td>\n",
       "      <td>1197741.0</td>\n",
       "      <td>1698438.0</td>\n",
       "      <td>70217.0</td>\n",
       "      <td>70.520149</td>\n",
       "      <td>6.323811</td>\n",
       "      <td>75.280699</td>\n",
       "      <td>24.719242</td>\n",
       "    </tr>\n",
       "    <tr>\n",
       "      <th>totale</th>\n",
       "      <th>15-64 anni</th>\n",
       "      <td>177597.0</td>\n",
       "      <td>2221159.0</td>\n",
       "      <td>1258411.0</td>\n",
       "      <td>1021451.0</td>\n",
       "      <td>2043562.0</td>\n",
       "      <td>3479570.0</td>\n",
       "      <td>236961.0</td>\n",
       "      <td>58.730303</td>\n",
       "      <td>7.995691</td>\n",
       "      <td>63.834296</td>\n",
       "      <td>36.165704</td>\n",
       "    </tr>\n",
       "    <tr>\n",
       "      <th rowspan=\"3\" valign=\"top\">2005</th>\n",
       "      <th>femmine</th>\n",
       "      <th>15-64 anni</th>\n",
       "      <td>91752.0</td>\n",
       "      <td>954417.0</td>\n",
       "      <td>836420.0</td>\n",
       "      <td>683302.0</td>\n",
       "      <td>862665.0</td>\n",
       "      <td>1790837.0</td>\n",
       "      <td>153118.0</td>\n",
       "      <td>48.171051</td>\n",
       "      <td>9.613408</td>\n",
       "      <td>53.294465</td>\n",
       "      <td>46.705535</td>\n",
       "    </tr>\n",
       "    <tr>\n",
       "      <th>maschi</th>\n",
       "      <th>15-64 anni</th>\n",
       "      <td>81955.0</td>\n",
       "      <td>1268210.0</td>\n",
       "      <td>442360.0</td>\n",
       "      <td>367105.0</td>\n",
       "      <td>1186255.0</td>\n",
       "      <td>1710571.0</td>\n",
       "      <td>75255.0</td>\n",
       "      <td>69.348481</td>\n",
       "      <td>6.462258</td>\n",
       "      <td>74.139571</td>\n",
       "      <td>25.860371</td>\n",
       "    </tr>\n",
       "    <tr>\n",
       "      <th>totale</th>\n",
       "      <th>15-64 anni</th>\n",
       "      <td>173707.0</td>\n",
       "      <td>2222627.0</td>\n",
       "      <td>1278780.0</td>\n",
       "      <td>1050407.0</td>\n",
       "      <td>2048920.0</td>\n",
       "      <td>3501408.0</td>\n",
       "      <td>228373.0</td>\n",
       "      <td>58.517031</td>\n",
       "      <td>7.815391</td>\n",
       "      <td>63.478092</td>\n",
       "      <td>36.521879</td>\n",
       "    </tr>\n",
       "  </tbody>\n",
       "</table>\n",
       "</div>"
      ],
      "text/plain": [
       "condizione professionale                      disoccupati  forze lavoro  \\\n",
       "zona   territorio time sesso   classe di età                              \n",
       "Centro Lazio      1996 femmine 15-64 anni        151877.0      810119.0   \n",
       "                       maschi  15-64 anni        105670.0     1244594.0   \n",
       "                       totale  15-64 anni        257547.0     2054713.0   \n",
       "                  1997 femmine 15-64 anni        147156.0      811699.0   \n",
       "                       maschi  15-64 anni        101078.0     1235470.0   \n",
       "                       totale  15-64 anni        248234.0     2047169.0   \n",
       "                  1998 femmine 15-64 anni        141464.0      812769.0   \n",
       "                       maschi  15-64 anni        106041.0     1237426.0   \n",
       "                       totale  15-64 anni        247505.0     2050194.0   \n",
       "                  1999 femmine 15-64 anni        145104.0      833130.0   \n",
       "                       maschi  15-64 anni         99673.0     1227514.0   \n",
       "                       totale  15-64 anni        244776.0     2060643.0   \n",
       "                  2000 femmine 15-64 anni        140091.0      853524.0   \n",
       "                       maschi  15-64 anni         93443.0     1218872.0   \n",
       "                       totale  15-64 anni        233533.0     2072397.0   \n",
       "                  2001 femmine 15-64 anni        129961.0      872552.0   \n",
       "                       maschi  15-64 anni         89474.0     1211052.0   \n",
       "                       totale  15-64 anni        219436.0     2083603.0   \n",
       "                  2002 femmine 15-64 anni        116402.0      880517.0   \n",
       "                       maschi  15-64 anni         62104.0     1222415.0   \n",
       "                       totale  15-64 anni        178506.0     2102932.0   \n",
       "                  2003 femmine 15-64 anni        117096.0      913316.0   \n",
       "                       maschi  15-64 anni         85800.0     1268649.0   \n",
       "                       totale  15-64 anni        202896.0     2181965.0   \n",
       "                  2004 femmine 15-64 anni         96741.0      942562.0   \n",
       "                       maschi  15-64 anni         80856.0     1278596.0   \n",
       "                       totale  15-64 anni        177597.0     2221159.0   \n",
       "                  2005 femmine 15-64 anni         91752.0      954417.0   \n",
       "                       maschi  15-64 anni         81955.0     1268210.0   \n",
       "                       totale  15-64 anni        173707.0     2222627.0   \n",
       "\n",
       "condizione professionale                       inattivi  \\\n",
       "zona   territorio time sesso   classe di età              \n",
       "Centro Lazio      1996 femmine 15-64 anni     1004722.0   \n",
       "                       maschi  15-64 anni      507376.0   \n",
       "                       totale  15-64 anni     1512098.0   \n",
       "                  1997 femmine 15-64 anni      994438.0   \n",
       "                       maschi  15-64 anni      505223.0   \n",
       "                       totale  15-64 anni     1499662.0   \n",
       "                  1998 femmine 15-64 anni      985688.0   \n",
       "                       maschi  15-64 anni      492502.0   \n",
       "                       totale  15-64 anni     1478190.0   \n",
       "                  1999 femmine 15-64 anni      956469.0   \n",
       "                       maschi  15-64 anni      490342.0   \n",
       "                       totale  15-64 anni     1446811.0   \n",
       "                  2000 femmine 15-64 anni      927296.0   \n",
       "                       maschi  15-64 anni      487473.0   \n",
       "                       totale  15-64 anni     1414768.0   \n",
       "                  2001 femmine 15-64 anni      901792.0   \n",
       "                       maschi  15-64 anni      485730.0   \n",
       "                       totale  15-64 anni     1387522.0   \n",
       "                  2002 femmine 15-64 anni      889948.0   \n",
       "                       maschi  15-64 anni      467927.0   \n",
       "                       totale  15-64 anni     1357875.0   \n",
       "                  2003 femmine 15-64 anni      858694.0   \n",
       "                       maschi  15-64 anni      421246.0   \n",
       "                       totale  15-64 anni     1279939.0   \n",
       "                  2004 femmine 15-64 anni      838570.0   \n",
       "                       maschi  15-64 anni      419841.0   \n",
       "                       totale  15-64 anni     1258411.0   \n",
       "                  2005 femmine 15-64 anni      836420.0   \n",
       "                       maschi  15-64 anni      442360.0   \n",
       "                       totale  15-64 anni     1278780.0   \n",
       "\n",
       "condizione professionale                      non cercano e non disponibili a lavorare  \\\n",
       "zona   territorio time sesso   classe di età                                             \n",
       "Centro Lazio      1996 femmine 15-64 anni                                          0.0   \n",
       "                       maschi  15-64 anni                                          0.0   \n",
       "                       totale  15-64 anni                                          0.0   \n",
       "                  1997 femmine 15-64 anni                                          0.0   \n",
       "                       maschi  15-64 anni                                          0.0   \n",
       "                       totale  15-64 anni                                          0.0   \n",
       "                  1998 femmine 15-64 anni                                          0.0   \n",
       "                       maschi  15-64 anni                                          0.0   \n",
       "                       totale  15-64 anni                                          0.0   \n",
       "                  1999 femmine 15-64 anni                                          0.0   \n",
       "                       maschi  15-64 anni                                          0.0   \n",
       "                       totale  15-64 anni                                          0.0   \n",
       "                  2000 femmine 15-64 anni                                          0.0   \n",
       "                       maschi  15-64 anni                                          0.0   \n",
       "                       totale  15-64 anni                                          0.0   \n",
       "                  2001 femmine 15-64 anni                                          0.0   \n",
       "                       maschi  15-64 anni                                          0.0   \n",
       "                       totale  15-64 anni                                          0.0   \n",
       "                  2002 femmine 15-64 anni                                          0.0   \n",
       "                       maschi  15-64 anni                                          0.0   \n",
       "                       totale  15-64 anni                                          0.0   \n",
       "                  2003 femmine 15-64 anni                                          0.0   \n",
       "                       maschi  15-64 anni                                          0.0   \n",
       "                       totale  15-64 anni                                          0.0   \n",
       "                  2004 femmine 15-64 anni                                     671826.0   \n",
       "                       maschi  15-64 anni                                     349624.0   \n",
       "                       totale  15-64 anni                                    1021451.0   \n",
       "                  2005 femmine 15-64 anni                                     683302.0   \n",
       "                       maschi  15-64 anni                                     367105.0   \n",
       "                       totale  15-64 anni                                    1050407.0   \n",
       "\n",
       "condizione professionale                       occupati     totale  \\\n",
       "zona   territorio time sesso   classe di età                         \n",
       "Centro Lazio      1996 femmine 15-64 anni      658242.0  1814841.0   \n",
       "                       maschi  15-64 anni     1138923.0  1751970.0   \n",
       "                       totale  15-64 anni     1797165.0  3566810.0   \n",
       "                  1997 femmine 15-64 anni      664543.0  1806137.0   \n",
       "                       maschi  15-64 anni     1134392.0  1740693.0   \n",
       "                       totale  15-64 anni     1798935.0  3546830.0   \n",
       "                  1998 femmine 15-64 anni      671305.0  1798457.0   \n",
       "                       maschi  15-64 anni     1131384.0  1729928.0   \n",
       "                       totale  15-64 anni     1802689.0  3528385.0   \n",
       "                  1999 femmine 15-64 anni      688027.0  1789599.0   \n",
       "                       maschi  15-64 anni     1127841.0  1717856.0   \n",
       "                       totale  15-64 anni     1815868.0  3507455.0   \n",
       "                  2000 femmine 15-64 anni      713434.0  1780820.0   \n",
       "                       maschi  15-64 anni     1125430.0  1706345.0   \n",
       "                       totale  15-64 anni     1838864.0  3487165.0   \n",
       "                  2001 femmine 15-64 anni      742590.0  1774344.0   \n",
       "                       maschi  15-64 anni     1121578.0  1696782.0   \n",
       "                       totale  15-64 anni     1864167.0  3471126.0   \n",
       "                  2002 femmine 15-64 anni      764115.0  1770465.0   \n",
       "                       maschi  15-64 anni     1160311.0  1690341.0   \n",
       "                       totale  15-64 anni     1924426.0  3460806.0   \n",
       "                  2003 femmine 15-64 anni      796221.0  1772010.0   \n",
       "                       maschi  15-64 anni     1182849.0  1689894.0   \n",
       "                       totale  15-64 anni     1979069.0  3461904.0   \n",
       "                  2004 femmine 15-64 anni      845821.0  1781132.0   \n",
       "                       maschi  15-64 anni     1197741.0  1698438.0   \n",
       "                       totale  15-64 anni     2043562.0  3479570.0   \n",
       "                  2005 femmine 15-64 anni      862665.0  1790837.0   \n",
       "                       maschi  15-64 anni     1186255.0  1710571.0   \n",
       "                       totale  15-64 anni     2048920.0  3501408.0   \n",
       "\n",
       "condizione professionale                      zona grigia dell'inattività  \\\n",
       "zona   territorio time sesso   classe di età                                \n",
       "Centro Lazio      1996 femmine 15-64 anni                             0.0   \n",
       "                       maschi  15-64 anni                             0.0   \n",
       "                       totale  15-64 anni                             0.0   \n",
       "                  1997 femmine 15-64 anni                             0.0   \n",
       "                       maschi  15-64 anni                             0.0   \n",
       "                       totale  15-64 anni                             0.0   \n",
       "                  1998 femmine 15-64 anni                             0.0   \n",
       "                       maschi  15-64 anni                             0.0   \n",
       "                       totale  15-64 anni                             0.0   \n",
       "                  1999 femmine 15-64 anni                             0.0   \n",
       "                       maschi  15-64 anni                             0.0   \n",
       "                       totale  15-64 anni                             0.0   \n",
       "                  2000 femmine 15-64 anni                             0.0   \n",
       "                       maschi  15-64 anni                             0.0   \n",
       "                       totale  15-64 anni                             0.0   \n",
       "                  2001 femmine 15-64 anni                             0.0   \n",
       "                       maschi  15-64 anni                             0.0   \n",
       "                       totale  15-64 anni                             0.0   \n",
       "                  2002 femmine 15-64 anni                             0.0   \n",
       "                       maschi  15-64 anni                             0.0   \n",
       "                       totale  15-64 anni                             0.0   \n",
       "                  2003 femmine 15-64 anni                             0.0   \n",
       "                       maschi  15-64 anni                             0.0   \n",
       "                       totale  15-64 anni                             0.0   \n",
       "                  2004 femmine 15-64 anni                        166743.0   \n",
       "                       maschi  15-64 anni                         70217.0   \n",
       "                       totale  15-64 anni                        236961.0   \n",
       "                  2005 femmine 15-64 anni                        153118.0   \n",
       "                       maschi  15-64 anni                         75255.0   \n",
       "                       totale  15-64 anni                        228373.0   \n",
       "\n",
       "condizione professionale                      tasso_occupazione  \\\n",
       "zona   territorio time sesso   classe di età                      \n",
       "Centro Lazio      1996 femmine 15-64 anni             36.269954   \n",
       "                       maschi  15-64 anni             65.008134   \n",
       "                       totale  15-64 anni             50.385779   \n",
       "                  1997 femmine 15-64 anni             36.793610   \n",
       "                       maschi  15-64 anni             65.168987   \n",
       "                       totale  15-64 anni             50.719516   \n",
       "                  1998 femmine 15-64 anni             37.326720   \n",
       "                       maschi  15-64 anni             65.400641   \n",
       "                       totale  15-64 anni             51.091052   \n",
       "                  1999 femmine 15-64 anni             38.445875   \n",
       "                       maschi  15-64 anni             65.653990   \n",
       "                       totale  15-64 anni             51.771669   \n",
       "                  2000 femmine 15-64 anni             40.062106   \n",
       "                       maschi  15-64 anni             65.955595   \n",
       "                       totale  15-64 anni             52.732348   \n",
       "                  2001 femmine 15-64 anni             41.851524   \n",
       "                       maschi  15-64 anni             66.100300   \n",
       "                       totale  15-64 anni             53.704965   \n",
       "                  2002 femmine 15-64 anni             43.159001   \n",
       "                       maschi  15-64 anni             68.643605   \n",
       "                       totale  15-64 anni             55.606295   \n",
       "                  2003 femmine 15-64 anni             44.933211   \n",
       "                       maschi  15-64 anni             69.995455   \n",
       "                       totale  15-64 anni             57.167068   \n",
       "                  2004 femmine 15-64 anni             47.487834   \n",
       "                       maschi  15-64 anni             70.520149   \n",
       "                       totale  15-64 anni             58.730303   \n",
       "                  2005 femmine 15-64 anni             48.171051   \n",
       "                       maschi  15-64 anni             69.348481   \n",
       "                       totale  15-64 anni             58.517031   \n",
       "\n",
       "condizione professionale                      tasso_disoccupazione  \\\n",
       "zona   territorio time sesso   classe di età                         \n",
       "Centro Lazio      1996 femmine 15-64 anni                18.747493   \n",
       "                       maschi  15-64 anni                 8.490319   \n",
       "                       totale  15-64 anni                12.534451   \n",
       "                  1997 femmine 15-64 anni                18.129380   \n",
       "                       maschi  15-64 anni                 8.181340   \n",
       "                       totale  15-64 anni                12.125721   \n",
       "                  1998 femmine 15-64 anni                17.405191   \n",
       "                       maschi  15-64 anni                 8.569482   \n",
       "                       totale  15-64 anni                12.072272   \n",
       "                  1999 femmine 15-64 anni                17.416730   \n",
       "                       maschi  15-64 anni                 8.119907   \n",
       "                       totale  15-64 anni                11.878622   \n",
       "                  2000 femmine 15-64 anni                16.413247   \n",
       "                       maschi  15-64 anni                 7.666351   \n",
       "                       totale  15-64 anni                11.268739   \n",
       "                  2001 femmine 15-64 anni                14.894356   \n",
       "                       maschi  15-64 anni                 7.388122   \n",
       "                       totale  15-64 anni                10.531565   \n",
       "                  2002 femmine 15-64 anni                13.219733   \n",
       "                       maschi  15-64 anni                 5.080435   \n",
       "                       totale  15-64 anni                 8.488434   \n",
       "                  2003 femmine 15-64 anni                12.820973   \n",
       "                       maschi  15-64 anni                 6.763100   \n",
       "                       totale  15-64 anni                 9.298774   \n",
       "                  2004 femmine 15-64 anni                10.263622   \n",
       "                       maschi  15-64 anni                 6.323811   \n",
       "                       totale  15-64 anni                 7.995691   \n",
       "                  2005 femmine 15-64 anni                 9.613408   \n",
       "                       maschi  15-64 anni                 6.462258   \n",
       "                       totale  15-64 anni                 7.815391   \n",
       "\n",
       "condizione professionale                      tasso_attività  tasso_inattività  \n",
       "zona   territorio time sesso   classe di età                                    \n",
       "Centro Lazio      1996 femmine 15-64 anni          44.638566         55.361434  \n",
       "                       maschi  15-64 anni          71.039687         28.960313  \n",
       "                       totale  15-64 anni          57.606461         42.393567  \n",
       "                  1997 femmine 15-64 anni          44.941164         55.058836  \n",
       "                       maschi  15-64 anni          70.975755         29.024245  \n",
       "                       totale  15-64 anni          57.718272         42.281756  \n",
       "                  1998 femmine 15-64 anni          45.192573         54.807427  \n",
       "                       maschi  15-64 anni          71.530491         28.469509  \n",
       "                       totale  15-64 anni          58.105734         41.894238  \n",
       "                  1999 femmine 15-64 anni          46.554005         53.445995  \n",
       "                       maschi  15-64 anni          71.456164         28.543836  \n",
       "                       totale  15-64 anni          58.750376         41.249596  \n",
       "                  2000 femmine 15-64 anni          47.928707         52.071293  \n",
       "                       maschi  15-64 anni          71.431744         28.568256  \n",
       "                       totale  15-64 anni          59.429279         40.570721  \n",
       "                  2001 femmine 15-64 anni          49.176034         50.823966  \n",
       "                       maschi  15-64 anni          71.373459         28.626541  \n",
       "                       totale  15-64 anni          60.026718         39.973254  \n",
       "                  2002 femmine 15-64 anni          49.733658         50.266342  \n",
       "                       maschi  15-64 anni          72.317657         27.682403  \n",
       "                       totale  15-64 anni          60.764227         39.235802  \n",
       "                  2003 femmine 15-64 anni          51.541244         48.458756  \n",
       "                       maschi  15-64 anni          75.072697         24.927362  \n",
       "                       totale  15-64 anni          63.027889         36.972111  \n",
       "                  2004 femmine 15-64 anni          52.919267         47.080733  \n",
       "                       maschi  15-64 anni          75.280699         24.719242  \n",
       "                       totale  15-64 anni          63.834296         36.165704  \n",
       "                  2005 femmine 15-64 anni          53.294465         46.705535  \n",
       "                       maschi  15-64 anni          74.139571         25.860371  \n",
       "                       totale  15-64 anni          63.478092         36.521879  "
      ]
     },
     "execution_count": 75,
     "metadata": {},
     "output_type": "execute_result"
    }
   ],
   "source": [
    "df8 = df_pivot[(df_pivot.index.get_level_values(4) == '15-64 anni')]\n",
    "df8.head(30)"
   ]
  },
  {
   "cell_type": "code",
   "execution_count": 23,
   "metadata": {},
   "outputs": [
    {
     "data": {
      "application/vnd.plotly.v1+json": {
       "config": {
        "plotlyServerURL": "https://plot.ly"
       },
       "data": [
        {
         "mode": "lines",
         "name": "lines",
         "type": "scatter",
         "visible": "legendonly",
         "x": [
          "1996",
          "1996",
          "1996",
          "1997",
          "1997",
          "1997",
          "1998",
          "1998",
          "1998",
          "1999",
          "1999",
          "1999",
          "2000",
          "2000",
          "2000",
          "2001",
          "2001",
          "2001",
          "2002",
          "2002",
          "2002",
          "2003",
          "2003",
          "2003",
          "2004",
          "2004",
          "2004",
          "2005",
          "2005",
          "2005",
          "2006",
          "2006",
          "2006",
          "2007",
          "2007",
          "2007",
          "2008",
          "2008",
          "2008",
          "2009",
          "2009",
          "2009",
          "2010",
          "2010",
          "2010",
          "2011",
          "2011",
          "2011",
          "2012",
          "2012",
          "2012",
          "2013",
          "2013",
          "2013",
          "2014",
          "2014",
          "2014",
          "2015",
          "2015",
          "2015",
          "2016",
          "2016",
          "2016",
          "2017",
          "2017",
          "2017",
          "2018",
          "2018",
          "2018",
          "1996",
          "1996",
          "1996",
          "1997",
          "1997",
          "1997",
          "1998",
          "1998",
          "1998",
          "1999",
          "1999",
          "1999",
          "2000",
          "2000",
          "2000",
          "2001",
          "2001",
          "2001",
          "2002",
          "2002",
          "2002",
          "2003",
          "2003",
          "2003",
          "2004",
          "2004",
          "2004",
          "2005",
          "2005",
          "2005",
          "2006",
          "2006",
          "2006",
          "2007",
          "2007",
          "2007",
          "2008",
          "2008",
          "2008",
          "2009",
          "2009",
          "2009",
          "2010",
          "2010",
          "2010",
          "2011",
          "2011",
          "2011",
          "2012",
          "2012",
          "2012",
          "2013",
          "2013",
          "2013",
          "2014",
          "2014",
          "2014",
          "2015",
          "2015",
          "2015",
          "2016",
          "2016",
          "2016",
          "2017",
          "2017",
          "2017",
          "2018",
          "2018",
          "2018",
          "1996",
          "1996",
          "1996",
          "1997",
          "1997",
          "1997",
          "1998",
          "1998",
          "1998",
          "1999",
          "1999",
          "1999",
          "2000",
          "2000",
          "2000",
          "2001",
          "2001",
          "2001",
          "2002",
          "2002",
          "2002",
          "2003",
          "2003",
          "2003",
          "2004",
          "2004",
          "2004",
          "2005",
          "2005",
          "2005",
          "2006",
          "2006",
          "2006",
          "2007",
          "2007",
          "2007",
          "2008",
          "2008",
          "2008",
          "2009",
          "2009",
          "2009",
          "2010",
          "2010",
          "2010",
          "2011",
          "2011",
          "2011",
          "2012",
          "2012",
          "2012",
          "2013",
          "2013",
          "2013",
          "2014",
          "2014",
          "2014",
          "2015",
          "2015",
          "2015",
          "2016",
          "2016",
          "2016",
          "2017",
          "2017",
          "2017",
          "2018",
          "2018",
          "2018",
          "1996",
          "1996",
          "1996",
          "1997",
          "1997",
          "1997",
          "1998",
          "1998",
          "1998",
          "1999",
          "1999",
          "1999",
          "2000",
          "2000",
          "2000",
          "2001",
          "2001",
          "2001",
          "2002",
          "2002",
          "2002",
          "2003",
          "2003",
          "2003",
          "2004",
          "2004",
          "2004",
          "2005",
          "2005",
          "2005",
          "2006",
          "2006",
          "2006",
          "2007",
          "2007",
          "2007",
          "2008",
          "2008",
          "2008",
          "2009",
          "2009",
          "2009",
          "2010",
          "2010",
          "2010",
          "2011",
          "2011",
          "2011",
          "2012",
          "2012",
          "2012",
          "2013",
          "2013",
          "2013",
          "2014",
          "2014",
          "2014",
          "2015",
          "2015",
          "2015",
          "2016",
          "2016",
          "2016",
          "2017",
          "2017",
          "2017",
          "2018",
          "2018",
          "2018",
          "1996",
          "1996",
          "1996",
          "1997",
          "1997",
          "1997",
          "1998",
          "1998",
          "1998",
          "1999",
          "1999",
          "1999",
          "2000",
          "2000",
          "2000",
          "2001",
          "2001",
          "2001",
          "2002",
          "2002",
          "2002",
          "2003",
          "2003",
          "2003",
          "2004",
          "2004",
          "2004",
          "2005",
          "2005",
          "2005",
          "2006",
          "2006",
          "2006",
          "2007",
          "2007",
          "2007",
          "2008",
          "2008",
          "2008",
          "2009",
          "2009",
          "2009",
          "2010",
          "2010",
          "2010",
          "2011",
          "2011",
          "2011",
          "2012",
          "2012",
          "2012",
          "2013",
          "2013",
          "2013",
          "2014",
          "2014",
          "2014",
          "2015",
          "2015",
          "2015",
          "2016",
          "2016",
          "2016",
          "2017",
          "2017",
          "2017",
          "2018",
          "2018",
          "2018",
          "1996",
          "1996",
          "1996",
          "1997",
          "1997",
          "1997",
          "1998",
          "1998",
          "1998",
          "1999",
          "1999",
          "1999",
          "2000",
          "2000",
          "2000",
          "2001",
          "2001",
          "2001",
          "2002",
          "2002",
          "2002",
          "2003",
          "2003",
          "2003",
          "2004",
          "2004",
          "2004",
          "2005",
          "2005",
          "2005",
          "2006",
          "2006",
          "2006",
          "2007",
          "2007",
          "2007",
          "2008",
          "2008",
          "2008",
          "2009",
          "2009",
          "2009",
          "2010",
          "2010",
          "2010",
          "2011",
          "2011",
          "2011",
          "2012",
          "2012",
          "2012",
          "2013",
          "2013",
          "2013",
          "2014",
          "2014",
          "2014",
          "2015",
          "2015",
          "2015",
          "2016",
          "2016",
          "2016",
          "2017",
          "2017",
          "2017",
          "2018",
          "2018",
          "2018",
          "1996",
          "1996",
          "1996",
          "1997",
          "1997",
          "1997",
          "1998",
          "1998",
          "1998",
          "1999",
          "1999",
          "1999",
          "2000",
          "2000",
          "2000",
          "2001",
          "2001",
          "2001",
          "2002",
          "2002",
          "2002",
          "2003",
          "2003",
          "2003",
          "2004",
          "2004",
          "2004",
          "2005",
          "2005",
          "2005",
          "2006",
          "2006",
          "2006",
          "2007",
          "2007",
          "2007",
          "2008",
          "2008",
          "2008",
          "2009",
          "2009",
          "2009",
          "2010",
          "2010",
          "2010",
          "2011",
          "2011",
          "2011",
          "2012",
          "2012",
          "2012",
          "2013",
          "2013",
          "2013",
          "2014",
          "2014",
          "2014",
          "2015",
          "2015",
          "2015",
          "2016",
          "2016",
          "2016",
          "2017",
          "2017",
          "2017",
          "2018",
          "2018",
          "2018",
          "1996",
          "1996",
          "1996",
          "1997",
          "1997",
          "1997",
          "1998",
          "1998",
          "1998",
          "1999",
          "1999",
          "1999",
          "2000",
          "2000",
          "2000",
          "2001",
          "2001",
          "2001",
          "2002",
          "2002",
          "2002",
          "2003",
          "2003",
          "2003",
          "2004",
          "2004",
          "2004",
          "2005",
          "2005",
          "2005",
          "2006",
          "2006",
          "2006",
          "2007",
          "2007",
          "2007",
          "2008",
          "2008",
          "2008",
          "2009",
          "2009",
          "2009",
          "2010",
          "2010",
          "2010",
          "2011",
          "2011",
          "2011",
          "2012",
          "2012",
          "2012",
          "2013",
          "2013",
          "2013",
          "2014",
          "2014",
          "2014",
          "2015",
          "2015",
          "2015",
          "2016",
          "2016",
          "2016",
          "2017",
          "2017",
          "2017",
          "2018",
          "2018",
          "2018",
          "1996",
          "1996",
          "1996",
          "1997",
          "1997",
          "1997",
          "1998",
          "1998",
          "1998",
          "1999",
          "1999",
          "1999",
          "2000",
          "2000",
          "2000",
          "2001",
          "2001",
          "2001",
          "2002",
          "2002",
          "2002",
          "2003",
          "2003",
          "2003",
          "2004",
          "2004",
          "2004",
          "2005",
          "2005",
          "2005",
          "2006",
          "2006",
          "2006",
          "2007",
          "2007",
          "2007",
          "2008",
          "2008",
          "2008",
          "2009",
          "2009",
          "2009",
          "2010",
          "2010",
          "2010",
          "2011",
          "2011",
          "2011",
          "2012",
          "2012",
          "2012",
          "2013",
          "2013",
          "2013",
          "2014",
          "2014",
          "2014",
          "2015",
          "2015",
          "2015",
          "2016",
          "2016",
          "2016",
          "2017",
          "2017",
          "2017",
          "2018",
          "2018",
          "2018",
          "1996",
          "1996",
          "1996",
          "1997",
          "1997",
          "1997",
          "1998",
          "1998",
          "1998",
          "1999",
          "1999",
          "1999",
          "2000",
          "2000",
          "2000",
          "2001",
          "2001",
          "2001",
          "2002",
          "2002",
          "2002",
          "2003",
          "2003",
          "2003",
          "2004",
          "2004",
          "2004",
          "2005",
          "2005",
          "2005",
          "2006",
          "2006",
          "2006",
          "2007",
          "2007",
          "2007",
          "2008",
          "2008",
          "2008",
          "2009",
          "2009",
          "2009",
          "2010",
          "2010",
          "2010",
          "2011",
          "2011",
          "2011",
          "2012",
          "2012",
          "2012",
          "2013",
          "2013",
          "2013",
          "2014",
          "2014",
          "2014",
          "2015",
          "2015",
          "2015",
          "2016",
          "2016",
          "2016",
          "2017",
          "2017",
          "2017",
          "2018",
          "2018",
          "2018",
          "1996",
          "1996",
          "1996",
          "1997",
          "1997",
          "1997",
          "1998",
          "1998",
          "1998",
          "1999",
          "1999",
          "1999",
          "2000",
          "2000",
          "2000",
          "2001",
          "2001",
          "2001",
          "2002",
          "2002",
          "2002",
          "2003",
          "2003",
          "2003",
          "2004",
          "2004",
          "2004",
          "2005",
          "2005",
          "2005",
          "2006",
          "2006",
          "2006",
          "2007",
          "2007",
          "2007",
          "2008",
          "2008",
          "2008",
          "2009",
          "2009",
          "2009",
          "2010",
          "2010",
          "2010",
          "2011",
          "2011",
          "2011",
          "2012",
          "2012",
          "2012",
          "2013",
          "2013",
          "2013",
          "2014",
          "2014",
          "2014",
          "2015",
          "2015",
          "2015",
          "2016",
          "2016",
          "2016",
          "2017",
          "2017",
          "2017",
          "2018",
          "2018",
          "2018",
          "1996",
          "1996",
          "1996",
          "1997",
          "1997",
          "1997",
          "1998",
          "1998",
          "1998",
          "1999",
          "1999",
          "1999",
          "2000",
          "2000",
          "2000",
          "2001",
          "2001",
          "2001",
          "2002",
          "2002",
          "2002",
          "2003",
          "2003",
          "2003",
          "2004",
          "2004",
          "2004",
          "2005",
          "2005",
          "2005",
          "2006",
          "2006",
          "2006",
          "2007",
          "2007",
          "2007",
          "2008",
          "2008",
          "2008",
          "2009",
          "2009",
          "2009",
          "2010",
          "2010",
          "2010",
          "2011",
          "2011",
          "2011",
          "2012",
          "2012",
          "2012",
          "2013",
          "2013",
          "2013",
          "2014",
          "2014",
          "2014",
          "2015",
          "2015",
          "2015",
          "2016",
          "2016",
          "2016",
          "2017",
          "2017",
          "2017",
          "2018",
          "2018",
          "2018",
          "1996",
          "1996",
          "1996",
          "1997",
          "1997",
          "1997",
          "1998",
          "1998",
          "1998",
          "1999",
          "1999",
          "1999",
          "2000",
          "2000",
          "2000",
          "2001",
          "2001",
          "2001",
          "2002",
          "2002",
          "2002",
          "2003",
          "2003",
          "2003",
          "2004",
          "2004",
          "2004",
          "2005",
          "2005",
          "2005",
          "2006",
          "2006",
          "2006",
          "2007",
          "2007",
          "2007",
          "2008",
          "2008",
          "2008",
          "2009",
          "2009",
          "2009",
          "2010",
          "2010",
          "2010",
          "2011",
          "2011",
          "2011",
          "2012",
          "2012",
          "2012",
          "2013",
          "2013",
          "2013",
          "2014",
          "2014",
          "2014",
          "2015",
          "2015",
          "2015",
          "2016",
          "2016",
          "2016",
          "2017",
          "2017",
          "2017",
          "2018",
          "2018",
          "2018",
          "1996",
          "1996",
          "1996",
          "1997",
          "1997",
          "1997",
          "1998",
          "1998",
          "1998",
          "1999",
          "1999",
          "1999",
          "2000",
          "2000",
          "2000",
          "2001",
          "2001",
          "2001",
          "2002",
          "2002",
          "2002",
          "2003",
          "2003",
          "2003",
          "2004",
          "2004",
          "2004",
          "2005",
          "2005",
          "2005",
          "2006",
          "2006",
          "2006",
          "2007",
          "2007",
          "2007",
          "2008",
          "2008",
          "2008",
          "2009",
          "2009",
          "2009",
          "2010",
          "2010",
          "2010",
          "2011",
          "2011",
          "2011",
          "2012",
          "2012",
          "2012",
          "2013",
          "2013",
          "2013",
          "2014",
          "2014",
          "2014",
          "2015",
          "2015",
          "2015",
          "2016",
          "2016",
          "2016",
          "2017",
          "2017",
          "2017",
          "2018",
          "2018",
          "2018",
          "1996",
          "1996",
          "1996",
          "1997",
          "1997",
          "1997",
          "1998",
          "1998",
          "1998",
          "1999",
          "1999",
          "1999",
          "2000",
          "2000",
          "2000",
          "2001",
          "2001",
          "2001",
          "2002",
          "2002",
          "2002",
          "2003",
          "2003",
          "2003",
          "2004",
          "2004",
          "2004",
          "2005",
          "2005",
          "2005",
          "2006",
          "2006",
          "2006",
          "2007",
          "2007",
          "2007",
          "2008",
          "2008",
          "2008",
          "2009",
          "2009",
          "2009",
          "2010",
          "2010",
          "2010",
          "2011",
          "2011",
          "2011",
          "2012",
          "2012",
          "2012",
          "2013",
          "2013",
          "2013",
          "2014",
          "2014",
          "2014",
          "2015",
          "2015",
          "2015",
          "2016",
          "2016",
          "2016",
          "2017",
          "2017",
          "2017",
          "2018",
          "2018",
          "2018",
          "1996",
          "1996",
          "1996",
          "1997",
          "1997",
          "1997",
          "1998",
          "1998",
          "1998",
          "1999",
          "1999",
          "1999",
          "2000",
          "2000",
          "2000",
          "2001",
          "2001",
          "2001",
          "2002",
          "2002",
          "2002",
          "2003",
          "2003",
          "2003",
          "2004",
          "2004",
          "2004",
          "2005",
          "2005",
          "2005",
          "2006",
          "2006",
          "2006",
          "2007",
          "2007",
          "2007",
          "2008",
          "2008",
          "2008",
          "2009",
          "2009",
          "2009",
          "2010",
          "2010",
          "2010",
          "2011",
          "2011",
          "2011",
          "2012",
          "2012",
          "2012",
          "2013",
          "2013",
          "2013",
          "2014",
          "2014",
          "2014",
          "2015",
          "2015",
          "2015",
          "2016",
          "2016",
          "2016",
          "2017",
          "2017",
          "2017",
          "2018",
          "2018",
          "2018",
          "1996",
          "1996",
          "1996",
          "1997",
          "1997",
          "1997",
          "1998",
          "1998",
          "1998",
          "1999",
          "1999",
          "1999",
          "2000",
          "2000",
          "2000",
          "2001",
          "2001",
          "2001",
          "2002",
          "2002",
          "2002",
          "2003",
          "2003",
          "2003",
          "2004",
          "2004",
          "2004",
          "2005",
          "2005",
          "2005",
          "2006",
          "2006",
          "2006",
          "2007",
          "2007",
          "2007",
          "2008",
          "2008",
          "2008",
          "2009",
          "2009",
          "2009",
          "2010",
          "2010",
          "2010",
          "2011",
          "2011",
          "2011",
          "2012",
          "2012",
          "2012",
          "2013",
          "2013",
          "2013",
          "2014",
          "2014",
          "2014",
          "2015",
          "2015",
          "2015",
          "2016",
          "2016",
          "2016",
          "2017",
          "2017",
          "2017",
          "2018",
          "2018",
          "2018",
          "1996",
          "1996",
          "1996",
          "1997",
          "1997",
          "1997",
          "1998",
          "1998",
          "1998",
          "1999",
          "1999",
          "1999",
          "2000",
          "2000",
          "2000",
          "2001",
          "2001",
          "2001",
          "2002",
          "2002",
          "2002",
          "2003",
          "2003",
          "2003",
          "2004",
          "2004",
          "2004",
          "2005",
          "2005",
          "2005",
          "2006",
          "2006",
          "2006",
          "2007",
          "2007",
          "2007",
          "2008",
          "2008",
          "2008",
          "2009",
          "2009",
          "2009",
          "2010",
          "2010",
          "2010",
          "2011",
          "2011",
          "2011",
          "2012",
          "2012",
          "2012",
          "2013",
          "2013",
          "2013",
          "2014",
          "2014",
          "2014",
          "2015",
          "2015",
          "2015",
          "2016",
          "2016",
          "2016",
          "2017",
          "2017",
          "2017",
          "2018",
          "2018",
          "2018",
          "1996",
          "1996",
          "1996",
          "1997",
          "1997",
          "1997",
          "1998",
          "1998",
          "1998",
          "1999",
          "1999",
          "1999",
          "2000",
          "2000",
          "2000",
          "2001",
          "2001",
          "2001",
          "2002",
          "2002",
          "2002",
          "2003",
          "2003",
          "2003",
          "2004",
          "2004",
          "2004",
          "2005",
          "2005",
          "2005",
          "2006",
          "2006",
          "2006",
          "2007",
          "2007",
          "2007",
          "2008",
          "2008",
          "2008",
          "2009",
          "2009",
          "2009",
          "2010",
          "2010",
          "2010",
          "2011",
          "2011",
          "2011",
          "2012",
          "2012",
          "2012",
          "2013",
          "2013",
          "2013",
          "2014",
          "2014",
          "2014",
          "2015",
          "2015",
          "2015",
          "2016",
          "2016",
          "2016",
          "2017",
          "2017",
          "2017",
          "2018",
          "2018",
          "2018",
          "1996",
          "1996",
          "1996",
          "1997",
          "1997",
          "1997",
          "1998",
          "1998",
          "1998",
          "1999",
          "1999",
          "1999",
          "2000",
          "2000",
          "2000",
          "2001",
          "2001",
          "2001",
          "2002",
          "2002",
          "2002",
          "2003",
          "2003",
          "2003",
          "2004",
          "2004",
          "2004",
          "2005",
          "2005",
          "2005",
          "2006",
          "2006",
          "2006",
          "2007",
          "2007",
          "2007",
          "2008",
          "2008",
          "2008",
          "2009",
          "2009",
          "2009",
          "2010",
          "2010",
          "2010",
          "2011",
          "2011",
          "2011",
          "2012",
          "2012",
          "2012",
          "2013",
          "2013",
          "2013",
          "2014",
          "2014",
          "2014",
          "2015",
          "2015",
          "2015",
          "2016",
          "2016",
          "2016",
          "2017",
          "2017",
          "2017",
          "2018",
          "2018",
          "2018",
          "1996",
          "1996",
          "1996",
          "1997",
          "1997",
          "1997",
          "1998",
          "1998",
          "1998",
          "1999",
          "1999",
          "1999",
          "2000",
          "2000",
          "2000",
          "2001",
          "2001",
          "2001",
          "2002",
          "2002",
          "2002",
          "2003",
          "2003",
          "2003",
          "2004",
          "2004",
          "2004",
          "2005",
          "2005",
          "2005",
          "2006",
          "2006",
          "2006",
          "2007",
          "2007",
          "2007",
          "2008",
          "2008",
          "2008",
          "2009",
          "2009",
          "2009",
          "2010",
          "2010",
          "2010",
          "2011",
          "2011",
          "2011",
          "2012",
          "2012",
          "2012",
          "2013",
          "2013",
          "2013",
          "2014",
          "2014",
          "2014",
          "2015",
          "2015",
          "2015",
          "2016",
          "2016",
          "2016",
          "2017",
          "2017",
          "2017",
          "2018",
          "2018",
          "2018",
          "1996",
          "1996",
          "1996",
          "1997",
          "1997",
          "1997",
          "1998",
          "1998",
          "1998",
          "1999",
          "1999",
          "1999",
          "2000",
          "2000",
          "2000",
          "2001",
          "2001",
          "2001",
          "2002",
          "2002",
          "2002",
          "2003",
          "2003",
          "2003",
          "2004",
          "2004",
          "2004",
          "2005",
          "2005",
          "2005",
          "2006",
          "2006",
          "2006",
          "2007",
          "2007",
          "2007",
          "2008",
          "2008",
          "2008",
          "2009",
          "2009",
          "2009",
          "2010",
          "2010",
          "2010",
          "2011",
          "2011",
          "2011",
          "2012",
          "2012",
          "2012",
          "2013",
          "2013",
          "2013",
          "2014",
          "2014",
          "2014",
          "2015",
          "2015",
          "2015",
          "2016",
          "2016",
          "2016",
          "2017",
          "2017",
          "2017",
          "2018",
          "2018",
          "2018"
         ],
         "y": [
          65.80715154039511,
          65.07488367584335,
          64.11326580818107,
          64.6224755044137,
          66.61159675217081,
          68.44273163658305,
          67.63321568694222,
          68.91094433597063,
          68.66046576414956,
          69.71481562921251,
          70.27143636966072,
          71.51232701270057,
          71.178232721238,
          68.23685936649562,
          66.9577277291903,
          68.11758382793785,
          68.4232135111375,
          65.53253818790542,
          64.63619440025974,
          66.08672389436187,
          66.99509715937538,
          68.56977756217273,
          70.44646469967127,
          61.487733188774115,
          62.43214223287637,
          62.83587782428458,
          62.25909496919141,
          65.39380201122758,
          65.27492677957468,
          65.98134379909023,
          64.74792073108122,
          63.72783284772432,
          63.77817988730623,
          66.09815830213786,
          64.87393560922897,
          64.19633914067893,
          61.18669513405125,
          58.945795832530834,
          60.380160380160376,
          57.90701923829909,
          56.26513269708459,
          59.013415242445724,
          61.79108261416092,
          61.58162072556479,
          61.588953672026,
          61.72729482297659,
          58.79912016140163,
          58.96480471528742,
          59.83927900419259,
          59.31599243631166,
          60.15561003273632,
          61.12115241287955,
          62.38438195243793,
          60.34591572771417,
          60.502777001324695,
          58.37235943729093,
          59.46444818767521,
          58.93354501105913,
          57.54725092505873,
          56.17224630650767,
          54.384805996242356,
          53.78273215172437,
          52.044142384452805,
          49.426808711274916,
          49.9169562019144,
          49.37903703451035,
          50.17435072475968,
          51.57647280078989,
          53.35689491953297,
          59.33561139141242,
          59.51448193521976,
          60.621279576334416,
          60.258737201867355,
          60.14228693936224,
          61.199079206108095,
          63.3024435167578,
          62.056947288277165,
          61.417999050806046,
          60.535912262207404,
          60.11960896946835,
          59.818693678383895,
          57.90737533931334,
          55.66675974124228,
          54.37089407689988,
          53.71979946346956,
          52.66166876206145,
          51.472843725914416,
          51.1776354130007,
          52.04745096176288,
          53.917529188397936,
          54.9864904498771,
          54.103245831365875,
          73.08509731971435,
          73.63251900120996,
          73.77861581040708,
          74.58633441411742,
          75.35790486805662,
          76.00861861483273,
          76.49309722172424,
          77.32470114676947,
          76.18187331597385,
          76.65703720736194,
          77.130291902416,
          78.28871640726305,
          78.01555216824619,
          75.30065820953004,
          74.7071242739134,
          74.84372294372295,
          73.72680342462394,
          72.85673390356669,
          73.47758494101149,
          73.82056610523543,
          74.67177589699699,
          75.16276696268523,
          76.58733068496657,
          74.55595336637711,
          74.87090359967344,
          75.28827167627153,
          75.39991995307942,
          76.00552269039676,
          77.45149965194757,
          77.19388618280344,
          74.17655041594988,
          72.32234277038853,
          72.13216658285808,
          74.64725769048086,
          74.94762405398731,
          74.72158603283584,
          72.54481980608574,
          71.45955252207631,
          71.60246117483847,
          71.09278051383819,
          70.6067690069872,
          70.92689713387993,
          72.2282085768294,
          72.29994108337891,
          73.03902173480091,
          73.00286604493768,
          65.00813370091953,
          65.1689872941409,
          65.40064095153093,
          65.65398962427584,
          65.95559514635082,
          66.10030045108918,
          68.64360504773889,
          69.99545533625185,
          70.52014851292776,
          69.34848071199617,
          71.23291504688524,
          71.47256684191078,
          71.7223043242481,
          70.70331240749248,
          69.58695433534163,
          68.86758170036642,
          67.99513220537771,
          66.34995504373752,
          66.51241599572747,
          67.1682309995245,
          68.23029450409439,
          69.12630792861447,
          68.86788895020905,
          65.62957118832495,
          64.98612086232393,
          65.62420613142876,
          66.49351057601251,
          66.89868630573248,
          68.95160477298481,
          69.31681704643931,
          70.19658917272568,
          70.84156281437987,
          71.62110998625481,
          71.93262638758445,
          72.34373246782391,
          72.80915185998535,
          72.01438430440545,
          70.94629443228989,
          70.95907877767615,
          70.06842280313855,
          67.7997992712583,
          67.61251951965855,
          68.71459426888624,
          71.2543524198171,
          70.55802483973498,
          70.61869102922775,
          72.38510005878506,
          72.39143671131197,
          73.02805009045319,
          73.7825161173188,
          74.46122546611488,
          75.26838829121745,
          75.75659177354925,
          75.72161852218493,
          75.6684147221554,
          75.65107465350492,
          76.29542975893388,
          76.59549769936407,
          76.52486310509228,
          75.10227265555478,
          74.03167522029936,
          73.82068312805305,
          72.75706190961395,
          72.09239766555812,
          72.08415520192341,
          73.00783847589987,
          74.28148216335468,
          75.13583925022273,
          75.71337338803856,
          71.94882137904955,
          71.17513414221492,
          71.45821257864804,
          72.72942880230032,
          74.16224565173594,
          73.42264983936433,
          73.88178263420174,
          73.96799737363202,
          73.19966035604908,
          73.52735490936385,
          74.84469953425202,
          74.54947570355918,
          73.42239444826397,
          71.85703674190171,
          72.34437805981106,
          70.40921927703985,
          70.4978592074478,
          68.59615844034394,
          69.89150535297664,
          70.30188881645721,
          70.11075781774078,
          70.15439935851388,
          72.9616274237355,
          65.03828440652106,
          65.82759372069007,
          65.83506451428462,
          66.60400161138713,
          67.68769174368572,
          68.70383457409218,
          68.9221307102044,
          66.58922832694468,
          65.4379794778643,
          65.37567776917118,
          66.4304230056019,
          66.52248967162558,
          66.65282111221661,
          63.7885726431318,
          62.879147493339794,
          61.5096208949715,
          62.11243047370421,
          56.49376563458151,
          57.91152825476116,
          59.09590762705208,
          61.57137492835827,
          60.44226779444622,
          64.68497935532068,
          68.83750648005922,
          68.17324514673744,
          68.29481195786457,
          69.67630978750071,
          70.9171411212964,
          71.06369255271011,
          71.44198727874958,
          72.29729390689997,
          72.9887913186264,
          73.46815851389468,
          73.43321950409923,
          73.31278903895267,
          73.2589807602547,
          72.1305184528077,
          71.18053573670933,
          71.28040236391664,
          70.4677608364989,
          68.86329717039203,
          68.93598497694407,
          70.53116383535625,
          70.68581540735181,
          71.60130572096439,
          72.91386311764532,
          73.92083751613366,
          73.43254277838457,
          74.0012957563978,
          74.17411594371514,
          75.39645206812338,
          74.7258602978942,
          75.81991880850846,
          77.68753503541762,
          78.70653764994393,
          78.72928350674447,
          79.61844753653628,
          79.47151063499457,
          78.99486445113821,
          78.58939586831245,
          78.96095001651032,
          78.83849181283709,
          78.76257010249468,
          78.29510831753952,
          77.33861834654586,
          78.37225886967374,
          78.93910488085223,
          79.82687706975594,
          79.06172984391503,
          77.25240066278126,
          76.73131606799026,
          76.91902258121873,
          78.0492584678796,
          78.37054273316144,
          78.97674302196805,
          78.54397538200868,
          77.03276267908885,
          75.23620241553279,
          75.13387124130746,
          75.77456298975285,
          76.137125748503,
          75.47952768526599,
          74.85526982891774,
          74.39810821436326,
          74.0539024333232,
          72.61915871497561,
          73.32360838282985,
          73.36756004176819,
          72.30968461274905,
          72.9677430601963,
          72.96021695609666,
          74.63967893910312,
          59.63775408422147,
          58.603153101971195,
          59.06035327659056,
          60.53759960864967,
          61.32537766475733,
          61.21453178311225,
          61.55528149964597,
          61.86317464018563,
          61.782856319479826,
          62.43220084219018,
          63.21739319439105,
          63.7006454239866,
          63.472686429777106,
          60.98294936990043,
          59.630668710652046,
          59.629952014284115,
          59.07354994809908,
          55.43756436537524,
          55.13774235809839,
          56.39370469266278,
          57.451597350279116,
          57.54846128992247,
          58.487018559208224,
          64.38164365622258,
          64.8693572641956,
          64.63219370092185,
          64.7954887690894,
          65.80052920893597,
          66.7478834200211,
          67.19058946156325,
          65.85055990765571,
          64.7943149220991,
          65.63808920670941,
          65.92610854788153,
          66.52259373546941,
          64.28970321134939,
          61.35150967632652,
          60.003861605719436,
          61.11412391205783,
          60.36375526657161,
          56.88087695659652,
          56.730431777810175,
          57.7568655838574,
          58.19910459554774,
          58.71563167279371,
          60.35423124971082,
          58.68550515736415,
          58.952639657520535,
          59.56150847022666,
          59.16716481586669,
          59.87997231758108,
          60.895811345028505,
          61.337654036054225,
          59.883226227146814,
          60.03771584283446,
          60.48085722408752,
          61.01554010099108,
          60.54781724228072,
          59.527524726624705,
          58.426707405031145,
          57.0419614034146,
          56.40154938591634,
          54.34746711412981,
          51.9050090460646,
          50.96603303209722,
          52.093418687383696,
          52.125056737618976,
          52.29477256379833,
          52.45062057610722,
          72.33380386003938,
          72.43801620738817,
          72.97819826874478,
          73.25911483414144,
          74.20792239401723,
          75.10396264098877,
          75.00569273308335,
          74.46188330952643,
          73.56646757283659,
          73.26446727395647,
          74.46722546241713,
          73.94826236918152,
          74.46220818676737,
          74.13302451834218,
          73.20840270036612,
          72.80424205193583,
          72.37408203182117,
          71.31020965217857,
          70.86974186076127,
          71.24590816040272,
          72.41610376138502,
          72.30562839197512,
          72.72397998903796,
          75.60199923801652,
          75.09858012431557,
          75.47478401416174,
          76.132949824225,
          76.90158148179975,
          76.87842222672886,
          77.20069338536881,
          77.355141212815,
          76.94019307013886,
          76.89709990585112,
          77.6615788730752,
          77.77395015623809,
          77.20294745124147,
          76.68252950578378,
          76.63277986555075,
          76.40035500279951,
          75.63656978003877,
          75.7705181258449,
          75.32588563868882,
          75.30567948518376,
          75.92440475491979,
          76.37165887351078,
          76.84124434058712,
          68.1212257604741,
          67.89232075372466,
          67.67993200604725,
          70.14947851952257,
          71.23780097215419,
          70.88708099402442,
          69.65270649807685,
          70.08996851102114,
          71.24335947381736,
          72.11363400879232,
          72.00545420280322,
          73.67414189667375,
          74.06407835775927,
          72.61043156328265,
          72.47122276116701,
          71.39875343204106,
          69.937483700849,
          68.36760571544504,
          68.73327515997673,
          71.13799716013057,
          70.50646432649454,
          71.03193376700177,
          71.47033150710372,
          78.25520833333334,
          78.2688588007737,
          76.83838652696784,
          77.63712058866244,
          78.95030709101061,
          81.02045786653677,
          82.77224824355972,
          73.96166909267346,
          75.3353401565322,
          74.24238800258317,
          75.10319979002124,
          76.38050712019655,
          75.55391256648143,
          74.43304406194564,
          74.2745589511231,
          72.9100145137881,
          71.15655853314527,
          70.62998463452111,
          71.4816716797496,
          70.92509926751671,
          71.05912250541894,
          71.47733547512675,
          71.62025316455696,
          73.08864262339257,
          73.05027275021516,
          73.88731209039958,
          74.39713981553153,
          75.26595830454927,
          75.31873222241192,
          75.34298037676862,
          76.79684013525082,
          76.09140276086073,
          75.86722891414381,
          76.78543098390091,
          77.12931880276825,
          77.00111642036566,
          75.04962060684245,
          75.09720594073352,
          74.82537627366904,
          74.75366445680739,
          72.71620907832846,
          72.87515582274409,
          73.1663098138623,
          74.26575103940868,
          74.87878672068078,
          74.99535870066586
         ]
        },
        {
         "mode": "lines+markers",
         "name": "lines+markers",
         "type": "scatter",
         "visible": "legendonly",
         "x": [
          "1996",
          "1996",
          "1996",
          "1997",
          "1997",
          "1997",
          "1998",
          "1998",
          "1998",
          "1999",
          "1999",
          "1999",
          "2000",
          "2000",
          "2000",
          "2001",
          "2001",
          "2001",
          "2002",
          "2002",
          "2002",
          "2003",
          "2003",
          "2003",
          "2004",
          "2004",
          "2004",
          "2005",
          "2005",
          "2005",
          "2006",
          "2006",
          "2006",
          "2007",
          "2007",
          "2007",
          "2008",
          "2008",
          "2008",
          "2009",
          "2009",
          "2009",
          "2010",
          "2010",
          "2010",
          "2011",
          "2011",
          "2011",
          "2012",
          "2012",
          "2012",
          "2013",
          "2013",
          "2013",
          "2014",
          "2014",
          "2014",
          "2015",
          "2015",
          "2015",
          "2016",
          "2016",
          "2016",
          "2017",
          "2017",
          "2017",
          "2018",
          "2018",
          "2018",
          "1996",
          "1996",
          "1996",
          "1997",
          "1997",
          "1997",
          "1998",
          "1998",
          "1998",
          "1999",
          "1999",
          "1999",
          "2000",
          "2000",
          "2000",
          "2001",
          "2001",
          "2001",
          "2002",
          "2002",
          "2002",
          "2003",
          "2003",
          "2003",
          "2004",
          "2004",
          "2004",
          "2005",
          "2005",
          "2005",
          "2006",
          "2006",
          "2006",
          "2007",
          "2007",
          "2007",
          "2008",
          "2008",
          "2008",
          "2009",
          "2009",
          "2009",
          "2010",
          "2010",
          "2010",
          "2011",
          "2011",
          "2011",
          "2012",
          "2012",
          "2012",
          "2013",
          "2013",
          "2013",
          "2014",
          "2014",
          "2014",
          "2015",
          "2015",
          "2015",
          "2016",
          "2016",
          "2016",
          "2017",
          "2017",
          "2017",
          "2018",
          "2018",
          "2018",
          "1996",
          "1996",
          "1996",
          "1997",
          "1997",
          "1997",
          "1998",
          "1998",
          "1998",
          "1999",
          "1999",
          "1999",
          "2000",
          "2000",
          "2000",
          "2001",
          "2001",
          "2001",
          "2002",
          "2002",
          "2002",
          "2003",
          "2003",
          "2003",
          "2004",
          "2004",
          "2004",
          "2005",
          "2005",
          "2005",
          "2006",
          "2006",
          "2006",
          "2007",
          "2007",
          "2007",
          "2008",
          "2008",
          "2008",
          "2009",
          "2009",
          "2009",
          "2010",
          "2010",
          "2010",
          "2011",
          "2011",
          "2011",
          "2012",
          "2012",
          "2012",
          "2013",
          "2013",
          "2013",
          "2014",
          "2014",
          "2014",
          "2015",
          "2015",
          "2015",
          "2016",
          "2016",
          "2016",
          "2017",
          "2017",
          "2017",
          "2018",
          "2018",
          "2018",
          "1996",
          "1996",
          "1996",
          "1997",
          "1997",
          "1997",
          "1998",
          "1998",
          "1998",
          "1999",
          "1999",
          "1999",
          "2000",
          "2000",
          "2000",
          "2001",
          "2001",
          "2001",
          "2002",
          "2002",
          "2002",
          "2003",
          "2003",
          "2003",
          "2004",
          "2004",
          "2004",
          "2005",
          "2005",
          "2005",
          "2006",
          "2006",
          "2006",
          "2007",
          "2007",
          "2007",
          "2008",
          "2008",
          "2008",
          "2009",
          "2009",
          "2009",
          "2010",
          "2010",
          "2010",
          "2011",
          "2011",
          "2011",
          "2012",
          "2012",
          "2012",
          "2013",
          "2013",
          "2013",
          "2014",
          "2014",
          "2014",
          "2015",
          "2015",
          "2015",
          "2016",
          "2016",
          "2016",
          "2017",
          "2017",
          "2017",
          "2018",
          "2018",
          "2018",
          "1996",
          "1996",
          "1996",
          "1997",
          "1997",
          "1997",
          "1998",
          "1998",
          "1998",
          "1999",
          "1999",
          "1999",
          "2000",
          "2000",
          "2000",
          "2001",
          "2001",
          "2001",
          "2002",
          "2002",
          "2002",
          "2003",
          "2003",
          "2003",
          "2004",
          "2004",
          "2004",
          "2005",
          "2005",
          "2005",
          "2006",
          "2006",
          "2006",
          "2007",
          "2007",
          "2007",
          "2008",
          "2008",
          "2008",
          "2009",
          "2009",
          "2009",
          "2010",
          "2010",
          "2010",
          "2011",
          "2011",
          "2011",
          "2012",
          "2012",
          "2012",
          "2013",
          "2013",
          "2013",
          "2014",
          "2014",
          "2014",
          "2015",
          "2015",
          "2015",
          "2016",
          "2016",
          "2016",
          "2017",
          "2017",
          "2017",
          "2018",
          "2018",
          "2018",
          "1996",
          "1996",
          "1996",
          "1997",
          "1997",
          "1997",
          "1998",
          "1998",
          "1998",
          "1999",
          "1999",
          "1999",
          "2000",
          "2000",
          "2000",
          "2001",
          "2001",
          "2001",
          "2002",
          "2002",
          "2002",
          "2003",
          "2003",
          "2003",
          "2004",
          "2004",
          "2004",
          "2005",
          "2005",
          "2005",
          "2006",
          "2006",
          "2006",
          "2007",
          "2007",
          "2007",
          "2008",
          "2008",
          "2008",
          "2009",
          "2009",
          "2009",
          "2010",
          "2010",
          "2010",
          "2011",
          "2011",
          "2011",
          "2012",
          "2012",
          "2012",
          "2013",
          "2013",
          "2013",
          "2014",
          "2014",
          "2014",
          "2015",
          "2015",
          "2015",
          "2016",
          "2016",
          "2016",
          "2017",
          "2017",
          "2017",
          "2018",
          "2018",
          "2018",
          "1996",
          "1996",
          "1996",
          "1997",
          "1997",
          "1997",
          "1998",
          "1998",
          "1998",
          "1999",
          "1999",
          "1999",
          "2000",
          "2000",
          "2000",
          "2001",
          "2001",
          "2001",
          "2002",
          "2002",
          "2002",
          "2003",
          "2003",
          "2003",
          "2004",
          "2004",
          "2004",
          "2005",
          "2005",
          "2005",
          "2006",
          "2006",
          "2006",
          "2007",
          "2007",
          "2007",
          "2008",
          "2008",
          "2008",
          "2009",
          "2009",
          "2009",
          "2010",
          "2010",
          "2010",
          "2011",
          "2011",
          "2011",
          "2012",
          "2012",
          "2012",
          "2013",
          "2013",
          "2013",
          "2014",
          "2014",
          "2014",
          "2015",
          "2015",
          "2015",
          "2016",
          "2016",
          "2016",
          "2017",
          "2017",
          "2017",
          "2018",
          "2018",
          "2018",
          "1996",
          "1996",
          "1996",
          "1997",
          "1997",
          "1997",
          "1998",
          "1998",
          "1998",
          "1999",
          "1999",
          "1999",
          "2000",
          "2000",
          "2000",
          "2001",
          "2001",
          "2001",
          "2002",
          "2002",
          "2002",
          "2003",
          "2003",
          "2003",
          "2004",
          "2004",
          "2004",
          "2005",
          "2005",
          "2005",
          "2006",
          "2006",
          "2006",
          "2007",
          "2007",
          "2007",
          "2008",
          "2008",
          "2008",
          "2009",
          "2009",
          "2009",
          "2010",
          "2010",
          "2010",
          "2011",
          "2011",
          "2011",
          "2012",
          "2012",
          "2012",
          "2013",
          "2013",
          "2013",
          "2014",
          "2014",
          "2014",
          "2015",
          "2015",
          "2015",
          "2016",
          "2016",
          "2016",
          "2017",
          "2017",
          "2017",
          "2018",
          "2018",
          "2018",
          "1996",
          "1996",
          "1996",
          "1997",
          "1997",
          "1997",
          "1998",
          "1998",
          "1998",
          "1999",
          "1999",
          "1999",
          "2000",
          "2000",
          "2000",
          "2001",
          "2001",
          "2001",
          "2002",
          "2002",
          "2002",
          "2003",
          "2003",
          "2003",
          "2004",
          "2004",
          "2004",
          "2005",
          "2005",
          "2005",
          "2006",
          "2006",
          "2006",
          "2007",
          "2007",
          "2007",
          "2008",
          "2008",
          "2008",
          "2009",
          "2009",
          "2009",
          "2010",
          "2010",
          "2010",
          "2011",
          "2011",
          "2011",
          "2012",
          "2012",
          "2012",
          "2013",
          "2013",
          "2013",
          "2014",
          "2014",
          "2014",
          "2015",
          "2015",
          "2015",
          "2016",
          "2016",
          "2016",
          "2017",
          "2017",
          "2017",
          "2018",
          "2018",
          "2018",
          "1996",
          "1996",
          "1996",
          "1997",
          "1997",
          "1997",
          "1998",
          "1998",
          "1998",
          "1999",
          "1999",
          "1999",
          "2000",
          "2000",
          "2000",
          "2001",
          "2001",
          "2001",
          "2002",
          "2002",
          "2002",
          "2003",
          "2003",
          "2003",
          "2004",
          "2004",
          "2004",
          "2005",
          "2005",
          "2005",
          "2006",
          "2006",
          "2006",
          "2007",
          "2007",
          "2007",
          "2008",
          "2008",
          "2008",
          "2009",
          "2009",
          "2009",
          "2010",
          "2010",
          "2010",
          "2011",
          "2011",
          "2011",
          "2012",
          "2012",
          "2012",
          "2013",
          "2013",
          "2013",
          "2014",
          "2014",
          "2014",
          "2015",
          "2015",
          "2015",
          "2016",
          "2016",
          "2016",
          "2017",
          "2017",
          "2017",
          "2018",
          "2018",
          "2018",
          "1996",
          "1996",
          "1996",
          "1997",
          "1997",
          "1997",
          "1998",
          "1998",
          "1998",
          "1999",
          "1999",
          "1999",
          "2000",
          "2000",
          "2000",
          "2001",
          "2001",
          "2001",
          "2002",
          "2002",
          "2002",
          "2003",
          "2003",
          "2003",
          "2004",
          "2004",
          "2004",
          "2005",
          "2005",
          "2005",
          "2006",
          "2006",
          "2006",
          "2007",
          "2007",
          "2007",
          "2008",
          "2008",
          "2008",
          "2009",
          "2009",
          "2009",
          "2010",
          "2010",
          "2010",
          "2011",
          "2011",
          "2011",
          "2012",
          "2012",
          "2012",
          "2013",
          "2013",
          "2013",
          "2014",
          "2014",
          "2014",
          "2015",
          "2015",
          "2015",
          "2016",
          "2016",
          "2016",
          "2017",
          "2017",
          "2017",
          "2018",
          "2018",
          "2018",
          "1996",
          "1996",
          "1996",
          "1997",
          "1997",
          "1997",
          "1998",
          "1998",
          "1998",
          "1999",
          "1999",
          "1999",
          "2000",
          "2000",
          "2000",
          "2001",
          "2001",
          "2001",
          "2002",
          "2002",
          "2002",
          "2003",
          "2003",
          "2003",
          "2004",
          "2004",
          "2004",
          "2005",
          "2005",
          "2005",
          "2006",
          "2006",
          "2006",
          "2007",
          "2007",
          "2007",
          "2008",
          "2008",
          "2008",
          "2009",
          "2009",
          "2009",
          "2010",
          "2010",
          "2010",
          "2011",
          "2011",
          "2011",
          "2012",
          "2012",
          "2012",
          "2013",
          "2013",
          "2013",
          "2014",
          "2014",
          "2014",
          "2015",
          "2015",
          "2015",
          "2016",
          "2016",
          "2016",
          "2017",
          "2017",
          "2017",
          "2018",
          "2018",
          "2018",
          "1996",
          "1996",
          "1996",
          "1997",
          "1997",
          "1997",
          "1998",
          "1998",
          "1998",
          "1999",
          "1999",
          "1999",
          "2000",
          "2000",
          "2000",
          "2001",
          "2001",
          "2001",
          "2002",
          "2002",
          "2002",
          "2003",
          "2003",
          "2003",
          "2004",
          "2004",
          "2004",
          "2005",
          "2005",
          "2005",
          "2006",
          "2006",
          "2006",
          "2007",
          "2007",
          "2007",
          "2008",
          "2008",
          "2008",
          "2009",
          "2009",
          "2009",
          "2010",
          "2010",
          "2010",
          "2011",
          "2011",
          "2011",
          "2012",
          "2012",
          "2012",
          "2013",
          "2013",
          "2013",
          "2014",
          "2014",
          "2014",
          "2015",
          "2015",
          "2015",
          "2016",
          "2016",
          "2016",
          "2017",
          "2017",
          "2017",
          "2018",
          "2018",
          "2018",
          "1996",
          "1996",
          "1996",
          "1997",
          "1997",
          "1997",
          "1998",
          "1998",
          "1998",
          "1999",
          "1999",
          "1999",
          "2000",
          "2000",
          "2000",
          "2001",
          "2001",
          "2001",
          "2002",
          "2002",
          "2002",
          "2003",
          "2003",
          "2003",
          "2004",
          "2004",
          "2004",
          "2005",
          "2005",
          "2005",
          "2006",
          "2006",
          "2006",
          "2007",
          "2007",
          "2007",
          "2008",
          "2008",
          "2008",
          "2009",
          "2009",
          "2009",
          "2010",
          "2010",
          "2010",
          "2011",
          "2011",
          "2011",
          "2012",
          "2012",
          "2012",
          "2013",
          "2013",
          "2013",
          "2014",
          "2014",
          "2014",
          "2015",
          "2015",
          "2015",
          "2016",
          "2016",
          "2016",
          "2017",
          "2017",
          "2017",
          "2018",
          "2018",
          "2018",
          "1996",
          "1996",
          "1996",
          "1997",
          "1997",
          "1997",
          "1998",
          "1998",
          "1998",
          "1999",
          "1999",
          "1999",
          "2000",
          "2000",
          "2000",
          "2001",
          "2001",
          "2001",
          "2002",
          "2002",
          "2002",
          "2003",
          "2003",
          "2003",
          "2004",
          "2004",
          "2004",
          "2005",
          "2005",
          "2005",
          "2006",
          "2006",
          "2006",
          "2007",
          "2007",
          "2007",
          "2008",
          "2008",
          "2008",
          "2009",
          "2009",
          "2009",
          "2010",
          "2010",
          "2010",
          "2011",
          "2011",
          "2011",
          "2012",
          "2012",
          "2012",
          "2013",
          "2013",
          "2013",
          "2014",
          "2014",
          "2014",
          "2015",
          "2015",
          "2015",
          "2016",
          "2016",
          "2016",
          "2017",
          "2017",
          "2017",
          "2018",
          "2018",
          "2018",
          "1996",
          "1996",
          "1996",
          "1997",
          "1997",
          "1997",
          "1998",
          "1998",
          "1998",
          "1999",
          "1999",
          "1999",
          "2000",
          "2000",
          "2000",
          "2001",
          "2001",
          "2001",
          "2002",
          "2002",
          "2002",
          "2003",
          "2003",
          "2003",
          "2004",
          "2004",
          "2004",
          "2005",
          "2005",
          "2005",
          "2006",
          "2006",
          "2006",
          "2007",
          "2007",
          "2007",
          "2008",
          "2008",
          "2008",
          "2009",
          "2009",
          "2009",
          "2010",
          "2010",
          "2010",
          "2011",
          "2011",
          "2011",
          "2012",
          "2012",
          "2012",
          "2013",
          "2013",
          "2013",
          "2014",
          "2014",
          "2014",
          "2015",
          "2015",
          "2015",
          "2016",
          "2016",
          "2016",
          "2017",
          "2017",
          "2017",
          "2018",
          "2018",
          "2018",
          "1996",
          "1996",
          "1996",
          "1997",
          "1997",
          "1997",
          "1998",
          "1998",
          "1998",
          "1999",
          "1999",
          "1999",
          "2000",
          "2000",
          "2000",
          "2001",
          "2001",
          "2001",
          "2002",
          "2002",
          "2002",
          "2003",
          "2003",
          "2003",
          "2004",
          "2004",
          "2004",
          "2005",
          "2005",
          "2005",
          "2006",
          "2006",
          "2006",
          "2007",
          "2007",
          "2007",
          "2008",
          "2008",
          "2008",
          "2009",
          "2009",
          "2009",
          "2010",
          "2010",
          "2010",
          "2011",
          "2011",
          "2011",
          "2012",
          "2012",
          "2012",
          "2013",
          "2013",
          "2013",
          "2014",
          "2014",
          "2014",
          "2015",
          "2015",
          "2015",
          "2016",
          "2016",
          "2016",
          "2017",
          "2017",
          "2017",
          "2018",
          "2018",
          "2018",
          "1996",
          "1996",
          "1996",
          "1997",
          "1997",
          "1997",
          "1998",
          "1998",
          "1998",
          "1999",
          "1999",
          "1999",
          "2000",
          "2000",
          "2000",
          "2001",
          "2001",
          "2001",
          "2002",
          "2002",
          "2002",
          "2003",
          "2003",
          "2003",
          "2004",
          "2004",
          "2004",
          "2005",
          "2005",
          "2005",
          "2006",
          "2006",
          "2006",
          "2007",
          "2007",
          "2007",
          "2008",
          "2008",
          "2008",
          "2009",
          "2009",
          "2009",
          "2010",
          "2010",
          "2010",
          "2011",
          "2011",
          "2011",
          "2012",
          "2012",
          "2012",
          "2013",
          "2013",
          "2013",
          "2014",
          "2014",
          "2014",
          "2015",
          "2015",
          "2015",
          "2016",
          "2016",
          "2016",
          "2017",
          "2017",
          "2017",
          "2018",
          "2018",
          "2018",
          "1996",
          "1996",
          "1996",
          "1997",
          "1997",
          "1997",
          "1998",
          "1998",
          "1998",
          "1999",
          "1999",
          "1999",
          "2000",
          "2000",
          "2000",
          "2001",
          "2001",
          "2001",
          "2002",
          "2002",
          "2002",
          "2003",
          "2003",
          "2003",
          "2004",
          "2004",
          "2004",
          "2005",
          "2005",
          "2005",
          "2006",
          "2006",
          "2006",
          "2007",
          "2007",
          "2007",
          "2008",
          "2008",
          "2008",
          "2009",
          "2009",
          "2009",
          "2010",
          "2010",
          "2010",
          "2011",
          "2011",
          "2011",
          "2012",
          "2012",
          "2012",
          "2013",
          "2013",
          "2013",
          "2014",
          "2014",
          "2014",
          "2015",
          "2015",
          "2015",
          "2016",
          "2016",
          "2016",
          "2017",
          "2017",
          "2017",
          "2018",
          "2018",
          "2018",
          "1996",
          "1996",
          "1996",
          "1997",
          "1997",
          "1997",
          "1998",
          "1998",
          "1998",
          "1999",
          "1999",
          "1999",
          "2000",
          "2000",
          "2000",
          "2001",
          "2001",
          "2001",
          "2002",
          "2002",
          "2002",
          "2003",
          "2003",
          "2003",
          "2004",
          "2004",
          "2004",
          "2005",
          "2005",
          "2005",
          "2006",
          "2006",
          "2006",
          "2007",
          "2007",
          "2007",
          "2008",
          "2008",
          "2008",
          "2009",
          "2009",
          "2009",
          "2010",
          "2010",
          "2010",
          "2011",
          "2011",
          "2011",
          "2012",
          "2012",
          "2012",
          "2013",
          "2013",
          "2013",
          "2014",
          "2014",
          "2014",
          "2015",
          "2015",
          "2015",
          "2016",
          "2016",
          "2016",
          "2017",
          "2017",
          "2017",
          "2018",
          "2018",
          "2018",
          "1996",
          "1996",
          "1996",
          "1997",
          "1997",
          "1997",
          "1998",
          "1998",
          "1998",
          "1999",
          "1999",
          "1999",
          "2000",
          "2000",
          "2000",
          "2001",
          "2001",
          "2001",
          "2002",
          "2002",
          "2002",
          "2003",
          "2003",
          "2003",
          "2004",
          "2004",
          "2004",
          "2005",
          "2005",
          "2005",
          "2006",
          "2006",
          "2006",
          "2007",
          "2007",
          "2007",
          "2008",
          "2008",
          "2008",
          "2009",
          "2009",
          "2009",
          "2010",
          "2010",
          "2010",
          "2011",
          "2011",
          "2011",
          "2012",
          "2012",
          "2012",
          "2013",
          "2013",
          "2013",
          "2014",
          "2014",
          "2014",
          "2015",
          "2015",
          "2015",
          "2016",
          "2016",
          "2016",
          "2017",
          "2017",
          "2017",
          "2018",
          "2018",
          "2018",
          "1996",
          "1996",
          "1996",
          "1997",
          "1997",
          "1997",
          "1998",
          "1998",
          "1998",
          "1999",
          "1999",
          "1999",
          "2000",
          "2000",
          "2000",
          "2001",
          "2001",
          "2001",
          "2002",
          "2002",
          "2002",
          "2003",
          "2003",
          "2003",
          "2004",
          "2004",
          "2004",
          "2005",
          "2005",
          "2005",
          "2006",
          "2006",
          "2006",
          "2007",
          "2007",
          "2007",
          "2008",
          "2008",
          "2008",
          "2009",
          "2009",
          "2009",
          "2010",
          "2010",
          "2010",
          "2011",
          "2011",
          "2011",
          "2012",
          "2012",
          "2012",
          "2013",
          "2013",
          "2013",
          "2014",
          "2014",
          "2014",
          "2015",
          "2015",
          "2015",
          "2016",
          "2016",
          "2016",
          "2017",
          "2017",
          "2017",
          "2018",
          "2018",
          "2018"
         ],
         "y": [
          46.331363354565056,
          46.48954219546796,
          46.86681945017116,
          45.46149041464469,
          46.107902589277124,
          48.71705821774919,
          50.84982245578292,
          47.14287089723963,
          44.22347851829216,
          44.46908966422275,
          45.095552273411556,
          44.43721581467051,
          46.53814319857899,
          43.32692865930359,
          43.920230116021415,
          45.279785086976624,
          45.04521839522801,
          44.49656732163748,
          43.36639522170573,
          43.01696121787639,
          44.5543742398714,
          45.11989982753325,
          45.63867939140485,
          28.74224277639432,
          30.04986726871263,
          30.403800475059384,
          32.401492948573434,
          33.06286498098821,
          32.04297581087393,
          33.25564397830831,
          34.49254061165443,
          34.49027550168517,
          34.50129054616741,
          34.3082424607836,
          34.14315188396132,
          35.01176739522342,
          35.58710360835181,
          35.203787331563,
          34.85319462451251,
          35.73989297211422,
          36.05793450881612,
          35.30076219834047,
          36.509920075723336,
          38.97820229173251,
          37.27372077170279,
          36.91006816990037,
          25.389830310020113,
          24.99189018205624,
          25.038446581347664,
          24.827752591296676,
          26.08845208845209,
          27.60634023788611,
          28.328832423383094,
          30.22376769706686,
          31.95870866132266,
          30.83780579413708,
          31.630129763080856,
          30.996949244592916,
          30.747765923305366,
          30.10357621431719,
          30.079398144318425,
          31.324421452950663,
          31.1036233667966,
          28.661940508500734,
          28.886773260000513,
          28.61667025156859,
          29.227413650260303,
          30.216729495796237,
          31.049540119726775,
          25.578846770427294,
          25.72588592823507,
          26.786936656453737,
          26.655759999669808,
          26.863624973197243,
          27.302485250122604,
          27.97536782887909,
          29.807268369119054,
          29.406440152106267,
          27.95221029678586,
          28.505866412395026,
          27.929529691898725,
          27.310840021575412,
          26.285123664106703,
          25.616180833956196,
          25.414299729775053,
          27.50016439450867,
          28.272484394394077,
          27.467518673216084,
          27.40221290976613,
          28.684249701509014,
          29.374474626727533,
          29.413456376370302,
          55.0395670210303,
          55.85662818283424,
          56.995852913829545,
          58.98202632350784,
          60.71264174459593,
          61.64545229809357,
          63.226974515222736,
          61.753026072363085,
          60.47510598681457,
          60.15013387037307,
          61.560111859800784,
          62.037173376346246,
          62.28802336142104,
          61.483665662196884,
          59.97769865323129,
          60.853517121911885,
          61.36360564422327,
          59.718303451148834,
          59.12648760859365,
          59.65533986112772,
          62.1730634832342,
          62.067126113716355,
          62.65871252655626,
          42.90705712938029,
          42.6653118061044,
          44.21544144884223,
          45.33013247797304,
          47.76707752913942,
          49.57273229736304,
          50.2831688330275,
          51.90470707148249,
          52.730478486286195,
          54.04303051460019,
          54.76000206228089,
          55.69499389688445,
          55.52331712837925,
          54.321446895844026,
          55.67126415501866,
          56.793600808145364,
          56.18462336315312,
          55.304069442094715,
          55.2699423718532,
          55.048244043230035,
          56.98439471412444,
          58.35927417307728,
          59.47050123342129,
          36.26995422739513,
          36.79360978707595,
          37.32671951567371,
          38.44587530502643,
          40.062106220729774,
          41.851523718061436,
          43.15900060153688,
          44.9332114378587,
          47.48783357999295,
          48.17105074331165,
          48.05729138233954,
          48.088955936584505,
          49.25043227444801,
          48.82752672419912,
          49.12419971640957,
          49.236244725918404,
          50.03527779011884,
          49.44268616537524,
          51.247240720234984,
          51.024542551594664,
          51.82419825373427,
          52.855366754802766,
          53.14038879128511,
          45.541352594194116,
          46.55454341820354,
          48.38374764790983,
          50.04843161953039,
          52.02196733946162,
          54.18665819966445,
          54.31151706885821,
          50.99729769645587,
          50.66220532562593,
          50.58323219963291,
          52.49492048488668,
          54.81033423433106,
          54.705908595020546,
          54.6642380085003,
          54.75117425997843,
          55.22127725875608,
          54.12488888075201,
          53.6109600467777,
          53.984874807538716,
          56.181711596347974,
          54.34237290270305,
          54.301429863947305,
          55.398449928962165,
          46.74930936778046,
          47.01253896294711,
          48.374664981703184,
          49.68056696099967,
          50.61674572999797,
          52.31299172674069,
          53.47723313042748,
          54.706648637361766,
          55.20881281150527,
          55.20872679803608,
          56.584545658645155,
          56.60019823728849,
          57.16754287241314,
          56.176889355045375,
          55.8202386977259,
          55.28546416881574,
          56.262080377640046,
          57.37466469794759,
          57.54480716864434,
          57.16783216783217,
          58.066940955476085,
          59.273176278012826,
          59.55749046027328,
          46.36277485315421,
          45.31973778825733,
          46.696738753276506,
          49.04787090597033,
          49.7733353695146,
          51.67754185219378,
          53.34574980119701,
          54.192785556097746,
          54.661928480415675,
          53.334157778121295,
          53.80579264026865,
          55.01126864448451,
          55.96572688739846,
          55.38563270213406,
          55.156837535245806,
          54.54809121560381,
          54.75073213164847,
          53.57781463651442,
          54.96921044609287,
          54.064657717873956,
          54.41428242188786,
          54.27550269867086,
          56.41572157315837,
          34.09095172879575,
          34.11282341297893,
          34.60364408547106,
          34.35802975787133,
          35.94086021505377,
          37.35530002898831,
          37.61147053680713,
          36.92567994632386,
          38.70325013607029,
          36.928618141709535,
          38.128579273554564,
          40.52183121378215,
          41.470639823819454,
          40.4898785031274,
          39.07862300129593,
          38.968319074963865,
          39.067426512347495,
          38.573840988080974,
          38.94745153776304,
          39.52985706459485,
          41.97317178710515,
          42.79738641914997,
          41.985567010309275,
          46.512887483675854,
          46.43038051767233,
          46.657007018338234,
          48.65555317128724,
          51.14381531698249,
          52.935156401234366,
          53.3042131386192,
          53.4949631888052,
          53.90803380091359,
          54.45456606654441,
          55.96565899034493,
          56.40119286328257,
          57.12106694899474,
          55.69917159880933,
          55.80973129992738,
          57.14219885607987,
          56.8765696134919,
          55.60470082726685,
          55.89725459092092,
          56.85625372920854,
          58.23504098315894,
          58.8081778513226,
          58.902449107348495,
          52.73766247525211,
          52.85752031177753,
          53.67995309895988,
          53.124137296401955,
          55.32351821963285,
          56.01860038641648,
          57.88912649676613,
          58.656604755554106,
          59.44125620305252,
          59.1064894308002,
          59.1578517303236,
          59.69155452965871,
          61.70898982863668,
          62.06443906657293,
          63.00097510399052,
          63.085036659540975,
          64.79355353477521,
          64.51989923212945,
          64.2815849692882,
          64.3121292894364,
          66.35967589434252,
          65.88327107870296,
          67.92578101843618,
          47.61792929787137,
          48.66654524639642,
          50.47042662381421,
          51.4609844867195,
          54.10251463116599,
          53.26113425184236,
          52.56943023731587,
          54.921996978890306,
          55.79946938289104,
          54.72261912157544,
          54.69462394820407,
          56.182409623764805,
          57.69207439129433,
          58.029928478855666,
          57.29158619706091,
          57.723816820887606,
          58.08447625427493,
          57.64548823973722,
          58.37015075200915,
          59.830375995986884,
          59.08015077579406,
          62.105565285644836,
          61.72388134034088,
          26.548042449704695,
          26.27139375704397,
          26.76377760894613,
          26.908324296887614,
          28.304250319680367,
          30.14790831370281,
          31.38317326677129,
          29.471088952525548,
          28.899060161750455,
          26.84171253974309,
          28.597956611013746,
          29.92161651173783,
          30.12583088666204,
          29.25978717937925,
          29.40161404830554,
          30.198280133162196,
          31.05642920527778,
          29.55801529792134,
          29.455515615462417,
          30.50250954828131,
          31.38787887819271,
          31.747053580271366,
          32.83590999529226,
          30.133816314080352,
          31.370580132697555,
          32.87113534949469,
          34.47886473744191,
          33.64808823810924,
          36.56737137857995,
          37.61914443864083,
          36.65197032192189,
          38.19277362340933,
          37.143667090421836,
          38.240642976449855,
          38.97572084273358,
          40.32162853830275,
          40.182422900393135,
          41.901718094622225,
          42.29127384365094,
          43.032941184907365,
          39.71100670439955,
          40.32042312237633,
          42.47432313071662,
          42.31112616501575,
          42.08415939177302,
          44.99458548911082,
          21.602984580733654,
          22.095098584460224,
          23.438196106850732,
          24.07150159664511,
          24.593155058119855,
          26.39622057353719,
          27.1462425273699,
          27.303034283620075,
          27.260227355787727,
          28.293899792837625,
          29.59815065457725,
          29.134201564536223,
          29.324914920825186,
          29.259480852838216,
          28.822199489876745,
          28.804381699407895,
          28.647340066428445,
          27.104114162043903,
          27.3667920541447,
          28.13649640845815,
          28.333391143968818,
          29.196625677258858,
          29.128228670251783,
          45.65784244186884,
          45.778863993757575,
          47.16395567170371,
          49.1724980657416,
          51.18556230191079,
          52.76498114461161,
          53.52647032036742,
          53.24944278782211,
          53.130590648958,
          54.26103866885157,
          54.98363877450841,
          55.46035670321786,
          56.16800334175862,
          55.45708679815704,
          54.41659233725211,
          54.55705148768947,
          55.33552304770713,
          56.31783515767801,
          56.91321260037978,
          58.53684581641163,
          58.39679215648946,
          59.88525348803317,
          60.456523840109746,
          50.15888246640794,
          50.745921357078714,
          52.06198532029778,
          52.28473834511548,
          54.70692544526287,
          54.62484007320194,
          55.19948016513162,
          56.76642936081626,
          57.59158468657544,
          56.87666090517555,
          56.88998565207699,
          57.9083287589201,
          59.66652993119018,
          60.01050683249544,
          60.09227499644281,
          60.35262667828072,
          61.37886894703629,
          61.02453269984729,
          61.279786603438055,
          62.03917647163241,
          62.67706617862285,
          63.97846286527772,
          64.80671139753008,
          46.60918900878852,
          47.561342682913235,
          48.998158173801414,
          51.552818174027415,
          54.08256161899574,
          55.63106542349212,
          54.947267748334724,
          51.90131272693418,
          51.62570352674414,
          51.23936678592222,
          53.679250452030026,
          55.562064724589376,
          56.70026624049077,
          53.337347690563895,
          52.980633004397916,
          53.4057925400589,
          53.345698238001084,
          53.67512626351072,
          53.56633130145606,
          55.336168345975324,
          55.208029119090526,
          55.10496473714939,
          54.856998502318696,
          53.09424228004709,
          54.181289481600324,
          55.18425670594134,
          54.59426908214985,
          58.283443175529506,
          58.62095007929915,
          58.196224891490864,
          60.839460167187035,
          58.63798204703876,
          58.24189557349596,
          58.59206045390142,
          59.66144605227234,
          59.8537260328128,
          59.03434055818748,
          60.29779105647255,
          60.780186970779695,
          61.45534729878721,
          60.58715596330275,
          60.843033941918875,
          61.44355336212215,
          61.80514046622834,
          62.66820646716208,
          64.13644977890081,
          45.2551786358479,
          46.84218491127458,
          46.857632643111444,
          48.10697751550344,
          50.178061766999825,
          51.81388416511822,
          52.17737261864242,
          52.29124779961728,
          52.41600760980022,
          53.09048365669648,
          53.480945421715454,
          53.988900863802336,
          55.66955438681257,
          53.91733255663759,
          53.4917255279196,
          54.8717057455978,
          55.00449133147792,
          53.32475665734474,
          54.48929300548924,
          54.00087495229986,
          55.15334088682019,
          57.144806633834065,
          58.24277504189499
         ]
        },
        {
         "mode": "markers",
         "name": "markers",
         "type": "scatter",
         "visible": "legendonly",
         "x": [
          "1996",
          "1996",
          "1996",
          "1997",
          "1997",
          "1997",
          "1998",
          "1998",
          "1998",
          "1999",
          "1999",
          "1999",
          "2000",
          "2000",
          "2000",
          "2001",
          "2001",
          "2001",
          "2002",
          "2002",
          "2002",
          "2003",
          "2003",
          "2003",
          "2004",
          "2004",
          "2004",
          "2005",
          "2005",
          "2005",
          "2006",
          "2006",
          "2006",
          "2007",
          "2007",
          "2007",
          "2008",
          "2008",
          "2008",
          "2009",
          "2009",
          "2009",
          "2010",
          "2010",
          "2010",
          "2011",
          "2011",
          "2011",
          "2012",
          "2012",
          "2012",
          "2013",
          "2013",
          "2013",
          "2014",
          "2014",
          "2014",
          "2015",
          "2015",
          "2015",
          "2016",
          "2016",
          "2016",
          "2017",
          "2017",
          "2017",
          "2018",
          "2018",
          "2018",
          "1996",
          "1996",
          "1996",
          "1997",
          "1997",
          "1997",
          "1998",
          "1998",
          "1998",
          "1999",
          "1999",
          "1999",
          "2000",
          "2000",
          "2000",
          "2001",
          "2001",
          "2001",
          "2002",
          "2002",
          "2002",
          "2003",
          "2003",
          "2003",
          "2004",
          "2004",
          "2004",
          "2005",
          "2005",
          "2005",
          "2006",
          "2006",
          "2006",
          "2007",
          "2007",
          "2007",
          "2008",
          "2008",
          "2008",
          "2009",
          "2009",
          "2009",
          "2010",
          "2010",
          "2010",
          "2011",
          "2011",
          "2011",
          "2012",
          "2012",
          "2012",
          "2013",
          "2013",
          "2013",
          "2014",
          "2014",
          "2014",
          "2015",
          "2015",
          "2015",
          "2016",
          "2016",
          "2016",
          "2017",
          "2017",
          "2017",
          "2018",
          "2018",
          "2018",
          "1996",
          "1996",
          "1996",
          "1997",
          "1997",
          "1997",
          "1998",
          "1998",
          "1998",
          "1999",
          "1999",
          "1999",
          "2000",
          "2000",
          "2000",
          "2001",
          "2001",
          "2001",
          "2002",
          "2002",
          "2002",
          "2003",
          "2003",
          "2003",
          "2004",
          "2004",
          "2004",
          "2005",
          "2005",
          "2005",
          "2006",
          "2006",
          "2006",
          "2007",
          "2007",
          "2007",
          "2008",
          "2008",
          "2008",
          "2009",
          "2009",
          "2009",
          "2010",
          "2010",
          "2010",
          "2011",
          "2011",
          "2011",
          "2012",
          "2012",
          "2012",
          "2013",
          "2013",
          "2013",
          "2014",
          "2014",
          "2014",
          "2015",
          "2015",
          "2015",
          "2016",
          "2016",
          "2016",
          "2017",
          "2017",
          "2017",
          "2018",
          "2018",
          "2018",
          "1996",
          "1996",
          "1996",
          "1997",
          "1997",
          "1997",
          "1998",
          "1998",
          "1998",
          "1999",
          "1999",
          "1999",
          "2000",
          "2000",
          "2000",
          "2001",
          "2001",
          "2001",
          "2002",
          "2002",
          "2002",
          "2003",
          "2003",
          "2003",
          "2004",
          "2004",
          "2004",
          "2005",
          "2005",
          "2005",
          "2006",
          "2006",
          "2006",
          "2007",
          "2007",
          "2007",
          "2008",
          "2008",
          "2008",
          "2009",
          "2009",
          "2009",
          "2010",
          "2010",
          "2010",
          "2011",
          "2011",
          "2011",
          "2012",
          "2012",
          "2012",
          "2013",
          "2013",
          "2013",
          "2014",
          "2014",
          "2014",
          "2015",
          "2015",
          "2015",
          "2016",
          "2016",
          "2016",
          "2017",
          "2017",
          "2017",
          "2018",
          "2018",
          "2018",
          "1996",
          "1996",
          "1996",
          "1997",
          "1997",
          "1997",
          "1998",
          "1998",
          "1998",
          "1999",
          "1999",
          "1999",
          "2000",
          "2000",
          "2000",
          "2001",
          "2001",
          "2001",
          "2002",
          "2002",
          "2002",
          "2003",
          "2003",
          "2003",
          "2004",
          "2004",
          "2004",
          "2005",
          "2005",
          "2005",
          "2006",
          "2006",
          "2006",
          "2007",
          "2007",
          "2007",
          "2008",
          "2008",
          "2008",
          "2009",
          "2009",
          "2009",
          "2010",
          "2010",
          "2010",
          "2011",
          "2011",
          "2011",
          "2012",
          "2012",
          "2012",
          "2013",
          "2013",
          "2013",
          "2014",
          "2014",
          "2014",
          "2015",
          "2015",
          "2015",
          "2016",
          "2016",
          "2016",
          "2017",
          "2017",
          "2017",
          "2018",
          "2018",
          "2018",
          "1996",
          "1996",
          "1996",
          "1997",
          "1997",
          "1997",
          "1998",
          "1998",
          "1998",
          "1999",
          "1999",
          "1999",
          "2000",
          "2000",
          "2000",
          "2001",
          "2001",
          "2001",
          "2002",
          "2002",
          "2002",
          "2003",
          "2003",
          "2003",
          "2004",
          "2004",
          "2004",
          "2005",
          "2005",
          "2005",
          "2006",
          "2006",
          "2006",
          "2007",
          "2007",
          "2007",
          "2008",
          "2008",
          "2008",
          "2009",
          "2009",
          "2009",
          "2010",
          "2010",
          "2010",
          "2011",
          "2011",
          "2011",
          "2012",
          "2012",
          "2012",
          "2013",
          "2013",
          "2013",
          "2014",
          "2014",
          "2014",
          "2015",
          "2015",
          "2015",
          "2016",
          "2016",
          "2016",
          "2017",
          "2017",
          "2017",
          "2018",
          "2018",
          "2018",
          "1996",
          "1996",
          "1996",
          "1997",
          "1997",
          "1997",
          "1998",
          "1998",
          "1998",
          "1999",
          "1999",
          "1999",
          "2000",
          "2000",
          "2000",
          "2001",
          "2001",
          "2001",
          "2002",
          "2002",
          "2002",
          "2003",
          "2003",
          "2003",
          "2004",
          "2004",
          "2004",
          "2005",
          "2005",
          "2005",
          "2006",
          "2006",
          "2006",
          "2007",
          "2007",
          "2007",
          "2008",
          "2008",
          "2008",
          "2009",
          "2009",
          "2009",
          "2010",
          "2010",
          "2010",
          "2011",
          "2011",
          "2011",
          "2012",
          "2012",
          "2012",
          "2013",
          "2013",
          "2013",
          "2014",
          "2014",
          "2014",
          "2015",
          "2015",
          "2015",
          "2016",
          "2016",
          "2016",
          "2017",
          "2017",
          "2017",
          "2018",
          "2018",
          "2018",
          "1996",
          "1996",
          "1996",
          "1997",
          "1997",
          "1997",
          "1998",
          "1998",
          "1998",
          "1999",
          "1999",
          "1999",
          "2000",
          "2000",
          "2000",
          "2001",
          "2001",
          "2001",
          "2002",
          "2002",
          "2002",
          "2003",
          "2003",
          "2003",
          "2004",
          "2004",
          "2004",
          "2005",
          "2005",
          "2005",
          "2006",
          "2006",
          "2006",
          "2007",
          "2007",
          "2007",
          "2008",
          "2008",
          "2008",
          "2009",
          "2009",
          "2009",
          "2010",
          "2010",
          "2010",
          "2011",
          "2011",
          "2011",
          "2012",
          "2012",
          "2012",
          "2013",
          "2013",
          "2013",
          "2014",
          "2014",
          "2014",
          "2015",
          "2015",
          "2015",
          "2016",
          "2016",
          "2016",
          "2017",
          "2017",
          "2017",
          "2018",
          "2018",
          "2018",
          "1996",
          "1996",
          "1996",
          "1997",
          "1997",
          "1997",
          "1998",
          "1998",
          "1998",
          "1999",
          "1999",
          "1999",
          "2000",
          "2000",
          "2000",
          "2001",
          "2001",
          "2001",
          "2002",
          "2002",
          "2002",
          "2003",
          "2003",
          "2003",
          "2004",
          "2004",
          "2004",
          "2005",
          "2005",
          "2005",
          "2006",
          "2006",
          "2006",
          "2007",
          "2007",
          "2007",
          "2008",
          "2008",
          "2008",
          "2009",
          "2009",
          "2009",
          "2010",
          "2010",
          "2010",
          "2011",
          "2011",
          "2011",
          "2012",
          "2012",
          "2012",
          "2013",
          "2013",
          "2013",
          "2014",
          "2014",
          "2014",
          "2015",
          "2015",
          "2015",
          "2016",
          "2016",
          "2016",
          "2017",
          "2017",
          "2017",
          "2018",
          "2018",
          "2018",
          "1996",
          "1996",
          "1996",
          "1997",
          "1997",
          "1997",
          "1998",
          "1998",
          "1998",
          "1999",
          "1999",
          "1999",
          "2000",
          "2000",
          "2000",
          "2001",
          "2001",
          "2001",
          "2002",
          "2002",
          "2002",
          "2003",
          "2003",
          "2003",
          "2004",
          "2004",
          "2004",
          "2005",
          "2005",
          "2005",
          "2006",
          "2006",
          "2006",
          "2007",
          "2007",
          "2007",
          "2008",
          "2008",
          "2008",
          "2009",
          "2009",
          "2009",
          "2010",
          "2010",
          "2010",
          "2011",
          "2011",
          "2011",
          "2012",
          "2012",
          "2012",
          "2013",
          "2013",
          "2013",
          "2014",
          "2014",
          "2014",
          "2015",
          "2015",
          "2015",
          "2016",
          "2016",
          "2016",
          "2017",
          "2017",
          "2017",
          "2018",
          "2018",
          "2018",
          "1996",
          "1996",
          "1996",
          "1997",
          "1997",
          "1997",
          "1998",
          "1998",
          "1998",
          "1999",
          "1999",
          "1999",
          "2000",
          "2000",
          "2000",
          "2001",
          "2001",
          "2001",
          "2002",
          "2002",
          "2002",
          "2003",
          "2003",
          "2003",
          "2004",
          "2004",
          "2004",
          "2005",
          "2005",
          "2005",
          "2006",
          "2006",
          "2006",
          "2007",
          "2007",
          "2007",
          "2008",
          "2008",
          "2008",
          "2009",
          "2009",
          "2009",
          "2010",
          "2010",
          "2010",
          "2011",
          "2011",
          "2011",
          "2012",
          "2012",
          "2012",
          "2013",
          "2013",
          "2013",
          "2014",
          "2014",
          "2014",
          "2015",
          "2015",
          "2015",
          "2016",
          "2016",
          "2016",
          "2017",
          "2017",
          "2017",
          "2018",
          "2018",
          "2018",
          "1996",
          "1996",
          "1996",
          "1997",
          "1997",
          "1997",
          "1998",
          "1998",
          "1998",
          "1999",
          "1999",
          "1999",
          "2000",
          "2000",
          "2000",
          "2001",
          "2001",
          "2001",
          "2002",
          "2002",
          "2002",
          "2003",
          "2003",
          "2003",
          "2004",
          "2004",
          "2004",
          "2005",
          "2005",
          "2005",
          "2006",
          "2006",
          "2006",
          "2007",
          "2007",
          "2007",
          "2008",
          "2008",
          "2008",
          "2009",
          "2009",
          "2009",
          "2010",
          "2010",
          "2010",
          "2011",
          "2011",
          "2011",
          "2012",
          "2012",
          "2012",
          "2013",
          "2013",
          "2013",
          "2014",
          "2014",
          "2014",
          "2015",
          "2015",
          "2015",
          "2016",
          "2016",
          "2016",
          "2017",
          "2017",
          "2017",
          "2018",
          "2018",
          "2018",
          "1996",
          "1996",
          "1996",
          "1997",
          "1997",
          "1997",
          "1998",
          "1998",
          "1998",
          "1999",
          "1999",
          "1999",
          "2000",
          "2000",
          "2000",
          "2001",
          "2001",
          "2001",
          "2002",
          "2002",
          "2002",
          "2003",
          "2003",
          "2003",
          "2004",
          "2004",
          "2004",
          "2005",
          "2005",
          "2005",
          "2006",
          "2006",
          "2006",
          "2007",
          "2007",
          "2007",
          "2008",
          "2008",
          "2008",
          "2009",
          "2009",
          "2009",
          "2010",
          "2010",
          "2010",
          "2011",
          "2011",
          "2011",
          "2012",
          "2012",
          "2012",
          "2013",
          "2013",
          "2013",
          "2014",
          "2014",
          "2014",
          "2015",
          "2015",
          "2015",
          "2016",
          "2016",
          "2016",
          "2017",
          "2017",
          "2017",
          "2018",
          "2018",
          "2018",
          "1996",
          "1996",
          "1996",
          "1997",
          "1997",
          "1997",
          "1998",
          "1998",
          "1998",
          "1999",
          "1999",
          "1999",
          "2000",
          "2000",
          "2000",
          "2001",
          "2001",
          "2001",
          "2002",
          "2002",
          "2002",
          "2003",
          "2003",
          "2003",
          "2004",
          "2004",
          "2004",
          "2005",
          "2005",
          "2005",
          "2006",
          "2006",
          "2006",
          "2007",
          "2007",
          "2007",
          "2008",
          "2008",
          "2008",
          "2009",
          "2009",
          "2009",
          "2010",
          "2010",
          "2010",
          "2011",
          "2011",
          "2011",
          "2012",
          "2012",
          "2012",
          "2013",
          "2013",
          "2013",
          "2014",
          "2014",
          "2014",
          "2015",
          "2015",
          "2015",
          "2016",
          "2016",
          "2016",
          "2017",
          "2017",
          "2017",
          "2018",
          "2018",
          "2018",
          "1996",
          "1996",
          "1996",
          "1997",
          "1997",
          "1997",
          "1998",
          "1998",
          "1998",
          "1999",
          "1999",
          "1999",
          "2000",
          "2000",
          "2000",
          "2001",
          "2001",
          "2001",
          "2002",
          "2002",
          "2002",
          "2003",
          "2003",
          "2003",
          "2004",
          "2004",
          "2004",
          "2005",
          "2005",
          "2005",
          "2006",
          "2006",
          "2006",
          "2007",
          "2007",
          "2007",
          "2008",
          "2008",
          "2008",
          "2009",
          "2009",
          "2009",
          "2010",
          "2010",
          "2010",
          "2011",
          "2011",
          "2011",
          "2012",
          "2012",
          "2012",
          "2013",
          "2013",
          "2013",
          "2014",
          "2014",
          "2014",
          "2015",
          "2015",
          "2015",
          "2016",
          "2016",
          "2016",
          "2017",
          "2017",
          "2017",
          "2018",
          "2018",
          "2018",
          "1996",
          "1996",
          "1996",
          "1997",
          "1997",
          "1997",
          "1998",
          "1998",
          "1998",
          "1999",
          "1999",
          "1999",
          "2000",
          "2000",
          "2000",
          "2001",
          "2001",
          "2001",
          "2002",
          "2002",
          "2002",
          "2003",
          "2003",
          "2003",
          "2004",
          "2004",
          "2004",
          "2005",
          "2005",
          "2005",
          "2006",
          "2006",
          "2006",
          "2007",
          "2007",
          "2007",
          "2008",
          "2008",
          "2008",
          "2009",
          "2009",
          "2009",
          "2010",
          "2010",
          "2010",
          "2011",
          "2011",
          "2011",
          "2012",
          "2012",
          "2012",
          "2013",
          "2013",
          "2013",
          "2014",
          "2014",
          "2014",
          "2015",
          "2015",
          "2015",
          "2016",
          "2016",
          "2016",
          "2017",
          "2017",
          "2017",
          "2018",
          "2018",
          "2018",
          "1996",
          "1996",
          "1996",
          "1997",
          "1997",
          "1997",
          "1998",
          "1998",
          "1998",
          "1999",
          "1999",
          "1999",
          "2000",
          "2000",
          "2000",
          "2001",
          "2001",
          "2001",
          "2002",
          "2002",
          "2002",
          "2003",
          "2003",
          "2003",
          "2004",
          "2004",
          "2004",
          "2005",
          "2005",
          "2005",
          "2006",
          "2006",
          "2006",
          "2007",
          "2007",
          "2007",
          "2008",
          "2008",
          "2008",
          "2009",
          "2009",
          "2009",
          "2010",
          "2010",
          "2010",
          "2011",
          "2011",
          "2011",
          "2012",
          "2012",
          "2012",
          "2013",
          "2013",
          "2013",
          "2014",
          "2014",
          "2014",
          "2015",
          "2015",
          "2015",
          "2016",
          "2016",
          "2016",
          "2017",
          "2017",
          "2017",
          "2018",
          "2018",
          "2018",
          "1996",
          "1996",
          "1996",
          "1997",
          "1997",
          "1997",
          "1998",
          "1998",
          "1998",
          "1999",
          "1999",
          "1999",
          "2000",
          "2000",
          "2000",
          "2001",
          "2001",
          "2001",
          "2002",
          "2002",
          "2002",
          "2003",
          "2003",
          "2003",
          "2004",
          "2004",
          "2004",
          "2005",
          "2005",
          "2005",
          "2006",
          "2006",
          "2006",
          "2007",
          "2007",
          "2007",
          "2008",
          "2008",
          "2008",
          "2009",
          "2009",
          "2009",
          "2010",
          "2010",
          "2010",
          "2011",
          "2011",
          "2011",
          "2012",
          "2012",
          "2012",
          "2013",
          "2013",
          "2013",
          "2014",
          "2014",
          "2014",
          "2015",
          "2015",
          "2015",
          "2016",
          "2016",
          "2016",
          "2017",
          "2017",
          "2017",
          "2018",
          "2018",
          "2018",
          "1996",
          "1996",
          "1996",
          "1997",
          "1997",
          "1997",
          "1998",
          "1998",
          "1998",
          "1999",
          "1999",
          "1999",
          "2000",
          "2000",
          "2000",
          "2001",
          "2001",
          "2001",
          "2002",
          "2002",
          "2002",
          "2003",
          "2003",
          "2003",
          "2004",
          "2004",
          "2004",
          "2005",
          "2005",
          "2005",
          "2006",
          "2006",
          "2006",
          "2007",
          "2007",
          "2007",
          "2008",
          "2008",
          "2008",
          "2009",
          "2009",
          "2009",
          "2010",
          "2010",
          "2010",
          "2011",
          "2011",
          "2011",
          "2012",
          "2012",
          "2012",
          "2013",
          "2013",
          "2013",
          "2014",
          "2014",
          "2014",
          "2015",
          "2015",
          "2015",
          "2016",
          "2016",
          "2016",
          "2017",
          "2017",
          "2017",
          "2018",
          "2018",
          "2018",
          "1996",
          "1996",
          "1996",
          "1997",
          "1997",
          "1997",
          "1998",
          "1998",
          "1998",
          "1999",
          "1999",
          "1999",
          "2000",
          "2000",
          "2000",
          "2001",
          "2001",
          "2001",
          "2002",
          "2002",
          "2002",
          "2003",
          "2003",
          "2003",
          "2004",
          "2004",
          "2004",
          "2005",
          "2005",
          "2005",
          "2006",
          "2006",
          "2006",
          "2007",
          "2007",
          "2007",
          "2008",
          "2008",
          "2008",
          "2009",
          "2009",
          "2009",
          "2010",
          "2010",
          "2010",
          "2011",
          "2011",
          "2011",
          "2012",
          "2012",
          "2012",
          "2013",
          "2013",
          "2013",
          "2014",
          "2014",
          "2014",
          "2015",
          "2015",
          "2015",
          "2016",
          "2016",
          "2016",
          "2017",
          "2017",
          "2017",
          "2018",
          "2018",
          "2018",
          "1996",
          "1996",
          "1996",
          "1997",
          "1997",
          "1997",
          "1998",
          "1998",
          "1998",
          "1999",
          "1999",
          "1999",
          "2000",
          "2000",
          "2000",
          "2001",
          "2001",
          "2001",
          "2002",
          "2002",
          "2002",
          "2003",
          "2003",
          "2003",
          "2004",
          "2004",
          "2004",
          "2005",
          "2005",
          "2005",
          "2006",
          "2006",
          "2006",
          "2007",
          "2007",
          "2007",
          "2008",
          "2008",
          "2008",
          "2009",
          "2009",
          "2009",
          "2010",
          "2010",
          "2010",
          "2011",
          "2011",
          "2011",
          "2012",
          "2012",
          "2012",
          "2013",
          "2013",
          "2013",
          "2014",
          "2014",
          "2014",
          "2015",
          "2015",
          "2015",
          "2016",
          "2016",
          "2016",
          "2017",
          "2017",
          "2017",
          "2018",
          "2018",
          "2018",
          "1996",
          "1996",
          "1996",
          "1997",
          "1997",
          "1997",
          "1998",
          "1998",
          "1998",
          "1999",
          "1999",
          "1999",
          "2000",
          "2000",
          "2000",
          "2001",
          "2001",
          "2001",
          "2002",
          "2002",
          "2002",
          "2003",
          "2003",
          "2003",
          "2004",
          "2004",
          "2004",
          "2005",
          "2005",
          "2005",
          "2006",
          "2006",
          "2006",
          "2007",
          "2007",
          "2007",
          "2008",
          "2008",
          "2008",
          "2009",
          "2009",
          "2009",
          "2010",
          "2010",
          "2010",
          "2011",
          "2011",
          "2011",
          "2012",
          "2012",
          "2012",
          "2013",
          "2013",
          "2013",
          "2014",
          "2014",
          "2014",
          "2015",
          "2015",
          "2015",
          "2016",
          "2016",
          "2016",
          "2017",
          "2017",
          "2017",
          "2018",
          "2018",
          "2018"
         ],
         "y": [
          56.01269746496099,
          55.730080391741055,
          55.44264132524239,
          54.9928586347738,
          56.31064439925625,
          58.53662672257386,
          59.20962561532189,
          57.99203139148808,
          56.40573762150423,
          57.058133658787746,
          57.6489829684508,
          57.933096418615534,
          58.807943618702566,
          55.72250842898529,
          55.3755758907206,
          56.628213378336845,
          56.661084596598435,
          54.95403343065255,
          53.945744989834445,
          54.50147605657496,
          55.73094634570936,
          56.806653772493696,
          58.013003484953074,
          45.061381093185744,
          46.18861537695697,
          46.556486223695295,
          47.27602296839331,
          49.18316725285784,
          48.63262924228208,
          49.609033399645085,
          49.627729109041084,
          49.129930245183935,
          49.16422673544949,
          50.23396242075885,
          49.53019889807449,
          49.61185768288124,
          48.384240239741146,
          47.06478943563445,
          47.611829906035794,
          46.82904279741027,
          46.17887030658617,
          47.188266632974305,
          49.19340735048623,
          50.326368493636686,
          49.49463690818968,
          49.38840578135778,
          42.067390858181604,
          41.94982415074809,
          42.40159372077557,
          42.02071319725932,
          43.05819717522527,
          44.29469597429535,
          45.27910375207954,
          45.207944835516486,
          46.153607890716955,
          44.51882006866843,
          45.44828891188041,
          44.85430049404954,
          44.02132005481344,
          43.00418509849681,
          42.10342319638673,
          42.436235239709255,
          41.470505021387325,
          38.949236641221376,
          39.31185373528202,
          38.91355047662694,
          39.62746032827079,
          40.83779221730572,
          42.152181834173064,
          42.28737369201352,
          42.45687496113133,
          43.547884079910624,
          43.30305867112907,
          43.34845269861897,
          44.09262708050536,
          45.47075448567809,
          45.7700197235566,
          45.23416323016598,
          44.04637067555537,
          44.115417451148396,
          43.666479158172876,
          42.398161151105015,
          40.76750471264707,
          39.78443202447002,
          39.35335326152051,
          39.8906844869348,
          39.70944365384263,
          39.170285752652894,
          39.576877212001406,
          41.16202091394995,
          42.04875369713995,
          41.641068427612375,
          64.05293272847472,
          64.73839453974529,
          65.3820306915931,
          66.78046299759785,
          68.03608229491164,
          68.83310940139437,
          69.87164129716685,
          69.55666878444242,
          68.34824036525536,
          68.43104926614419,
          69.37335379735005,
          70.18662934377897,
          70.15933468169918,
          68.38413627948894,
          67.31552784467686,
          67.8036955739423,
          67.5020290972183,
          66.24904048946746,
          66.26446355409482,
          66.69938311244363,
          68.39061675726508,
          68.58451727550595,
          69.60103249699739,
          58.73941404642229,
          58.78322402269016,
          59.775721062821496,
          60.40213076820199,
          61.93878686418605,
          63.58067324544451,
          63.81949630894136,
          63.12050881754796,
          62.59793013047189,
          63.15853141430258,
          64.77717461531867,
          65.38688264090013,
          65.18461349743421,
          63.477053164763795,
          63.59153756455106,
          64.2095065824599,
          63.64205394435538,
          62.9633096462011,
          63.112487455646175,
          63.657264776479025,
          64.6627177552664,
          65.7219838206581,
          66.27223911841905,
          50.38577888925959,
          50.71951573658732,
          51.091051571753084,
          51.771669201743144,
          52.732348483653624,
          53.7049649018791,
          55.606295180949175,
          57.16706760210566,
          58.730302882252694,
          58.51703086301282,
          59.38128306934828,
          59.51409132328204,
          60.228552033309924,
          59.515639195615385,
          59.12502104146535,
          58.83515661748314,
          58.830195930886276,
          57.74939243181397,
          58.76462235868685,
          58.97680542651713,
          59.90611470481705,
          60.883121437048025,
          60.90738181233459,
          55.46204231305922,
          55.65705636932565,
          56.89579732970784,
          58.16410825234058,
          59.35803157427729,
          61.464456978159866,
          61.70813268724539,
          60.466024288451145,
          60.616710284311424,
          60.968326150352006,
          62.097453296815594,
          63.46997942355157,
          63.643494419975156,
          63.22582497060358,
          62.73829853792623,
          62.97525072625928,
          61.98540498284941,
          60.618409057278534,
          60.723078876223504,
          62.384052416602785,
          62.71914723664459,
          62.3682240343174,
          62.96090599053389,
          59.58647320932388,
          59.72518054049074,
          60.728278907873545,
          61.762284004146615,
          62.57426930227968,
          63.83152197637146,
          64.66219595075256,
          65.26248430210897,
          65.49990586215024,
          65.50726566370632,
          66.51508934353181,
          66.66997135015593,
          66.91399927887677,
          65.69655380623215,
          64.96402184647202,
          64.57302635908782,
          64.52967392380089,
          64.7646559729269,
          64.8554639557197,
          65.13575531249556,
          66.22501106238308,
          67.25779919319393,
          67.69474850312717,
          59.114353743348545,
          58.21222750533697,
          59.04845811286046,
          60.86516185520799,
          61.948538077862324,
          62.54764853623068,
          63.625988782046264,
          64.09835024786352,
          63.94769279686826,
          63.45601901347062,
          64.35658696854098,
          64.80982923441458,
          64.7091910669474,
          63.62459151513209,
          63.73006519748922,
          62.441302678348286,
          62.58250398190137,
          61.051650749037975,
          62.39773590143456,
          62.14469395611446,
          62.22628321941065,
          62.18386453313144,
          64.66219213162498,
          49.534269493946915,
          49.92960009071666,
          50.17916207276737,
          50.440831049048725,
          51.775626281193766,
          53.01519445223565,
          53.278000242689,
          51.790946310417766,
          52.110123748703884,
          51.2096009799299,
          52.35075154773462,
          53.59359535058337,
          54.11724756845909,
          52.179034157832746,
          51.01333955133249,
          50.26954112267408,
          50.61991845105843,
          47.57247386248662,
          48.484387572861266,
          49.38267331873043,
          51.86143560135812,
          51.708712823406145,
          53.45486261648398,
          57.6956786771448,
          57.32067418004546,
          57.492797894523065,
          59.17983953397411,
          61.041060322231274,
          62.007941408912174,
          62.380630768476394,
          62.90418856656637,
          63.46061329133876,
          63.975641427483986,
          64.71129298625972,
          64.86576455418415,
          65.18853548952652,
          63.90306412626191,
          63.471975183105336,
          64.17793029814479,
          63.63767960540425,
          62.203157482126215,
          62.389576647623535,
          63.66582772426599,
          64.4394130842883,
          65.1908369450799,
          65.89484988698626,
          63.41215850001149,
          63.22680419126754,
          63.92495402715582,
          63.73724140628055,
          65.45039612232492,
          65.46559203231685,
          66.94911141523261,
          68.27218626387597,
          69.1740564074655,
          69.02312561631199,
          69.4959952498863,
          69.68520860067959,
          70.42289896290028,
          70.37434511254477,
          71.01803617063102,
          70.99543468117484,
          71.8053722831445,
          71.44071065255648,
          70.844054890378,
          71.37805704797202,
          72.68077454389558,
          72.89322056492824,
          73.5222390308778,
          62.58002209288054,
          62.83964569629179,
          63.82803354660766,
          64.89169761552733,
          66.37180803876618,
          66.27252091821714,
          65.72540061650297,
          66.12651760389208,
          65.64033650913572,
          65.057015095659,
          65.36431478554823,
          66.28254478222654,
          66.68156793327434,
          66.51620174194373,
          65.89864336221785,
          65.9235023988028,
          65.3791100872584,
          65.51379162498213,
          65.89123155117086,
          66.08388454162653,
          66.04361279945921,
          67.55032812536491,
          68.2056730550318,
          42.806000234657446,
          42.1578050480392,
          42.63774363195315,
          43.439563573553116,
          44.53775762144479,
          45.4245139999121,
          46.22601525562443,
          45.416338372768095,
          45.10304684350859,
          44.3929082670831,
          45.67876216347743,
          46.59317008585971,
          46.57913289853759,
          44.90942326764622,
          44.31301967835235,
          44.717406032615436,
          44.88059662995457,
          42.333333704141666,
          42.13890570045007,
          43.29481774349951,
          44.276280379794756,
          44.51721893002306,
          45.54416486477521,
          47.192378619470496,
          48.06097017397503,
          48.69643725258698,
          49.58357232194224,
          49.67398932325944,
          51.617997475353185,
          52.37152882998019,
          51.22987004201913,
          51.487865685356425,
          51.397359892220386,
          52.10160937943584,
          52.77565036934555,
          52.32506742682303,
          50.783691026565435,
          50.96596397270589,
          51.718085760030775,
          51.71301649120672,
          48.317612971947646,
          48.554510308929224,
          50.14760948953195,
          50.29886075926194,
          50.45695583191265,
          52.73463038212919,
          39.76826536338623,
          40.152976811282684,
          41.136882480636125,
          41.263147023399995,
          41.87037986748929,
          43.28398315802603,
          43.88376957708116,
          43.255651068683434,
          43.328926234697704,
          44.08383824542375,
          45.01780753951615,
          44.55431575311309,
          44.14677838914622,
          43.57446616541353,
          42.683882388862735,
          42.37444811083778,
          41.29860799603608,
          39.329117767658936,
          39.01483640455087,
          39.97773049270459,
          40.102633779453726,
          40.62769354340627,
          40.67349545182057,
          58.89606902492728,
          59.00964413336675,
          59.975845431442984,
          61.1261999521598,
          62.6115781254137,
          63.857461924689105,
          64.19349345721757,
          63.78625278246191,
          63.28515222486507,
          63.712366973971726,
          64.68017152279567,
          64.65971154648203,
          65.25311002161854,
          64.71320035279567,
          63.70980385510108,
          63.56544193689607,
          63.74224235099203,
          63.71579888833217,
          63.80196463587021,
          64.81351130968237,
          65.3234943434551,
          66.0273838053607,
          66.52810649162268,
          62.99242220669641,
          63.031535254885206,
          63.87615439759339,
          64.32043767600749,
          65.91631343161225,
          65.87369597913887,
          66.32957210128491,
          67.18450700425477,
          67.37773734403848,
          67.00389117209849,
          67.39433046085374,
          67.95447152466126,
          68.51815079687543,
          68.40739264040847,
          68.40767035190403,
          68.41059246121591,
          68.53492709494044,
          68.4289857821872,
          68.33148845103682,
          68.69664544275439,
          69.32655366233293,
          70.20218580038434,
          70.85034317960785,
          57.30364734840009,
          57.67166510056959,
          58.28927114564182,
          60.802325211199815,
          62.61792099106125,
          63.22960808311014,
          62.27653641753679,
          60.965653810586886,
          61.38257186787081,
          61.62180965510133,
          62.789249480604646,
          64.55944906184138,
          65.29967027859017,
          62.85624652671961,
          62.583353694314205,
          62.24988575604604,
          61.49885288238885,
          60.89721443606666,
          61.02204444635089,
          63.10313378628517,
          62.728602779809805,
          62.94327047434375,
          63.044003514423785,
          65.91238544507506,
          66.44390291931276,
          66.20165728849872,
          66.3229351468559,
          68.79972327914217,
          70.00606563262073,
          70.69213594641528,
          67.52248690323218,
          67.15598358843329,
          66.41814759588355,
          67.01526698970027,
          68.18712596701212,
          67.84383684664022,
          66.82473651656095,
          67.3412124819318,
          66.88036787426097,
          66.32290662338139,
          65.61629781620988,
          66.16930647017062,
          66.18561278863233,
          66.43084894380232,
          67.07248195795418,
          67.87480240278217,
          59.2461853903078,
          60.02693516321427,
          60.46507163083227,
          61.35193942666085,
          62.82751221295372,
          63.6776529618447,
          63.88294862180928,
          64.6844731321231,
          64.39525349651471,
          64.6284223251216,
          65.28159791691373,
          65.69468131242027,
          66.44839449179666,
          64.57746516437358,
          64.36675025550328,
          64.88681035991478,
          64.90730883479131,
          63.05321947249457,
          63.71517914175653,
          63.61311292777951,
          64.73510713294971,
          66.03763821915564,
          66.64898476881105
         ]
        }
       ],
       "layout": {
        "template": {
         "data": {
          "bar": [
           {
            "error_x": {
             "color": "#2a3f5f"
            },
            "error_y": {
             "color": "#2a3f5f"
            },
            "marker": {
             "line": {
              "color": "white",
              "width": 0.5
             }
            },
            "type": "bar"
           }
          ],
          "barpolar": [
           {
            "marker": {
             "line": {
              "color": "white",
              "width": 0.5
             }
            },
            "type": "barpolar"
           }
          ],
          "carpet": [
           {
            "aaxis": {
             "endlinecolor": "#2a3f5f",
             "gridcolor": "#C8D4E3",
             "linecolor": "#C8D4E3",
             "minorgridcolor": "#C8D4E3",
             "startlinecolor": "#2a3f5f"
            },
            "baxis": {
             "endlinecolor": "#2a3f5f",
             "gridcolor": "#C8D4E3",
             "linecolor": "#C8D4E3",
             "minorgridcolor": "#C8D4E3",
             "startlinecolor": "#2a3f5f"
            },
            "type": "carpet"
           }
          ],
          "choropleth": [
           {
            "colorbar": {
             "outlinewidth": 0,
             "ticks": ""
            },
            "type": "choropleth"
           }
          ],
          "contour": [
           {
            "colorbar": {
             "outlinewidth": 0,
             "ticks": ""
            },
            "colorscale": [
             [
              0,
              "#0d0887"
             ],
             [
              0.1111111111111111,
              "#46039f"
             ],
             [
              0.2222222222222222,
              "#7201a8"
             ],
             [
              0.3333333333333333,
              "#9c179e"
             ],
             [
              0.4444444444444444,
              "#bd3786"
             ],
             [
              0.5555555555555556,
              "#d8576b"
             ],
             [
              0.6666666666666666,
              "#ed7953"
             ],
             [
              0.7777777777777778,
              "#fb9f3a"
             ],
             [
              0.8888888888888888,
              "#fdca26"
             ],
             [
              1,
              "#f0f921"
             ]
            ],
            "type": "contour"
           }
          ],
          "contourcarpet": [
           {
            "colorbar": {
             "outlinewidth": 0,
             "ticks": ""
            },
            "type": "contourcarpet"
           }
          ],
          "heatmap": [
           {
            "colorbar": {
             "outlinewidth": 0,
             "ticks": ""
            },
            "colorscale": [
             [
              0,
              "#0d0887"
             ],
             [
              0.1111111111111111,
              "#46039f"
             ],
             [
              0.2222222222222222,
              "#7201a8"
             ],
             [
              0.3333333333333333,
              "#9c179e"
             ],
             [
              0.4444444444444444,
              "#bd3786"
             ],
             [
              0.5555555555555556,
              "#d8576b"
             ],
             [
              0.6666666666666666,
              "#ed7953"
             ],
             [
              0.7777777777777778,
              "#fb9f3a"
             ],
             [
              0.8888888888888888,
              "#fdca26"
             ],
             [
              1,
              "#f0f921"
             ]
            ],
            "type": "heatmap"
           }
          ],
          "heatmapgl": [
           {
            "colorbar": {
             "outlinewidth": 0,
             "ticks": ""
            },
            "colorscale": [
             [
              0,
              "#0d0887"
             ],
             [
              0.1111111111111111,
              "#46039f"
             ],
             [
              0.2222222222222222,
              "#7201a8"
             ],
             [
              0.3333333333333333,
              "#9c179e"
             ],
             [
              0.4444444444444444,
              "#bd3786"
             ],
             [
              0.5555555555555556,
              "#d8576b"
             ],
             [
              0.6666666666666666,
              "#ed7953"
             ],
             [
              0.7777777777777778,
              "#fb9f3a"
             ],
             [
              0.8888888888888888,
              "#fdca26"
             ],
             [
              1,
              "#f0f921"
             ]
            ],
            "type": "heatmapgl"
           }
          ],
          "histogram": [
           {
            "marker": {
             "colorbar": {
              "outlinewidth": 0,
              "ticks": ""
             }
            },
            "type": "histogram"
           }
          ],
          "histogram2d": [
           {
            "colorbar": {
             "outlinewidth": 0,
             "ticks": ""
            },
            "colorscale": [
             [
              0,
              "#0d0887"
             ],
             [
              0.1111111111111111,
              "#46039f"
             ],
             [
              0.2222222222222222,
              "#7201a8"
             ],
             [
              0.3333333333333333,
              "#9c179e"
             ],
             [
              0.4444444444444444,
              "#bd3786"
             ],
             [
              0.5555555555555556,
              "#d8576b"
             ],
             [
              0.6666666666666666,
              "#ed7953"
             ],
             [
              0.7777777777777778,
              "#fb9f3a"
             ],
             [
              0.8888888888888888,
              "#fdca26"
             ],
             [
              1,
              "#f0f921"
             ]
            ],
            "type": "histogram2d"
           }
          ],
          "histogram2dcontour": [
           {
            "colorbar": {
             "outlinewidth": 0,
             "ticks": ""
            },
            "colorscale": [
             [
              0,
              "#0d0887"
             ],
             [
              0.1111111111111111,
              "#46039f"
             ],
             [
              0.2222222222222222,
              "#7201a8"
             ],
             [
              0.3333333333333333,
              "#9c179e"
             ],
             [
              0.4444444444444444,
              "#bd3786"
             ],
             [
              0.5555555555555556,
              "#d8576b"
             ],
             [
              0.6666666666666666,
              "#ed7953"
             ],
             [
              0.7777777777777778,
              "#fb9f3a"
             ],
             [
              0.8888888888888888,
              "#fdca26"
             ],
             [
              1,
              "#f0f921"
             ]
            ],
            "type": "histogram2dcontour"
           }
          ],
          "mesh3d": [
           {
            "colorbar": {
             "outlinewidth": 0,
             "ticks": ""
            },
            "type": "mesh3d"
           }
          ],
          "parcoords": [
           {
            "line": {
             "colorbar": {
              "outlinewidth": 0,
              "ticks": ""
             }
            },
            "type": "parcoords"
           }
          ],
          "pie": [
           {
            "automargin": true,
            "type": "pie"
           }
          ],
          "scatter": [
           {
            "marker": {
             "colorbar": {
              "outlinewidth": 0,
              "ticks": ""
             }
            },
            "type": "scatter"
           }
          ],
          "scatter3d": [
           {
            "line": {
             "colorbar": {
              "outlinewidth": 0,
              "ticks": ""
             }
            },
            "marker": {
             "colorbar": {
              "outlinewidth": 0,
              "ticks": ""
             }
            },
            "type": "scatter3d"
           }
          ],
          "scattercarpet": [
           {
            "marker": {
             "colorbar": {
              "outlinewidth": 0,
              "ticks": ""
             }
            },
            "type": "scattercarpet"
           }
          ],
          "scattergeo": [
           {
            "marker": {
             "colorbar": {
              "outlinewidth": 0,
              "ticks": ""
             }
            },
            "type": "scattergeo"
           }
          ],
          "scattergl": [
           {
            "marker": {
             "colorbar": {
              "outlinewidth": 0,
              "ticks": ""
             }
            },
            "type": "scattergl"
           }
          ],
          "scattermapbox": [
           {
            "marker": {
             "colorbar": {
              "outlinewidth": 0,
              "ticks": ""
             }
            },
            "type": "scattermapbox"
           }
          ],
          "scatterpolar": [
           {
            "marker": {
             "colorbar": {
              "outlinewidth": 0,
              "ticks": ""
             }
            },
            "type": "scatterpolar"
           }
          ],
          "scatterpolargl": [
           {
            "marker": {
             "colorbar": {
              "outlinewidth": 0,
              "ticks": ""
             }
            },
            "type": "scatterpolargl"
           }
          ],
          "scatterternary": [
           {
            "marker": {
             "colorbar": {
              "outlinewidth": 0,
              "ticks": ""
             }
            },
            "type": "scatterternary"
           }
          ],
          "surface": [
           {
            "colorbar": {
             "outlinewidth": 0,
             "ticks": ""
            },
            "colorscale": [
             [
              0,
              "#0d0887"
             ],
             [
              0.1111111111111111,
              "#46039f"
             ],
             [
              0.2222222222222222,
              "#7201a8"
             ],
             [
              0.3333333333333333,
              "#9c179e"
             ],
             [
              0.4444444444444444,
              "#bd3786"
             ],
             [
              0.5555555555555556,
              "#d8576b"
             ],
             [
              0.6666666666666666,
              "#ed7953"
             ],
             [
              0.7777777777777778,
              "#fb9f3a"
             ],
             [
              0.8888888888888888,
              "#fdca26"
             ],
             [
              1,
              "#f0f921"
             ]
            ],
            "type": "surface"
           }
          ],
          "table": [
           {
            "cells": {
             "fill": {
              "color": "#EBF0F8"
             },
             "line": {
              "color": "white"
             }
            },
            "header": {
             "fill": {
              "color": "#C8D4E3"
             },
             "line": {
              "color": "white"
             }
            },
            "type": "table"
           }
          ]
         },
         "layout": {
          "annotationdefaults": {
           "arrowcolor": "#2a3f5f",
           "arrowhead": 0,
           "arrowwidth": 1
          },
          "autotypenumbers": "strict",
          "coloraxis": {
           "colorbar": {
            "outlinewidth": 0,
            "ticks": ""
           }
          },
          "colorscale": {
           "diverging": [
            [
             0,
             "#8e0152"
            ],
            [
             0.1,
             "#c51b7d"
            ],
            [
             0.2,
             "#de77ae"
            ],
            [
             0.3,
             "#f1b6da"
            ],
            [
             0.4,
             "#fde0ef"
            ],
            [
             0.5,
             "#f7f7f7"
            ],
            [
             0.6,
             "#e6f5d0"
            ],
            [
             0.7,
             "#b8e186"
            ],
            [
             0.8,
             "#7fbc41"
            ],
            [
             0.9,
             "#4d9221"
            ],
            [
             1,
             "#276419"
            ]
           ],
           "sequential": [
            [
             0,
             "#0d0887"
            ],
            [
             0.1111111111111111,
             "#46039f"
            ],
            [
             0.2222222222222222,
             "#7201a8"
            ],
            [
             0.3333333333333333,
             "#9c179e"
            ],
            [
             0.4444444444444444,
             "#bd3786"
            ],
            [
             0.5555555555555556,
             "#d8576b"
            ],
            [
             0.6666666666666666,
             "#ed7953"
            ],
            [
             0.7777777777777778,
             "#fb9f3a"
            ],
            [
             0.8888888888888888,
             "#fdca26"
            ],
            [
             1,
             "#f0f921"
            ]
           ],
           "sequentialminus": [
            [
             0,
             "#0d0887"
            ],
            [
             0.1111111111111111,
             "#46039f"
            ],
            [
             0.2222222222222222,
             "#7201a8"
            ],
            [
             0.3333333333333333,
             "#9c179e"
            ],
            [
             0.4444444444444444,
             "#bd3786"
            ],
            [
             0.5555555555555556,
             "#d8576b"
            ],
            [
             0.6666666666666666,
             "#ed7953"
            ],
            [
             0.7777777777777778,
             "#fb9f3a"
            ],
            [
             0.8888888888888888,
             "#fdca26"
            ],
            [
             1,
             "#f0f921"
            ]
           ]
          },
          "colorway": [
           "#636efa",
           "#EF553B",
           "#00cc96",
           "#ab63fa",
           "#FFA15A",
           "#19d3f3",
           "#FF6692",
           "#B6E880",
           "#FF97FF",
           "#FECB52"
          ],
          "font": {
           "color": "#2a3f5f"
          },
          "geo": {
           "bgcolor": "white",
           "lakecolor": "white",
           "landcolor": "white",
           "showlakes": true,
           "showland": true,
           "subunitcolor": "#C8D4E3"
          },
          "hoverlabel": {
           "align": "left"
          },
          "hovermode": "closest",
          "mapbox": {
           "style": "light"
          },
          "paper_bgcolor": "white",
          "plot_bgcolor": "white",
          "polar": {
           "angularaxis": {
            "gridcolor": "#EBF0F8",
            "linecolor": "#EBF0F8",
            "ticks": ""
           },
           "bgcolor": "white",
           "radialaxis": {
            "gridcolor": "#EBF0F8",
            "linecolor": "#EBF0F8",
            "ticks": ""
           }
          },
          "scene": {
           "xaxis": {
            "backgroundcolor": "white",
            "gridcolor": "#DFE8F3",
            "gridwidth": 2,
            "linecolor": "#EBF0F8",
            "showbackground": true,
            "ticks": "",
            "zerolinecolor": "#EBF0F8"
           },
           "yaxis": {
            "backgroundcolor": "white",
            "gridcolor": "#DFE8F3",
            "gridwidth": 2,
            "linecolor": "#EBF0F8",
            "showbackground": true,
            "ticks": "",
            "zerolinecolor": "#EBF0F8"
           },
           "zaxis": {
            "backgroundcolor": "white",
            "gridcolor": "#DFE8F3",
            "gridwidth": 2,
            "linecolor": "#EBF0F8",
            "showbackground": true,
            "ticks": "",
            "zerolinecolor": "#EBF0F8"
           }
          },
          "shapedefaults": {
           "line": {
            "color": "#2a3f5f"
           }
          },
          "ternary": {
           "aaxis": {
            "gridcolor": "#DFE8F3",
            "linecolor": "#A2B1C6",
            "ticks": ""
           },
           "baxis": {
            "gridcolor": "#DFE8F3",
            "linecolor": "#A2B1C6",
            "ticks": ""
           },
           "bgcolor": "white",
           "caxis": {
            "gridcolor": "#DFE8F3",
            "linecolor": "#A2B1C6",
            "ticks": ""
           }
          },
          "title": {
           "x": 0.05
          },
          "xaxis": {
           "automargin": true,
           "gridcolor": "#EBF0F8",
           "linecolor": "#EBF0F8",
           "ticks": "",
           "title": {
            "standoff": 15
           },
           "zerolinecolor": "#EBF0F8",
           "zerolinewidth": 2
          },
          "yaxis": {
           "automargin": true,
           "gridcolor": "#EBF0F8",
           "linecolor": "#EBF0F8",
           "ticks": "",
           "title": {
            "standoff": 15
           },
           "zerolinecolor": "#EBF0F8",
           "zerolinewidth": 2
          }
         }
        }
       }
      },
      "text/html": [
       "<div>                            <div id=\"7589e48e-e3b3-4048-ba54-de45535a9b0c\" class=\"plotly-graph-div\" style=\"height:525px; width:100%;\"></div>            <script type=\"text/javascript\">                require([\"plotly\"], function(Plotly) {                    window.PLOTLYENV=window.PLOTLYENV || {};                                    if (document.getElementById(\"7589e48e-e3b3-4048-ba54-de45535a9b0c\")) {                    Plotly.newPlot(                        \"7589e48e-e3b3-4048-ba54-de45535a9b0c\",                        [{\"mode\": \"lines\", \"name\": \"lines\", \"type\": \"scatter\", \"visible\": \"legendonly\", \"x\": [\"1996\", \"1996\", \"1996\", \"1997\", \"1997\", \"1997\", \"1998\", \"1998\", \"1998\", \"1999\", \"1999\", \"1999\", \"2000\", \"2000\", \"2000\", \"2001\", \"2001\", \"2001\", \"2002\", \"2002\", \"2002\", \"2003\", \"2003\", \"2003\", \"2004\", \"2004\", \"2004\", \"2005\", \"2005\", \"2005\", \"2006\", \"2006\", \"2006\", \"2007\", \"2007\", \"2007\", \"2008\", \"2008\", \"2008\", \"2009\", \"2009\", \"2009\", \"2010\", \"2010\", \"2010\", \"2011\", \"2011\", \"2011\", \"2012\", \"2012\", \"2012\", \"2013\", \"2013\", \"2013\", \"2014\", \"2014\", \"2014\", \"2015\", \"2015\", \"2015\", \"2016\", \"2016\", \"2016\", \"2017\", \"2017\", \"2017\", \"2018\", \"2018\", \"2018\", \"1996\", \"1996\", \"1996\", \"1997\", \"1997\", \"1997\", \"1998\", \"1998\", \"1998\", \"1999\", \"1999\", \"1999\", \"2000\", \"2000\", \"2000\", \"2001\", \"2001\", \"2001\", \"2002\", \"2002\", \"2002\", \"2003\", \"2003\", \"2003\", \"2004\", \"2004\", \"2004\", \"2005\", \"2005\", \"2005\", \"2006\", \"2006\", \"2006\", \"2007\", \"2007\", \"2007\", \"2008\", \"2008\", \"2008\", \"2009\", \"2009\", \"2009\", \"2010\", \"2010\", \"2010\", \"2011\", \"2011\", \"2011\", \"2012\", \"2012\", \"2012\", \"2013\", \"2013\", \"2013\", \"2014\", \"2014\", \"2014\", \"2015\", \"2015\", \"2015\", \"2016\", \"2016\", \"2016\", \"2017\", \"2017\", \"2017\", \"2018\", \"2018\", \"2018\", \"1996\", \"1996\", \"1996\", \"1997\", \"1997\", \"1997\", \"1998\", \"1998\", \"1998\", \"1999\", \"1999\", \"1999\", \"2000\", \"2000\", \"2000\", \"2001\", \"2001\", \"2001\", \"2002\", \"2002\", \"2002\", \"2003\", \"2003\", \"2003\", \"2004\", \"2004\", \"2004\", \"2005\", \"2005\", \"2005\", \"2006\", \"2006\", \"2006\", \"2007\", \"2007\", \"2007\", \"2008\", \"2008\", \"2008\", \"2009\", \"2009\", \"2009\", \"2010\", \"2010\", \"2010\", \"2011\", \"2011\", \"2011\", \"2012\", \"2012\", \"2012\", \"2013\", \"2013\", \"2013\", \"2014\", \"2014\", \"2014\", \"2015\", \"2015\", \"2015\", \"2016\", \"2016\", \"2016\", \"2017\", \"2017\", \"2017\", \"2018\", \"2018\", \"2018\", \"1996\", \"1996\", \"1996\", \"1997\", \"1997\", \"1997\", \"1998\", \"1998\", \"1998\", \"1999\", \"1999\", \"1999\", \"2000\", \"2000\", \"2000\", \"2001\", \"2001\", \"2001\", \"2002\", \"2002\", \"2002\", \"2003\", \"2003\", \"2003\", \"2004\", \"2004\", \"2004\", \"2005\", \"2005\", \"2005\", \"2006\", \"2006\", \"2006\", \"2007\", \"2007\", \"2007\", \"2008\", \"2008\", \"2008\", \"2009\", \"2009\", \"2009\", \"2010\", \"2010\", \"2010\", \"2011\", \"2011\", \"2011\", \"2012\", \"2012\", \"2012\", \"2013\", \"2013\", \"2013\", \"2014\", \"2014\", \"2014\", \"2015\", \"2015\", \"2015\", \"2016\", \"2016\", \"2016\", \"2017\", \"2017\", \"2017\", \"2018\", \"2018\", \"2018\", \"1996\", \"1996\", \"1996\", \"1997\", \"1997\", \"1997\", \"1998\", \"1998\", \"1998\", \"1999\", \"1999\", \"1999\", \"2000\", \"2000\", \"2000\", \"2001\", \"2001\", \"2001\", \"2002\", \"2002\", \"2002\", \"2003\", \"2003\", \"2003\", \"2004\", \"2004\", \"2004\", \"2005\", \"2005\", \"2005\", \"2006\", \"2006\", \"2006\", \"2007\", \"2007\", \"2007\", \"2008\", \"2008\", \"2008\", \"2009\", \"2009\", \"2009\", \"2010\", \"2010\", \"2010\", \"2011\", \"2011\", \"2011\", \"2012\", \"2012\", \"2012\", \"2013\", \"2013\", \"2013\", \"2014\", \"2014\", \"2014\", \"2015\", \"2015\", \"2015\", \"2016\", \"2016\", \"2016\", \"2017\", \"2017\", \"2017\", \"2018\", \"2018\", \"2018\", \"1996\", \"1996\", \"1996\", \"1997\", \"1997\", \"1997\", \"1998\", \"1998\", \"1998\", \"1999\", \"1999\", \"1999\", \"2000\", \"2000\", \"2000\", \"2001\", \"2001\", \"2001\", \"2002\", \"2002\", \"2002\", \"2003\", \"2003\", \"2003\", \"2004\", \"2004\", \"2004\", \"2005\", \"2005\", \"2005\", \"2006\", \"2006\", \"2006\", \"2007\", \"2007\", \"2007\", \"2008\", \"2008\", \"2008\", \"2009\", \"2009\", \"2009\", \"2010\", \"2010\", \"2010\", \"2011\", \"2011\", \"2011\", \"2012\", \"2012\", \"2012\", \"2013\", \"2013\", \"2013\", \"2014\", \"2014\", \"2014\", \"2015\", \"2015\", \"2015\", \"2016\", \"2016\", \"2016\", \"2017\", \"2017\", \"2017\", \"2018\", \"2018\", \"2018\", \"1996\", \"1996\", \"1996\", \"1997\", \"1997\", \"1997\", \"1998\", \"1998\", \"1998\", \"1999\", \"1999\", \"1999\", \"2000\", \"2000\", \"2000\", \"2001\", \"2001\", \"2001\", \"2002\", \"2002\", \"2002\", \"2003\", \"2003\", \"2003\", \"2004\", \"2004\", \"2004\", \"2005\", \"2005\", \"2005\", \"2006\", \"2006\", \"2006\", \"2007\", \"2007\", \"2007\", \"2008\", \"2008\", \"2008\", \"2009\", \"2009\", \"2009\", \"2010\", \"2010\", \"2010\", \"2011\", \"2011\", \"2011\", \"2012\", \"2012\", \"2012\", \"2013\", \"2013\", \"2013\", \"2014\", \"2014\", \"2014\", \"2015\", \"2015\", \"2015\", \"2016\", \"2016\", \"2016\", \"2017\", \"2017\", \"2017\", \"2018\", \"2018\", \"2018\", \"1996\", \"1996\", \"1996\", \"1997\", \"1997\", \"1997\", \"1998\", \"1998\", \"1998\", \"1999\", \"1999\", \"1999\", \"2000\", \"2000\", \"2000\", \"2001\", \"2001\", \"2001\", \"2002\", \"2002\", \"2002\", \"2003\", \"2003\", \"2003\", \"2004\", \"2004\", \"2004\", \"2005\", \"2005\", \"2005\", \"2006\", \"2006\", \"2006\", \"2007\", \"2007\", \"2007\", \"2008\", \"2008\", \"2008\", \"2009\", \"2009\", \"2009\", \"2010\", \"2010\", \"2010\", \"2011\", \"2011\", \"2011\", \"2012\", \"2012\", \"2012\", \"2013\", \"2013\", \"2013\", \"2014\", \"2014\", \"2014\", \"2015\", \"2015\", \"2015\", \"2016\", \"2016\", \"2016\", \"2017\", \"2017\", \"2017\", \"2018\", \"2018\", \"2018\", \"1996\", \"1996\", \"1996\", \"1997\", \"1997\", \"1997\", \"1998\", \"1998\", \"1998\", \"1999\", \"1999\", \"1999\", \"2000\", \"2000\", \"2000\", \"2001\", \"2001\", \"2001\", \"2002\", \"2002\", \"2002\", \"2003\", \"2003\", \"2003\", \"2004\", \"2004\", \"2004\", \"2005\", \"2005\", \"2005\", \"2006\", \"2006\", \"2006\", \"2007\", \"2007\", \"2007\", \"2008\", \"2008\", \"2008\", \"2009\", \"2009\", \"2009\", \"2010\", \"2010\", \"2010\", \"2011\", \"2011\", \"2011\", \"2012\", \"2012\", \"2012\", \"2013\", \"2013\", \"2013\", \"2014\", \"2014\", \"2014\", \"2015\", \"2015\", \"2015\", \"2016\", \"2016\", \"2016\", \"2017\", \"2017\", \"2017\", \"2018\", \"2018\", \"2018\", \"1996\", \"1996\", \"1996\", \"1997\", \"1997\", \"1997\", \"1998\", \"1998\", \"1998\", \"1999\", \"1999\", \"1999\", \"2000\", \"2000\", \"2000\", \"2001\", \"2001\", \"2001\", \"2002\", \"2002\", \"2002\", \"2003\", \"2003\", \"2003\", \"2004\", \"2004\", \"2004\", \"2005\", \"2005\", \"2005\", \"2006\", \"2006\", \"2006\", \"2007\", \"2007\", \"2007\", \"2008\", \"2008\", \"2008\", \"2009\", \"2009\", \"2009\", \"2010\", \"2010\", \"2010\", \"2011\", \"2011\", \"2011\", \"2012\", \"2012\", \"2012\", \"2013\", \"2013\", \"2013\", \"2014\", \"2014\", \"2014\", \"2015\", \"2015\", \"2015\", \"2016\", \"2016\", \"2016\", \"2017\", \"2017\", \"2017\", \"2018\", \"2018\", \"2018\", \"1996\", \"1996\", \"1996\", \"1997\", \"1997\", \"1997\", \"1998\", \"1998\", \"1998\", \"1999\", \"1999\", \"1999\", \"2000\", \"2000\", \"2000\", \"2001\", \"2001\", \"2001\", \"2002\", \"2002\", \"2002\", \"2003\", \"2003\", \"2003\", \"2004\", \"2004\", \"2004\", \"2005\", \"2005\", \"2005\", \"2006\", \"2006\", \"2006\", \"2007\", \"2007\", \"2007\", \"2008\", \"2008\", \"2008\", \"2009\", \"2009\", \"2009\", \"2010\", \"2010\", \"2010\", \"2011\", \"2011\", \"2011\", \"2012\", \"2012\", \"2012\", \"2013\", \"2013\", \"2013\", \"2014\", \"2014\", \"2014\", \"2015\", \"2015\", \"2015\", \"2016\", \"2016\", \"2016\", \"2017\", \"2017\", \"2017\", \"2018\", \"2018\", \"2018\", \"1996\", \"1996\", \"1996\", \"1997\", \"1997\", \"1997\", \"1998\", \"1998\", \"1998\", \"1999\", \"1999\", \"1999\", \"2000\", \"2000\", \"2000\", \"2001\", \"2001\", \"2001\", \"2002\", \"2002\", \"2002\", \"2003\", \"2003\", \"2003\", \"2004\", \"2004\", \"2004\", \"2005\", \"2005\", \"2005\", \"2006\", \"2006\", \"2006\", \"2007\", \"2007\", \"2007\", \"2008\", \"2008\", \"2008\", \"2009\", \"2009\", \"2009\", \"2010\", \"2010\", \"2010\", \"2011\", \"2011\", \"2011\", \"2012\", \"2012\", \"2012\", \"2013\", \"2013\", \"2013\", \"2014\", \"2014\", \"2014\", \"2015\", \"2015\", \"2015\", \"2016\", \"2016\", \"2016\", \"2017\", \"2017\", \"2017\", \"2018\", \"2018\", \"2018\", \"1996\", \"1996\", \"1996\", \"1997\", \"1997\", \"1997\", \"1998\", \"1998\", \"1998\", \"1999\", \"1999\", \"1999\", \"2000\", \"2000\", \"2000\", \"2001\", \"2001\", \"2001\", \"2002\", \"2002\", \"2002\", \"2003\", \"2003\", \"2003\", \"2004\", \"2004\", \"2004\", \"2005\", \"2005\", \"2005\", \"2006\", \"2006\", \"2006\", \"2007\", \"2007\", \"2007\", \"2008\", \"2008\", \"2008\", \"2009\", \"2009\", \"2009\", \"2010\", \"2010\", \"2010\", \"2011\", \"2011\", \"2011\", \"2012\", \"2012\", \"2012\", \"2013\", \"2013\", \"2013\", \"2014\", \"2014\", \"2014\", \"2015\", \"2015\", \"2015\", \"2016\", \"2016\", \"2016\", \"2017\", \"2017\", \"2017\", \"2018\", \"2018\", \"2018\", \"1996\", \"1996\", \"1996\", \"1997\", \"1997\", \"1997\", \"1998\", \"1998\", \"1998\", \"1999\", \"1999\", \"1999\", \"2000\", \"2000\", \"2000\", \"2001\", \"2001\", \"2001\", \"2002\", \"2002\", \"2002\", \"2003\", \"2003\", \"2003\", \"2004\", \"2004\", \"2004\", \"2005\", \"2005\", \"2005\", \"2006\", \"2006\", \"2006\", \"2007\", \"2007\", \"2007\", \"2008\", \"2008\", \"2008\", \"2009\", \"2009\", \"2009\", \"2010\", \"2010\", \"2010\", \"2011\", \"2011\", \"2011\", \"2012\", \"2012\", \"2012\", \"2013\", \"2013\", \"2013\", \"2014\", \"2014\", \"2014\", \"2015\", \"2015\", \"2015\", \"2016\", \"2016\", \"2016\", \"2017\", \"2017\", \"2017\", \"2018\", \"2018\", \"2018\", \"1996\", \"1996\", \"1996\", \"1997\", \"1997\", \"1997\", \"1998\", \"1998\", \"1998\", \"1999\", \"1999\", \"1999\", \"2000\", \"2000\", \"2000\", \"2001\", \"2001\", \"2001\", \"2002\", \"2002\", \"2002\", \"2003\", \"2003\", \"2003\", \"2004\", \"2004\", \"2004\", \"2005\", \"2005\", \"2005\", \"2006\", \"2006\", \"2006\", \"2007\", \"2007\", \"2007\", \"2008\", \"2008\", \"2008\", \"2009\", \"2009\", \"2009\", \"2010\", \"2010\", \"2010\", \"2011\", \"2011\", \"2011\", \"2012\", \"2012\", \"2012\", \"2013\", \"2013\", \"2013\", \"2014\", \"2014\", \"2014\", \"2015\", \"2015\", \"2015\", \"2016\", \"2016\", \"2016\", \"2017\", \"2017\", \"2017\", \"2018\", \"2018\", \"2018\", \"1996\", \"1996\", \"1996\", \"1997\", \"1997\", \"1997\", \"1998\", \"1998\", \"1998\", \"1999\", \"1999\", \"1999\", \"2000\", \"2000\", \"2000\", \"2001\", \"2001\", \"2001\", \"2002\", \"2002\", \"2002\", \"2003\", \"2003\", \"2003\", \"2004\", \"2004\", \"2004\", \"2005\", \"2005\", \"2005\", \"2006\", \"2006\", \"2006\", \"2007\", \"2007\", \"2007\", \"2008\", \"2008\", \"2008\", \"2009\", \"2009\", \"2009\", \"2010\", \"2010\", \"2010\", \"2011\", \"2011\", \"2011\", \"2012\", \"2012\", \"2012\", \"2013\", \"2013\", \"2013\", \"2014\", \"2014\", \"2014\", \"2015\", \"2015\", \"2015\", \"2016\", \"2016\", \"2016\", \"2017\", \"2017\", \"2017\", \"2018\", \"2018\", \"2018\", \"1996\", \"1996\", \"1996\", \"1997\", \"1997\", \"1997\", \"1998\", \"1998\", \"1998\", \"1999\", \"1999\", \"1999\", \"2000\", \"2000\", \"2000\", \"2001\", \"2001\", \"2001\", \"2002\", \"2002\", \"2002\", \"2003\", \"2003\", \"2003\", \"2004\", \"2004\", \"2004\", \"2005\", \"2005\", \"2005\", \"2006\", \"2006\", \"2006\", \"2007\", \"2007\", \"2007\", \"2008\", \"2008\", \"2008\", \"2009\", \"2009\", \"2009\", \"2010\", \"2010\", \"2010\", \"2011\", \"2011\", \"2011\", \"2012\", \"2012\", \"2012\", \"2013\", \"2013\", \"2013\", \"2014\", \"2014\", \"2014\", \"2015\", \"2015\", \"2015\", \"2016\", \"2016\", \"2016\", \"2017\", \"2017\", \"2017\", \"2018\", \"2018\", \"2018\", \"1996\", \"1996\", \"1996\", \"1997\", \"1997\", \"1997\", \"1998\", \"1998\", \"1998\", \"1999\", \"1999\", \"1999\", \"2000\", \"2000\", \"2000\", \"2001\", \"2001\", \"2001\", \"2002\", \"2002\", \"2002\", \"2003\", \"2003\", \"2003\", \"2004\", \"2004\", \"2004\", \"2005\", \"2005\", \"2005\", \"2006\", \"2006\", \"2006\", \"2007\", \"2007\", \"2007\", \"2008\", \"2008\", \"2008\", \"2009\", \"2009\", \"2009\", \"2010\", \"2010\", \"2010\", \"2011\", \"2011\", \"2011\", \"2012\", \"2012\", \"2012\", \"2013\", \"2013\", \"2013\", \"2014\", \"2014\", \"2014\", \"2015\", \"2015\", \"2015\", \"2016\", \"2016\", \"2016\", \"2017\", \"2017\", \"2017\", \"2018\", \"2018\", \"2018\", \"1996\", \"1996\", \"1996\", \"1997\", \"1997\", \"1997\", \"1998\", \"1998\", \"1998\", \"1999\", \"1999\", \"1999\", \"2000\", \"2000\", \"2000\", \"2001\", \"2001\", \"2001\", \"2002\", \"2002\", \"2002\", \"2003\", \"2003\", \"2003\", \"2004\", \"2004\", \"2004\", \"2005\", \"2005\", \"2005\", \"2006\", \"2006\", \"2006\", \"2007\", \"2007\", \"2007\", \"2008\", \"2008\", \"2008\", \"2009\", \"2009\", \"2009\", \"2010\", \"2010\", \"2010\", \"2011\", \"2011\", \"2011\", \"2012\", \"2012\", \"2012\", \"2013\", \"2013\", \"2013\", \"2014\", \"2014\", \"2014\", \"2015\", \"2015\", \"2015\", \"2016\", \"2016\", \"2016\", \"2017\", \"2017\", \"2017\", \"2018\", \"2018\", \"2018\", \"1996\", \"1996\", \"1996\", \"1997\", \"1997\", \"1997\", \"1998\", \"1998\", \"1998\", \"1999\", \"1999\", \"1999\", \"2000\", \"2000\", \"2000\", \"2001\", \"2001\", \"2001\", \"2002\", \"2002\", \"2002\", \"2003\", \"2003\", \"2003\", \"2004\", \"2004\", \"2004\", \"2005\", \"2005\", \"2005\", \"2006\", \"2006\", \"2006\", \"2007\", \"2007\", \"2007\", \"2008\", \"2008\", \"2008\", \"2009\", \"2009\", \"2009\", \"2010\", \"2010\", \"2010\", \"2011\", \"2011\", \"2011\", \"2012\", \"2012\", \"2012\", \"2013\", \"2013\", \"2013\", \"2014\", \"2014\", \"2014\", \"2015\", \"2015\", \"2015\", \"2016\", \"2016\", \"2016\", \"2017\", \"2017\", \"2017\", \"2018\", \"2018\", \"2018\", \"1996\", \"1996\", \"1996\", \"1997\", \"1997\", \"1997\", \"1998\", \"1998\", \"1998\", \"1999\", \"1999\", \"1999\", \"2000\", \"2000\", \"2000\", \"2001\", \"2001\", \"2001\", \"2002\", \"2002\", \"2002\", \"2003\", \"2003\", \"2003\", \"2004\", \"2004\", \"2004\", \"2005\", \"2005\", \"2005\", \"2006\", \"2006\", \"2006\", \"2007\", \"2007\", \"2007\", \"2008\", \"2008\", \"2008\", \"2009\", \"2009\", \"2009\", \"2010\", \"2010\", \"2010\", \"2011\", \"2011\", \"2011\", \"2012\", \"2012\", \"2012\", \"2013\", \"2013\", \"2013\", \"2014\", \"2014\", \"2014\", \"2015\", \"2015\", \"2015\", \"2016\", \"2016\", \"2016\", \"2017\", \"2017\", \"2017\", \"2018\", \"2018\", \"2018\", \"1996\", \"1996\", \"1996\", \"1997\", \"1997\", \"1997\", \"1998\", \"1998\", \"1998\", \"1999\", \"1999\", \"1999\", \"2000\", \"2000\", \"2000\", \"2001\", \"2001\", \"2001\", \"2002\", \"2002\", \"2002\", \"2003\", \"2003\", \"2003\", \"2004\", \"2004\", \"2004\", \"2005\", \"2005\", \"2005\", \"2006\", \"2006\", \"2006\", \"2007\", \"2007\", \"2007\", \"2008\", \"2008\", \"2008\", \"2009\", \"2009\", \"2009\", \"2010\", \"2010\", \"2010\", \"2011\", \"2011\", \"2011\", \"2012\", \"2012\", \"2012\", \"2013\", \"2013\", \"2013\", \"2014\", \"2014\", \"2014\", \"2015\", \"2015\", \"2015\", \"2016\", \"2016\", \"2016\", \"2017\", \"2017\", \"2017\", \"2018\", \"2018\", \"2018\"], \"y\": [65.80715154039511, 65.07488367584335, 64.11326580818107, 64.6224755044137, 66.61159675217081, 68.44273163658305, 67.63321568694222, 68.91094433597063, 68.66046576414956, 69.71481562921251, 70.27143636966072, 71.51232701270057, 71.178232721238, 68.23685936649562, 66.9577277291903, 68.11758382793785, 68.4232135111375, 65.53253818790542, 64.63619440025974, 66.08672389436187, 66.99509715937538, 68.56977756217273, 70.44646469967127, 61.487733188774115, 62.43214223287637, 62.83587782428458, 62.25909496919141, 65.39380201122758, 65.27492677957468, 65.98134379909023, 64.74792073108122, 63.72783284772432, 63.77817988730623, 66.09815830213786, 64.87393560922897, 64.19633914067893, 61.18669513405125, 58.945795832530834, 60.380160380160376, 57.90701923829909, 56.26513269708459, 59.013415242445724, 61.79108261416092, 61.58162072556479, 61.588953672026, 61.72729482297659, 58.79912016140163, 58.96480471528742, 59.83927900419259, 59.31599243631166, 60.15561003273632, 61.12115241287955, 62.38438195243793, 60.34591572771417, 60.502777001324695, 58.37235943729093, 59.46444818767521, 58.93354501105913, 57.54725092505873, 56.17224630650767, 54.384805996242356, 53.78273215172437, 52.044142384452805, 49.426808711274916, 49.9169562019144, 49.37903703451035, 50.17435072475968, 51.57647280078989, 53.35689491953297, 59.33561139141242, 59.51448193521976, 60.621279576334416, 60.258737201867355, 60.14228693936224, 61.199079206108095, 63.3024435167578, 62.056947288277165, 61.417999050806046, 60.535912262207404, 60.11960896946835, 59.818693678383895, 57.90737533931334, 55.66675974124228, 54.37089407689988, 53.71979946346956, 52.66166876206145, 51.472843725914416, 51.1776354130007, 52.04745096176288, 53.917529188397936, 54.9864904498771, 54.103245831365875, 73.08509731971435, 73.63251900120996, 73.77861581040708, 74.58633441411742, 75.35790486805662, 76.00861861483273, 76.49309722172424, 77.32470114676947, 76.18187331597385, 76.65703720736194, 77.130291902416, 78.28871640726305, 78.01555216824619, 75.30065820953004, 74.7071242739134, 74.84372294372295, 73.72680342462394, 72.85673390356669, 73.47758494101149, 73.82056610523543, 74.67177589699699, 75.16276696268523, 76.58733068496657, 74.55595336637711, 74.87090359967344, 75.28827167627153, 75.39991995307942, 76.00552269039676, 77.45149965194757, 77.19388618280344, 74.17655041594988, 72.32234277038853, 72.13216658285808, 74.64725769048086, 74.94762405398731, 74.72158603283584, 72.54481980608574, 71.45955252207631, 71.60246117483847, 71.09278051383819, 70.6067690069872, 70.92689713387993, 72.2282085768294, 72.29994108337891, 73.03902173480091, 73.00286604493768, 65.00813370091953, 65.1689872941409, 65.40064095153093, 65.65398962427584, 65.95559514635082, 66.10030045108918, 68.64360504773889, 69.99545533625185, 70.52014851292776, 69.34848071199617, 71.23291504688524, 71.47256684191078, 71.7223043242481, 70.70331240749248, 69.58695433534163, 68.86758170036642, 67.99513220537771, 66.34995504373752, 66.51241599572747, 67.1682309995245, 68.23029450409439, 69.12630792861447, 68.86788895020905, 65.62957118832495, 64.98612086232393, 65.62420613142876, 66.49351057601251, 66.89868630573248, 68.95160477298481, 69.31681704643931, 70.19658917272568, 70.84156281437987, 71.62110998625481, 71.93262638758445, 72.34373246782391, 72.80915185998535, 72.01438430440545, 70.94629443228989, 70.95907877767615, 70.06842280313855, 67.7997992712583, 67.61251951965855, 68.71459426888624, 71.2543524198171, 70.55802483973498, 70.61869102922775, 72.38510005878506, 72.39143671131197, 73.02805009045319, 73.7825161173188, 74.46122546611488, 75.26838829121745, 75.75659177354925, 75.72161852218493, 75.6684147221554, 75.65107465350492, 76.29542975893388, 76.59549769936407, 76.52486310509228, 75.10227265555478, 74.03167522029936, 73.82068312805305, 72.75706190961395, 72.09239766555812, 72.08415520192341, 73.00783847589987, 74.28148216335468, 75.13583925022273, 75.71337338803856, 71.94882137904955, 71.17513414221492, 71.45821257864804, 72.72942880230032, 74.16224565173594, 73.42264983936433, 73.88178263420174, 73.96799737363202, 73.19966035604908, 73.52735490936385, 74.84469953425202, 74.54947570355918, 73.42239444826397, 71.85703674190171, 72.34437805981106, 70.40921927703985, 70.4978592074478, 68.59615844034394, 69.89150535297664, 70.30188881645721, 70.11075781774078, 70.15439935851388, 72.9616274237355, 65.03828440652106, 65.82759372069007, 65.83506451428462, 66.60400161138713, 67.68769174368572, 68.70383457409218, 68.9221307102044, 66.58922832694468, 65.4379794778643, 65.37567776917118, 66.4304230056019, 66.52248967162558, 66.65282111221661, 63.7885726431318, 62.879147493339794, 61.5096208949715, 62.11243047370421, 56.49376563458151, 57.91152825476116, 59.09590762705208, 61.57137492835827, 60.44226779444622, 64.68497935532068, 68.83750648005922, 68.17324514673744, 68.29481195786457, 69.67630978750071, 70.9171411212964, 71.06369255271011, 71.44198727874958, 72.29729390689997, 72.9887913186264, 73.46815851389468, 73.43321950409923, 73.31278903895267, 73.2589807602547, 72.1305184528077, 71.18053573670933, 71.28040236391664, 70.4677608364989, 68.86329717039203, 68.93598497694407, 70.53116383535625, 70.68581540735181, 71.60130572096439, 72.91386311764532, 73.92083751613366, 73.43254277838457, 74.0012957563978, 74.17411594371514, 75.39645206812338, 74.7258602978942, 75.81991880850846, 77.68753503541762, 78.70653764994393, 78.72928350674447, 79.61844753653628, 79.47151063499457, 78.99486445113821, 78.58939586831245, 78.96095001651032, 78.83849181283709, 78.76257010249468, 78.29510831753952, 77.33861834654586, 78.37225886967374, 78.93910488085223, 79.82687706975594, 79.06172984391503, 77.25240066278126, 76.73131606799026, 76.91902258121873, 78.0492584678796, 78.37054273316144, 78.97674302196805, 78.54397538200868, 77.03276267908885, 75.23620241553279, 75.13387124130746, 75.77456298975285, 76.137125748503, 75.47952768526599, 74.85526982891774, 74.39810821436326, 74.0539024333232, 72.61915871497561, 73.32360838282985, 73.36756004176819, 72.30968461274905, 72.9677430601963, 72.96021695609666, 74.63967893910312, 59.63775408422147, 58.603153101971195, 59.06035327659056, 60.53759960864967, 61.32537766475733, 61.21453178311225, 61.55528149964597, 61.86317464018563, 61.782856319479826, 62.43220084219018, 63.21739319439105, 63.7006454239866, 63.472686429777106, 60.98294936990043, 59.630668710652046, 59.629952014284115, 59.07354994809908, 55.43756436537524, 55.13774235809839, 56.39370469266278, 57.451597350279116, 57.54846128992247, 58.487018559208224, 64.38164365622258, 64.8693572641956, 64.63219370092185, 64.7954887690894, 65.80052920893597, 66.7478834200211, 67.19058946156325, 65.85055990765571, 64.7943149220991, 65.63808920670941, 65.92610854788153, 66.52259373546941, 64.28970321134939, 61.35150967632652, 60.003861605719436, 61.11412391205783, 60.36375526657161, 56.88087695659652, 56.730431777810175, 57.7568655838574, 58.19910459554774, 58.71563167279371, 60.35423124971082, 58.68550515736415, 58.952639657520535, 59.56150847022666, 59.16716481586669, 59.87997231758108, 60.895811345028505, 61.337654036054225, 59.883226227146814, 60.03771584283446, 60.48085722408752, 61.01554010099108, 60.54781724228072, 59.527524726624705, 58.426707405031145, 57.0419614034146, 56.40154938591634, 54.34746711412981, 51.9050090460646, 50.96603303209722, 52.093418687383696, 52.125056737618976, 52.29477256379833, 52.45062057610722, 72.33380386003938, 72.43801620738817, 72.97819826874478, 73.25911483414144, 74.20792239401723, 75.10396264098877, 75.00569273308335, 74.46188330952643, 73.56646757283659, 73.26446727395647, 74.46722546241713, 73.94826236918152, 74.46220818676737, 74.13302451834218, 73.20840270036612, 72.80424205193583, 72.37408203182117, 71.31020965217857, 70.86974186076127, 71.24590816040272, 72.41610376138502, 72.30562839197512, 72.72397998903796, 75.60199923801652, 75.09858012431557, 75.47478401416174, 76.132949824225, 76.90158148179975, 76.87842222672886, 77.20069338536881, 77.355141212815, 76.94019307013886, 76.89709990585112, 77.6615788730752, 77.77395015623809, 77.20294745124147, 76.68252950578378, 76.63277986555075, 76.40035500279951, 75.63656978003877, 75.7705181258449, 75.32588563868882, 75.30567948518376, 75.92440475491979, 76.37165887351078, 76.84124434058712, 68.1212257604741, 67.89232075372466, 67.67993200604725, 70.14947851952257, 71.23780097215419, 70.88708099402442, 69.65270649807685, 70.08996851102114, 71.24335947381736, 72.11363400879232, 72.00545420280322, 73.67414189667375, 74.06407835775927, 72.61043156328265, 72.47122276116701, 71.39875343204106, 69.937483700849, 68.36760571544504, 68.73327515997673, 71.13799716013057, 70.50646432649454, 71.03193376700177, 71.47033150710372, 78.25520833333334, 78.2688588007737, 76.83838652696784, 77.63712058866244, 78.95030709101061, 81.02045786653677, 82.77224824355972, 73.96166909267346, 75.3353401565322, 74.24238800258317, 75.10319979002124, 76.38050712019655, 75.55391256648143, 74.43304406194564, 74.2745589511231, 72.9100145137881, 71.15655853314527, 70.62998463452111, 71.4816716797496, 70.92509926751671, 71.05912250541894, 71.47733547512675, 71.62025316455696, 73.08864262339257, 73.05027275021516, 73.88731209039958, 74.39713981553153, 75.26595830454927, 75.31873222241192, 75.34298037676862, 76.79684013525082, 76.09140276086073, 75.86722891414381, 76.78543098390091, 77.12931880276825, 77.00111642036566, 75.04962060684245, 75.09720594073352, 74.82537627366904, 74.75366445680739, 72.71620907832846, 72.87515582274409, 73.1663098138623, 74.26575103940868, 74.87878672068078, 74.99535870066586]}, {\"mode\": \"lines+markers\", \"name\": \"lines+markers\", \"type\": \"scatter\", \"visible\": \"legendonly\", \"x\": [\"1996\", \"1996\", \"1996\", \"1997\", \"1997\", \"1997\", \"1998\", \"1998\", \"1998\", \"1999\", \"1999\", \"1999\", \"2000\", \"2000\", \"2000\", \"2001\", \"2001\", \"2001\", \"2002\", \"2002\", \"2002\", \"2003\", \"2003\", \"2003\", \"2004\", \"2004\", \"2004\", \"2005\", \"2005\", \"2005\", \"2006\", \"2006\", \"2006\", \"2007\", \"2007\", \"2007\", \"2008\", \"2008\", \"2008\", \"2009\", \"2009\", \"2009\", \"2010\", \"2010\", \"2010\", \"2011\", \"2011\", \"2011\", \"2012\", \"2012\", \"2012\", \"2013\", \"2013\", \"2013\", \"2014\", \"2014\", \"2014\", \"2015\", \"2015\", \"2015\", \"2016\", \"2016\", \"2016\", \"2017\", \"2017\", \"2017\", \"2018\", \"2018\", \"2018\", \"1996\", \"1996\", \"1996\", \"1997\", \"1997\", \"1997\", \"1998\", \"1998\", \"1998\", \"1999\", \"1999\", \"1999\", \"2000\", \"2000\", \"2000\", \"2001\", \"2001\", \"2001\", \"2002\", \"2002\", \"2002\", \"2003\", \"2003\", \"2003\", \"2004\", \"2004\", \"2004\", \"2005\", \"2005\", \"2005\", \"2006\", \"2006\", \"2006\", \"2007\", \"2007\", \"2007\", \"2008\", \"2008\", \"2008\", \"2009\", \"2009\", \"2009\", \"2010\", \"2010\", \"2010\", \"2011\", \"2011\", \"2011\", \"2012\", \"2012\", \"2012\", \"2013\", \"2013\", \"2013\", \"2014\", \"2014\", \"2014\", \"2015\", \"2015\", \"2015\", \"2016\", \"2016\", \"2016\", \"2017\", \"2017\", \"2017\", \"2018\", \"2018\", \"2018\", \"1996\", \"1996\", \"1996\", \"1997\", \"1997\", \"1997\", \"1998\", \"1998\", \"1998\", \"1999\", \"1999\", \"1999\", \"2000\", \"2000\", \"2000\", \"2001\", \"2001\", \"2001\", \"2002\", \"2002\", \"2002\", \"2003\", \"2003\", \"2003\", \"2004\", \"2004\", \"2004\", \"2005\", \"2005\", \"2005\", \"2006\", \"2006\", \"2006\", \"2007\", \"2007\", \"2007\", \"2008\", \"2008\", \"2008\", \"2009\", \"2009\", \"2009\", \"2010\", \"2010\", \"2010\", \"2011\", \"2011\", \"2011\", \"2012\", \"2012\", \"2012\", \"2013\", \"2013\", \"2013\", \"2014\", \"2014\", \"2014\", \"2015\", \"2015\", \"2015\", \"2016\", \"2016\", \"2016\", \"2017\", \"2017\", \"2017\", \"2018\", \"2018\", \"2018\", \"1996\", \"1996\", \"1996\", \"1997\", \"1997\", \"1997\", \"1998\", \"1998\", \"1998\", \"1999\", \"1999\", \"1999\", \"2000\", \"2000\", \"2000\", \"2001\", \"2001\", \"2001\", \"2002\", \"2002\", \"2002\", \"2003\", \"2003\", \"2003\", \"2004\", \"2004\", \"2004\", \"2005\", \"2005\", \"2005\", \"2006\", \"2006\", \"2006\", \"2007\", \"2007\", \"2007\", \"2008\", \"2008\", \"2008\", \"2009\", \"2009\", \"2009\", \"2010\", \"2010\", \"2010\", \"2011\", \"2011\", \"2011\", \"2012\", \"2012\", \"2012\", \"2013\", \"2013\", \"2013\", \"2014\", \"2014\", \"2014\", \"2015\", \"2015\", \"2015\", \"2016\", \"2016\", \"2016\", \"2017\", \"2017\", \"2017\", \"2018\", \"2018\", \"2018\", \"1996\", \"1996\", \"1996\", \"1997\", \"1997\", \"1997\", \"1998\", \"1998\", \"1998\", \"1999\", \"1999\", \"1999\", \"2000\", \"2000\", \"2000\", \"2001\", \"2001\", \"2001\", \"2002\", \"2002\", \"2002\", \"2003\", \"2003\", \"2003\", \"2004\", \"2004\", \"2004\", \"2005\", \"2005\", \"2005\", \"2006\", \"2006\", \"2006\", \"2007\", \"2007\", \"2007\", \"2008\", \"2008\", \"2008\", \"2009\", \"2009\", \"2009\", \"2010\", \"2010\", \"2010\", \"2011\", \"2011\", \"2011\", \"2012\", \"2012\", \"2012\", \"2013\", \"2013\", \"2013\", \"2014\", \"2014\", \"2014\", \"2015\", \"2015\", \"2015\", \"2016\", \"2016\", \"2016\", \"2017\", \"2017\", \"2017\", \"2018\", \"2018\", \"2018\", \"1996\", \"1996\", \"1996\", \"1997\", \"1997\", \"1997\", \"1998\", \"1998\", \"1998\", \"1999\", \"1999\", \"1999\", \"2000\", \"2000\", \"2000\", \"2001\", \"2001\", \"2001\", \"2002\", \"2002\", \"2002\", \"2003\", \"2003\", \"2003\", \"2004\", \"2004\", \"2004\", \"2005\", \"2005\", \"2005\", \"2006\", \"2006\", \"2006\", \"2007\", \"2007\", \"2007\", \"2008\", \"2008\", \"2008\", \"2009\", \"2009\", \"2009\", \"2010\", \"2010\", \"2010\", \"2011\", \"2011\", \"2011\", \"2012\", \"2012\", \"2012\", \"2013\", \"2013\", \"2013\", \"2014\", \"2014\", \"2014\", \"2015\", \"2015\", \"2015\", \"2016\", \"2016\", \"2016\", \"2017\", \"2017\", \"2017\", \"2018\", \"2018\", \"2018\", \"1996\", \"1996\", \"1996\", \"1997\", \"1997\", \"1997\", \"1998\", \"1998\", \"1998\", \"1999\", \"1999\", \"1999\", \"2000\", \"2000\", \"2000\", \"2001\", \"2001\", \"2001\", \"2002\", \"2002\", \"2002\", \"2003\", \"2003\", \"2003\", \"2004\", \"2004\", \"2004\", \"2005\", \"2005\", \"2005\", \"2006\", \"2006\", \"2006\", \"2007\", \"2007\", \"2007\", \"2008\", \"2008\", \"2008\", \"2009\", \"2009\", \"2009\", \"2010\", \"2010\", \"2010\", \"2011\", \"2011\", \"2011\", \"2012\", \"2012\", \"2012\", \"2013\", \"2013\", \"2013\", \"2014\", \"2014\", \"2014\", \"2015\", \"2015\", \"2015\", \"2016\", \"2016\", \"2016\", \"2017\", \"2017\", \"2017\", \"2018\", \"2018\", \"2018\", \"1996\", \"1996\", \"1996\", \"1997\", \"1997\", \"1997\", \"1998\", \"1998\", \"1998\", \"1999\", \"1999\", \"1999\", \"2000\", \"2000\", \"2000\", \"2001\", \"2001\", \"2001\", \"2002\", \"2002\", \"2002\", \"2003\", \"2003\", \"2003\", \"2004\", \"2004\", \"2004\", \"2005\", \"2005\", \"2005\", \"2006\", \"2006\", \"2006\", \"2007\", \"2007\", \"2007\", \"2008\", \"2008\", \"2008\", \"2009\", \"2009\", \"2009\", \"2010\", \"2010\", \"2010\", \"2011\", \"2011\", \"2011\", \"2012\", \"2012\", \"2012\", \"2013\", \"2013\", \"2013\", \"2014\", \"2014\", \"2014\", \"2015\", \"2015\", \"2015\", \"2016\", \"2016\", \"2016\", \"2017\", \"2017\", \"2017\", \"2018\", \"2018\", \"2018\", \"1996\", \"1996\", \"1996\", \"1997\", \"1997\", \"1997\", \"1998\", \"1998\", \"1998\", \"1999\", \"1999\", \"1999\", \"2000\", \"2000\", \"2000\", \"2001\", \"2001\", \"2001\", \"2002\", \"2002\", \"2002\", \"2003\", \"2003\", \"2003\", \"2004\", \"2004\", \"2004\", \"2005\", \"2005\", \"2005\", \"2006\", \"2006\", \"2006\", \"2007\", \"2007\", \"2007\", \"2008\", \"2008\", \"2008\", \"2009\", \"2009\", \"2009\", \"2010\", \"2010\", \"2010\", \"2011\", \"2011\", \"2011\", \"2012\", \"2012\", \"2012\", \"2013\", \"2013\", \"2013\", \"2014\", \"2014\", \"2014\", \"2015\", \"2015\", \"2015\", \"2016\", \"2016\", \"2016\", \"2017\", \"2017\", \"2017\", \"2018\", \"2018\", \"2018\", \"1996\", \"1996\", \"1996\", \"1997\", \"1997\", \"1997\", \"1998\", \"1998\", \"1998\", \"1999\", \"1999\", \"1999\", \"2000\", \"2000\", \"2000\", \"2001\", \"2001\", \"2001\", \"2002\", \"2002\", \"2002\", \"2003\", \"2003\", \"2003\", \"2004\", \"2004\", \"2004\", \"2005\", \"2005\", \"2005\", \"2006\", \"2006\", \"2006\", \"2007\", \"2007\", \"2007\", \"2008\", \"2008\", \"2008\", \"2009\", \"2009\", \"2009\", \"2010\", \"2010\", \"2010\", \"2011\", \"2011\", \"2011\", \"2012\", \"2012\", \"2012\", \"2013\", \"2013\", \"2013\", \"2014\", \"2014\", \"2014\", \"2015\", \"2015\", \"2015\", \"2016\", \"2016\", \"2016\", \"2017\", \"2017\", \"2017\", \"2018\", \"2018\", \"2018\", \"1996\", \"1996\", \"1996\", \"1997\", \"1997\", \"1997\", \"1998\", \"1998\", \"1998\", \"1999\", \"1999\", \"1999\", \"2000\", \"2000\", \"2000\", \"2001\", \"2001\", \"2001\", \"2002\", \"2002\", \"2002\", \"2003\", \"2003\", \"2003\", \"2004\", \"2004\", \"2004\", \"2005\", \"2005\", \"2005\", \"2006\", \"2006\", \"2006\", \"2007\", \"2007\", \"2007\", \"2008\", \"2008\", \"2008\", \"2009\", \"2009\", \"2009\", \"2010\", \"2010\", \"2010\", \"2011\", \"2011\", \"2011\", \"2012\", \"2012\", \"2012\", \"2013\", \"2013\", \"2013\", \"2014\", \"2014\", \"2014\", \"2015\", \"2015\", \"2015\", \"2016\", \"2016\", \"2016\", \"2017\", \"2017\", \"2017\", \"2018\", \"2018\", \"2018\", \"1996\", \"1996\", \"1996\", \"1997\", \"1997\", \"1997\", \"1998\", \"1998\", \"1998\", \"1999\", \"1999\", \"1999\", \"2000\", \"2000\", \"2000\", \"2001\", \"2001\", \"2001\", \"2002\", \"2002\", \"2002\", \"2003\", \"2003\", \"2003\", \"2004\", \"2004\", \"2004\", \"2005\", \"2005\", \"2005\", \"2006\", \"2006\", \"2006\", \"2007\", \"2007\", \"2007\", \"2008\", \"2008\", \"2008\", \"2009\", \"2009\", \"2009\", \"2010\", \"2010\", \"2010\", \"2011\", \"2011\", \"2011\", \"2012\", \"2012\", \"2012\", \"2013\", \"2013\", \"2013\", \"2014\", \"2014\", \"2014\", \"2015\", \"2015\", \"2015\", \"2016\", \"2016\", \"2016\", \"2017\", \"2017\", \"2017\", \"2018\", \"2018\", \"2018\", \"1996\", \"1996\", \"1996\", \"1997\", \"1997\", \"1997\", \"1998\", \"1998\", \"1998\", \"1999\", \"1999\", \"1999\", \"2000\", \"2000\", \"2000\", \"2001\", \"2001\", \"2001\", \"2002\", \"2002\", \"2002\", \"2003\", \"2003\", \"2003\", \"2004\", \"2004\", \"2004\", \"2005\", \"2005\", \"2005\", \"2006\", \"2006\", \"2006\", \"2007\", \"2007\", \"2007\", \"2008\", \"2008\", \"2008\", \"2009\", \"2009\", \"2009\", \"2010\", \"2010\", \"2010\", \"2011\", \"2011\", \"2011\", \"2012\", \"2012\", \"2012\", \"2013\", \"2013\", \"2013\", \"2014\", \"2014\", \"2014\", \"2015\", \"2015\", \"2015\", \"2016\", \"2016\", \"2016\", \"2017\", \"2017\", \"2017\", \"2018\", \"2018\", \"2018\", \"1996\", \"1996\", \"1996\", \"1997\", \"1997\", \"1997\", \"1998\", \"1998\", \"1998\", \"1999\", \"1999\", \"1999\", \"2000\", \"2000\", \"2000\", \"2001\", \"2001\", \"2001\", \"2002\", \"2002\", \"2002\", \"2003\", \"2003\", \"2003\", \"2004\", \"2004\", \"2004\", \"2005\", \"2005\", \"2005\", \"2006\", \"2006\", \"2006\", \"2007\", \"2007\", \"2007\", \"2008\", \"2008\", \"2008\", \"2009\", \"2009\", \"2009\", \"2010\", \"2010\", \"2010\", \"2011\", \"2011\", \"2011\", \"2012\", \"2012\", \"2012\", \"2013\", \"2013\", \"2013\", \"2014\", \"2014\", \"2014\", \"2015\", \"2015\", \"2015\", \"2016\", \"2016\", \"2016\", \"2017\", \"2017\", \"2017\", \"2018\", \"2018\", \"2018\", \"1996\", \"1996\", \"1996\", \"1997\", \"1997\", \"1997\", \"1998\", \"1998\", \"1998\", \"1999\", \"1999\", \"1999\", \"2000\", \"2000\", \"2000\", \"2001\", \"2001\", \"2001\", \"2002\", \"2002\", \"2002\", \"2003\", \"2003\", \"2003\", \"2004\", \"2004\", \"2004\", \"2005\", \"2005\", \"2005\", \"2006\", \"2006\", \"2006\", \"2007\", \"2007\", \"2007\", \"2008\", \"2008\", \"2008\", \"2009\", \"2009\", \"2009\", \"2010\", \"2010\", \"2010\", \"2011\", \"2011\", \"2011\", \"2012\", \"2012\", \"2012\", \"2013\", \"2013\", \"2013\", \"2014\", \"2014\", \"2014\", \"2015\", \"2015\", \"2015\", \"2016\", \"2016\", \"2016\", \"2017\", \"2017\", \"2017\", \"2018\", \"2018\", \"2018\", \"1996\", \"1996\", \"1996\", \"1997\", \"1997\", \"1997\", \"1998\", \"1998\", \"1998\", \"1999\", \"1999\", \"1999\", \"2000\", \"2000\", \"2000\", \"2001\", \"2001\", \"2001\", \"2002\", \"2002\", \"2002\", \"2003\", \"2003\", \"2003\", \"2004\", \"2004\", \"2004\", \"2005\", \"2005\", \"2005\", \"2006\", \"2006\", \"2006\", \"2007\", \"2007\", \"2007\", \"2008\", \"2008\", \"2008\", \"2009\", \"2009\", \"2009\", \"2010\", \"2010\", \"2010\", \"2011\", \"2011\", \"2011\", \"2012\", \"2012\", \"2012\", \"2013\", \"2013\", \"2013\", \"2014\", \"2014\", \"2014\", \"2015\", \"2015\", \"2015\", \"2016\", \"2016\", \"2016\", \"2017\", \"2017\", \"2017\", \"2018\", \"2018\", \"2018\", \"1996\", \"1996\", \"1996\", \"1997\", \"1997\", \"1997\", \"1998\", \"1998\", \"1998\", \"1999\", \"1999\", \"1999\", \"2000\", \"2000\", \"2000\", \"2001\", \"2001\", \"2001\", \"2002\", \"2002\", \"2002\", \"2003\", \"2003\", \"2003\", \"2004\", \"2004\", \"2004\", \"2005\", \"2005\", \"2005\", \"2006\", \"2006\", \"2006\", \"2007\", \"2007\", \"2007\", \"2008\", \"2008\", \"2008\", \"2009\", \"2009\", \"2009\", \"2010\", \"2010\", \"2010\", \"2011\", \"2011\", \"2011\", \"2012\", \"2012\", \"2012\", \"2013\", \"2013\", \"2013\", \"2014\", \"2014\", \"2014\", \"2015\", \"2015\", \"2015\", \"2016\", \"2016\", \"2016\", \"2017\", \"2017\", \"2017\", \"2018\", \"2018\", \"2018\", \"1996\", \"1996\", \"1996\", \"1997\", \"1997\", \"1997\", \"1998\", \"1998\", \"1998\", \"1999\", \"1999\", \"1999\", \"2000\", \"2000\", \"2000\", \"2001\", \"2001\", \"2001\", \"2002\", \"2002\", \"2002\", \"2003\", \"2003\", \"2003\", \"2004\", \"2004\", \"2004\", \"2005\", \"2005\", \"2005\", \"2006\", \"2006\", \"2006\", \"2007\", \"2007\", \"2007\", \"2008\", \"2008\", \"2008\", \"2009\", \"2009\", \"2009\", \"2010\", \"2010\", \"2010\", \"2011\", \"2011\", \"2011\", \"2012\", \"2012\", \"2012\", \"2013\", \"2013\", \"2013\", \"2014\", \"2014\", \"2014\", \"2015\", \"2015\", \"2015\", \"2016\", \"2016\", \"2016\", \"2017\", \"2017\", \"2017\", \"2018\", \"2018\", \"2018\", \"1996\", \"1996\", \"1996\", \"1997\", \"1997\", \"1997\", \"1998\", \"1998\", \"1998\", \"1999\", \"1999\", \"1999\", \"2000\", \"2000\", \"2000\", \"2001\", \"2001\", \"2001\", \"2002\", \"2002\", \"2002\", \"2003\", \"2003\", \"2003\", \"2004\", \"2004\", \"2004\", \"2005\", \"2005\", \"2005\", \"2006\", \"2006\", \"2006\", \"2007\", \"2007\", \"2007\", \"2008\", \"2008\", \"2008\", \"2009\", \"2009\", \"2009\", \"2010\", \"2010\", \"2010\", \"2011\", \"2011\", \"2011\", \"2012\", \"2012\", \"2012\", \"2013\", \"2013\", \"2013\", \"2014\", \"2014\", \"2014\", \"2015\", \"2015\", \"2015\", \"2016\", \"2016\", \"2016\", \"2017\", \"2017\", \"2017\", \"2018\", \"2018\", \"2018\", \"1996\", \"1996\", \"1996\", \"1997\", \"1997\", \"1997\", \"1998\", \"1998\", \"1998\", \"1999\", \"1999\", \"1999\", \"2000\", \"2000\", \"2000\", \"2001\", \"2001\", \"2001\", \"2002\", \"2002\", \"2002\", \"2003\", \"2003\", \"2003\", \"2004\", \"2004\", \"2004\", \"2005\", \"2005\", \"2005\", \"2006\", \"2006\", \"2006\", \"2007\", \"2007\", \"2007\", \"2008\", \"2008\", \"2008\", \"2009\", \"2009\", \"2009\", \"2010\", \"2010\", \"2010\", \"2011\", \"2011\", \"2011\", \"2012\", \"2012\", \"2012\", \"2013\", \"2013\", \"2013\", \"2014\", \"2014\", \"2014\", \"2015\", \"2015\", \"2015\", \"2016\", \"2016\", \"2016\", \"2017\", \"2017\", \"2017\", \"2018\", \"2018\", \"2018\", \"1996\", \"1996\", \"1996\", \"1997\", \"1997\", \"1997\", \"1998\", \"1998\", \"1998\", \"1999\", \"1999\", \"1999\", \"2000\", \"2000\", \"2000\", \"2001\", \"2001\", \"2001\", \"2002\", \"2002\", \"2002\", \"2003\", \"2003\", \"2003\", \"2004\", \"2004\", \"2004\", \"2005\", \"2005\", \"2005\", \"2006\", \"2006\", \"2006\", \"2007\", \"2007\", \"2007\", \"2008\", \"2008\", \"2008\", \"2009\", \"2009\", \"2009\", \"2010\", \"2010\", \"2010\", \"2011\", \"2011\", \"2011\", \"2012\", \"2012\", \"2012\", \"2013\", \"2013\", \"2013\", \"2014\", \"2014\", \"2014\", \"2015\", \"2015\", \"2015\", \"2016\", \"2016\", \"2016\", \"2017\", \"2017\", \"2017\", \"2018\", \"2018\", \"2018\", \"1996\", \"1996\", \"1996\", \"1997\", \"1997\", \"1997\", \"1998\", \"1998\", \"1998\", \"1999\", \"1999\", \"1999\", \"2000\", \"2000\", \"2000\", \"2001\", \"2001\", \"2001\", \"2002\", \"2002\", \"2002\", \"2003\", \"2003\", \"2003\", \"2004\", \"2004\", \"2004\", \"2005\", \"2005\", \"2005\", \"2006\", \"2006\", \"2006\", \"2007\", \"2007\", \"2007\", \"2008\", \"2008\", \"2008\", \"2009\", \"2009\", \"2009\", \"2010\", \"2010\", \"2010\", \"2011\", \"2011\", \"2011\", \"2012\", \"2012\", \"2012\", \"2013\", \"2013\", \"2013\", \"2014\", \"2014\", \"2014\", \"2015\", \"2015\", \"2015\", \"2016\", \"2016\", \"2016\", \"2017\", \"2017\", \"2017\", \"2018\", \"2018\", \"2018\"], \"y\": [46.331363354565056, 46.48954219546796, 46.86681945017116, 45.46149041464469, 46.107902589277124, 48.71705821774919, 50.84982245578292, 47.14287089723963, 44.22347851829216, 44.46908966422275, 45.095552273411556, 44.43721581467051, 46.53814319857899, 43.32692865930359, 43.920230116021415, 45.279785086976624, 45.04521839522801, 44.49656732163748, 43.36639522170573, 43.01696121787639, 44.5543742398714, 45.11989982753325, 45.63867939140485, 28.74224277639432, 30.04986726871263, 30.403800475059384, 32.401492948573434, 33.06286498098821, 32.04297581087393, 33.25564397830831, 34.49254061165443, 34.49027550168517, 34.50129054616741, 34.3082424607836, 34.14315188396132, 35.01176739522342, 35.58710360835181, 35.203787331563, 34.85319462451251, 35.73989297211422, 36.05793450881612, 35.30076219834047, 36.509920075723336, 38.97820229173251, 37.27372077170279, 36.91006816990037, 25.389830310020113, 24.99189018205624, 25.038446581347664, 24.827752591296676, 26.08845208845209, 27.60634023788611, 28.328832423383094, 30.22376769706686, 31.95870866132266, 30.83780579413708, 31.630129763080856, 30.996949244592916, 30.747765923305366, 30.10357621431719, 30.079398144318425, 31.324421452950663, 31.1036233667966, 28.661940508500734, 28.886773260000513, 28.61667025156859, 29.227413650260303, 30.216729495796237, 31.049540119726775, 25.578846770427294, 25.72588592823507, 26.786936656453737, 26.655759999669808, 26.863624973197243, 27.302485250122604, 27.97536782887909, 29.807268369119054, 29.406440152106267, 27.95221029678586, 28.505866412395026, 27.929529691898725, 27.310840021575412, 26.285123664106703, 25.616180833956196, 25.414299729775053, 27.50016439450867, 28.272484394394077, 27.467518673216084, 27.40221290976613, 28.684249701509014, 29.374474626727533, 29.413456376370302, 55.0395670210303, 55.85662818283424, 56.995852913829545, 58.98202632350784, 60.71264174459593, 61.64545229809357, 63.226974515222736, 61.753026072363085, 60.47510598681457, 60.15013387037307, 61.560111859800784, 62.037173376346246, 62.28802336142104, 61.483665662196884, 59.97769865323129, 60.853517121911885, 61.36360564422327, 59.718303451148834, 59.12648760859365, 59.65533986112772, 62.1730634832342, 62.067126113716355, 62.65871252655626, 42.90705712938029, 42.6653118061044, 44.21544144884223, 45.33013247797304, 47.76707752913942, 49.57273229736304, 50.2831688330275, 51.90470707148249, 52.730478486286195, 54.04303051460019, 54.76000206228089, 55.69499389688445, 55.52331712837925, 54.321446895844026, 55.67126415501866, 56.793600808145364, 56.18462336315312, 55.304069442094715, 55.2699423718532, 55.048244043230035, 56.98439471412444, 58.35927417307728, 59.47050123342129, 36.26995422739513, 36.79360978707595, 37.32671951567371, 38.44587530502643, 40.062106220729774, 41.851523718061436, 43.15900060153688, 44.9332114378587, 47.48783357999295, 48.17105074331165, 48.05729138233954, 48.088955936584505, 49.25043227444801, 48.82752672419912, 49.12419971640957, 49.236244725918404, 50.03527779011884, 49.44268616537524, 51.247240720234984, 51.024542551594664, 51.82419825373427, 52.855366754802766, 53.14038879128511, 45.541352594194116, 46.55454341820354, 48.38374764790983, 50.04843161953039, 52.02196733946162, 54.18665819966445, 54.31151706885821, 50.99729769645587, 50.66220532562593, 50.58323219963291, 52.49492048488668, 54.81033423433106, 54.705908595020546, 54.6642380085003, 54.75117425997843, 55.22127725875608, 54.12488888075201, 53.6109600467777, 53.984874807538716, 56.181711596347974, 54.34237290270305, 54.301429863947305, 55.398449928962165, 46.74930936778046, 47.01253896294711, 48.374664981703184, 49.68056696099967, 50.61674572999797, 52.31299172674069, 53.47723313042748, 54.706648637361766, 55.20881281150527, 55.20872679803608, 56.584545658645155, 56.60019823728849, 57.16754287241314, 56.176889355045375, 55.8202386977259, 55.28546416881574, 56.262080377640046, 57.37466469794759, 57.54480716864434, 57.16783216783217, 58.066940955476085, 59.273176278012826, 59.55749046027328, 46.36277485315421, 45.31973778825733, 46.696738753276506, 49.04787090597033, 49.7733353695146, 51.67754185219378, 53.34574980119701, 54.192785556097746, 54.661928480415675, 53.334157778121295, 53.80579264026865, 55.01126864448451, 55.96572688739846, 55.38563270213406, 55.156837535245806, 54.54809121560381, 54.75073213164847, 53.57781463651442, 54.96921044609287, 54.064657717873956, 54.41428242188786, 54.27550269867086, 56.41572157315837, 34.09095172879575, 34.11282341297893, 34.60364408547106, 34.35802975787133, 35.94086021505377, 37.35530002898831, 37.61147053680713, 36.92567994632386, 38.70325013607029, 36.928618141709535, 38.128579273554564, 40.52183121378215, 41.470639823819454, 40.4898785031274, 39.07862300129593, 38.968319074963865, 39.067426512347495, 38.573840988080974, 38.94745153776304, 39.52985706459485, 41.97317178710515, 42.79738641914997, 41.985567010309275, 46.512887483675854, 46.43038051767233, 46.657007018338234, 48.65555317128724, 51.14381531698249, 52.935156401234366, 53.3042131386192, 53.4949631888052, 53.90803380091359, 54.45456606654441, 55.96565899034493, 56.40119286328257, 57.12106694899474, 55.69917159880933, 55.80973129992738, 57.14219885607987, 56.8765696134919, 55.60470082726685, 55.89725459092092, 56.85625372920854, 58.23504098315894, 58.8081778513226, 58.902449107348495, 52.73766247525211, 52.85752031177753, 53.67995309895988, 53.124137296401955, 55.32351821963285, 56.01860038641648, 57.88912649676613, 58.656604755554106, 59.44125620305252, 59.1064894308002, 59.1578517303236, 59.69155452965871, 61.70898982863668, 62.06443906657293, 63.00097510399052, 63.085036659540975, 64.79355353477521, 64.51989923212945, 64.2815849692882, 64.3121292894364, 66.35967589434252, 65.88327107870296, 67.92578101843618, 47.61792929787137, 48.66654524639642, 50.47042662381421, 51.4609844867195, 54.10251463116599, 53.26113425184236, 52.56943023731587, 54.921996978890306, 55.79946938289104, 54.72261912157544, 54.69462394820407, 56.182409623764805, 57.69207439129433, 58.029928478855666, 57.29158619706091, 57.723816820887606, 58.08447625427493, 57.64548823973722, 58.37015075200915, 59.830375995986884, 59.08015077579406, 62.105565285644836, 61.72388134034088, 26.548042449704695, 26.27139375704397, 26.76377760894613, 26.908324296887614, 28.304250319680367, 30.14790831370281, 31.38317326677129, 29.471088952525548, 28.899060161750455, 26.84171253974309, 28.597956611013746, 29.92161651173783, 30.12583088666204, 29.25978717937925, 29.40161404830554, 30.198280133162196, 31.05642920527778, 29.55801529792134, 29.455515615462417, 30.50250954828131, 31.38787887819271, 31.747053580271366, 32.83590999529226, 30.133816314080352, 31.370580132697555, 32.87113534949469, 34.47886473744191, 33.64808823810924, 36.56737137857995, 37.61914443864083, 36.65197032192189, 38.19277362340933, 37.143667090421836, 38.240642976449855, 38.97572084273358, 40.32162853830275, 40.182422900393135, 41.901718094622225, 42.29127384365094, 43.032941184907365, 39.71100670439955, 40.32042312237633, 42.47432313071662, 42.31112616501575, 42.08415939177302, 44.99458548911082, 21.602984580733654, 22.095098584460224, 23.438196106850732, 24.07150159664511, 24.593155058119855, 26.39622057353719, 27.1462425273699, 27.303034283620075, 27.260227355787727, 28.293899792837625, 29.59815065457725, 29.134201564536223, 29.324914920825186, 29.259480852838216, 28.822199489876745, 28.804381699407895, 28.647340066428445, 27.104114162043903, 27.3667920541447, 28.13649640845815, 28.333391143968818, 29.196625677258858, 29.128228670251783, 45.65784244186884, 45.778863993757575, 47.16395567170371, 49.1724980657416, 51.18556230191079, 52.76498114461161, 53.52647032036742, 53.24944278782211, 53.130590648958, 54.26103866885157, 54.98363877450841, 55.46035670321786, 56.16800334175862, 55.45708679815704, 54.41659233725211, 54.55705148768947, 55.33552304770713, 56.31783515767801, 56.91321260037978, 58.53684581641163, 58.39679215648946, 59.88525348803317, 60.456523840109746, 50.15888246640794, 50.745921357078714, 52.06198532029778, 52.28473834511548, 54.70692544526287, 54.62484007320194, 55.19948016513162, 56.76642936081626, 57.59158468657544, 56.87666090517555, 56.88998565207699, 57.9083287589201, 59.66652993119018, 60.01050683249544, 60.09227499644281, 60.35262667828072, 61.37886894703629, 61.02453269984729, 61.279786603438055, 62.03917647163241, 62.67706617862285, 63.97846286527772, 64.80671139753008, 46.60918900878852, 47.561342682913235, 48.998158173801414, 51.552818174027415, 54.08256161899574, 55.63106542349212, 54.947267748334724, 51.90131272693418, 51.62570352674414, 51.23936678592222, 53.679250452030026, 55.562064724589376, 56.70026624049077, 53.337347690563895, 52.980633004397916, 53.4057925400589, 53.345698238001084, 53.67512626351072, 53.56633130145606, 55.336168345975324, 55.208029119090526, 55.10496473714939, 54.856998502318696, 53.09424228004709, 54.181289481600324, 55.18425670594134, 54.59426908214985, 58.283443175529506, 58.62095007929915, 58.196224891490864, 60.839460167187035, 58.63798204703876, 58.24189557349596, 58.59206045390142, 59.66144605227234, 59.8537260328128, 59.03434055818748, 60.29779105647255, 60.780186970779695, 61.45534729878721, 60.58715596330275, 60.843033941918875, 61.44355336212215, 61.80514046622834, 62.66820646716208, 64.13644977890081, 45.2551786358479, 46.84218491127458, 46.857632643111444, 48.10697751550344, 50.178061766999825, 51.81388416511822, 52.17737261864242, 52.29124779961728, 52.41600760980022, 53.09048365669648, 53.480945421715454, 53.988900863802336, 55.66955438681257, 53.91733255663759, 53.4917255279196, 54.8717057455978, 55.00449133147792, 53.32475665734474, 54.48929300548924, 54.00087495229986, 55.15334088682019, 57.144806633834065, 58.24277504189499]}, {\"mode\": \"markers\", \"name\": \"markers\", \"type\": \"scatter\", \"visible\": \"legendonly\", \"x\": [\"1996\", \"1996\", \"1996\", \"1997\", \"1997\", \"1997\", \"1998\", \"1998\", \"1998\", \"1999\", \"1999\", \"1999\", \"2000\", \"2000\", \"2000\", \"2001\", \"2001\", \"2001\", \"2002\", \"2002\", \"2002\", \"2003\", \"2003\", \"2003\", \"2004\", \"2004\", \"2004\", \"2005\", \"2005\", \"2005\", \"2006\", \"2006\", \"2006\", \"2007\", \"2007\", \"2007\", \"2008\", \"2008\", \"2008\", \"2009\", \"2009\", \"2009\", \"2010\", \"2010\", \"2010\", \"2011\", \"2011\", \"2011\", \"2012\", \"2012\", \"2012\", \"2013\", \"2013\", \"2013\", \"2014\", \"2014\", \"2014\", \"2015\", \"2015\", \"2015\", \"2016\", \"2016\", \"2016\", \"2017\", \"2017\", \"2017\", \"2018\", \"2018\", \"2018\", \"1996\", \"1996\", \"1996\", \"1997\", \"1997\", \"1997\", \"1998\", \"1998\", \"1998\", \"1999\", \"1999\", \"1999\", \"2000\", \"2000\", \"2000\", \"2001\", \"2001\", \"2001\", \"2002\", \"2002\", \"2002\", \"2003\", \"2003\", \"2003\", \"2004\", \"2004\", \"2004\", \"2005\", \"2005\", \"2005\", \"2006\", \"2006\", \"2006\", \"2007\", \"2007\", \"2007\", \"2008\", \"2008\", \"2008\", \"2009\", \"2009\", \"2009\", \"2010\", \"2010\", \"2010\", \"2011\", \"2011\", \"2011\", \"2012\", \"2012\", \"2012\", \"2013\", \"2013\", \"2013\", \"2014\", \"2014\", \"2014\", \"2015\", \"2015\", \"2015\", \"2016\", \"2016\", \"2016\", \"2017\", \"2017\", \"2017\", \"2018\", \"2018\", \"2018\", \"1996\", \"1996\", \"1996\", \"1997\", \"1997\", \"1997\", \"1998\", \"1998\", \"1998\", \"1999\", \"1999\", \"1999\", \"2000\", \"2000\", \"2000\", \"2001\", \"2001\", \"2001\", \"2002\", \"2002\", \"2002\", \"2003\", \"2003\", \"2003\", \"2004\", \"2004\", \"2004\", \"2005\", \"2005\", \"2005\", \"2006\", \"2006\", \"2006\", \"2007\", \"2007\", \"2007\", \"2008\", \"2008\", \"2008\", \"2009\", \"2009\", \"2009\", \"2010\", \"2010\", \"2010\", \"2011\", \"2011\", \"2011\", \"2012\", \"2012\", \"2012\", \"2013\", \"2013\", \"2013\", \"2014\", \"2014\", \"2014\", \"2015\", \"2015\", \"2015\", \"2016\", \"2016\", \"2016\", \"2017\", \"2017\", \"2017\", \"2018\", \"2018\", \"2018\", \"1996\", \"1996\", \"1996\", \"1997\", \"1997\", \"1997\", \"1998\", \"1998\", \"1998\", \"1999\", \"1999\", \"1999\", \"2000\", \"2000\", \"2000\", \"2001\", \"2001\", \"2001\", \"2002\", \"2002\", \"2002\", \"2003\", \"2003\", \"2003\", \"2004\", \"2004\", \"2004\", \"2005\", \"2005\", \"2005\", \"2006\", \"2006\", \"2006\", \"2007\", \"2007\", \"2007\", \"2008\", \"2008\", \"2008\", \"2009\", \"2009\", \"2009\", \"2010\", \"2010\", \"2010\", \"2011\", \"2011\", \"2011\", \"2012\", \"2012\", \"2012\", \"2013\", \"2013\", \"2013\", \"2014\", \"2014\", \"2014\", \"2015\", \"2015\", \"2015\", \"2016\", \"2016\", \"2016\", \"2017\", \"2017\", \"2017\", \"2018\", \"2018\", \"2018\", \"1996\", \"1996\", \"1996\", \"1997\", \"1997\", \"1997\", \"1998\", \"1998\", \"1998\", \"1999\", \"1999\", \"1999\", \"2000\", \"2000\", \"2000\", \"2001\", \"2001\", \"2001\", \"2002\", \"2002\", \"2002\", \"2003\", \"2003\", \"2003\", \"2004\", \"2004\", \"2004\", \"2005\", \"2005\", \"2005\", \"2006\", \"2006\", \"2006\", \"2007\", \"2007\", \"2007\", \"2008\", \"2008\", \"2008\", \"2009\", \"2009\", \"2009\", \"2010\", \"2010\", \"2010\", \"2011\", \"2011\", \"2011\", \"2012\", \"2012\", \"2012\", \"2013\", \"2013\", \"2013\", \"2014\", \"2014\", \"2014\", \"2015\", \"2015\", \"2015\", \"2016\", \"2016\", \"2016\", \"2017\", \"2017\", \"2017\", \"2018\", \"2018\", \"2018\", \"1996\", \"1996\", \"1996\", \"1997\", \"1997\", \"1997\", \"1998\", \"1998\", \"1998\", \"1999\", \"1999\", \"1999\", \"2000\", \"2000\", \"2000\", \"2001\", \"2001\", \"2001\", \"2002\", \"2002\", \"2002\", \"2003\", \"2003\", \"2003\", \"2004\", \"2004\", \"2004\", \"2005\", \"2005\", \"2005\", \"2006\", \"2006\", \"2006\", \"2007\", \"2007\", \"2007\", \"2008\", \"2008\", \"2008\", \"2009\", \"2009\", \"2009\", \"2010\", \"2010\", \"2010\", \"2011\", \"2011\", \"2011\", \"2012\", \"2012\", \"2012\", \"2013\", \"2013\", \"2013\", \"2014\", \"2014\", \"2014\", \"2015\", \"2015\", \"2015\", \"2016\", \"2016\", \"2016\", \"2017\", \"2017\", \"2017\", \"2018\", \"2018\", \"2018\", \"1996\", \"1996\", \"1996\", \"1997\", \"1997\", \"1997\", \"1998\", \"1998\", \"1998\", \"1999\", \"1999\", \"1999\", \"2000\", \"2000\", \"2000\", \"2001\", \"2001\", \"2001\", \"2002\", \"2002\", \"2002\", \"2003\", \"2003\", \"2003\", \"2004\", \"2004\", \"2004\", \"2005\", \"2005\", \"2005\", \"2006\", \"2006\", \"2006\", \"2007\", \"2007\", \"2007\", \"2008\", \"2008\", \"2008\", \"2009\", \"2009\", \"2009\", \"2010\", \"2010\", \"2010\", \"2011\", \"2011\", \"2011\", \"2012\", \"2012\", \"2012\", \"2013\", \"2013\", \"2013\", \"2014\", \"2014\", \"2014\", \"2015\", \"2015\", \"2015\", \"2016\", \"2016\", \"2016\", \"2017\", \"2017\", \"2017\", \"2018\", \"2018\", \"2018\", \"1996\", \"1996\", \"1996\", \"1997\", \"1997\", \"1997\", \"1998\", \"1998\", \"1998\", \"1999\", \"1999\", \"1999\", \"2000\", \"2000\", \"2000\", \"2001\", \"2001\", \"2001\", \"2002\", \"2002\", \"2002\", \"2003\", \"2003\", \"2003\", \"2004\", \"2004\", \"2004\", \"2005\", \"2005\", \"2005\", \"2006\", \"2006\", \"2006\", \"2007\", \"2007\", \"2007\", \"2008\", \"2008\", \"2008\", \"2009\", \"2009\", \"2009\", \"2010\", \"2010\", \"2010\", \"2011\", \"2011\", \"2011\", \"2012\", \"2012\", \"2012\", \"2013\", \"2013\", \"2013\", \"2014\", \"2014\", \"2014\", \"2015\", \"2015\", \"2015\", \"2016\", \"2016\", \"2016\", \"2017\", \"2017\", \"2017\", \"2018\", \"2018\", \"2018\", \"1996\", \"1996\", \"1996\", \"1997\", \"1997\", \"1997\", \"1998\", \"1998\", \"1998\", \"1999\", \"1999\", \"1999\", \"2000\", \"2000\", \"2000\", \"2001\", \"2001\", \"2001\", \"2002\", \"2002\", \"2002\", \"2003\", \"2003\", \"2003\", \"2004\", \"2004\", \"2004\", \"2005\", \"2005\", \"2005\", \"2006\", \"2006\", \"2006\", \"2007\", \"2007\", \"2007\", \"2008\", \"2008\", \"2008\", \"2009\", \"2009\", \"2009\", \"2010\", \"2010\", \"2010\", \"2011\", \"2011\", \"2011\", \"2012\", \"2012\", \"2012\", \"2013\", \"2013\", \"2013\", \"2014\", \"2014\", \"2014\", \"2015\", \"2015\", \"2015\", \"2016\", \"2016\", \"2016\", \"2017\", \"2017\", \"2017\", \"2018\", \"2018\", \"2018\", \"1996\", \"1996\", \"1996\", \"1997\", \"1997\", \"1997\", \"1998\", \"1998\", \"1998\", \"1999\", \"1999\", \"1999\", \"2000\", \"2000\", \"2000\", \"2001\", \"2001\", \"2001\", \"2002\", \"2002\", \"2002\", \"2003\", \"2003\", \"2003\", \"2004\", \"2004\", \"2004\", \"2005\", \"2005\", \"2005\", \"2006\", \"2006\", \"2006\", \"2007\", \"2007\", \"2007\", \"2008\", \"2008\", \"2008\", \"2009\", \"2009\", \"2009\", \"2010\", \"2010\", \"2010\", \"2011\", \"2011\", \"2011\", \"2012\", \"2012\", \"2012\", \"2013\", \"2013\", \"2013\", \"2014\", \"2014\", \"2014\", \"2015\", \"2015\", \"2015\", \"2016\", \"2016\", \"2016\", \"2017\", \"2017\", \"2017\", \"2018\", \"2018\", \"2018\", \"1996\", \"1996\", \"1996\", \"1997\", \"1997\", \"1997\", \"1998\", \"1998\", \"1998\", \"1999\", \"1999\", \"1999\", \"2000\", \"2000\", \"2000\", \"2001\", \"2001\", \"2001\", \"2002\", \"2002\", \"2002\", \"2003\", \"2003\", \"2003\", \"2004\", \"2004\", \"2004\", \"2005\", \"2005\", \"2005\", \"2006\", \"2006\", \"2006\", \"2007\", \"2007\", \"2007\", \"2008\", \"2008\", \"2008\", \"2009\", \"2009\", \"2009\", \"2010\", \"2010\", \"2010\", \"2011\", \"2011\", \"2011\", \"2012\", \"2012\", \"2012\", \"2013\", \"2013\", \"2013\", \"2014\", \"2014\", \"2014\", \"2015\", \"2015\", \"2015\", \"2016\", \"2016\", \"2016\", \"2017\", \"2017\", \"2017\", \"2018\", \"2018\", \"2018\", \"1996\", \"1996\", \"1996\", \"1997\", \"1997\", \"1997\", \"1998\", \"1998\", \"1998\", \"1999\", \"1999\", \"1999\", \"2000\", \"2000\", \"2000\", \"2001\", \"2001\", \"2001\", \"2002\", \"2002\", \"2002\", \"2003\", \"2003\", \"2003\", \"2004\", \"2004\", \"2004\", \"2005\", \"2005\", \"2005\", \"2006\", \"2006\", \"2006\", \"2007\", \"2007\", \"2007\", \"2008\", \"2008\", \"2008\", \"2009\", \"2009\", \"2009\", \"2010\", \"2010\", \"2010\", \"2011\", \"2011\", \"2011\", \"2012\", \"2012\", \"2012\", \"2013\", \"2013\", \"2013\", \"2014\", \"2014\", \"2014\", \"2015\", \"2015\", \"2015\", \"2016\", \"2016\", \"2016\", \"2017\", \"2017\", \"2017\", \"2018\", \"2018\", \"2018\", \"1996\", \"1996\", \"1996\", \"1997\", \"1997\", \"1997\", \"1998\", \"1998\", \"1998\", \"1999\", \"1999\", \"1999\", \"2000\", \"2000\", \"2000\", \"2001\", \"2001\", \"2001\", \"2002\", \"2002\", \"2002\", \"2003\", \"2003\", \"2003\", \"2004\", \"2004\", \"2004\", \"2005\", \"2005\", \"2005\", \"2006\", \"2006\", \"2006\", \"2007\", \"2007\", \"2007\", \"2008\", \"2008\", \"2008\", \"2009\", \"2009\", \"2009\", \"2010\", \"2010\", \"2010\", \"2011\", \"2011\", \"2011\", \"2012\", \"2012\", \"2012\", \"2013\", \"2013\", \"2013\", \"2014\", \"2014\", \"2014\", \"2015\", \"2015\", \"2015\", \"2016\", \"2016\", \"2016\", \"2017\", \"2017\", \"2017\", \"2018\", \"2018\", \"2018\", \"1996\", \"1996\", \"1996\", \"1997\", \"1997\", \"1997\", \"1998\", \"1998\", \"1998\", \"1999\", \"1999\", \"1999\", \"2000\", \"2000\", \"2000\", \"2001\", \"2001\", \"2001\", \"2002\", \"2002\", \"2002\", \"2003\", \"2003\", \"2003\", \"2004\", \"2004\", \"2004\", \"2005\", \"2005\", \"2005\", \"2006\", \"2006\", \"2006\", \"2007\", \"2007\", \"2007\", \"2008\", \"2008\", \"2008\", \"2009\", \"2009\", \"2009\", \"2010\", \"2010\", \"2010\", \"2011\", \"2011\", \"2011\", \"2012\", \"2012\", \"2012\", \"2013\", \"2013\", \"2013\", \"2014\", \"2014\", \"2014\", \"2015\", \"2015\", \"2015\", \"2016\", \"2016\", \"2016\", \"2017\", \"2017\", \"2017\", \"2018\", \"2018\", \"2018\", \"1996\", \"1996\", \"1996\", \"1997\", \"1997\", \"1997\", \"1998\", \"1998\", \"1998\", \"1999\", \"1999\", \"1999\", \"2000\", \"2000\", \"2000\", \"2001\", \"2001\", \"2001\", \"2002\", \"2002\", \"2002\", \"2003\", \"2003\", \"2003\", \"2004\", \"2004\", \"2004\", \"2005\", \"2005\", \"2005\", \"2006\", \"2006\", \"2006\", \"2007\", \"2007\", \"2007\", \"2008\", \"2008\", \"2008\", \"2009\", \"2009\", \"2009\", \"2010\", \"2010\", \"2010\", \"2011\", \"2011\", \"2011\", \"2012\", \"2012\", \"2012\", \"2013\", \"2013\", \"2013\", \"2014\", \"2014\", \"2014\", \"2015\", \"2015\", \"2015\", \"2016\", \"2016\", \"2016\", \"2017\", \"2017\", \"2017\", \"2018\", \"2018\", \"2018\", \"1996\", \"1996\", \"1996\", \"1997\", \"1997\", \"1997\", \"1998\", \"1998\", \"1998\", \"1999\", \"1999\", \"1999\", \"2000\", \"2000\", \"2000\", \"2001\", \"2001\", \"2001\", \"2002\", \"2002\", \"2002\", \"2003\", \"2003\", \"2003\", \"2004\", \"2004\", \"2004\", \"2005\", \"2005\", \"2005\", \"2006\", \"2006\", \"2006\", \"2007\", \"2007\", \"2007\", \"2008\", \"2008\", \"2008\", \"2009\", \"2009\", \"2009\", \"2010\", \"2010\", \"2010\", \"2011\", \"2011\", \"2011\", \"2012\", \"2012\", \"2012\", \"2013\", \"2013\", \"2013\", \"2014\", \"2014\", \"2014\", \"2015\", \"2015\", \"2015\", \"2016\", \"2016\", \"2016\", \"2017\", \"2017\", \"2017\", \"2018\", \"2018\", \"2018\", \"1996\", \"1996\", \"1996\", \"1997\", \"1997\", \"1997\", \"1998\", \"1998\", \"1998\", \"1999\", \"1999\", \"1999\", \"2000\", \"2000\", \"2000\", \"2001\", \"2001\", \"2001\", \"2002\", \"2002\", \"2002\", \"2003\", \"2003\", \"2003\", \"2004\", \"2004\", \"2004\", \"2005\", \"2005\", \"2005\", \"2006\", \"2006\", \"2006\", \"2007\", \"2007\", \"2007\", \"2008\", \"2008\", \"2008\", \"2009\", \"2009\", \"2009\", \"2010\", \"2010\", \"2010\", \"2011\", \"2011\", \"2011\", \"2012\", \"2012\", \"2012\", \"2013\", \"2013\", \"2013\", \"2014\", \"2014\", \"2014\", \"2015\", \"2015\", \"2015\", \"2016\", \"2016\", \"2016\", \"2017\", \"2017\", \"2017\", \"2018\", \"2018\", \"2018\", \"1996\", \"1996\", \"1996\", \"1997\", \"1997\", \"1997\", \"1998\", \"1998\", \"1998\", \"1999\", \"1999\", \"1999\", \"2000\", \"2000\", \"2000\", \"2001\", \"2001\", \"2001\", \"2002\", \"2002\", \"2002\", \"2003\", \"2003\", \"2003\", \"2004\", \"2004\", \"2004\", \"2005\", \"2005\", \"2005\", \"2006\", \"2006\", \"2006\", \"2007\", \"2007\", \"2007\", \"2008\", \"2008\", \"2008\", \"2009\", \"2009\", \"2009\", \"2010\", \"2010\", \"2010\", \"2011\", \"2011\", \"2011\", \"2012\", \"2012\", \"2012\", \"2013\", \"2013\", \"2013\", \"2014\", \"2014\", \"2014\", \"2015\", \"2015\", \"2015\", \"2016\", \"2016\", \"2016\", \"2017\", \"2017\", \"2017\", \"2018\", \"2018\", \"2018\", \"1996\", \"1996\", \"1996\", \"1997\", \"1997\", \"1997\", \"1998\", \"1998\", \"1998\", \"1999\", \"1999\", \"1999\", \"2000\", \"2000\", \"2000\", \"2001\", \"2001\", \"2001\", \"2002\", \"2002\", \"2002\", \"2003\", \"2003\", \"2003\", \"2004\", \"2004\", \"2004\", \"2005\", \"2005\", \"2005\", \"2006\", \"2006\", \"2006\", \"2007\", \"2007\", \"2007\", \"2008\", \"2008\", \"2008\", \"2009\", \"2009\", \"2009\", \"2010\", \"2010\", \"2010\", \"2011\", \"2011\", \"2011\", \"2012\", \"2012\", \"2012\", \"2013\", \"2013\", \"2013\", \"2014\", \"2014\", \"2014\", \"2015\", \"2015\", \"2015\", \"2016\", \"2016\", \"2016\", \"2017\", \"2017\", \"2017\", \"2018\", \"2018\", \"2018\", \"1996\", \"1996\", \"1996\", \"1997\", \"1997\", \"1997\", \"1998\", \"1998\", \"1998\", \"1999\", \"1999\", \"1999\", \"2000\", \"2000\", \"2000\", \"2001\", \"2001\", \"2001\", \"2002\", \"2002\", \"2002\", \"2003\", \"2003\", \"2003\", \"2004\", \"2004\", \"2004\", \"2005\", \"2005\", \"2005\", \"2006\", \"2006\", \"2006\", \"2007\", \"2007\", \"2007\", \"2008\", \"2008\", \"2008\", \"2009\", \"2009\", \"2009\", \"2010\", \"2010\", \"2010\", \"2011\", \"2011\", \"2011\", \"2012\", \"2012\", \"2012\", \"2013\", \"2013\", \"2013\", \"2014\", \"2014\", \"2014\", \"2015\", \"2015\", \"2015\", \"2016\", \"2016\", \"2016\", \"2017\", \"2017\", \"2017\", \"2018\", \"2018\", \"2018\", \"1996\", \"1996\", \"1996\", \"1997\", \"1997\", \"1997\", \"1998\", \"1998\", \"1998\", \"1999\", \"1999\", \"1999\", \"2000\", \"2000\", \"2000\", \"2001\", \"2001\", \"2001\", \"2002\", \"2002\", \"2002\", \"2003\", \"2003\", \"2003\", \"2004\", \"2004\", \"2004\", \"2005\", \"2005\", \"2005\", \"2006\", \"2006\", \"2006\", \"2007\", \"2007\", \"2007\", \"2008\", \"2008\", \"2008\", \"2009\", \"2009\", \"2009\", \"2010\", \"2010\", \"2010\", \"2011\", \"2011\", \"2011\", \"2012\", \"2012\", \"2012\", \"2013\", \"2013\", \"2013\", \"2014\", \"2014\", \"2014\", \"2015\", \"2015\", \"2015\", \"2016\", \"2016\", \"2016\", \"2017\", \"2017\", \"2017\", \"2018\", \"2018\", \"2018\", \"1996\", \"1996\", \"1996\", \"1997\", \"1997\", \"1997\", \"1998\", \"1998\", \"1998\", \"1999\", \"1999\", \"1999\", \"2000\", \"2000\", \"2000\", \"2001\", \"2001\", \"2001\", \"2002\", \"2002\", \"2002\", \"2003\", \"2003\", \"2003\", \"2004\", \"2004\", \"2004\", \"2005\", \"2005\", \"2005\", \"2006\", \"2006\", \"2006\", \"2007\", \"2007\", \"2007\", \"2008\", \"2008\", \"2008\", \"2009\", \"2009\", \"2009\", \"2010\", \"2010\", \"2010\", \"2011\", \"2011\", \"2011\", \"2012\", \"2012\", \"2012\", \"2013\", \"2013\", \"2013\", \"2014\", \"2014\", \"2014\", \"2015\", \"2015\", \"2015\", \"2016\", \"2016\", \"2016\", \"2017\", \"2017\", \"2017\", \"2018\", \"2018\", \"2018\"], \"y\": [56.01269746496099, 55.730080391741055, 55.44264132524239, 54.9928586347738, 56.31064439925625, 58.53662672257386, 59.20962561532189, 57.99203139148808, 56.40573762150423, 57.058133658787746, 57.6489829684508, 57.933096418615534, 58.807943618702566, 55.72250842898529, 55.3755758907206, 56.628213378336845, 56.661084596598435, 54.95403343065255, 53.945744989834445, 54.50147605657496, 55.73094634570936, 56.806653772493696, 58.013003484953074, 45.061381093185744, 46.18861537695697, 46.556486223695295, 47.27602296839331, 49.18316725285784, 48.63262924228208, 49.609033399645085, 49.627729109041084, 49.129930245183935, 49.16422673544949, 50.23396242075885, 49.53019889807449, 49.61185768288124, 48.384240239741146, 47.06478943563445, 47.611829906035794, 46.82904279741027, 46.17887030658617, 47.188266632974305, 49.19340735048623, 50.326368493636686, 49.49463690818968, 49.38840578135778, 42.067390858181604, 41.94982415074809, 42.40159372077557, 42.02071319725932, 43.05819717522527, 44.29469597429535, 45.27910375207954, 45.207944835516486, 46.153607890716955, 44.51882006866843, 45.44828891188041, 44.85430049404954, 44.02132005481344, 43.00418509849681, 42.10342319638673, 42.436235239709255, 41.470505021387325, 38.949236641221376, 39.31185373528202, 38.91355047662694, 39.62746032827079, 40.83779221730572, 42.152181834173064, 42.28737369201352, 42.45687496113133, 43.547884079910624, 43.30305867112907, 43.34845269861897, 44.09262708050536, 45.47075448567809, 45.7700197235566, 45.23416323016598, 44.04637067555537, 44.115417451148396, 43.666479158172876, 42.398161151105015, 40.76750471264707, 39.78443202447002, 39.35335326152051, 39.8906844869348, 39.70944365384263, 39.170285752652894, 39.576877212001406, 41.16202091394995, 42.04875369713995, 41.641068427612375, 64.05293272847472, 64.73839453974529, 65.3820306915931, 66.78046299759785, 68.03608229491164, 68.83310940139437, 69.87164129716685, 69.55666878444242, 68.34824036525536, 68.43104926614419, 69.37335379735005, 70.18662934377897, 70.15933468169918, 68.38413627948894, 67.31552784467686, 67.8036955739423, 67.5020290972183, 66.24904048946746, 66.26446355409482, 66.69938311244363, 68.39061675726508, 68.58451727550595, 69.60103249699739, 58.73941404642229, 58.78322402269016, 59.775721062821496, 60.40213076820199, 61.93878686418605, 63.58067324544451, 63.81949630894136, 63.12050881754796, 62.59793013047189, 63.15853141430258, 64.77717461531867, 65.38688264090013, 65.18461349743421, 63.477053164763795, 63.59153756455106, 64.2095065824599, 63.64205394435538, 62.9633096462011, 63.112487455646175, 63.657264776479025, 64.6627177552664, 65.7219838206581, 66.27223911841905, 50.38577888925959, 50.71951573658732, 51.091051571753084, 51.771669201743144, 52.732348483653624, 53.7049649018791, 55.606295180949175, 57.16706760210566, 58.730302882252694, 58.51703086301282, 59.38128306934828, 59.51409132328204, 60.228552033309924, 59.515639195615385, 59.12502104146535, 58.83515661748314, 58.830195930886276, 57.74939243181397, 58.76462235868685, 58.97680542651713, 59.90611470481705, 60.883121437048025, 60.90738181233459, 55.46204231305922, 55.65705636932565, 56.89579732970784, 58.16410825234058, 59.35803157427729, 61.464456978159866, 61.70813268724539, 60.466024288451145, 60.616710284311424, 60.968326150352006, 62.097453296815594, 63.46997942355157, 63.643494419975156, 63.22582497060358, 62.73829853792623, 62.97525072625928, 61.98540498284941, 60.618409057278534, 60.723078876223504, 62.384052416602785, 62.71914723664459, 62.3682240343174, 62.96090599053389, 59.58647320932388, 59.72518054049074, 60.728278907873545, 61.762284004146615, 62.57426930227968, 63.83152197637146, 64.66219595075256, 65.26248430210897, 65.49990586215024, 65.50726566370632, 66.51508934353181, 66.66997135015593, 66.91399927887677, 65.69655380623215, 64.96402184647202, 64.57302635908782, 64.52967392380089, 64.7646559729269, 64.8554639557197, 65.13575531249556, 66.22501106238308, 67.25779919319393, 67.69474850312717, 59.114353743348545, 58.21222750533697, 59.04845811286046, 60.86516185520799, 61.948538077862324, 62.54764853623068, 63.625988782046264, 64.09835024786352, 63.94769279686826, 63.45601901347062, 64.35658696854098, 64.80982923441458, 64.7091910669474, 63.62459151513209, 63.73006519748922, 62.441302678348286, 62.58250398190137, 61.051650749037975, 62.39773590143456, 62.14469395611446, 62.22628321941065, 62.18386453313144, 64.66219213162498, 49.534269493946915, 49.92960009071666, 50.17916207276737, 50.440831049048725, 51.775626281193766, 53.01519445223565, 53.278000242689, 51.790946310417766, 52.110123748703884, 51.2096009799299, 52.35075154773462, 53.59359535058337, 54.11724756845909, 52.179034157832746, 51.01333955133249, 50.26954112267408, 50.61991845105843, 47.57247386248662, 48.484387572861266, 49.38267331873043, 51.86143560135812, 51.708712823406145, 53.45486261648398, 57.6956786771448, 57.32067418004546, 57.492797894523065, 59.17983953397411, 61.041060322231274, 62.007941408912174, 62.380630768476394, 62.90418856656637, 63.46061329133876, 63.975641427483986, 64.71129298625972, 64.86576455418415, 65.18853548952652, 63.90306412626191, 63.471975183105336, 64.17793029814479, 63.63767960540425, 62.203157482126215, 62.389576647623535, 63.66582772426599, 64.4394130842883, 65.1908369450799, 65.89484988698626, 63.41215850001149, 63.22680419126754, 63.92495402715582, 63.73724140628055, 65.45039612232492, 65.46559203231685, 66.94911141523261, 68.27218626387597, 69.1740564074655, 69.02312561631199, 69.4959952498863, 69.68520860067959, 70.42289896290028, 70.37434511254477, 71.01803617063102, 70.99543468117484, 71.8053722831445, 71.44071065255648, 70.844054890378, 71.37805704797202, 72.68077454389558, 72.89322056492824, 73.5222390308778, 62.58002209288054, 62.83964569629179, 63.82803354660766, 64.89169761552733, 66.37180803876618, 66.27252091821714, 65.72540061650297, 66.12651760389208, 65.64033650913572, 65.057015095659, 65.36431478554823, 66.28254478222654, 66.68156793327434, 66.51620174194373, 65.89864336221785, 65.9235023988028, 65.3791100872584, 65.51379162498213, 65.89123155117086, 66.08388454162653, 66.04361279945921, 67.55032812536491, 68.2056730550318, 42.806000234657446, 42.1578050480392, 42.63774363195315, 43.439563573553116, 44.53775762144479, 45.4245139999121, 46.22601525562443, 45.416338372768095, 45.10304684350859, 44.3929082670831, 45.67876216347743, 46.59317008585971, 46.57913289853759, 44.90942326764622, 44.31301967835235, 44.717406032615436, 44.88059662995457, 42.333333704141666, 42.13890570045007, 43.29481774349951, 44.276280379794756, 44.51721893002306, 45.54416486477521, 47.192378619470496, 48.06097017397503, 48.69643725258698, 49.58357232194224, 49.67398932325944, 51.617997475353185, 52.37152882998019, 51.22987004201913, 51.487865685356425, 51.397359892220386, 52.10160937943584, 52.77565036934555, 52.32506742682303, 50.783691026565435, 50.96596397270589, 51.718085760030775, 51.71301649120672, 48.317612971947646, 48.554510308929224, 50.14760948953195, 50.29886075926194, 50.45695583191265, 52.73463038212919, 39.76826536338623, 40.152976811282684, 41.136882480636125, 41.263147023399995, 41.87037986748929, 43.28398315802603, 43.88376957708116, 43.255651068683434, 43.328926234697704, 44.08383824542375, 45.01780753951615, 44.55431575311309, 44.14677838914622, 43.57446616541353, 42.683882388862735, 42.37444811083778, 41.29860799603608, 39.329117767658936, 39.01483640455087, 39.97773049270459, 40.102633779453726, 40.62769354340627, 40.67349545182057, 58.89606902492728, 59.00964413336675, 59.975845431442984, 61.1261999521598, 62.6115781254137, 63.857461924689105, 64.19349345721757, 63.78625278246191, 63.28515222486507, 63.712366973971726, 64.68017152279567, 64.65971154648203, 65.25311002161854, 64.71320035279567, 63.70980385510108, 63.56544193689607, 63.74224235099203, 63.71579888833217, 63.80196463587021, 64.81351130968237, 65.3234943434551, 66.0273838053607, 66.52810649162268, 62.99242220669641, 63.031535254885206, 63.87615439759339, 64.32043767600749, 65.91631343161225, 65.87369597913887, 66.32957210128491, 67.18450700425477, 67.37773734403848, 67.00389117209849, 67.39433046085374, 67.95447152466126, 68.51815079687543, 68.40739264040847, 68.40767035190403, 68.41059246121591, 68.53492709494044, 68.4289857821872, 68.33148845103682, 68.69664544275439, 69.32655366233293, 70.20218580038434, 70.85034317960785, 57.30364734840009, 57.67166510056959, 58.28927114564182, 60.802325211199815, 62.61792099106125, 63.22960808311014, 62.27653641753679, 60.965653810586886, 61.38257186787081, 61.62180965510133, 62.789249480604646, 64.55944906184138, 65.29967027859017, 62.85624652671961, 62.583353694314205, 62.24988575604604, 61.49885288238885, 60.89721443606666, 61.02204444635089, 63.10313378628517, 62.728602779809805, 62.94327047434375, 63.044003514423785, 65.91238544507506, 66.44390291931276, 66.20165728849872, 66.3229351468559, 68.79972327914217, 70.00606563262073, 70.69213594641528, 67.52248690323218, 67.15598358843329, 66.41814759588355, 67.01526698970027, 68.18712596701212, 67.84383684664022, 66.82473651656095, 67.3412124819318, 66.88036787426097, 66.32290662338139, 65.61629781620988, 66.16930647017062, 66.18561278863233, 66.43084894380232, 67.07248195795418, 67.87480240278217, 59.2461853903078, 60.02693516321427, 60.46507163083227, 61.35193942666085, 62.82751221295372, 63.6776529618447, 63.88294862180928, 64.6844731321231, 64.39525349651471, 64.6284223251216, 65.28159791691373, 65.69468131242027, 66.44839449179666, 64.57746516437358, 64.36675025550328, 64.88681035991478, 64.90730883479131, 63.05321947249457, 63.71517914175653, 63.61311292777951, 64.73510713294971, 66.03763821915564, 66.64898476881105]}],                        {\"template\": {\"data\": {\"bar\": [{\"error_x\": {\"color\": \"#2a3f5f\"}, \"error_y\": {\"color\": \"#2a3f5f\"}, \"marker\": {\"line\": {\"color\": \"white\", \"width\": 0.5}}, \"type\": \"bar\"}], \"barpolar\": [{\"marker\": {\"line\": {\"color\": \"white\", \"width\": 0.5}}, \"type\": \"barpolar\"}], \"carpet\": [{\"aaxis\": {\"endlinecolor\": \"#2a3f5f\", \"gridcolor\": \"#C8D4E3\", \"linecolor\": \"#C8D4E3\", \"minorgridcolor\": \"#C8D4E3\", \"startlinecolor\": \"#2a3f5f\"}, \"baxis\": {\"endlinecolor\": \"#2a3f5f\", \"gridcolor\": \"#C8D4E3\", \"linecolor\": \"#C8D4E3\", \"minorgridcolor\": \"#C8D4E3\", \"startlinecolor\": \"#2a3f5f\"}, \"type\": \"carpet\"}], \"choropleth\": [{\"colorbar\": {\"outlinewidth\": 0, \"ticks\": \"\"}, \"type\": \"choropleth\"}], \"contour\": [{\"colorbar\": {\"outlinewidth\": 0, \"ticks\": \"\"}, \"colorscale\": [[0.0, \"#0d0887\"], [0.1111111111111111, \"#46039f\"], [0.2222222222222222, \"#7201a8\"], [0.3333333333333333, \"#9c179e\"], [0.4444444444444444, \"#bd3786\"], [0.5555555555555556, \"#d8576b\"], [0.6666666666666666, \"#ed7953\"], [0.7777777777777778, \"#fb9f3a\"], [0.8888888888888888, \"#fdca26\"], [1.0, \"#f0f921\"]], \"type\": \"contour\"}], \"contourcarpet\": [{\"colorbar\": {\"outlinewidth\": 0, \"ticks\": \"\"}, \"type\": \"contourcarpet\"}], \"heatmap\": [{\"colorbar\": {\"outlinewidth\": 0, \"ticks\": \"\"}, \"colorscale\": [[0.0, \"#0d0887\"], [0.1111111111111111, \"#46039f\"], [0.2222222222222222, \"#7201a8\"], [0.3333333333333333, \"#9c179e\"], [0.4444444444444444, \"#bd3786\"], [0.5555555555555556, \"#d8576b\"], [0.6666666666666666, \"#ed7953\"], [0.7777777777777778, \"#fb9f3a\"], [0.8888888888888888, \"#fdca26\"], [1.0, \"#f0f921\"]], \"type\": \"heatmap\"}], \"heatmapgl\": [{\"colorbar\": {\"outlinewidth\": 0, \"ticks\": \"\"}, \"colorscale\": [[0.0, \"#0d0887\"], [0.1111111111111111, \"#46039f\"], [0.2222222222222222, \"#7201a8\"], [0.3333333333333333, \"#9c179e\"], [0.4444444444444444, \"#bd3786\"], [0.5555555555555556, \"#d8576b\"], [0.6666666666666666, \"#ed7953\"], [0.7777777777777778, \"#fb9f3a\"], [0.8888888888888888, \"#fdca26\"], [1.0, \"#f0f921\"]], \"type\": \"heatmapgl\"}], \"histogram\": [{\"marker\": {\"colorbar\": {\"outlinewidth\": 0, \"ticks\": \"\"}}, \"type\": \"histogram\"}], \"histogram2d\": [{\"colorbar\": {\"outlinewidth\": 0, \"ticks\": \"\"}, \"colorscale\": [[0.0, \"#0d0887\"], [0.1111111111111111, \"#46039f\"], [0.2222222222222222, \"#7201a8\"], [0.3333333333333333, \"#9c179e\"], [0.4444444444444444, \"#bd3786\"], [0.5555555555555556, \"#d8576b\"], [0.6666666666666666, \"#ed7953\"], [0.7777777777777778, \"#fb9f3a\"], [0.8888888888888888, \"#fdca26\"], [1.0, \"#f0f921\"]], \"type\": \"histogram2d\"}], \"histogram2dcontour\": [{\"colorbar\": {\"outlinewidth\": 0, \"ticks\": \"\"}, \"colorscale\": [[0.0, \"#0d0887\"], [0.1111111111111111, \"#46039f\"], [0.2222222222222222, \"#7201a8\"], [0.3333333333333333, \"#9c179e\"], [0.4444444444444444, \"#bd3786\"], [0.5555555555555556, \"#d8576b\"], [0.6666666666666666, \"#ed7953\"], [0.7777777777777778, \"#fb9f3a\"], [0.8888888888888888, \"#fdca26\"], [1.0, \"#f0f921\"]], \"type\": \"histogram2dcontour\"}], \"mesh3d\": [{\"colorbar\": {\"outlinewidth\": 0, \"ticks\": \"\"}, \"type\": \"mesh3d\"}], \"parcoords\": [{\"line\": {\"colorbar\": {\"outlinewidth\": 0, \"ticks\": \"\"}}, \"type\": \"parcoords\"}], \"pie\": [{\"automargin\": true, \"type\": \"pie\"}], \"scatter\": [{\"marker\": {\"colorbar\": {\"outlinewidth\": 0, \"ticks\": \"\"}}, \"type\": \"scatter\"}], \"scatter3d\": [{\"line\": {\"colorbar\": {\"outlinewidth\": 0, \"ticks\": \"\"}}, \"marker\": {\"colorbar\": {\"outlinewidth\": 0, \"ticks\": \"\"}}, \"type\": \"scatter3d\"}], \"scattercarpet\": [{\"marker\": {\"colorbar\": {\"outlinewidth\": 0, \"ticks\": \"\"}}, \"type\": \"scattercarpet\"}], \"scattergeo\": [{\"marker\": {\"colorbar\": {\"outlinewidth\": 0, \"ticks\": \"\"}}, \"type\": \"scattergeo\"}], \"scattergl\": [{\"marker\": {\"colorbar\": {\"outlinewidth\": 0, \"ticks\": \"\"}}, \"type\": \"scattergl\"}], \"scattermapbox\": [{\"marker\": {\"colorbar\": {\"outlinewidth\": 0, \"ticks\": \"\"}}, \"type\": \"scattermapbox\"}], \"scatterpolar\": [{\"marker\": {\"colorbar\": {\"outlinewidth\": 0, \"ticks\": \"\"}}, \"type\": \"scatterpolar\"}], \"scatterpolargl\": [{\"marker\": {\"colorbar\": {\"outlinewidth\": 0, \"ticks\": \"\"}}, \"type\": \"scatterpolargl\"}], \"scatterternary\": [{\"marker\": {\"colorbar\": {\"outlinewidth\": 0, \"ticks\": \"\"}}, \"type\": \"scatterternary\"}], \"surface\": [{\"colorbar\": {\"outlinewidth\": 0, \"ticks\": \"\"}, \"colorscale\": [[0.0, \"#0d0887\"], [0.1111111111111111, \"#46039f\"], [0.2222222222222222, \"#7201a8\"], [0.3333333333333333, \"#9c179e\"], [0.4444444444444444, \"#bd3786\"], [0.5555555555555556, \"#d8576b\"], [0.6666666666666666, \"#ed7953\"], [0.7777777777777778, \"#fb9f3a\"], [0.8888888888888888, \"#fdca26\"], [1.0, \"#f0f921\"]], \"type\": \"surface\"}], \"table\": [{\"cells\": {\"fill\": {\"color\": \"#EBF0F8\"}, \"line\": {\"color\": \"white\"}}, \"header\": {\"fill\": {\"color\": \"#C8D4E3\"}, \"line\": {\"color\": \"white\"}}, \"type\": \"table\"}]}, \"layout\": {\"annotationdefaults\": {\"arrowcolor\": \"#2a3f5f\", \"arrowhead\": 0, \"arrowwidth\": 1}, \"autotypenumbers\": \"strict\", \"coloraxis\": {\"colorbar\": {\"outlinewidth\": 0, \"ticks\": \"\"}}, \"colorscale\": {\"diverging\": [[0, \"#8e0152\"], [0.1, \"#c51b7d\"], [0.2, \"#de77ae\"], [0.3, \"#f1b6da\"], [0.4, \"#fde0ef\"], [0.5, \"#f7f7f7\"], [0.6, \"#e6f5d0\"], [0.7, \"#b8e186\"], [0.8, \"#7fbc41\"], [0.9, \"#4d9221\"], [1, \"#276419\"]], \"sequential\": [[0.0, \"#0d0887\"], [0.1111111111111111, \"#46039f\"], [0.2222222222222222, \"#7201a8\"], [0.3333333333333333, \"#9c179e\"], [0.4444444444444444, \"#bd3786\"], [0.5555555555555556, \"#d8576b\"], [0.6666666666666666, \"#ed7953\"], [0.7777777777777778, \"#fb9f3a\"], [0.8888888888888888, \"#fdca26\"], [1.0, \"#f0f921\"]], \"sequentialminus\": [[0.0, \"#0d0887\"], [0.1111111111111111, \"#46039f\"], [0.2222222222222222, \"#7201a8\"], [0.3333333333333333, \"#9c179e\"], [0.4444444444444444, \"#bd3786\"], [0.5555555555555556, \"#d8576b\"], [0.6666666666666666, \"#ed7953\"], [0.7777777777777778, \"#fb9f3a\"], [0.8888888888888888, \"#fdca26\"], [1.0, \"#f0f921\"]]}, \"colorway\": [\"#636efa\", \"#EF553B\", \"#00cc96\", \"#ab63fa\", \"#FFA15A\", \"#19d3f3\", \"#FF6692\", \"#B6E880\", \"#FF97FF\", \"#FECB52\"], \"font\": {\"color\": \"#2a3f5f\"}, \"geo\": {\"bgcolor\": \"white\", \"lakecolor\": \"white\", \"landcolor\": \"white\", \"showlakes\": true, \"showland\": true, \"subunitcolor\": \"#C8D4E3\"}, \"hoverlabel\": {\"align\": \"left\"}, \"hovermode\": \"closest\", \"mapbox\": {\"style\": \"light\"}, \"paper_bgcolor\": \"white\", \"plot_bgcolor\": \"white\", \"polar\": {\"angularaxis\": {\"gridcolor\": \"#EBF0F8\", \"linecolor\": \"#EBF0F8\", \"ticks\": \"\"}, \"bgcolor\": \"white\", \"radialaxis\": {\"gridcolor\": \"#EBF0F8\", \"linecolor\": \"#EBF0F8\", \"ticks\": \"\"}}, \"scene\": {\"xaxis\": {\"backgroundcolor\": \"white\", \"gridcolor\": \"#DFE8F3\", \"gridwidth\": 2, \"linecolor\": \"#EBF0F8\", \"showbackground\": true, \"ticks\": \"\", \"zerolinecolor\": \"#EBF0F8\"}, \"yaxis\": {\"backgroundcolor\": \"white\", \"gridcolor\": \"#DFE8F3\", \"gridwidth\": 2, \"linecolor\": \"#EBF0F8\", \"showbackground\": true, \"ticks\": \"\", \"zerolinecolor\": \"#EBF0F8\"}, \"zaxis\": {\"backgroundcolor\": \"white\", \"gridcolor\": \"#DFE8F3\", \"gridwidth\": 2, \"linecolor\": \"#EBF0F8\", \"showbackground\": true, \"ticks\": \"\", \"zerolinecolor\": \"#EBF0F8\"}}, \"shapedefaults\": {\"line\": {\"color\": \"#2a3f5f\"}}, \"ternary\": {\"aaxis\": {\"gridcolor\": \"#DFE8F3\", \"linecolor\": \"#A2B1C6\", \"ticks\": \"\"}, \"baxis\": {\"gridcolor\": \"#DFE8F3\", \"linecolor\": \"#A2B1C6\", \"ticks\": \"\"}, \"bgcolor\": \"white\", \"caxis\": {\"gridcolor\": \"#DFE8F3\", \"linecolor\": \"#A2B1C6\", \"ticks\": \"\"}}, \"title\": {\"x\": 0.05}, \"xaxis\": {\"automargin\": true, \"gridcolor\": \"#EBF0F8\", \"linecolor\": \"#EBF0F8\", \"ticks\": \"\", \"title\": {\"standoff\": 15}, \"zerolinecolor\": \"#EBF0F8\", \"zerolinewidth\": 2}, \"yaxis\": {\"automargin\": true, \"gridcolor\": \"#EBF0F8\", \"linecolor\": \"#EBF0F8\", \"ticks\": \"\", \"title\": {\"standoff\": 15}, \"zerolinecolor\": \"#EBF0F8\", \"zerolinewidth\": 2}}}},                        {\"responsive\": true}                    ).then(function(){\n",
       "                            \n",
       "var gd = document.getElementById('7589e48e-e3b3-4048-ba54-de45535a9b0c');\n",
       "var x = new MutationObserver(function (mutations, observer) {{\n",
       "        var display = window.getComputedStyle(gd).display;\n",
       "        if (!display || display === 'none') {{\n",
       "            console.log([gd, 'removed!']);\n",
       "            Plotly.purge(gd);\n",
       "            observer.disconnect();\n",
       "        }}\n",
       "}});\n",
       "\n",
       "// Listen for the removal of the full notebook cells\n",
       "var notebookContainer = gd.closest('#notebook-container');\n",
       "if (notebookContainer) {{\n",
       "    x.observe(notebookContainer, {childList: true});\n",
       "}}\n",
       "\n",
       "// Listen for the clearing of the current output cell\n",
       "var outputEl = gd.closest('.output');\n",
       "if (outputEl) {{\n",
       "    x.observe(outputEl, {childList: true});\n",
       "}}\n",
       "\n",
       "                        })                };                });            </script>        </div>"
      ]
     },
     "metadata": {},
     "output_type": "display_data"
    }
   ],
   "source": [
    "df8 = df_pivot[(df_pivot.index.get_level_values(4) == '15-64 anni')]\n",
    "\n",
    "# Create traces\n",
    "fig = go.Figure()\n",
    "fig.add_trace(go.Scatter(x=df8.index.get_level_values(2), y=df8.tasso_occupazione[(df8.index.get_level_values(3)=='maschi')],\n",
    "                    mode='lines',\n",
    "                    name='lines', visible = \"legendonly\"))\n",
    "fig.add_trace(go.Scatter(x=df8.index.get_level_values(2), y=df8.tasso_occupazione[(df8.index.get_level_values(3)=='femmine')],\n",
    "                    mode='lines+markers',\n",
    "                    name='lines+markers', visible = \"legendonly\"))\n",
    "fig.add_trace(go.Scatter(x=df8.index.get_level_values(2), y=df8.tasso_occupazione[(df8.index.get_level_values(3)=='totale')],\n",
    "                    mode='markers', name='markers', visible = \"legendonly\"))\n",
    "\n",
    "fig.show()"
   ]
  },
  {
   "cell_type": "code",
   "execution_count": 74,
   "metadata": {},
   "outputs": [
    {
     "data": {
      "text/html": [
       "<div>\n",
       "<style scoped>\n",
       "    .dataframe tbody tr th:only-of-type {\n",
       "        vertical-align: middle;\n",
       "    }\n",
       "\n",
       "    .dataframe tbody tr th {\n",
       "        vertical-align: top;\n",
       "    }\n",
       "\n",
       "    .dataframe thead th {\n",
       "        text-align: right;\n",
       "    }\n",
       "</style>\n",
       "<table border=\"1\" class=\"dataframe\">\n",
       "  <thead>\n",
       "    <tr style=\"text-align: right;\">\n",
       "      <th></th>\n",
       "      <th>condizione professionale</th>\n",
       "      <th>disoccupati</th>\n",
       "      <th>forze lavoro</th>\n",
       "      <th>inattivi</th>\n",
       "      <th>non cercano e non disponibili a lavorare</th>\n",
       "      <th>occupati</th>\n",
       "      <th>totale</th>\n",
       "      <th>zona grigia dell'inattività</th>\n",
       "      <th>tasso_occupazione</th>\n",
       "      <th>tasso_disoccupazione</th>\n",
       "      <th>tasso_attività</th>\n",
       "      <th>tasso_inattività</th>\n",
       "    </tr>\n",
       "    <tr>\n",
       "      <th>zona</th>\n",
       "      <th>time</th>\n",
       "      <th></th>\n",
       "      <th></th>\n",
       "      <th></th>\n",
       "      <th></th>\n",
       "      <th></th>\n",
       "      <th></th>\n",
       "      <th></th>\n",
       "      <th></th>\n",
       "      <th></th>\n",
       "      <th></th>\n",
       "      <th></th>\n",
       "    </tr>\n",
       "  </thead>\n",
       "  <tbody>\n",
       "    <tr>\n",
       "      <th rowspan=\"5\" valign=\"top\">Centro</th>\n",
       "      <th>1996</th>\n",
       "      <td>109469.00</td>\n",
       "      <td>1121652.00</td>\n",
       "      <td>728527.75</td>\n",
       "      <td>0.0</td>\n",
       "      <td>1012182.75</td>\n",
       "      <td>1850179.50</td>\n",
       "      <td>0.0</td>\n",
       "      <td>56.424962</td>\n",
       "      <td>9.052484</td>\n",
       "      <td>61.989994</td>\n",
       "      <td>38.010013</td>\n",
       "    </tr>\n",
       "    <tr>\n",
       "      <th>1997</th>\n",
       "      <td>107672.25</td>\n",
       "      <td>1117259.75</td>\n",
       "      <td>724455.50</td>\n",
       "      <td>0.0</td>\n",
       "      <td>1009587.50</td>\n",
       "      <td>1841715.00</td>\n",
       "      <td>0.0</td>\n",
       "      <td>56.403263</td>\n",
       "      <td>8.906960</td>\n",
       "      <td>61.869790</td>\n",
       "      <td>38.130217</td>\n",
       "    </tr>\n",
       "    <tr>\n",
       "      <th>1998</th>\n",
       "      <td>105329.75</td>\n",
       "      <td>1122822.75</td>\n",
       "      <td>711804.25</td>\n",
       "      <td>0.0</td>\n",
       "      <td>1017493.25</td>\n",
       "      <td>1834627.25</td>\n",
       "      <td>0.0</td>\n",
       "      <td>57.101157</td>\n",
       "      <td>8.599548</td>\n",
       "      <td>62.422181</td>\n",
       "      <td>37.577812</td>\n",
       "    </tr>\n",
       "    <tr>\n",
       "      <th>1999</th>\n",
       "      <td>102620.50</td>\n",
       "      <td>1136328.75</td>\n",
       "      <td>690694.50</td>\n",
       "      <td>0.0</td>\n",
       "      <td>1033708.25</td>\n",
       "      <td>1827023.75</td>\n",
       "      <td>0.0</td>\n",
       "      <td>58.641339</td>\n",
       "      <td>8.178010</td>\n",
       "      <td>63.800830</td>\n",
       "      <td>36.199152</td>\n",
       "    </tr>\n",
       "    <tr>\n",
       "      <th>2000</th>\n",
       "      <td>93365.25</td>\n",
       "      <td>1145036.75</td>\n",
       "      <td>674709.25</td>\n",
       "      <td>0.0</td>\n",
       "      <td>1051671.50</td>\n",
       "      <td>1819745.75</td>\n",
       "      <td>0.0</td>\n",
       "      <td>59.977596</td>\n",
       "      <td>7.192054</td>\n",
       "      <td>64.555989</td>\n",
       "      <td>35.444037</td>\n",
       "    </tr>\n",
       "  </tbody>\n",
       "</table>\n",
       "</div>"
      ],
      "text/plain": [
       "condizione professionale  disoccupati  forze lavoro   inattivi  \\\n",
       "zona   time                                                      \n",
       "Centro 1996                 109469.00    1121652.00  728527.75   \n",
       "       1997                 107672.25    1117259.75  724455.50   \n",
       "       1998                 105329.75    1122822.75  711804.25   \n",
       "       1999                 102620.50    1136328.75  690694.50   \n",
       "       2000                  93365.25    1145036.75  674709.25   \n",
       "\n",
       "condizione professionale  non cercano e non disponibili a lavorare  \\\n",
       "zona   time                                                          \n",
       "Centro 1996                                                    0.0   \n",
       "       1997                                                    0.0   \n",
       "       1998                                                    0.0   \n",
       "       1999                                                    0.0   \n",
       "       2000                                                    0.0   \n",
       "\n",
       "condizione professionale    occupati      totale  zona grigia dell'inattività  \\\n",
       "zona   time                                                                     \n",
       "Centro 1996               1012182.75  1850179.50                          0.0   \n",
       "       1997               1009587.50  1841715.00                          0.0   \n",
       "       1998               1017493.25  1834627.25                          0.0   \n",
       "       1999               1033708.25  1827023.75                          0.0   \n",
       "       2000               1051671.50  1819745.75                          0.0   \n",
       "\n",
       "condizione professionale  tasso_occupazione  tasso_disoccupazione  \\\n",
       "zona   time                                                         \n",
       "Centro 1996                       56.424962              9.052484   \n",
       "       1997                       56.403263              8.906960   \n",
       "       1998                       57.101157              8.599548   \n",
       "       1999                       58.641339              8.178010   \n",
       "       2000                       59.977596              7.192054   \n",
       "\n",
       "condizione professionale  tasso_attività  tasso_inattività  \n",
       "zona   time                                                 \n",
       "Centro 1996                    61.989994         38.010013  \n",
       "       1997                    61.869790         38.130217  \n",
       "       1998                    62.422181         37.577812  \n",
       "       1999                    63.800830         36.199152  \n",
       "       2000                    64.555989         35.444037  "
      ]
     },
     "execution_count": 74,
     "metadata": {},
     "output_type": "execute_result"
    }
   ],
   "source": [
    "df7.head()\n",
    "\n",
    "#df_regioni = gpd.read_file(filename=\"reg2011_g.shp\")\n",
    "#df_regioni.head()"
   ]
  },
  {
   "cell_type": "code",
   "execution_count": null,
   "metadata": {},
   "outputs": [],
   "source": []
  }
 ],
 "metadata": {
  "kernelspec": {
   "display_name": "Python 3",
   "language": "python",
   "name": "python3"
  },
  "language_info": {
   "codemirror_mode": {
    "name": "ipython",
    "version": 3
   },
   "file_extension": ".py",
   "mimetype": "text/x-python",
   "name": "python",
   "nbconvert_exporter": "python",
   "pygments_lexer": "ipython3",
   "version": "3.8.5"
  }
 },
 "nbformat": 4,
 "nbformat_minor": 4
}
